{
 "cells": [
  {
   "cell_type": "code",
   "execution_count": 1,
   "id": "a49ae77f",
   "metadata": {},
   "outputs": [],
   "source": [
    "from IPython.display import clear_output\n",
    "def display_board(board):\n",
    "    clear_output()\n",
    "    print(board[7] + ' | ' + board[8] + ' | ' + board[9])\n",
    "    print('--|---|--')\n",
    "    print(board[4] + ' | ' + board[5] + ' | ' + board[6])\n",
    "    print('--|---|--')\n",
    "    print(board[1] + ' | ' + board[2] + ' | ' + board[3])"
   ]
  },
  {
   "cell_type": "code",
   "execution_count": 2,
   "id": "378982ea",
   "metadata": {},
   "outputs": [],
   "source": [
    "# test_board = ['#','X','O','X','O','X','O','X','O','X']\n",
    "# display_board(test_board)"
   ]
  },
  {
   "cell_type": "code",
   "execution_count": 3,
   "id": "6760db0d",
   "metadata": {},
   "outputs": [
    {
     "name": "stdout",
     "output_type": "stream",
     "text": [
      "  |   |  \n",
      "--|---|--\n",
      "  |   |  \n",
      "--|---|--\n",
      "  |   |  \n"
     ]
    }
   ],
   "source": [
    "test_boards = [' ']*10\n",
    "display_board(test_boards)"
   ]
  },
  {
   "cell_type": "code",
   "execution_count": 4,
   "id": "4cbd40ef",
   "metadata": {},
   "outputs": [],
   "source": [
    "def player_input():\n",
    "    marker = \" \"\n",
    "    while marker != \"X\" and marker != \"O\":\n",
    "        marker = input(\"Player 1, select X or O :  \").upper()\n",
    "    if marker == 'X':\n",
    "        return (\"X\",\"O\")\n",
    "    else:\n",
    "        return (\"O\",\"X\")\n",
    "\n",
    "# player1 = marker\n",
    "#     if player1 == \"X\":\n",
    "#         player2 = \"O\"\n",
    "#     else:\n",
    "#         player2 = \"X\"\n",
    "#     return (player1,player2)"
   ]
  },
  {
   "cell_type": "code",
   "execution_count": 5,
   "id": "0404dc0a",
   "metadata": {},
   "outputs": [],
   "source": [
    "# player1_marker , player2_marker = player_input()"
   ]
  },
  {
   "cell_type": "code",
   "execution_count": 6,
   "id": "fe92fe5f",
   "metadata": {},
   "outputs": [],
   "source": [
    "# player2_marker"
   ]
  },
  {
   "cell_type": "code",
   "execution_count": 7,
   "id": "b19109c9",
   "metadata": {},
   "outputs": [],
   "source": [
    "def place_marker(board,marker,position):\n",
    "    board[position] = marker"
   ]
  },
  {
   "cell_type": "code",
   "execution_count": 8,
   "id": "ff2bc381",
   "metadata": {},
   "outputs": [],
   "source": [
    "# test_boards"
   ]
  },
  {
   "cell_type": "code",
   "execution_count": 9,
   "id": "fdcfe892",
   "metadata": {},
   "outputs": [],
   "source": [
    "# place_marker(test_boards,\"X\",9)\n",
    "# display_board(test_boards)"
   ]
  },
  {
   "cell_type": "code",
   "execution_count": 10,
   "id": "88956344",
   "metadata": {},
   "outputs": [],
   "source": [
    "# If rows columns, 2 diagonals have same markers\n",
    "\n",
    "def win_check(board,mark):\n",
    "    return((board[1]==mark and board[2] == mark and board[3]==mark) or \n",
    "    (board[4]==mark and board[5] == mark and board[6]==mark) or \n",
    "    (board[7]==mark and board[8] == mark and board[9]==mark) or \n",
    "    (board[1]==mark and board[4] == mark and board[7]==mark) or \n",
    "    (board[2]==mark and board[5] == mark and board[8]==mark) or \n",
    "    (board[3]==mark and board[6] == mark and board[9]==mark) or\n",
    "    (board[7]==mark and board[5] == mark and board[3]==mark) or \n",
    "    (board[9]==mark and board[5] == mark and board[1]==mark))\n",
    "    "
   ]
  },
  {
   "cell_type": "code",
   "execution_count": 11,
   "id": "edb8f034",
   "metadata": {},
   "outputs": [],
   "source": [
    "import random\n",
    "def choose_first():\n",
    "    flip = random.randint(0,1)\n",
    "    \n",
    "    if flip == 0:\n",
    "        return 'Player 1'\n",
    "    else:\n",
    "        return 'Player 2'"
   ]
  },
  {
   "cell_type": "code",
   "execution_count": 12,
   "id": "d73f4a4e",
   "metadata": {},
   "outputs": [],
   "source": [
    "def space_check(board,position):\n",
    "    return board[position] == ' '"
   ]
  },
  {
   "cell_type": "code",
   "execution_count": 13,
   "id": "44fca7a8",
   "metadata": {},
   "outputs": [],
   "source": [
    "def full_board_check(board):\n",
    "    for i in range(1,10):\n",
    "        if space_check(board,i):\n",
    "            return False\n",
    "    return True"
   ]
  },
  {
   "cell_type": "code",
   "execution_count": 14,
   "id": "c802191e",
   "metadata": {},
   "outputs": [],
   "source": [
    "def player_choice(board):\n",
    "    position = 0\n",
    "    while position not in [1,2,3,4,5,6,7,8,9] or not space_check(board,position):\n",
    "        position= int(input(f\"{turn} Choose a position from (1-9):  \"))\n",
    "    return position"
   ]
  },
  {
   "cell_type": "code",
   "execution_count": 15,
   "id": "319fd063",
   "metadata": {},
   "outputs": [],
   "source": [
    "def replay():\n",
    "    ans = \" \"\n",
    "    while ans not in [\"Y\" , \"N\"]:\n",
    "        ans = input(\"Play again? enter Yes or No \")\n",
    "    return ans"
   ]
  },
  {
   "cell_type": "code",
   "execution_count": null,
   "id": "3490c09a",
   "metadata": {},
   "outputs": [
    {
     "name": "stdout",
     "output_type": "stream",
     "text": [
      "O | X | O\n",
      "--|---|--\n",
      "O | X | X\n",
      "--|---|--\n",
      "X | O | X\n",
      "Tie Game!\n",
      "Play again? enter Yes or No N\n"
     ]
    }
   ],
   "source": [
    "# while loop to play the game\n",
    "\n",
    "print(\"welcome to Tic Tac Toe !\")\n",
    "\n",
    "while True:\n",
    "    the_board = [\" \"]*10\n",
    "    player1_marker,player2_marker = player_input()\n",
    "    \n",
    "    turn = choose_first()\n",
    "    print(turn + ' Will go first')\n",
    "        \n",
    "    play_game = input(\"Ready to play? y or n? \")\n",
    "    \n",
    "    if play_game == 'y':\n",
    "        game_on = True\n",
    "    else:\n",
    "        game_on = False\n",
    "    while game_on:\n",
    "        if turn == \"Player 1\":\n",
    "            display_board(the_board)\n",
    "            position = player_choice(the_board)  \n",
    "            place_marker(the_board,player1_marker,position)\n",
    "            if win_check(the_board,player1_marker):\n",
    "                display_board(the_board) \n",
    "                print(\"Player 1 has won!!!\") \n",
    "                game_on = False\n",
    "            else:\n",
    "                if full_board_check(the_board):\n",
    "                    display_board(the_board)\n",
    "                    print(\"Tie Game!\")\n",
    "                    game_on = False\n",
    "                else:\n",
    "                    turn = \"Player 2\"\n",
    "        else:\n",
    "            display_board(the_board)\n",
    "            position = player_choice(the_board)\n",
    "            place_marker(the_board,player2_marker,position)\n",
    "            if win_check(the_board,player2_marker):\n",
    "                display_board(the_board)\n",
    "                print(\"Player 2 has won!!!\")\n",
    "                game_on = False\n",
    "            else:\n",
    "                if full_board_check(the_board):\n",
    "                    display_board(the_board)\n",
    "                    print(\"Tie Game!\")\n",
    "                    game_on = False\n",
    "                else:\n",
    "                    turn = \"Player 1\"   \n",
    "    \n",
    "    if not replay():\n",
    "        break"
   ]
  }
 ],
 "metadata": {
  "kernelspec": {
   "display_name": "Python 3 (ipykernel)",
   "language": "python",
   "name": "python3"
  },
  "language_info": {
   "codemirror_mode": {
    "name": "ipython",
    "version": 3
   },
   "file_extension": ".py",
   "mimetype": "text/x-python",
   "name": "python",
   "nbconvert_exporter": "python",
   "pygments_lexer": "ipython3",
   "version": "3.8.12"
  }
 },
 "nbformat": 4,
 "nbformat_minor": 5
}
