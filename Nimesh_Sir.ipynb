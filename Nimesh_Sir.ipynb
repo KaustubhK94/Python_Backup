{
 "cells": [
  {
   "cell_type": "code",
   "execution_count": 6,
   "id": "8aab0dcf",
   "metadata": {},
   "outputs": [
    {
     "data": {
      "text/plain": [
       "int"
      ]
     },
     "execution_count": 6,
     "metadata": {},
     "output_type": "execute_result"
    }
   ],
   "source": [
    "a = 1\n",
    "type(a)"
   ]
  },
  {
   "cell_type": "code",
   "execution_count": 2,
   "id": "d81ab7a0",
   "metadata": {},
   "outputs": [],
   "source": [
    "character = \"kaustubh\""
   ]
  },
  {
   "cell_type": "code",
   "execution_count": 3,
   "id": "14d32ecf",
   "metadata": {},
   "outputs": [
    {
     "name": "stdout",
     "output_type": "stream",
     "text": [
      "1\n",
      "kaustubh\n"
     ]
    }
   ],
   "source": [
    "print(a)\n",
    "print(character)"
   ]
  },
  {
   "cell_type": "code",
   "execution_count": 4,
   "id": "074d4e97",
   "metadata": {},
   "outputs": [
    {
     "name": "stdout",
     "output_type": "stream",
     "text": [
      "enter your name Kaustubh\n"
     ]
    }
   ],
   "source": [
    "k = input(\"enter your name \")"
   ]
  },
  {
   "cell_type": "code",
   "execution_count": 5,
   "id": "4f3cfe84",
   "metadata": {},
   "outputs": [
    {
     "data": {
      "text/plain": [
       "str"
      ]
     },
     "execution_count": 5,
     "metadata": {},
     "output_type": "execute_result"
    }
   ],
   "source": [
    "type(k)"
   ]
  },
  {
   "cell_type": "code",
   "execution_count": 9,
   "id": "4dc6229d",
   "metadata": {},
   "outputs": [
    {
     "name": "stdout",
     "output_type": "stream",
     "text": [
      "Enter your name : Kaustubh\n",
      "Enter your age: 28\n",
      "Hello Kaustubh I am 28 years old\n"
     ]
    }
   ],
   "source": [
    "name = input(\"Enter your name : \")\n",
    "age = int(input(\"Enter your age: \"))\n",
    "print('Hello ' + name + \" I am \" + str(age) + \" years old\")"
   ]
  },
  {
   "cell_type": "code",
   "execution_count": 10,
   "id": "572b117d",
   "metadata": {},
   "outputs": [
    {
     "name": "stdout",
     "output_type": "stream",
     "text": [
      "i is greater than 5\n"
     ]
    }
   ],
   "source": [
    "i = 6\n",
    "if i>5:\n",
    "    print(\"i is greater than 5\")\n",
    "else:\n",
    "    print(\"i is less than 5\")"
   ]
  },
  {
   "cell_type": "code",
   "execution_count": 11,
   "id": "feafe02c",
   "metadata": {},
   "outputs": [
    {
     "name": "stdout",
     "output_type": "stream",
     "text": [
      "Enter number 12\n",
      "Enter number 15\n",
      "b is greater than a\n"
     ]
    }
   ],
   "source": [
    "a = int(input(\"Enter number \"))\n",
    "b = int(input(\"Enter number \"))\n",
    "if a > b:\n",
    "    print(\"a is greater than b\")\n",
    "else:\n",
    "    print(\"b is greater than a\")"
   ]
  },
  {
   "cell_type": "code",
   "execution_count": 26,
   "id": "0987899c",
   "metadata": {},
   "outputs": [],
   "source": [
    "def add(num1,num2):\n",
    "    return num1 + num2\n",
    "def subtract(num1,num2):\n",
    "    return num1 - num2\n",
    "def multiplication(num1,num2):\n",
    "    return num1 * num2\n",
    "def division(num1,num2):\n",
    "    return num1/num2\n",
    "def remainder(num1,num2):\n",
    "    return(num1%num2)"
   ]
  },
  {
   "cell_type": "code",
   "execution_count": 21,
   "id": "f42cde70",
   "metadata": {},
   "outputs": [
    {
     "name": "stdout",
     "output_type": "stream",
     "text": [
      "Enter number 10\n",
      "Enter number 15\n"
     ]
    }
   ],
   "source": [
    "a = int(input(\"Enter number \"))\n",
    "b = int(input(\"Enter number \"))"
   ]
  },
  {
   "cell_type": "code",
   "execution_count": 22,
   "id": "92dcee7c",
   "metadata": {},
   "outputs": [
    {
     "data": {
      "text/plain": [
       "25"
      ]
     },
     "execution_count": 22,
     "metadata": {},
     "output_type": "execute_result"
    }
   ],
   "source": [
    "add(a,b)"
   ]
  },
  {
   "cell_type": "code",
   "execution_count": 23,
   "id": "6bc74d69",
   "metadata": {},
   "outputs": [
    {
     "data": {
      "text/plain": [
       "-5"
      ]
     },
     "execution_count": 23,
     "metadata": {},
     "output_type": "execute_result"
    }
   ],
   "source": [
    "subtract(a,b)"
   ]
  },
  {
   "cell_type": "code",
   "execution_count": 24,
   "id": "5141a5e3",
   "metadata": {},
   "outputs": [
    {
     "data": {
      "text/plain": [
       "150"
      ]
     },
     "execution_count": 24,
     "metadata": {},
     "output_type": "execute_result"
    }
   ],
   "source": [
    "multiplication(a,b)"
   ]
  },
  {
   "cell_type": "code",
   "execution_count": 25,
   "id": "3372474d",
   "metadata": {},
   "outputs": [
    {
     "data": {
      "text/plain": [
       "0.6666666666666666"
      ]
     },
     "execution_count": 25,
     "metadata": {},
     "output_type": "execute_result"
    }
   ],
   "source": [
    "division(a,b)"
   ]
  },
  {
   "cell_type": "code",
   "execution_count": 27,
   "id": "a128a011",
   "metadata": {},
   "outputs": [
    {
     "data": {
      "text/plain": [
       "10"
      ]
     },
     "execution_count": 27,
     "metadata": {},
     "output_type": "execute_result"
    }
   ],
   "source": [
    "remainder(a,b)"
   ]
  },
  {
   "cell_type": "code",
   "execution_count": 31,
   "id": "542ef471",
   "metadata": {},
   "outputs": [
    {
     "name": "stdout",
     "output_type": "stream",
     "text": [
      "Enter number 10\n",
      "Enter number 10\n",
      "both are equal \n"
     ]
    }
   ],
   "source": [
    "a = int(input(\"Enter number \"))\n",
    "b = int(input(\"Enter number \"))\n",
    "if (a > b):\n",
    "    print(\"a is greater than b\")\n",
    "elif (a < b):\n",
    "    print(\"b is greater than a\")\n",
    "else:\n",
    "    print(\"both are equal \")"
   ]
  },
  {
   "cell_type": "code",
   "execution_count": 38,
   "id": "7b4db8e3",
   "metadata": {},
   "outputs": [
    {
     "name": "stdout",
     "output_type": "stream",
     "text": [
      "Enter your marks here 98\n",
      "Grade A\n"
     ]
    }
   ],
   "source": [
    "marks = int(input(\"Enter your marks here \"))\n",
    "if (marks >= 80):\n",
    "    print(\"Grade A\")\n",
    "elif (marks >= 70):\n",
    "    print(\"Grade B\")\n",
    "elif (marks >= 60):\n",
    "    print(\"Grade C\")\n",
    "elif (marks >= 50):\n",
    "    print(\"Grade D\")\n",
    "else:\n",
    "    print(\"Grade F\")"
   ]
  },
  {
   "cell_type": "code",
   "execution_count": 40,
   "id": "1317ba12",
   "metadata": {},
   "outputs": [],
   "source": [
    "def grade():\n",
    "    marks = int(input(\"Enter your marks here \"))\n",
    "    if (marks >= 80):\n",
    "        print(\"Grade A\")\n",
    "    elif (marks >= 70):\n",
    "        print(\"Grade B\")\n",
    "    elif (marks >= 60):\n",
    "        print(\"Grade C\")\n",
    "    elif (marks >= 50):\n",
    "        print(\"Grade D\")\n",
    "    else:\n",
    "        print(\"Grade F\")\n",
    "    "
   ]
  },
  {
   "cell_type": "code",
   "execution_count": 41,
   "id": "a4129606",
   "metadata": {},
   "outputs": [
    {
     "name": "stdout",
     "output_type": "stream",
     "text": [
      "Enter your marks here 55\n",
      "Grade D\n"
     ]
    }
   ],
   "source": [
    "grade()"
   ]
  },
  {
   "cell_type": "code",
   "execution_count": null,
   "id": "7ef3d9c7",
   "metadata": {},
   "outputs": [],
   "source": [
    "# def discount_price(num):\n",
    "#     if num > 300:\n",
    "#         return num * 0.3\n",
    "#     elif 300 > num > 200:\n",
    "        "
   ]
  },
  {
   "cell_type": "code",
   "execution_count": 32,
   "id": "1e02880e",
   "metadata": {},
   "outputs": [
    {
     "name": "stdout",
     "output_type": "stream",
     "text": [
      "Enter a number: 10\n",
      "10×1=10\n",
      "10×2=20\n",
      "10×3=30\n",
      "10×4=40\n",
      "10×5=50\n",
      "10×6=60\n",
      "10×7=70\n",
      "10×8=80\n",
      "10×9=90\n",
      "10×10=100\n"
     ]
    }
   ],
   "source": [
    "num = int(input(\"Enter a number: \"))\n",
    "i = 1\n",
    "while i < 11:\n",
    "    print(f\"{num}×{i}={num*i}\")\n",
    "    i = i+1"
   ]
  },
  {
   "cell_type": "code",
   "execution_count": 24,
   "id": "4dabf51c",
   "metadata": {},
   "outputs": [
    {
     "name": "stdout",
     "output_type": "stream",
     "text": [
      "Enter the number\n",
      "10\n",
      "10 X 1 = 10\n",
      "10 X 2 = 20\n",
      "10 X 3 = 30\n",
      "10 X 4 = 40\n",
      "10 X 5 = 50\n",
      "10 X 6 = 60\n",
      "10 X 7 = 70\n",
      "10 X 8 = 80\n",
      "10 X 9 = 90\n",
      "10 X 10 = 100\n"
     ]
    }
   ],
   "source": [
    "num = int(input(\"Enter the number\"))\n",
    "for i in range(1,11):\n",
    "    print(str(num) + \" X \" + str(i) + \" = \" + str(num*i))"
   ]
  },
  {
   "cell_type": "code",
   "execution_count": 43,
   "id": "ef4a4402",
   "metadata": {},
   "outputs": [
    {
     "name": "stdout",
     "output_type": "stream",
     "text": [
      "Enter the number 8\n",
      "8 X 1 = 8\n",
      "8 X 2 = 16\n",
      "8 X 3 = 24\n",
      "8 X 4 = 32\n",
      "8 X 5 = 40\n",
      "8 X 6 = 48\n",
      "8 X 7 = 56\n",
      "8 X 8 = 64\n",
      "8 X 9 = 72\n",
      "8 X 10 = 80\n"
     ]
    }
   ],
   "source": [
    "num = int(input(\"Enter the number \"))\n",
    "for i in range(1,11):\n",
    "    print(f\"{num} X {i} = {num*i}\")"
   ]
  },
  {
   "cell_type": "code",
   "execution_count": 34,
   "id": "52fe8a25",
   "metadata": {},
   "outputs": [
    {
     "name": "stdout",
     "output_type": "stream",
     "text": [
      "5\n",
      "10\n",
      "15\n",
      "20\n",
      "25\n",
      "30\n",
      "35\n",
      "40\n",
      "45\n",
      "50\n"
     ]
    }
   ],
   "source": [
    "#  first is start, end and step size...\n",
    "for i in range(5,51,5):\n",
    "    print(i)"
   ]
  },
  {
   "cell_type": "code",
   "execution_count": 42,
   "id": "08ba07ca",
   "metadata": {},
   "outputs": [
    {
     "name": "stdout",
     "output_type": "stream",
     "text": [
      "Enter the number 10\n",
      "10\n",
      "20\n",
      "30\n",
      "40\n",
      "50\n",
      "60\n",
      "70\n",
      "80\n",
      "90\n",
      "100\n"
     ]
    }
   ],
   "source": [
    "num = int(input(\"Enter the number \"))\n",
    "for i in range(num,num*11,num):\n",
    "    print(i)"
   ]
  },
  {
   "cell_type": "code",
   "execution_count": 47,
   "id": "ed05a308",
   "metadata": {},
   "outputs": [
    {
     "name": "stdout",
     "output_type": "stream",
     "text": [
      "5050\n"
     ]
    }
   ],
   "source": [
    "sum = 0\n",
    "for i in range(1,101):\n",
    "    sum = sum + i\n",
    "print(sum)"
   ]
  },
  {
   "cell_type": "code",
   "execution_count": 50,
   "id": "b9ff3afa",
   "metadata": {},
   "outputs": [
    {
     "name": "stdout",
     "output_type": "stream",
     "text": [
      "5050\n"
     ]
    }
   ],
   "source": [
    "sum = 0\n",
    "i = 1\n",
    "while i <= 100:\n",
    "    sum += i \n",
    "    i += 1\n",
    "print(sum)"
   ]
  },
  {
   "cell_type": "code",
   "execution_count": 59,
   "id": "d645141b",
   "metadata": {},
   "outputs": [],
   "source": [
    "# Fibonacci series till given number..\n",
    "def fib_num():\n",
    "    n = int(input(\"Enter the no. \"))\n",
    "    fib_list = [0,1]\n",
    "    while n < 0:\n",
    "        return int(input(\"Enter the no. \"))\n",
    "    if n == 1:\n",
    "        return fib_list\n",
    "    else:\n",
    "        i = 1\n",
    "        while i < n:\n",
    "            fib_list.append(i)\n",
    "            i += fib_list[-2]\n",
    "        print(fib_list)"
   ]
  },
  {
   "cell_type": "code",
   "execution_count": 60,
   "id": "0726c02e",
   "metadata": {},
   "outputs": [
    {
     "name": "stdout",
     "output_type": "stream",
     "text": [
      "Enter the no. 100\n",
      "[0, 1, 1, 2, 3, 5, 8, 13, 21, 34, 55, 89]\n"
     ]
    }
   ],
   "source": [
    "fib_num()"
   ]
  },
  {
   "cell_type": "code",
   "execution_count": 64,
   "id": "ca91e1a9",
   "metadata": {},
   "outputs": [],
   "source": [
    "# will first 100 no. of Fibonacci series \n",
    "def fib():\n",
    "    n = int(input(\"Enter the no. \"))\n",
    "    fib_list = [0,1]\n",
    "    while n < 0:\n",
    "        return int(input(\"Enter the no. \"))\n",
    "    if n == 1:\n",
    "        return fib_list\n",
    "    else:\n",
    "        i = 1\n",
    "        while len(fib_list) <= n:\n",
    "            fib_list.append(i)\n",
    "            i += fib_list[-2]\n",
    "        print(fib_list)"
   ]
  },
  {
   "cell_type": "code",
   "execution_count": 65,
   "id": "87a28430",
   "metadata": {},
   "outputs": [
    {
     "name": "stdout",
     "output_type": "stream",
     "text": [
      "Enter the no. 100\n",
      "[0, 1, 1, 2, 3, 5, 8, 13, 21, 34, 55, 89, 144, 233, 377, 610, 987, 1597, 2584, 4181, 6765, 10946, 17711, 28657, 46368, 75025, 121393, 196418, 317811, 514229, 832040, 1346269, 2178309, 3524578, 5702887, 9227465, 14930352, 24157817, 39088169, 63245986, 102334155, 165580141, 267914296, 433494437, 701408733, 1134903170, 1836311903, 2971215073, 4807526976, 7778742049, 12586269025, 20365011074, 32951280099, 53316291173, 86267571272, 139583862445, 225851433717, 365435296162, 591286729879, 956722026041, 1548008755920, 2504730781961, 4052739537881, 6557470319842, 10610209857723, 17167680177565, 27777890035288, 44945570212853, 72723460248141, 117669030460994, 190392490709135, 308061521170129, 498454011879264, 806515533049393, 1304969544928657, 2111485077978050, 3416454622906707, 5527939700884757, 8944394323791464, 14472334024676221, 23416728348467685, 37889062373143906, 61305790721611591, 99194853094755497, 160500643816367088, 259695496911122585, 420196140727489673, 679891637638612258, 1100087778366101931, 1779979416004714189, 2880067194370816120, 4660046610375530309, 7540113804746346429, 12200160415121876738, 19740274219868223167, 31940434634990099905, 51680708854858323072, 83621143489848422977, 135301852344706746049, 218922995834555169026, 354224848179261915075]\n"
     ]
    }
   ],
   "source": [
    "fib()"
   ]
  },
  {
   "cell_type": "code",
   "execution_count": 163,
   "id": "ce2a2689",
   "metadata": {},
   "outputs": [],
   "source": [
    "def fact_fr():\n",
    "    n = int(input(\"Enter the number \"))\n",
    "    fact = 1\n",
    "    for i in range(1,n+1):\n",
    "        fact = fact * i\n",
    "        i = i + 1\n",
    "    print(\"The factorial of {} is {}\".format(n,fact))"
   ]
  },
  {
   "cell_type": "code",
   "execution_count": 164,
   "id": "48ce0dd8",
   "metadata": {},
   "outputs": [
    {
     "name": "stdout",
     "output_type": "stream",
     "text": [
      "Enter the number 10\n",
      "The factorial of 10 is 3628800\n"
     ]
    }
   ],
   "source": [
    "fact_fr()"
   ]
  },
  {
   "cell_type": "code",
   "execution_count": 4,
   "id": "fe758c59",
   "metadata": {},
   "outputs": [],
   "source": [
    "import sys\n",
    "sys.setrecursionlimit(3000)\n",
    "def factorial(num):\n",
    "    if num == 1 or num == 0:\n",
    "        return 1 \n",
    "    return num*factorial(num-1)"
   ]
  },
  {
   "cell_type": "code",
   "execution_count": 5,
   "id": "bf90cda3",
   "metadata": {},
   "outputs": [
    {
     "data": {
      "text/plain": [
       "3628800"
      ]
     },
     "execution_count": 5,
     "metadata": {},
     "output_type": "execute_result"
    }
   ],
   "source": [
    "factorial(10)"
   ]
  },
  {
   "cell_type": "code",
   "execution_count": 158,
   "id": "fcb59967",
   "metadata": {},
   "outputs": [],
   "source": [
    "def fact_wh():\n",
    "    n = int(input(\"Enter the number \"))\n",
    "    fact = 1\n",
    "    i = 1\n",
    "    while i <= n:\n",
    "        fact = fact * i\n",
    "        i += 1\n",
    "    return fact"
   ]
  },
  {
   "cell_type": "code",
   "execution_count": 159,
   "id": "ffbb6c50",
   "metadata": {},
   "outputs": [
    {
     "name": "stdout",
     "output_type": "stream",
     "text": [
      "Enter the number 10\n"
     ]
    },
    {
     "data": {
      "text/plain": [
       "3628800"
      ]
     },
     "execution_count": 159,
     "metadata": {},
     "output_type": "execute_result"
    }
   ],
   "source": [
    "fact_wh()"
   ]
  },
  {
   "cell_type": "code",
   "execution_count": 182,
   "id": "0697d3b8",
   "metadata": {},
   "outputs": [],
   "source": [
    "import matplotlib.pyplot as plt\n",
    "%matplotlib inline"
   ]
  },
  {
   "cell_type": "code",
   "execution_count": 196,
   "id": "055d9205",
   "metadata": {},
   "outputs": [
    {
     "name": "stdout",
     "output_type": "stream",
     "text": [
      "{1: 1, 2: 2, 3: 6, 4: 24, 5: 120, 6: 720, 7: 5040, 8: 40320, 9: 362880, 10: 3628800, 11: 39916800, 12: 479001600, 13: 6227020800, 14: 87178291200, 15: 1307674368000, 16: 20922789888000, 17: 355687428096000, 18: 6402373705728000, 19: 121645100408832000, 20: 2432902008176640000, 21: 51090942171709440000, 22: 1124000727777607680000, 23: 25852016738884976640000, 24: 620448401733239439360000, 25: 15511210043330985984000000, 26: 403291461126605635584000000, 27: 10888869450418352160768000000, 28: 304888344611713860501504000000, 29: 8841761993739701954543616000000, 30: 265252859812191058636308480000000}\n"
     ]
    }
   ],
   "source": [
    "factorials = {}\n",
    "fact = 1\n",
    "for i in range(1,31):\n",
    "    fact = fact * i\n",
    "    factorials[i] = fact\n",
    "    i = i + 1\n",
    "print(factorials)    "
   ]
  },
  {
   "cell_type": "code",
   "execution_count": 197,
   "id": "9fbd9373",
   "metadata": {},
   "outputs": [
    {
     "data": {
      "image/png": "[encoded data removed]",
      "text/plain": [
       "<Figure size 432x288 with 1 Axes>"
      ]
     },
     "metadata": {
      "needs_background": "light"
     },
     "output_type": "display_data"
    }
   ],
   "source": [
    "plt.figure()\n",
    "plt.plot(list(factorials.keys()), list(factorials.values()))\n",
    "plt.xlabel(\"Number\")\n",
    "plt.ylabel(\"Factorial\")\n",
    "plt.title(\"Function\")\n",
    "plt.show()"
   ]
  },
  {
   "cell_type": "code",
   "execution_count": 114,
   "id": "68c16a11",
   "metadata": {},
   "outputs": [
    {
     "name": "stdout",
     "output_type": "stream",
     "text": [
      "In the year 1975 West Indies won the world cup\n",
      "In the year 1979 West Indies won the world cup\n",
      "In the year 1983 India won the world cup\n",
      "In the year 1987 Australia won the world cup\n",
      "In the year 1992 Porkistan won the world cup\n",
      "In the year 1996 SriLanka won the world cup\n",
      "In the year 1999 Australia won the world cup\n",
      "In the year 2003 Australia won the world cup\n",
      "In the year 2007 Australia won the world cup\n",
      "In the year 2011 India won the world cup\n",
      "In the year 2015 Australia won the world cup\n",
      "In the year 2019 England won the world cup\n"
     ]
    }
   ],
   "source": [
    "world_cup = [[1975,\"West Indies\"],\n",
    "         [1979,\"West Indies\"],\n",
    "         [1983,\"India\"],\n",
    "         [1987,\"Australia\"],\n",
    "         [1992,\"Porkistan\"],\n",
    "         [1996,\"SriLanka\"],\n",
    "         [1999,\"Australia\"],\n",
    "         [2003,\"Australia\"],\n",
    "         [2007,\"Australia\"],\n",
    "         [2011,\"India\"],\n",
    "         [2015,\"Australia\"],\n",
    "         [2019,\"England\"]]\n",
    "for i in range(0,len(world_cup)):\n",
    "    print(\"In the year\",world_cup[i][0],world_cup[i][1],\"won the world cup\")"
   ]
  },
  {
   "cell_type": "code",
   "execution_count": 48,
   "id": "3d172192",
   "metadata": {},
   "outputs": [
    {
     "name": "stdout",
     "output_type": "stream",
     "text": [
      "[[1975, 'West Indies'], [1979, 'West Indies'], [1983, 'India'], [1987, 'Australia'], [1992, 'Porkistan'], [1996, 'Sri Lanka'], [1999, 'Australia'], [2003, 'Australia'], [2007, 'Australia'], [2011, 'India'], [2015, 'Australia'], [2019, 'England']]\n"
     ]
    }
   ],
   "source": [
    "print(world_cup)"
   ]
  },
  {
   "cell_type": "code",
   "execution_count": 59,
   "id": "3abf14db",
   "metadata": {},
   "outputs": [
    {
     "name": "stdout",
     "output_type": "stream",
     "text": [
      "['John Snow', 'Winterfell', 30, 'Ghost']\n",
      "Name:  John\n",
      "Kingdom:  Winterfell\n",
      "Age:  30\n",
      "4\n"
     ]
    }
   ],
   "source": [
    "john_snow = [\"John Snow\",\"Winterfell\",30,\"Ghost\"]\n",
    "print(john_snow)\n",
    "print(\"Name: \",john_snow[0][0:4])\n",
    "print(\"Kingdom: \" ,john_snow[1])\n",
    "print(\"Age: \",john_snow[2])\n",
    "print(len(john_snow))"
   ]
  },
  {
   "cell_type": "code",
   "execution_count": 62,
   "id": "e9a21e2d",
   "metadata": {},
   "outputs": [],
   "source": [
    "# new_lst =list(range(1,11,1))"
   ]
  },
  {
   "cell_type": "code",
   "execution_count": 64,
   "id": "fff18534",
   "metadata": {},
   "outputs": [],
   "source": [
    "# new_lst"
   ]
  },
  {
   "cell_type": "code",
   "execution_count": 119,
   "id": "b1c11adf",
   "metadata": {},
   "outputs": [],
   "source": [
    "#  LIST COMPREHENSION\n",
    "cm_lst = [x**2 for x in range(1,11) ]\n"
   ]
  },
  {
   "cell_type": "code",
   "execution_count": 28,
   "id": "fc27de2c",
   "metadata": {},
   "outputs": [
    {
     "data": {
      "text/plain": [
       "[0, 1, 2, 3, 4, 5, 6, 7, 8, 9, 10]"
      ]
     },
     "execution_count": 28,
     "metadata": {},
     "output_type": "execute_result"
    }
   ],
   "source": [
    "from math import pi\n",
    "rad = list(range(0,11))\n",
    "# area_circle = 2*pi*r**(2)\n",
    "rad"
   ]
  },
  {
   "cell_type": "code",
   "execution_count": 29,
   "id": "0e4b8cde",
   "metadata": {},
   "outputs": [],
   "source": [
    "ent = []\n",
    "for i in rad:\n",
    "    area = 2*pi*i\n",
    "    ent.append(area)"
   ]
  },
  {
   "cell_type": "code",
   "execution_count": 30,
   "id": "ea786158",
   "metadata": {},
   "outputs": [
    {
     "data": {
      "text/plain": [
       "[0.0,\n",
       " 6.283185307179586,\n",
       " 12.566370614359172,\n",
       " 18.84955592153876,\n",
       " 25.132741228718345,\n",
       " 31.41592653589793,\n",
       " 37.69911184307752,\n",
       " 43.982297150257104,\n",
       " 50.26548245743669,\n",
       " 56.548667764616276,\n",
       " 62.83185307179586]"
      ]
     },
     "execution_count": 30,
     "metadata": {},
     "output_type": "execute_result"
    }
   ],
   "source": [
    "ent"
   ]
  },
  {
   "cell_type": "code",
   "execution_count": 31,
   "id": "fc3dbf22",
   "metadata": {},
   "outputs": [
    {
     "data": {
      "image/png": "[encoded data removed]",
      "text/plain": [
       "<Figure size 432x288 with 1 Axes>"
      ]
     },
     "metadata": {
      "needs_background": "light"
     },
     "output_type": "display_data"
    }
   ],
   "source": [
    "import matplotlib.pyplot as plt\n",
    "%matplotlib inline\n",
    "plt.figure()\n",
    "plt.plot(rad,ent)\n",
    "plt.xlabel(\"Radius\")                           \n",
    "plt.ylabel(\"Circumference\")\n",
    "plt.title(\"redvscircum\")\n",
    "plt.show()"
   ]
  },
  {
   "cell_type": "code",
   "execution_count": null,
   "id": "7474e3de",
   "metadata": {},
   "outputs": [],
   "source": []
  },
  {
   "cell_type": "code",
   "execution_count": 121,
   "id": "458592c9",
   "metadata": {},
   "outputs": [
    {
     "data": {
      "text/plain": [
       "[1, 4, 9, 16, 25, 36, 49, 64, 81, 100]"
      ]
     },
     "execution_count": 121,
     "metadata": {},
     "output_type": "execute_result"
    }
   ],
   "source": [
    "cm_lst"
   ]
  },
  {
   "cell_type": "code",
   "execution_count": 123,
   "id": "c15c3003",
   "metadata": {},
   "outputs": [
    {
     "data": {
      "text/plain": [
       "[13, 26, 39, 52, 65, 78, 91, 104, 117, 130]"
      ]
     },
     "execution_count": 123,
     "metadata": {},
     "output_type": "execute_result"
    }
   ],
   "source": [
    "km_list = [13*i for i in range(1,11)]\n",
    "km_list"
   ]
  },
  {
   "cell_type": "code",
   "execution_count": 73,
   "id": "1e8bc591",
   "metadata": {},
   "outputs": [
    {
     "data": {
      "text/plain": [
       "{'world_cup': [[1975, 'West Indies'],\n",
       "  [1979, 'West Indies'],\n",
       "  [1983, 'India'],\n",
       "  [1987, 'Australia'],\n",
       "  [1992, 'Porkistan'],\n",
       "  [1996, 'Sri Lanka'],\n",
       "  [1999, 'Australia'],\n",
       "  [2003, 'Australia'],\n",
       "  [2007, 'Australia'],\n",
       "  [2011, 'India'],\n",
       "  [2015, 'Australia'],\n",
       "  [2019, 'England']]}"
      ]
     },
     "execution_count": 73,
     "metadata": {},
     "output_type": "execute_result"
    }
   ],
   "source": [
    "dict(world_cup = [[1975,\"West Indies\"],\n",
    "         [1979,\"West Indies\"],\n",
    "         [1983,\"India\"],\n",
    "         [1987,\"Australia\"],\n",
    "         [1992,\"Porkistan\"],\n",
    "         [1996,\"Sri Lanka\"],\n",
    "         [1999,\"Australia\"],\n",
    "         [2003,\"Australia\"],\n",
    "         [2007,\"Australia\"],\n",
    "         [2011,\"India\"],\n",
    "         [2015,\"Australia\"],\n",
    "         [2019,\"England\"]])"
   ]
  },
  {
   "cell_type": "code",
   "execution_count": 124,
   "id": "309484e3",
   "metadata": {},
   "outputs": [],
   "source": [
    "num = [1,21,42,19,34,27]"
   ]
  },
  {
   "cell_type": "code",
   "execution_count": 126,
   "id": "837a7659",
   "metadata": {},
   "outputs": [],
   "source": [
    "num.sort()"
   ]
  },
  {
   "cell_type": "code",
   "execution_count": 127,
   "id": "8d3b17f4",
   "metadata": {},
   "outputs": [
    {
     "data": {
      "text/plain": [
       "42"
      ]
     },
     "execution_count": 127,
     "metadata": {},
     "output_type": "execute_result"
    }
   ],
   "source": [
    "num[-1]"
   ]
  },
  {
   "cell_type": "code",
   "execution_count": 150,
   "id": "bb3b6c59",
   "metadata": {},
   "outputs": [],
   "source": [
    "numbers = [-40,-35,-82,-14,-22,-66,-53,-1]"
   ]
  },
  {
   "cell_type": "code",
   "execution_count": 151,
   "id": "3a3d1f3a",
   "metadata": {},
   "outputs": [
    {
     "data": {
      "text/plain": [
       "-1"
      ]
     },
     "execution_count": 151,
     "metadata": {},
     "output_type": "execute_result"
    }
   ],
   "source": [
    "numbers.sort()\n",
    "numbers[-1]"
   ]
  },
  {
   "cell_type": "code",
   "execution_count": 154,
   "id": "bbe1b8f2",
   "metadata": {},
   "outputs": [],
   "source": [
    "# print(max(numbers))"
   ]
  },
  {
   "cell_type": "code",
   "execution_count": null,
   "id": "de23c797",
   "metadata": {},
   "outputs": [],
   "source": []
  },
  {
   "cell_type": "code",
   "execution_count": null,
   "id": "368e27ce",
   "metadata": {},
   "outputs": [],
   "source": []
  },
  {
   "cell_type": "code",
   "execution_count": null,
   "id": "c82df1bc",
   "metadata": {},
   "outputs": [],
   "source": []
  },
  {
   "cell_type": "code",
   "execution_count": 1,
   "id": "478dcb75",
   "metadata": {},
   "outputs": [],
   "source": [
    "# import numpy as np"
   ]
  },
  {
   "cell_type": "code",
   "execution_count": 244,
   "id": "ade55427",
   "metadata": {},
   "outputs": [],
   "source": [
    "# my_lst.sort()"
   ]
  },
  {
   "cell_type": "code",
   "execution_count": 267,
   "id": "01cd8ebb",
   "metadata": {},
   "outputs": [],
   "source": [
    "# my_lst[-1]"
   ]
  },
  {
   "cell_type": "code",
   "execution_count": 266,
   "id": "0abf7ef6",
   "metadata": {},
   "outputs": [],
   "source": [
    "# my_lst[1]"
   ]
  },
  {
   "cell_type": "code",
   "execution_count": 265,
   "id": "82a84d43",
   "metadata": {},
   "outputs": [],
   "source": [
    "# max(my_lst)"
   ]
  },
  {
   "cell_type": "code",
   "execution_count": 247,
   "id": "da53e665",
   "metadata": {},
   "outputs": [],
   "source": [
    "# def min_max_scal(lst):\n",
    "#     lsts = []\n",
    "#     lst.sort()\n",
    "#     v = lst[-1] - lst[0]\n",
    "#     print(v)\n",
    "#     for i in lst:\n",
    "#         k = i-lst[0]/v\n",
    "#         print(k)\n",
    "#         lsts.append(k)\n",
    "#     return lsts"
   ]
  },
  {
   "cell_type": "code",
   "execution_count": 268,
   "id": "424762ee",
   "metadata": {},
   "outputs": [],
   "source": [
    "# nomralised = min_max_scal(my_lst)"
   ]
  },
  {
   "cell_type": "code",
   "execution_count": 269,
   "id": "5dbe3e44",
   "metadata": {},
   "outputs": [],
   "source": [
    "# nomralised"
   ]
  },
  {
   "cell_type": "code",
   "execution_count": 270,
   "id": "dfd37f76",
   "metadata": {},
   "outputs": [],
   "source": [
    "my_lst = [26,33,78,28,34,55,25,44,50,36,26,37,43,62,35,38,45,32,28,34,49,54,27,60,35,40,55,28,36,52]"
   ]
  },
  {
   "cell_type": "code",
   "execution_count": 276,
   "id": "f4085b83",
   "metadata": {},
   "outputs": [],
   "source": [
    "# sns.displot(nomralised,kde=True)"
   ]
  },
  {
   "cell_type": "code",
   "execution_count": 277,
   "id": "dc61bfd8",
   "metadata": {},
   "outputs": [
    {
     "data": {
      "text/plain": [
       "30"
      ]
     },
     "execution_count": 277,
     "metadata": {},
     "output_type": "execute_result"
    }
   ],
   "source": [
    "len(my_lst)"
   ]
  },
  {
   "cell_type": "code",
   "execution_count": 278,
   "id": "72e6866a",
   "metadata": {},
   "outputs": [],
   "source": [
    "import seaborn as sns"
   ]
  },
  {
   "cell_type": "code",
   "execution_count": 279,
   "id": "6effc19a",
   "metadata": {},
   "outputs": [
    {
     "name": "stderr",
     "output_type": "stream",
     "text": [
      "C:\\ProgramData\\Anaconda3\\lib\\site-packages\\seaborn\\_decorators.py:36: FutureWarning:\n",
      "\n",
      "Pass the following variable as a keyword arg: x. From version 0.12, the only valid positional argument will be `data`, and passing other arguments without an explicit keyword will result in an error or misinterpretation.\n",
      "\n"
     ]
    },
    {
     "data": {
      "text/plain": [
       "<AxesSubplot:>"
      ]
     },
     "execution_count": 279,
     "metadata": {},
     "output_type": "execute_result"
    },
    {
     "data": {
      "image/png": "[encoded data removed]",
      "text/plain": [
       "<Figure size 432x288 with 1 Axes>"
      ]
     },
     "metadata": {
      "needs_background": "light"
     },
     "output_type": "display_data"
    }
   ],
   "source": [
    "sns.boxplot(my_lst)"
   ]
  },
  {
   "cell_type": "code",
   "execution_count": 280,
   "id": "c885dca2",
   "metadata": {},
   "outputs": [],
   "source": [
    "arr = np.array(my_lst)"
   ]
  },
  {
   "cell_type": "code",
   "execution_count": 281,
   "id": "4c4b10ec",
   "metadata": {},
   "outputs": [
    {
     "data": {
      "text/plain": [
       "array([26, 33, 78, 28, 34, 55, 25, 44, 50, 36, 26, 37, 43, 62, 35, 38, 45,\n",
       "       32, 28, 34, 49, 54, 27, 60, 35, 40, 55, 28, 36, 52])"
      ]
     },
     "execution_count": 281,
     "metadata": {},
     "output_type": "execute_result"
    }
   ],
   "source": [
    "arr"
   ]
  },
  {
   "cell_type": "code",
   "execution_count": 282,
   "id": "ae1c3fe4",
   "metadata": {},
   "outputs": [],
   "source": [
    "sns.set(style = \"darkgrid\",color_codes = True)"
   ]
  },
  {
   "cell_type": "code",
   "execution_count": 283,
   "id": "68eee8b5",
   "metadata": {},
   "outputs": [],
   "source": [
    "my_lst.sort()"
   ]
  },
  {
   "cell_type": "code",
   "execution_count": 284,
   "id": "3ff83f26",
   "metadata": {},
   "outputs": [],
   "source": [
    "n = sum(my_lst)"
   ]
  },
  {
   "cell_type": "code",
   "execution_count": 285,
   "id": "720bab30",
   "metadata": {},
   "outputs": [],
   "source": [
    "p = n/len(my_lst)"
   ]
  },
  {
   "cell_type": "code",
   "execution_count": 286,
   "id": "30a0b7bd",
   "metadata": {},
   "outputs": [
    {
     "data": {
      "text/plain": [
       "40.833333333333336"
      ]
     },
     "execution_count": 286,
     "metadata": {},
     "output_type": "execute_result"
    }
   ],
   "source": [
    "p"
   ]
  },
  {
   "cell_type": "code",
   "execution_count": 287,
   "id": "397ac3f8",
   "metadata": {},
   "outputs": [
    {
     "data": {
      "text/plain": [
       "<seaborn.axisgrid.FacetGrid at 0x20972ca8700>"
      ]
     },
     "execution_count": 287,
     "metadata": {},
     "output_type": "execute_result"
    },
    {
     "data": {
      "image/png": "[encoded data removed]",
      "text/plain": [
       "<Figure size 360x360 with 1 Axes>"
      ]
     },
     "metadata": {},
     "output_type": "display_data"
    }
   ],
   "source": [
    "sns.displot(my_lst,kde=True)"
   ]
  },
  {
   "cell_type": "code",
   "execution_count": 288,
   "id": "9093e571",
   "metadata": {},
   "outputs": [],
   "source": [
    "log_lst = np.log(arr)"
   ]
  },
  {
   "cell_type": "code",
   "execution_count": 289,
   "id": "f6822f3a",
   "metadata": {},
   "outputs": [
    {
     "data": {
      "text/plain": [
       "array([3.25809654, 3.49650756, 4.35670883, 3.33220451, 3.52636052,\n",
       "       4.00733319, 3.21887582, 3.78418963, 3.91202301, 3.58351894,\n",
       "       3.25809654, 3.61091791, 3.76120012, 4.12713439, 3.55534806,\n",
       "       3.63758616, 3.80666249, 3.4657359 , 3.33220451, 3.52636052,\n",
       "       3.8918203 , 3.98898405, 3.29583687, 4.09434456, 3.55534806,\n",
       "       3.68887945, 4.00733319, 3.33220451, 3.58351894, 3.95124372])"
      ]
     },
     "execution_count": 289,
     "metadata": {},
     "output_type": "execute_result"
    }
   ],
   "source": [
    "log_lst"
   ]
  },
  {
   "cell_type": "code",
   "execution_count": 290,
   "id": "317e61e8",
   "metadata": {},
   "outputs": [
    {
     "data": {
      "text/plain": [
       "<seaborn.axisgrid.FacetGrid at 0x209735a4f40>"
      ]
     },
     "execution_count": 290,
     "metadata": {},
     "output_type": "execute_result"
    },
    {
     "data": {
      "image/png": "[encoded data removed]",
      "text/plain": [
       "<Figure size 360x360 with 1 Axes>"
      ]
     },
     "metadata": {},
     "output_type": "display_data"
    }
   ],
   "source": [
    "sns.displot(log_lst,kde=True)"
   ]
  },
  {
   "cell_type": "code",
   "execution_count": 313,
   "id": "929ae23a",
   "metadata": {},
   "outputs": [],
   "source": [
    "log_lst_ten = np.log10(arr)"
   ]
  },
  {
   "cell_type": "code",
   "execution_count": 314,
   "id": "2a7f9f0d",
   "metadata": {},
   "outputs": [
    {
     "data": {
      "text/plain": [
       "array([1.41497335, 1.51851394, 1.8920946 , 1.44715803, 1.53147892,\n",
       "       1.74036269, 1.39794001, 1.64345268, 1.69897   , 1.5563025 ,\n",
       "       1.41497335, 1.56820172, 1.63346846, 1.79239169, 1.54406804,\n",
       "       1.5797836 , 1.65321251, 1.50514998, 1.44715803, 1.53147892,\n",
       "       1.69019608, 1.73239376, 1.43136376, 1.77815125, 1.54406804,\n",
       "       1.60205999, 1.74036269, 1.44715803, 1.5563025 , 1.71600334])"
      ]
     },
     "execution_count": 314,
     "metadata": {},
     "output_type": "execute_result"
    }
   ],
   "source": [
    "log_lst_ten"
   ]
  },
  {
   "cell_type": "code",
   "execution_count": 315,
   "id": "37dd72a1",
   "metadata": {},
   "outputs": [
    {
     "data": {
      "text/plain": [
       "<seaborn.axisgrid.FacetGrid at 0x20974cad790>"
      ]
     },
     "execution_count": 315,
     "metadata": {},
     "output_type": "execute_result"
    },
    {
     "data": {
      "image/png": "[encoded data removed]",
      "text/plain": [
       "<Figure size 360x360 with 1 Axes>"
      ]
     },
     "metadata": {},
     "output_type": "display_data"
    }
   ],
   "source": [
    "sns.displot(log_lst_ten,kde=True)"
   ]
  },
  {
   "cell_type": "code",
   "execution_count": 291,
   "id": "5c0acb7a",
   "metadata": {},
   "outputs": [],
   "source": [
    "log_lstb = np.log2(arr)"
   ]
  },
  {
   "cell_type": "code",
   "execution_count": 292,
   "id": "63829f36",
   "metadata": {},
   "outputs": [
    {
     "data": {
      "text/plain": [
       "array([4.70043972, 5.04439412, 6.28540222, 4.80735492, 5.08746284,\n",
       "       5.78135971, 4.64385619, 5.45943162, 5.64385619, 5.169925  ,\n",
       "       4.70043972, 5.20945337, 5.42626475, 5.95419631, 5.12928302,\n",
       "       5.24792751, 5.4918531 , 5.        , 4.80735492, 5.08746284,\n",
       "       5.61470984, 5.7548875 , 4.7548875 , 5.9068906 , 5.12928302,\n",
       "       5.32192809, 5.78135971, 4.80735492, 5.169925  , 5.70043972])"
      ]
     },
     "execution_count": 292,
     "metadata": {},
     "output_type": "execute_result"
    }
   ],
   "source": [
    "log_lstb"
   ]
  },
  {
   "cell_type": "code",
   "execution_count": 293,
   "id": "518817a8",
   "metadata": {},
   "outputs": [
    {
     "data": {
      "text/plain": [
       "<seaborn.axisgrid.FacetGrid at 0x20972eacc40>"
      ]
     },
     "execution_count": 293,
     "metadata": {},
     "output_type": "execute_result"
    },
    {
     "data": {
      "image/png": "[encoded data removed]",
      "text/plain": [
       "<Figure size 360x360 with 1 Axes>"
      ]
     },
     "metadata": {},
     "output_type": "display_data"
    }
   ],
   "source": [
    "sns.displot(log_lstb,kde=True)"
   ]
  },
  {
   "cell_type": "code",
   "execution_count": 294,
   "id": "78ea285d",
   "metadata": {},
   "outputs": [
    {
     "name": "stderr",
     "output_type": "stream",
     "text": [
      "C:\\ProgramData\\Anaconda3\\lib\\site-packages\\seaborn\\_decorators.py:36: FutureWarning:\n",
      "\n",
      "Pass the following variable as a keyword arg: x. From version 0.12, the only valid positional argument will be `data`, and passing other arguments without an explicit keyword will result in an error or misinterpretation.\n",
      "\n"
     ]
    },
    {
     "data": {
      "text/plain": [
       "<AxesSubplot:>"
      ]
     },
     "execution_count": 294,
     "metadata": {},
     "output_type": "execute_result"
    },
    {
     "data": {
      "image/png": "[encoded data removed]",
      "text/plain": [
       "<Figure size 432x288 with 1 Axes>"
      ]
     },
     "metadata": {},
     "output_type": "display_data"
    }
   ],
   "source": [
    "sns.boxplot(log_lst)"
   ]
  },
  {
   "cell_type": "code",
   "execution_count": 295,
   "id": "13a58d5c",
   "metadata": {},
   "outputs": [],
   "source": [
    "sqrt_lst = np.sqrt(my_lst)"
   ]
  },
  {
   "cell_type": "code",
   "execution_count": 296,
   "id": "d199fff9",
   "metadata": {},
   "outputs": [
    {
     "data": {
      "text/plain": [
       "array([5.        , 5.09901951, 5.09901951, 5.19615242, 5.29150262,\n",
       "       5.29150262, 5.29150262, 5.65685425, 5.74456265, 5.83095189,\n",
       "       5.83095189, 5.91607978, 5.91607978, 6.        , 6.        ,\n",
       "       6.08276253, 6.164414  , 6.32455532, 6.55743852, 6.63324958,\n",
       "       6.70820393, 7.        , 7.07106781, 7.21110255, 7.34846923,\n",
       "       7.41619849, 7.41619849, 7.74596669, 7.87400787, 8.83176087])"
      ]
     },
     "execution_count": 296,
     "metadata": {},
     "output_type": "execute_result"
    }
   ],
   "source": [
    "sqrt_lst"
   ]
  },
  {
   "cell_type": "code",
   "execution_count": 297,
   "id": "bc52f69c",
   "metadata": {},
   "outputs": [
    {
     "data": {
      "text/plain": [
       "<seaborn.axisgrid.FacetGrid at 0x20974abadc0>"
      ]
     },
     "execution_count": 297,
     "metadata": {},
     "output_type": "execute_result"
    },
    {
     "data": {
      "image/png": "[encoded data removed]",
      "text/plain": [
       "<Figure size 360x360 with 1 Axes>"
      ]
     },
     "metadata": {},
     "output_type": "display_data"
    }
   ],
   "source": [
    "sns.displot(sqrt_lst,kde=True)"
   ]
  },
  {
   "cell_type": "code",
   "execution_count": 298,
   "id": "2afb3200",
   "metadata": {},
   "outputs": [],
   "source": [
    "cube_lst = np.cbrt(my_lst)"
   ]
  },
  {
   "cell_type": "code",
   "execution_count": 299,
   "id": "d9e34096",
   "metadata": {},
   "outputs": [
    {
     "data": {
      "text/plain": [
       "array([2.92401774, 2.96249607, 2.96249607, 3.        , 3.03658897,\n",
       "       3.03658897, 3.03658897, 3.1748021 , 3.20753433, 3.2396118 ,\n",
       "       3.2396118 , 3.27106631, 3.27106631, 3.30192725, 3.30192725,\n",
       "       3.33222185, 3.36197541, 3.41995189, 3.50339806, 3.53034834,\n",
       "       3.5568933 , 3.65930571, 3.6840315 , 3.73251116, 3.77976315,\n",
       "       3.80295246, 3.80295246, 3.91486764, 3.95789161, 4.27265868])"
      ]
     },
     "execution_count": 299,
     "metadata": {},
     "output_type": "execute_result"
    }
   ],
   "source": [
    "cube_lst"
   ]
  },
  {
   "cell_type": "code",
   "execution_count": 300,
   "id": "4f2870fb",
   "metadata": {},
   "outputs": [
    {
     "data": {
      "text/plain": [
       "<seaborn.axisgrid.FacetGrid at 0x20974aaea90>"
      ]
     },
     "execution_count": 300,
     "metadata": {},
     "output_type": "execute_result"
    },
    {
     "data": {
      "image/png": "[encoded data removed]",
      "text/plain": [
       "<Figure size 360x360 with 1 Axes>"
      ]
     },
     "metadata": {},
     "output_type": "display_data"
    }
   ],
   "source": [
    "sns.displot(cube_lst,kde=True)"
   ]
  },
  {
   "cell_type": "code",
   "execution_count": 301,
   "id": "dafdaa3d",
   "metadata": {},
   "outputs": [],
   "source": [
    "def std(lst):\n",
    "    import math\n",
    "    l = []\n",
    "    n = sum(lst)\n",
    "    p = n/len(lst)\n",
    "    for i in lst:\n",
    "        m = (i - p)**2/len(lst)\n",
    "        l.append(m)\n",
    "    k = sum(l)\n",
    "    print(math.sqrt(k))"
   ]
  },
  {
   "cell_type": "code",
   "execution_count": 302,
   "id": "4ff6bd75",
   "metadata": {},
   "outputs": [
    {
     "name": "stdout",
     "output_type": "stream",
     "text": [
      "12.68354139119758\n"
     ]
    }
   ],
   "source": [
    "std(my_lst)"
   ]
  },
  {
   "cell_type": "code",
   "execution_count": 20,
   "id": "e523f289",
   "metadata": {},
   "outputs": [],
   "source": [
    "def std2(lst):\n",
    "    l = []\n",
    "    n = sum(lst)\n",
    "    p = n/len(lst)\n",
    "    for i in lst:\n",
    "        m = (i - p)**2/len(lst)\n",
    "        l.append(m)\n",
    "    k = sum(l)\n",
    "    return(k**(0.5))"
   ]
  },
  {
   "cell_type": "code",
   "execution_count": 304,
   "id": "9c8a954d",
   "metadata": {},
   "outputs": [
    {
     "data": {
      "text/plain": [
       "12.68354139119758"
      ]
     },
     "execution_count": 304,
     "metadata": {},
     "output_type": "execute_result"
    }
   ],
   "source": [
    "std2(my_lst)"
   ]
  },
  {
   "cell_type": "code",
   "execution_count": 305,
   "id": "6de5b412",
   "metadata": {},
   "outputs": [
    {
     "data": {
      "text/plain": [
       "0.29441834219730806"
      ]
     },
     "execution_count": 305,
     "metadata": {},
     "output_type": "execute_result"
    }
   ],
   "source": [
    "std2(log_lst)"
   ]
  },
  {
   "cell_type": "code",
   "execution_count": 306,
   "id": "bc4f8a61",
   "metadata": {},
   "outputs": [],
   "source": [
    "def standard(lt):\n",
    "    std_score_list = []\n",
    "    nl = sum(lt)\n",
    "    pk = nl/len(lt)\n",
    "    for j in lt:\n",
    "        mk = (j - pk)/std2(lt)\n",
    "        std_score_list.append(mk)\n",
    "    return std_score_list"
   ]
  },
  {
   "cell_type": "code",
   "execution_count": 307,
   "id": "a32627a6",
   "metadata": {},
   "outputs": [],
   "source": [
    "standardized = standard(my_lst)"
   ]
  },
  {
   "cell_type": "code",
   "execution_count": 308,
   "id": "acfeaf25",
   "metadata": {},
   "outputs": [
    {
     "data": {
      "text/plain": [
       "[-1.2483369466765586,\n",
       " -1.1694946132022497,\n",
       " -1.1694946132022497,\n",
       " -1.0906522797279408,\n",
       " -1.0118099462536316,\n",
       " -1.0118099462536316,\n",
       " -1.0118099462536316,\n",
       " -0.6964406123563959,\n",
       " -0.617598278882087,\n",
       " -0.538755945407778,\n",
       " -0.538755945407778,\n",
       " -0.4599136119334691,\n",
       " -0.4599136119334691,\n",
       " -0.3810712784591601,\n",
       " -0.3810712784591601,\n",
       " -0.30222894498485114,\n",
       " -0.2233866115105422,\n",
       " -0.06570194456192431,\n",
       " 0.17082505586100255,\n",
       " 0.2496673893353115,\n",
       " 0.32850972280962043,\n",
       " 0.6438790567068562,\n",
       " 0.7227213901811652,\n",
       " 0.880406057129783,\n",
       " 1.038090724078401,\n",
       " 1.1169330575527099,\n",
       " 1.1169330575527099,\n",
       " 1.5111447249242547,\n",
       " 1.6688293918728725,\n",
       " 2.930306727461816]"
      ]
     },
     "execution_count": 308,
     "metadata": {},
     "output_type": "execute_result"
    }
   ],
   "source": [
    "standardized"
   ]
  },
  {
   "cell_type": "code",
   "execution_count": 309,
   "id": "877f689c",
   "metadata": {},
   "outputs": [],
   "source": [
    "z = sum(standardized)"
   ]
  },
  {
   "cell_type": "code",
   "execution_count": 310,
   "id": "51967fd4",
   "metadata": {},
   "outputs": [
    {
     "data": {
      "text/plain": [
       "-2.3684757858670006e-16"
      ]
     },
     "execution_count": 310,
     "metadata": {},
     "output_type": "execute_result"
    }
   ],
   "source": [
    "z/len(standardized)"
   ]
  },
  {
   "cell_type": "code",
   "execution_count": 311,
   "id": "f60f70d5",
   "metadata": {},
   "outputs": [
    {
     "data": {
      "text/plain": [
       "1.0"
      ]
     },
     "execution_count": 311,
     "metadata": {},
     "output_type": "execute_result"
    }
   ],
   "source": [
    "std2(standardized)"
   ]
  },
  {
   "cell_type": "code",
   "execution_count": 312,
   "id": "ec5644d3",
   "metadata": {},
   "outputs": [
    {
     "data": {
      "text/plain": [
       "<seaborn.axisgrid.FacetGrid at 0x20974bc3790>"
      ]
     },
     "execution_count": 312,
     "metadata": {},
     "output_type": "execute_result"
    },
    {
     "data": {
      "image/png": "[encoded data removed]",
      "text/plain": [
       "<Figure size 360x360 with 1 Axes>"
      ]
     },
     "metadata": {},
     "output_type": "display_data"
    }
   ],
   "source": [
    "sns.displot(standardized,kde=True)"
   ]
  },
  {
   "cell_type": "code",
   "execution_count": 97,
   "id": "b337b162",
   "metadata": {},
   "outputs": [
    {
     "name": "stdout",
     "output_type": "stream",
     "text": [
      "1.472412985544477\n"
     ]
    }
   ],
   "source": [
    "print(2.168**(0.5))"
   ]
  },
  {
   "cell_type": "code",
   "execution_count": null,
   "id": "b2389521",
   "metadata": {},
   "outputs": [],
   "source": []
  },
  {
   "cell_type": "code",
   "execution_count": null,
   "id": "8d61c778",
   "metadata": {},
   "outputs": [],
   "source": []
  },
  {
   "cell_type": "code",
   "execution_count": null,
   "id": "8f3f8a14",
   "metadata": {},
   "outputs": [],
   "source": []
  },
  {
   "cell_type": "code",
   "execution_count": null,
   "id": "389a731d",
   "metadata": {},
   "outputs": [],
   "source": []
  },
  {
   "cell_type": "code",
   "execution_count": null,
   "id": "284aef35",
   "metadata": {},
   "outputs": [],
   "source": []
  },
  {
   "cell_type": "code",
   "execution_count": null,
   "id": "43704674",
   "metadata": {},
   "outputs": [],
   "source": []
  },
  {
   "cell_type": "code",
   "execution_count": null,
   "id": "fef30b8e",
   "metadata": {},
   "outputs": [],
   "source": []
  },
  {
   "cell_type": "markdown",
   "id": "41fd398b",
   "metadata": {},
   "source": [
    "### Object Oriented Programming"
   ]
  },
  {
   "cell_type": "code",
   "execution_count": 33,
   "id": "3eee540b",
   "metadata": {},
   "outputs": [],
   "source": [
    "class Bulb:\n",
    "    def __init__(self,number,state):\n",
    "        self.Bulb = Bulb\n",
    "        self.number = number\n",
    "        self.state = state"
   ]
  },
  {
   "cell_type": "code",
   "execution_count": 34,
   "id": "097401db",
   "metadata": {},
   "outputs": [],
   "source": [
    "bulb1 = Bulb(\"num\",\"st\")"
   ]
  },
  {
   "cell_type": "code",
   "execution_count": null,
   "id": "a4bd199d",
   "metadata": {},
   "outputs": [],
   "source": []
  },
  {
   "cell_type": "code",
   "execution_count": null,
   "id": "e9ca1493",
   "metadata": {},
   "outputs": [],
   "source": []
  },
  {
   "cell_type": "code",
   "execution_count": 35,
   "id": "d543968c",
   "metadata": {},
   "outputs": [],
   "source": [
    "# class Bulb:\n",
    "#     number = None\n",
    "#     color = None\n",
    "#     state = None\n",
    "    \n",
    "#     def turnOff(self):\n",
    "#         state = 0\n",
    "#     def turnOn(self):\n",
    "#         state = 1\n",
    "\n",
    "        \n",
    "# bulb_1 = Bulb()\n",
    "# bulb_1.number = 1\n",
    "# bulb_1.color = \"white\"\n",
    "# bulb_1.state = 0\n",
    "# bulb_1.turnOff()\n",
    "# print(\"For bulb_1\")\n",
    "# print(\"Light State = \", bulb_1.color)\n",
    "# bulb_1.turnOn()\n",
    "# print()"
   ]
  },
  {
   "cell_type": "code",
   "execution_count": 49,
   "id": "3221c438",
   "metadata": {},
   "outputs": [],
   "source": [
    "class Employee:\n",
    "    def __init__(self,name,dept,Salary):\n",
    "        self.name = name\n",
    "        self.dept = dept\n",
    "        self.Salary = Salary\n",
    "    def tax(self):\n",
    "        return (self.Salary*0.18)\n",
    "    def salaryPerMonth(self):\n",
    "        return (self.Salary*50)"
   ]
  },
  {
   "cell_type": "code",
   "execution_count": 50,
   "id": "e2600597",
   "metadata": {},
   "outputs": [],
   "source": [
    "name = \"Steve\"\n",
    "dept = \"I.T.\"\n",
    "Salary = 500\n",
    "employee = Employee(name,dept,Salary)"
   ]
  },
  {
   "cell_type": "code",
   "execution_count": 51,
   "id": "8e95f481",
   "metadata": {},
   "outputs": [
    {
     "data": {
      "text/plain": [
       "90.0"
      ]
     },
     "execution_count": 51,
     "metadata": {},
     "output_type": "execute_result"
    }
   ],
   "source": [
    "employee.tax()"
   ]
  },
  {
   "cell_type": "code",
   "execution_count": 52,
   "id": "c4414431",
   "metadata": {},
   "outputs": [
    {
     "data": {
      "text/plain": [
       "25000"
      ]
     },
     "execution_count": 52,
     "metadata": {},
     "output_type": "execute_result"
    }
   ],
   "source": [
    "employee.salaryPerMonth()"
   ]
  },
  {
   "cell_type": "markdown",
   "id": "80097a8c",
   "metadata": {},
   "source": [
    "### Getter Setter"
   ]
  },
  {
   "cell_type": "code",
   "execution_count": 71,
   "id": "6fff551d",
   "metadata": {},
   "outputs": [],
   "source": [
    "class Employee:\n",
    "    def __init__(self,ID,name,dept,Salary):\n",
    "        self.__name = name\n",
    "        self.__dept = dept\n",
    "        self.__Salary = Salary\n",
    "        self.__ID = ID\n",
    "        \n",
    "    def tax(self):\n",
    "        return (self.Salary*0.18)\n",
    "    \n",
    "    def salaryPerMonth(self):\n",
    "        return (self.Salary*50)\n",
    "    \n",
    "    def get_name():\n",
    "        return self.__name\n",
    "    def set_name(self,name):\n",
    "        self.__name = name"
   ]
  },
  {
   "cell_type": "code",
   "execution_count": 72,
   "id": "321e0c26",
   "metadata": {},
   "outputs": [],
   "source": [
    "steve = Employee(777,\"Stephen hawking\",\"IT\",50000)"
   ]
  },
  {
   "cell_type": "code",
   "execution_count": 76,
   "id": "2c87a4ad",
   "metadata": {},
   "outputs": [],
   "source": [
    "# print(\"Name: \",steve.get_name())"
   ]
  },
  {
   "cell_type": "code",
   "execution_count": 21,
   "id": "911a95ef",
   "metadata": {},
   "outputs": [
    {
     "name": "stdout",
     "output_type": "stream",
     "text": [
      "Enter x: 10\n",
      "Enter y: 20\n",
      "Enter z: 30\n",
      "x:  10\n",
      "y  20\n",
      "z:  30\n",
      "Sum:  1400\n"
     ]
    }
   ],
   "source": [
    "class Variables:\n",
    "    def __init__(self,x,y,z):\n",
    "        self.__x=x\n",
    "        self.__y=y\n",
    "        self.__z=z\n",
    "    def get_x(self):\n",
    "        return self.__x\n",
    "    def get_y(self):\n",
    "        return self.__y\n",
    "    def get_z(self):\n",
    "        return self.__z\n",
    "    \n",
    "    def set_x(self,x):\n",
    "        self.__x = x\n",
    "    def set_y(self,y):\n",
    "        self.__y = y\n",
    "    def set_z(self,z):\n",
    "        self.__z = z\n",
    "        \n",
    "    def square_sum(self):\n",
    "        return self.__x * self.__x + self.__y * self.__y + self.__z * self.__z\n",
    "\n",
    "var = Variables(1, 2, 3)\n",
    "\n",
    "var.set_x(int(input(\"Enter x: \")))\n",
    "var.set_y(int(input(\"Enter y: \")))\n",
    "var.set_z(int(input(\"Enter z: \")))\n",
    "sum = var.square_sum()\n",
    "\n",
    "# \n",
    "\n",
    "\n",
    "print(\"x: \",var.get_x())\n",
    "print(\"y \",var.get_y())\n",
    "print(\"z: \",var.get_z())\n",
    "print(\"Sum: \", sum)"
   ]
  },
  {
   "cell_type": "code",
   "execution_count": 24,
   "id": "daa31681",
   "metadata": {},
   "outputs": [],
   "source": [
    "class Student:\n",
    "    def __init__(self,name,phy,chem,bio,maths):\n",
    "        self.__name = name\n",
    "        self.__phy = phy\n",
    "        self.__chem = chem\n",
    "        self.__bio = bio\n",
    "        self.__maths = maths\n",
    "    def get_name(self):\n",
    "        return self.__name\n",
    "    def get_phy(self):\n",
    "        return self.__phy\n",
    "    def get_chem(self):\n",
    "        return self.__chem\n",
    "    def get_bio(self):\n",
    "        return self.__bio\n",
    "    def get_maths(self):\n",
    "        return self.__maths\n",
    "    \n",
    "    def set_name(self,name):\n",
    "        self.__name = name\n",
    "    def set_phy(self,phy):\n",
    "        self.__phy = phy\n",
    "    def set_chem(self,chem):\n",
    "        self.__chem = chem\n",
    "    def set_bio(self,bio):\n",
    "        self.__bio = bio\n",
    "    def set_maths(self,maths):\n",
    "        self.__maths = maths\n",
    "        \n",
    "\n",
    "\n",
    "    def totalobtained(self):\n",
    "        return self.__phy+self.__chem + self.__bio + self.__maths\n",
    "\n",
    "    def calPercent(self):\n",
    "        return ((self.totalobtained()/400)*100)"
   ]
  },
  {
   "cell_type": "code",
   "execution_count": 25,
   "id": "9c6d7529",
   "metadata": {},
   "outputs": [
    {
     "name": "stdout",
     "output_type": "stream",
     "text": [
      "name :  Darshan\n",
      "total marks:  367\n",
      "percent:  91.75\n"
     ]
    }
   ],
   "source": [
    "student_1 = Student(\"Darshan\",92,90,95,90)\n",
    "print(\"name : \", student_1.get_name())\n",
    "print(\"total marks: \", student_1.totalobtained())\n",
    "print(\"percent: \",student_1.calPercent())"
   ]
  },
  {
   "cell_type": "code",
   "execution_count": null,
   "id": "74b5b02e",
   "metadata": {},
   "outputs": [],
   "source": []
  },
  {
   "cell_type": "code",
   "execution_count": 1,
   "id": "fb079d02",
   "metadata": {},
   "outputs": [],
   "source": [
    "import numpy as np"
   ]
  },
  {
   "cell_type": "code",
   "execution_count": 2,
   "id": "c53595f9",
   "metadata": {},
   "outputs": [],
   "source": [
    "np_array = np.array([1,2,3,4,5,6,7,8,9])"
   ]
  },
  {
   "cell_type": "code",
   "execution_count": 3,
   "id": "07eb953e",
   "metadata": {},
   "outputs": [
    {
     "data": {
      "text/plain": [
       "array([1, 2, 3, 4, 5, 6, 7, 8, 9])"
      ]
     },
     "execution_count": 3,
     "metadata": {},
     "output_type": "execute_result"
    }
   ],
   "source": [
    "np_array"
   ]
  },
  {
   "cell_type": "code",
   "execution_count": 4,
   "id": "ae047866",
   "metadata": {},
   "outputs": [
    {
     "data": {
      "text/plain": [
       "array([1, 2, 3, 4, 5, 6, 7, 8, 9])"
      ]
     },
     "execution_count": 4,
     "metadata": {},
     "output_type": "execute_result"
    }
   ],
   "source": [
    "np.unique(np_array)"
   ]
  },
  {
   "cell_type": "code",
   "execution_count": 5,
   "id": "e3f22169",
   "metadata": {},
   "outputs": [
    {
     "data": {
      "text/plain": [
       "2.581988897471611"
      ]
     },
     "execution_count": 5,
     "metadata": {},
     "output_type": "execute_result"
    }
   ],
   "source": [
    "np.std(np_array)"
   ]
  },
  {
   "cell_type": "code",
   "execution_count": 8,
   "id": "1bca3417",
   "metadata": {},
   "outputs": [
    {
     "data": {
      "text/plain": [
       "9"
      ]
     },
     "execution_count": 8,
     "metadata": {},
     "output_type": "execute_result"
    }
   ],
   "source": [
    "np_array.max()"
   ]
  },
  {
   "cell_type": "code",
   "execution_count": 9,
   "id": "3e5b986f",
   "metadata": {},
   "outputs": [
    {
     "data": {
      "text/plain": [
       "array([ 1,  4,  9, 16, 25, 36, 49, 64, 81], dtype=int32)"
      ]
     },
     "execution_count": 9,
     "metadata": {},
     "output_type": "execute_result"
    }
   ],
   "source": [
    "np_array**2"
   ]
  },
  {
   "cell_type": "code",
   "execution_count": 11,
   "id": "a48b3b92",
   "metadata": {},
   "outputs": [
    {
     "data": {
      "text/plain": [
       "array([ 2,  4,  6,  8, 10, 12, 14, 16, 18])"
      ]
     },
     "execution_count": 11,
     "metadata": {},
     "output_type": "execute_result"
    }
   ],
   "source": [
    "np_array + np_array"
   ]
  },
  {
   "cell_type": "code",
   "execution_count": 13,
   "id": "00ec621f",
   "metadata": {},
   "outputs": [
    {
     "data": {
      "text/plain": [
       "45"
      ]
     },
     "execution_count": 13,
     "metadata": {},
     "output_type": "execute_result"
    }
   ],
   "source": [
    "np.sum(np_array)"
   ]
  },
  {
   "cell_type": "code",
   "execution_count": 14,
   "id": "88dbef07",
   "metadata": {},
   "outputs": [
    {
     "data": {
      "text/plain": [
       "2025"
      ]
     },
     "execution_count": 14,
     "metadata": {},
     "output_type": "execute_result"
    }
   ],
   "source": [
    "np.sum(np_array) **2"
   ]
  },
  {
   "cell_type": "code",
   "execution_count": 18,
   "id": "c30ba13d",
   "metadata": {},
   "outputs": [
    {
     "data": {
      "text/plain": [
       "(9,)"
      ]
     },
     "execution_count": 18,
     "metadata": {},
     "output_type": "execute_result"
    }
   ],
   "source": [
    "np_array.shape"
   ]
  },
  {
   "cell_type": "code",
   "execution_count": 21,
   "id": "c9e54227",
   "metadata": {},
   "outputs": [
    {
     "data": {
      "text/plain": [
       "2.581988897471611"
      ]
     },
     "execution_count": 21,
     "metadata": {},
     "output_type": "execute_result"
    }
   ],
   "source": [
    "std2([1,2,3,4,5,6,7,8,9])"
   ]
  },
  {
   "cell_type": "code",
   "execution_count": 24,
   "id": "e8088a9e",
   "metadata": {},
   "outputs": [],
   "source": [
    "np_2d_array = np.array([[1,2,3,4],[1,2,3,45]])"
   ]
  },
  {
   "cell_type": "code",
   "execution_count": 25,
   "id": "50050663",
   "metadata": {},
   "outputs": [
    {
     "data": {
      "text/plain": [
       "array([[ 1,  2,  3,  4],\n",
       "       [ 1,  2,  3, 45]])"
      ]
     },
     "execution_count": 25,
     "metadata": {},
     "output_type": "execute_result"
    }
   ],
   "source": [
    "np_2d_array"
   ]
  },
  {
   "cell_type": "code",
   "execution_count": 28,
   "id": "880f41aa",
   "metadata": {},
   "outputs": [],
   "source": [
    "dot_product = np.dot(np_2d_array,np_2d_array.T)"
   ]
  },
  {
   "cell_type": "code",
   "execution_count": 29,
   "id": "835081da",
   "metadata": {},
   "outputs": [
    {
     "data": {
      "text/plain": [
       "array([[  30,  194],\n",
       "       [ 194, 2039]])"
      ]
     },
     "execution_count": 29,
     "metadata": {},
     "output_type": "execute_result"
    }
   ],
   "source": [
    "dot_product"
   ]
  },
  {
   "cell_type": "code",
   "execution_count": 32,
   "id": "d57b2096",
   "metadata": {},
   "outputs": [
    {
     "data": {
      "text/plain": [
       "0.8701241366272119"
      ]
     },
     "execution_count": 32,
     "metadata": {},
     "output_type": "execute_result"
    }
   ],
   "source": [
    "np.random.seed(25)\n",
    "np.random.rand()"
   ]
  },
  {
   "cell_type": "code",
   "execution_count": 34,
   "id": "1dbea582",
   "metadata": {},
   "outputs": [
    {
     "data": {
      "text/plain": [
       "array([[0.41110013, 0.11737555, 0.68496874],\n",
       "       [0.43761106, 0.55622933, 0.36708032],\n",
       "       [0.40236573, 0.1130407 , 0.44703085]])"
      ]
     },
     "execution_count": 34,
     "metadata": {},
     "output_type": "execute_result"
    }
   ],
   "source": [
    "np.random.rand(3,3)"
   ]
  },
  {
   "cell_type": "code",
   "execution_count": 38,
   "id": "3f093951",
   "metadata": {},
   "outputs": [
    {
     "data": {
      "text/plain": [
       "array([[11,  5],\n",
       "       [14,  5],\n",
       "       [ 7, 10]])"
      ]
     },
     "execution_count": 38,
     "metadata": {},
     "output_type": "execute_result"
    }
   ],
   "source": [
    "np.random.randint(5,15,(3,2))"
   ]
  },
  {
   "cell_type": "code",
   "execution_count": 39,
   "id": "d1156c3c",
   "metadata": {},
   "outputs": [],
   "source": [
    "# np.random.randn"
   ]
  },
  {
   "cell_type": "code",
   "execution_count": 40,
   "id": "c9a85165",
   "metadata": {},
   "outputs": [],
   "source": [
    "array = np.array([1,2,3,4,5,6])"
   ]
  },
  {
   "cell_type": "code",
   "execution_count": 43,
   "id": "a288d35a",
   "metadata": {},
   "outputs": [
    {
     "data": {
      "text/plain": [
       "array([5, 5, 3, 1, 4, 1, 5, 3, 2, 2])"
      ]
     },
     "execution_count": 43,
     "metadata": {},
     "output_type": "execute_result"
    }
   ],
   "source": [
    "np.random.choice(array,10,replace=True)"
   ]
  },
  {
   "cell_type": "code",
   "execution_count": 85,
   "id": "4ce313ce",
   "metadata": {},
   "outputs": [],
   "source": [
    "x = np.array([1,2,3,4,5,6])"
   ]
  },
  {
   "cell_type": "code",
   "execution_count": 86,
   "id": "fdef805e",
   "metadata": {},
   "outputs": [
    {
     "data": {
      "text/plain": [
       "array([1, 2, 3, 4, 5, 6])"
      ]
     },
     "execution_count": 86,
     "metadata": {},
     "output_type": "execute_result"
    }
   ],
   "source": [
    "x"
   ]
  },
  {
   "cell_type": "code",
   "execution_count": 87,
   "id": "b556798d",
   "metadata": {},
   "outputs": [],
   "source": [
    "from scipy import stats"
   ]
  },
  {
   "cell_type": "code",
   "execution_count": 88,
   "id": "b6297db4",
   "metadata": {},
   "outputs": [],
   "source": [
    "arr1 = np.array([1,2,3,4,5,6])"
   ]
  },
  {
   "cell_type": "code",
   "execution_count": 57,
   "id": "ae592ec1",
   "metadata": {},
   "outputs": [],
   "source": [
    "arr2 = np.random.randint(5,15,(3,3))"
   ]
  },
  {
   "cell_type": "code",
   "execution_count": 58,
   "id": "5f56fa0d",
   "metadata": {},
   "outputs": [
    {
     "data": {
      "text/plain": [
       "array([[11,  5,  7],\n",
       "       [ 9,  8,  6],\n",
       "       [ 8, 10, 12]])"
      ]
     },
     "execution_count": 58,
     "metadata": {},
     "output_type": "execute_result"
    }
   ],
   "source": [
    "arr2"
   ]
  },
  {
   "cell_type": "code",
   "execution_count": 65,
   "id": "16629aee",
   "metadata": {},
   "outputs": [],
   "source": [
    "def arr_max(arr):\n",
    "    return arr.max()"
   ]
  },
  {
   "cell_type": "code",
   "execution_count": 66,
   "id": "cec40d42",
   "metadata": {},
   "outputs": [
    {
     "data": {
      "text/plain": [
       "12"
      ]
     },
     "execution_count": 66,
     "metadata": {},
     "output_type": "execute_result"
    }
   ],
   "source": [
    "arr_max(arr2)"
   ]
  },
  {
   "cell_type": "code",
   "execution_count": 67,
   "id": "bfc3cc70",
   "metadata": {},
   "outputs": [],
   "source": [
    "def arr_std(arr):\n",
    "    arr.std()"
   ]
  },
  {
   "cell_type": "code",
   "execution_count": 69,
   "id": "82a86660",
   "metadata": {},
   "outputs": [],
   "source": [
    "arr_std(arr2)"
   ]
  },
  {
   "cell_type": "code",
   "execution_count": 74,
   "id": "d8948444",
   "metadata": {},
   "outputs": [],
   "source": [
    "def arr_sum(arr):\n",
    "    return arr.sum()"
   ]
  },
  {
   "cell_type": "code",
   "execution_count": 75,
   "id": "246bb793",
   "metadata": {},
   "outputs": [
    {
     "data": {
      "text/plain": [
       "76"
      ]
     },
     "execution_count": 75,
     "metadata": {},
     "output_type": "execute_result"
    }
   ],
   "source": [
    "arr_sum(arr2)"
   ]
  },
  {
   "cell_type": "code",
   "execution_count": 76,
   "id": "4d110c8a",
   "metadata": {},
   "outputs": [],
   "source": [
    "def arr_dot(arr):\n",
    "    return np.dot(arr,arr.T)\n",
    "# np.dot(arr2,arr2.T)"
   ]
  },
  {
   "cell_type": "code",
   "execution_count": 77,
   "id": "9dac7114",
   "metadata": {},
   "outputs": [
    {
     "data": {
      "text/plain": [
       "array([[195, 181, 222],\n",
       "       [181, 181, 224],\n",
       "       [222, 224, 308]])"
      ]
     },
     "execution_count": 77,
     "metadata": {},
     "output_type": "execute_result"
    }
   ],
   "source": [
    "arr_dot(arr2)"
   ]
  },
  {
   "cell_type": "code",
   "execution_count": 89,
   "id": "91a6b1a9",
   "metadata": {},
   "outputs": [],
   "source": [
    "def correlation(arr_1,arr_2):\n",
    "    return stats.pearsonr(arr1,arr.T)"
   ]
  },
  {
   "cell_type": "code",
   "execution_count": 90,
   "id": "de07b700",
   "metadata": {},
   "outputs": [
    {
     "data": {
      "text/plain": [
       "PearsonRResult(statistic=0.9999999999999999, pvalue=1.8488927466117464e-32)"
      ]
     },
     "execution_count": 90,
     "metadata": {},
     "output_type": "execute_result"
    }
   ],
   "source": [
    "correlation(array,x)"
   ]
  },
  {
   "cell_type": "code",
   "execution_count": 91,
   "id": "4271f645",
   "metadata": {},
   "outputs": [],
   "source": [
    "import pandas as pd"
   ]
  },
  {
   "cell_type": "code",
   "execution_count": 2,
   "id": "f04e0b5b",
   "metadata": {},
   "outputs": [],
   "source": [
    "# import cudf"
   ]
  },
  {
   "cell_type": "code",
   "execution_count": null,
   "id": "01cc2d56",
   "metadata": {},
   "outputs": [],
   "source": []
  }
 ],
 "metadata": {
  "kernelspec": {
   "display_name": "Python 3 (ipykernel)",
   "language": "python",
   "name": "python3"
  },
  "language_info": {
   "codemirror_mode": {
    "name": "ipython",
    "version": 3
   },
   "file_extension": ".py",
   "mimetype": "text/x-python",
   "name": "python",
   "nbconvert_exporter": "python",
   "pygments_lexer": "ipython3",
   "version": "3.9.13"
  }
 },
 "nbformat": 4,
 "nbformat_minor": 5
}
