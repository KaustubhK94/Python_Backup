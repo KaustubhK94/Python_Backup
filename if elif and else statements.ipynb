{
 "cells": [
  {
   "cell_type": "code",
   "execution_count": 1,
   "id": "a5fc0476",
   "metadata": {},
   "outputs": [
    {
     "name": "stdout",
     "output_type": "stream",
     "text": [
      "feed me..!!\n"
     ]
    }
   ],
   "source": [
    "hungry = True\n",
    "\n",
    "if hungry:\n",
    "    print(\"feed me..!!\")"
   ]
  },
  {
   "cell_type": "code",
   "execution_count": 3,
   "id": "2b51426e",
   "metadata": {},
   "outputs": [
    {
     "name": "stdout",
     "output_type": "stream",
     "text": [
      "I'm not hungry\n"
     ]
    }
   ],
   "source": [
    "hungry = False\n",
    "\n",
    "if hungry:\n",
    "    print(\"feed me..!!\")\n",
    "else:\n",
    "    print(\"I'm not hungry\")"
   ]
  },
  {
   "cell_type": "code",
   "execution_count": 8,
   "id": "3f7b4c95",
   "metadata": {},
   "outputs": [
    {
     "name": "stdout",
     "output_type": "stream",
     "text": [
      "Money is cool\n"
     ]
    }
   ],
   "source": [
    "loc = \"Bank\"\n",
    "if loc == \"Auto shop\":\n",
    "    print(\"Cars are cool\")\n",
    "elif loc == \"Bank\":\n",
    "    print(\"Money is cool\")\n",
    "elif loc == 'store':\n",
    "    print(\"welcome to the store \")\n",
    "else:\n",
    "    print(\"I do not know much\")\n"
   ]
  },
  {
   "cell_type": "code",
   "execution_count": 20,
   "id": "7f72313f",
   "metadata": {},
   "outputs": [
    {
     "name": "stdout",
     "output_type": "stream",
     "text": [
      "Enter your Name Kaustubh\n",
      "Hello Kaustubh\n"
     ]
    }
   ],
   "source": [
    "name = input(\"Enter your Name \")\n",
    "if name == \"Frankie\":\n",
    "    print(\"Hello Frankie\")\n",
    "elif name == \"Sammy\":\n",
    "    print(\"Hello Sammy\")\n",
    "else:\n",
    "    print(f'Hello {name}')"
   ]
  },
  {
   "cell_type": "code",
   "execution_count": null,
   "id": "0001c785",
   "metadata": {},
   "outputs": [],
   "source": []
  }
 ],
 "metadata": {
  "kernelspec": {
   "display_name": "Python 3",
   "language": "python",
   "name": "python3"
  },
  "language_info": {
   "codemirror_mode": {
    "name": "ipython",
    "version": 3
   },
   "file_extension": ".py",
   "mimetype": "text/x-python",
   "name": "python",
   "nbconvert_exporter": "python",
   "pygments_lexer": "ipython3",
   "version": "3.8.8"
  }
 },
 "nbformat": 4,
 "nbformat_minor": 5
}
