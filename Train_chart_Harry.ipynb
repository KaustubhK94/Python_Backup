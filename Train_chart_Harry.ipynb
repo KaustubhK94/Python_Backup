{
 "cells": [
  {
   "cell_type": "code",
   "execution_count": 1,
   "id": "b8adebd6",
   "metadata": {},
   "outputs": [
    {
     "name": "stdout",
     "output_type": "stream",
     "text": [
      "The name of the train is Intercity express, 14015\n",
      "the price of the ticket of the train Intercity express, 14015 is Rs. 90\n",
      "The seats available in this train are  10\n",
      "Your seat has been booked and your ticket Number is 10\n",
      "Your seat has been booked and your ticket Number is 9\n",
      "Your seat has been booked and your ticket Number is 8\n",
      "The seats available in this train are  7\n",
      "Enter Your Ticket Number: 11\n",
      "Your Ticket Number does not exist ergo cannot be Cancelled\n",
      "The seats available in this train are  7\n",
      "Your seat has been booked and your ticket Number is 7\n",
      "Your seat has been booked and your ticket Number is 6\n",
      "Enter Your Ticket Number: 9\n",
      "Your Ticket has been cancelled.!\n",
      "Your seat has been booked and your ticket Number is 9\n"
     ]
    }
   ],
   "source": [
    "reservation = []\n",
    "class Train:\n",
    "    def __init__(self,train,fare,seats):\n",
    "        self.train = train\n",
    "        self.fare = fare\n",
    "        self.seats = seats\n",
    "    def getinfo(self):\n",
    "        print(f\"The name of the train is {self.train}\")\n",
    "    def fareinfo(self):    \n",
    "        print(f\"the price of the ticket of the train {self.train} is Rs. {self.fare}\")      \n",
    "# self.seats = [1, 2, 3, 4, 5, 6, 7, 8, 9, 10] \n",
    "        self.seats = list(range(1,11))\n",
    "    def getstatus(self):\n",
    "        print(\"The seats available in this train are \", len(self.seats))\n",
    "    def bookticket(self):\n",
    "        if len(self.seats) > 0:\n",
    "           seatno = self.seats[-1]\n",
    "           print(f\"Your seat has been booked and your ticket Number is {seatno}\")\n",
    "           self.seats.remove(seatno)\n",
    "           reservation.append(seatno)\n",
    "        else:\n",
    "            print(\"Seats are currently not available\")         \n",
    "    def cancelticket(self):\n",
    "        seatnocancel = int(input(\"Enter Your Ticket Number: \"))\n",
    "        if seatnocancel in reservation :\n",
    "            print(\"Your Ticket has been cancelled.!\")\n",
    "            reservation.remove(seatnocancel)\n",
    "            self.seats.append(seatnocancel)\n",
    "        else:\n",
    "            print(\"Your Ticket Number does not exist ergo cannot be Cancelled\")\n",
    "\n",
    "intercity = Train(\"Intercity express, 14015\", 90, 10)\n",
    "intercity.getinfo()\n",
    "intercity.fareinfo()\n",
    "intercity.getstatus()\n",
    "intercity.bookticket()\n",
    "intercity.bookticket()\n",
    "intercity.bookticket()\n",
    "intercity.getstatus()\n",
    "intercity.cancelticket()\n",
    "intercity.getstatus()\n",
    "intercity.bookticket()\n",
    "intercity.bookticket()\n",
    "intercity.cancelticket()\n",
    "intercity.bookticket()\n"
   ]
  },
  {
   "cell_type": "code",
   "execution_count": null,
   "id": "d10eff2f",
   "metadata": {},
   "outputs": [],
   "source": []
  }
 ],
 "metadata": {
  "kernelspec": {
   "display_name": "Python 3 (ipykernel)",
   "language": "python",
   "name": "python3"
  },
  "language_info": {
   "codemirror_mode": {
    "name": "ipython",
    "version": 3
   },
   "file_extension": ".py",
   "mimetype": "text/x-python",
   "name": "python",
   "nbconvert_exporter": "python",
   "pygments_lexer": "ipython3",
   "version": "3.8.12"
  }
 },
 "nbformat": 4,
 "nbformat_minor": 5
}
