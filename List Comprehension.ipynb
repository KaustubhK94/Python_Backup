{
 "cells": [
  {
   "cell_type": "code",
   "execution_count": 1,
   "id": "29c43e6a",
   "metadata": {},
   "outputs": [],
   "source": [
    "mystring = 'hello'"
   ]
  },
  {
   "cell_type": "code",
   "execution_count": 2,
   "id": "b6208ce7",
   "metadata": {},
   "outputs": [],
   "source": [
    "mylist = []\n",
    "for letter in mystring:\n",
    "    mylist.append(letter)"
   ]
  },
  {
   "cell_type": "code",
   "execution_count": 3,
   "id": "e6567b5a",
   "metadata": {},
   "outputs": [
    {
     "data": {
      "text/plain": [
       "['h', 'e', 'l', 'l', 'o']"
      ]
     },
     "execution_count": 3,
     "metadata": {},
     "output_type": "execute_result"
    }
   ],
   "source": [
    "mylist"
   ]
  },
  {
   "cell_type": "code",
   "execution_count": 4,
   "id": "5a7419a6",
   "metadata": {},
   "outputs": [],
   "source": [
    "mylist = [letter for letter in mystring]"
   ]
  },
  {
   "cell_type": "code",
   "execution_count": 5,
   "id": "ebb1b569",
   "metadata": {},
   "outputs": [
    {
     "data": {
      "text/plain": [
       "['h', 'e', 'l', 'l', 'o']"
      ]
     },
     "execution_count": 5,
     "metadata": {},
     "output_type": "execute_result"
    }
   ],
   "source": [
    "mylist"
   ]
  },
  {
   "cell_type": "code",
   "execution_count": 6,
   "id": "9e1f5195",
   "metadata": {},
   "outputs": [],
   "source": [
    "my_list = [element for element in 'Kaustubh'] "
   ]
  },
  {
   "cell_type": "code",
   "execution_count": 7,
   "id": "34133875",
   "metadata": {},
   "outputs": [
    {
     "data": {
      "text/plain": [
       "['K', 'a', 'u', 's', 't', 'u', 'b', 'h']"
      ]
     },
     "execution_count": 7,
     "metadata": {},
     "output_type": "execute_result"
    }
   ],
   "source": [
    "my_list"
   ]
  },
  {
   "cell_type": "code",
   "execution_count": 10,
   "id": "391df73c",
   "metadata": {},
   "outputs": [],
   "source": [
    "my_list = [x for x in range(0,11)]"
   ]
  },
  {
   "cell_type": "code",
   "execution_count": 11,
   "id": "da047f04",
   "metadata": {},
   "outputs": [
    {
     "data": {
      "text/plain": [
       "[0, 1, 2, 3, 4, 5, 6, 7, 8, 9, 10]"
      ]
     },
     "execution_count": 11,
     "metadata": {},
     "output_type": "execute_result"
    }
   ],
   "source": [
    "my_list"
   ]
  },
  {
   "cell_type": "code",
   "execution_count": 20,
   "id": "8aca4e8b",
   "metadata": {},
   "outputs": [],
   "source": [
    "sqaure_no = [num**2 for num in range(0,10)]"
   ]
  },
  {
   "cell_type": "code",
   "execution_count": 21,
   "id": "0f44e16e",
   "metadata": {},
   "outputs": [
    {
     "data": {
      "text/plain": [
       "[0, 1, 4, 9, 16, 25, 36, 49, 64, 81]"
      ]
     },
     "execution_count": 21,
     "metadata": {},
     "output_type": "execute_result"
    }
   ],
   "source": [
    "sqaure_no"
   ]
  },
  {
   "cell_type": "code",
   "execution_count": 22,
   "id": "a53f1bab",
   "metadata": {},
   "outputs": [],
   "source": [
    "mylist = [x for x in range(1,11) if x%2==0]"
   ]
  },
  {
   "cell_type": "code",
   "execution_count": 23,
   "id": "2b613879",
   "metadata": {},
   "outputs": [
    {
     "data": {
      "text/plain": [
       "[2, 4, 6, 8, 10]"
      ]
     },
     "execution_count": 23,
     "metadata": {},
     "output_type": "execute_result"
    }
   ],
   "source": [
    "mylist"
   ]
  },
  {
   "cell_type": "code",
   "execution_count": 4,
   "id": "df7cde3f",
   "metadata": {},
   "outputs": [],
   "source": [
    "celcius = [0,10,20,35.6,42]\n",
    "fahrenheit = [(9/5*temp + 32) for temp in celcius]"
   ]
  },
  {
   "cell_type": "code",
   "execution_count": 5,
   "id": "270108d1",
   "metadata": {},
   "outputs": [
    {
     "data": {
      "text/plain": [
       "[32.0, 50.0, 68.0, 96.08, 107.60000000000001]"
      ]
     },
     "execution_count": 5,
     "metadata": {},
     "output_type": "execute_result"
    }
   ],
   "source": [
    "fahrenheit"
   ]
  },
  {
   "cell_type": "code",
   "execution_count": 6,
   "id": "b7962668",
   "metadata": {},
   "outputs": [],
   "source": [
    "fahrenheits = []\n",
    "for temp in celcius:\n",
    "    fahrenheits.append((9/5*temp + 32))"
   ]
  },
  {
   "cell_type": "code",
   "execution_count": 8,
   "id": "a8e450f1",
   "metadata": {},
   "outputs": [
    {
     "data": {
      "text/plain": [
       "[32.0, 50.0, 68.0, 96.08, 107.60000000000001]"
      ]
     },
     "execution_count": 8,
     "metadata": {},
     "output_type": "execute_result"
    }
   ],
   "source": [
    "fahrenheits"
   ]
  },
  {
   "cell_type": "code",
   "execution_count": 3,
   "id": "72b54dc5",
   "metadata": {},
   "outputs": [],
   "source": [
    "results = [x if x%2==0  else 'odd' for x in range(0,11) ]"
   ]
  },
  {
   "cell_type": "code",
   "execution_count": 4,
   "id": "0038b279",
   "metadata": {},
   "outputs": [
    {
     "data": {
      "text/plain": [
       "[0, 'odd', 2, 'odd', 4, 'odd', 6, 'odd', 8, 'odd', 10]"
      ]
     },
     "execution_count": 4,
     "metadata": {},
     "output_type": "execute_result"
    }
   ],
   "source": [
    "results"
   ]
  },
  {
   "cell_type": "code",
   "execution_count": 7,
   "id": "69cc98ff",
   "metadata": {},
   "outputs": [],
   "source": [
    "# Nested Loops\n",
    "my_list =[]\n",
    "for x in [2,4,6]:\n",
    "    for y in [1,100,1000]:\n",
    "        my_list.append(x*y)"
   ]
  },
  {
   "cell_type": "code",
   "execution_count": 8,
   "id": "9293085f",
   "metadata": {},
   "outputs": [
    {
     "data": {
      "text/plain": [
       "[2, 200, 2000, 4, 400, 4000, 6, 600, 6000]"
      ]
     },
     "execution_count": 8,
     "metadata": {},
     "output_type": "execute_result"
    }
   ],
   "source": [
    "my_list"
   ]
  },
  {
   "cell_type": "code",
   "execution_count": 9,
   "id": "26c0b6bb",
   "metadata": {},
   "outputs": [],
   "source": [
    "my_list = [x*y for x in [2,3,6] for y in [1,10,1000]]"
   ]
  },
  {
   "cell_type": "code",
   "execution_count": 10,
   "id": "347907b6",
   "metadata": {},
   "outputs": [
    {
     "data": {
      "text/plain": [
       "[2, 20, 2000, 3, 30, 3000, 6, 60, 6000]"
      ]
     },
     "execution_count": 10,
     "metadata": {},
     "output_type": "execute_result"
    }
   ],
   "source": [
    "my_list"
   ]
  },
  {
   "cell_type": "code",
   "execution_count": 1,
   "id": "e81c38a7",
   "metadata": {},
   "outputs": [],
   "source": [
    "def conv_decimal(num):\n",
    "#   converted the integer into a list as integers not iterables \n",
    "    res = [int(x) for x in str(num)]\n",
    "    decimal,n = 0,0\n",
    "#   reversed the list\n",
    "    reve_res = res[::-1]\n",
    "    for i in reve_res:\n",
    "        decimal = decimal + i*2**n\n",
    "        n+=1\n",
    "    print(f\"{decimal}\")"
   ]
  },
  {
   "cell_type": "code",
   "execution_count": 2,
   "id": "c4a02f19",
   "metadata": {},
   "outputs": [
    {
     "name": "stdout",
     "output_type": "stream",
     "text": [
      "32\n"
     ]
    }
   ],
   "source": [
    "conv_decimal(100000)"
   ]
  },
  {
   "cell_type": "code",
   "execution_count": null,
   "id": "1a4e7af7",
   "metadata": {},
   "outputs": [],
   "source": []
  }
 ],
 "metadata": {
  "kernelspec": {
   "display_name": "Python 3 (ipykernel)",
   "language": "python",
   "name": "python3"
  },
  "language_info": {
   "codemirror_mode": {
    "name": "ipython",
    "version": 3
   },
   "file_extension": ".py",
   "mimetype": "text/x-python",
   "name": "python",
   "nbconvert_exporter": "python",
   "pygments_lexer": "ipython3",
   "version": "3.9.13"
  }
 },
 "nbformat": 4,
 "nbformat_minor": 5
}
