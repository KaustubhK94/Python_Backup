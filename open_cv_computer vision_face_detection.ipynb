{
 "cells": [
  {
   "cell_type": "code",
   "execution_count": 4,
   "id": "fd61ba5e",
   "metadata": {},
   "outputs": [],
   "source": [
    "import cv2"
   ]
  },
  {
   "cell_type": "code",
   "execution_count": 3,
   "id": "68d7a09d",
   "metadata": {},
   "outputs": [
    {
     "name": "stdout",
     "output_type": "stream",
     "text": [
      "Defaulting to user installation because normal site-packages is not writeable\n"
     ]
    },
    {
     "name": "stderr",
     "output_type": "stream",
     "text": [
      "ERROR: Could not find a version that satisfies the requirement opencv (from versions: none)\n",
      "ERROR: No matching distribution found for opencv\n"
     ]
    }
   ],
   "source": [
    "# !pip install opencv"
   ]
  },
  {
   "cell_type": "code",
   "execution_count": 13,
   "id": "205d9ae2",
   "metadata": {},
   "outputs": [],
   "source": [
    "img = cv2.imread(\"C:\\\\Users\\\\kaustubh kapare\\\\Downloads\\\\mclaren.jpg\",1)"
   ]
  },
  {
   "cell_type": "code",
   "execution_count": 14,
   "id": "631fcc37",
   "metadata": {},
   "outputs": [
    {
     "name": "stdout",
     "output_type": "stream",
     "text": [
      "[[[255 255 255]\n",
      "  [255 255 255]\n",
      "  [255 255 255]\n",
      "  ...\n",
      "  [255 255 255]\n",
      "  [255 255 255]\n",
      "  [255 255 255]]\n",
      "\n",
      " [[255 255 255]\n",
      "  [255 255 255]\n",
      "  [255 255 255]\n",
      "  ...\n",
      "  [255 255 255]\n",
      "  [255 255 255]\n",
      "  [255 255 255]]\n",
      "\n",
      " [[255 255 255]\n",
      "  [255 255 255]\n",
      "  [255 255 255]\n",
      "  ...\n",
      "  [255 255 255]\n",
      "  [255 255 255]\n",
      "  [255 255 255]]\n",
      "\n",
      " ...\n",
      "\n",
      " [[121 120 122]\n",
      "  [121 120 122]\n",
      "  [121 120 122]\n",
      "  ...\n",
      "  [125 127 128]\n",
      "  [126 128 129]\n",
      "  [126 128 129]]\n",
      "\n",
      " [[121 120 122]\n",
      "  [121 120 122]\n",
      "  [121 120 122]\n",
      "  ...\n",
      "  [126 128 129]\n",
      "  [125 127 128]\n",
      "  [125 127 128]]\n",
      "\n",
      " [[120 119 121]\n",
      "  [121 120 122]\n",
      "  [121 120 122]\n",
      "  ...\n",
      "  [126 128 129]\n",
      "  [125 127 128]\n",
      "  [125 127 128]]]\n"
     ]
    }
   ],
   "source": [
    "print(img)"
   ]
  },
  {
   "cell_type": "code",
   "execution_count": 15,
   "id": "34190974",
   "metadata": {},
   "outputs": [],
   "source": [
    "resized = cv2.resize(img,(600,600))"
   ]
  },
  {
   "cell_type": "code",
   "execution_count": 16,
   "id": "f6971869",
   "metadata": {},
   "outputs": [],
   "source": [
    "# cv2.imshow(\"Wine\",resized)"
   ]
  },
  {
   "cell_type": "code",
   "execution_count": 6,
   "id": "f6b55b19",
   "metadata": {},
   "outputs": [],
   "source": [
    "# cv2.waitKey(2000)"
   ]
  },
  {
   "cell_type": "code",
   "execution_count": 7,
   "id": "41934a20",
   "metadata": {},
   "outputs": [],
   "source": [
    "# cv2.destroyAllWindows()"
   ]
  },
  {
   "cell_type": "code",
   "execution_count": 8,
   "id": "b72f1223",
   "metadata": {},
   "outputs": [],
   "source": [
    "# type(resized)"
   ]
  },
  {
   "cell_type": "code",
   "execution_count": 9,
   "id": "c959422d",
   "metadata": {},
   "outputs": [],
   "source": [
    "# print(img.shape)"
   ]
  },
  {
   "cell_type": "code",
   "execution_count": 10,
   "id": "4a2ba5df",
   "metadata": {},
   "outputs": [],
   "source": [
    "# print(resized.shape)"
   ]
  },
  {
   "cell_type": "code",
   "execution_count": 12,
   "id": "b31da81d",
   "metadata": {},
   "outputs": [
    {
     "name": "stdout",
     "output_type": "stream",
     "text": [
      "[[[255 255 255]\n",
      "  [255 255 255]\n",
      "  [255 255 255]\n",
      "  ...\n",
      "  [255 255 255]\n",
      "  [255 255 255]\n",
      "  [255 255 255]]\n",
      "\n",
      " [[255 255 255]\n",
      "  [255 255 255]\n",
      "  [255 255 255]\n",
      "  ...\n",
      "  [255 255 255]\n",
      "  [255 255 255]\n",
      "  [255 255 255]]\n",
      "\n",
      " [[255 255 255]\n",
      "  [255 255 255]\n",
      "  [255 255 255]\n",
      "  ...\n",
      "  [255 255 255]\n",
      "  [255 255 255]\n",
      "  [255 255 255]]\n",
      "\n",
      " ...\n",
      "\n",
      " [[121 120 122]\n",
      "  [121 120 122]\n",
      "  [121 120 122]\n",
      "  ...\n",
      "  [125 127 128]\n",
      "  [126 128 129]\n",
      "  [126 128 129]]\n",
      "\n",
      " [[121 120 122]\n",
      "  [121 120 122]\n",
      "  [121 120 122]\n",
      "  ...\n",
      "  [126 128 129]\n",
      "  [125 127 128]\n",
      "  [125 127 128]]\n",
      "\n",
      " [[120 119 121]\n",
      "  [121 120 122]\n",
      "  [121 120 122]\n",
      "  ...\n",
      "  [126 128 129]\n",
      "  [125 127 128]\n",
      "  [125 127 128]]]\n",
      "(2048, 1686, 3)\n",
      "[[255 255 255 ... 255 255 255]\n",
      " [255 255 255 ... 255 255 255]\n",
      " [255 255 255 ... 255 255 255]\n",
      " ...\n",
      " [121 121 121 ... 127 128 128]\n",
      " [121 121 121 ... 128 127 127]\n",
      " [120 121 121 ... 128 127 127]]\n"
     ]
    }
   ],
   "source": [
    "import numpy as np\n",
    "# import cv2\n",
    "\n",
    "face_cascade = cv2.CascadeClassifier('C:/Users/kaustubh kapare/Downloads/haarcascade_frontalface_default.xml')\n",
    "eye_cascade = cv2.CascadeClassifier('C:/Users/kaustubh kapare/Downloads/haarcascade_eye.xml')\n",
    "\n",
    "img = cv2.imread('C:/Users/kaustubh kapare/Downloads/mclaren.jpg')\n",
    "gray = cv2.cvtColor(img,cv2.COLOR_BGR2GRAY)\n",
    "\n",
    "print(img)\n",
    "print(img.shape)\n",
    "print(gray)\n",
    "\n",
    "faces = face_cascade.detectMultiScale(gray, 1.3, 5) \n",
    "\n",
    "for (x,y,w,h) in faces:\n",
    "    img = cv2.rectangle(img,(x,y),(x+w,y+h),(255,0,0),2)\n",
    "    roi_gray = gray[y:y+h, x:x+w]\n",
    "    roi_color = img[y:y+h, x:x+w]\n",
    "    eyes = eye_cascade.detectMultiScale(roi_gray)\n",
    "    for (ex,ey,ew,eh) in eyes:\n",
    "        cv2.rectangle(roi_color,(ex,ey),(ex+ew,ey+eh),(0,255,0),2)\n",
    "\n",
    "cv2.imshow('img',img)\n",
    "cv2.waitKey(0)\n",
    "cv2.destroyAllWindows()"
   ]
  },
  {
   "cell_type": "code",
   "execution_count": 5,
   "id": "75b5c87d",
   "metadata": {},
   "outputs": [],
   "source": [
    "# import cv2 \n",
    "# video = cv2.VideoCapture(0)\n",
    "# video.release"
   ]
  },
  {
   "cell_type": "code",
   "execution_count": null,
   "id": "05561eed",
   "metadata": {},
   "outputs": [],
   "source": []
  },
  {
   "cell_type": "code",
   "execution_count": 2,
   "id": "d0727425",
   "metadata": {},
   "outputs": [],
   "source": [
    "import cv2 as cv"
   ]
  },
  {
   "cell_type": "code",
   "execution_count": 3,
   "id": "63d81b5d",
   "metadata": {},
   "outputs": [],
   "source": [
    "img = cv.imread(\"C:/Users/kaustubh kapare/Downloads/banglore.jpg\")"
   ]
  },
  {
   "cell_type": "code",
   "execution_count": 4,
   "id": "1c9b4e2b",
   "metadata": {},
   "outputs": [
    {
     "name": "stdout",
     "output_type": "stream",
     "text": [
      "[[[107  82  86]\n",
      "  [107  82  86]\n",
      "  [114  89  93]\n",
      "  ...\n",
      "  [ 11  13  23]\n",
      "  [ 10  12  22]\n",
      "  [  9  11  21]]\n",
      "\n",
      " [[111  86  90]\n",
      "  [109  84  88]\n",
      "  [113  88  92]\n",
      "  ...\n",
      "  [  9  11  21]\n",
      "  [  9  11  21]\n",
      "  [ 10  12  22]]\n",
      "\n",
      " [[105  82  86]\n",
      "  [104  81  85]\n",
      "  [107  84  88]\n",
      "  ...\n",
      "  [  7   9  19]\n",
      "  [  9  11  21]\n",
      "  [ 12  14  24]]\n",
      "\n",
      " ...\n",
      "\n",
      " [[ 94 105 103]\n",
      "  [ 87  98  96]\n",
      "  [ 73  82  79]\n",
      "  ...\n",
      "  [ 39  45  56]\n",
      "  [ 42  48  59]\n",
      "  [ 44  50  61]]\n",
      "\n",
      " [[ 92 105 103]\n",
      "  [ 85  98  96]\n",
      "  [ 73  84  81]\n",
      "  ...\n",
      "  [ 41  47  60]\n",
      "  [ 42  50  63]\n",
      "  [ 44  52  65]]\n",
      "\n",
      " [[ 90 103 101]\n",
      "  [ 83  96  94]\n",
      "  [ 72  83  80]\n",
      "  ...\n",
      "  [ 42  48  61]\n",
      "  [ 43  50  65]\n",
      "  [ 46  53  68]]]\n"
     ]
    }
   ],
   "source": [
    "print(img)"
   ]
  },
  {
   "cell_type": "code",
   "execution_count": 11,
   "id": "2fa9b021",
   "metadata": {},
   "outputs": [],
   "source": [
    "# cv.imshow(\"banglore\",img)"
   ]
  },
  {
   "cell_type": "code",
   "execution_count": 5,
   "id": "475dbc73",
   "metadata": {},
   "outputs": [],
   "source": [
    "# cv.waitKey(0)"
   ]
  },
  {
   "cell_type": "code",
   "execution_count": 6,
   "id": "f8ca3511",
   "metadata": {},
   "outputs": [],
   "source": [
    "# capture = cv.VideoCapture()\n",
    "# # we use a whiel loop to read a video frame frame \n",
    "# while True:\n",
    "# #        isTrue, frame = capture.read()\n",
    "# cv2.imageshow(\"video\",frame)                   #imageshow(\"Video\",frame)\n",
    "# cv.waitKey(0)"
   ]
  },
  {
   "cell_type": "code",
   "execution_count": 1,
   "id": "99cb9076",
   "metadata": {
    "scrolled": true
   },
   "outputs": [],
   "source": [
    "import cv2 as cv\n",
    "video = cv.VideoCapture(0)\n",
    "while True:\n",
    "    isTrue, frame = video.read()\n",
    "    cv.imshow(\"video\",frame)\n",
    "    if cv.waitKey(20) &  0xFF== ord('d'):\n",
    "        break\n",
    "video.release()\n",
    "cv.destroyAllWindows()\n",
    "    \n",
    "# check, frame = video.read()\n",
    "# print(check)\n",
    "# print(frame)\n",
    "# time.sleep(3)\n",
    "# video.release()"
   ]
  },
  {
   "cell_type": "code",
   "execution_count": 1,
   "id": "6424a814",
   "metadata": {},
   "outputs": [
    {
     "data": {
      "text/plain": [
       "-1"
      ]
     },
     "execution_count": 1,
     "metadata": {},
     "output_type": "execute_result"
    }
   ],
   "source": [
    "import cv2 as cv\n",
    "img = cv.imread(\"C:/Users/kaustubh kapare/Downloads/banglore.jpg\")\n",
    "cv.imshow(\"banglore\",img)\n",
    "cv.waitKey(0)"
   ]
  },
  {
   "cell_type": "code",
   "execution_count": null,
   "id": "faf64098",
   "metadata": {},
   "outputs": [],
   "source": []
  },
  {
   "cell_type": "code",
   "execution_count": null,
   "id": "13e4bb77",
   "metadata": {},
   "outputs": [],
   "source": []
  }
 ],
 "metadata": {
  "kernelspec": {
   "display_name": "Python 3 (ipykernel)",
   "language": "python",
   "name": "python3"
  },
  "language_info": {
   "codemirror_mode": {
    "name": "ipython",
    "version": 3
   },
   "file_extension": ".py",
   "mimetype": "text/x-python",
   "name": "python",
   "nbconvert_exporter": "python",
   "pygments_lexer": "ipython3",
   "version": "3.9.13"
  }
 },
 "nbformat": 4,
 "nbformat_minor": 5
}
