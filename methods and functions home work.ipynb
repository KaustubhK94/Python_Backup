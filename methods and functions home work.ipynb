{
 "cells": [
  {
   "cell_type": "code",
   "execution_count": 1,
   "id": "5f51b71e",
   "metadata": {},
   "outputs": [],
   "source": [
    "# methods and functions home work"
   ]
  },
  {
   "cell_type": "code",
   "execution_count": 2,
   "id": "18faf7ab",
   "metadata": {},
   "outputs": [],
   "source": [
    "# write a function that computes the volume of a spehere given it's radius.\n",
    "# the volume of the sphere is given as 4/3 pi r**3"
   ]
  },
  {
   "cell_type": "code",
   "execution_count": 3,
   "id": "89c2dfd0",
   "metadata": {},
   "outputs": [],
   "source": [
    "def vol(rad):\n",
    "    return (4/3)*(3.14)*(rad**3)"
   ]
  },
  {
   "cell_type": "code",
   "execution_count": 4,
   "id": "f1ff1b3e",
   "metadata": {},
   "outputs": [
    {
     "data": {
      "text/plain": [
       "33.49333333333333"
      ]
     },
     "execution_count": 4,
     "metadata": {},
     "output_type": "execute_result"
    }
   ],
   "source": [
    "vol(2)"
   ]
  },
  {
   "cell_type": "code",
   "execution_count": 5,
   "id": "41050543",
   "metadata": {},
   "outputs": [],
   "source": [
    "# write a funtion that whether a number is in given range(inclusive of high and\n",
    "# Low)"
   ]
  },
  {
   "cell_type": "code",
   "execution_count": 6,
   "id": "4905c201",
   "metadata": {},
   "outputs": [
    {
     "name": "stdout",
     "output_type": "stream",
     "text": [
      "0\n",
      "1\n",
      "2\n",
      "3\n",
      "4\n",
      "5\n"
     ]
    }
   ],
   "source": [
    "for item in range(0,5+1):\n",
    "    print(item)"
   ]
  },
  {
   "cell_type": "code",
   "execution_count": 10,
   "id": "d5076a32",
   "metadata": {},
   "outputs": [
    {
     "data": {
      "text/plain": [
       "True"
      ]
     },
     "execution_count": 10,
     "metadata": {},
     "output_type": "execute_result"
    }
   ],
   "source": [
    "5 in range(0,10)"
   ]
  },
  {
   "cell_type": "code",
   "execution_count": 16,
   "id": "da69bb66",
   "metadata": {},
   "outputs": [],
   "source": [
    "def ran_check(num,low,high):\n",
    "    if num in range(low,high+1):\n",
    "        print(f'{num}  num is in range of {low} and {high}')\n",
    "        \n",
    "    else:\n",
    "        print('not in given range')"
   ]
  },
  {
   "cell_type": "code",
   "execution_count": 17,
   "id": "e48f08ae",
   "metadata": {},
   "outputs": [
    {
     "name": "stdout",
     "output_type": "stream",
     "text": [
      "5  num is in range of 2 and 7\n"
     ]
    }
   ],
   "source": [
    "ran_check(5,2,7)"
   ]
  },
  {
   "cell_type": "code",
   "execution_count": 18,
   "id": "a43e4aeb",
   "metadata": {},
   "outputs": [],
   "source": [
    "#  write a python function that accepts a string and calculates the number of \n",
    "# upper case and lower case letters \n",
    "# hint .isupper and .islower\n",
    "# also Collections Module"
   ]
  },
  {
   "cell_type": "code",
   "execution_count": 36,
   "id": "ee5fe134",
   "metadata": {},
   "outputs": [],
   "source": [
    "def up_low(s):\n",
    "    lowercase = 0\n",
    "    uppercase = 0\n",
    "    for char in s:\n",
    "        if char .isupper():\n",
    "            uppercase += 1\n",
    "        elif char .islower():\n",
    "            lowercase += 1\n",
    "        else:\n",
    "            pass\n",
    "    print(f\"Original string: {s}\")\n",
    "    print(f\"uppercase count: {uppercase}\")\n",
    "    print(f\"Lowercase count: {lowercase}\")"
   ]
  },
  {
   "cell_type": "code",
   "execution_count": 37,
   "id": "e6541172",
   "metadata": {},
   "outputs": [
    {
     "name": "stdout",
     "output_type": "stream",
     "text": [
      "Original string: Hello Mr. Rogers, how are you this fine Tuesday\n",
      "uppercase count: 4\n",
      "Lowercase count: 33\n"
     ]
    }
   ],
   "source": [
    "s = 'Hello Mr. Rogers, how are you this fine Tuesday'\n",
    "up_low(s)"
   ]
  },
  {
   "cell_type": "code",
   "execution_count": 38,
   "id": "b79d8f2f",
   "metadata": {},
   "outputs": [],
   "source": [
    "#  can be done by maintaining dictionary as well..!!!"
   ]
  },
  {
   "cell_type": "code",
   "execution_count": 39,
   "id": "bc0cc5d8",
   "metadata": {},
   "outputs": [],
   "source": [
    "def up_low(s):\n",
    "    d = {'lower':0 ,'upper':0}\n",
    "    for char in s:\n",
    "        if char .isupper():\n",
    "            d['upper'] += 1\n",
    "        elif char .islower():\n",
    "            d['lower'] += 1\n",
    "        else:\n",
    "            pass\n",
    "    print(f\"Original string: {s}\")\n",
    "    print(f\"uppercase count: {d['upper']}\")\n",
    "    print(f\"Lowercase count: {d['lower']}\")"
   ]
  },
  {
   "cell_type": "code",
   "execution_count": 40,
   "id": "6f39d205",
   "metadata": {},
   "outputs": [
    {
     "name": "stdout",
     "output_type": "stream",
     "text": [
      "Original string: Hello Mr. Rogers, how are you this fine Tuesday\n",
      "uppercase count: 4\n",
      "Lowercase count: 33\n"
     ]
    }
   ],
   "source": [
    "s = 'Hello Mr. Rogers, how are you this fine Tuesday'\n",
    "up_low(s)"
   ]
  },
  {
   "cell_type": "code",
   "execution_count": 41,
   "id": "e979fabf",
   "metadata": {},
   "outputs": [],
   "source": [
    "# write a function that takes a list and returns a new list with \n",
    "# unique elements of the first list"
   ]
  },
  {
   "cell_type": "code",
   "execution_count": 46,
   "id": "71c5c68c",
   "metadata": {},
   "outputs": [],
   "source": [
    "def unique_list(lst):\n",
    "    x = []\n",
    "    for item in lst:\n",
    "        if item not in x:\n",
    "            x.append(item)\n",
    "    return x"
   ]
  },
  {
   "cell_type": "code",
   "execution_count": 50,
   "id": "ce394551",
   "metadata": {},
   "outputs": [
    {
     "data": {
      "text/plain": [
       "[1, 2, 3, 4, 5, 6, 7, 8, 9]"
      ]
     },
     "execution_count": 50,
     "metadata": {},
     "output_type": "execute_result"
    }
   ],
   "source": [
    "unique_list([1,1,1,2,3,4,4,4,5,5,5,2,3,4,5,6,7,8,9])"
   ]
  },
  {
   "cell_type": "code",
   "execution_count": 51,
   "id": "8a4bb1da",
   "metadata": {},
   "outputs": [],
   "source": [
    "#  write a function to multiply all the numbers in the list"
   ]
  },
  {
   "cell_type": "code",
   "execution_count": 52,
   "id": "4790bcaa",
   "metadata": {},
   "outputs": [],
   "source": [
    "def multiply(lst):\n",
    "    total = 1\n",
    "    for item in lst:\n",
    "        total = total*item\n",
    "    return total"
   ]
  },
  {
   "cell_type": "code",
   "execution_count": 53,
   "id": "d0cf35ec",
   "metadata": {},
   "outputs": [
    {
     "data": {
      "text/plain": [
       "-1740000.0"
      ]
     },
     "execution_count": 53,
     "metadata": {},
     "output_type": "execute_result"
    }
   ],
   "source": [
    "multiply([1,2,3,4,10.-20,50,145])"
   ]
  },
  {
   "cell_type": "code",
   "execution_count": 54,
   "id": "1c950b28",
   "metadata": {},
   "outputs": [],
   "source": [
    "# write a function thaat check whether a word or phrase is palindrome or not"
   ]
  },
  {
   "cell_type": "code",
   "execution_count": 58,
   "id": "7f535038",
   "metadata": {},
   "outputs": [],
   "source": [
    "def palindrome(s):\n",
    "    if s==s[::-1]:\n",
    "        print(\"It is a Palindrome\")\n",
    "    else:\n",
    "        print(\"It is not a palindrome\")\n",
    "# it will only work with a word an not with a phrase..!!!!"
   ]
  },
  {
   "cell_type": "code",
   "execution_count": 74,
   "id": "911d99a3",
   "metadata": {},
   "outputs": [],
   "source": [
    "def palindrome(s):\n",
    "#     remove spaces string\n",
    "      s = s.replace(\" \",\"\")\n",
    "      return s==s[::-1] "
   ]
  },
  {
   "cell_type": "code",
   "execution_count": 76,
   "id": "1bbb89d3",
   "metadata": {},
   "outputs": [
    {
     "data": {
      "text/plain": [
       "True"
      ]
     },
     "execution_count": 76,
     "metadata": {},
     "output_type": "execute_result"
    }
   ],
   "source": [
    "palindrome(\"nurses run\")"
   ]
  },
  {
   "cell_type": "code",
   "execution_count": 77,
   "id": "91891da0",
   "metadata": {},
   "outputs": [],
   "source": [
    "# write a function to check whether a string is a pangram or not(assume\n",
    "# string does not have a punctuation)\n"
   ]
  },
  {
   "cell_type": "code",
   "execution_count": 83,
   "id": "86fb74d0",
   "metadata": {},
   "outputs": [],
   "source": [
    "import string\n",
    "def ispangram(str1,alphabet = string.ascii_lowercase):\n",
    "#     create a set of all alphabet\n",
    "    alphaset = set(alphabet)\n",
    "#     remove any spaces from the input string\n",
    "    str1 = str1.replace(\" \",\"\")\n",
    "#     covert all to the lower case\n",
    "    str1 = str1.lower()\n",
    "#     grab all the letter from the strin set()\n",
    "    str1 = set(str1)\n",
    "#     alphabet set == string set input\n",
    "    return str1 == alphaset"
   ]
  },
  {
   "cell_type": "code",
   "execution_count": 84,
   "id": "ca124f60",
   "metadata": {},
   "outputs": [
    {
     "data": {
      "text/plain": [
       "True"
      ]
     },
     "execution_count": 84,
     "metadata": {},
     "output_type": "execute_result"
    }
   ],
   "source": [
    "ispangram(\"The quick brown fox jumps over the lazy dog\")"
   ]
  },
  {
   "cell_type": "code",
   "execution_count": null,
   "id": "f463240d",
   "metadata": {},
   "outputs": [],
   "source": []
  }
 ],
 "metadata": {
  "kernelspec": {
   "display_name": "Python 3 (ipykernel)",
   "language": "python",
   "name": "python3"
  },
  "language_info": {
   "codemirror_mode": {
    "name": "ipython",
    "version": 3
   },
   "file_extension": ".py",
   "mimetype": "text/x-python",
   "name": "python",
   "nbconvert_exporter": "python",
   "pygments_lexer": "ipython3",
   "version": "3.8.12"
  }
 },
 "nbformat": 4,
 "nbformat_minor": 5
}
