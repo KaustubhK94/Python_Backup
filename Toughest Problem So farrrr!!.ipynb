{
 "cells": [
  {
   "cell_type": "code",
   "execution_count": 1,
   "id": "6c31341b",
   "metadata": {},
   "outputs": [],
   "source": [
    "# my_list = [1,6,3,9,5]"
   ]
  },
  {
   "cell_type": "code",
   "execution_count": 2,
   "id": "5dfd32b0",
   "metadata": {},
   "outputs": [],
   "source": [
    "# a = pos6(my_list)"
   ]
  },
  {
   "cell_type": "code",
   "execution_count": 3,
   "id": "dbc3f28d",
   "metadata": {},
   "outputs": [],
   "source": [
    "# b = pos9(my_list)"
   ]
  },
  {
   "cell_type": "code",
   "execution_count": 4,
   "id": "f6508f0a",
   "metadata": {},
   "outputs": [],
   "source": [
    "# list/array\n",
    "# check whether 6 and 9 are present if present then in what order.?\n",
    "# assign a variable to indices of both digits\n",
    "# let the function decide the outcome..\n",
    "# now chill...!!!!"
   ]
  },
  {
   "cell_type": "code",
   "execution_count": 5,
   "id": "54e88ebe",
   "metadata": {},
   "outputs": [],
   "source": [
    "def pos6(nums):\n",
    "    for i in nums:\n",
    "        if i == 6:\n",
    "            return nums.index(6)\n",
    "    else:\n",
    "        return False\n",
    "def pos9(nums):\n",
    "    for i in nums:\n",
    "        if i == 9:\n",
    "            return nums.index(9)\n",
    "    else:\n",
    "        return False "
   ]
  },
  {
   "cell_type": "code",
   "execution_count": 6,
   "id": "d2a21ee4",
   "metadata": {},
   "outputs": [],
   "source": [
    "def total_list(list_k):\n",
    "    if a != False and b != False:\n",
    "        if a < b:\n",
    "            total = sum(list_k[:a])+sum(list_k[b+1:])\n",
    "        else:\n",
    "            total = sum(list_k)\n",
    "            return total\n",
    "    else:\n",
    "        total = sum(list_k)\n",
    "    return total"
   ]
  },
  {
   "cell_type": "code",
   "execution_count": 7,
   "id": "e6b5f37f",
   "metadata": {},
   "outputs": [],
   "source": [
    "my_list = [1,2,3,6,4,5,6,7,8,9,9,3,5]"
   ]
  },
  {
   "cell_type": "code",
   "execution_count": 8,
   "id": "504ffdfe",
   "metadata": {},
   "outputs": [],
   "source": [
    "a = pos6(my_list)"
   ]
  },
  {
   "cell_type": "code",
   "execution_count": 9,
   "id": "d6d3fe74",
   "metadata": {},
   "outputs": [],
   "source": [
    "b = pos9(my_list)"
   ]
  },
  {
   "cell_type": "code",
   "execution_count": 10,
   "id": "dce314f5",
   "metadata": {},
   "outputs": [
    {
     "data": {
      "text/plain": [
       "23"
      ]
     },
     "execution_count": 10,
     "metadata": {},
     "output_type": "execute_result"
    }
   ],
   "source": [
    "total_list(my_list)"
   ]
  },
  {
   "cell_type": "code",
   "execution_count": 11,
   "id": "3db04c9b",
   "metadata": {},
   "outputs": [],
   "source": [
    "def count_primes(num):\n",
    "    if num < 2:\n",
    "        return 0\n",
    "#     list to store prime numbers\n",
    "    primes = [2]\n",
    "#     counter thats going upto the input num\n",
    "    x = 3\n",
    "    while x <= num:\n",
    "#             check if x is prime\n",
    "        for y in range(3,x,2):  \n",
    "            if x%y == 0:\n",
    "                x += 2\n",
    "                break\n",
    "        else:\n",
    "            primes.append(x)\n",
    "            x += 2\n",
    "    print(primes)\n",
    "    return len(primes)"
   ]
  },
  {
   "cell_type": "code",
   "execution_count": 12,
   "id": "1233e75f",
   "metadata": {},
   "outputs": [
    {
     "name": "stdout",
     "output_type": "stream",
     "text": [
      "[2, 3, 5, 7, 11, 13, 17, 19, 23, 29, 31, 37, 41, 43, 47, 53, 59, 61, 67, 71, 73, 79, 83, 89, 97, 101, 103, 107, 109, 113]\n"
     ]
    },
    {
     "data": {
      "text/plain": [
       "30"
      ]
     },
     "execution_count": 12,
     "metadata": {},
     "output_type": "execute_result"
    }
   ],
   "source": [
    "count_primes(120)"
   ]
  },
  {
   "cell_type": "code",
   "execution_count": 1,
   "id": "6cbff802",
   "metadata": {},
   "outputs": [
    {
     "name": "stdout",
     "output_type": "stream",
     "text": [
      "9.433981132056603\n",
      "1.6\n"
     ]
    }
   ],
   "source": [
    "# Udemy Homework\n",
    "class Line:\n",
    "    \n",
    "    def __init__(self,coor1,coor2):\n",
    "        self.coor1 = coor1\n",
    "        self.coor2 = coor2\n",
    "    \n",
    "    def distance(self):\n",
    "        x1 , y1 = self.coor1\n",
    "        x2 , y2 = self.coor2   \n",
    "        return ((x2 - x1)**2 + (y2 - y1)**2)**0.5\n",
    "    \n",
    "    def slope(self):\n",
    "        x1 , y1 = self.coor1\n",
    "        x2 , y2 = self.coor2 \n",
    "        return ((y2 - y1)/(x2 - x1))\n",
    "    \n",
    "coor1 = (3,2)\n",
    "coor2 = (8,10)\n",
    "my_line = Line(coor1,coor2)\n",
    "\n",
    "z = my_line.distance()\n",
    "w = my_line.slope()\n",
    "print(z)\n",
    "print(w)"
   ]
  },
  {
   "cell_type": "code",
   "execution_count": 2,
   "id": "7fe66b05",
   "metadata": {},
   "outputs": [
    {
     "name": "stdout",
     "output_type": "stream",
     "text": [
      "56.52\n",
      "94.2\n"
     ]
    }
   ],
   "source": [
    "# Udemy Homework\n",
    "class Cylinder:\n",
    "    \n",
    "    def __init__(self,height=1,radius=1):\n",
    "        self.height = height\n",
    "        self.radius = radius\n",
    "        \n",
    "    def volume(self):\n",
    "        r = self.radius\n",
    "        h = self.height\n",
    "        return (3.14*(r)**2*(h))\n",
    "    \n",
    "    def surface_area(self):\n",
    "        r = self.radius\n",
    "        h = self.height\n",
    "        return (2*(3.14)*r*h + 2*(3.14)*(r)**2)\n",
    "  \n",
    "mycylinder = Cylinder(2,3)\n",
    "x = mycylinder.volume()\n",
    "y = mycylinder.surface_area()\n",
    "print(x)\n",
    "print(y)"
   ]
  },
  {
   "cell_type": "code",
   "execution_count": null,
   "id": "6adc590c",
   "metadata": {},
   "outputs": [],
   "source": [
    "# Udemy Challenge Homework\n",
    "class Account:\n",
    "    def __init__(self,name,balance):\n",
    "        self.name = name\n",
    "        self.balance = balance\n",
    "        \n",
    "    def deposit(self,dep_amount):\n",
    "        self.balance += dep_amount\n",
    "        print(f\"The Amount ${dep_amount} has been deposited to your bank account. your current balance is {self.balance}\")\n",
    "        \n",
    "    def withdraw(self,with_amount):\n",
    "        if with_amount <= self.balance:\n",
    "            self.balance -= with_amount\n",
    "            print(f\"The Amount ${with_amount} has been credited from your bank account. your current balance is {self.balance}\")\n",
    "        else:\n",
    "            print(\"Your account does not have sufficient Funds.\")\n",
    "    def __str__(self):\n",
    "        return f\"Owner: {self.name} \\nBalance:{self.balance}\"\n",
    "    \n",
    "            \n",
    "account1 = Account(\"Kaustubh\",100)\n",
    "print(account1)\n",
    "account1.withdraw(50)\n",
    "account1.deposit(400)\n",
    "account1.withdraw(500)\n",
    "account1.balance\n"
   ]
  }
 ],
 "metadata": {
  "kernelspec": {
   "display_name": "Python 3 (ipykernel)",
   "language": "python",
   "name": "python3"
  },
  "language_info": {
   "codemirror_mode": {
    "name": "ipython",
    "version": 3
   },
   "file_extension": ".py",
   "mimetype": "text/x-python",
   "name": "python",
   "nbconvert_exporter": "python",
   "pygments_lexer": "ipython3",
   "version": "3.9.13"
  }
 },
 "nbformat": 4,
 "nbformat_minor": 5
}
