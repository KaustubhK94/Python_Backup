{
 "cells": [
  {
   "cell_type": "code",
   "execution_count": 1,
   "id": "7d068dff",
   "metadata": {},
   "outputs": [],
   "source": [
    "def sqaure(num):\n",
    "    return num**2"
   ]
  },
  {
   "cell_type": "code",
   "execution_count": 2,
   "id": "8aaaebfa",
   "metadata": {},
   "outputs": [],
   "source": [
    "my_nums = [1,2,3,4,5,6,7]"
   ]
  },
  {
   "cell_type": "code",
   "execution_count": 9,
   "id": "076f6714",
   "metadata": {},
   "outputs": [
    {
     "name": "stdout",
     "output_type": "stream",
     "text": [
      "1\n",
      "4\n",
      "9\n",
      "16\n",
      "25\n",
      "36\n",
      "49\n"
     ]
    }
   ],
   "source": [
    "for item in map(sqaure,my_nums):\n",
    "    print(item)"
   ]
  },
  {
   "cell_type": "code",
   "execution_count": 10,
   "id": "7ec9c3f1",
   "metadata": {},
   "outputs": [],
   "source": [
    "# map function is basically iterating through list "
   ]
  },
  {
   "cell_type": "code",
   "execution_count": 11,
   "id": "ce9d6705",
   "metadata": {},
   "outputs": [
    {
     "data": {
      "text/plain": [
       "[1, 4, 9, 16, 25, 36, 49]"
      ]
     },
     "execution_count": 11,
     "metadata": {},
     "output_type": "execute_result"
    }
   ],
   "source": [
    "list(map(sqaure,my_nums))"
   ]
  },
  {
   "cell_type": "code",
   "execution_count": 13,
   "id": "a2ee330f",
   "metadata": {},
   "outputs": [],
   "source": [
    "def splicer(mystring):\n",
    "    if len(mystring)%2 == 0:\n",
    "        return \"EVEN\"\n",
    "    else:\n",
    "        return mystring[0]    "
   ]
  },
  {
   "cell_type": "code",
   "execution_count": 14,
   "id": "0d617db2",
   "metadata": {},
   "outputs": [],
   "source": [
    "names = ['Andy','Eve','Sally']"
   ]
  },
  {
   "cell_type": "code",
   "execution_count": null,
   "id": "e15697e3",
   "metadata": {},
   "outputs": [],
   "source": [
    "# map will apply the function to each item that is iterable"
   ]
  },
  {
   "cell_type": "code",
   "execution_count": 15,
   "id": "a679b92e",
   "metadata": {},
   "outputs": [
    {
     "data": {
      "text/plain": [
       "['EVEN', 'E', 'S']"
      ]
     },
     "execution_count": 15,
     "metadata": {},
     "output_type": "execute_result"
    }
   ],
   "source": [
    "list(map(splicer,names))"
   ]
  },
  {
   "cell_type": "code",
   "execution_count": 16,
   "id": "f14628e2",
   "metadata": {},
   "outputs": [],
   "source": [
    "def check_even(num):\n",
    "    return num%2 == 0"
   ]
  },
  {
   "cell_type": "code",
   "execution_count": 20,
   "id": "6b375191",
   "metadata": {},
   "outputs": [],
   "source": [
    "my_nums = [1,2,3,4,5,6]"
   ]
  },
  {
   "cell_type": "code",
   "execution_count": 22,
   "id": "165abf42",
   "metadata": {},
   "outputs": [
    {
     "data": {
      "text/plain": [
       "[2, 4, 6]"
      ]
     },
     "execution_count": 22,
     "metadata": {},
     "output_type": "execute_result"
    }
   ],
   "source": [
    "list(filter(check_even,my_nums))"
   ]
  },
  {
   "cell_type": "code",
   "execution_count": 23,
   "id": "155c3676",
   "metadata": {},
   "outputs": [
    {
     "name": "stdout",
     "output_type": "stream",
     "text": [
      "2\n",
      "4\n",
      "6\n"
     ]
    }
   ],
   "source": [
    "for i in filter(check_even,my_nums):\n",
    "    print(i)"
   ]
  },
  {
   "cell_type": "code",
   "execution_count": 24,
   "id": "7bb6015d",
   "metadata": {},
   "outputs": [],
   "source": [
    " def sqaure(num):\n",
    "        result = num**2\n",
    "        return result"
   ]
  },
  {
   "cell_type": "code",
   "execution_count": 25,
   "id": "8dc52328",
   "metadata": {},
   "outputs": [
    {
     "data": {
      "text/plain": [
       "9"
      ]
     },
     "execution_count": 25,
     "metadata": {},
     "output_type": "execute_result"
    }
   ],
   "source": [
    "sqaure(3)"
   ]
  },
  {
   "cell_type": "code",
   "execution_count": 26,
   "id": "be2eef3c",
   "metadata": {},
   "outputs": [],
   "source": [
    "# can be done in this way as well\n",
    "def sqaure(num):\n",
    "    return num**2"
   ]
  },
  {
   "cell_type": "code",
   "execution_count": 27,
   "id": "7b5e5eef",
   "metadata": {},
   "outputs": [
    {
     "data": {
      "text/plain": [
       "81"
      ]
     },
     "execution_count": 27,
     "metadata": {},
     "output_type": "execute_result"
    }
   ],
   "source": [
    "sqaure(9)"
   ]
  },
  {
   "cell_type": "code",
   "execution_count": 28,
   "id": "44b964c6",
   "metadata": {},
   "outputs": [],
   "source": [
    "# lambda expression basically used when a fuction in code \n",
    "# is being used only once and wont ever we called again.\n",
    "# so the above code would look like this"
   ]
  },
  {
   "cell_type": "code",
   "execution_count": 32,
   "id": "84416ef2",
   "metadata": {},
   "outputs": [],
   "source": [
    "sqaure = lambda num: num**2"
   ]
  },
  {
   "cell_type": "code",
   "execution_count": 33,
   "id": "3f8a2768",
   "metadata": {},
   "outputs": [
    {
     "data": {
      "text/plain": [
       "81"
      ]
     },
     "execution_count": 33,
     "metadata": {},
     "output_type": "execute_result"
    }
   ],
   "source": [
    "sqaure(9)"
   ]
  },
  {
   "cell_type": "code",
   "execution_count": 35,
   "id": "7ba2b2a4",
   "metadata": {},
   "outputs": [
    {
     "data": {
      "text/plain": [
       "[1, 4, 9, 16, 25, 36]"
      ]
     },
     "execution_count": 35,
     "metadata": {},
     "output_type": "execute_result"
    }
   ],
   "source": [
    "list(map(lambda num: num**2,my_nums))"
   ]
  },
  {
   "cell_type": "code",
   "execution_count": 36,
   "id": "857b0935",
   "metadata": {},
   "outputs": [],
   "source": [
    "def check_even(num):\n",
    "    return num%2 == 0"
   ]
  },
  {
   "cell_type": "code",
   "execution_count": 39,
   "id": "7d3d83f2",
   "metadata": {},
   "outputs": [
    {
     "data": {
      "text/plain": [
       "[2, 4, 6]"
      ]
     },
     "execution_count": 39,
     "metadata": {},
     "output_type": "execute_result"
    }
   ],
   "source": [
    "# Above function can be written in this way..\n",
    "list(filter(lambda num:num%2 == 0,my_nums))"
   ]
  },
  {
   "cell_type": "code",
   "execution_count": 41,
   "id": "6185c130",
   "metadata": {},
   "outputs": [
    {
     "data": {
      "text/plain": [
       "['Andy', 'Eve', 'Sally']"
      ]
     },
     "execution_count": 41,
     "metadata": {},
     "output_type": "execute_result"
    }
   ],
   "source": [
    "names"
   ]
  },
  {
   "cell_type": "code",
   "execution_count": 81,
   "id": "579eafe2",
   "metadata": {},
   "outputs": [],
   "source": [
    "def first_letter(my_list):\n",
    "    for words in my_list:\n",
    "        return words[0]"
   ]
  },
  {
   "cell_type": "code",
   "execution_count": 84,
   "id": "2c320ab5",
   "metadata": {},
   "outputs": [
    {
     "data": {
      "text/plain": [
       "['A', 'E', 'S']"
      ]
     },
     "execution_count": 84,
     "metadata": {},
     "output_type": "execute_result"
    }
   ],
   "source": [
    "list(map(first_letter,names))"
   ]
  },
  {
   "cell_type": "code",
   "execution_count": 87,
   "id": "718172ad",
   "metadata": {},
   "outputs": [
    {
     "data": {
      "text/plain": [
       "['A', 'E', 'S']"
      ]
     },
     "execution_count": 87,
     "metadata": {},
     "output_type": "execute_result"
    }
   ],
   "source": [
    "list(map(lambda words: words[0],names))"
   ]
  },
  {
   "cell_type": "code",
   "execution_count": 85,
   "id": "d129f60d",
   "metadata": {},
   "outputs": [],
   "source": [
    "# we used list comprehension as well...!!!!\n",
    "my_list = [item[0] for item in names]"
   ]
  },
  {
   "cell_type": "code",
   "execution_count": 86,
   "id": "513816c7",
   "metadata": {},
   "outputs": [
    {
     "data": {
      "text/plain": [
       "['A', 'E', 'S']"
      ]
     },
     "execution_count": 86,
     "metadata": {},
     "output_type": "execute_result"
    }
   ],
   "source": [
    "my_list"
   ]
  },
  {
   "cell_type": "code",
   "execution_count": 88,
   "id": "b84cb3bd",
   "metadata": {},
   "outputs": [
    {
     "data": {
      "text/plain": [
       "['ydnA', 'evE', 'yllaS']"
      ]
     },
     "execution_count": 88,
     "metadata": {},
     "output_type": "execute_result"
    }
   ],
   "source": [
    "list(map(lambda words:words[::-1],names))"
   ]
  },
  {
   "cell_type": "code",
   "execution_count": 89,
   "id": "2075e69e",
   "metadata": {},
   "outputs": [],
   "source": [
    "#  i think one shouldn't use lambda expression if the function is too complex"
   ]
  },
  {
   "cell_type": "code",
   "execution_count": null,
   "id": "d5497c04",
   "metadata": {},
   "outputs": [],
   "source": []
  }
 ],
 "metadata": {
  "kernelspec": {
   "display_name": "Python 3 (ipykernel)",
   "language": "python",
   "name": "python3"
  },
  "language_info": {
   "codemirror_mode": {
    "name": "ipython",
    "version": 3
   },
   "file_extension": ".py",
   "mimetype": "text/x-python",
   "name": "python",
   "nbconvert_exporter": "python",
   "pygments_lexer": "ipython3",
   "version": "3.8.12"
  }
 },
 "nbformat": 4,
 "nbformat_minor": 5
}
