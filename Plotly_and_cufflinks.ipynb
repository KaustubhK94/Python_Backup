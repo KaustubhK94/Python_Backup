{
 "cells": [
  {
   "cell_type": "code",
   "execution_count": 1,
   "id": "c567d5a9",
   "metadata": {},
   "outputs": [],
   "source": [
    "import numpy as np\n",
    "import pandas as pd\n",
    "import cufflinks as cf"
   ]
  },
  {
   "cell_type": "code",
   "execution_count": 2,
   "id": "7191e6a3",
   "metadata": {},
   "outputs": [],
   "source": [
    "%matplotlib inline"
   ]
  },
  {
   "cell_type": "code",
   "execution_count": 3,
   "id": "36652e37",
   "metadata": {},
   "outputs": [
    {
     "name": "stdout",
     "output_type": "stream",
     "text": [
      "5.6.0\n"
     ]
    }
   ],
   "source": [
    "from plotly import __version__\n",
    "print(__version__)"
   ]
  },
  {
   "cell_type": "code",
   "execution_count": 4,
   "id": "bb42b113",
   "metadata": {},
   "outputs": [],
   "source": [
    "import cufflinks as cf"
   ]
  },
  {
   "cell_type": "code",
   "execution_count": 5,
   "id": "3a78a67e",
   "metadata": {},
   "outputs": [],
   "source": [
    "from plotly.offline import download_plotlyjs,init_notebook_mode,plot,iplot"
   ]
  },
  {
   "cell_type": "code",
   "execution_count": 6,
   "id": "3cade4ef",
   "metadata": {},
   "outputs": [
    {
     "data": {
      "text/html": [
       "        <script type=\"text/javascript\">\n",
       "        window.PlotlyConfig = {MathJaxConfig: 'local'};\n",
       "        if (window.MathJax) {MathJax.Hub.Config({SVG: {font: \"STIX-Web\"}});}\n",
       "        if (typeof require !== 'undefined') {\n",
       "        require.undef(\"plotly\");\n",
       "        requirejs.config({\n",
       "            paths: {\n",
       "                'plotly': ['https://cdn.plot.ly/plotly-2.9.0.min']\n",
       "            }\n",
       "        });\n",
       "        require(['plotly'], function(Plotly) {\n",
       "            window._Plotly = Plotly;\n",
       "        });\n",
       "        }\n",
       "        </script>\n",
       "        "
      ]
     },
     "metadata": {},
     "output_type": "display_data"
    }
   ],
   "source": [
    "init_notebook_mode(connected= True)"
   ]
  },
  {
   "cell_type": "code",
   "execution_count": 7,
   "id": "603a0169",
   "metadata": {},
   "outputs": [
    {
     "data": {
      "text/html": [
       "        <script type=\"text/javascript\">\n",
       "        window.PlotlyConfig = {MathJaxConfig: 'local'};\n",
       "        if (window.MathJax) {MathJax.Hub.Config({SVG: {font: \"STIX-Web\"}});}\n",
       "        if (typeof require !== 'undefined') {\n",
       "        require.undef(\"plotly\");\n",
       "        requirejs.config({\n",
       "            paths: {\n",
       "                'plotly': ['https://cdn.plot.ly/plotly-2.9.0.min']\n",
       "            }\n",
       "        });\n",
       "        require(['plotly'], function(Plotly) {\n",
       "            window._Plotly = Plotly;\n",
       "        });\n",
       "        }\n",
       "        </script>\n",
       "        "
      ]
     },
     "metadata": {},
     "output_type": "display_data"
    }
   ],
   "source": [
    "cf.go_offline()"
   ]
  },
  {
   "cell_type": "code",
   "execution_count": 8,
   "id": "e94c652e",
   "metadata": {},
   "outputs": [],
   "source": [
    "#DATA\n",
    "df = pd.DataFrame(np.random.randn(100,4),columns=\"A B C D\".split())"
   ]
  },
  {
   "cell_type": "code",
   "execution_count": 9,
   "id": "e808b4ca",
   "metadata": {},
   "outputs": [
    {
     "data": {
      "text/html": [
       "<div>\n",
       "<style scoped>\n",
       "    .dataframe tbody tr th:only-of-type {\n",
       "        vertical-align: middle;\n",
       "    }\n",
       "\n",
       "    .dataframe tbody tr th {\n",
       "        vertical-align: top;\n",
       "    }\n",
       "\n",
       "    .dataframe thead th {\n",
       "        text-align: right;\n",
       "    }\n",
       "</style>\n",
       "<table border=\"1\" class=\"dataframe\">\n",
       "  <thead>\n",
       "    <tr style=\"text-align: right;\">\n",
       "      <th></th>\n",
       "      <th>A</th>\n",
       "      <th>B</th>\n",
       "      <th>C</th>\n",
       "      <th>D</th>\n",
       "    </tr>\n",
       "  </thead>\n",
       "  <tbody>\n",
       "    <tr>\n",
       "      <th>0</th>\n",
       "      <td>2.294537</td>\n",
       "      <td>-0.462614</td>\n",
       "      <td>1.160075</td>\n",
       "      <td>-0.480633</td>\n",
       "    </tr>\n",
       "    <tr>\n",
       "      <th>1</th>\n",
       "      <td>-0.309352</td>\n",
       "      <td>-0.791047</td>\n",
       "      <td>0.641781</td>\n",
       "      <td>-0.408238</td>\n",
       "    </tr>\n",
       "    <tr>\n",
       "      <th>2</th>\n",
       "      <td>1.409982</td>\n",
       "      <td>0.541856</td>\n",
       "      <td>0.590258</td>\n",
       "      <td>-2.458657</td>\n",
       "    </tr>\n",
       "    <tr>\n",
       "      <th>3</th>\n",
       "      <td>-2.196110</td>\n",
       "      <td>0.266886</td>\n",
       "      <td>0.647692</td>\n",
       "      <td>-0.442073</td>\n",
       "    </tr>\n",
       "    <tr>\n",
       "      <th>4</th>\n",
       "      <td>-0.973036</td>\n",
       "      <td>-0.184690</td>\n",
       "      <td>-0.110026</td>\n",
       "      <td>-2.710478</td>\n",
       "    </tr>\n",
       "  </tbody>\n",
       "</table>\n",
       "</div>"
      ],
      "text/plain": [
       "          A         B         C         D\n",
       "0  2.294537 -0.462614  1.160075 -0.480633\n",
       "1 -0.309352 -0.791047  0.641781 -0.408238\n",
       "2  1.409982  0.541856  0.590258 -2.458657\n",
       "3 -2.196110  0.266886  0.647692 -0.442073\n",
       "4 -0.973036 -0.184690 -0.110026 -2.710478"
      ]
     },
     "execution_count": 9,
     "metadata": {},
     "output_type": "execute_result"
    }
   ],
   "source": [
    "df.head()"
   ]
  },
  {
   "cell_type": "code",
   "execution_count": 10,
   "id": "02e9dc42",
   "metadata": {},
   "outputs": [],
   "source": [
    "df2 = pd.DataFrame({\"Categories\":[\"A\",\"B\",\"C\"],\"Values\":[32,43,50]})"
   ]
  },
  {
   "cell_type": "code",
   "execution_count": 11,
   "id": "b2151888",
   "metadata": {},
   "outputs": [
    {
     "data": {
      "text/html": [
       "<div>\n",
       "<style scoped>\n",
       "    .dataframe tbody tr th:only-of-type {\n",
       "        vertical-align: middle;\n",
       "    }\n",
       "\n",
       "    .dataframe tbody tr th {\n",
       "        vertical-align: top;\n",
       "    }\n",
       "\n",
       "    .dataframe thead th {\n",
       "        text-align: right;\n",
       "    }\n",
       "</style>\n",
       "<table border=\"1\" class=\"dataframe\">\n",
       "  <thead>\n",
       "    <tr style=\"text-align: right;\">\n",
       "      <th></th>\n",
       "      <th>Categories</th>\n",
       "      <th>Values</th>\n",
       "    </tr>\n",
       "  </thead>\n",
       "  <tbody>\n",
       "    <tr>\n",
       "      <th>0</th>\n",
       "      <td>A</td>\n",
       "      <td>32</td>\n",
       "    </tr>\n",
       "    <tr>\n",
       "      <th>1</th>\n",
       "      <td>B</td>\n",
       "      <td>43</td>\n",
       "    </tr>\n",
       "    <tr>\n",
       "      <th>2</th>\n",
       "      <td>C</td>\n",
       "      <td>50</td>\n",
       "    </tr>\n",
       "  </tbody>\n",
       "</table>\n",
       "</div>"
      ],
      "text/plain": [
       "  Categories  Values\n",
       "0          A      32\n",
       "1          B      43\n",
       "2          C      50"
      ]
     },
     "execution_count": 11,
     "metadata": {},
     "output_type": "execute_result"
    }
   ],
   "source": [
    "df2"
   ]
  },
  {
   "cell_type": "code",
   "execution_count": 12,
   "id": "016290d2",
   "metadata": {},
   "outputs": [
    {
     "data": {
      "text/html": [
       "<div>\n",
       "<style scoped>\n",
       "    .dataframe tbody tr th:only-of-type {\n",
       "        vertical-align: middle;\n",
       "    }\n",
       "\n",
       "    .dataframe tbody tr th {\n",
       "        vertical-align: top;\n",
       "    }\n",
       "\n",
       "    .dataframe thead th {\n",
       "        text-align: right;\n",
       "    }\n",
       "</style>\n",
       "<table border=\"1\" class=\"dataframe\">\n",
       "  <thead>\n",
       "    <tr style=\"text-align: right;\">\n",
       "      <th></th>\n",
       "      <th>A</th>\n",
       "      <th>B</th>\n",
       "      <th>C</th>\n",
       "      <th>D</th>\n",
       "    </tr>\n",
       "  </thead>\n",
       "  <tbody>\n",
       "    <tr>\n",
       "      <th>0</th>\n",
       "      <td>2.294537</td>\n",
       "      <td>-0.462614</td>\n",
       "      <td>1.160075</td>\n",
       "      <td>-0.480633</td>\n",
       "    </tr>\n",
       "    <tr>\n",
       "      <th>1</th>\n",
       "      <td>-0.309352</td>\n",
       "      <td>-0.791047</td>\n",
       "      <td>0.641781</td>\n",
       "      <td>-0.408238</td>\n",
       "    </tr>\n",
       "    <tr>\n",
       "      <th>2</th>\n",
       "      <td>1.409982</td>\n",
       "      <td>0.541856</td>\n",
       "      <td>0.590258</td>\n",
       "      <td>-2.458657</td>\n",
       "    </tr>\n",
       "    <tr>\n",
       "      <th>3</th>\n",
       "      <td>-2.196110</td>\n",
       "      <td>0.266886</td>\n",
       "      <td>0.647692</td>\n",
       "      <td>-0.442073</td>\n",
       "    </tr>\n",
       "    <tr>\n",
       "      <th>4</th>\n",
       "      <td>-0.973036</td>\n",
       "      <td>-0.184690</td>\n",
       "      <td>-0.110026</td>\n",
       "      <td>-2.710478</td>\n",
       "    </tr>\n",
       "    <tr>\n",
       "      <th>...</th>\n",
       "      <td>...</td>\n",
       "      <td>...</td>\n",
       "      <td>...</td>\n",
       "      <td>...</td>\n",
       "    </tr>\n",
       "    <tr>\n",
       "      <th>95</th>\n",
       "      <td>-0.944946</td>\n",
       "      <td>0.121160</td>\n",
       "      <td>0.756917</td>\n",
       "      <td>-1.551799</td>\n",
       "    </tr>\n",
       "    <tr>\n",
       "      <th>96</th>\n",
       "      <td>-0.157005</td>\n",
       "      <td>1.690265</td>\n",
       "      <td>-0.896427</td>\n",
       "      <td>0.183337</td>\n",
       "    </tr>\n",
       "    <tr>\n",
       "      <th>97</th>\n",
       "      <td>0.495185</td>\n",
       "      <td>-3.168340</td>\n",
       "      <td>-0.291646</td>\n",
       "      <td>-0.423362</td>\n",
       "    </tr>\n",
       "    <tr>\n",
       "      <th>98</th>\n",
       "      <td>-2.037956</td>\n",
       "      <td>1.372610</td>\n",
       "      <td>-1.601820</td>\n",
       "      <td>-0.103323</td>\n",
       "    </tr>\n",
       "    <tr>\n",
       "      <th>99</th>\n",
       "      <td>0.693263</td>\n",
       "      <td>0.500016</td>\n",
       "      <td>-0.030074</td>\n",
       "      <td>-0.787262</td>\n",
       "    </tr>\n",
       "  </tbody>\n",
       "</table>\n",
       "<p>100 rows × 4 columns</p>\n",
       "</div>"
      ],
      "text/plain": [
       "           A         B         C         D\n",
       "0   2.294537 -0.462614  1.160075 -0.480633\n",
       "1  -0.309352 -0.791047  0.641781 -0.408238\n",
       "2   1.409982  0.541856  0.590258 -2.458657\n",
       "3  -2.196110  0.266886  0.647692 -0.442073\n",
       "4  -0.973036 -0.184690 -0.110026 -2.710478\n",
       "..       ...       ...       ...       ...\n",
       "95 -0.944946  0.121160  0.756917 -1.551799\n",
       "96 -0.157005  1.690265 -0.896427  0.183337\n",
       "97  0.495185 -3.168340 -0.291646 -0.423362\n",
       "98 -2.037956  1.372610 -1.601820 -0.103323\n",
       "99  0.693263  0.500016 -0.030074 -0.787262\n",
       "\n",
       "[100 rows x 4 columns]"
      ]
     },
     "execution_count": 12,
     "metadata": {},
     "output_type": "execute_result"
    }
   ],
   "source": [
    "df"
   ]
  },
  {
   "cell_type": "code",
   "execution_count": 13,
   "id": "9f2a0147",
   "metadata": {},
   "outputs": [
    {
     "data": {
      "text/plain": [
       "<AxesSubplot:>"
      ]
     },
     "execution_count": 13,
     "metadata": {},
     "output_type": "execute_result"
    },
    {
     "data": {
      "image/png": "[encoded data removed]",
      "text/plain": [
       "<Figure size 432x288 with 1 Axes>"
      ]
     },
     "metadata": {
      "needs_background": "light"
     },
     "output_type": "display_data"
    }
   ],
   "source": [
    "df.plot()"
   ]
  },
  {
   "cell_type": "code",
   "execution_count": 14,
   "id": "04a0d30d",
   "metadata": {},
   "outputs": [
    {
     "data": {
      "application/vnd.plotly.v1+json": {
       "config": {
        "linkText": "Export to plot.ly",
        "plotlyServerURL": "https://plot.ly",
        "showLink": true
       },
       "data": [
        {
         "line": {
          "color": "rgba(255, 153, 51, 1.0)",
          "dash": "solid",
          "shape": "linear",
          "width": 1.3
         },
         "mode": "lines",
         "name": "A",
         "text": "",
         "type": "scatter",
         "x": [
          0,
          1,
          2,
          3,
          4,
          5,
          6,
          7,
          8,
          9,
          10,
          11,
          12,
          13,
          14,
          15,
          16,
          17,
          18,
          19,
          20,
          21,
          22,
          23,
          24,
          25,
          26,
          27,
          28,
          29,
          30,
          31,
          32,
          33,
          34,
          35,
          36,
          37,
          38,
          39,
          40,
          41,
          42,
          43,
          44,
          45,
          46,
          47,
          48,
          49,
          50,
          51,
          52,
          53,
          54,
          55,
          56,
          57,
          58,
          59,
          60,
          61,
          62,
          63,
          64,
          65,
          66,
          67,
          68,
          69,
          70,
          71,
          72,
          73,
          74,
          75,
          76,
          77,
          78,
          79,
          80,
          81,
          82,
          83,
          84,
          85,
          86,
          87,
          88,
          89,
          90,
          91,
          92,
          93,
          94,
          95,
          96,
          97,
          98,
          99
         ],
         "y": [
          2.2945374253810935,
          -0.3093515604936077,
          1.4099818913712976,
          -2.196110293064084,
          -0.9730355871574337,
          0.6758996210512747,
          0.4490972173206316,
          -1.0515484423751666,
          0.2732234960957011,
          -1.5365090220836957,
          -1.6932572343471597,
          -1.0041336307584219,
          -0.26154246040228496,
          -0.8384473511086155,
          -0.27098570978012626,
          -0.24699533055737363,
          0.4359728744399814,
          0.45075215892922,
          -0.40682478585358206,
          -0.8694947997937347,
          -0.9962250815297425,
          -0.7546498354280269,
          -1.2193985044232207,
          -0.6484550336304917,
          -0.6478660074910817,
          1.3075875114988116,
          0.6479749347733862,
          1.365413425889694,
          -1.3786785459827833,
          1.0674063097355568,
          -0.03425474497266747,
          -0.6367091109705111,
          -0.12380013677571215,
          1.123214340690999,
          -1.375557573075988,
          0.028247847281367516,
          0.8142661127912598,
          0.7492742748649921,
          2.1535842081309577,
          0.2496270975018242,
          0.5900075827334962,
          -0.41308483998131285,
          1.5719064244629575,
          0.1037462411105567,
          -0.8960475471587651,
          0.7962818323897186,
          0.3147260731773103,
          0.15305000269083455,
          -1.9749800287184807,
          -2.063232019899476,
          -0.6645388553178008,
          -0.14962339946779415,
          1.6312691622075577,
          1.2461029763384932,
          -0.8041765376801094,
          -2.1871789852622974,
          0.7219607898045612,
          0.01872744557244804,
          -0.1439461524730603,
          2.4213984187283892,
          -0.08961306545499886,
          -0.6215347268694917,
          -0.2265992785941594,
          1.069198411020045,
          0.06603541122738674,
          -1.3448905120670303,
          -1.7520691361415135,
          -0.6724343361282331,
          -0.5610261784733895,
          -0.26511817705776947,
          0.5562794123150756,
          1.6327175271675543,
          -0.6833768505379594,
          0.9475790872426847,
          -2.0135558713323998,
          0.4087322652424809,
          -2.271934009320793,
          0.7460695551556408,
          -0.027463522369002753,
          -0.3497615354709517,
          0.7796536119885089,
          -0.6899262772734551,
          -0.5472504462267378,
          -0.42674075242416437,
          -0.5651323415134348,
          -0.18228939978711364,
          -0.13732106559514778,
          -1.43927317417849,
          -1.6036857311604047,
          -0.5407693827715786,
          -0.8616357888597961,
          -0.6900246068662761,
          -0.7460744807669557,
          -1.6171163053306175,
          0.902046099613515,
          -0.9449464079715946,
          -0.1570049430962567,
          0.4951847660216899,
          -2.0379563368903546,
          0.6932629721280178
         ]
        },
        {
         "line": {
          "color": "rgba(55, 128, 191, 1.0)",
          "dash": "solid",
          "shape": "linear",
          "width": 1.3
         },
         "mode": "lines",
         "name": "B",
         "text": "",
         "type": "scatter",
         "x": [
          0,
          1,
          2,
          3,
          4,
          5,
          6,
          7,
          8,
          9,
          10,
          11,
          12,
          13,
          14,
          15,
          16,
          17,
          18,
          19,
          20,
          21,
          22,
          23,
          24,
          25,
          26,
          27,
          28,
          29,
          30,
          31,
          32,
          33,
          34,
          35,
          36,
          37,
          38,
          39,
          40,
          41,
          42,
          43,
          44,
          45,
          46,
          47,
          48,
          49,
          50,
          51,
          52,
          53,
          54,
          55,
          56,
          57,
          58,
          59,
          60,
          61,
          62,
          63,
          64,
          65,
          66,
          67,
          68,
          69,
          70,
          71,
          72,
          73,
          74,
          75,
          76,
          77,
          78,
          79,
          80,
          81,
          82,
          83,
          84,
          85,
          86,
          87,
          88,
          89,
          90,
          91,
          92,
          93,
          94,
          95,
          96,
          97,
          98,
          99
         ],
         "y": [
          -0.46261447220360236,
          -0.791047372871296,
          0.5418559261345138,
          0.2668859142862276,
          -0.18468980551825998,
          -0.7459316222073529,
          -1.2018819350771943,
          1.2639618415625153,
          -0.8520764958511973,
          0.07986402478633525,
          0.4668029955573966,
          -0.1177338273773469,
          0.8732631863122309,
          -0.3565876529933062,
          0.5623818213294249,
          0.8198668108761308,
          2.022731183254802,
          -0.9568765632456528,
          -0.38374970780801604,
          -0.1708871427454367,
          0.18168572225530136,
          -0.1905780450285549,
          -0.32612158216601567,
          -0.13895813113206595,
          -0.2418675333175781,
          -0.41110969735003267,
          -1.114230201623011,
          -0.8622196675085945,
          0.08903683166058758,
          0.12969334729628124,
          0.24761932507958725,
          -0.0001610999257149029,
          -0.09184586568824617,
          0.9419680126764056,
          0.3726558362436117,
          0.09981198298065946,
          -0.06838285171797791,
          -0.24077541469209793,
          0.7731125936028886,
          -3.2232409808828524,
          -0.3697944808883046,
          0.6784506185379208,
          2.7507243616081722,
          -0.9950713306154855,
          1.2653850950456123,
          -1.856010629832242,
          -0.08644240665669528,
          0.8781007704890135,
          -0.06502311602928444,
          -0.36938268090524734,
          0.03291095119914805,
          -0.4090355703464742,
          -0.25102014273436357,
          1.5840778536593239,
          -1.3402956780230635,
          -0.19391746110712615,
          -0.7354369348049198,
          -0.8484390574464394,
          0.5039447477960337,
          -1.4402381290989748,
          -1.134486317696811,
          0.5305713195160849,
          -0.3352554585219817,
          -0.2682985959891376,
          0.31567579386057193,
          0.47381704568405725,
          1.8891500081613526,
          0.11944964690036959,
          0.13681468031662902,
          -0.9413075308836625,
          0.17295992748678057,
          0.14617368534621905,
          -1.664461112389103,
          -0.7187472475419009,
          -0.12348921993332417,
          0.7413835048330212,
          0.6250666013551777,
          0.5966396831499718,
          0.42923746343195723,
          -0.8028685627420207,
          1.1044828740813615,
          -0.3271088399695305,
          0.5369556379693118,
          -0.7267461002707797,
          -0.6610862550190166,
          0.14110053123938704,
          0.7707924984545371,
          -1.1350609343260762,
          0.5287989209358023,
          -0.427028134978249,
          0.5726841651709131,
          0.588388874756771,
          -1.2324133552823289,
          0.10672692490143716,
          0.6208495217666956,
          0.12115958090622742,
          1.6902651177873182,
          -3.168339935035551,
          1.3726100037812896,
          0.5000162842648437
         ]
        },
        {
         "line": {
          "color": "rgba(50, 171, 96, 1.0)",
          "dash": "solid",
          "shape": "linear",
          "width": 1.3
         },
         "mode": "lines",
         "name": "C",
         "text": "",
         "type": "scatter",
         "x": [
          0,
          1,
          2,
          3,
          4,
          5,
          6,
          7,
          8,
          9,
          10,
          11,
          12,
          13,
          14,
          15,
          16,
          17,
          18,
          19,
          20,
          21,
          22,
          23,
          24,
          25,
          26,
          27,
          28,
          29,
          30,
          31,
          32,
          33,
          34,
          35,
          36,
          37,
          38,
          39,
          40,
          41,
          42,
          43,
          44,
          45,
          46,
          47,
          48,
          49,
          50,
          51,
          52,
          53,
          54,
          55,
          56,
          57,
          58,
          59,
          60,
          61,
          62,
          63,
          64,
          65,
          66,
          67,
          68,
          69,
          70,
          71,
          72,
          73,
          74,
          75,
          76,
          77,
          78,
          79,
          80,
          81,
          82,
          83,
          84,
          85,
          86,
          87,
          88,
          89,
          90,
          91,
          92,
          93,
          94,
          95,
          96,
          97,
          98,
          99
         ],
         "y": [
          1.1600750840297651,
          0.6417813981625896,
          0.5902578791179094,
          0.6476917480013206,
          -0.11002635415635004,
          0.6297728033971316,
          0.5153882581325809,
          -0.46031359850548836,
          0.43817165568363586,
          0.16249333810062877,
          -1.1608617761687794,
          -0.004253657656058018,
          1.8362518122709144,
          0.10771240590155419,
          0.15809469284492164,
          -1.3624151323008242,
          -0.07855872026598393,
          -0.7608506424454691,
          -0.043204479017319164,
          -0.0364677603032425,
          -0.07479036560979653,
          1.2314825319012963,
          -0.9490349070700659,
          -1.477693919876053,
          -0.7555596440061743,
          -0.7313898555695051,
          1.306281825586797,
          0.1084195563422876,
          1.0603680510531686,
          0.3637957480764699,
          -0.33474867647487877,
          -0.19971859384638418,
          2.1198649628393875,
          0.23140255242613528,
          -0.36705154119762234,
          -0.07963688270377418,
          -0.1358134137758437,
          -0.25049070784380384,
          0.8909934662080147,
          1.4620562734368803,
          -0.0708109200582943,
          -1.4176028625120993,
          -0.16808706438439702,
          -0.05364358876459088,
          -0.051629571583329224,
          0.6433169854477252,
          -1.5899080977592095,
          -0.044114073873185736,
          -1.5647306162853867,
          -0.10852463309253006,
          0.8452312290769657,
          0.5015933477022239,
          -0.42734074897189633,
          -0.29856411525138943,
          0.3141206028531177,
          0.21492261225791537,
          0.5007299880468711,
          0.016770039508169646,
          -0.6550409088034925,
          0.531656165200417,
          -0.9933856410527453,
          -0.6860025003992837,
          -0.4949621719734807,
          0.48336134869163755,
          -0.4134596651882325,
          1.049759529183517,
          0.7746033144880334,
          -0.14801258342866538,
          0.15846192190687614,
          0.11833800979681548,
          0.531395050416844,
          -0.1362397190688743,
          -1.0754727434695572,
          -0.9712207665765553,
          -0.5179685245082127,
          0.16568572022677439,
          -0.005160184562395594,
          -1.2493647010361242,
          1.1422388612004193,
          0.43319973590464783,
          1.5216037501021582,
          0.03992209520078535,
          1.2276392616154084,
          0.8875464080935134,
          1.466546277005924,
          -0.47281145864533924,
          1.4587826483088657,
          -0.6160818167457689,
          0.7708803636255216,
          -0.5793597943396351,
          -0.5542358987432575,
          0.6975480354167959,
          -0.09285679303794396,
          1.791724742609253,
          -1.0473458688253372,
          0.7569171881523397,
          -0.8964271596330989,
          -0.2916455317330653,
          -1.6018200500866562,
          -0.030073977142956426
         ]
        },
        {
         "line": {
          "color": "rgba(128, 0, 128, 1.0)",
          "dash": "solid",
          "shape": "linear",
          "width": 1.3
         },
         "mode": "lines",
         "name": "D",
         "text": "",
         "type": "scatter",
         "x": [
          0,
          1,
          2,
          3,
          4,
          5,
          6,
          7,
          8,
          9,
          10,
          11,
          12,
          13,
          14,
          15,
          16,
          17,
          18,
          19,
          20,
          21,
          22,
          23,
          24,
          25,
          26,
          27,
          28,
          29,
          30,
          31,
          32,
          33,
          34,
          35,
          36,
          37,
          38,
          39,
          40,
          41,
          42,
          43,
          44,
          45,
          46,
          47,
          48,
          49,
          50,
          51,
          52,
          53,
          54,
          55,
          56,
          57,
          58,
          59,
          60,
          61,
          62,
          63,
          64,
          65,
          66,
          67,
          68,
          69,
          70,
          71,
          72,
          73,
          74,
          75,
          76,
          77,
          78,
          79,
          80,
          81,
          82,
          83,
          84,
          85,
          86,
          87,
          88,
          89,
          90,
          91,
          92,
          93,
          94,
          95,
          96,
          97,
          98,
          99
         ],
         "y": [
          -0.4806329885941989,
          -0.40823789839476865,
          -2.4586568648295017,
          -0.4420729542468316,
          -2.71047765890887,
          -0.19082216756108314,
          -1.5266172808380993,
          0.9694283003800291,
          0.020308977085903904,
          0.35314710453077414,
          -2.307031076650917,
          -0.25021371793396197,
          0.38034839107658097,
          -2.2307221134453115,
          0.3150058705197914,
          -0.2542304201696045,
          -0.018478364087759908,
          -0.17722854143603978,
          -2.093160629467049,
          2.3084474554077548,
          0.7907731080942065,
          0.37150140935748804,
          0.8121217860638706,
          -0.2646855647127756,
          1.47327025576293,
          0.48354453042159634,
          -0.3382287299518159,
          -1.304150675625216,
          -0.5583040713830745,
          0.9196393987128253,
          -0.08301410128625789,
          -1.326633575701284,
          3.430822816732108,
          0.09854606638053852,
          0.02795424875163925,
          -1.4663198493667629,
          0.07468224513919966,
          -0.9027739543036912,
          0.13715244739199098,
          -0.3933198185962746,
          -0.9396623098270023,
          -0.7975148007964612,
          0.39232061200903057,
          -0.9994198004123522,
          0.4035006553684261,
          -0.8549273635324984,
          0.1716177612231615,
          -0.4962536352974422,
          0.8683434460773386,
          -0.25896842946713555,
          -0.41326048925574305,
          0.330238758426401,
          -0.4292056893258818,
          1.1857913181451936,
          -0.7101715155779407,
          0.43885318891685887,
          0.16116208664794734,
          1.2555079693366742,
          -1.8181179963763787,
          -0.40803749169065456,
          -0.8335640603386798,
          0.3822477466661534,
          0.5972099193538482,
          -1.2604862836511976,
          -0.20769610260098298,
          -0.8396408560907145,
          -1.2035073785695944,
          -0.21234987099218547,
          0.08067497369863376,
          0.4860718543856061,
          -1.7682728054804628,
          0.9457721389386934,
          0.0982829953021395,
          0.14967971821048975,
          0.7614310870171208,
          -0.16182639253978245,
          0.09437397329690063,
          -0.4774218177544829,
          0.4900598196564723,
          -1.3159588695908635,
          -1.086764007876752,
          0.7032139424561363,
          1.2894009089080782,
          -0.25895986884072447,
          0.2013853619359434,
          0.5507180930936277,
          -0.20629908826896656,
          -2.42244327268846,
          -0.7599994964287735,
          0.33958934328118323,
          1.1225643777283165,
          -0.2709976199666413,
          1.8504246230632917,
          -0.13303255617163096,
          0.753481341573977,
          -1.5517985936819434,
          0.18333718664001367,
          -0.4233623658160429,
          -0.10332293278426032,
          -0.7872621105662994
         ]
        }
       ],
       "layout": {
        "legend": {
         "bgcolor": "#F5F6F9",
         "font": {
          "color": "#4D5663"
         }
        },
        "paper_bgcolor": "#F5F6F9",
        "plot_bgcolor": "#F5F6F9",
        "template": {
         "data": {
          "bar": [
           {
            "error_x": {
             "color": "#2a3f5f"
            },
            "error_y": {
             "color": "#2a3f5f"
            },
            "marker": {
             "line": {
              "color": "#E5ECF6",
              "width": 0.5
             },
             "pattern": {
              "fillmode": "overlay",
              "size": 10,
              "solidity": 0.2
             }
            },
            "type": "bar"
           }
          ],
          "barpolar": [
           {
            "marker": {
             "line": {
              "color": "#E5ECF6",
              "width": 0.5
             },
             "pattern": {
              "fillmode": "overlay",
              "size": 10,
              "solidity": 0.2
             }
            },
            "type": "barpolar"
           }
          ],
          "carpet": [
           {
            "aaxis": {
             "endlinecolor": "#2a3f5f",
             "gridcolor": "white",
             "linecolor": "white",
             "minorgridcolor": "white",
             "startlinecolor": "#2a3f5f"
            },
            "baxis": {
             "endlinecolor": "#2a3f5f",
             "gridcolor": "white",
             "linecolor": "white",
             "minorgridcolor": "white",
             "startlinecolor": "#2a3f5f"
            },
            "type": "carpet"
           }
          ],
          "choropleth": [
           {
            "colorbar": {
             "outlinewidth": 0,
             "ticks": ""
            },
            "type": "choropleth"
           }
          ],
          "contour": [
           {
            "colorbar": {
             "outlinewidth": 0,
             "ticks": ""
            },
            "colorscale": [
             [
              0,
              "#0d0887"
             ],
             [
              0.1111111111111111,
              "#46039f"
             ],
             [
              0.2222222222222222,
              "#7201a8"
             ],
             [
              0.3333333333333333,
              "#9c179e"
             ],
             [
              0.4444444444444444,
              "#bd3786"
             ],
             [
              0.5555555555555556,
              "#d8576b"
             ],
             [
              0.6666666666666666,
              "#ed7953"
             ],
             [
              0.7777777777777778,
              "#fb9f3a"
             ],
             [
              0.8888888888888888,
              "#fdca26"
             ],
             [
              1,
              "#f0f921"
             ]
            ],
            "type": "contour"
           }
          ],
          "contourcarpet": [
           {
            "colorbar": {
             "outlinewidth": 0,
             "ticks": ""
            },
            "type": "contourcarpet"
           }
          ],
          "heatmap": [
           {
            "colorbar": {
             "outlinewidth": 0,
             "ticks": ""
            },
            "colorscale": [
             [
              0,
              "#0d0887"
             ],
             [
              0.1111111111111111,
              "#46039f"
             ],
             [
              0.2222222222222222,
              "#7201a8"
             ],
             [
              0.3333333333333333,
              "#9c179e"
             ],
             [
              0.4444444444444444,
              "#bd3786"
             ],
             [
              0.5555555555555556,
              "#d8576b"
             ],
             [
              0.6666666666666666,
              "#ed7953"
             ],
             [
              0.7777777777777778,
              "#fb9f3a"
             ],
             [
              0.8888888888888888,
              "#fdca26"
             ],
             [
              1,
              "#f0f921"
             ]
            ],
            "type": "heatmap"
           }
          ],
          "heatmapgl": [
           {
            "colorbar": {
             "outlinewidth": 0,
             "ticks": ""
            },
            "colorscale": [
             [
              0,
              "#0d0887"
             ],
             [
              0.1111111111111111,
              "#46039f"
             ],
             [
              0.2222222222222222,
              "#7201a8"
             ],
             [
              0.3333333333333333,
              "#9c179e"
             ],
             [
              0.4444444444444444,
              "#bd3786"
             ],
             [
              0.5555555555555556,
              "#d8576b"
             ],
             [
              0.6666666666666666,
              "#ed7953"
             ],
             [
              0.7777777777777778,
              "#fb9f3a"
             ],
             [
              0.8888888888888888,
              "#fdca26"
             ],
             [
              1,
              "#f0f921"
             ]
            ],
            "type": "heatmapgl"
           }
          ],
          "histogram": [
           {
            "marker": {
             "pattern": {
              "fillmode": "overlay",
              "size": 10,
              "solidity": 0.2
             }
            },
            "type": "histogram"
           }
          ],
          "histogram2d": [
           {
            "colorbar": {
             "outlinewidth": 0,
             "ticks": ""
            },
            "colorscale": [
             [
              0,
              "#0d0887"
             ],
             [
              0.1111111111111111,
              "#46039f"
             ],
             [
              0.2222222222222222,
              "#7201a8"
             ],
             [
              0.3333333333333333,
              "#9c179e"
             ],
             [
              0.4444444444444444,
              "#bd3786"
             ],
             [
              0.5555555555555556,
              "#d8576b"
             ],
             [
              0.6666666666666666,
              "#ed7953"
             ],
             [
              0.7777777777777778,
              "#fb9f3a"
             ],
             [
              0.8888888888888888,
              "#fdca26"
             ],
             [
              1,
              "#f0f921"
             ]
            ],
            "type": "histogram2d"
           }
          ],
          "histogram2dcontour": [
           {
            "colorbar": {
             "outlinewidth": 0,
             "ticks": ""
            },
            "colorscale": [
             [
              0,
              "#0d0887"
             ],
             [
              0.1111111111111111,
              "#46039f"
             ],
             [
              0.2222222222222222,
              "#7201a8"
             ],
             [
              0.3333333333333333,
              "#9c179e"
             ],
             [
              0.4444444444444444,
              "#bd3786"
             ],
             [
              0.5555555555555556,
              "#d8576b"
             ],
             [
              0.6666666666666666,
              "#ed7953"
             ],
             [
              0.7777777777777778,
              "#fb9f3a"
             ],
             [
              0.8888888888888888,
              "#fdca26"
             ],
             [
              1,
              "#f0f921"
             ]
            ],
            "type": "histogram2dcontour"
           }
          ],
          "mesh3d": [
           {
            "colorbar": {
             "outlinewidth": 0,
             "ticks": ""
            },
            "type": "mesh3d"
           }
          ],
          "parcoords": [
           {
            "line": {
             "colorbar": {
              "outlinewidth": 0,
              "ticks": ""
             }
            },
            "type": "parcoords"
           }
          ],
          "pie": [
           {
            "automargin": true,
            "type": "pie"
           }
          ],
          "scatter": [
           {
            "marker": {
             "colorbar": {
              "outlinewidth": 0,
              "ticks": ""
             }
            },
            "type": "scatter"
           }
          ],
          "scatter3d": [
           {
            "line": {
             "colorbar": {
              "outlinewidth": 0,
              "ticks": ""
             }
            },
            "marker": {
             "colorbar": {
              "outlinewidth": 0,
              "ticks": ""
             }
            },
            "type": "scatter3d"
           }
          ],
          "scattercarpet": [
           {
            "marker": {
             "colorbar": {
              "outlinewidth": 0,
              "ticks": ""
             }
            },
            "type": "scattercarpet"
           }
          ],
          "scattergeo": [
           {
            "marker": {
             "colorbar": {
              "outlinewidth": 0,
              "ticks": ""
             }
            },
            "type": "scattergeo"
           }
          ],
          "scattergl": [
           {
            "marker": {
             "colorbar": {
              "outlinewidth": 0,
              "ticks": ""
             }
            },
            "type": "scattergl"
           }
          ],
          "scattermapbox": [
           {
            "marker": {
             "colorbar": {
              "outlinewidth": 0,
              "ticks": ""
             }
            },
            "type": "scattermapbox"
           }
          ],
          "scatterpolar": [
           {
            "marker": {
             "colorbar": {
              "outlinewidth": 0,
              "ticks": ""
             }
            },
            "type": "scatterpolar"
           }
          ],
          "scatterpolargl": [
           {
            "marker": {
             "colorbar": {
              "outlinewidth": 0,
              "ticks": ""
             }
            },
            "type": "scatterpolargl"
           }
          ],
          "scatterternary": [
           {
            "marker": {
             "colorbar": {
              "outlinewidth": 0,
              "ticks": ""
             }
            },
            "type": "scatterternary"
           }
          ],
          "surface": [
           {
            "colorbar": {
             "outlinewidth": 0,
             "ticks": ""
            },
            "colorscale": [
             [
              0,
              "#0d0887"
             ],
             [
              0.1111111111111111,
              "#46039f"
             ],
             [
              0.2222222222222222,
              "#7201a8"
             ],
             [
              0.3333333333333333,
              "#9c179e"
             ],
             [
              0.4444444444444444,
              "#bd3786"
             ],
             [
              0.5555555555555556,
              "#d8576b"
             ],
             [
              0.6666666666666666,
              "#ed7953"
             ],
             [
              0.7777777777777778,
              "#fb9f3a"
             ],
             [
              0.8888888888888888,
              "#fdca26"
             ],
             [
              1,
              "#f0f921"
             ]
            ],
            "type": "surface"
           }
          ],
          "table": [
           {
            "cells": {
             "fill": {
              "color": "#EBF0F8"
             },
             "line": {
              "color": "white"
             }
            },
            "header": {
             "fill": {
              "color": "#C8D4E3"
             },
             "line": {
              "color": "white"
             }
            },
            "type": "table"
           }
          ]
         },
         "layout": {
          "annotationdefaults": {
           "arrowcolor": "#2a3f5f",
           "arrowhead": 0,
           "arrowwidth": 1
          },
          "autotypenumbers": "strict",
          "coloraxis": {
           "colorbar": {
            "outlinewidth": 0,
            "ticks": ""
           }
          },
          "colorscale": {
           "diverging": [
            [
             0,
             "#8e0152"
            ],
            [
             0.1,
             "#c51b7d"
            ],
            [
             0.2,
             "#de77ae"
            ],
            [
             0.3,
             "#f1b6da"
            ],
            [
             0.4,
             "#fde0ef"
            ],
            [
             0.5,
             "#f7f7f7"
            ],
            [
             0.6,
             "#e6f5d0"
            ],
            [
             0.7,
             "#b8e186"
            ],
            [
             0.8,
             "#7fbc41"
            ],
            [
             0.9,
             "#4d9221"
            ],
            [
             1,
             "#276419"
            ]
           ],
           "sequential": [
            [
             0,
             "#0d0887"
            ],
            [
             0.1111111111111111,
             "#46039f"
            ],
            [
             0.2222222222222222,
             "#7201a8"
            ],
            [
             0.3333333333333333,
             "#9c179e"
            ],
            [
             0.4444444444444444,
             "#bd3786"
            ],
            [
             0.5555555555555556,
             "#d8576b"
            ],
            [
             0.6666666666666666,
             "#ed7953"
            ],
            [
             0.7777777777777778,
             "#fb9f3a"
            ],
            [
             0.8888888888888888,
             "#fdca26"
            ],
            [
             1,
             "#f0f921"
            ]
           ],
           "sequentialminus": [
            [
             0,
             "#0d0887"
            ],
            [
             0.1111111111111111,
             "#46039f"
            ],
            [
             0.2222222222222222,
             "#7201a8"
            ],
            [
             0.3333333333333333,
             "#9c179e"
            ],
            [
             0.4444444444444444,
             "#bd3786"
            ],
            [
             0.5555555555555556,
             "#d8576b"
            ],
            [
             0.6666666666666666,
             "#ed7953"
            ],
            [
             0.7777777777777778,
             "#fb9f3a"
            ],
            [
             0.8888888888888888,
             "#fdca26"
            ],
            [
             1,
             "#f0f921"
            ]
           ]
          },
          "colorway": [
           "#636efa",
           "#EF553B",
           "#00cc96",
           "#ab63fa",
           "#FFA15A",
           "#19d3f3",
           "#FF6692",
           "#B6E880",
           "#FF97FF",
           "#FECB52"
          ],
          "font": {
           "color": "#2a3f5f"
          },
          "geo": {
           "bgcolor": "white",
           "lakecolor": "white",
           "landcolor": "#E5ECF6",
           "showlakes": true,
           "showland": true,
           "subunitcolor": "white"
          },
          "hoverlabel": {
           "align": "left"
          },
          "hovermode": "closest",
          "mapbox": {
           "style": "light"
          },
          "paper_bgcolor": "white",
          "plot_bgcolor": "#E5ECF6",
          "polar": {
           "angularaxis": {
            "gridcolor": "white",
            "linecolor": "white",
            "ticks": ""
           },
           "bgcolor": "#E5ECF6",
           "radialaxis": {
            "gridcolor": "white",
            "linecolor": "white",
            "ticks": ""
           }
          },
          "scene": {
           "xaxis": {
            "backgroundcolor": "#E5ECF6",
            "gridcolor": "white",
            "gridwidth": 2,
            "linecolor": "white",
            "showbackground": true,
            "ticks": "",
            "zerolinecolor": "white"
           },
           "yaxis": {
            "backgroundcolor": "#E5ECF6",
            "gridcolor": "white",
            "gridwidth": 2,
            "linecolor": "white",
            "showbackground": true,
            "ticks": "",
            "zerolinecolor": "white"
           },
           "zaxis": {
            "backgroundcolor": "#E5ECF6",
            "gridcolor": "white",
            "gridwidth": 2,
            "linecolor": "white",
            "showbackground": true,
            "ticks": "",
            "zerolinecolor": "white"
           }
          },
          "shapedefaults": {
           "line": {
            "color": "#2a3f5f"
           }
          },
          "ternary": {
           "aaxis": {
            "gridcolor": "white",
            "linecolor": "white",
            "ticks": ""
           },
           "baxis": {
            "gridcolor": "white",
            "linecolor": "white",
            "ticks": ""
           },
           "bgcolor": "#E5ECF6",
           "caxis": {
            "gridcolor": "white",
            "linecolor": "white",
            "ticks": ""
           }
          },
          "title": {
           "x": 0.05
          },
          "xaxis": {
           "automargin": true,
           "gridcolor": "white",
           "linecolor": "white",
           "ticks": "",
           "title": {
            "standoff": 15
           },
           "zerolinecolor": "white",
           "zerolinewidth": 2
          },
          "yaxis": {
           "automargin": true,
           "gridcolor": "white",
           "linecolor": "white",
           "ticks": "",
           "title": {
            "standoff": 15
           },
           "zerolinecolor": "white",
           "zerolinewidth": 2
          }
         }
        },
        "title": {
         "font": {
          "color": "#4D5663"
         }
        },
        "xaxis": {
         "gridcolor": "#E1E5ED",
         "showgrid": true,
         "tickfont": {
          "color": "#4D5663"
         },
         "title": {
          "font": {
           "color": "#4D5663"
          },
          "text": ""
         },
         "zerolinecolor": "#E1E5ED"
        },
        "yaxis": {
         "gridcolor": "#E1E5ED",
         "showgrid": true,
         "tickfont": {
          "color": "#4D5663"
         },
         "title": {
          "font": {
           "color": "#4D5663"
          },
          "text": ""
         },
         "zerolinecolor": "#E1E5ED"
        }
       }
      },
      "text/html": [
       "<div>                            <div id=\"ad2300f8-0687-41b7-a3ad-5051335a15da\" class=\"plotly-graph-div\" style=\"height:525px; width:100%;\"></div>            <script type=\"text/javascript\">                require([\"plotly\"], function(Plotly) {                    window.PLOTLYENV=window.PLOTLYENV || {};\n",
       "                    window.PLOTLYENV.BASE_URL='https://plot.ly';                                    if (document.getElementById(\"ad2300f8-0687-41b7-a3ad-5051335a15da\")) {                    Plotly.newPlot(                        \"ad2300f8-0687-41b7-a3ad-5051335a15da\",                        [{\"line\":{\"color\":\"rgba(255, 153, 51, 1.0)\",\"dash\":\"solid\",\"shape\":\"linear\",\"width\":1.3},\"mode\":\"lines\",\"name\":\"A\",\"text\":\"\",\"x\":[0,1,2,3,4,5,6,7,8,9,10,11,12,13,14,15,16,17,18,19,20,21,22,23,24,25,26,27,28,29,30,31,32,33,34,35,36,37,38,39,40,41,42,43,44,45,46,47,48,49,50,51,52,53,54,55,56,57,58,59,60,61,62,63,64,65,66,67,68,69,70,71,72,73,74,75,76,77,78,79,80,81,82,83,84,85,86,87,88,89,90,91,92,93,94,95,96,97,98,99],\"y\":[2.2945374253810935,-0.3093515604936077,1.4099818913712976,-2.196110293064084,-0.9730355871574337,0.6758996210512747,0.4490972173206316,-1.0515484423751666,0.2732234960957011,-1.5365090220836957,-1.6932572343471597,-1.0041336307584219,-0.26154246040228496,-0.8384473511086155,-0.27098570978012626,-0.24699533055737363,0.4359728744399814,0.45075215892922,-0.40682478585358206,-0.8694947997937347,-0.9962250815297425,-0.7546498354280269,-1.2193985044232207,-0.6484550336304917,-0.6478660074910817,1.3075875114988116,0.6479749347733862,1.365413425889694,-1.3786785459827833,1.0674063097355568,-0.03425474497266747,-0.6367091109705111,-0.12380013677571215,1.123214340690999,-1.375557573075988,0.028247847281367516,0.8142661127912598,0.7492742748649921,2.1535842081309577,0.2496270975018242,0.5900075827334962,-0.41308483998131285,1.5719064244629575,0.1037462411105567,-0.8960475471587651,0.7962818323897186,0.3147260731773103,0.15305000269083455,-1.9749800287184807,-2.063232019899476,-0.6645388553178008,-0.14962339946779415,1.6312691622075577,1.2461029763384932,-0.8041765376801094,-2.1871789852622974,0.7219607898045612,0.01872744557244804,-0.1439461524730603,2.4213984187283892,-0.08961306545499886,-0.6215347268694917,-0.2265992785941594,1.069198411020045,0.06603541122738674,-1.3448905120670303,-1.7520691361415135,-0.6724343361282331,-0.5610261784733895,-0.26511817705776947,0.5562794123150756,1.6327175271675543,-0.6833768505379594,0.9475790872426847,-2.0135558713323998,0.4087322652424809,-2.271934009320793,0.7460695551556408,-0.027463522369002753,-0.3497615354709517,0.7796536119885089,-0.6899262772734551,-0.5472504462267378,-0.42674075242416437,-0.5651323415134348,-0.18228939978711364,-0.13732106559514778,-1.43927317417849,-1.6036857311604047,-0.5407693827715786,-0.8616357888597961,-0.6900246068662761,-0.7460744807669557,-1.6171163053306175,0.902046099613515,-0.9449464079715946,-0.1570049430962567,0.4951847660216899,-2.0379563368903546,0.6932629721280178],\"type\":\"scatter\"},{\"line\":{\"color\":\"rgba(55, 128, 191, 1.0)\",\"dash\":\"solid\",\"shape\":\"linear\",\"width\":1.3},\"mode\":\"lines\",\"name\":\"B\",\"text\":\"\",\"x\":[0,1,2,3,4,5,6,7,8,9,10,11,12,13,14,15,16,17,18,19,20,21,22,23,24,25,26,27,28,29,30,31,32,33,34,35,36,37,38,39,40,41,42,43,44,45,46,47,48,49,50,51,52,53,54,55,56,57,58,59,60,61,62,63,64,65,66,67,68,69,70,71,72,73,74,75,76,77,78,79,80,81,82,83,84,85,86,87,88,89,90,91,92,93,94,95,96,97,98,99],\"y\":[-0.46261447220360236,-0.791047372871296,0.5418559261345138,0.2668859142862276,-0.18468980551825998,-0.7459316222073529,-1.2018819350771943,1.2639618415625153,-0.8520764958511973,0.07986402478633525,0.4668029955573966,-0.1177338273773469,0.8732631863122309,-0.3565876529933062,0.5623818213294249,0.8198668108761308,2.022731183254802,-0.9568765632456528,-0.38374970780801604,-0.1708871427454367,0.18168572225530136,-0.1905780450285549,-0.32612158216601567,-0.13895813113206595,-0.2418675333175781,-0.41110969735003267,-1.114230201623011,-0.8622196675085945,0.08903683166058758,0.12969334729628124,0.24761932507958725,-0.0001610999257149029,-0.09184586568824617,0.9419680126764056,0.3726558362436117,0.09981198298065946,-0.06838285171797791,-0.24077541469209793,0.7731125936028886,-3.2232409808828524,-0.3697944808883046,0.6784506185379208,2.7507243616081722,-0.9950713306154855,1.2653850950456123,-1.856010629832242,-0.08644240665669528,0.8781007704890135,-0.06502311602928444,-0.36938268090524734,0.03291095119914805,-0.4090355703464742,-0.25102014273436357,1.5840778536593239,-1.3402956780230635,-0.19391746110712615,-0.7354369348049198,-0.8484390574464394,0.5039447477960337,-1.4402381290989748,-1.134486317696811,0.5305713195160849,-0.3352554585219817,-0.2682985959891376,0.31567579386057193,0.47381704568405725,1.8891500081613526,0.11944964690036959,0.13681468031662902,-0.9413075308836625,0.17295992748678057,0.14617368534621905,-1.664461112389103,-0.7187472475419009,-0.12348921993332417,0.7413835048330212,0.6250666013551777,0.5966396831499718,0.42923746343195723,-0.8028685627420207,1.1044828740813615,-0.3271088399695305,0.5369556379693118,-0.7267461002707797,-0.6610862550190166,0.14110053123938704,0.7707924984545371,-1.1350609343260762,0.5287989209358023,-0.427028134978249,0.5726841651709131,0.588388874756771,-1.2324133552823289,0.10672692490143716,0.6208495217666956,0.12115958090622742,1.6902651177873182,-3.168339935035551,1.3726100037812896,0.5000162842648437],\"type\":\"scatter\"},{\"line\":{\"color\":\"rgba(50, 171, 96, 1.0)\",\"dash\":\"solid\",\"shape\":\"linear\",\"width\":1.3},\"mode\":\"lines\",\"name\":\"C\",\"text\":\"\",\"x\":[0,1,2,3,4,5,6,7,8,9,10,11,12,13,14,15,16,17,18,19,20,21,22,23,24,25,26,27,28,29,30,31,32,33,34,35,36,37,38,39,40,41,42,43,44,45,46,47,48,49,50,51,52,53,54,55,56,57,58,59,60,61,62,63,64,65,66,67,68,69,70,71,72,73,74,75,76,77,78,79,80,81,82,83,84,85,86,87,88,89,90,91,92,93,94,95,96,97,98,99],\"y\":[1.1600750840297651,0.6417813981625896,0.5902578791179094,0.6476917480013206,-0.11002635415635004,0.6297728033971316,0.5153882581325809,-0.46031359850548836,0.43817165568363586,0.16249333810062877,-1.1608617761687794,-0.004253657656058018,1.8362518122709144,0.10771240590155419,0.15809469284492164,-1.3624151323008242,-0.07855872026598393,-0.7608506424454691,-0.043204479017319164,-0.0364677603032425,-0.07479036560979653,1.2314825319012963,-0.9490349070700659,-1.477693919876053,-0.7555596440061743,-0.7313898555695051,1.306281825586797,0.1084195563422876,1.0603680510531686,0.3637957480764699,-0.33474867647487877,-0.19971859384638418,2.1198649628393875,0.23140255242613528,-0.36705154119762234,-0.07963688270377418,-0.1358134137758437,-0.25049070784380384,0.8909934662080147,1.4620562734368803,-0.0708109200582943,-1.4176028625120993,-0.16808706438439702,-0.05364358876459088,-0.051629571583329224,0.6433169854477252,-1.5899080977592095,-0.044114073873185736,-1.5647306162853867,-0.10852463309253006,0.8452312290769657,0.5015933477022239,-0.42734074897189633,-0.29856411525138943,0.3141206028531177,0.21492261225791537,0.5007299880468711,0.016770039508169646,-0.6550409088034925,0.531656165200417,-0.9933856410527453,-0.6860025003992837,-0.4949621719734807,0.48336134869163755,-0.4134596651882325,1.049759529183517,0.7746033144880334,-0.14801258342866538,0.15846192190687614,0.11833800979681548,0.531395050416844,-0.1362397190688743,-1.0754727434695572,-0.9712207665765553,-0.5179685245082127,0.16568572022677439,-0.005160184562395594,-1.2493647010361242,1.1422388612004193,0.43319973590464783,1.5216037501021582,0.03992209520078535,1.2276392616154084,0.8875464080935134,1.466546277005924,-0.47281145864533924,1.4587826483088657,-0.6160818167457689,0.7708803636255216,-0.5793597943396351,-0.5542358987432575,0.6975480354167959,-0.09285679303794396,1.791724742609253,-1.0473458688253372,0.7569171881523397,-0.8964271596330989,-0.2916455317330653,-1.6018200500866562,-0.030073977142956426],\"type\":\"scatter\"},{\"line\":{\"color\":\"rgba(128, 0, 128, 1.0)\",\"dash\":\"solid\",\"shape\":\"linear\",\"width\":1.3},\"mode\":\"lines\",\"name\":\"D\",\"text\":\"\",\"x\":[0,1,2,3,4,5,6,7,8,9,10,11,12,13,14,15,16,17,18,19,20,21,22,23,24,25,26,27,28,29,30,31,32,33,34,35,36,37,38,39,40,41,42,43,44,45,46,47,48,49,50,51,52,53,54,55,56,57,58,59,60,61,62,63,64,65,66,67,68,69,70,71,72,73,74,75,76,77,78,79,80,81,82,83,84,85,86,87,88,89,90,91,92,93,94,95,96,97,98,99],\"y\":[-0.4806329885941989,-0.40823789839476865,-2.4586568648295017,-0.4420729542468316,-2.71047765890887,-0.19082216756108314,-1.5266172808380993,0.9694283003800291,0.020308977085903904,0.35314710453077414,-2.307031076650917,-0.25021371793396197,0.38034839107658097,-2.2307221134453115,0.3150058705197914,-0.2542304201696045,-0.018478364087759908,-0.17722854143603978,-2.093160629467049,2.3084474554077548,0.7907731080942065,0.37150140935748804,0.8121217860638706,-0.2646855647127756,1.47327025576293,0.48354453042159634,-0.3382287299518159,-1.304150675625216,-0.5583040713830745,0.9196393987128253,-0.08301410128625789,-1.326633575701284,3.430822816732108,0.09854606638053852,0.02795424875163925,-1.4663198493667629,0.07468224513919966,-0.9027739543036912,0.13715244739199098,-0.3933198185962746,-0.9396623098270023,-0.7975148007964612,0.39232061200903057,-0.9994198004123522,0.4035006553684261,-0.8549273635324984,0.1716177612231615,-0.4962536352974422,0.8683434460773386,-0.25896842946713555,-0.41326048925574305,0.330238758426401,-0.4292056893258818,1.1857913181451936,-0.7101715155779407,0.43885318891685887,0.16116208664794734,1.2555079693366742,-1.8181179963763787,-0.40803749169065456,-0.8335640603386798,0.3822477466661534,0.5972099193538482,-1.2604862836511976,-0.20769610260098298,-0.8396408560907145,-1.2035073785695944,-0.21234987099218547,0.08067497369863376,0.4860718543856061,-1.7682728054804628,0.9457721389386934,0.0982829953021395,0.14967971821048975,0.7614310870171208,-0.16182639253978245,0.09437397329690063,-0.4774218177544829,0.4900598196564723,-1.3159588695908635,-1.086764007876752,0.7032139424561363,1.2894009089080782,-0.25895986884072447,0.2013853619359434,0.5507180930936277,-0.20629908826896656,-2.42244327268846,-0.7599994964287735,0.33958934328118323,1.1225643777283165,-0.2709976199666413,1.8504246230632917,-0.13303255617163096,0.753481341573977,-1.5517985936819434,0.18333718664001367,-0.4233623658160429,-0.10332293278426032,-0.7872621105662994],\"type\":\"scatter\"}],                        {\"legend\":{\"bgcolor\":\"#F5F6F9\",\"font\":{\"color\":\"#4D5663\"}},\"paper_bgcolor\":\"#F5F6F9\",\"plot_bgcolor\":\"#F5F6F9\",\"template\":{\"data\":{\"barpolar\":[{\"marker\":{\"line\":{\"color\":\"#E5ECF6\",\"width\":0.5},\"pattern\":{\"fillmode\":\"overlay\",\"size\":10,\"solidity\":0.2}},\"type\":\"barpolar\"}],\"bar\":[{\"error_x\":{\"color\":\"#2a3f5f\"},\"error_y\":{\"color\":\"#2a3f5f\"},\"marker\":{\"line\":{\"color\":\"#E5ECF6\",\"width\":0.5},\"pattern\":{\"fillmode\":\"overlay\",\"size\":10,\"solidity\":0.2}},\"type\":\"bar\"}],\"carpet\":[{\"aaxis\":{\"endlinecolor\":\"#2a3f5f\",\"gridcolor\":\"white\",\"linecolor\":\"white\",\"minorgridcolor\":\"white\",\"startlinecolor\":\"#2a3f5f\"},\"baxis\":{\"endlinecolor\":\"#2a3f5f\",\"gridcolor\":\"white\",\"linecolor\":\"white\",\"minorgridcolor\":\"white\",\"startlinecolor\":\"#2a3f5f\"},\"type\":\"carpet\"}],\"choropleth\":[{\"colorbar\":{\"outlinewidth\":0,\"ticks\":\"\"},\"type\":\"choropleth\"}],\"contourcarpet\":[{\"colorbar\":{\"outlinewidth\":0,\"ticks\":\"\"},\"type\":\"contourcarpet\"}],\"contour\":[{\"colorbar\":{\"outlinewidth\":0,\"ticks\":\"\"},\"colorscale\":[[0.0,\"#0d0887\"],[0.1111111111111111,\"#46039f\"],[0.2222222222222222,\"#7201a8\"],[0.3333333333333333,\"#9c179e\"],[0.4444444444444444,\"#bd3786\"],[0.5555555555555556,\"#d8576b\"],[0.6666666666666666,\"#ed7953\"],[0.7777777777777778,\"#fb9f3a\"],[0.8888888888888888,\"#fdca26\"],[1.0,\"#f0f921\"]],\"type\":\"contour\"}],\"heatmapgl\":[{\"colorbar\":{\"outlinewidth\":0,\"ticks\":\"\"},\"colorscale\":[[0.0,\"#0d0887\"],[0.1111111111111111,\"#46039f\"],[0.2222222222222222,\"#7201a8\"],[0.3333333333333333,\"#9c179e\"],[0.4444444444444444,\"#bd3786\"],[0.5555555555555556,\"#d8576b\"],[0.6666666666666666,\"#ed7953\"],[0.7777777777777778,\"#fb9f3a\"],[0.8888888888888888,\"#fdca26\"],[1.0,\"#f0f921\"]],\"type\":\"heatmapgl\"}],\"heatmap\":[{\"colorbar\":{\"outlinewidth\":0,\"ticks\":\"\"},\"colorscale\":[[0.0,\"#0d0887\"],[0.1111111111111111,\"#46039f\"],[0.2222222222222222,\"#7201a8\"],[0.3333333333333333,\"#9c179e\"],[0.4444444444444444,\"#bd3786\"],[0.5555555555555556,\"#d8576b\"],[0.6666666666666666,\"#ed7953\"],[0.7777777777777778,\"#fb9f3a\"],[0.8888888888888888,\"#fdca26\"],[1.0,\"#f0f921\"]],\"type\":\"heatmap\"}],\"histogram2dcontour\":[{\"colorbar\":{\"outlinewidth\":0,\"ticks\":\"\"},\"colorscale\":[[0.0,\"#0d0887\"],[0.1111111111111111,\"#46039f\"],[0.2222222222222222,\"#7201a8\"],[0.3333333333333333,\"#9c179e\"],[0.4444444444444444,\"#bd3786\"],[0.5555555555555556,\"#d8576b\"],[0.6666666666666666,\"#ed7953\"],[0.7777777777777778,\"#fb9f3a\"],[0.8888888888888888,\"#fdca26\"],[1.0,\"#f0f921\"]],\"type\":\"histogram2dcontour\"}],\"histogram2d\":[{\"colorbar\":{\"outlinewidth\":0,\"ticks\":\"\"},\"colorscale\":[[0.0,\"#0d0887\"],[0.1111111111111111,\"#46039f\"],[0.2222222222222222,\"#7201a8\"],[0.3333333333333333,\"#9c179e\"],[0.4444444444444444,\"#bd3786\"],[0.5555555555555556,\"#d8576b\"],[0.6666666666666666,\"#ed7953\"],[0.7777777777777778,\"#fb9f3a\"],[0.8888888888888888,\"#fdca26\"],[1.0,\"#f0f921\"]],\"type\":\"histogram2d\"}],\"histogram\":[{\"marker\":{\"pattern\":{\"fillmode\":\"overlay\",\"size\":10,\"solidity\":0.2}},\"type\":\"histogram\"}],\"mesh3d\":[{\"colorbar\":{\"outlinewidth\":0,\"ticks\":\"\"},\"type\":\"mesh3d\"}],\"parcoords\":[{\"line\":{\"colorbar\":{\"outlinewidth\":0,\"ticks\":\"\"}},\"type\":\"parcoords\"}],\"pie\":[{\"automargin\":true,\"type\":\"pie\"}],\"scatter3d\":[{\"line\":{\"colorbar\":{\"outlinewidth\":0,\"ticks\":\"\"}},\"marker\":{\"colorbar\":{\"outlinewidth\":0,\"ticks\":\"\"}},\"type\":\"scatter3d\"}],\"scattercarpet\":[{\"marker\":{\"colorbar\":{\"outlinewidth\":0,\"ticks\":\"\"}},\"type\":\"scattercarpet\"}],\"scattergeo\":[{\"marker\":{\"colorbar\":{\"outlinewidth\":0,\"ticks\":\"\"}},\"type\":\"scattergeo\"}],\"scattergl\":[{\"marker\":{\"colorbar\":{\"outlinewidth\":0,\"ticks\":\"\"}},\"type\":\"scattergl\"}],\"scattermapbox\":[{\"marker\":{\"colorbar\":{\"outlinewidth\":0,\"ticks\":\"\"}},\"type\":\"scattermapbox\"}],\"scatterpolargl\":[{\"marker\":{\"colorbar\":{\"outlinewidth\":0,\"ticks\":\"\"}},\"type\":\"scatterpolargl\"}],\"scatterpolar\":[{\"marker\":{\"colorbar\":{\"outlinewidth\":0,\"ticks\":\"\"}},\"type\":\"scatterpolar\"}],\"scatter\":[{\"marker\":{\"colorbar\":{\"outlinewidth\":0,\"ticks\":\"\"}},\"type\":\"scatter\"}],\"scatterternary\":[{\"marker\":{\"colorbar\":{\"outlinewidth\":0,\"ticks\":\"\"}},\"type\":\"scatterternary\"}],\"surface\":[{\"colorbar\":{\"outlinewidth\":0,\"ticks\":\"\"},\"colorscale\":[[0.0,\"#0d0887\"],[0.1111111111111111,\"#46039f\"],[0.2222222222222222,\"#7201a8\"],[0.3333333333333333,\"#9c179e\"],[0.4444444444444444,\"#bd3786\"],[0.5555555555555556,\"#d8576b\"],[0.6666666666666666,\"#ed7953\"],[0.7777777777777778,\"#fb9f3a\"],[0.8888888888888888,\"#fdca26\"],[1.0,\"#f0f921\"]],\"type\":\"surface\"}],\"table\":[{\"cells\":{\"fill\":{\"color\":\"#EBF0F8\"},\"line\":{\"color\":\"white\"}},\"header\":{\"fill\":{\"color\":\"#C8D4E3\"},\"line\":{\"color\":\"white\"}},\"type\":\"table\"}]},\"layout\":{\"annotationdefaults\":{\"arrowcolor\":\"#2a3f5f\",\"arrowhead\":0,\"arrowwidth\":1},\"autotypenumbers\":\"strict\",\"coloraxis\":{\"colorbar\":{\"outlinewidth\":0,\"ticks\":\"\"}},\"colorscale\":{\"diverging\":[[0,\"#8e0152\"],[0.1,\"#c51b7d\"],[0.2,\"#de77ae\"],[0.3,\"#f1b6da\"],[0.4,\"#fde0ef\"],[0.5,\"#f7f7f7\"],[0.6,\"#e6f5d0\"],[0.7,\"#b8e186\"],[0.8,\"#7fbc41\"],[0.9,\"#4d9221\"],[1,\"#276419\"]],\"sequential\":[[0.0,\"#0d0887\"],[0.1111111111111111,\"#46039f\"],[0.2222222222222222,\"#7201a8\"],[0.3333333333333333,\"#9c179e\"],[0.4444444444444444,\"#bd3786\"],[0.5555555555555556,\"#d8576b\"],[0.6666666666666666,\"#ed7953\"],[0.7777777777777778,\"#fb9f3a\"],[0.8888888888888888,\"#fdca26\"],[1.0,\"#f0f921\"]],\"sequentialminus\":[[0.0,\"#0d0887\"],[0.1111111111111111,\"#46039f\"],[0.2222222222222222,\"#7201a8\"],[0.3333333333333333,\"#9c179e\"],[0.4444444444444444,\"#bd3786\"],[0.5555555555555556,\"#d8576b\"],[0.6666666666666666,\"#ed7953\"],[0.7777777777777778,\"#fb9f3a\"],[0.8888888888888888,\"#fdca26\"],[1.0,\"#f0f921\"]]},\"colorway\":[\"#636efa\",\"#EF553B\",\"#00cc96\",\"#ab63fa\",\"#FFA15A\",\"#19d3f3\",\"#FF6692\",\"#B6E880\",\"#FF97FF\",\"#FECB52\"],\"font\":{\"color\":\"#2a3f5f\"},\"geo\":{\"bgcolor\":\"white\",\"lakecolor\":\"white\",\"landcolor\":\"#E5ECF6\",\"showlakes\":true,\"showland\":true,\"subunitcolor\":\"white\"},\"hoverlabel\":{\"align\":\"left\"},\"hovermode\":\"closest\",\"mapbox\":{\"style\":\"light\"},\"paper_bgcolor\":\"white\",\"plot_bgcolor\":\"#E5ECF6\",\"polar\":{\"angularaxis\":{\"gridcolor\":\"white\",\"linecolor\":\"white\",\"ticks\":\"\"},\"bgcolor\":\"#E5ECF6\",\"radialaxis\":{\"gridcolor\":\"white\",\"linecolor\":\"white\",\"ticks\":\"\"}},\"scene\":{\"xaxis\":{\"backgroundcolor\":\"#E5ECF6\",\"gridcolor\":\"white\",\"gridwidth\":2,\"linecolor\":\"white\",\"showbackground\":true,\"ticks\":\"\",\"zerolinecolor\":\"white\"},\"yaxis\":{\"backgroundcolor\":\"#E5ECF6\",\"gridcolor\":\"white\",\"gridwidth\":2,\"linecolor\":\"white\",\"showbackground\":true,\"ticks\":\"\",\"zerolinecolor\":\"white\"},\"zaxis\":{\"backgroundcolor\":\"#E5ECF6\",\"gridcolor\":\"white\",\"gridwidth\":2,\"linecolor\":\"white\",\"showbackground\":true,\"ticks\":\"\",\"zerolinecolor\":\"white\"}},\"shapedefaults\":{\"line\":{\"color\":\"#2a3f5f\"}},\"ternary\":{\"aaxis\":{\"gridcolor\":\"white\",\"linecolor\":\"white\",\"ticks\":\"\"},\"baxis\":{\"gridcolor\":\"white\",\"linecolor\":\"white\",\"ticks\":\"\"},\"bgcolor\":\"#E5ECF6\",\"caxis\":{\"gridcolor\":\"white\",\"linecolor\":\"white\",\"ticks\":\"\"}},\"title\":{\"x\":0.05},\"xaxis\":{\"automargin\":true,\"gridcolor\":\"white\",\"linecolor\":\"white\",\"ticks\":\"\",\"title\":{\"standoff\":15},\"zerolinecolor\":\"white\",\"zerolinewidth\":2},\"yaxis\":{\"automargin\":true,\"gridcolor\":\"white\",\"linecolor\":\"white\",\"ticks\":\"\",\"title\":{\"standoff\":15},\"zerolinecolor\":\"white\",\"zerolinewidth\":2}}},\"title\":{\"font\":{\"color\":\"#4D5663\"}},\"xaxis\":{\"gridcolor\":\"#E1E5ED\",\"showgrid\":true,\"tickfont\":{\"color\":\"#4D5663\"},\"title\":{\"font\":{\"color\":\"#4D5663\"},\"text\":\"\"},\"zerolinecolor\":\"#E1E5ED\"},\"yaxis\":{\"gridcolor\":\"#E1E5ED\",\"showgrid\":true,\"tickfont\":{\"color\":\"#4D5663\"},\"title\":{\"font\":{\"color\":\"#4D5663\"},\"text\":\"\"},\"zerolinecolor\":\"#E1E5ED\"}},                        {\"showLink\": true, \"linkText\": \"Export to plot.ly\", \"plotlyServerURL\": \"https://plot.ly\", \"responsive\": true}                    ).then(function(){\n",
       "                            \n",
       "var gd = document.getElementById('ad2300f8-0687-41b7-a3ad-5051335a15da');\n",
       "var x = new MutationObserver(function (mutations, observer) {{\n",
       "        var display = window.getComputedStyle(gd).display;\n",
       "        if (!display || display === 'none') {{\n",
       "            console.log([gd, 'removed!']);\n",
       "            Plotly.purge(gd);\n",
       "            observer.disconnect();\n",
       "        }}\n",
       "}});\n",
       "\n",
       "// Listen for the removal of the full notebook cells\n",
       "var notebookContainer = gd.closest('#notebook-container');\n",
       "if (notebookContainer) {{\n",
       "    x.observe(notebookContainer, {childList: true});\n",
       "}}\n",
       "\n",
       "// Listen for the clearing of the current output cell\n",
       "var outputEl = gd.closest('.output');\n",
       "if (outputEl) {{\n",
       "    x.observe(outputEl, {childList: true});\n",
       "}}\n",
       "\n",
       "                        })                };                });            </script>        </div>"
      ]
     },
     "metadata": {},
     "output_type": "display_data"
    }
   ],
   "source": [
    "df.iplot()"
   ]
  },
  {
   "cell_type": "code",
   "execution_count": 15,
   "id": "ca3fb082",
   "metadata": {},
   "outputs": [
    {
     "data": {
      "application/vnd.plotly.v1+json": {
       "config": {
        "linkText": "Export to plot.ly",
        "plotlyServerURL": "https://plot.ly",
        "showLink": true
       },
       "data": [
        {
         "line": {
          "color": "rgba(255, 153, 51, 1.0)",
          "dash": "solid",
          "shape": "linear",
          "width": 1.3
         },
         "mode": "lines",
         "name": "B",
         "text": "",
         "type": "scatter",
         "x": [
          2.2945374253810935,
          -0.3093515604936077,
          1.4099818913712976,
          -2.196110293064084,
          -0.9730355871574337,
          0.6758996210512747,
          0.4490972173206316,
          -1.0515484423751666,
          0.2732234960957011,
          -1.5365090220836957,
          -1.6932572343471597,
          -1.0041336307584219,
          -0.26154246040228496,
          -0.8384473511086155,
          -0.27098570978012626,
          -0.24699533055737363,
          0.4359728744399814,
          0.45075215892922,
          -0.40682478585358206,
          -0.8694947997937347,
          -0.9962250815297425,
          -0.7546498354280269,
          -1.2193985044232207,
          -0.6484550336304917,
          -0.6478660074910817,
          1.3075875114988116,
          0.6479749347733862,
          1.365413425889694,
          -1.3786785459827833,
          1.0674063097355568,
          -0.03425474497266747,
          -0.6367091109705111,
          -0.12380013677571215,
          1.123214340690999,
          -1.375557573075988,
          0.028247847281367516,
          0.8142661127912598,
          0.7492742748649921,
          2.1535842081309577,
          0.2496270975018242,
          0.5900075827334962,
          -0.41308483998131285,
          1.5719064244629575,
          0.1037462411105567,
          -0.8960475471587651,
          0.7962818323897186,
          0.3147260731773103,
          0.15305000269083455,
          -1.9749800287184807,
          -2.063232019899476,
          -0.6645388553178008,
          -0.14962339946779415,
          1.6312691622075577,
          1.2461029763384932,
          -0.8041765376801094,
          -2.1871789852622974,
          0.7219607898045612,
          0.01872744557244804,
          -0.1439461524730603,
          2.4213984187283892,
          -0.08961306545499886,
          -0.6215347268694917,
          -0.2265992785941594,
          1.069198411020045,
          0.06603541122738674,
          -1.3448905120670303,
          -1.7520691361415135,
          -0.6724343361282331,
          -0.5610261784733895,
          -0.26511817705776947,
          0.5562794123150756,
          1.6327175271675543,
          -0.6833768505379594,
          0.9475790872426847,
          -2.0135558713323998,
          0.4087322652424809,
          -2.271934009320793,
          0.7460695551556408,
          -0.027463522369002753,
          -0.3497615354709517,
          0.7796536119885089,
          -0.6899262772734551,
          -0.5472504462267378,
          -0.42674075242416437,
          -0.5651323415134348,
          -0.18228939978711364,
          -0.13732106559514778,
          -1.43927317417849,
          -1.6036857311604047,
          -0.5407693827715786,
          -0.8616357888597961,
          -0.6900246068662761,
          -0.7460744807669557,
          -1.6171163053306175,
          0.902046099613515,
          -0.9449464079715946,
          -0.1570049430962567,
          0.4951847660216899,
          -2.0379563368903546,
          0.6932629721280178
         ],
         "y": [
          -0.46261447220360236,
          -0.791047372871296,
          0.5418559261345138,
          0.2668859142862276,
          -0.18468980551825998,
          -0.7459316222073529,
          -1.2018819350771943,
          1.2639618415625153,
          -0.8520764958511973,
          0.07986402478633525,
          0.4668029955573966,
          -0.1177338273773469,
          0.8732631863122309,
          -0.3565876529933062,
          0.5623818213294249,
          0.8198668108761308,
          2.022731183254802,
          -0.9568765632456528,
          -0.38374970780801604,
          -0.1708871427454367,
          0.18168572225530136,
          -0.1905780450285549,
          -0.32612158216601567,
          -0.13895813113206595,
          -0.2418675333175781,
          -0.41110969735003267,
          -1.114230201623011,
          -0.8622196675085945,
          0.08903683166058758,
          0.12969334729628124,
          0.24761932507958725,
          -0.0001610999257149029,
          -0.09184586568824617,
          0.9419680126764056,
          0.3726558362436117,
          0.09981198298065946,
          -0.06838285171797791,
          -0.24077541469209793,
          0.7731125936028886,
          -3.2232409808828524,
          -0.3697944808883046,
          0.6784506185379208,
          2.7507243616081722,
          -0.9950713306154855,
          1.2653850950456123,
          -1.856010629832242,
          -0.08644240665669528,
          0.8781007704890135,
          -0.06502311602928444,
          -0.36938268090524734,
          0.03291095119914805,
          -0.4090355703464742,
          -0.25102014273436357,
          1.5840778536593239,
          -1.3402956780230635,
          -0.19391746110712615,
          -0.7354369348049198,
          -0.8484390574464394,
          0.5039447477960337,
          -1.4402381290989748,
          -1.134486317696811,
          0.5305713195160849,
          -0.3352554585219817,
          -0.2682985959891376,
          0.31567579386057193,
          0.47381704568405725,
          1.8891500081613526,
          0.11944964690036959,
          0.13681468031662902,
          -0.9413075308836625,
          0.17295992748678057,
          0.14617368534621905,
          -1.664461112389103,
          -0.7187472475419009,
          -0.12348921993332417,
          0.7413835048330212,
          0.6250666013551777,
          0.5966396831499718,
          0.42923746343195723,
          -0.8028685627420207,
          1.1044828740813615,
          -0.3271088399695305,
          0.5369556379693118,
          -0.7267461002707797,
          -0.6610862550190166,
          0.14110053123938704,
          0.7707924984545371,
          -1.1350609343260762,
          0.5287989209358023,
          -0.427028134978249,
          0.5726841651709131,
          0.588388874756771,
          -1.2324133552823289,
          0.10672692490143716,
          0.6208495217666956,
          0.12115958090622742,
          1.6902651177873182,
          -3.168339935035551,
          1.3726100037812896,
          0.5000162842648437
         ]
        }
       ],
       "layout": {
        "legend": {
         "bgcolor": "#F5F6F9",
         "font": {
          "color": "#4D5663"
         }
        },
        "paper_bgcolor": "#F5F6F9",
        "plot_bgcolor": "#F5F6F9",
        "template": {
         "data": {
          "bar": [
           {
            "error_x": {
             "color": "#2a3f5f"
            },
            "error_y": {
             "color": "#2a3f5f"
            },
            "marker": {
             "line": {
              "color": "#E5ECF6",
              "width": 0.5
             },
             "pattern": {
              "fillmode": "overlay",
              "size": 10,
              "solidity": 0.2
             }
            },
            "type": "bar"
           }
          ],
          "barpolar": [
           {
            "marker": {
             "line": {
              "color": "#E5ECF6",
              "width": 0.5
             },
             "pattern": {
              "fillmode": "overlay",
              "size": 10,
              "solidity": 0.2
             }
            },
            "type": "barpolar"
           }
          ],
          "carpet": [
           {
            "aaxis": {
             "endlinecolor": "#2a3f5f",
             "gridcolor": "white",
             "linecolor": "white",
             "minorgridcolor": "white",
             "startlinecolor": "#2a3f5f"
            },
            "baxis": {
             "endlinecolor": "#2a3f5f",
             "gridcolor": "white",
             "linecolor": "white",
             "minorgridcolor": "white",
             "startlinecolor": "#2a3f5f"
            },
            "type": "carpet"
           }
          ],
          "choropleth": [
           {
            "colorbar": {
             "outlinewidth": 0,
             "ticks": ""
            },
            "type": "choropleth"
           }
          ],
          "contour": [
           {
            "colorbar": {
             "outlinewidth": 0,
             "ticks": ""
            },
            "colorscale": [
             [
              0,
              "#0d0887"
             ],
             [
              0.1111111111111111,
              "#46039f"
             ],
             [
              0.2222222222222222,
              "#7201a8"
             ],
             [
              0.3333333333333333,
              "#9c179e"
             ],
             [
              0.4444444444444444,
              "#bd3786"
             ],
             [
              0.5555555555555556,
              "#d8576b"
             ],
             [
              0.6666666666666666,
              "#ed7953"
             ],
             [
              0.7777777777777778,
              "#fb9f3a"
             ],
             [
              0.8888888888888888,
              "#fdca26"
             ],
             [
              1,
              "#f0f921"
             ]
            ],
            "type": "contour"
           }
          ],
          "contourcarpet": [
           {
            "colorbar": {
             "outlinewidth": 0,
             "ticks": ""
            },
            "type": "contourcarpet"
           }
          ],
          "heatmap": [
           {
            "colorbar": {
             "outlinewidth": 0,
             "ticks": ""
            },
            "colorscale": [
             [
              0,
              "#0d0887"
             ],
             [
              0.1111111111111111,
              "#46039f"
             ],
             [
              0.2222222222222222,
              "#7201a8"
             ],
             [
              0.3333333333333333,
              "#9c179e"
             ],
             [
              0.4444444444444444,
              "#bd3786"
             ],
             [
              0.5555555555555556,
              "#d8576b"
             ],
             [
              0.6666666666666666,
              "#ed7953"
             ],
             [
              0.7777777777777778,
              "#fb9f3a"
             ],
             [
              0.8888888888888888,
              "#fdca26"
             ],
             [
              1,
              "#f0f921"
             ]
            ],
            "type": "heatmap"
           }
          ],
          "heatmapgl": [
           {
            "colorbar": {
             "outlinewidth": 0,
             "ticks": ""
            },
            "colorscale": [
             [
              0,
              "#0d0887"
             ],
             [
              0.1111111111111111,
              "#46039f"
             ],
             [
              0.2222222222222222,
              "#7201a8"
             ],
             [
              0.3333333333333333,
              "#9c179e"
             ],
             [
              0.4444444444444444,
              "#bd3786"
             ],
             [
              0.5555555555555556,
              "#d8576b"
             ],
             [
              0.6666666666666666,
              "#ed7953"
             ],
             [
              0.7777777777777778,
              "#fb9f3a"
             ],
             [
              0.8888888888888888,
              "#fdca26"
             ],
             [
              1,
              "#f0f921"
             ]
            ],
            "type": "heatmapgl"
           }
          ],
          "histogram": [
           {
            "marker": {
             "pattern": {
              "fillmode": "overlay",
              "size": 10,
              "solidity": 0.2
             }
            },
            "type": "histogram"
           }
          ],
          "histogram2d": [
           {
            "colorbar": {
             "outlinewidth": 0,
             "ticks": ""
            },
            "colorscale": [
             [
              0,
              "#0d0887"
             ],
             [
              0.1111111111111111,
              "#46039f"
             ],
             [
              0.2222222222222222,
              "#7201a8"
             ],
             [
              0.3333333333333333,
              "#9c179e"
             ],
             [
              0.4444444444444444,
              "#bd3786"
             ],
             [
              0.5555555555555556,
              "#d8576b"
             ],
             [
              0.6666666666666666,
              "#ed7953"
             ],
             [
              0.7777777777777778,
              "#fb9f3a"
             ],
             [
              0.8888888888888888,
              "#fdca26"
             ],
             [
              1,
              "#f0f921"
             ]
            ],
            "type": "histogram2d"
           }
          ],
          "histogram2dcontour": [
           {
            "colorbar": {
             "outlinewidth": 0,
             "ticks": ""
            },
            "colorscale": [
             [
              0,
              "#0d0887"
             ],
             [
              0.1111111111111111,
              "#46039f"
             ],
             [
              0.2222222222222222,
              "#7201a8"
             ],
             [
              0.3333333333333333,
              "#9c179e"
             ],
             [
              0.4444444444444444,
              "#bd3786"
             ],
             [
              0.5555555555555556,
              "#d8576b"
             ],
             [
              0.6666666666666666,
              "#ed7953"
             ],
             [
              0.7777777777777778,
              "#fb9f3a"
             ],
             [
              0.8888888888888888,
              "#fdca26"
             ],
             [
              1,
              "#f0f921"
             ]
            ],
            "type": "histogram2dcontour"
           }
          ],
          "mesh3d": [
           {
            "colorbar": {
             "outlinewidth": 0,
             "ticks": ""
            },
            "type": "mesh3d"
           }
          ],
          "parcoords": [
           {
            "line": {
             "colorbar": {
              "outlinewidth": 0,
              "ticks": ""
             }
            },
            "type": "parcoords"
           }
          ],
          "pie": [
           {
            "automargin": true,
            "type": "pie"
           }
          ],
          "scatter": [
           {
            "marker": {
             "colorbar": {
              "outlinewidth": 0,
              "ticks": ""
             }
            },
            "type": "scatter"
           }
          ],
          "scatter3d": [
           {
            "line": {
             "colorbar": {
              "outlinewidth": 0,
              "ticks": ""
             }
            },
            "marker": {
             "colorbar": {
              "outlinewidth": 0,
              "ticks": ""
             }
            },
            "type": "scatter3d"
           }
          ],
          "scattercarpet": [
           {
            "marker": {
             "colorbar": {
              "outlinewidth": 0,
              "ticks": ""
             }
            },
            "type": "scattercarpet"
           }
          ],
          "scattergeo": [
           {
            "marker": {
             "colorbar": {
              "outlinewidth": 0,
              "ticks": ""
             }
            },
            "type": "scattergeo"
           }
          ],
          "scattergl": [
           {
            "marker": {
             "colorbar": {
              "outlinewidth": 0,
              "ticks": ""
             }
            },
            "type": "scattergl"
           }
          ],
          "scattermapbox": [
           {
            "marker": {
             "colorbar": {
              "outlinewidth": 0,
              "ticks": ""
             }
            },
            "type": "scattermapbox"
           }
          ],
          "scatterpolar": [
           {
            "marker": {
             "colorbar": {
              "outlinewidth": 0,
              "ticks": ""
             }
            },
            "type": "scatterpolar"
           }
          ],
          "scatterpolargl": [
           {
            "marker": {
             "colorbar": {
              "outlinewidth": 0,
              "ticks": ""
             }
            },
            "type": "scatterpolargl"
           }
          ],
          "scatterternary": [
           {
            "marker": {
             "colorbar": {
              "outlinewidth": 0,
              "ticks": ""
             }
            },
            "type": "scatterternary"
           }
          ],
          "surface": [
           {
            "colorbar": {
             "outlinewidth": 0,
             "ticks": ""
            },
            "colorscale": [
             [
              0,
              "#0d0887"
             ],
             [
              0.1111111111111111,
              "#46039f"
             ],
             [
              0.2222222222222222,
              "#7201a8"
             ],
             [
              0.3333333333333333,
              "#9c179e"
             ],
             [
              0.4444444444444444,
              "#bd3786"
             ],
             [
              0.5555555555555556,
              "#d8576b"
             ],
             [
              0.6666666666666666,
              "#ed7953"
             ],
             [
              0.7777777777777778,
              "#fb9f3a"
             ],
             [
              0.8888888888888888,
              "#fdca26"
             ],
             [
              1,
              "#f0f921"
             ]
            ],
            "type": "surface"
           }
          ],
          "table": [
           {
            "cells": {
             "fill": {
              "color": "#EBF0F8"
             },
             "line": {
              "color": "white"
             }
            },
            "header": {
             "fill": {
              "color": "#C8D4E3"
             },
             "line": {
              "color": "white"
             }
            },
            "type": "table"
           }
          ]
         },
         "layout": {
          "annotationdefaults": {
           "arrowcolor": "#2a3f5f",
           "arrowhead": 0,
           "arrowwidth": 1
          },
          "autotypenumbers": "strict",
          "coloraxis": {
           "colorbar": {
            "outlinewidth": 0,
            "ticks": ""
           }
          },
          "colorscale": {
           "diverging": [
            [
             0,
             "#8e0152"
            ],
            [
             0.1,
             "#c51b7d"
            ],
            [
             0.2,
             "#de77ae"
            ],
            [
             0.3,
             "#f1b6da"
            ],
            [
             0.4,
             "#fde0ef"
            ],
            [
             0.5,
             "#f7f7f7"
            ],
            [
             0.6,
             "#e6f5d0"
            ],
            [
             0.7,
             "#b8e186"
            ],
            [
             0.8,
             "#7fbc41"
            ],
            [
             0.9,
             "#4d9221"
            ],
            [
             1,
             "#276419"
            ]
           ],
           "sequential": [
            [
             0,
             "#0d0887"
            ],
            [
             0.1111111111111111,
             "#46039f"
            ],
            [
             0.2222222222222222,
             "#7201a8"
            ],
            [
             0.3333333333333333,
             "#9c179e"
            ],
            [
             0.4444444444444444,
             "#bd3786"
            ],
            [
             0.5555555555555556,
             "#d8576b"
            ],
            [
             0.6666666666666666,
             "#ed7953"
            ],
            [
             0.7777777777777778,
             "#fb9f3a"
            ],
            [
             0.8888888888888888,
             "#fdca26"
            ],
            [
             1,
             "#f0f921"
            ]
           ],
           "sequentialminus": [
            [
             0,
             "#0d0887"
            ],
            [
             0.1111111111111111,
             "#46039f"
            ],
            [
             0.2222222222222222,
             "#7201a8"
            ],
            [
             0.3333333333333333,
             "#9c179e"
            ],
            [
             0.4444444444444444,
             "#bd3786"
            ],
            [
             0.5555555555555556,
             "#d8576b"
            ],
            [
             0.6666666666666666,
             "#ed7953"
            ],
            [
             0.7777777777777778,
             "#fb9f3a"
            ],
            [
             0.8888888888888888,
             "#fdca26"
            ],
            [
             1,
             "#f0f921"
            ]
           ]
          },
          "colorway": [
           "#636efa",
           "#EF553B",
           "#00cc96",
           "#ab63fa",
           "#FFA15A",
           "#19d3f3",
           "#FF6692",
           "#B6E880",
           "#FF97FF",
           "#FECB52"
          ],
          "font": {
           "color": "#2a3f5f"
          },
          "geo": {
           "bgcolor": "white",
           "lakecolor": "white",
           "landcolor": "#E5ECF6",
           "showlakes": true,
           "showland": true,
           "subunitcolor": "white"
          },
          "hoverlabel": {
           "align": "left"
          },
          "hovermode": "closest",
          "mapbox": {
           "style": "light"
          },
          "paper_bgcolor": "white",
          "plot_bgcolor": "#E5ECF6",
          "polar": {
           "angularaxis": {
            "gridcolor": "white",
            "linecolor": "white",
            "ticks": ""
           },
           "bgcolor": "#E5ECF6",
           "radialaxis": {
            "gridcolor": "white",
            "linecolor": "white",
            "ticks": ""
           }
          },
          "scene": {
           "xaxis": {
            "backgroundcolor": "#E5ECF6",
            "gridcolor": "white",
            "gridwidth": 2,
            "linecolor": "white",
            "showbackground": true,
            "ticks": "",
            "zerolinecolor": "white"
           },
           "yaxis": {
            "backgroundcolor": "#E5ECF6",
            "gridcolor": "white",
            "gridwidth": 2,
            "linecolor": "white",
            "showbackground": true,
            "ticks": "",
            "zerolinecolor": "white"
           },
           "zaxis": {
            "backgroundcolor": "#E5ECF6",
            "gridcolor": "white",
            "gridwidth": 2,
            "linecolor": "white",
            "showbackground": true,
            "ticks": "",
            "zerolinecolor": "white"
           }
          },
          "shapedefaults": {
           "line": {
            "color": "#2a3f5f"
           }
          },
          "ternary": {
           "aaxis": {
            "gridcolor": "white",
            "linecolor": "white",
            "ticks": ""
           },
           "baxis": {
            "gridcolor": "white",
            "linecolor": "white",
            "ticks": ""
           },
           "bgcolor": "#E5ECF6",
           "caxis": {
            "gridcolor": "white",
            "linecolor": "white",
            "ticks": ""
           }
          },
          "title": {
           "x": 0.05
          },
          "xaxis": {
           "automargin": true,
           "gridcolor": "white",
           "linecolor": "white",
           "ticks": "",
           "title": {
            "standoff": 15
           },
           "zerolinecolor": "white",
           "zerolinewidth": 2
          },
          "yaxis": {
           "automargin": true,
           "gridcolor": "white",
           "linecolor": "white",
           "ticks": "",
           "title": {
            "standoff": 15
           },
           "zerolinecolor": "white",
           "zerolinewidth": 2
          }
         }
        },
        "title": {
         "font": {
          "color": "#4D5663"
         }
        },
        "xaxis": {
         "gridcolor": "#E1E5ED",
         "showgrid": true,
         "tickfont": {
          "color": "#4D5663"
         },
         "title": {
          "font": {
           "color": "#4D5663"
          },
          "text": ""
         },
         "zerolinecolor": "#E1E5ED"
        },
        "yaxis": {
         "gridcolor": "#E1E5ED",
         "showgrid": true,
         "tickfont": {
          "color": "#4D5663"
         },
         "title": {
          "font": {
           "color": "#4D5663"
          },
          "text": ""
         },
         "zerolinecolor": "#E1E5ED"
        }
       }
      },
      "text/html": [
       "<div>                            <div id=\"636b05ee-ac98-4977-b782-2cfeed70c98e\" class=\"plotly-graph-div\" style=\"height:525px; width:100%;\"></div>            <script type=\"text/javascript\">                require([\"plotly\"], function(Plotly) {                    window.PLOTLYENV=window.PLOTLYENV || {};\n",
       "                    window.PLOTLYENV.BASE_URL='https://plot.ly';                                    if (document.getElementById(\"636b05ee-ac98-4977-b782-2cfeed70c98e\")) {                    Plotly.newPlot(                        \"636b05ee-ac98-4977-b782-2cfeed70c98e\",                        [{\"line\":{\"color\":\"rgba(255, 153, 51, 1.0)\",\"dash\":\"solid\",\"shape\":\"linear\",\"width\":1.3},\"mode\":\"lines\",\"name\":\"B\",\"text\":\"\",\"x\":[2.2945374253810935,-0.3093515604936077,1.4099818913712976,-2.196110293064084,-0.9730355871574337,0.6758996210512747,0.4490972173206316,-1.0515484423751666,0.2732234960957011,-1.5365090220836957,-1.6932572343471597,-1.0041336307584219,-0.26154246040228496,-0.8384473511086155,-0.27098570978012626,-0.24699533055737363,0.4359728744399814,0.45075215892922,-0.40682478585358206,-0.8694947997937347,-0.9962250815297425,-0.7546498354280269,-1.2193985044232207,-0.6484550336304917,-0.6478660074910817,1.3075875114988116,0.6479749347733862,1.365413425889694,-1.3786785459827833,1.0674063097355568,-0.03425474497266747,-0.6367091109705111,-0.12380013677571215,1.123214340690999,-1.375557573075988,0.028247847281367516,0.8142661127912598,0.7492742748649921,2.1535842081309577,0.2496270975018242,0.5900075827334962,-0.41308483998131285,1.5719064244629575,0.1037462411105567,-0.8960475471587651,0.7962818323897186,0.3147260731773103,0.15305000269083455,-1.9749800287184807,-2.063232019899476,-0.6645388553178008,-0.14962339946779415,1.6312691622075577,1.2461029763384932,-0.8041765376801094,-2.1871789852622974,0.7219607898045612,0.01872744557244804,-0.1439461524730603,2.4213984187283892,-0.08961306545499886,-0.6215347268694917,-0.2265992785941594,1.069198411020045,0.06603541122738674,-1.3448905120670303,-1.7520691361415135,-0.6724343361282331,-0.5610261784733895,-0.26511817705776947,0.5562794123150756,1.6327175271675543,-0.6833768505379594,0.9475790872426847,-2.0135558713323998,0.4087322652424809,-2.271934009320793,0.7460695551556408,-0.027463522369002753,-0.3497615354709517,0.7796536119885089,-0.6899262772734551,-0.5472504462267378,-0.42674075242416437,-0.5651323415134348,-0.18228939978711364,-0.13732106559514778,-1.43927317417849,-1.6036857311604047,-0.5407693827715786,-0.8616357888597961,-0.6900246068662761,-0.7460744807669557,-1.6171163053306175,0.902046099613515,-0.9449464079715946,-0.1570049430962567,0.4951847660216899,-2.0379563368903546,0.6932629721280178],\"y\":[-0.46261447220360236,-0.791047372871296,0.5418559261345138,0.2668859142862276,-0.18468980551825998,-0.7459316222073529,-1.2018819350771943,1.2639618415625153,-0.8520764958511973,0.07986402478633525,0.4668029955573966,-0.1177338273773469,0.8732631863122309,-0.3565876529933062,0.5623818213294249,0.8198668108761308,2.022731183254802,-0.9568765632456528,-0.38374970780801604,-0.1708871427454367,0.18168572225530136,-0.1905780450285549,-0.32612158216601567,-0.13895813113206595,-0.2418675333175781,-0.41110969735003267,-1.114230201623011,-0.8622196675085945,0.08903683166058758,0.12969334729628124,0.24761932507958725,-0.0001610999257149029,-0.09184586568824617,0.9419680126764056,0.3726558362436117,0.09981198298065946,-0.06838285171797791,-0.24077541469209793,0.7731125936028886,-3.2232409808828524,-0.3697944808883046,0.6784506185379208,2.7507243616081722,-0.9950713306154855,1.2653850950456123,-1.856010629832242,-0.08644240665669528,0.8781007704890135,-0.06502311602928444,-0.36938268090524734,0.03291095119914805,-0.4090355703464742,-0.25102014273436357,1.5840778536593239,-1.3402956780230635,-0.19391746110712615,-0.7354369348049198,-0.8484390574464394,0.5039447477960337,-1.4402381290989748,-1.134486317696811,0.5305713195160849,-0.3352554585219817,-0.2682985959891376,0.31567579386057193,0.47381704568405725,1.8891500081613526,0.11944964690036959,0.13681468031662902,-0.9413075308836625,0.17295992748678057,0.14617368534621905,-1.664461112389103,-0.7187472475419009,-0.12348921993332417,0.7413835048330212,0.6250666013551777,0.5966396831499718,0.42923746343195723,-0.8028685627420207,1.1044828740813615,-0.3271088399695305,0.5369556379693118,-0.7267461002707797,-0.6610862550190166,0.14110053123938704,0.7707924984545371,-1.1350609343260762,0.5287989209358023,-0.427028134978249,0.5726841651709131,0.588388874756771,-1.2324133552823289,0.10672692490143716,0.6208495217666956,0.12115958090622742,1.6902651177873182,-3.168339935035551,1.3726100037812896,0.5000162842648437],\"type\":\"scatter\"}],                        {\"legend\":{\"bgcolor\":\"#F5F6F9\",\"font\":{\"color\":\"#4D5663\"}},\"paper_bgcolor\":\"#F5F6F9\",\"plot_bgcolor\":\"#F5F6F9\",\"template\":{\"data\":{\"barpolar\":[{\"marker\":{\"line\":{\"color\":\"#E5ECF6\",\"width\":0.5},\"pattern\":{\"fillmode\":\"overlay\",\"size\":10,\"solidity\":0.2}},\"type\":\"barpolar\"}],\"bar\":[{\"error_x\":{\"color\":\"#2a3f5f\"},\"error_y\":{\"color\":\"#2a3f5f\"},\"marker\":{\"line\":{\"color\":\"#E5ECF6\",\"width\":0.5},\"pattern\":{\"fillmode\":\"overlay\",\"size\":10,\"solidity\":0.2}},\"type\":\"bar\"}],\"carpet\":[{\"aaxis\":{\"endlinecolor\":\"#2a3f5f\",\"gridcolor\":\"white\",\"linecolor\":\"white\",\"minorgridcolor\":\"white\",\"startlinecolor\":\"#2a3f5f\"},\"baxis\":{\"endlinecolor\":\"#2a3f5f\",\"gridcolor\":\"white\",\"linecolor\":\"white\",\"minorgridcolor\":\"white\",\"startlinecolor\":\"#2a3f5f\"},\"type\":\"carpet\"}],\"choropleth\":[{\"colorbar\":{\"outlinewidth\":0,\"ticks\":\"\"},\"type\":\"choropleth\"}],\"contourcarpet\":[{\"colorbar\":{\"outlinewidth\":0,\"ticks\":\"\"},\"type\":\"contourcarpet\"}],\"contour\":[{\"colorbar\":{\"outlinewidth\":0,\"ticks\":\"\"},\"colorscale\":[[0.0,\"#0d0887\"],[0.1111111111111111,\"#46039f\"],[0.2222222222222222,\"#7201a8\"],[0.3333333333333333,\"#9c179e\"],[0.4444444444444444,\"#bd3786\"],[0.5555555555555556,\"#d8576b\"],[0.6666666666666666,\"#ed7953\"],[0.7777777777777778,\"#fb9f3a\"],[0.8888888888888888,\"#fdca26\"],[1.0,\"#f0f921\"]],\"type\":\"contour\"}],\"heatmapgl\":[{\"colorbar\":{\"outlinewidth\":0,\"ticks\":\"\"},\"colorscale\":[[0.0,\"#0d0887\"],[0.1111111111111111,\"#46039f\"],[0.2222222222222222,\"#7201a8\"],[0.3333333333333333,\"#9c179e\"],[0.4444444444444444,\"#bd3786\"],[0.5555555555555556,\"#d8576b\"],[0.6666666666666666,\"#ed7953\"],[0.7777777777777778,\"#fb9f3a\"],[0.8888888888888888,\"#fdca26\"],[1.0,\"#f0f921\"]],\"type\":\"heatmapgl\"}],\"heatmap\":[{\"colorbar\":{\"outlinewidth\":0,\"ticks\":\"\"},\"colorscale\":[[0.0,\"#0d0887\"],[0.1111111111111111,\"#46039f\"],[0.2222222222222222,\"#7201a8\"],[0.3333333333333333,\"#9c179e\"],[0.4444444444444444,\"#bd3786\"],[0.5555555555555556,\"#d8576b\"],[0.6666666666666666,\"#ed7953\"],[0.7777777777777778,\"#fb9f3a\"],[0.8888888888888888,\"#fdca26\"],[1.0,\"#f0f921\"]],\"type\":\"heatmap\"}],\"histogram2dcontour\":[{\"colorbar\":{\"outlinewidth\":0,\"ticks\":\"\"},\"colorscale\":[[0.0,\"#0d0887\"],[0.1111111111111111,\"#46039f\"],[0.2222222222222222,\"#7201a8\"],[0.3333333333333333,\"#9c179e\"],[0.4444444444444444,\"#bd3786\"],[0.5555555555555556,\"#d8576b\"],[0.6666666666666666,\"#ed7953\"],[0.7777777777777778,\"#fb9f3a\"],[0.8888888888888888,\"#fdca26\"],[1.0,\"#f0f921\"]],\"type\":\"histogram2dcontour\"}],\"histogram2d\":[{\"colorbar\":{\"outlinewidth\":0,\"ticks\":\"\"},\"colorscale\":[[0.0,\"#0d0887\"],[0.1111111111111111,\"#46039f\"],[0.2222222222222222,\"#7201a8\"],[0.3333333333333333,\"#9c179e\"],[0.4444444444444444,\"#bd3786\"],[0.5555555555555556,\"#d8576b\"],[0.6666666666666666,\"#ed7953\"],[0.7777777777777778,\"#fb9f3a\"],[0.8888888888888888,\"#fdca26\"],[1.0,\"#f0f921\"]],\"type\":\"histogram2d\"}],\"histogram\":[{\"marker\":{\"pattern\":{\"fillmode\":\"overlay\",\"size\":10,\"solidity\":0.2}},\"type\":\"histogram\"}],\"mesh3d\":[{\"colorbar\":{\"outlinewidth\":0,\"ticks\":\"\"},\"type\":\"mesh3d\"}],\"parcoords\":[{\"line\":{\"colorbar\":{\"outlinewidth\":0,\"ticks\":\"\"}},\"type\":\"parcoords\"}],\"pie\":[{\"automargin\":true,\"type\":\"pie\"}],\"scatter3d\":[{\"line\":{\"colorbar\":{\"outlinewidth\":0,\"ticks\":\"\"}},\"marker\":{\"colorbar\":{\"outlinewidth\":0,\"ticks\":\"\"}},\"type\":\"scatter3d\"}],\"scattercarpet\":[{\"marker\":{\"colorbar\":{\"outlinewidth\":0,\"ticks\":\"\"}},\"type\":\"scattercarpet\"}],\"scattergeo\":[{\"marker\":{\"colorbar\":{\"outlinewidth\":0,\"ticks\":\"\"}},\"type\":\"scattergeo\"}],\"scattergl\":[{\"marker\":{\"colorbar\":{\"outlinewidth\":0,\"ticks\":\"\"}},\"type\":\"scattergl\"}],\"scattermapbox\":[{\"marker\":{\"colorbar\":{\"outlinewidth\":0,\"ticks\":\"\"}},\"type\":\"scattermapbox\"}],\"scatterpolargl\":[{\"marker\":{\"colorbar\":{\"outlinewidth\":0,\"ticks\":\"\"}},\"type\":\"scatterpolargl\"}],\"scatterpolar\":[{\"marker\":{\"colorbar\":{\"outlinewidth\":0,\"ticks\":\"\"}},\"type\":\"scatterpolar\"}],\"scatter\":[{\"marker\":{\"colorbar\":{\"outlinewidth\":0,\"ticks\":\"\"}},\"type\":\"scatter\"}],\"scatterternary\":[{\"marker\":{\"colorbar\":{\"outlinewidth\":0,\"ticks\":\"\"}},\"type\":\"scatterternary\"}],\"surface\":[{\"colorbar\":{\"outlinewidth\":0,\"ticks\":\"\"},\"colorscale\":[[0.0,\"#0d0887\"],[0.1111111111111111,\"#46039f\"],[0.2222222222222222,\"#7201a8\"],[0.3333333333333333,\"#9c179e\"],[0.4444444444444444,\"#bd3786\"],[0.5555555555555556,\"#d8576b\"],[0.6666666666666666,\"#ed7953\"],[0.7777777777777778,\"#fb9f3a\"],[0.8888888888888888,\"#fdca26\"],[1.0,\"#f0f921\"]],\"type\":\"surface\"}],\"table\":[{\"cells\":{\"fill\":{\"color\":\"#EBF0F8\"},\"line\":{\"color\":\"white\"}},\"header\":{\"fill\":{\"color\":\"#C8D4E3\"},\"line\":{\"color\":\"white\"}},\"type\":\"table\"}]},\"layout\":{\"annotationdefaults\":{\"arrowcolor\":\"#2a3f5f\",\"arrowhead\":0,\"arrowwidth\":1},\"autotypenumbers\":\"strict\",\"coloraxis\":{\"colorbar\":{\"outlinewidth\":0,\"ticks\":\"\"}},\"colorscale\":{\"diverging\":[[0,\"#8e0152\"],[0.1,\"#c51b7d\"],[0.2,\"#de77ae\"],[0.3,\"#f1b6da\"],[0.4,\"#fde0ef\"],[0.5,\"#f7f7f7\"],[0.6,\"#e6f5d0\"],[0.7,\"#b8e186\"],[0.8,\"#7fbc41\"],[0.9,\"#4d9221\"],[1,\"#276419\"]],\"sequential\":[[0.0,\"#0d0887\"],[0.1111111111111111,\"#46039f\"],[0.2222222222222222,\"#7201a8\"],[0.3333333333333333,\"#9c179e\"],[0.4444444444444444,\"#bd3786\"],[0.5555555555555556,\"#d8576b\"],[0.6666666666666666,\"#ed7953\"],[0.7777777777777778,\"#fb9f3a\"],[0.8888888888888888,\"#fdca26\"],[1.0,\"#f0f921\"]],\"sequentialminus\":[[0.0,\"#0d0887\"],[0.1111111111111111,\"#46039f\"],[0.2222222222222222,\"#7201a8\"],[0.3333333333333333,\"#9c179e\"],[0.4444444444444444,\"#bd3786\"],[0.5555555555555556,\"#d8576b\"],[0.6666666666666666,\"#ed7953\"],[0.7777777777777778,\"#fb9f3a\"],[0.8888888888888888,\"#fdca26\"],[1.0,\"#f0f921\"]]},\"colorway\":[\"#636efa\",\"#EF553B\",\"#00cc96\",\"#ab63fa\",\"#FFA15A\",\"#19d3f3\",\"#FF6692\",\"#B6E880\",\"#FF97FF\",\"#FECB52\"],\"font\":{\"color\":\"#2a3f5f\"},\"geo\":{\"bgcolor\":\"white\",\"lakecolor\":\"white\",\"landcolor\":\"#E5ECF6\",\"showlakes\":true,\"showland\":true,\"subunitcolor\":\"white\"},\"hoverlabel\":{\"align\":\"left\"},\"hovermode\":\"closest\",\"mapbox\":{\"style\":\"light\"},\"paper_bgcolor\":\"white\",\"plot_bgcolor\":\"#E5ECF6\",\"polar\":{\"angularaxis\":{\"gridcolor\":\"white\",\"linecolor\":\"white\",\"ticks\":\"\"},\"bgcolor\":\"#E5ECF6\",\"radialaxis\":{\"gridcolor\":\"white\",\"linecolor\":\"white\",\"ticks\":\"\"}},\"scene\":{\"xaxis\":{\"backgroundcolor\":\"#E5ECF6\",\"gridcolor\":\"white\",\"gridwidth\":2,\"linecolor\":\"white\",\"showbackground\":true,\"ticks\":\"\",\"zerolinecolor\":\"white\"},\"yaxis\":{\"backgroundcolor\":\"#E5ECF6\",\"gridcolor\":\"white\",\"gridwidth\":2,\"linecolor\":\"white\",\"showbackground\":true,\"ticks\":\"\",\"zerolinecolor\":\"white\"},\"zaxis\":{\"backgroundcolor\":\"#E5ECF6\",\"gridcolor\":\"white\",\"gridwidth\":2,\"linecolor\":\"white\",\"showbackground\":true,\"ticks\":\"\",\"zerolinecolor\":\"white\"}},\"shapedefaults\":{\"line\":{\"color\":\"#2a3f5f\"}},\"ternary\":{\"aaxis\":{\"gridcolor\":\"white\",\"linecolor\":\"white\",\"ticks\":\"\"},\"baxis\":{\"gridcolor\":\"white\",\"linecolor\":\"white\",\"ticks\":\"\"},\"bgcolor\":\"#E5ECF6\",\"caxis\":{\"gridcolor\":\"white\",\"linecolor\":\"white\",\"ticks\":\"\"}},\"title\":{\"x\":0.05},\"xaxis\":{\"automargin\":true,\"gridcolor\":\"white\",\"linecolor\":\"white\",\"ticks\":\"\",\"title\":{\"standoff\":15},\"zerolinecolor\":\"white\",\"zerolinewidth\":2},\"yaxis\":{\"automargin\":true,\"gridcolor\":\"white\",\"linecolor\":\"white\",\"ticks\":\"\",\"title\":{\"standoff\":15},\"zerolinecolor\":\"white\",\"zerolinewidth\":2}}},\"title\":{\"font\":{\"color\":\"#4D5663\"}},\"xaxis\":{\"gridcolor\":\"#E1E5ED\",\"showgrid\":true,\"tickfont\":{\"color\":\"#4D5663\"},\"title\":{\"font\":{\"color\":\"#4D5663\"},\"text\":\"\"},\"zerolinecolor\":\"#E1E5ED\"},\"yaxis\":{\"gridcolor\":\"#E1E5ED\",\"showgrid\":true,\"tickfont\":{\"color\":\"#4D5663\"},\"title\":{\"font\":{\"color\":\"#4D5663\"},\"text\":\"\"},\"zerolinecolor\":\"#E1E5ED\"}},                        {\"showLink\": true, \"linkText\": \"Export to plot.ly\", \"plotlyServerURL\": \"https://plot.ly\", \"responsive\": true}                    ).then(function(){\n",
       "                            \n",
       "var gd = document.getElementById('636b05ee-ac98-4977-b782-2cfeed70c98e');\n",
       "var x = new MutationObserver(function (mutations, observer) {{\n",
       "        var display = window.getComputedStyle(gd).display;\n",
       "        if (!display || display === 'none') {{\n",
       "            console.log([gd, 'removed!']);\n",
       "            Plotly.purge(gd);\n",
       "            observer.disconnect();\n",
       "        }}\n",
       "}});\n",
       "\n",
       "// Listen for the removal of the full notebook cells\n",
       "var notebookContainer = gd.closest('#notebook-container');\n",
       "if (notebookContainer) {{\n",
       "    x.observe(notebookContainer, {childList: true});\n",
       "}}\n",
       "\n",
       "// Listen for the clearing of the current output cell\n",
       "var outputEl = gd.closest('.output');\n",
       "if (outputEl) {{\n",
       "    x.observe(outputEl, {childList: true});\n",
       "}}\n",
       "\n",
       "                        })                };                });            </script>        </div>"
      ]
     },
     "metadata": {},
     "output_type": "display_data"
    }
   ],
   "source": [
    "df.iplot(kind=\"scatter\",x=\"A\",y=\"B\")"
   ]
  },
  {
   "cell_type": "code",
   "execution_count": 17,
   "id": "21e9549f",
   "metadata": {},
   "outputs": [
    {
     "data": {
      "application/vnd.plotly.v1+json": {
       "config": {
        "linkText": "Export to plot.ly",
        "plotlyServerURL": "https://plot.ly",
        "showLink": true
       },
       "data": [
        {
         "line": {
          "color": "rgba(255, 153, 51, 1.0)",
          "dash": "solid",
          "shape": "linear",
          "width": 1.3
         },
         "marker": {
          "size": 12,
          "symbol": "circle"
         },
         "mode": "markers",
         "name": "B",
         "text": "",
         "type": "scatter",
         "x": [
          -0.9295482987691611,
          0.4996509360917784,
          -0.31178784381970565,
          -0.2591828995133058,
          -0.2403254599818755,
          0.30007424500314445,
          -1.9519399516746074,
          0.36101710108782775,
          1.1405599367929218,
          -1.0796063330029473,
          0.5190388920390553,
          1.5295361900831612,
          2.2008109795602016,
          0.8296048530293078,
          -0.21937304858767648,
          -0.9074792394033,
          -0.2871592266959784,
          -0.05545890921396091,
          -0.4966932594692695,
          -0.2128516157570282,
          1.124592371454574,
          0.6228995695801925,
          0.9256230617994263,
          -1.768887800317044,
          -0.2874149202115096,
          -0.7825545526319378,
          -2.64432200458736,
          0.7457461109123886,
          -1.1428281744977538,
          1.2210663863390592,
          -0.9131644958788138,
          0.13217834318366903,
          0.6381113620115724,
          1.4342735786591516,
          -0.5436898268763243,
          0.7137862193664714,
          0.5120364676493256,
          -2.0607142312389986,
          0.07250257019407771,
          -0.6579877485369979,
          -1.1492108033028867,
          -2.2536437617141516,
          1.0563020796557212,
          -1.0720178624058692,
          -1.1189016921464603,
          -0.29284164619717207,
          -0.20830520279926823,
          1.0822730128583236,
          1.0213249027809796,
          1.2876384897836826,
          1.8125915692022887,
          -0.3517345744446924,
          0.45361035245361936,
          -0.7548380530713608,
          0.4509916465215894,
          0.010825510343471153,
          1.1954626376691377,
          1.7044799601908844,
          -0.2512587274155817,
          -0.007463326957457436,
          1.5214107591436405,
          0.34186384567971756,
          -0.34838956178384545,
          -0.02149537492129532,
          -0.2557559357224352,
          1.8115002849071817,
          0.8989054113028747,
          -0.8478793667167331,
          -0.4388345973955879,
          0.5897765192462224,
          0.9169989960247112,
          -0.29584764364758287,
          0.40964963403229865,
          -0.2765551854394092,
          0.7309271904230744,
          -0.05169151931672703,
          -0.6487263477835327,
          -0.15937602857333696,
          -0.669650111705374,
          1.6529366895888808,
          0.2725091941094338,
          -0.84418871539521,
          -1.0214046898022509,
          -0.5985785583610419,
          0.9281497551503964,
          -1.4386926646965128,
          1.6413444776995776,
          -2.2123830364218984,
          0.7903787489224429,
          -1.0744732634516792,
          0.745393189760668,
          0.4996178124858752,
          -0.46560119110781123,
          0.15969763101542492,
          0.142503896532929,
          1.3709466265440287,
          0.9711336472637876,
          -0.38754055633141615,
          -1.1752089873333424,
          0.27340068072325535
         ],
         "y": [
          0.10595209962862051,
          0.3368667122382836,
          -0.32861230975248373,
          -0.11664858440555267,
          -0.10862895251019854,
          0.14676101096132724,
          1.6550509248816598,
          0.3116991407512059,
          -1.5333273766171769,
          0.67351956523506,
          -0.23293658066056874,
          0.5298539546678004,
          1.2706339922049268,
          1.4485075051766172,
          0.6779059423904159,
          -0.7164141937146591,
          0.8245757552822287,
          2.4213154151349485,
          -0.6875266309878802,
          -0.19741347908494278,
          0.6573721821252815,
          0.2773927166267599,
          0.18443657890013604,
          0.20841105872778784,
          1.014443830916647,
          -0.6614530154293072,
          0.7795405780388421,
          1.1763647687901904,
          -1.426400518831791,
          -0.8862199762393453,
          -0.5432851756689908,
          0.5612441198207622,
          0.14759371236534652,
          -1.569694238419562,
          2.2741377167085077,
          -1.3286017158605619,
          -0.6547759337607292,
          0.5409293803814273,
          -1.7140672889540483,
          -0.838762524216867,
          2.052568027382253,
          1.2479484516423567,
          -0.5050471421968736,
          1.3906132917773977,
          0.9304278500231088,
          -0.5005788549389664,
          1.0139570932698092,
          1.4099756691177323,
          -0.7284825751458816,
          0.47323279459070394,
          -0.8126917762346638,
          0.6377954621777114,
          -0.3174047711249694,
          -1.7756135983404886,
          -0.2363797892406345,
          -0.7970716486495877,
          -0.3332925771997845,
          0.3137937224354294,
          -0.612749019434206,
          -0.07558111642014288,
          -0.9898859959734786,
          -0.45302566262413996,
          -0.542805561663329,
          -1.2844203082105614,
          -0.11354301196306125,
          -2.546874494300865,
          0.9872274735141424,
          -2.4060412325529983,
          0.7406303040060868,
          1.3494134213350881,
          -0.08353953585239972,
          -0.8649105520646212,
          0.5482770228978523,
          0.3018624903593867,
          -1.2696542402185156,
          -0.503774941664004,
          -0.4457561076351454,
          0.34242334816657516,
          -0.11692153010067262,
          -0.7692072862521319,
          -0.3210876224228783,
          -1.3428735501149156,
          0.08140321965759581,
          1.4726724276119887,
          -1.6872778504307941,
          0.7379616404172885,
          0.7541415956944442,
          0.6119192924558464,
          -0.6805248104558588,
          -0.011614579413123783,
          -0.9751368919345605,
          0.1766886661379514,
          -0.4773258381639982,
          -1.7259606922075275,
          -0.09290092035809304,
          -0.34934252493462165,
          -0.5455826577301464,
          1.223290635135926,
          -1.332442683803005,
          -0.4849294268598528
         ]
        }
       ],
       "layout": {
        "legend": {
         "bgcolor": "#F5F6F9",
         "font": {
          "color": "#4D5663"
         }
        },
        "paper_bgcolor": "#F5F6F9",
        "plot_bgcolor": "#F5F6F9",
        "template": {
         "data": {
          "bar": [
           {
            "error_x": {
             "color": "#2a3f5f"
            },
            "error_y": {
             "color": "#2a3f5f"
            },
            "marker": {
             "line": {
              "color": "#E5ECF6",
              "width": 0.5
             },
             "pattern": {
              "fillmode": "overlay",
              "size": 10,
              "solidity": 0.2
             }
            },
            "type": "bar"
           }
          ],
          "barpolar": [
           {
            "marker": {
             "line": {
              "color": "#E5ECF6",
              "width": 0.5
             },
             "pattern": {
              "fillmode": "overlay",
              "size": 10,
              "solidity": 0.2
             }
            },
            "type": "barpolar"
           }
          ],
          "carpet": [
           {
            "aaxis": {
             "endlinecolor": "#2a3f5f",
             "gridcolor": "white",
             "linecolor": "white",
             "minorgridcolor": "white",
             "startlinecolor": "#2a3f5f"
            },
            "baxis": {
             "endlinecolor": "#2a3f5f",
             "gridcolor": "white",
             "linecolor": "white",
             "minorgridcolor": "white",
             "startlinecolor": "#2a3f5f"
            },
            "type": "carpet"
           }
          ],
          "choropleth": [
           {
            "colorbar": {
             "outlinewidth": 0,
             "ticks": ""
            },
            "type": "choropleth"
           }
          ],
          "contour": [
           {
            "colorbar": {
             "outlinewidth": 0,
             "ticks": ""
            },
            "colorscale": [
             [
              0,
              "#0d0887"
             ],
             [
              0.1111111111111111,
              "#46039f"
             ],
             [
              0.2222222222222222,
              "#7201a8"
             ],
             [
              0.3333333333333333,
              "#9c179e"
             ],
             [
              0.4444444444444444,
              "#bd3786"
             ],
             [
              0.5555555555555556,
              "#d8576b"
             ],
             [
              0.6666666666666666,
              "#ed7953"
             ],
             [
              0.7777777777777778,
              "#fb9f3a"
             ],
             [
              0.8888888888888888,
              "#fdca26"
             ],
             [
              1,
              "#f0f921"
             ]
            ],
            "type": "contour"
           }
          ],
          "contourcarpet": [
           {
            "colorbar": {
             "outlinewidth": 0,
             "ticks": ""
            },
            "type": "contourcarpet"
           }
          ],
          "heatmap": [
           {
            "colorbar": {
             "outlinewidth": 0,
             "ticks": ""
            },
            "colorscale": [
             [
              0,
              "#0d0887"
             ],
             [
              0.1111111111111111,
              "#46039f"
             ],
             [
              0.2222222222222222,
              "#7201a8"
             ],
             [
              0.3333333333333333,
              "#9c179e"
             ],
             [
              0.4444444444444444,
              "#bd3786"
             ],
             [
              0.5555555555555556,
              "#d8576b"
             ],
             [
              0.6666666666666666,
              "#ed7953"
             ],
             [
              0.7777777777777778,
              "#fb9f3a"
             ],
             [
              0.8888888888888888,
              "#fdca26"
             ],
             [
              1,
              "#f0f921"
             ]
            ],
            "type": "heatmap"
           }
          ],
          "heatmapgl": [
           {
            "colorbar": {
             "outlinewidth": 0,
             "ticks": ""
            },
            "colorscale": [
             [
              0,
              "#0d0887"
             ],
             [
              0.1111111111111111,
              "#46039f"
             ],
             [
              0.2222222222222222,
              "#7201a8"
             ],
             [
              0.3333333333333333,
              "#9c179e"
             ],
             [
              0.4444444444444444,
              "#bd3786"
             ],
             [
              0.5555555555555556,
              "#d8576b"
             ],
             [
              0.6666666666666666,
              "#ed7953"
             ],
             [
              0.7777777777777778,
              "#fb9f3a"
             ],
             [
              0.8888888888888888,
              "#fdca26"
             ],
             [
              1,
              "#f0f921"
             ]
            ],
            "type": "heatmapgl"
           }
          ],
          "histogram": [
           {
            "marker": {
             "pattern": {
              "fillmode": "overlay",
              "size": 10,
              "solidity": 0.2
             }
            },
            "type": "histogram"
           }
          ],
          "histogram2d": [
           {
            "colorbar": {
             "outlinewidth": 0,
             "ticks": ""
            },
            "colorscale": [
             [
              0,
              "#0d0887"
             ],
             [
              0.1111111111111111,
              "#46039f"
             ],
             [
              0.2222222222222222,
              "#7201a8"
             ],
             [
              0.3333333333333333,
              "#9c179e"
             ],
             [
              0.4444444444444444,
              "#bd3786"
             ],
             [
              0.5555555555555556,
              "#d8576b"
             ],
             [
              0.6666666666666666,
              "#ed7953"
             ],
             [
              0.7777777777777778,
              "#fb9f3a"
             ],
             [
              0.8888888888888888,
              "#fdca26"
             ],
             [
              1,
              "#f0f921"
             ]
            ],
            "type": "histogram2d"
           }
          ],
          "histogram2dcontour": [
           {
            "colorbar": {
             "outlinewidth": 0,
             "ticks": ""
            },
            "colorscale": [
             [
              0,
              "#0d0887"
             ],
             [
              0.1111111111111111,
              "#46039f"
             ],
             [
              0.2222222222222222,
              "#7201a8"
             ],
             [
              0.3333333333333333,
              "#9c179e"
             ],
             [
              0.4444444444444444,
              "#bd3786"
             ],
             [
              0.5555555555555556,
              "#d8576b"
             ],
             [
              0.6666666666666666,
              "#ed7953"
             ],
             [
              0.7777777777777778,
              "#fb9f3a"
             ],
             [
              0.8888888888888888,
              "#fdca26"
             ],
             [
              1,
              "#f0f921"
             ]
            ],
            "type": "histogram2dcontour"
           }
          ],
          "mesh3d": [
           {
            "colorbar": {
             "outlinewidth": 0,
             "ticks": ""
            },
            "type": "mesh3d"
           }
          ],
          "parcoords": [
           {
            "line": {
             "colorbar": {
              "outlinewidth": 0,
              "ticks": ""
             }
            },
            "type": "parcoords"
           }
          ],
          "pie": [
           {
            "automargin": true,
            "type": "pie"
           }
          ],
          "scatter": [
           {
            "fillpattern": {
             "fillmode": "overlay",
             "size": 10,
             "solidity": 0.2
            },
            "type": "scatter"
           }
          ],
          "scatter3d": [
           {
            "line": {
             "colorbar": {
              "outlinewidth": 0,
              "ticks": ""
             }
            },
            "marker": {
             "colorbar": {
              "outlinewidth": 0,
              "ticks": ""
             }
            },
            "type": "scatter3d"
           }
          ],
          "scattercarpet": [
           {
            "marker": {
             "colorbar": {
              "outlinewidth": 0,
              "ticks": ""
             }
            },
            "type": "scattercarpet"
           }
          ],
          "scattergeo": [
           {
            "marker": {
             "colorbar": {
              "outlinewidth": 0,
              "ticks": ""
             }
            },
            "type": "scattergeo"
           }
          ],
          "scattergl": [
           {
            "marker": {
             "colorbar": {
              "outlinewidth": 0,
              "ticks": ""
             }
            },
            "type": "scattergl"
           }
          ],
          "scattermapbox": [
           {
            "marker": {
             "colorbar": {
              "outlinewidth": 0,
              "ticks": ""
             }
            },
            "type": "scattermapbox"
           }
          ],
          "scatterpolar": [
           {
            "marker": {
             "colorbar": {
              "outlinewidth": 0,
              "ticks": ""
             }
            },
            "type": "scatterpolar"
           }
          ],
          "scatterpolargl": [
           {
            "marker": {
             "colorbar": {
              "outlinewidth": 0,
              "ticks": ""
             }
            },
            "type": "scatterpolargl"
           }
          ],
          "scatterternary": [
           {
            "marker": {
             "colorbar": {
              "outlinewidth": 0,
              "ticks": ""
             }
            },
            "type": "scatterternary"
           }
          ],
          "surface": [
           {
            "colorbar": {
             "outlinewidth": 0,
             "ticks": ""
            },
            "colorscale": [
             [
              0,
              "#0d0887"
             ],
             [
              0.1111111111111111,
              "#46039f"
             ],
             [
              0.2222222222222222,
              "#7201a8"
             ],
             [
              0.3333333333333333,
              "#9c179e"
             ],
             [
              0.4444444444444444,
              "#bd3786"
             ],
             [
              0.5555555555555556,
              "#d8576b"
             ],
             [
              0.6666666666666666,
              "#ed7953"
             ],
             [
              0.7777777777777778,
              "#fb9f3a"
             ],
             [
              0.8888888888888888,
              "#fdca26"
             ],
             [
              1,
              "#f0f921"
             ]
            ],
            "type": "surface"
           }
          ],
          "table": [
           {
            "cells": {
             "fill": {
              "color": "#EBF0F8"
             },
             "line": {
              "color": "white"
             }
            },
            "header": {
             "fill": {
              "color": "#C8D4E3"
             },
             "line": {
              "color": "white"
             }
            },
            "type": "table"
           }
          ]
         },
         "layout": {
          "annotationdefaults": {
           "arrowcolor": "#2a3f5f",
           "arrowhead": 0,
           "arrowwidth": 1
          },
          "autotypenumbers": "strict",
          "coloraxis": {
           "colorbar": {
            "outlinewidth": 0,
            "ticks": ""
           }
          },
          "colorscale": {
           "diverging": [
            [
             0,
             "#8e0152"
            ],
            [
             0.1,
             "#c51b7d"
            ],
            [
             0.2,
             "#de77ae"
            ],
            [
             0.3,
             "#f1b6da"
            ],
            [
             0.4,
             "#fde0ef"
            ],
            [
             0.5,
             "#f7f7f7"
            ],
            [
             0.6,
             "#e6f5d0"
            ],
            [
             0.7,
             "#b8e186"
            ],
            [
             0.8,
             "#7fbc41"
            ],
            [
             0.9,
             "#4d9221"
            ],
            [
             1,
             "#276419"
            ]
           ],
           "sequential": [
            [
             0,
             "#0d0887"
            ],
            [
             0.1111111111111111,
             "#46039f"
            ],
            [
             0.2222222222222222,
             "#7201a8"
            ],
            [
             0.3333333333333333,
             "#9c179e"
            ],
            [
             0.4444444444444444,
             "#bd3786"
            ],
            [
             0.5555555555555556,
             "#d8576b"
            ],
            [
             0.6666666666666666,
             "#ed7953"
            ],
            [
             0.7777777777777778,
             "#fb9f3a"
            ],
            [
             0.8888888888888888,
             "#fdca26"
            ],
            [
             1,
             "#f0f921"
            ]
           ],
           "sequentialminus": [
            [
             0,
             "#0d0887"
            ],
            [
             0.1111111111111111,
             "#46039f"
            ],
            [
             0.2222222222222222,
             "#7201a8"
            ],
            [
             0.3333333333333333,
             "#9c179e"
            ],
            [
             0.4444444444444444,
             "#bd3786"
            ],
            [
             0.5555555555555556,
             "#d8576b"
            ],
            [
             0.6666666666666666,
             "#ed7953"
            ],
            [
             0.7777777777777778,
             "#fb9f3a"
            ],
            [
             0.8888888888888888,
             "#fdca26"
            ],
            [
             1,
             "#f0f921"
            ]
           ]
          },
          "colorway": [
           "#636efa",
           "#EF553B",
           "#00cc96",
           "#ab63fa",
           "#FFA15A",
           "#19d3f3",
           "#FF6692",
           "#B6E880",
           "#FF97FF",
           "#FECB52"
          ],
          "font": {
           "color": "#2a3f5f"
          },
          "geo": {
           "bgcolor": "white",
           "lakecolor": "white",
           "landcolor": "#E5ECF6",
           "showlakes": true,
           "showland": true,
           "subunitcolor": "white"
          },
          "hoverlabel": {
           "align": "left"
          },
          "hovermode": "closest",
          "mapbox": {
           "style": "light"
          },
          "paper_bgcolor": "white",
          "plot_bgcolor": "#E5ECF6",
          "polar": {
           "angularaxis": {
            "gridcolor": "white",
            "linecolor": "white",
            "ticks": ""
           },
           "bgcolor": "#E5ECF6",
           "radialaxis": {
            "gridcolor": "white",
            "linecolor": "white",
            "ticks": ""
           }
          },
          "scene": {
           "xaxis": {
            "backgroundcolor": "#E5ECF6",
            "gridcolor": "white",
            "gridwidth": 2,
            "linecolor": "white",
            "showbackground": true,
            "ticks": "",
            "zerolinecolor": "white"
           },
           "yaxis": {
            "backgroundcolor": "#E5ECF6",
            "gridcolor": "white",
            "gridwidth": 2,
            "linecolor": "white",
            "showbackground": true,
            "ticks": "",
            "zerolinecolor": "white"
           },
           "zaxis": {
            "backgroundcolor": "#E5ECF6",
            "gridcolor": "white",
            "gridwidth": 2,
            "linecolor": "white",
            "showbackground": true,
            "ticks": "",
            "zerolinecolor": "white"
           }
          },
          "shapedefaults": {
           "line": {
            "color": "#2a3f5f"
           }
          },
          "ternary": {
           "aaxis": {
            "gridcolor": "white",
            "linecolor": "white",
            "ticks": ""
           },
           "baxis": {
            "gridcolor": "white",
            "linecolor": "white",
            "ticks": ""
           },
           "bgcolor": "#E5ECF6",
           "caxis": {
            "gridcolor": "white",
            "linecolor": "white",
            "ticks": ""
           }
          },
          "title": {
           "x": 0.05
          },
          "xaxis": {
           "automargin": true,
           "gridcolor": "white",
           "linecolor": "white",
           "ticks": "",
           "title": {
            "standoff": 15
           },
           "zerolinecolor": "white",
           "zerolinewidth": 2
          },
          "yaxis": {
           "automargin": true,
           "gridcolor": "white",
           "linecolor": "white",
           "ticks": "",
           "title": {
            "standoff": 15
           },
           "zerolinecolor": "white",
           "zerolinewidth": 2
          }
         }
        },
        "title": {
         "font": {
          "color": "#4D5663"
         }
        },
        "xaxis": {
         "gridcolor": "#E1E5ED",
         "showgrid": true,
         "tickfont": {
          "color": "#4D5663"
         },
         "title": {
          "font": {
           "color": "#4D5663"
          },
          "text": ""
         },
         "zerolinecolor": "#E1E5ED"
        },
        "yaxis": {
         "gridcolor": "#E1E5ED",
         "showgrid": true,
         "tickfont": {
          "color": "#4D5663"
         },
         "title": {
          "font": {
           "color": "#4D5663"
          },
          "text": ""
         },
         "zerolinecolor": "#E1E5ED"
        }
       }
      },
      "text/html": [
       "<div>                            <div id=\"46231557-2c01-419e-baba-c90c045d70ee\" class=\"plotly-graph-div\" style=\"height:525px; width:100%;\"></div>            <script type=\"text/javascript\">                require([\"plotly\"], function(Plotly) {                    window.PLOTLYENV=window.PLOTLYENV || {};\n",
       "                    window.PLOTLYENV.BASE_URL='https://plot.ly';                                    if (document.getElementById(\"46231557-2c01-419e-baba-c90c045d70ee\")) {                    Plotly.newPlot(                        \"46231557-2c01-419e-baba-c90c045d70ee\",                        [{\"line\":{\"color\":\"rgba(255, 153, 51, 1.0)\",\"dash\":\"solid\",\"shape\":\"linear\",\"width\":1.3},\"marker\":{\"size\":12,\"symbol\":\"circle\"},\"mode\":\"markers\",\"name\":\"B\",\"text\":\"\",\"x\":[-0.9295482987691611,0.4996509360917784,-0.31178784381970565,-0.2591828995133058,-0.2403254599818755,0.30007424500314445,-1.9519399516746074,0.36101710108782775,1.1405599367929218,-1.0796063330029473,0.5190388920390553,1.5295361900831612,2.2008109795602016,0.8296048530293078,-0.21937304858767648,-0.9074792394033,-0.2871592266959784,-0.05545890921396091,-0.4966932594692695,-0.2128516157570282,1.124592371454574,0.6228995695801925,0.9256230617994263,-1.768887800317044,-0.2874149202115096,-0.7825545526319378,-2.64432200458736,0.7457461109123886,-1.1428281744977538,1.2210663863390592,-0.9131644958788138,0.13217834318366903,0.6381113620115724,1.4342735786591516,-0.5436898268763243,0.7137862193664714,0.5120364676493256,-2.0607142312389986,0.07250257019407771,-0.6579877485369979,-1.1492108033028867,-2.2536437617141516,1.0563020796557212,-1.0720178624058692,-1.1189016921464603,-0.29284164619717207,-0.20830520279926823,1.0822730128583236,1.0213249027809796,1.2876384897836826,1.8125915692022887,-0.3517345744446924,0.45361035245361936,-0.7548380530713608,0.4509916465215894,0.010825510343471153,1.1954626376691377,1.7044799601908844,-0.2512587274155817,-0.007463326957457436,1.5214107591436405,0.34186384567971756,-0.34838956178384545,-0.02149537492129532,-0.2557559357224352,1.8115002849071817,0.8989054113028747,-0.8478793667167331,-0.4388345973955879,0.5897765192462224,0.9169989960247112,-0.29584764364758287,0.40964963403229865,-0.2765551854394092,0.7309271904230744,-0.05169151931672703,-0.6487263477835327,-0.15937602857333696,-0.669650111705374,1.6529366895888808,0.2725091941094338,-0.84418871539521,-1.0214046898022509,-0.5985785583610419,0.9281497551503964,-1.4386926646965128,1.6413444776995776,-2.2123830364218984,0.7903787489224429,-1.0744732634516792,0.745393189760668,0.4996178124858752,-0.46560119110781123,0.15969763101542492,0.142503896532929,1.3709466265440287,0.9711336472637876,-0.38754055633141615,-1.1752089873333424,0.27340068072325535],\"y\":[0.10595209962862051,0.3368667122382836,-0.32861230975248373,-0.11664858440555267,-0.10862895251019854,0.14676101096132724,1.6550509248816598,0.3116991407512059,-1.5333273766171769,0.67351956523506,-0.23293658066056874,0.5298539546678004,1.2706339922049268,1.4485075051766172,0.6779059423904159,-0.7164141937146591,0.8245757552822287,2.4213154151349485,-0.6875266309878802,-0.19741347908494278,0.6573721821252815,0.2773927166267599,0.18443657890013604,0.20841105872778784,1.014443830916647,-0.6614530154293072,0.7795405780388421,1.1763647687901904,-1.426400518831791,-0.8862199762393453,-0.5432851756689908,0.5612441198207622,0.14759371236534652,-1.569694238419562,2.2741377167085077,-1.3286017158605619,-0.6547759337607292,0.5409293803814273,-1.7140672889540483,-0.838762524216867,2.052568027382253,1.2479484516423567,-0.5050471421968736,1.3906132917773977,0.9304278500231088,-0.5005788549389664,1.0139570932698092,1.4099756691177323,-0.7284825751458816,0.47323279459070394,-0.8126917762346638,0.6377954621777114,-0.3174047711249694,-1.7756135983404886,-0.2363797892406345,-0.7970716486495877,-0.3332925771997845,0.3137937224354294,-0.612749019434206,-0.07558111642014288,-0.9898859959734786,-0.45302566262413996,-0.542805561663329,-1.2844203082105614,-0.11354301196306125,-2.546874494300865,0.9872274735141424,-2.4060412325529983,0.7406303040060868,1.3494134213350881,-0.08353953585239972,-0.8649105520646212,0.5482770228978523,0.3018624903593867,-1.2696542402185156,-0.503774941664004,-0.4457561076351454,0.34242334816657516,-0.11692153010067262,-0.7692072862521319,-0.3210876224228783,-1.3428735501149156,0.08140321965759581,1.4726724276119887,-1.6872778504307941,0.7379616404172885,0.7541415956944442,0.6119192924558464,-0.6805248104558588,-0.011614579413123783,-0.9751368919345605,0.1766886661379514,-0.4773258381639982,-1.7259606922075275,-0.09290092035809304,-0.34934252493462165,-0.5455826577301464,1.223290635135926,-1.332442683803005,-0.4849294268598528],\"type\":\"scatter\"}],                        {\"legend\":{\"bgcolor\":\"#F5F6F9\",\"font\":{\"color\":\"#4D5663\"}},\"paper_bgcolor\":\"#F5F6F9\",\"plot_bgcolor\":\"#F5F6F9\",\"template\":{\"data\":{\"barpolar\":[{\"marker\":{\"line\":{\"color\":\"#E5ECF6\",\"width\":0.5},\"pattern\":{\"fillmode\":\"overlay\",\"size\":10,\"solidity\":0.2}},\"type\":\"barpolar\"}],\"bar\":[{\"error_x\":{\"color\":\"#2a3f5f\"},\"error_y\":{\"color\":\"#2a3f5f\"},\"marker\":{\"line\":{\"color\":\"#E5ECF6\",\"width\":0.5},\"pattern\":{\"fillmode\":\"overlay\",\"size\":10,\"solidity\":0.2}},\"type\":\"bar\"}],\"carpet\":[{\"aaxis\":{\"endlinecolor\":\"#2a3f5f\",\"gridcolor\":\"white\",\"linecolor\":\"white\",\"minorgridcolor\":\"white\",\"startlinecolor\":\"#2a3f5f\"},\"baxis\":{\"endlinecolor\":\"#2a3f5f\",\"gridcolor\":\"white\",\"linecolor\":\"white\",\"minorgridcolor\":\"white\",\"startlinecolor\":\"#2a3f5f\"},\"type\":\"carpet\"}],\"choropleth\":[{\"colorbar\":{\"outlinewidth\":0,\"ticks\":\"\"},\"type\":\"choropleth\"}],\"contourcarpet\":[{\"colorbar\":{\"outlinewidth\":0,\"ticks\":\"\"},\"type\":\"contourcarpet\"}],\"contour\":[{\"colorbar\":{\"outlinewidth\":0,\"ticks\":\"\"},\"colorscale\":[[0.0,\"#0d0887\"],[0.1111111111111111,\"#46039f\"],[0.2222222222222222,\"#7201a8\"],[0.3333333333333333,\"#9c179e\"],[0.4444444444444444,\"#bd3786\"],[0.5555555555555556,\"#d8576b\"],[0.6666666666666666,\"#ed7953\"],[0.7777777777777778,\"#fb9f3a\"],[0.8888888888888888,\"#fdca26\"],[1.0,\"#f0f921\"]],\"type\":\"contour\"}],\"heatmapgl\":[{\"colorbar\":{\"outlinewidth\":0,\"ticks\":\"\"},\"colorscale\":[[0.0,\"#0d0887\"],[0.1111111111111111,\"#46039f\"],[0.2222222222222222,\"#7201a8\"],[0.3333333333333333,\"#9c179e\"],[0.4444444444444444,\"#bd3786\"],[0.5555555555555556,\"#d8576b\"],[0.6666666666666666,\"#ed7953\"],[0.7777777777777778,\"#fb9f3a\"],[0.8888888888888888,\"#fdca26\"],[1.0,\"#f0f921\"]],\"type\":\"heatmapgl\"}],\"heatmap\":[{\"colorbar\":{\"outlinewidth\":0,\"ticks\":\"\"},\"colorscale\":[[0.0,\"#0d0887\"],[0.1111111111111111,\"#46039f\"],[0.2222222222222222,\"#7201a8\"],[0.3333333333333333,\"#9c179e\"],[0.4444444444444444,\"#bd3786\"],[0.5555555555555556,\"#d8576b\"],[0.6666666666666666,\"#ed7953\"],[0.7777777777777778,\"#fb9f3a\"],[0.8888888888888888,\"#fdca26\"],[1.0,\"#f0f921\"]],\"type\":\"heatmap\"}],\"histogram2dcontour\":[{\"colorbar\":{\"outlinewidth\":0,\"ticks\":\"\"},\"colorscale\":[[0.0,\"#0d0887\"],[0.1111111111111111,\"#46039f\"],[0.2222222222222222,\"#7201a8\"],[0.3333333333333333,\"#9c179e\"],[0.4444444444444444,\"#bd3786\"],[0.5555555555555556,\"#d8576b\"],[0.6666666666666666,\"#ed7953\"],[0.7777777777777778,\"#fb9f3a\"],[0.8888888888888888,\"#fdca26\"],[1.0,\"#f0f921\"]],\"type\":\"histogram2dcontour\"}],\"histogram2d\":[{\"colorbar\":{\"outlinewidth\":0,\"ticks\":\"\"},\"colorscale\":[[0.0,\"#0d0887\"],[0.1111111111111111,\"#46039f\"],[0.2222222222222222,\"#7201a8\"],[0.3333333333333333,\"#9c179e\"],[0.4444444444444444,\"#bd3786\"],[0.5555555555555556,\"#d8576b\"],[0.6666666666666666,\"#ed7953\"],[0.7777777777777778,\"#fb9f3a\"],[0.8888888888888888,\"#fdca26\"],[1.0,\"#f0f921\"]],\"type\":\"histogram2d\"}],\"histogram\":[{\"marker\":{\"pattern\":{\"fillmode\":\"overlay\",\"size\":10,\"solidity\":0.2}},\"type\":\"histogram\"}],\"mesh3d\":[{\"colorbar\":{\"outlinewidth\":0,\"ticks\":\"\"},\"type\":\"mesh3d\"}],\"parcoords\":[{\"line\":{\"colorbar\":{\"outlinewidth\":0,\"ticks\":\"\"}},\"type\":\"parcoords\"}],\"pie\":[{\"automargin\":true,\"type\":\"pie\"}],\"scatter3d\":[{\"line\":{\"colorbar\":{\"outlinewidth\":0,\"ticks\":\"\"}},\"marker\":{\"colorbar\":{\"outlinewidth\":0,\"ticks\":\"\"}},\"type\":\"scatter3d\"}],\"scattercarpet\":[{\"marker\":{\"colorbar\":{\"outlinewidth\":0,\"ticks\":\"\"}},\"type\":\"scattercarpet\"}],\"scattergeo\":[{\"marker\":{\"colorbar\":{\"outlinewidth\":0,\"ticks\":\"\"}},\"type\":\"scattergeo\"}],\"scattergl\":[{\"marker\":{\"colorbar\":{\"outlinewidth\":0,\"ticks\":\"\"}},\"type\":\"scattergl\"}],\"scattermapbox\":[{\"marker\":{\"colorbar\":{\"outlinewidth\":0,\"ticks\":\"\"}},\"type\":\"scattermapbox\"}],\"scatterpolargl\":[{\"marker\":{\"colorbar\":{\"outlinewidth\":0,\"ticks\":\"\"}},\"type\":\"scatterpolargl\"}],\"scatterpolar\":[{\"marker\":{\"colorbar\":{\"outlinewidth\":0,\"ticks\":\"\"}},\"type\":\"scatterpolar\"}],\"scatter\":[{\"fillpattern\":{\"fillmode\":\"overlay\",\"size\":10,\"solidity\":0.2},\"type\":\"scatter\"}],\"scatterternary\":[{\"marker\":{\"colorbar\":{\"outlinewidth\":0,\"ticks\":\"\"}},\"type\":\"scatterternary\"}],\"surface\":[{\"colorbar\":{\"outlinewidth\":0,\"ticks\":\"\"},\"colorscale\":[[0.0,\"#0d0887\"],[0.1111111111111111,\"#46039f\"],[0.2222222222222222,\"#7201a8\"],[0.3333333333333333,\"#9c179e\"],[0.4444444444444444,\"#bd3786\"],[0.5555555555555556,\"#d8576b\"],[0.6666666666666666,\"#ed7953\"],[0.7777777777777778,\"#fb9f3a\"],[0.8888888888888888,\"#fdca26\"],[1.0,\"#f0f921\"]],\"type\":\"surface\"}],\"table\":[{\"cells\":{\"fill\":{\"color\":\"#EBF0F8\"},\"line\":{\"color\":\"white\"}},\"header\":{\"fill\":{\"color\":\"#C8D4E3\"},\"line\":{\"color\":\"white\"}},\"type\":\"table\"}]},\"layout\":{\"annotationdefaults\":{\"arrowcolor\":\"#2a3f5f\",\"arrowhead\":0,\"arrowwidth\":1},\"autotypenumbers\":\"strict\",\"coloraxis\":{\"colorbar\":{\"outlinewidth\":0,\"ticks\":\"\"}},\"colorscale\":{\"diverging\":[[0,\"#8e0152\"],[0.1,\"#c51b7d\"],[0.2,\"#de77ae\"],[0.3,\"#f1b6da\"],[0.4,\"#fde0ef\"],[0.5,\"#f7f7f7\"],[0.6,\"#e6f5d0\"],[0.7,\"#b8e186\"],[0.8,\"#7fbc41\"],[0.9,\"#4d9221\"],[1,\"#276419\"]],\"sequential\":[[0.0,\"#0d0887\"],[0.1111111111111111,\"#46039f\"],[0.2222222222222222,\"#7201a8\"],[0.3333333333333333,\"#9c179e\"],[0.4444444444444444,\"#bd3786\"],[0.5555555555555556,\"#d8576b\"],[0.6666666666666666,\"#ed7953\"],[0.7777777777777778,\"#fb9f3a\"],[0.8888888888888888,\"#fdca26\"],[1.0,\"#f0f921\"]],\"sequentialminus\":[[0.0,\"#0d0887\"],[0.1111111111111111,\"#46039f\"],[0.2222222222222222,\"#7201a8\"],[0.3333333333333333,\"#9c179e\"],[0.4444444444444444,\"#bd3786\"],[0.5555555555555556,\"#d8576b\"],[0.6666666666666666,\"#ed7953\"],[0.7777777777777778,\"#fb9f3a\"],[0.8888888888888888,\"#fdca26\"],[1.0,\"#f0f921\"]]},\"colorway\":[\"#636efa\",\"#EF553B\",\"#00cc96\",\"#ab63fa\",\"#FFA15A\",\"#19d3f3\",\"#FF6692\",\"#B6E880\",\"#FF97FF\",\"#FECB52\"],\"font\":{\"color\":\"#2a3f5f\"},\"geo\":{\"bgcolor\":\"white\",\"lakecolor\":\"white\",\"landcolor\":\"#E5ECF6\",\"showlakes\":true,\"showland\":true,\"subunitcolor\":\"white\"},\"hoverlabel\":{\"align\":\"left\"},\"hovermode\":\"closest\",\"mapbox\":{\"style\":\"light\"},\"paper_bgcolor\":\"white\",\"plot_bgcolor\":\"#E5ECF6\",\"polar\":{\"angularaxis\":{\"gridcolor\":\"white\",\"linecolor\":\"white\",\"ticks\":\"\"},\"bgcolor\":\"#E5ECF6\",\"radialaxis\":{\"gridcolor\":\"white\",\"linecolor\":\"white\",\"ticks\":\"\"}},\"scene\":{\"xaxis\":{\"backgroundcolor\":\"#E5ECF6\",\"gridcolor\":\"white\",\"gridwidth\":2,\"linecolor\":\"white\",\"showbackground\":true,\"ticks\":\"\",\"zerolinecolor\":\"white\"},\"yaxis\":{\"backgroundcolor\":\"#E5ECF6\",\"gridcolor\":\"white\",\"gridwidth\":2,\"linecolor\":\"white\",\"showbackground\":true,\"ticks\":\"\",\"zerolinecolor\":\"white\"},\"zaxis\":{\"backgroundcolor\":\"#E5ECF6\",\"gridcolor\":\"white\",\"gridwidth\":2,\"linecolor\":\"white\",\"showbackground\":true,\"ticks\":\"\",\"zerolinecolor\":\"white\"}},\"shapedefaults\":{\"line\":{\"color\":\"#2a3f5f\"}},\"ternary\":{\"aaxis\":{\"gridcolor\":\"white\",\"linecolor\":\"white\",\"ticks\":\"\"},\"baxis\":{\"gridcolor\":\"white\",\"linecolor\":\"white\",\"ticks\":\"\"},\"bgcolor\":\"#E5ECF6\",\"caxis\":{\"gridcolor\":\"white\",\"linecolor\":\"white\",\"ticks\":\"\"}},\"title\":{\"x\":0.05},\"xaxis\":{\"automargin\":true,\"gridcolor\":\"white\",\"linecolor\":\"white\",\"ticks\":\"\",\"title\":{\"standoff\":15},\"zerolinecolor\":\"white\",\"zerolinewidth\":2},\"yaxis\":{\"automargin\":true,\"gridcolor\":\"white\",\"linecolor\":\"white\",\"ticks\":\"\",\"title\":{\"standoff\":15},\"zerolinecolor\":\"white\",\"zerolinewidth\":2}}},\"title\":{\"font\":{\"color\":\"#4D5663\"}},\"xaxis\":{\"gridcolor\":\"#E1E5ED\",\"showgrid\":true,\"tickfont\":{\"color\":\"#4D5663\"},\"title\":{\"font\":{\"color\":\"#4D5663\"},\"text\":\"\"},\"zerolinecolor\":\"#E1E5ED\"},\"yaxis\":{\"gridcolor\":\"#E1E5ED\",\"showgrid\":true,\"tickfont\":{\"color\":\"#4D5663\"},\"title\":{\"font\":{\"color\":\"#4D5663\"},\"text\":\"\"},\"zerolinecolor\":\"#E1E5ED\"}},                        {\"showLink\": true, \"linkText\": \"Export to plot.ly\", \"plotlyServerURL\": \"https://plot.ly\", \"responsive\": true}                    ).then(function(){\n",
       "                            \n",
       "var gd = document.getElementById('46231557-2c01-419e-baba-c90c045d70ee');\n",
       "var x = new MutationObserver(function (mutations, observer) {{\n",
       "        var display = window.getComputedStyle(gd).display;\n",
       "        if (!display || display === 'none') {{\n",
       "            console.log([gd, 'removed!']);\n",
       "            Plotly.purge(gd);\n",
       "            observer.disconnect();\n",
       "        }}\n",
       "}});\n",
       "\n",
       "// Listen for the removal of the full notebook cells\n",
       "var notebookContainer = gd.closest('#notebook-container');\n",
       "if (notebookContainer) {{\n",
       "    x.observe(notebookContainer, {childList: true});\n",
       "}}\n",
       "\n",
       "// Listen for the clearing of the current output cell\n",
       "var outputEl = gd.closest('.output');\n",
       "if (outputEl) {{\n",
       "    x.observe(outputEl, {childList: true});\n",
       "}}\n",
       "\n",
       "                        })                };                });            </script>        </div>"
      ]
     },
     "metadata": {},
     "output_type": "display_data"
    }
   ],
   "source": [
    "df.iplot(kind=\"scatter\",x=\"A\",y=\"B\",mode = \"markers\",size=12)"
   ]
  },
  {
   "cell_type": "code",
   "execution_count": 18,
   "id": "02d3ddb4",
   "metadata": {},
   "outputs": [
    {
     "data": {
      "application/vnd.plotly.v1+json": {
       "config": {
        "linkText": "Export to plot.ly",
        "plotlyServerURL": "https://plot.ly",
        "showLink": true
       },
       "data": [
        {
         "marker": {
          "color": "rgba(255, 153, 51, 0.6)",
          "line": {
           "color": "rgba(255, 153, 51, 1.0)",
           "width": 1
          }
         },
         "name": "Values",
         "orientation": "v",
         "text": "",
         "type": "bar",
         "x": [
          "A",
          "B",
          "C"
         ],
         "y": [
          32,
          43,
          50
         ]
        }
       ],
       "layout": {
        "legend": {
         "bgcolor": "#F5F6F9",
         "font": {
          "color": "#4D5663"
         }
        },
        "paper_bgcolor": "#F5F6F9",
        "plot_bgcolor": "#F5F6F9",
        "template": {
         "data": {
          "bar": [
           {
            "error_x": {
             "color": "#2a3f5f"
            },
            "error_y": {
             "color": "#2a3f5f"
            },
            "marker": {
             "line": {
              "color": "#E5ECF6",
              "width": 0.5
             },
             "pattern": {
              "fillmode": "overlay",
              "size": 10,
              "solidity": 0.2
             }
            },
            "type": "bar"
           }
          ],
          "barpolar": [
           {
            "marker": {
             "line": {
              "color": "#E5ECF6",
              "width": 0.5
             },
             "pattern": {
              "fillmode": "overlay",
              "size": 10,
              "solidity": 0.2
             }
            },
            "type": "barpolar"
           }
          ],
          "carpet": [
           {
            "aaxis": {
             "endlinecolor": "#2a3f5f",
             "gridcolor": "white",
             "linecolor": "white",
             "minorgridcolor": "white",
             "startlinecolor": "#2a3f5f"
            },
            "baxis": {
             "endlinecolor": "#2a3f5f",
             "gridcolor": "white",
             "linecolor": "white",
             "minorgridcolor": "white",
             "startlinecolor": "#2a3f5f"
            },
            "type": "carpet"
           }
          ],
          "choropleth": [
           {
            "colorbar": {
             "outlinewidth": 0,
             "ticks": ""
            },
            "type": "choropleth"
           }
          ],
          "contour": [
           {
            "colorbar": {
             "outlinewidth": 0,
             "ticks": ""
            },
            "colorscale": [
             [
              0,
              "#0d0887"
             ],
             [
              0.1111111111111111,
              "#46039f"
             ],
             [
              0.2222222222222222,
              "#7201a8"
             ],
             [
              0.3333333333333333,
              "#9c179e"
             ],
             [
              0.4444444444444444,
              "#bd3786"
             ],
             [
              0.5555555555555556,
              "#d8576b"
             ],
             [
              0.6666666666666666,
              "#ed7953"
             ],
             [
              0.7777777777777778,
              "#fb9f3a"
             ],
             [
              0.8888888888888888,
              "#fdca26"
             ],
             [
              1,
              "#f0f921"
             ]
            ],
            "type": "contour"
           }
          ],
          "contourcarpet": [
           {
            "colorbar": {
             "outlinewidth": 0,
             "ticks": ""
            },
            "type": "contourcarpet"
           }
          ],
          "heatmap": [
           {
            "colorbar": {
             "outlinewidth": 0,
             "ticks": ""
            },
            "colorscale": [
             [
              0,
              "#0d0887"
             ],
             [
              0.1111111111111111,
              "#46039f"
             ],
             [
              0.2222222222222222,
              "#7201a8"
             ],
             [
              0.3333333333333333,
              "#9c179e"
             ],
             [
              0.4444444444444444,
              "#bd3786"
             ],
             [
              0.5555555555555556,
              "#d8576b"
             ],
             [
              0.6666666666666666,
              "#ed7953"
             ],
             [
              0.7777777777777778,
              "#fb9f3a"
             ],
             [
              0.8888888888888888,
              "#fdca26"
             ],
             [
              1,
              "#f0f921"
             ]
            ],
            "type": "heatmap"
           }
          ],
          "heatmapgl": [
           {
            "colorbar": {
             "outlinewidth": 0,
             "ticks": ""
            },
            "colorscale": [
             [
              0,
              "#0d0887"
             ],
             [
              0.1111111111111111,
              "#46039f"
             ],
             [
              0.2222222222222222,
              "#7201a8"
             ],
             [
              0.3333333333333333,
              "#9c179e"
             ],
             [
              0.4444444444444444,
              "#bd3786"
             ],
             [
              0.5555555555555556,
              "#d8576b"
             ],
             [
              0.6666666666666666,
              "#ed7953"
             ],
             [
              0.7777777777777778,
              "#fb9f3a"
             ],
             [
              0.8888888888888888,
              "#fdca26"
             ],
             [
              1,
              "#f0f921"
             ]
            ],
            "type": "heatmapgl"
           }
          ],
          "histogram": [
           {
            "marker": {
             "pattern": {
              "fillmode": "overlay",
              "size": 10,
              "solidity": 0.2
             }
            },
            "type": "histogram"
           }
          ],
          "histogram2d": [
           {
            "colorbar": {
             "outlinewidth": 0,
             "ticks": ""
            },
            "colorscale": [
             [
              0,
              "#0d0887"
             ],
             [
              0.1111111111111111,
              "#46039f"
             ],
             [
              0.2222222222222222,
              "#7201a8"
             ],
             [
              0.3333333333333333,
              "#9c179e"
             ],
             [
              0.4444444444444444,
              "#bd3786"
             ],
             [
              0.5555555555555556,
              "#d8576b"
             ],
             [
              0.6666666666666666,
              "#ed7953"
             ],
             [
              0.7777777777777778,
              "#fb9f3a"
             ],
             [
              0.8888888888888888,
              "#fdca26"
             ],
             [
              1,
              "#f0f921"
             ]
            ],
            "type": "histogram2d"
           }
          ],
          "histogram2dcontour": [
           {
            "colorbar": {
             "outlinewidth": 0,
             "ticks": ""
            },
            "colorscale": [
             [
              0,
              "#0d0887"
             ],
             [
              0.1111111111111111,
              "#46039f"
             ],
             [
              0.2222222222222222,
              "#7201a8"
             ],
             [
              0.3333333333333333,
              "#9c179e"
             ],
             [
              0.4444444444444444,
              "#bd3786"
             ],
             [
              0.5555555555555556,
              "#d8576b"
             ],
             [
              0.6666666666666666,
              "#ed7953"
             ],
             [
              0.7777777777777778,
              "#fb9f3a"
             ],
             [
              0.8888888888888888,
              "#fdca26"
             ],
             [
              1,
              "#f0f921"
             ]
            ],
            "type": "histogram2dcontour"
           }
          ],
          "mesh3d": [
           {
            "colorbar": {
             "outlinewidth": 0,
             "ticks": ""
            },
            "type": "mesh3d"
           }
          ],
          "parcoords": [
           {
            "line": {
             "colorbar": {
              "outlinewidth": 0,
              "ticks": ""
             }
            },
            "type": "parcoords"
           }
          ],
          "pie": [
           {
            "automargin": true,
            "type": "pie"
           }
          ],
          "scatter": [
           {
            "fillpattern": {
             "fillmode": "overlay",
             "size": 10,
             "solidity": 0.2
            },
            "type": "scatter"
           }
          ],
          "scatter3d": [
           {
            "line": {
             "colorbar": {
              "outlinewidth": 0,
              "ticks": ""
             }
            },
            "marker": {
             "colorbar": {
              "outlinewidth": 0,
              "ticks": ""
             }
            },
            "type": "scatter3d"
           }
          ],
          "scattercarpet": [
           {
            "marker": {
             "colorbar": {
              "outlinewidth": 0,
              "ticks": ""
             }
            },
            "type": "scattercarpet"
           }
          ],
          "scattergeo": [
           {
            "marker": {
             "colorbar": {
              "outlinewidth": 0,
              "ticks": ""
             }
            },
            "type": "scattergeo"
           }
          ],
          "scattergl": [
           {
            "marker": {
             "colorbar": {
              "outlinewidth": 0,
              "ticks": ""
             }
            },
            "type": "scattergl"
           }
          ],
          "scattermapbox": [
           {
            "marker": {
             "colorbar": {
              "outlinewidth": 0,
              "ticks": ""
             }
            },
            "type": "scattermapbox"
           }
          ],
          "scatterpolar": [
           {
            "marker": {
             "colorbar": {
              "outlinewidth": 0,
              "ticks": ""
             }
            },
            "type": "scatterpolar"
           }
          ],
          "scatterpolargl": [
           {
            "marker": {
             "colorbar": {
              "outlinewidth": 0,
              "ticks": ""
             }
            },
            "type": "scatterpolargl"
           }
          ],
          "scatterternary": [
           {
            "marker": {
             "colorbar": {
              "outlinewidth": 0,
              "ticks": ""
             }
            },
            "type": "scatterternary"
           }
          ],
          "surface": [
           {
            "colorbar": {
             "outlinewidth": 0,
             "ticks": ""
            },
            "colorscale": [
             [
              0,
              "#0d0887"
             ],
             [
              0.1111111111111111,
              "#46039f"
             ],
             [
              0.2222222222222222,
              "#7201a8"
             ],
             [
              0.3333333333333333,
              "#9c179e"
             ],
             [
              0.4444444444444444,
              "#bd3786"
             ],
             [
              0.5555555555555556,
              "#d8576b"
             ],
             [
              0.6666666666666666,
              "#ed7953"
             ],
             [
              0.7777777777777778,
              "#fb9f3a"
             ],
             [
              0.8888888888888888,
              "#fdca26"
             ],
             [
              1,
              "#f0f921"
             ]
            ],
            "type": "surface"
           }
          ],
          "table": [
           {
            "cells": {
             "fill": {
              "color": "#EBF0F8"
             },
             "line": {
              "color": "white"
             }
            },
            "header": {
             "fill": {
              "color": "#C8D4E3"
             },
             "line": {
              "color": "white"
             }
            },
            "type": "table"
           }
          ]
         },
         "layout": {
          "annotationdefaults": {
           "arrowcolor": "#2a3f5f",
           "arrowhead": 0,
           "arrowwidth": 1
          },
          "autotypenumbers": "strict",
          "coloraxis": {
           "colorbar": {
            "outlinewidth": 0,
            "ticks": ""
           }
          },
          "colorscale": {
           "diverging": [
            [
             0,
             "#8e0152"
            ],
            [
             0.1,
             "#c51b7d"
            ],
            [
             0.2,
             "#de77ae"
            ],
            [
             0.3,
             "#f1b6da"
            ],
            [
             0.4,
             "#fde0ef"
            ],
            [
             0.5,
             "#f7f7f7"
            ],
            [
             0.6,
             "#e6f5d0"
            ],
            [
             0.7,
             "#b8e186"
            ],
            [
             0.8,
             "#7fbc41"
            ],
            [
             0.9,
             "#4d9221"
            ],
            [
             1,
             "#276419"
            ]
           ],
           "sequential": [
            [
             0,
             "#0d0887"
            ],
            [
             0.1111111111111111,
             "#46039f"
            ],
            [
             0.2222222222222222,
             "#7201a8"
            ],
            [
             0.3333333333333333,
             "#9c179e"
            ],
            [
             0.4444444444444444,
             "#bd3786"
            ],
            [
             0.5555555555555556,
             "#d8576b"
            ],
            [
             0.6666666666666666,
             "#ed7953"
            ],
            [
             0.7777777777777778,
             "#fb9f3a"
            ],
            [
             0.8888888888888888,
             "#fdca26"
            ],
            [
             1,
             "#f0f921"
            ]
           ],
           "sequentialminus": [
            [
             0,
             "#0d0887"
            ],
            [
             0.1111111111111111,
             "#46039f"
            ],
            [
             0.2222222222222222,
             "#7201a8"
            ],
            [
             0.3333333333333333,
             "#9c179e"
            ],
            [
             0.4444444444444444,
             "#bd3786"
            ],
            [
             0.5555555555555556,
             "#d8576b"
            ],
            [
             0.6666666666666666,
             "#ed7953"
            ],
            [
             0.7777777777777778,
             "#fb9f3a"
            ],
            [
             0.8888888888888888,
             "#fdca26"
            ],
            [
             1,
             "#f0f921"
            ]
           ]
          },
          "colorway": [
           "#636efa",
           "#EF553B",
           "#00cc96",
           "#ab63fa",
           "#FFA15A",
           "#19d3f3",
           "#FF6692",
           "#B6E880",
           "#FF97FF",
           "#FECB52"
          ],
          "font": {
           "color": "#2a3f5f"
          },
          "geo": {
           "bgcolor": "white",
           "lakecolor": "white",
           "landcolor": "#E5ECF6",
           "showlakes": true,
           "showland": true,
           "subunitcolor": "white"
          },
          "hoverlabel": {
           "align": "left"
          },
          "hovermode": "closest",
          "mapbox": {
           "style": "light"
          },
          "paper_bgcolor": "white",
          "plot_bgcolor": "#E5ECF6",
          "polar": {
           "angularaxis": {
            "gridcolor": "white",
            "linecolor": "white",
            "ticks": ""
           },
           "bgcolor": "#E5ECF6",
           "radialaxis": {
            "gridcolor": "white",
            "linecolor": "white",
            "ticks": ""
           }
          },
          "scene": {
           "xaxis": {
            "backgroundcolor": "#E5ECF6",
            "gridcolor": "white",
            "gridwidth": 2,
            "linecolor": "white",
            "showbackground": true,
            "ticks": "",
            "zerolinecolor": "white"
           },
           "yaxis": {
            "backgroundcolor": "#E5ECF6",
            "gridcolor": "white",
            "gridwidth": 2,
            "linecolor": "white",
            "showbackground": true,
            "ticks": "",
            "zerolinecolor": "white"
           },
           "zaxis": {
            "backgroundcolor": "#E5ECF6",
            "gridcolor": "white",
            "gridwidth": 2,
            "linecolor": "white",
            "showbackground": true,
            "ticks": "",
            "zerolinecolor": "white"
           }
          },
          "shapedefaults": {
           "line": {
            "color": "#2a3f5f"
           }
          },
          "ternary": {
           "aaxis": {
            "gridcolor": "white",
            "linecolor": "white",
            "ticks": ""
           },
           "baxis": {
            "gridcolor": "white",
            "linecolor": "white",
            "ticks": ""
           },
           "bgcolor": "#E5ECF6",
           "caxis": {
            "gridcolor": "white",
            "linecolor": "white",
            "ticks": ""
           }
          },
          "title": {
           "x": 0.05
          },
          "xaxis": {
           "automargin": true,
           "gridcolor": "white",
           "linecolor": "white",
           "ticks": "",
           "title": {
            "standoff": 15
           },
           "zerolinecolor": "white",
           "zerolinewidth": 2
          },
          "yaxis": {
           "automargin": true,
           "gridcolor": "white",
           "linecolor": "white",
           "ticks": "",
           "title": {
            "standoff": 15
           },
           "zerolinecolor": "white",
           "zerolinewidth": 2
          }
         }
        },
        "title": {
         "font": {
          "color": "#4D5663"
         }
        },
        "xaxis": {
         "gridcolor": "#E1E5ED",
         "showgrid": true,
         "tickfont": {
          "color": "#4D5663"
         },
         "title": {
          "font": {
           "color": "#4D5663"
          },
          "text": ""
         },
         "zerolinecolor": "#E1E5ED"
        },
        "yaxis": {
         "gridcolor": "#E1E5ED",
         "showgrid": true,
         "tickfont": {
          "color": "#4D5663"
         },
         "title": {
          "font": {
           "color": "#4D5663"
          },
          "text": ""
         },
         "zerolinecolor": "#E1E5ED"
        }
       }
      },
      "text/html": [
       "<div>                            <div id=\"d81ec629-4e29-4b55-86ab-d5dc2a19b73d\" class=\"plotly-graph-div\" style=\"height:525px; width:100%;\"></div>            <script type=\"text/javascript\">                require([\"plotly\"], function(Plotly) {                    window.PLOTLYENV=window.PLOTLYENV || {};\n",
       "                    window.PLOTLYENV.BASE_URL='https://plot.ly';                                    if (document.getElementById(\"d81ec629-4e29-4b55-86ab-d5dc2a19b73d\")) {                    Plotly.newPlot(                        \"d81ec629-4e29-4b55-86ab-d5dc2a19b73d\",                        [{\"marker\":{\"color\":\"rgba(255, 153, 51, 0.6)\",\"line\":{\"color\":\"rgba(255, 153, 51, 1.0)\",\"width\":1}},\"name\":\"Values\",\"orientation\":\"v\",\"text\":\"\",\"x\":[\"A\",\"B\",\"C\"],\"y\":[32,43,50],\"type\":\"bar\"}],                        {\"legend\":{\"bgcolor\":\"#F5F6F9\",\"font\":{\"color\":\"#4D5663\"}},\"paper_bgcolor\":\"#F5F6F9\",\"plot_bgcolor\":\"#F5F6F9\",\"template\":{\"data\":{\"barpolar\":[{\"marker\":{\"line\":{\"color\":\"#E5ECF6\",\"width\":0.5},\"pattern\":{\"fillmode\":\"overlay\",\"size\":10,\"solidity\":0.2}},\"type\":\"barpolar\"}],\"bar\":[{\"error_x\":{\"color\":\"#2a3f5f\"},\"error_y\":{\"color\":\"#2a3f5f\"},\"marker\":{\"line\":{\"color\":\"#E5ECF6\",\"width\":0.5},\"pattern\":{\"fillmode\":\"overlay\",\"size\":10,\"solidity\":0.2}},\"type\":\"bar\"}],\"carpet\":[{\"aaxis\":{\"endlinecolor\":\"#2a3f5f\",\"gridcolor\":\"white\",\"linecolor\":\"white\",\"minorgridcolor\":\"white\",\"startlinecolor\":\"#2a3f5f\"},\"baxis\":{\"endlinecolor\":\"#2a3f5f\",\"gridcolor\":\"white\",\"linecolor\":\"white\",\"minorgridcolor\":\"white\",\"startlinecolor\":\"#2a3f5f\"},\"type\":\"carpet\"}],\"choropleth\":[{\"colorbar\":{\"outlinewidth\":0,\"ticks\":\"\"},\"type\":\"choropleth\"}],\"contourcarpet\":[{\"colorbar\":{\"outlinewidth\":0,\"ticks\":\"\"},\"type\":\"contourcarpet\"}],\"contour\":[{\"colorbar\":{\"outlinewidth\":0,\"ticks\":\"\"},\"colorscale\":[[0.0,\"#0d0887\"],[0.1111111111111111,\"#46039f\"],[0.2222222222222222,\"#7201a8\"],[0.3333333333333333,\"#9c179e\"],[0.4444444444444444,\"#bd3786\"],[0.5555555555555556,\"#d8576b\"],[0.6666666666666666,\"#ed7953\"],[0.7777777777777778,\"#fb9f3a\"],[0.8888888888888888,\"#fdca26\"],[1.0,\"#f0f921\"]],\"type\":\"contour\"}],\"heatmapgl\":[{\"colorbar\":{\"outlinewidth\":0,\"ticks\":\"\"},\"colorscale\":[[0.0,\"#0d0887\"],[0.1111111111111111,\"#46039f\"],[0.2222222222222222,\"#7201a8\"],[0.3333333333333333,\"#9c179e\"],[0.4444444444444444,\"#bd3786\"],[0.5555555555555556,\"#d8576b\"],[0.6666666666666666,\"#ed7953\"],[0.7777777777777778,\"#fb9f3a\"],[0.8888888888888888,\"#fdca26\"],[1.0,\"#f0f921\"]],\"type\":\"heatmapgl\"}],\"heatmap\":[{\"colorbar\":{\"outlinewidth\":0,\"ticks\":\"\"},\"colorscale\":[[0.0,\"#0d0887\"],[0.1111111111111111,\"#46039f\"],[0.2222222222222222,\"#7201a8\"],[0.3333333333333333,\"#9c179e\"],[0.4444444444444444,\"#bd3786\"],[0.5555555555555556,\"#d8576b\"],[0.6666666666666666,\"#ed7953\"],[0.7777777777777778,\"#fb9f3a\"],[0.8888888888888888,\"#fdca26\"],[1.0,\"#f0f921\"]],\"type\":\"heatmap\"}],\"histogram2dcontour\":[{\"colorbar\":{\"outlinewidth\":0,\"ticks\":\"\"},\"colorscale\":[[0.0,\"#0d0887\"],[0.1111111111111111,\"#46039f\"],[0.2222222222222222,\"#7201a8\"],[0.3333333333333333,\"#9c179e\"],[0.4444444444444444,\"#bd3786\"],[0.5555555555555556,\"#d8576b\"],[0.6666666666666666,\"#ed7953\"],[0.7777777777777778,\"#fb9f3a\"],[0.8888888888888888,\"#fdca26\"],[1.0,\"#f0f921\"]],\"type\":\"histogram2dcontour\"}],\"histogram2d\":[{\"colorbar\":{\"outlinewidth\":0,\"ticks\":\"\"},\"colorscale\":[[0.0,\"#0d0887\"],[0.1111111111111111,\"#46039f\"],[0.2222222222222222,\"#7201a8\"],[0.3333333333333333,\"#9c179e\"],[0.4444444444444444,\"#bd3786\"],[0.5555555555555556,\"#d8576b\"],[0.6666666666666666,\"#ed7953\"],[0.7777777777777778,\"#fb9f3a\"],[0.8888888888888888,\"#fdca26\"],[1.0,\"#f0f921\"]],\"type\":\"histogram2d\"}],\"histogram\":[{\"marker\":{\"pattern\":{\"fillmode\":\"overlay\",\"size\":10,\"solidity\":0.2}},\"type\":\"histogram\"}],\"mesh3d\":[{\"colorbar\":{\"outlinewidth\":0,\"ticks\":\"\"},\"type\":\"mesh3d\"}],\"parcoords\":[{\"line\":{\"colorbar\":{\"outlinewidth\":0,\"ticks\":\"\"}},\"type\":\"parcoords\"}],\"pie\":[{\"automargin\":true,\"type\":\"pie\"}],\"scatter3d\":[{\"line\":{\"colorbar\":{\"outlinewidth\":0,\"ticks\":\"\"}},\"marker\":{\"colorbar\":{\"outlinewidth\":0,\"ticks\":\"\"}},\"type\":\"scatter3d\"}],\"scattercarpet\":[{\"marker\":{\"colorbar\":{\"outlinewidth\":0,\"ticks\":\"\"}},\"type\":\"scattercarpet\"}],\"scattergeo\":[{\"marker\":{\"colorbar\":{\"outlinewidth\":0,\"ticks\":\"\"}},\"type\":\"scattergeo\"}],\"scattergl\":[{\"marker\":{\"colorbar\":{\"outlinewidth\":0,\"ticks\":\"\"}},\"type\":\"scattergl\"}],\"scattermapbox\":[{\"marker\":{\"colorbar\":{\"outlinewidth\":0,\"ticks\":\"\"}},\"type\":\"scattermapbox\"}],\"scatterpolargl\":[{\"marker\":{\"colorbar\":{\"outlinewidth\":0,\"ticks\":\"\"}},\"type\":\"scatterpolargl\"}],\"scatterpolar\":[{\"marker\":{\"colorbar\":{\"outlinewidth\":0,\"ticks\":\"\"}},\"type\":\"scatterpolar\"}],\"scatter\":[{\"fillpattern\":{\"fillmode\":\"overlay\",\"size\":10,\"solidity\":0.2},\"type\":\"scatter\"}],\"scatterternary\":[{\"marker\":{\"colorbar\":{\"outlinewidth\":0,\"ticks\":\"\"}},\"type\":\"scatterternary\"}],\"surface\":[{\"colorbar\":{\"outlinewidth\":0,\"ticks\":\"\"},\"colorscale\":[[0.0,\"#0d0887\"],[0.1111111111111111,\"#46039f\"],[0.2222222222222222,\"#7201a8\"],[0.3333333333333333,\"#9c179e\"],[0.4444444444444444,\"#bd3786\"],[0.5555555555555556,\"#d8576b\"],[0.6666666666666666,\"#ed7953\"],[0.7777777777777778,\"#fb9f3a\"],[0.8888888888888888,\"#fdca26\"],[1.0,\"#f0f921\"]],\"type\":\"surface\"}],\"table\":[{\"cells\":{\"fill\":{\"color\":\"#EBF0F8\"},\"line\":{\"color\":\"white\"}},\"header\":{\"fill\":{\"color\":\"#C8D4E3\"},\"line\":{\"color\":\"white\"}},\"type\":\"table\"}]},\"layout\":{\"annotationdefaults\":{\"arrowcolor\":\"#2a3f5f\",\"arrowhead\":0,\"arrowwidth\":1},\"autotypenumbers\":\"strict\",\"coloraxis\":{\"colorbar\":{\"outlinewidth\":0,\"ticks\":\"\"}},\"colorscale\":{\"diverging\":[[0,\"#8e0152\"],[0.1,\"#c51b7d\"],[0.2,\"#de77ae\"],[0.3,\"#f1b6da\"],[0.4,\"#fde0ef\"],[0.5,\"#f7f7f7\"],[0.6,\"#e6f5d0\"],[0.7,\"#b8e186\"],[0.8,\"#7fbc41\"],[0.9,\"#4d9221\"],[1,\"#276419\"]],\"sequential\":[[0.0,\"#0d0887\"],[0.1111111111111111,\"#46039f\"],[0.2222222222222222,\"#7201a8\"],[0.3333333333333333,\"#9c179e\"],[0.4444444444444444,\"#bd3786\"],[0.5555555555555556,\"#d8576b\"],[0.6666666666666666,\"#ed7953\"],[0.7777777777777778,\"#fb9f3a\"],[0.8888888888888888,\"#fdca26\"],[1.0,\"#f0f921\"]],\"sequentialminus\":[[0.0,\"#0d0887\"],[0.1111111111111111,\"#46039f\"],[0.2222222222222222,\"#7201a8\"],[0.3333333333333333,\"#9c179e\"],[0.4444444444444444,\"#bd3786\"],[0.5555555555555556,\"#d8576b\"],[0.6666666666666666,\"#ed7953\"],[0.7777777777777778,\"#fb9f3a\"],[0.8888888888888888,\"#fdca26\"],[1.0,\"#f0f921\"]]},\"colorway\":[\"#636efa\",\"#EF553B\",\"#00cc96\",\"#ab63fa\",\"#FFA15A\",\"#19d3f3\",\"#FF6692\",\"#B6E880\",\"#FF97FF\",\"#FECB52\"],\"font\":{\"color\":\"#2a3f5f\"},\"geo\":{\"bgcolor\":\"white\",\"lakecolor\":\"white\",\"landcolor\":\"#E5ECF6\",\"showlakes\":true,\"showland\":true,\"subunitcolor\":\"white\"},\"hoverlabel\":{\"align\":\"left\"},\"hovermode\":\"closest\",\"mapbox\":{\"style\":\"light\"},\"paper_bgcolor\":\"white\",\"plot_bgcolor\":\"#E5ECF6\",\"polar\":{\"angularaxis\":{\"gridcolor\":\"white\",\"linecolor\":\"white\",\"ticks\":\"\"},\"bgcolor\":\"#E5ECF6\",\"radialaxis\":{\"gridcolor\":\"white\",\"linecolor\":\"white\",\"ticks\":\"\"}},\"scene\":{\"xaxis\":{\"backgroundcolor\":\"#E5ECF6\",\"gridcolor\":\"white\",\"gridwidth\":2,\"linecolor\":\"white\",\"showbackground\":true,\"ticks\":\"\",\"zerolinecolor\":\"white\"},\"yaxis\":{\"backgroundcolor\":\"#E5ECF6\",\"gridcolor\":\"white\",\"gridwidth\":2,\"linecolor\":\"white\",\"showbackground\":true,\"ticks\":\"\",\"zerolinecolor\":\"white\"},\"zaxis\":{\"backgroundcolor\":\"#E5ECF6\",\"gridcolor\":\"white\",\"gridwidth\":2,\"linecolor\":\"white\",\"showbackground\":true,\"ticks\":\"\",\"zerolinecolor\":\"white\"}},\"shapedefaults\":{\"line\":{\"color\":\"#2a3f5f\"}},\"ternary\":{\"aaxis\":{\"gridcolor\":\"white\",\"linecolor\":\"white\",\"ticks\":\"\"},\"baxis\":{\"gridcolor\":\"white\",\"linecolor\":\"white\",\"ticks\":\"\"},\"bgcolor\":\"#E5ECF6\",\"caxis\":{\"gridcolor\":\"white\",\"linecolor\":\"white\",\"ticks\":\"\"}},\"title\":{\"x\":0.05},\"xaxis\":{\"automargin\":true,\"gridcolor\":\"white\",\"linecolor\":\"white\",\"ticks\":\"\",\"title\":{\"standoff\":15},\"zerolinecolor\":\"white\",\"zerolinewidth\":2},\"yaxis\":{\"automargin\":true,\"gridcolor\":\"white\",\"linecolor\":\"white\",\"ticks\":\"\",\"title\":{\"standoff\":15},\"zerolinecolor\":\"white\",\"zerolinewidth\":2}}},\"title\":{\"font\":{\"color\":\"#4D5663\"}},\"xaxis\":{\"gridcolor\":\"#E1E5ED\",\"showgrid\":true,\"tickfont\":{\"color\":\"#4D5663\"},\"title\":{\"font\":{\"color\":\"#4D5663\"},\"text\":\"\"},\"zerolinecolor\":\"#E1E5ED\"},\"yaxis\":{\"gridcolor\":\"#E1E5ED\",\"showgrid\":true,\"tickfont\":{\"color\":\"#4D5663\"},\"title\":{\"font\":{\"color\":\"#4D5663\"},\"text\":\"\"},\"zerolinecolor\":\"#E1E5ED\"}},                        {\"showLink\": true, \"linkText\": \"Export to plot.ly\", \"plotlyServerURL\": \"https://plot.ly\", \"responsive\": true}                    ).then(function(){\n",
       "                            \n",
       "var gd = document.getElementById('d81ec629-4e29-4b55-86ab-d5dc2a19b73d');\n",
       "var x = new MutationObserver(function (mutations, observer) {{\n",
       "        var display = window.getComputedStyle(gd).display;\n",
       "        if (!display || display === 'none') {{\n",
       "            console.log([gd, 'removed!']);\n",
       "            Plotly.purge(gd);\n",
       "            observer.disconnect();\n",
       "        }}\n",
       "}});\n",
       "\n",
       "// Listen for the removal of the full notebook cells\n",
       "var notebookContainer = gd.closest('#notebook-container');\n",
       "if (notebookContainer) {{\n",
       "    x.observe(notebookContainer, {childList: true});\n",
       "}}\n",
       "\n",
       "// Listen for the clearing of the current output cell\n",
       "var outputEl = gd.closest('.output');\n",
       "if (outputEl) {{\n",
       "    x.observe(outputEl, {childList: true});\n",
       "}}\n",
       "\n",
       "                        })                };                });            </script>        </div>"
      ]
     },
     "metadata": {},
     "output_type": "display_data"
    }
   ],
   "source": [
    "df2.iplot(kind=\"bar\",x=\"Categories\",y=\"Values\",size=10)"
   ]
  },
  {
   "cell_type": "code",
   "execution_count": 19,
   "id": "5a21d554",
   "metadata": {},
   "outputs": [
    {
     "data": {
      "application/vnd.plotly.v1+json": {
       "config": {
        "linkText": "Export to plot.ly",
        "plotlyServerURL": "https://plot.ly",
        "showLink": true
       },
       "data": [
        {
         "marker": {
          "color": "rgba(255, 153, 51, 0.6)",
          "line": {
           "color": "rgba(255, 153, 51, 1.0)",
           "width": 1
          }
         },
         "name": "A",
         "orientation": "v",
         "text": "",
         "type": "bar",
         "x": [
          0,
          1,
          2,
          3,
          4,
          5,
          6,
          7,
          8,
          9,
          10,
          11,
          12,
          13,
          14,
          15,
          16,
          17,
          18,
          19,
          20,
          21,
          22,
          23,
          24,
          25,
          26,
          27,
          28,
          29,
          30,
          31,
          32,
          33,
          34,
          35,
          36,
          37,
          38,
          39,
          40,
          41,
          42,
          43,
          44,
          45,
          46,
          47,
          48,
          49,
          50,
          51,
          52,
          53,
          54,
          55,
          56,
          57,
          58,
          59,
          60,
          61,
          62,
          63,
          64,
          65,
          66,
          67,
          68,
          69,
          70,
          71,
          72,
          73,
          74,
          75,
          76,
          77,
          78,
          79,
          80,
          81,
          82,
          83,
          84,
          85,
          86,
          87,
          88,
          89,
          90,
          91,
          92,
          93,
          94,
          95,
          96,
          97,
          98,
          99
         ],
         "y": [
          -0.9295482987691611,
          0.4996509360917784,
          -0.31178784381970565,
          -0.2591828995133058,
          -0.2403254599818755,
          0.30007424500314445,
          -1.9519399516746074,
          0.36101710108782775,
          1.1405599367929218,
          -1.0796063330029473,
          0.5190388920390553,
          1.5295361900831612,
          2.2008109795602016,
          0.8296048530293078,
          -0.21937304858767648,
          -0.9074792394033,
          -0.2871592266959784,
          -0.05545890921396091,
          -0.4966932594692695,
          -0.2128516157570282,
          1.124592371454574,
          0.6228995695801925,
          0.9256230617994263,
          -1.768887800317044,
          -0.2874149202115096,
          -0.7825545526319378,
          -2.64432200458736,
          0.7457461109123886,
          -1.1428281744977538,
          1.2210663863390592,
          -0.9131644958788138,
          0.13217834318366903,
          0.6381113620115724,
          1.4342735786591516,
          -0.5436898268763243,
          0.7137862193664714,
          0.5120364676493256,
          -2.0607142312389986,
          0.07250257019407771,
          -0.6579877485369979,
          -1.1492108033028867,
          -2.2536437617141516,
          1.0563020796557212,
          -1.0720178624058692,
          -1.1189016921464603,
          -0.29284164619717207,
          -0.20830520279926823,
          1.0822730128583236,
          1.0213249027809796,
          1.2876384897836826,
          1.8125915692022887,
          -0.3517345744446924,
          0.45361035245361936,
          -0.7548380530713608,
          0.4509916465215894,
          0.010825510343471153,
          1.1954626376691377,
          1.7044799601908844,
          -0.2512587274155817,
          -0.007463326957457436,
          1.5214107591436405,
          0.34186384567971756,
          -0.34838956178384545,
          -0.02149537492129532,
          -0.2557559357224352,
          1.8115002849071817,
          0.8989054113028747,
          -0.8478793667167331,
          -0.4388345973955879,
          0.5897765192462224,
          0.9169989960247112,
          -0.29584764364758287,
          0.40964963403229865,
          -0.2765551854394092,
          0.7309271904230744,
          -0.05169151931672703,
          -0.6487263477835327,
          -0.15937602857333696,
          -0.669650111705374,
          1.6529366895888808,
          0.2725091941094338,
          -0.84418871539521,
          -1.0214046898022509,
          -0.5985785583610419,
          0.9281497551503964,
          -1.4386926646965128,
          1.6413444776995776,
          -2.2123830364218984,
          0.7903787489224429,
          -1.0744732634516792,
          0.745393189760668,
          0.4996178124858752,
          -0.46560119110781123,
          0.15969763101542492,
          0.142503896532929,
          1.3709466265440287,
          0.9711336472637876,
          -0.38754055633141615,
          -1.1752089873333424,
          0.27340068072325535
         ]
        },
        {
         "marker": {
          "color": "rgba(55, 128, 191, 0.6)",
          "line": {
           "color": "rgba(55, 128, 191, 1.0)",
           "width": 1
          }
         },
         "name": "B",
         "orientation": "v",
         "text": "",
         "type": "bar",
         "x": [
          0,
          1,
          2,
          3,
          4,
          5,
          6,
          7,
          8,
          9,
          10,
          11,
          12,
          13,
          14,
          15,
          16,
          17,
          18,
          19,
          20,
          21,
          22,
          23,
          24,
          25,
          26,
          27,
          28,
          29,
          30,
          31,
          32,
          33,
          34,
          35,
          36,
          37,
          38,
          39,
          40,
          41,
          42,
          43,
          44,
          45,
          46,
          47,
          48,
          49,
          50,
          51,
          52,
          53,
          54,
          55,
          56,
          57,
          58,
          59,
          60,
          61,
          62,
          63,
          64,
          65,
          66,
          67,
          68,
          69,
          70,
          71,
          72,
          73,
          74,
          75,
          76,
          77,
          78,
          79,
          80,
          81,
          82,
          83,
          84,
          85,
          86,
          87,
          88,
          89,
          90,
          91,
          92,
          93,
          94,
          95,
          96,
          97,
          98,
          99
         ],
         "y": [
          0.10595209962862051,
          0.3368667122382836,
          -0.32861230975248373,
          -0.11664858440555267,
          -0.10862895251019854,
          0.14676101096132724,
          1.6550509248816598,
          0.3116991407512059,
          -1.5333273766171769,
          0.67351956523506,
          -0.23293658066056874,
          0.5298539546678004,
          1.2706339922049268,
          1.4485075051766172,
          0.6779059423904159,
          -0.7164141937146591,
          0.8245757552822287,
          2.4213154151349485,
          -0.6875266309878802,
          -0.19741347908494278,
          0.6573721821252815,
          0.2773927166267599,
          0.18443657890013604,
          0.20841105872778784,
          1.014443830916647,
          -0.6614530154293072,
          0.7795405780388421,
          1.1763647687901904,
          -1.426400518831791,
          -0.8862199762393453,
          -0.5432851756689908,
          0.5612441198207622,
          0.14759371236534652,
          -1.569694238419562,
          2.2741377167085077,
          -1.3286017158605619,
          -0.6547759337607292,
          0.5409293803814273,
          -1.7140672889540483,
          -0.838762524216867,
          2.052568027382253,
          1.2479484516423567,
          -0.5050471421968736,
          1.3906132917773977,
          0.9304278500231088,
          -0.5005788549389664,
          1.0139570932698092,
          1.4099756691177323,
          -0.7284825751458816,
          0.47323279459070394,
          -0.8126917762346638,
          0.6377954621777114,
          -0.3174047711249694,
          -1.7756135983404886,
          -0.2363797892406345,
          -0.7970716486495877,
          -0.3332925771997845,
          0.3137937224354294,
          -0.612749019434206,
          -0.07558111642014288,
          -0.9898859959734786,
          -0.45302566262413996,
          -0.542805561663329,
          -1.2844203082105614,
          -0.11354301196306125,
          -2.546874494300865,
          0.9872274735141424,
          -2.4060412325529983,
          0.7406303040060868,
          1.3494134213350881,
          -0.08353953585239972,
          -0.8649105520646212,
          0.5482770228978523,
          0.3018624903593867,
          -1.2696542402185156,
          -0.503774941664004,
          -0.4457561076351454,
          0.34242334816657516,
          -0.11692153010067262,
          -0.7692072862521319,
          -0.3210876224228783,
          -1.3428735501149156,
          0.08140321965759581,
          1.4726724276119887,
          -1.6872778504307941,
          0.7379616404172885,
          0.7541415956944442,
          0.6119192924558464,
          -0.6805248104558588,
          -0.011614579413123783,
          -0.9751368919345605,
          0.1766886661379514,
          -0.4773258381639982,
          -1.7259606922075275,
          -0.09290092035809304,
          -0.34934252493462165,
          -0.5455826577301464,
          1.223290635135926,
          -1.332442683803005,
          -0.4849294268598528
         ]
        },
        {
         "marker": {
          "color": "rgba(50, 171, 96, 0.6)",
          "line": {
           "color": "rgba(50, 171, 96, 1.0)",
           "width": 1
          }
         },
         "name": "C",
         "orientation": "v",
         "text": "",
         "type": "bar",
         "x": [
          0,
          1,
          2,
          3,
          4,
          5,
          6,
          7,
          8,
          9,
          10,
          11,
          12,
          13,
          14,
          15,
          16,
          17,
          18,
          19,
          20,
          21,
          22,
          23,
          24,
          25,
          26,
          27,
          28,
          29,
          30,
          31,
          32,
          33,
          34,
          35,
          36,
          37,
          38,
          39,
          40,
          41,
          42,
          43,
          44,
          45,
          46,
          47,
          48,
          49,
          50,
          51,
          52,
          53,
          54,
          55,
          56,
          57,
          58,
          59,
          60,
          61,
          62,
          63,
          64,
          65,
          66,
          67,
          68,
          69,
          70,
          71,
          72,
          73,
          74,
          75,
          76,
          77,
          78,
          79,
          80,
          81,
          82,
          83,
          84,
          85,
          86,
          87,
          88,
          89,
          90,
          91,
          92,
          93,
          94,
          95,
          96,
          97,
          98,
          99
         ],
         "y": [
          -0.26802567468283556,
          0.4072064013410601,
          0.6461005840226851,
          -0.585094742432191,
          0.3573995808954022,
          0.32157802210804975,
          -0.16919911676177468,
          -0.6706351029537011,
          1.0804040578855634,
          0.28189287438921745,
          -0.36165626203156503,
          0.40971416164952523,
          1.4437380666462036,
          -0.005032774531809589,
          0.43212530479678285,
          -0.10952316599517305,
          0.38262622234589144,
          0.6467377811036394,
          0.8685111970322607,
          -0.7510330180894015,
          -1.3548579307174067,
          0.8498325036801762,
          0.8060292524603478,
          -0.05838667707323915,
          0.4463018940239507,
          -0.8859584831710968,
          -0.7689079747608597,
          -0.33101433492673465,
          -0.16646933127108451,
          -2.2234210272232295,
          0.09320745950272975,
          0.09399434578019715,
          1.1755308625746566,
          0.04959081536101905,
          -0.12548887832494862,
          0.553291027320834,
          -0.006846847112921158,
          -1.0940902480963026,
          1.6992610567702078,
          -1.2201513753331235,
          -1.016998263095646,
          1.2410220960272613,
          0.5650521741319647,
          0.3948693228115939,
          -0.34898058136686005,
          0.041142085742882646,
          -0.40728021294539435,
          -0.3383063368079199,
          -0.3064599522234884,
          -1.5547550522193543,
          0.8990539365717387,
          -1.0357492276649602,
          -1.7055721268397044,
          -0.9353285485181945,
          0.40881727840120746,
          1.0457842403635524,
          1.16072135846228,
          0.7733499372932843,
          0.06912451400348932,
          1.7668257964874858,
          -0.07370408678810107,
          -0.5992648954960853,
          0.0031839077604649863,
          -0.15511925879835184,
          1.2553790745400344,
          0.9800336531789141,
          -0.5852912967995566,
          2.6036916226598654,
          -0.9272942988762053,
          0.6237809786781634,
          1.0568500925681823,
          -1.09659045862584,
          -0.17215484003221654,
          0.43585654614856795,
          -0.9267392510841177,
          0.08561210853793365,
          -0.3289460799806062,
          0.36408037266220034,
          -0.6158920904266694,
          1.8758077683489707,
          -0.2488697686696133,
          0.08909926398044783,
          -0.019913649723522293,
          -1.5108509182391463,
          0.10809714907300454,
          0.8552468524058905,
          -0.12208852143184143,
          0.2991215257437905,
          -1.1485090797225774,
          -0.5535953264037937,
          -1.662812170312761,
          -0.1404449423341458,
          1.2988339639252369,
          1.16562945649828,
          -0.2227008673477981,
          -0.5308299782064171,
          2.509031912866535,
          -0.6009943623260816,
          1.1700763481812035,
          0.35973613592097686
         ]
        },
        {
         "marker": {
          "color": "rgba(128, 0, 128, 0.6)",
          "line": {
           "color": "rgba(128, 0, 128, 1.0)",
           "width": 1
          }
         },
         "name": "D",
         "orientation": "v",
         "text": "",
         "type": "bar",
         "x": [
          0,
          1,
          2,
          3,
          4,
          5,
          6,
          7,
          8,
          9,
          10,
          11,
          12,
          13,
          14,
          15,
          16,
          17,
          18,
          19,
          20,
          21,
          22,
          23,
          24,
          25,
          26,
          27,
          28,
          29,
          30,
          31,
          32,
          33,
          34,
          35,
          36,
          37,
          38,
          39,
          40,
          41,
          42,
          43,
          44,
          45,
          46,
          47,
          48,
          49,
          50,
          51,
          52,
          53,
          54,
          55,
          56,
          57,
          58,
          59,
          60,
          61,
          62,
          63,
          64,
          65,
          66,
          67,
          68,
          69,
          70,
          71,
          72,
          73,
          74,
          75,
          76,
          77,
          78,
          79,
          80,
          81,
          82,
          83,
          84,
          85,
          86,
          87,
          88,
          89,
          90,
          91,
          92,
          93,
          94,
          95,
          96,
          97,
          98,
          99
         ],
         "y": [
          0.7068382862261344,
          -1.1354893661264782,
          -1.7781266223186643,
          -0.9993895145453797,
          0.7042164203531522,
          0.9560405384881885,
          0.6661290584108193,
          -0.17098627336289118,
          -0.47884943263231966,
          -2.364822463910428,
          -0.0008059323625490484,
          0.6236349146203897,
          0.5037184545770702,
          1.1317450982256376,
          0.5119154714049131,
          0.35932707096735206,
          -0.3663534598741199,
          1.1365877533477184,
          0.25417329023146695,
          -0.44218525948407367,
          -0.20119332766821338,
          1.608501409910512,
          -0.2712631460420925,
          -1.6439170779887486,
          0.17876806439418744,
          -1.288364838351231,
          1.2805278667353834,
          -1.0964905172034007,
          0.30062751958857203,
          -0.6195883464015917,
          1.3953980794196124,
          -1.208577640700005,
          0.960288245147989,
          -0.10901010075566653,
          -2.3995701108243384,
          -0.36352542201312005,
          0.520071777572679,
          0.5870382951239345,
          -0.8908329994099303,
          -0.46467533439840847,
          0.44781348803887583,
          1.5502356297804298,
          -0.09040555203215514,
          -0.007487830982206106,
          0.06304393372088818,
          -0.6021066876958482,
          -1.0452906870455307,
          0.04280170582626668,
          -0.374925053066271,
          -0.4093096611172787,
          -0.6815199755518858,
          -1.3584991478390136,
          -0.21632291529302258,
          1.11653509881535,
          -0.5512004547220558,
          0.7478135005541695,
          -0.7490802983477098,
          -0.7604155260542467,
          0.6323449927814072,
          0.48741777333043423,
          0.6738819084446128,
          0.346537145554769,
          -1.3061140130711606,
          0.8523478278571408,
          -0.2674966200617749,
          1.4248199828370094,
          -1.361545126902172,
          -0.22969931647517633,
          0.5756343142379796,
          1.2419495328788337,
          0.2484676967568032,
          1.5108745019052454,
          0.1781643691802824,
          -0.7239239997563465,
          -0.5524484345105191,
          -0.4542635822135648,
          1.239574019326204,
          -1.5166528118645612,
          0.1747359681792644,
          1.634349529239444,
          1.003128860486491,
          1.2316416206606728,
          -0.17373482053450465,
          0.6162503121616846,
          -0.296214462536699,
          -0.5833585512581337,
          -0.4948835396241225,
          -0.8975781417605502,
          0.09909788460379772,
          0.6993703963369102,
          -0.8098029075127882,
          -0.26295061467659503,
          -0.8758753227702814,
          -2.1778422617440167,
          1.342235000783719,
          0.5991546221405155,
          -0.4741195581901758,
          -1.1317104802699056,
          1.4645657932255527,
          -0.5061935595988273
         ]
        }
       ],
       "layout": {
        "legend": {
         "bgcolor": "#F5F6F9",
         "font": {
          "color": "#4D5663"
         }
        },
        "paper_bgcolor": "#F5F6F9",
        "plot_bgcolor": "#F5F6F9",
        "template": {
         "data": {
          "bar": [
           {
            "error_x": {
             "color": "#2a3f5f"
            },
            "error_y": {
             "color": "#2a3f5f"
            },
            "marker": {
             "line": {
              "color": "#E5ECF6",
              "width": 0.5
             },
             "pattern": {
              "fillmode": "overlay",
              "size": 10,
              "solidity": 0.2
             }
            },
            "type": "bar"
           }
          ],
          "barpolar": [
           {
            "marker": {
             "line": {
              "color": "#E5ECF6",
              "width": 0.5
             },
             "pattern": {
              "fillmode": "overlay",
              "size": 10,
              "solidity": 0.2
             }
            },
            "type": "barpolar"
           }
          ],
          "carpet": [
           {
            "aaxis": {
             "endlinecolor": "#2a3f5f",
             "gridcolor": "white",
             "linecolor": "white",
             "minorgridcolor": "white",
             "startlinecolor": "#2a3f5f"
            },
            "baxis": {
             "endlinecolor": "#2a3f5f",
             "gridcolor": "white",
             "linecolor": "white",
             "minorgridcolor": "white",
             "startlinecolor": "#2a3f5f"
            },
            "type": "carpet"
           }
          ],
          "choropleth": [
           {
            "colorbar": {
             "outlinewidth": 0,
             "ticks": ""
            },
            "type": "choropleth"
           }
          ],
          "contour": [
           {
            "colorbar": {
             "outlinewidth": 0,
             "ticks": ""
            },
            "colorscale": [
             [
              0,
              "#0d0887"
             ],
             [
              0.1111111111111111,
              "#46039f"
             ],
             [
              0.2222222222222222,
              "#7201a8"
             ],
             [
              0.3333333333333333,
              "#9c179e"
             ],
             [
              0.4444444444444444,
              "#bd3786"
             ],
             [
              0.5555555555555556,
              "#d8576b"
             ],
             [
              0.6666666666666666,
              "#ed7953"
             ],
             [
              0.7777777777777778,
              "#fb9f3a"
             ],
             [
              0.8888888888888888,
              "#fdca26"
             ],
             [
              1,
              "#f0f921"
             ]
            ],
            "type": "contour"
           }
          ],
          "contourcarpet": [
           {
            "colorbar": {
             "outlinewidth": 0,
             "ticks": ""
            },
            "type": "contourcarpet"
           }
          ],
          "heatmap": [
           {
            "colorbar": {
             "outlinewidth": 0,
             "ticks": ""
            },
            "colorscale": [
             [
              0,
              "#0d0887"
             ],
             [
              0.1111111111111111,
              "#46039f"
             ],
             [
              0.2222222222222222,
              "#7201a8"
             ],
             [
              0.3333333333333333,
              "#9c179e"
             ],
             [
              0.4444444444444444,
              "#bd3786"
             ],
             [
              0.5555555555555556,
              "#d8576b"
             ],
             [
              0.6666666666666666,
              "#ed7953"
             ],
             [
              0.7777777777777778,
              "#fb9f3a"
             ],
             [
              0.8888888888888888,
              "#fdca26"
             ],
             [
              1,
              "#f0f921"
             ]
            ],
            "type": "heatmap"
           }
          ],
          "heatmapgl": [
           {
            "colorbar": {
             "outlinewidth": 0,
             "ticks": ""
            },
            "colorscale": [
             [
              0,
              "#0d0887"
             ],
             [
              0.1111111111111111,
              "#46039f"
             ],
             [
              0.2222222222222222,
              "#7201a8"
             ],
             [
              0.3333333333333333,
              "#9c179e"
             ],
             [
              0.4444444444444444,
              "#bd3786"
             ],
             [
              0.5555555555555556,
              "#d8576b"
             ],
             [
              0.6666666666666666,
              "#ed7953"
             ],
             [
              0.7777777777777778,
              "#fb9f3a"
             ],
             [
              0.8888888888888888,
              "#fdca26"
             ],
             [
              1,
              "#f0f921"
             ]
            ],
            "type": "heatmapgl"
           }
          ],
          "histogram": [
           {
            "marker": {
             "pattern": {
              "fillmode": "overlay",
              "size": 10,
              "solidity": 0.2
             }
            },
            "type": "histogram"
           }
          ],
          "histogram2d": [
           {
            "colorbar": {
             "outlinewidth": 0,
             "ticks": ""
            },
            "colorscale": [
             [
              0,
              "#0d0887"
             ],
             [
              0.1111111111111111,
              "#46039f"
             ],
             [
              0.2222222222222222,
              "#7201a8"
             ],
             [
              0.3333333333333333,
              "#9c179e"
             ],
             [
              0.4444444444444444,
              "#bd3786"
             ],
             [
              0.5555555555555556,
              "#d8576b"
             ],
             [
              0.6666666666666666,
              "#ed7953"
             ],
             [
              0.7777777777777778,
              "#fb9f3a"
             ],
             [
              0.8888888888888888,
              "#fdca26"
             ],
             [
              1,
              "#f0f921"
             ]
            ],
            "type": "histogram2d"
           }
          ],
          "histogram2dcontour": [
           {
            "colorbar": {
             "outlinewidth": 0,
             "ticks": ""
            },
            "colorscale": [
             [
              0,
              "#0d0887"
             ],
             [
              0.1111111111111111,
              "#46039f"
             ],
             [
              0.2222222222222222,
              "#7201a8"
             ],
             [
              0.3333333333333333,
              "#9c179e"
             ],
             [
              0.4444444444444444,
              "#bd3786"
             ],
             [
              0.5555555555555556,
              "#d8576b"
             ],
             [
              0.6666666666666666,
              "#ed7953"
             ],
             [
              0.7777777777777778,
              "#fb9f3a"
             ],
             [
              0.8888888888888888,
              "#fdca26"
             ],
             [
              1,
              "#f0f921"
             ]
            ],
            "type": "histogram2dcontour"
           }
          ],
          "mesh3d": [
           {
            "colorbar": {
             "outlinewidth": 0,
             "ticks": ""
            },
            "type": "mesh3d"
           }
          ],
          "parcoords": [
           {
            "line": {
             "colorbar": {
              "outlinewidth": 0,
              "ticks": ""
             }
            },
            "type": "parcoords"
           }
          ],
          "pie": [
           {
            "automargin": true,
            "type": "pie"
           }
          ],
          "scatter": [
           {
            "fillpattern": {
             "fillmode": "overlay",
             "size": 10,
             "solidity": 0.2
            },
            "type": "scatter"
           }
          ],
          "scatter3d": [
           {
            "line": {
             "colorbar": {
              "outlinewidth": 0,
              "ticks": ""
             }
            },
            "marker": {
             "colorbar": {
              "outlinewidth": 0,
              "ticks": ""
             }
            },
            "type": "scatter3d"
           }
          ],
          "scattercarpet": [
           {
            "marker": {
             "colorbar": {
              "outlinewidth": 0,
              "ticks": ""
             }
            },
            "type": "scattercarpet"
           }
          ],
          "scattergeo": [
           {
            "marker": {
             "colorbar": {
              "outlinewidth": 0,
              "ticks": ""
             }
            },
            "type": "scattergeo"
           }
          ],
          "scattergl": [
           {
            "marker": {
             "colorbar": {
              "outlinewidth": 0,
              "ticks": ""
             }
            },
            "type": "scattergl"
           }
          ],
          "scattermapbox": [
           {
            "marker": {
             "colorbar": {
              "outlinewidth": 0,
              "ticks": ""
             }
            },
            "type": "scattermapbox"
           }
          ],
          "scatterpolar": [
           {
            "marker": {
             "colorbar": {
              "outlinewidth": 0,
              "ticks": ""
             }
            },
            "type": "scatterpolar"
           }
          ],
          "scatterpolargl": [
           {
            "marker": {
             "colorbar": {
              "outlinewidth": 0,
              "ticks": ""
             }
            },
            "type": "scatterpolargl"
           }
          ],
          "scatterternary": [
           {
            "marker": {
             "colorbar": {
              "outlinewidth": 0,
              "ticks": ""
             }
            },
            "type": "scatterternary"
           }
          ],
          "surface": [
           {
            "colorbar": {
             "outlinewidth": 0,
             "ticks": ""
            },
            "colorscale": [
             [
              0,
              "#0d0887"
             ],
             [
              0.1111111111111111,
              "#46039f"
             ],
             [
              0.2222222222222222,
              "#7201a8"
             ],
             [
              0.3333333333333333,
              "#9c179e"
             ],
             [
              0.4444444444444444,
              "#bd3786"
             ],
             [
              0.5555555555555556,
              "#d8576b"
             ],
             [
              0.6666666666666666,
              "#ed7953"
             ],
             [
              0.7777777777777778,
              "#fb9f3a"
             ],
             [
              0.8888888888888888,
              "#fdca26"
             ],
             [
              1,
              "#f0f921"
             ]
            ],
            "type": "surface"
           }
          ],
          "table": [
           {
            "cells": {
             "fill": {
              "color": "#EBF0F8"
             },
             "line": {
              "color": "white"
             }
            },
            "header": {
             "fill": {
              "color": "#C8D4E3"
             },
             "line": {
              "color": "white"
             }
            },
            "type": "table"
           }
          ]
         },
         "layout": {
          "annotationdefaults": {
           "arrowcolor": "#2a3f5f",
           "arrowhead": 0,
           "arrowwidth": 1
          },
          "autotypenumbers": "strict",
          "coloraxis": {
           "colorbar": {
            "outlinewidth": 0,
            "ticks": ""
           }
          },
          "colorscale": {
           "diverging": [
            [
             0,
             "#8e0152"
            ],
            [
             0.1,
             "#c51b7d"
            ],
            [
             0.2,
             "#de77ae"
            ],
            [
             0.3,
             "#f1b6da"
            ],
            [
             0.4,
             "#fde0ef"
            ],
            [
             0.5,
             "#f7f7f7"
            ],
            [
             0.6,
             "#e6f5d0"
            ],
            [
             0.7,
             "#b8e186"
            ],
            [
             0.8,
             "#7fbc41"
            ],
            [
             0.9,
             "#4d9221"
            ],
            [
             1,
             "#276419"
            ]
           ],
           "sequential": [
            [
             0,
             "#0d0887"
            ],
            [
             0.1111111111111111,
             "#46039f"
            ],
            [
             0.2222222222222222,
             "#7201a8"
            ],
            [
             0.3333333333333333,
             "#9c179e"
            ],
            [
             0.4444444444444444,
             "#bd3786"
            ],
            [
             0.5555555555555556,
             "#d8576b"
            ],
            [
             0.6666666666666666,
             "#ed7953"
            ],
            [
             0.7777777777777778,
             "#fb9f3a"
            ],
            [
             0.8888888888888888,
             "#fdca26"
            ],
            [
             1,
             "#f0f921"
            ]
           ],
           "sequentialminus": [
            [
             0,
             "#0d0887"
            ],
            [
             0.1111111111111111,
             "#46039f"
            ],
            [
             0.2222222222222222,
             "#7201a8"
            ],
            [
             0.3333333333333333,
             "#9c179e"
            ],
            [
             0.4444444444444444,
             "#bd3786"
            ],
            [
             0.5555555555555556,
             "#d8576b"
            ],
            [
             0.6666666666666666,
             "#ed7953"
            ],
            [
             0.7777777777777778,
             "#fb9f3a"
            ],
            [
             0.8888888888888888,
             "#fdca26"
            ],
            [
             1,
             "#f0f921"
            ]
           ]
          },
          "colorway": [
           "#636efa",
           "#EF553B",
           "#00cc96",
           "#ab63fa",
           "#FFA15A",
           "#19d3f3",
           "#FF6692",
           "#B6E880",
           "#FF97FF",
           "#FECB52"
          ],
          "font": {
           "color": "#2a3f5f"
          },
          "geo": {
           "bgcolor": "white",
           "lakecolor": "white",
           "landcolor": "#E5ECF6",
           "showlakes": true,
           "showland": true,
           "subunitcolor": "white"
          },
          "hoverlabel": {
           "align": "left"
          },
          "hovermode": "closest",
          "mapbox": {
           "style": "light"
          },
          "paper_bgcolor": "white",
          "plot_bgcolor": "#E5ECF6",
          "polar": {
           "angularaxis": {
            "gridcolor": "white",
            "linecolor": "white",
            "ticks": ""
           },
           "bgcolor": "#E5ECF6",
           "radialaxis": {
            "gridcolor": "white",
            "linecolor": "white",
            "ticks": ""
           }
          },
          "scene": {
           "xaxis": {
            "backgroundcolor": "#E5ECF6",
            "gridcolor": "white",
            "gridwidth": 2,
            "linecolor": "white",
            "showbackground": true,
            "ticks": "",
            "zerolinecolor": "white"
           },
           "yaxis": {
            "backgroundcolor": "#E5ECF6",
            "gridcolor": "white",
            "gridwidth": 2,
            "linecolor": "white",
            "showbackground": true,
            "ticks": "",
            "zerolinecolor": "white"
           },
           "zaxis": {
            "backgroundcolor": "#E5ECF6",
            "gridcolor": "white",
            "gridwidth": 2,
            "linecolor": "white",
            "showbackground": true,
            "ticks": "",
            "zerolinecolor": "white"
           }
          },
          "shapedefaults": {
           "line": {
            "color": "#2a3f5f"
           }
          },
          "ternary": {
           "aaxis": {
            "gridcolor": "white",
            "linecolor": "white",
            "ticks": ""
           },
           "baxis": {
            "gridcolor": "white",
            "linecolor": "white",
            "ticks": ""
           },
           "bgcolor": "#E5ECF6",
           "caxis": {
            "gridcolor": "white",
            "linecolor": "white",
            "ticks": ""
           }
          },
          "title": {
           "x": 0.05
          },
          "xaxis": {
           "automargin": true,
           "gridcolor": "white",
           "linecolor": "white",
           "ticks": "",
           "title": {
            "standoff": 15
           },
           "zerolinecolor": "white",
           "zerolinewidth": 2
          },
          "yaxis": {
           "automargin": true,
           "gridcolor": "white",
           "linecolor": "white",
           "ticks": "",
           "title": {
            "standoff": 15
           },
           "zerolinecolor": "white",
           "zerolinewidth": 2
          }
         }
        },
        "title": {
         "font": {
          "color": "#4D5663"
         }
        },
        "xaxis": {
         "gridcolor": "#E1E5ED",
         "showgrid": true,
         "tickfont": {
          "color": "#4D5663"
         },
         "title": {
          "font": {
           "color": "#4D5663"
          },
          "text": ""
         },
         "zerolinecolor": "#E1E5ED"
        },
        "yaxis": {
         "gridcolor": "#E1E5ED",
         "showgrid": true,
         "tickfont": {
          "color": "#4D5663"
         },
         "title": {
          "font": {
           "color": "#4D5663"
          },
          "text": ""
         },
         "zerolinecolor": "#E1E5ED"
        }
       }
      },
      "text/html": [
       "<div>                            <div id=\"12cb89a9-ed47-4dd5-8c0b-20ffe37399d5\" class=\"plotly-graph-div\" style=\"height:525px; width:100%;\"></div>            <script type=\"text/javascript\">                require([\"plotly\"], function(Plotly) {                    window.PLOTLYENV=window.PLOTLYENV || {};\n",
       "                    window.PLOTLYENV.BASE_URL='https://plot.ly';                                    if (document.getElementById(\"12cb89a9-ed47-4dd5-8c0b-20ffe37399d5\")) {                    Plotly.newPlot(                        \"12cb89a9-ed47-4dd5-8c0b-20ffe37399d5\",                        [{\"marker\":{\"color\":\"rgba(255, 153, 51, 0.6)\",\"line\":{\"color\":\"rgba(255, 153, 51, 1.0)\",\"width\":1}},\"name\":\"A\",\"orientation\":\"v\",\"text\":\"\",\"x\":[0,1,2,3,4,5,6,7,8,9,10,11,12,13,14,15,16,17,18,19,20,21,22,23,24,25,26,27,28,29,30,31,32,33,34,35,36,37,38,39,40,41,42,43,44,45,46,47,48,49,50,51,52,53,54,55,56,57,58,59,60,61,62,63,64,65,66,67,68,69,70,71,72,73,74,75,76,77,78,79,80,81,82,83,84,85,86,87,88,89,90,91,92,93,94,95,96,97,98,99],\"y\":[-0.9295482987691611,0.4996509360917784,-0.31178784381970565,-0.2591828995133058,-0.2403254599818755,0.30007424500314445,-1.9519399516746074,0.36101710108782775,1.1405599367929218,-1.0796063330029473,0.5190388920390553,1.5295361900831612,2.2008109795602016,0.8296048530293078,-0.21937304858767648,-0.9074792394033,-0.2871592266959784,-0.05545890921396091,-0.4966932594692695,-0.2128516157570282,1.124592371454574,0.6228995695801925,0.9256230617994263,-1.768887800317044,-0.2874149202115096,-0.7825545526319378,-2.64432200458736,0.7457461109123886,-1.1428281744977538,1.2210663863390592,-0.9131644958788138,0.13217834318366903,0.6381113620115724,1.4342735786591516,-0.5436898268763243,0.7137862193664714,0.5120364676493256,-2.0607142312389986,0.07250257019407771,-0.6579877485369979,-1.1492108033028867,-2.2536437617141516,1.0563020796557212,-1.0720178624058692,-1.1189016921464603,-0.29284164619717207,-0.20830520279926823,1.0822730128583236,1.0213249027809796,1.2876384897836826,1.8125915692022887,-0.3517345744446924,0.45361035245361936,-0.7548380530713608,0.4509916465215894,0.010825510343471153,1.1954626376691377,1.7044799601908844,-0.2512587274155817,-0.007463326957457436,1.5214107591436405,0.34186384567971756,-0.34838956178384545,-0.02149537492129532,-0.2557559357224352,1.8115002849071817,0.8989054113028747,-0.8478793667167331,-0.4388345973955879,0.5897765192462224,0.9169989960247112,-0.29584764364758287,0.40964963403229865,-0.2765551854394092,0.7309271904230744,-0.05169151931672703,-0.6487263477835327,-0.15937602857333696,-0.669650111705374,1.6529366895888808,0.2725091941094338,-0.84418871539521,-1.0214046898022509,-0.5985785583610419,0.9281497551503964,-1.4386926646965128,1.6413444776995776,-2.2123830364218984,0.7903787489224429,-1.0744732634516792,0.745393189760668,0.4996178124858752,-0.46560119110781123,0.15969763101542492,0.142503896532929,1.3709466265440287,0.9711336472637876,-0.38754055633141615,-1.1752089873333424,0.27340068072325535],\"type\":\"bar\"},{\"marker\":{\"color\":\"rgba(55, 128, 191, 0.6)\",\"line\":{\"color\":\"rgba(55, 128, 191, 1.0)\",\"width\":1}},\"name\":\"B\",\"orientation\":\"v\",\"text\":\"\",\"x\":[0,1,2,3,4,5,6,7,8,9,10,11,12,13,14,15,16,17,18,19,20,21,22,23,24,25,26,27,28,29,30,31,32,33,34,35,36,37,38,39,40,41,42,43,44,45,46,47,48,49,50,51,52,53,54,55,56,57,58,59,60,61,62,63,64,65,66,67,68,69,70,71,72,73,74,75,76,77,78,79,80,81,82,83,84,85,86,87,88,89,90,91,92,93,94,95,96,97,98,99],\"y\":[0.10595209962862051,0.3368667122382836,-0.32861230975248373,-0.11664858440555267,-0.10862895251019854,0.14676101096132724,1.6550509248816598,0.3116991407512059,-1.5333273766171769,0.67351956523506,-0.23293658066056874,0.5298539546678004,1.2706339922049268,1.4485075051766172,0.6779059423904159,-0.7164141937146591,0.8245757552822287,2.4213154151349485,-0.6875266309878802,-0.19741347908494278,0.6573721821252815,0.2773927166267599,0.18443657890013604,0.20841105872778784,1.014443830916647,-0.6614530154293072,0.7795405780388421,1.1763647687901904,-1.426400518831791,-0.8862199762393453,-0.5432851756689908,0.5612441198207622,0.14759371236534652,-1.569694238419562,2.2741377167085077,-1.3286017158605619,-0.6547759337607292,0.5409293803814273,-1.7140672889540483,-0.838762524216867,2.052568027382253,1.2479484516423567,-0.5050471421968736,1.3906132917773977,0.9304278500231088,-0.5005788549389664,1.0139570932698092,1.4099756691177323,-0.7284825751458816,0.47323279459070394,-0.8126917762346638,0.6377954621777114,-0.3174047711249694,-1.7756135983404886,-0.2363797892406345,-0.7970716486495877,-0.3332925771997845,0.3137937224354294,-0.612749019434206,-0.07558111642014288,-0.9898859959734786,-0.45302566262413996,-0.542805561663329,-1.2844203082105614,-0.11354301196306125,-2.546874494300865,0.9872274735141424,-2.4060412325529983,0.7406303040060868,1.3494134213350881,-0.08353953585239972,-0.8649105520646212,0.5482770228978523,0.3018624903593867,-1.2696542402185156,-0.503774941664004,-0.4457561076351454,0.34242334816657516,-0.11692153010067262,-0.7692072862521319,-0.3210876224228783,-1.3428735501149156,0.08140321965759581,1.4726724276119887,-1.6872778504307941,0.7379616404172885,0.7541415956944442,0.6119192924558464,-0.6805248104558588,-0.011614579413123783,-0.9751368919345605,0.1766886661379514,-0.4773258381639982,-1.7259606922075275,-0.09290092035809304,-0.34934252493462165,-0.5455826577301464,1.223290635135926,-1.332442683803005,-0.4849294268598528],\"type\":\"bar\"},{\"marker\":{\"color\":\"rgba(50, 171, 96, 0.6)\",\"line\":{\"color\":\"rgba(50, 171, 96, 1.0)\",\"width\":1}},\"name\":\"C\",\"orientation\":\"v\",\"text\":\"\",\"x\":[0,1,2,3,4,5,6,7,8,9,10,11,12,13,14,15,16,17,18,19,20,21,22,23,24,25,26,27,28,29,30,31,32,33,34,35,36,37,38,39,40,41,42,43,44,45,46,47,48,49,50,51,52,53,54,55,56,57,58,59,60,61,62,63,64,65,66,67,68,69,70,71,72,73,74,75,76,77,78,79,80,81,82,83,84,85,86,87,88,89,90,91,92,93,94,95,96,97,98,99],\"y\":[-0.26802567468283556,0.4072064013410601,0.6461005840226851,-0.585094742432191,0.3573995808954022,0.32157802210804975,-0.16919911676177468,-0.6706351029537011,1.0804040578855634,0.28189287438921745,-0.36165626203156503,0.40971416164952523,1.4437380666462036,-0.005032774531809589,0.43212530479678285,-0.10952316599517305,0.38262622234589144,0.6467377811036394,0.8685111970322607,-0.7510330180894015,-1.3548579307174067,0.8498325036801762,0.8060292524603478,-0.05838667707323915,0.4463018940239507,-0.8859584831710968,-0.7689079747608597,-0.33101433492673465,-0.16646933127108451,-2.2234210272232295,0.09320745950272975,0.09399434578019715,1.1755308625746566,0.04959081536101905,-0.12548887832494862,0.553291027320834,-0.006846847112921158,-1.0940902480963026,1.6992610567702078,-1.2201513753331235,-1.016998263095646,1.2410220960272613,0.5650521741319647,0.3948693228115939,-0.34898058136686005,0.041142085742882646,-0.40728021294539435,-0.3383063368079199,-0.3064599522234884,-1.5547550522193543,0.8990539365717387,-1.0357492276649602,-1.7055721268397044,-0.9353285485181945,0.40881727840120746,1.0457842403635524,1.16072135846228,0.7733499372932843,0.06912451400348932,1.7668257964874858,-0.07370408678810107,-0.5992648954960853,0.0031839077604649863,-0.15511925879835184,1.2553790745400344,0.9800336531789141,-0.5852912967995566,2.6036916226598654,-0.9272942988762053,0.6237809786781634,1.0568500925681823,-1.09659045862584,-0.17215484003221654,0.43585654614856795,-0.9267392510841177,0.08561210853793365,-0.3289460799806062,0.36408037266220034,-0.6158920904266694,1.8758077683489707,-0.2488697686696133,0.08909926398044783,-0.019913649723522293,-1.5108509182391463,0.10809714907300454,0.8552468524058905,-0.12208852143184143,0.2991215257437905,-1.1485090797225774,-0.5535953264037937,-1.662812170312761,-0.1404449423341458,1.2988339639252369,1.16562945649828,-0.2227008673477981,-0.5308299782064171,2.509031912866535,-0.6009943623260816,1.1700763481812035,0.35973613592097686],\"type\":\"bar\"},{\"marker\":{\"color\":\"rgba(128, 0, 128, 0.6)\",\"line\":{\"color\":\"rgba(128, 0, 128, 1.0)\",\"width\":1}},\"name\":\"D\",\"orientation\":\"v\",\"text\":\"\",\"x\":[0,1,2,3,4,5,6,7,8,9,10,11,12,13,14,15,16,17,18,19,20,21,22,23,24,25,26,27,28,29,30,31,32,33,34,35,36,37,38,39,40,41,42,43,44,45,46,47,48,49,50,51,52,53,54,55,56,57,58,59,60,61,62,63,64,65,66,67,68,69,70,71,72,73,74,75,76,77,78,79,80,81,82,83,84,85,86,87,88,89,90,91,92,93,94,95,96,97,98,99],\"y\":[0.7068382862261344,-1.1354893661264782,-1.7781266223186643,-0.9993895145453797,0.7042164203531522,0.9560405384881885,0.6661290584108193,-0.17098627336289118,-0.47884943263231966,-2.364822463910428,-0.0008059323625490484,0.6236349146203897,0.5037184545770702,1.1317450982256376,0.5119154714049131,0.35932707096735206,-0.3663534598741199,1.1365877533477184,0.25417329023146695,-0.44218525948407367,-0.20119332766821338,1.608501409910512,-0.2712631460420925,-1.6439170779887486,0.17876806439418744,-1.288364838351231,1.2805278667353834,-1.0964905172034007,0.30062751958857203,-0.6195883464015917,1.3953980794196124,-1.208577640700005,0.960288245147989,-0.10901010075566653,-2.3995701108243384,-0.36352542201312005,0.520071777572679,0.5870382951239345,-0.8908329994099303,-0.46467533439840847,0.44781348803887583,1.5502356297804298,-0.09040555203215514,-0.007487830982206106,0.06304393372088818,-0.6021066876958482,-1.0452906870455307,0.04280170582626668,-0.374925053066271,-0.4093096611172787,-0.6815199755518858,-1.3584991478390136,-0.21632291529302258,1.11653509881535,-0.5512004547220558,0.7478135005541695,-0.7490802983477098,-0.7604155260542467,0.6323449927814072,0.48741777333043423,0.6738819084446128,0.346537145554769,-1.3061140130711606,0.8523478278571408,-0.2674966200617749,1.4248199828370094,-1.361545126902172,-0.22969931647517633,0.5756343142379796,1.2419495328788337,0.2484676967568032,1.5108745019052454,0.1781643691802824,-0.7239239997563465,-0.5524484345105191,-0.4542635822135648,1.239574019326204,-1.5166528118645612,0.1747359681792644,1.634349529239444,1.003128860486491,1.2316416206606728,-0.17373482053450465,0.6162503121616846,-0.296214462536699,-0.5833585512581337,-0.4948835396241225,-0.8975781417605502,0.09909788460379772,0.6993703963369102,-0.8098029075127882,-0.26295061467659503,-0.8758753227702814,-2.1778422617440167,1.342235000783719,0.5991546221405155,-0.4741195581901758,-1.1317104802699056,1.4645657932255527,-0.5061935595988273],\"type\":\"bar\"}],                        {\"legend\":{\"bgcolor\":\"#F5F6F9\",\"font\":{\"color\":\"#4D5663\"}},\"paper_bgcolor\":\"#F5F6F9\",\"plot_bgcolor\":\"#F5F6F9\",\"template\":{\"data\":{\"barpolar\":[{\"marker\":{\"line\":{\"color\":\"#E5ECF6\",\"width\":0.5},\"pattern\":{\"fillmode\":\"overlay\",\"size\":10,\"solidity\":0.2}},\"type\":\"barpolar\"}],\"bar\":[{\"error_x\":{\"color\":\"#2a3f5f\"},\"error_y\":{\"color\":\"#2a3f5f\"},\"marker\":{\"line\":{\"color\":\"#E5ECF6\",\"width\":0.5},\"pattern\":{\"fillmode\":\"overlay\",\"size\":10,\"solidity\":0.2}},\"type\":\"bar\"}],\"carpet\":[{\"aaxis\":{\"endlinecolor\":\"#2a3f5f\",\"gridcolor\":\"white\",\"linecolor\":\"white\",\"minorgridcolor\":\"white\",\"startlinecolor\":\"#2a3f5f\"},\"baxis\":{\"endlinecolor\":\"#2a3f5f\",\"gridcolor\":\"white\",\"linecolor\":\"white\",\"minorgridcolor\":\"white\",\"startlinecolor\":\"#2a3f5f\"},\"type\":\"carpet\"}],\"choropleth\":[{\"colorbar\":{\"outlinewidth\":0,\"ticks\":\"\"},\"type\":\"choropleth\"}],\"contourcarpet\":[{\"colorbar\":{\"outlinewidth\":0,\"ticks\":\"\"},\"type\":\"contourcarpet\"}],\"contour\":[{\"colorbar\":{\"outlinewidth\":0,\"ticks\":\"\"},\"colorscale\":[[0.0,\"#0d0887\"],[0.1111111111111111,\"#46039f\"],[0.2222222222222222,\"#7201a8\"],[0.3333333333333333,\"#9c179e\"],[0.4444444444444444,\"#bd3786\"],[0.5555555555555556,\"#d8576b\"],[0.6666666666666666,\"#ed7953\"],[0.7777777777777778,\"#fb9f3a\"],[0.8888888888888888,\"#fdca26\"],[1.0,\"#f0f921\"]],\"type\":\"contour\"}],\"heatmapgl\":[{\"colorbar\":{\"outlinewidth\":0,\"ticks\":\"\"},\"colorscale\":[[0.0,\"#0d0887\"],[0.1111111111111111,\"#46039f\"],[0.2222222222222222,\"#7201a8\"],[0.3333333333333333,\"#9c179e\"],[0.4444444444444444,\"#bd3786\"],[0.5555555555555556,\"#d8576b\"],[0.6666666666666666,\"#ed7953\"],[0.7777777777777778,\"#fb9f3a\"],[0.8888888888888888,\"#fdca26\"],[1.0,\"#f0f921\"]],\"type\":\"heatmapgl\"}],\"heatmap\":[{\"colorbar\":{\"outlinewidth\":0,\"ticks\":\"\"},\"colorscale\":[[0.0,\"#0d0887\"],[0.1111111111111111,\"#46039f\"],[0.2222222222222222,\"#7201a8\"],[0.3333333333333333,\"#9c179e\"],[0.4444444444444444,\"#bd3786\"],[0.5555555555555556,\"#d8576b\"],[0.6666666666666666,\"#ed7953\"],[0.7777777777777778,\"#fb9f3a\"],[0.8888888888888888,\"#fdca26\"],[1.0,\"#f0f921\"]],\"type\":\"heatmap\"}],\"histogram2dcontour\":[{\"colorbar\":{\"outlinewidth\":0,\"ticks\":\"\"},\"colorscale\":[[0.0,\"#0d0887\"],[0.1111111111111111,\"#46039f\"],[0.2222222222222222,\"#7201a8\"],[0.3333333333333333,\"#9c179e\"],[0.4444444444444444,\"#bd3786\"],[0.5555555555555556,\"#d8576b\"],[0.6666666666666666,\"#ed7953\"],[0.7777777777777778,\"#fb9f3a\"],[0.8888888888888888,\"#fdca26\"],[1.0,\"#f0f921\"]],\"type\":\"histogram2dcontour\"}],\"histogram2d\":[{\"colorbar\":{\"outlinewidth\":0,\"ticks\":\"\"},\"colorscale\":[[0.0,\"#0d0887\"],[0.1111111111111111,\"#46039f\"],[0.2222222222222222,\"#7201a8\"],[0.3333333333333333,\"#9c179e\"],[0.4444444444444444,\"#bd3786\"],[0.5555555555555556,\"#d8576b\"],[0.6666666666666666,\"#ed7953\"],[0.7777777777777778,\"#fb9f3a\"],[0.8888888888888888,\"#fdca26\"],[1.0,\"#f0f921\"]],\"type\":\"histogram2d\"}],\"histogram\":[{\"marker\":{\"pattern\":{\"fillmode\":\"overlay\",\"size\":10,\"solidity\":0.2}},\"type\":\"histogram\"}],\"mesh3d\":[{\"colorbar\":{\"outlinewidth\":0,\"ticks\":\"\"},\"type\":\"mesh3d\"}],\"parcoords\":[{\"line\":{\"colorbar\":{\"outlinewidth\":0,\"ticks\":\"\"}},\"type\":\"parcoords\"}],\"pie\":[{\"automargin\":true,\"type\":\"pie\"}],\"scatter3d\":[{\"line\":{\"colorbar\":{\"outlinewidth\":0,\"ticks\":\"\"}},\"marker\":{\"colorbar\":{\"outlinewidth\":0,\"ticks\":\"\"}},\"type\":\"scatter3d\"}],\"scattercarpet\":[{\"marker\":{\"colorbar\":{\"outlinewidth\":0,\"ticks\":\"\"}},\"type\":\"scattercarpet\"}],\"scattergeo\":[{\"marker\":{\"colorbar\":{\"outlinewidth\":0,\"ticks\":\"\"}},\"type\":\"scattergeo\"}],\"scattergl\":[{\"marker\":{\"colorbar\":{\"outlinewidth\":0,\"ticks\":\"\"}},\"type\":\"scattergl\"}],\"scattermapbox\":[{\"marker\":{\"colorbar\":{\"outlinewidth\":0,\"ticks\":\"\"}},\"type\":\"scattermapbox\"}],\"scatterpolargl\":[{\"marker\":{\"colorbar\":{\"outlinewidth\":0,\"ticks\":\"\"}},\"type\":\"scatterpolargl\"}],\"scatterpolar\":[{\"marker\":{\"colorbar\":{\"outlinewidth\":0,\"ticks\":\"\"}},\"type\":\"scatterpolar\"}],\"scatter\":[{\"fillpattern\":{\"fillmode\":\"overlay\",\"size\":10,\"solidity\":0.2},\"type\":\"scatter\"}],\"scatterternary\":[{\"marker\":{\"colorbar\":{\"outlinewidth\":0,\"ticks\":\"\"}},\"type\":\"scatterternary\"}],\"surface\":[{\"colorbar\":{\"outlinewidth\":0,\"ticks\":\"\"},\"colorscale\":[[0.0,\"#0d0887\"],[0.1111111111111111,\"#46039f\"],[0.2222222222222222,\"#7201a8\"],[0.3333333333333333,\"#9c179e\"],[0.4444444444444444,\"#bd3786\"],[0.5555555555555556,\"#d8576b\"],[0.6666666666666666,\"#ed7953\"],[0.7777777777777778,\"#fb9f3a\"],[0.8888888888888888,\"#fdca26\"],[1.0,\"#f0f921\"]],\"type\":\"surface\"}],\"table\":[{\"cells\":{\"fill\":{\"color\":\"#EBF0F8\"},\"line\":{\"color\":\"white\"}},\"header\":{\"fill\":{\"color\":\"#C8D4E3\"},\"line\":{\"color\":\"white\"}},\"type\":\"table\"}]},\"layout\":{\"annotationdefaults\":{\"arrowcolor\":\"#2a3f5f\",\"arrowhead\":0,\"arrowwidth\":1},\"autotypenumbers\":\"strict\",\"coloraxis\":{\"colorbar\":{\"outlinewidth\":0,\"ticks\":\"\"}},\"colorscale\":{\"diverging\":[[0,\"#8e0152\"],[0.1,\"#c51b7d\"],[0.2,\"#de77ae\"],[0.3,\"#f1b6da\"],[0.4,\"#fde0ef\"],[0.5,\"#f7f7f7\"],[0.6,\"#e6f5d0\"],[0.7,\"#b8e186\"],[0.8,\"#7fbc41\"],[0.9,\"#4d9221\"],[1,\"#276419\"]],\"sequential\":[[0.0,\"#0d0887\"],[0.1111111111111111,\"#46039f\"],[0.2222222222222222,\"#7201a8\"],[0.3333333333333333,\"#9c179e\"],[0.4444444444444444,\"#bd3786\"],[0.5555555555555556,\"#d8576b\"],[0.6666666666666666,\"#ed7953\"],[0.7777777777777778,\"#fb9f3a\"],[0.8888888888888888,\"#fdca26\"],[1.0,\"#f0f921\"]],\"sequentialminus\":[[0.0,\"#0d0887\"],[0.1111111111111111,\"#46039f\"],[0.2222222222222222,\"#7201a8\"],[0.3333333333333333,\"#9c179e\"],[0.4444444444444444,\"#bd3786\"],[0.5555555555555556,\"#d8576b\"],[0.6666666666666666,\"#ed7953\"],[0.7777777777777778,\"#fb9f3a\"],[0.8888888888888888,\"#fdca26\"],[1.0,\"#f0f921\"]]},\"colorway\":[\"#636efa\",\"#EF553B\",\"#00cc96\",\"#ab63fa\",\"#FFA15A\",\"#19d3f3\",\"#FF6692\",\"#B6E880\",\"#FF97FF\",\"#FECB52\"],\"font\":{\"color\":\"#2a3f5f\"},\"geo\":{\"bgcolor\":\"white\",\"lakecolor\":\"white\",\"landcolor\":\"#E5ECF6\",\"showlakes\":true,\"showland\":true,\"subunitcolor\":\"white\"},\"hoverlabel\":{\"align\":\"left\"},\"hovermode\":\"closest\",\"mapbox\":{\"style\":\"light\"},\"paper_bgcolor\":\"white\",\"plot_bgcolor\":\"#E5ECF6\",\"polar\":{\"angularaxis\":{\"gridcolor\":\"white\",\"linecolor\":\"white\",\"ticks\":\"\"},\"bgcolor\":\"#E5ECF6\",\"radialaxis\":{\"gridcolor\":\"white\",\"linecolor\":\"white\",\"ticks\":\"\"}},\"scene\":{\"xaxis\":{\"backgroundcolor\":\"#E5ECF6\",\"gridcolor\":\"white\",\"gridwidth\":2,\"linecolor\":\"white\",\"showbackground\":true,\"ticks\":\"\",\"zerolinecolor\":\"white\"},\"yaxis\":{\"backgroundcolor\":\"#E5ECF6\",\"gridcolor\":\"white\",\"gridwidth\":2,\"linecolor\":\"white\",\"showbackground\":true,\"ticks\":\"\",\"zerolinecolor\":\"white\"},\"zaxis\":{\"backgroundcolor\":\"#E5ECF6\",\"gridcolor\":\"white\",\"gridwidth\":2,\"linecolor\":\"white\",\"showbackground\":true,\"ticks\":\"\",\"zerolinecolor\":\"white\"}},\"shapedefaults\":{\"line\":{\"color\":\"#2a3f5f\"}},\"ternary\":{\"aaxis\":{\"gridcolor\":\"white\",\"linecolor\":\"white\",\"ticks\":\"\"},\"baxis\":{\"gridcolor\":\"white\",\"linecolor\":\"white\",\"ticks\":\"\"},\"bgcolor\":\"#E5ECF6\",\"caxis\":{\"gridcolor\":\"white\",\"linecolor\":\"white\",\"ticks\":\"\"}},\"title\":{\"x\":0.05},\"xaxis\":{\"automargin\":true,\"gridcolor\":\"white\",\"linecolor\":\"white\",\"ticks\":\"\",\"title\":{\"standoff\":15},\"zerolinecolor\":\"white\",\"zerolinewidth\":2},\"yaxis\":{\"automargin\":true,\"gridcolor\":\"white\",\"linecolor\":\"white\",\"ticks\":\"\",\"title\":{\"standoff\":15},\"zerolinecolor\":\"white\",\"zerolinewidth\":2}}},\"title\":{\"font\":{\"color\":\"#4D5663\"}},\"xaxis\":{\"gridcolor\":\"#E1E5ED\",\"showgrid\":true,\"tickfont\":{\"color\":\"#4D5663\"},\"title\":{\"font\":{\"color\":\"#4D5663\"},\"text\":\"\"},\"zerolinecolor\":\"#E1E5ED\"},\"yaxis\":{\"gridcolor\":\"#E1E5ED\",\"showgrid\":true,\"tickfont\":{\"color\":\"#4D5663\"},\"title\":{\"font\":{\"color\":\"#4D5663\"},\"text\":\"\"},\"zerolinecolor\":\"#E1E5ED\"}},                        {\"showLink\": true, \"linkText\": \"Export to plot.ly\", \"plotlyServerURL\": \"https://plot.ly\", \"responsive\": true}                    ).then(function(){\n",
       "                            \n",
       "var gd = document.getElementById('12cb89a9-ed47-4dd5-8c0b-20ffe37399d5');\n",
       "var x = new MutationObserver(function (mutations, observer) {{\n",
       "        var display = window.getComputedStyle(gd).display;\n",
       "        if (!display || display === 'none') {{\n",
       "            console.log([gd, 'removed!']);\n",
       "            Plotly.purge(gd);\n",
       "            observer.disconnect();\n",
       "        }}\n",
       "}});\n",
       "\n",
       "// Listen for the removal of the full notebook cells\n",
       "var notebookContainer = gd.closest('#notebook-container');\n",
       "if (notebookContainer) {{\n",
       "    x.observe(notebookContainer, {childList: true});\n",
       "}}\n",
       "\n",
       "// Listen for the clearing of the current output cell\n",
       "var outputEl = gd.closest('.output');\n",
       "if (outputEl) {{\n",
       "    x.observe(outputEl, {childList: true});\n",
       "}}\n",
       "\n",
       "                        })                };                });            </script>        </div>"
      ]
     },
     "metadata": {},
     "output_type": "display_data"
    }
   ],
   "source": [
    "df.iplot(kind=\"bar\")"
   ]
  },
  {
   "cell_type": "code",
   "execution_count": 20,
   "id": "374d0425",
   "metadata": {},
   "outputs": [
    {
     "data": {
      "text/html": [
       "<div>\n",
       "<style scoped>\n",
       "    .dataframe tbody tr th:only-of-type {\n",
       "        vertical-align: middle;\n",
       "    }\n",
       "\n",
       "    .dataframe tbody tr th {\n",
       "        vertical-align: top;\n",
       "    }\n",
       "\n",
       "    .dataframe thead th {\n",
       "        text-align: right;\n",
       "    }\n",
       "</style>\n",
       "<table border=\"1\" class=\"dataframe\">\n",
       "  <thead>\n",
       "    <tr style=\"text-align: right;\">\n",
       "      <th></th>\n",
       "      <th>A</th>\n",
       "      <th>B</th>\n",
       "      <th>C</th>\n",
       "      <th>D</th>\n",
       "    </tr>\n",
       "  </thead>\n",
       "  <tbody>\n",
       "    <tr>\n",
       "      <th>0</th>\n",
       "      <td>-0.929548</td>\n",
       "      <td>0.105952</td>\n",
       "      <td>-0.268026</td>\n",
       "      <td>0.706838</td>\n",
       "    </tr>\n",
       "    <tr>\n",
       "      <th>1</th>\n",
       "      <td>0.499651</td>\n",
       "      <td>0.336867</td>\n",
       "      <td>0.407206</td>\n",
       "      <td>-1.135489</td>\n",
       "    </tr>\n",
       "    <tr>\n",
       "      <th>2</th>\n",
       "      <td>-0.311788</td>\n",
       "      <td>-0.328612</td>\n",
       "      <td>0.646101</td>\n",
       "      <td>-1.778127</td>\n",
       "    </tr>\n",
       "    <tr>\n",
       "      <th>3</th>\n",
       "      <td>-0.259183</td>\n",
       "      <td>-0.116649</td>\n",
       "      <td>-0.585095</td>\n",
       "      <td>-0.999390</td>\n",
       "    </tr>\n",
       "    <tr>\n",
       "      <th>4</th>\n",
       "      <td>-0.240325</td>\n",
       "      <td>-0.108629</td>\n",
       "      <td>0.357400</td>\n",
       "      <td>0.704216</td>\n",
       "    </tr>\n",
       "    <tr>\n",
       "      <th>...</th>\n",
       "      <td>...</td>\n",
       "      <td>...</td>\n",
       "      <td>...</td>\n",
       "      <td>...</td>\n",
       "    </tr>\n",
       "    <tr>\n",
       "      <th>95</th>\n",
       "      <td>1.370947</td>\n",
       "      <td>-0.349343</td>\n",
       "      <td>-0.530830</td>\n",
       "      <td>0.599155</td>\n",
       "    </tr>\n",
       "    <tr>\n",
       "      <th>96</th>\n",
       "      <td>0.971134</td>\n",
       "      <td>-0.545583</td>\n",
       "      <td>2.509032</td>\n",
       "      <td>-0.474120</td>\n",
       "    </tr>\n",
       "    <tr>\n",
       "      <th>97</th>\n",
       "      <td>-0.387541</td>\n",
       "      <td>1.223291</td>\n",
       "      <td>-0.600994</td>\n",
       "      <td>-1.131710</td>\n",
       "    </tr>\n",
       "    <tr>\n",
       "      <th>98</th>\n",
       "      <td>-1.175209</td>\n",
       "      <td>-1.332443</td>\n",
       "      <td>1.170076</td>\n",
       "      <td>1.464566</td>\n",
       "    </tr>\n",
       "    <tr>\n",
       "      <th>99</th>\n",
       "      <td>0.273401</td>\n",
       "      <td>-0.484929</td>\n",
       "      <td>0.359736</td>\n",
       "      <td>-0.506194</td>\n",
       "    </tr>\n",
       "  </tbody>\n",
       "</table>\n",
       "<p>100 rows × 4 columns</p>\n",
       "</div>"
      ],
      "text/plain": [
       "           A         B         C         D\n",
       "0  -0.929548  0.105952 -0.268026  0.706838\n",
       "1   0.499651  0.336867  0.407206 -1.135489\n",
       "2  -0.311788 -0.328612  0.646101 -1.778127\n",
       "3  -0.259183 -0.116649 -0.585095 -0.999390\n",
       "4  -0.240325 -0.108629  0.357400  0.704216\n",
       "..       ...       ...       ...       ...\n",
       "95  1.370947 -0.349343 -0.530830  0.599155\n",
       "96  0.971134 -0.545583  2.509032 -0.474120\n",
       "97 -0.387541  1.223291 -0.600994 -1.131710\n",
       "98 -1.175209 -1.332443  1.170076  1.464566\n",
       "99  0.273401 -0.484929  0.359736 -0.506194\n",
       "\n",
       "[100 rows x 4 columns]"
      ]
     },
     "execution_count": 20,
     "metadata": {},
     "output_type": "execute_result"
    }
   ],
   "source": [
    "df"
   ]
  },
  {
   "cell_type": "code",
   "execution_count": 21,
   "id": "2f9f8b75",
   "metadata": {},
   "outputs": [
    {
     "data": {
      "application/vnd.plotly.v1+json": {
       "config": {
        "linkText": "Export to plot.ly",
        "plotlyServerURL": "https://plot.ly",
        "showLink": true
       },
       "data": [
        {
         "boxpoints": false,
         "line": {
          "width": 1.3
         },
         "marker": {
          "color": "rgba(255, 153, 51, 1.0)"
         },
         "name": "A",
         "orientation": "v",
         "type": "box",
         "y": [
          -0.9295482987691611,
          0.4996509360917784,
          -0.31178784381970565,
          -0.2591828995133058,
          -0.2403254599818755,
          0.30007424500314445,
          -1.9519399516746074,
          0.36101710108782775,
          1.1405599367929218,
          -1.0796063330029473,
          0.5190388920390553,
          1.5295361900831612,
          2.2008109795602016,
          0.8296048530293078,
          -0.21937304858767648,
          -0.9074792394033,
          -0.2871592266959784,
          -0.05545890921396091,
          -0.4966932594692695,
          -0.2128516157570282,
          1.124592371454574,
          0.6228995695801925,
          0.9256230617994263,
          -1.768887800317044,
          -0.2874149202115096,
          -0.7825545526319378,
          -2.64432200458736,
          0.7457461109123886,
          -1.1428281744977538,
          1.2210663863390592,
          -0.9131644958788138,
          0.13217834318366903,
          0.6381113620115724,
          1.4342735786591516,
          -0.5436898268763243,
          0.7137862193664714,
          0.5120364676493256,
          -2.0607142312389986,
          0.07250257019407771,
          -0.6579877485369979,
          -1.1492108033028867,
          -2.2536437617141516,
          1.0563020796557212,
          -1.0720178624058692,
          -1.1189016921464603,
          -0.29284164619717207,
          -0.20830520279926823,
          1.0822730128583236,
          1.0213249027809796,
          1.2876384897836826,
          1.8125915692022887,
          -0.3517345744446924,
          0.45361035245361936,
          -0.7548380530713608,
          0.4509916465215894,
          0.010825510343471153,
          1.1954626376691377,
          1.7044799601908844,
          -0.2512587274155817,
          -0.007463326957457436,
          1.5214107591436405,
          0.34186384567971756,
          -0.34838956178384545,
          -0.02149537492129532,
          -0.2557559357224352,
          1.8115002849071817,
          0.8989054113028747,
          -0.8478793667167331,
          -0.4388345973955879,
          0.5897765192462224,
          0.9169989960247112,
          -0.29584764364758287,
          0.40964963403229865,
          -0.2765551854394092,
          0.7309271904230744,
          -0.05169151931672703,
          -0.6487263477835327,
          -0.15937602857333696,
          -0.669650111705374,
          1.6529366895888808,
          0.2725091941094338,
          -0.84418871539521,
          -1.0214046898022509,
          -0.5985785583610419,
          0.9281497551503964,
          -1.4386926646965128,
          1.6413444776995776,
          -2.2123830364218984,
          0.7903787489224429,
          -1.0744732634516792,
          0.745393189760668,
          0.4996178124858752,
          -0.46560119110781123,
          0.15969763101542492,
          0.142503896532929,
          1.3709466265440287,
          0.9711336472637876,
          -0.38754055633141615,
          -1.1752089873333424,
          0.27340068072325535
         ]
        },
        {
         "boxpoints": false,
         "line": {
          "width": 1.3
         },
         "marker": {
          "color": "rgba(55, 128, 191, 1.0)"
         },
         "name": "B",
         "orientation": "v",
         "type": "box",
         "y": [
          0.10595209962862051,
          0.3368667122382836,
          -0.32861230975248373,
          -0.11664858440555267,
          -0.10862895251019854,
          0.14676101096132724,
          1.6550509248816598,
          0.3116991407512059,
          -1.5333273766171769,
          0.67351956523506,
          -0.23293658066056874,
          0.5298539546678004,
          1.2706339922049268,
          1.4485075051766172,
          0.6779059423904159,
          -0.7164141937146591,
          0.8245757552822287,
          2.4213154151349485,
          -0.6875266309878802,
          -0.19741347908494278,
          0.6573721821252815,
          0.2773927166267599,
          0.18443657890013604,
          0.20841105872778784,
          1.014443830916647,
          -0.6614530154293072,
          0.7795405780388421,
          1.1763647687901904,
          -1.426400518831791,
          -0.8862199762393453,
          -0.5432851756689908,
          0.5612441198207622,
          0.14759371236534652,
          -1.569694238419562,
          2.2741377167085077,
          -1.3286017158605619,
          -0.6547759337607292,
          0.5409293803814273,
          -1.7140672889540483,
          -0.838762524216867,
          2.052568027382253,
          1.2479484516423567,
          -0.5050471421968736,
          1.3906132917773977,
          0.9304278500231088,
          -0.5005788549389664,
          1.0139570932698092,
          1.4099756691177323,
          -0.7284825751458816,
          0.47323279459070394,
          -0.8126917762346638,
          0.6377954621777114,
          -0.3174047711249694,
          -1.7756135983404886,
          -0.2363797892406345,
          -0.7970716486495877,
          -0.3332925771997845,
          0.3137937224354294,
          -0.612749019434206,
          -0.07558111642014288,
          -0.9898859959734786,
          -0.45302566262413996,
          -0.542805561663329,
          -1.2844203082105614,
          -0.11354301196306125,
          -2.546874494300865,
          0.9872274735141424,
          -2.4060412325529983,
          0.7406303040060868,
          1.3494134213350881,
          -0.08353953585239972,
          -0.8649105520646212,
          0.5482770228978523,
          0.3018624903593867,
          -1.2696542402185156,
          -0.503774941664004,
          -0.4457561076351454,
          0.34242334816657516,
          -0.11692153010067262,
          -0.7692072862521319,
          -0.3210876224228783,
          -1.3428735501149156,
          0.08140321965759581,
          1.4726724276119887,
          -1.6872778504307941,
          0.7379616404172885,
          0.7541415956944442,
          0.6119192924558464,
          -0.6805248104558588,
          -0.011614579413123783,
          -0.9751368919345605,
          0.1766886661379514,
          -0.4773258381639982,
          -1.7259606922075275,
          -0.09290092035809304,
          -0.34934252493462165,
          -0.5455826577301464,
          1.223290635135926,
          -1.332442683803005,
          -0.4849294268598528
         ]
        },
        {
         "boxpoints": false,
         "line": {
          "width": 1.3
         },
         "marker": {
          "color": "rgba(50, 171, 96, 1.0)"
         },
         "name": "C",
         "orientation": "v",
         "type": "box",
         "y": [
          -0.26802567468283556,
          0.4072064013410601,
          0.6461005840226851,
          -0.585094742432191,
          0.3573995808954022,
          0.32157802210804975,
          -0.16919911676177468,
          -0.6706351029537011,
          1.0804040578855634,
          0.28189287438921745,
          -0.36165626203156503,
          0.40971416164952523,
          1.4437380666462036,
          -0.005032774531809589,
          0.43212530479678285,
          -0.10952316599517305,
          0.38262622234589144,
          0.6467377811036394,
          0.8685111970322607,
          -0.7510330180894015,
          -1.3548579307174067,
          0.8498325036801762,
          0.8060292524603478,
          -0.05838667707323915,
          0.4463018940239507,
          -0.8859584831710968,
          -0.7689079747608597,
          -0.33101433492673465,
          -0.16646933127108451,
          -2.2234210272232295,
          0.09320745950272975,
          0.09399434578019715,
          1.1755308625746566,
          0.04959081536101905,
          -0.12548887832494862,
          0.553291027320834,
          -0.006846847112921158,
          -1.0940902480963026,
          1.6992610567702078,
          -1.2201513753331235,
          -1.016998263095646,
          1.2410220960272613,
          0.5650521741319647,
          0.3948693228115939,
          -0.34898058136686005,
          0.041142085742882646,
          -0.40728021294539435,
          -0.3383063368079199,
          -0.3064599522234884,
          -1.5547550522193543,
          0.8990539365717387,
          -1.0357492276649602,
          -1.7055721268397044,
          -0.9353285485181945,
          0.40881727840120746,
          1.0457842403635524,
          1.16072135846228,
          0.7733499372932843,
          0.06912451400348932,
          1.7668257964874858,
          -0.07370408678810107,
          -0.5992648954960853,
          0.0031839077604649863,
          -0.15511925879835184,
          1.2553790745400344,
          0.9800336531789141,
          -0.5852912967995566,
          2.6036916226598654,
          -0.9272942988762053,
          0.6237809786781634,
          1.0568500925681823,
          -1.09659045862584,
          -0.17215484003221654,
          0.43585654614856795,
          -0.9267392510841177,
          0.08561210853793365,
          -0.3289460799806062,
          0.36408037266220034,
          -0.6158920904266694,
          1.8758077683489707,
          -0.2488697686696133,
          0.08909926398044783,
          -0.019913649723522293,
          -1.5108509182391463,
          0.10809714907300454,
          0.8552468524058905,
          -0.12208852143184143,
          0.2991215257437905,
          -1.1485090797225774,
          -0.5535953264037937,
          -1.662812170312761,
          -0.1404449423341458,
          1.2988339639252369,
          1.16562945649828,
          -0.2227008673477981,
          -0.5308299782064171,
          2.509031912866535,
          -0.6009943623260816,
          1.1700763481812035,
          0.35973613592097686
         ]
        },
        {
         "boxpoints": false,
         "line": {
          "width": 1.3
         },
         "marker": {
          "color": "rgba(128, 0, 128, 1.0)"
         },
         "name": "D",
         "orientation": "v",
         "type": "box",
         "y": [
          0.7068382862261344,
          -1.1354893661264782,
          -1.7781266223186643,
          -0.9993895145453797,
          0.7042164203531522,
          0.9560405384881885,
          0.6661290584108193,
          -0.17098627336289118,
          -0.47884943263231966,
          -2.364822463910428,
          -0.0008059323625490484,
          0.6236349146203897,
          0.5037184545770702,
          1.1317450982256376,
          0.5119154714049131,
          0.35932707096735206,
          -0.3663534598741199,
          1.1365877533477184,
          0.25417329023146695,
          -0.44218525948407367,
          -0.20119332766821338,
          1.608501409910512,
          -0.2712631460420925,
          -1.6439170779887486,
          0.17876806439418744,
          -1.288364838351231,
          1.2805278667353834,
          -1.0964905172034007,
          0.30062751958857203,
          -0.6195883464015917,
          1.3953980794196124,
          -1.208577640700005,
          0.960288245147989,
          -0.10901010075566653,
          -2.3995701108243384,
          -0.36352542201312005,
          0.520071777572679,
          0.5870382951239345,
          -0.8908329994099303,
          -0.46467533439840847,
          0.44781348803887583,
          1.5502356297804298,
          -0.09040555203215514,
          -0.007487830982206106,
          0.06304393372088818,
          -0.6021066876958482,
          -1.0452906870455307,
          0.04280170582626668,
          -0.374925053066271,
          -0.4093096611172787,
          -0.6815199755518858,
          -1.3584991478390136,
          -0.21632291529302258,
          1.11653509881535,
          -0.5512004547220558,
          0.7478135005541695,
          -0.7490802983477098,
          -0.7604155260542467,
          0.6323449927814072,
          0.48741777333043423,
          0.6738819084446128,
          0.346537145554769,
          -1.3061140130711606,
          0.8523478278571408,
          -0.2674966200617749,
          1.4248199828370094,
          -1.361545126902172,
          -0.22969931647517633,
          0.5756343142379796,
          1.2419495328788337,
          0.2484676967568032,
          1.5108745019052454,
          0.1781643691802824,
          -0.7239239997563465,
          -0.5524484345105191,
          -0.4542635822135648,
          1.239574019326204,
          -1.5166528118645612,
          0.1747359681792644,
          1.634349529239444,
          1.003128860486491,
          1.2316416206606728,
          -0.17373482053450465,
          0.6162503121616846,
          -0.296214462536699,
          -0.5833585512581337,
          -0.4948835396241225,
          -0.8975781417605502,
          0.09909788460379772,
          0.6993703963369102,
          -0.8098029075127882,
          -0.26295061467659503,
          -0.8758753227702814,
          -2.1778422617440167,
          1.342235000783719,
          0.5991546221405155,
          -0.4741195581901758,
          -1.1317104802699056,
          1.4645657932255527,
          -0.5061935595988273
         ]
        }
       ],
       "layout": {
        "legend": {
         "bgcolor": "#F5F6F9",
         "font": {
          "color": "#4D5663"
         }
        },
        "paper_bgcolor": "#F5F6F9",
        "plot_bgcolor": "#F5F6F9",
        "template": {
         "data": {
          "bar": [
           {
            "error_x": {
             "color": "#2a3f5f"
            },
            "error_y": {
             "color": "#2a3f5f"
            },
            "marker": {
             "line": {
              "color": "#E5ECF6",
              "width": 0.5
             },
             "pattern": {
              "fillmode": "overlay",
              "size": 10,
              "solidity": 0.2
             }
            },
            "type": "bar"
           }
          ],
          "barpolar": [
           {
            "marker": {
             "line": {
              "color": "#E5ECF6",
              "width": 0.5
             },
             "pattern": {
              "fillmode": "overlay",
              "size": 10,
              "solidity": 0.2
             }
            },
            "type": "barpolar"
           }
          ],
          "carpet": [
           {
            "aaxis": {
             "endlinecolor": "#2a3f5f",
             "gridcolor": "white",
             "linecolor": "white",
             "minorgridcolor": "white",
             "startlinecolor": "#2a3f5f"
            },
            "baxis": {
             "endlinecolor": "#2a3f5f",
             "gridcolor": "white",
             "linecolor": "white",
             "minorgridcolor": "white",
             "startlinecolor": "#2a3f5f"
            },
            "type": "carpet"
           }
          ],
          "choropleth": [
           {
            "colorbar": {
             "outlinewidth": 0,
             "ticks": ""
            },
            "type": "choropleth"
           }
          ],
          "contour": [
           {
            "colorbar": {
             "outlinewidth": 0,
             "ticks": ""
            },
            "colorscale": [
             [
              0,
              "#0d0887"
             ],
             [
              0.1111111111111111,
              "#46039f"
             ],
             [
              0.2222222222222222,
              "#7201a8"
             ],
             [
              0.3333333333333333,
              "#9c179e"
             ],
             [
              0.4444444444444444,
              "#bd3786"
             ],
             [
              0.5555555555555556,
              "#d8576b"
             ],
             [
              0.6666666666666666,
              "#ed7953"
             ],
             [
              0.7777777777777778,
              "#fb9f3a"
             ],
             [
              0.8888888888888888,
              "#fdca26"
             ],
             [
              1,
              "#f0f921"
             ]
            ],
            "type": "contour"
           }
          ],
          "contourcarpet": [
           {
            "colorbar": {
             "outlinewidth": 0,
             "ticks": ""
            },
            "type": "contourcarpet"
           }
          ],
          "heatmap": [
           {
            "colorbar": {
             "outlinewidth": 0,
             "ticks": ""
            },
            "colorscale": [
             [
              0,
              "#0d0887"
             ],
             [
              0.1111111111111111,
              "#46039f"
             ],
             [
              0.2222222222222222,
              "#7201a8"
             ],
             [
              0.3333333333333333,
              "#9c179e"
             ],
             [
              0.4444444444444444,
              "#bd3786"
             ],
             [
              0.5555555555555556,
              "#d8576b"
             ],
             [
              0.6666666666666666,
              "#ed7953"
             ],
             [
              0.7777777777777778,
              "#fb9f3a"
             ],
             [
              0.8888888888888888,
              "#fdca26"
             ],
             [
              1,
              "#f0f921"
             ]
            ],
            "type": "heatmap"
           }
          ],
          "heatmapgl": [
           {
            "colorbar": {
             "outlinewidth": 0,
             "ticks": ""
            },
            "colorscale": [
             [
              0,
              "#0d0887"
             ],
             [
              0.1111111111111111,
              "#46039f"
             ],
             [
              0.2222222222222222,
              "#7201a8"
             ],
             [
              0.3333333333333333,
              "#9c179e"
             ],
             [
              0.4444444444444444,
              "#bd3786"
             ],
             [
              0.5555555555555556,
              "#d8576b"
             ],
             [
              0.6666666666666666,
              "#ed7953"
             ],
             [
              0.7777777777777778,
              "#fb9f3a"
             ],
             [
              0.8888888888888888,
              "#fdca26"
             ],
             [
              1,
              "#f0f921"
             ]
            ],
            "type": "heatmapgl"
           }
          ],
          "histogram": [
           {
            "marker": {
             "pattern": {
              "fillmode": "overlay",
              "size": 10,
              "solidity": 0.2
             }
            },
            "type": "histogram"
           }
          ],
          "histogram2d": [
           {
            "colorbar": {
             "outlinewidth": 0,
             "ticks": ""
            },
            "colorscale": [
             [
              0,
              "#0d0887"
             ],
             [
              0.1111111111111111,
              "#46039f"
             ],
             [
              0.2222222222222222,
              "#7201a8"
             ],
             [
              0.3333333333333333,
              "#9c179e"
             ],
             [
              0.4444444444444444,
              "#bd3786"
             ],
             [
              0.5555555555555556,
              "#d8576b"
             ],
             [
              0.6666666666666666,
              "#ed7953"
             ],
             [
              0.7777777777777778,
              "#fb9f3a"
             ],
             [
              0.8888888888888888,
              "#fdca26"
             ],
             [
              1,
              "#f0f921"
             ]
            ],
            "type": "histogram2d"
           }
          ],
          "histogram2dcontour": [
           {
            "colorbar": {
             "outlinewidth": 0,
             "ticks": ""
            },
            "colorscale": [
             [
              0,
              "#0d0887"
             ],
             [
              0.1111111111111111,
              "#46039f"
             ],
             [
              0.2222222222222222,
              "#7201a8"
             ],
             [
              0.3333333333333333,
              "#9c179e"
             ],
             [
              0.4444444444444444,
              "#bd3786"
             ],
             [
              0.5555555555555556,
              "#d8576b"
             ],
             [
              0.6666666666666666,
              "#ed7953"
             ],
             [
              0.7777777777777778,
              "#fb9f3a"
             ],
             [
              0.8888888888888888,
              "#fdca26"
             ],
             [
              1,
              "#f0f921"
             ]
            ],
            "type": "histogram2dcontour"
           }
          ],
          "mesh3d": [
           {
            "colorbar": {
             "outlinewidth": 0,
             "ticks": ""
            },
            "type": "mesh3d"
           }
          ],
          "parcoords": [
           {
            "line": {
             "colorbar": {
              "outlinewidth": 0,
              "ticks": ""
             }
            },
            "type": "parcoords"
           }
          ],
          "pie": [
           {
            "automargin": true,
            "type": "pie"
           }
          ],
          "scatter": [
           {
            "fillpattern": {
             "fillmode": "overlay",
             "size": 10,
             "solidity": 0.2
            },
            "type": "scatter"
           }
          ],
          "scatter3d": [
           {
            "line": {
             "colorbar": {
              "outlinewidth": 0,
              "ticks": ""
             }
            },
            "marker": {
             "colorbar": {
              "outlinewidth": 0,
              "ticks": ""
             }
            },
            "type": "scatter3d"
           }
          ],
          "scattercarpet": [
           {
            "marker": {
             "colorbar": {
              "outlinewidth": 0,
              "ticks": ""
             }
            },
            "type": "scattercarpet"
           }
          ],
          "scattergeo": [
           {
            "marker": {
             "colorbar": {
              "outlinewidth": 0,
              "ticks": ""
             }
            },
            "type": "scattergeo"
           }
          ],
          "scattergl": [
           {
            "marker": {
             "colorbar": {
              "outlinewidth": 0,
              "ticks": ""
             }
            },
            "type": "scattergl"
           }
          ],
          "scattermapbox": [
           {
            "marker": {
             "colorbar": {
              "outlinewidth": 0,
              "ticks": ""
             }
            },
            "type": "scattermapbox"
           }
          ],
          "scatterpolar": [
           {
            "marker": {
             "colorbar": {
              "outlinewidth": 0,
              "ticks": ""
             }
            },
            "type": "scatterpolar"
           }
          ],
          "scatterpolargl": [
           {
            "marker": {
             "colorbar": {
              "outlinewidth": 0,
              "ticks": ""
             }
            },
            "type": "scatterpolargl"
           }
          ],
          "scatterternary": [
           {
            "marker": {
             "colorbar": {
              "outlinewidth": 0,
              "ticks": ""
             }
            },
            "type": "scatterternary"
           }
          ],
          "surface": [
           {
            "colorbar": {
             "outlinewidth": 0,
             "ticks": ""
            },
            "colorscale": [
             [
              0,
              "#0d0887"
             ],
             [
              0.1111111111111111,
              "#46039f"
             ],
             [
              0.2222222222222222,
              "#7201a8"
             ],
             [
              0.3333333333333333,
              "#9c179e"
             ],
             [
              0.4444444444444444,
              "#bd3786"
             ],
             [
              0.5555555555555556,
              "#d8576b"
             ],
             [
              0.6666666666666666,
              "#ed7953"
             ],
             [
              0.7777777777777778,
              "#fb9f3a"
             ],
             [
              0.8888888888888888,
              "#fdca26"
             ],
             [
              1,
              "#f0f921"
             ]
            ],
            "type": "surface"
           }
          ],
          "table": [
           {
            "cells": {
             "fill": {
              "color": "#EBF0F8"
             },
             "line": {
              "color": "white"
             }
            },
            "header": {
             "fill": {
              "color": "#C8D4E3"
             },
             "line": {
              "color": "white"
             }
            },
            "type": "table"
           }
          ]
         },
         "layout": {
          "annotationdefaults": {
           "arrowcolor": "#2a3f5f",
           "arrowhead": 0,
           "arrowwidth": 1
          },
          "autotypenumbers": "strict",
          "coloraxis": {
           "colorbar": {
            "outlinewidth": 0,
            "ticks": ""
           }
          },
          "colorscale": {
           "diverging": [
            [
             0,
             "#8e0152"
            ],
            [
             0.1,
             "#c51b7d"
            ],
            [
             0.2,
             "#de77ae"
            ],
            [
             0.3,
             "#f1b6da"
            ],
            [
             0.4,
             "#fde0ef"
            ],
            [
             0.5,
             "#f7f7f7"
            ],
            [
             0.6,
             "#e6f5d0"
            ],
            [
             0.7,
             "#b8e186"
            ],
            [
             0.8,
             "#7fbc41"
            ],
            [
             0.9,
             "#4d9221"
            ],
            [
             1,
             "#276419"
            ]
           ],
           "sequential": [
            [
             0,
             "#0d0887"
            ],
            [
             0.1111111111111111,
             "#46039f"
            ],
            [
             0.2222222222222222,
             "#7201a8"
            ],
            [
             0.3333333333333333,
             "#9c179e"
            ],
            [
             0.4444444444444444,
             "#bd3786"
            ],
            [
             0.5555555555555556,
             "#d8576b"
            ],
            [
             0.6666666666666666,
             "#ed7953"
            ],
            [
             0.7777777777777778,
             "#fb9f3a"
            ],
            [
             0.8888888888888888,
             "#fdca26"
            ],
            [
             1,
             "#f0f921"
            ]
           ],
           "sequentialminus": [
            [
             0,
             "#0d0887"
            ],
            [
             0.1111111111111111,
             "#46039f"
            ],
            [
             0.2222222222222222,
             "#7201a8"
            ],
            [
             0.3333333333333333,
             "#9c179e"
            ],
            [
             0.4444444444444444,
             "#bd3786"
            ],
            [
             0.5555555555555556,
             "#d8576b"
            ],
            [
             0.6666666666666666,
             "#ed7953"
            ],
            [
             0.7777777777777778,
             "#fb9f3a"
            ],
            [
             0.8888888888888888,
             "#fdca26"
            ],
            [
             1,
             "#f0f921"
            ]
           ]
          },
          "colorway": [
           "#636efa",
           "#EF553B",
           "#00cc96",
           "#ab63fa",
           "#FFA15A",
           "#19d3f3",
           "#FF6692",
           "#B6E880",
           "#FF97FF",
           "#FECB52"
          ],
          "font": {
           "color": "#2a3f5f"
          },
          "geo": {
           "bgcolor": "white",
           "lakecolor": "white",
           "landcolor": "#E5ECF6",
           "showlakes": true,
           "showland": true,
           "subunitcolor": "white"
          },
          "hoverlabel": {
           "align": "left"
          },
          "hovermode": "closest",
          "mapbox": {
           "style": "light"
          },
          "paper_bgcolor": "white",
          "plot_bgcolor": "#E5ECF6",
          "polar": {
           "angularaxis": {
            "gridcolor": "white",
            "linecolor": "white",
            "ticks": ""
           },
           "bgcolor": "#E5ECF6",
           "radialaxis": {
            "gridcolor": "white",
            "linecolor": "white",
            "ticks": ""
           }
          },
          "scene": {
           "xaxis": {
            "backgroundcolor": "#E5ECF6",
            "gridcolor": "white",
            "gridwidth": 2,
            "linecolor": "white",
            "showbackground": true,
            "ticks": "",
            "zerolinecolor": "white"
           },
           "yaxis": {
            "backgroundcolor": "#E5ECF6",
            "gridcolor": "white",
            "gridwidth": 2,
            "linecolor": "white",
            "showbackground": true,
            "ticks": "",
            "zerolinecolor": "white"
           },
           "zaxis": {
            "backgroundcolor": "#E5ECF6",
            "gridcolor": "white",
            "gridwidth": 2,
            "linecolor": "white",
            "showbackground": true,
            "ticks": "",
            "zerolinecolor": "white"
           }
          },
          "shapedefaults": {
           "line": {
            "color": "#2a3f5f"
           }
          },
          "ternary": {
           "aaxis": {
            "gridcolor": "white",
            "linecolor": "white",
            "ticks": ""
           },
           "baxis": {
            "gridcolor": "white",
            "linecolor": "white",
            "ticks": ""
           },
           "bgcolor": "#E5ECF6",
           "caxis": {
            "gridcolor": "white",
            "linecolor": "white",
            "ticks": ""
           }
          },
          "title": {
           "x": 0.05
          },
          "xaxis": {
           "automargin": true,
           "gridcolor": "white",
           "linecolor": "white",
           "ticks": "",
           "title": {
            "standoff": 15
           },
           "zerolinecolor": "white",
           "zerolinewidth": 2
          },
          "yaxis": {
           "automargin": true,
           "gridcolor": "white",
           "linecolor": "white",
           "ticks": "",
           "title": {
            "standoff": 15
           },
           "zerolinecolor": "white",
           "zerolinewidth": 2
          }
         }
        },
        "title": {
         "font": {
          "color": "#4D5663"
         }
        },
        "xaxis": {
         "gridcolor": "#E1E5ED",
         "showgrid": true,
         "tickfont": {
          "color": "#4D5663"
         },
         "title": {
          "font": {
           "color": "#4D5663"
          },
          "text": ""
         },
         "zerolinecolor": "#E1E5ED"
        },
        "yaxis": {
         "gridcolor": "#E1E5ED",
         "showgrid": true,
         "tickfont": {
          "color": "#4D5663"
         },
         "title": {
          "font": {
           "color": "#4D5663"
          },
          "text": ""
         },
         "zerolinecolor": "#E1E5ED"
        }
       }
      },
      "text/html": [
       "<div>                            <div id=\"1424c7a4-cfa2-4c09-a4d2-8d3eeb298531\" class=\"plotly-graph-div\" style=\"height:525px; width:100%;\"></div>            <script type=\"text/javascript\">                require([\"plotly\"], function(Plotly) {                    window.PLOTLYENV=window.PLOTLYENV || {};\n",
       "                    window.PLOTLYENV.BASE_URL='https://plot.ly';                                    if (document.getElementById(\"1424c7a4-cfa2-4c09-a4d2-8d3eeb298531\")) {                    Plotly.newPlot(                        \"1424c7a4-cfa2-4c09-a4d2-8d3eeb298531\",                        [{\"boxpoints\":false,\"line\":{\"width\":1.3},\"marker\":{\"color\":\"rgba(255, 153, 51, 1.0)\"},\"name\":\"A\",\"orientation\":\"v\",\"y\":[-0.9295482987691611,0.4996509360917784,-0.31178784381970565,-0.2591828995133058,-0.2403254599818755,0.30007424500314445,-1.9519399516746074,0.36101710108782775,1.1405599367929218,-1.0796063330029473,0.5190388920390553,1.5295361900831612,2.2008109795602016,0.8296048530293078,-0.21937304858767648,-0.9074792394033,-0.2871592266959784,-0.05545890921396091,-0.4966932594692695,-0.2128516157570282,1.124592371454574,0.6228995695801925,0.9256230617994263,-1.768887800317044,-0.2874149202115096,-0.7825545526319378,-2.64432200458736,0.7457461109123886,-1.1428281744977538,1.2210663863390592,-0.9131644958788138,0.13217834318366903,0.6381113620115724,1.4342735786591516,-0.5436898268763243,0.7137862193664714,0.5120364676493256,-2.0607142312389986,0.07250257019407771,-0.6579877485369979,-1.1492108033028867,-2.2536437617141516,1.0563020796557212,-1.0720178624058692,-1.1189016921464603,-0.29284164619717207,-0.20830520279926823,1.0822730128583236,1.0213249027809796,1.2876384897836826,1.8125915692022887,-0.3517345744446924,0.45361035245361936,-0.7548380530713608,0.4509916465215894,0.010825510343471153,1.1954626376691377,1.7044799601908844,-0.2512587274155817,-0.007463326957457436,1.5214107591436405,0.34186384567971756,-0.34838956178384545,-0.02149537492129532,-0.2557559357224352,1.8115002849071817,0.8989054113028747,-0.8478793667167331,-0.4388345973955879,0.5897765192462224,0.9169989960247112,-0.29584764364758287,0.40964963403229865,-0.2765551854394092,0.7309271904230744,-0.05169151931672703,-0.6487263477835327,-0.15937602857333696,-0.669650111705374,1.6529366895888808,0.2725091941094338,-0.84418871539521,-1.0214046898022509,-0.5985785583610419,0.9281497551503964,-1.4386926646965128,1.6413444776995776,-2.2123830364218984,0.7903787489224429,-1.0744732634516792,0.745393189760668,0.4996178124858752,-0.46560119110781123,0.15969763101542492,0.142503896532929,1.3709466265440287,0.9711336472637876,-0.38754055633141615,-1.1752089873333424,0.27340068072325535],\"type\":\"box\"},{\"boxpoints\":false,\"line\":{\"width\":1.3},\"marker\":{\"color\":\"rgba(55, 128, 191, 1.0)\"},\"name\":\"B\",\"orientation\":\"v\",\"y\":[0.10595209962862051,0.3368667122382836,-0.32861230975248373,-0.11664858440555267,-0.10862895251019854,0.14676101096132724,1.6550509248816598,0.3116991407512059,-1.5333273766171769,0.67351956523506,-0.23293658066056874,0.5298539546678004,1.2706339922049268,1.4485075051766172,0.6779059423904159,-0.7164141937146591,0.8245757552822287,2.4213154151349485,-0.6875266309878802,-0.19741347908494278,0.6573721821252815,0.2773927166267599,0.18443657890013604,0.20841105872778784,1.014443830916647,-0.6614530154293072,0.7795405780388421,1.1763647687901904,-1.426400518831791,-0.8862199762393453,-0.5432851756689908,0.5612441198207622,0.14759371236534652,-1.569694238419562,2.2741377167085077,-1.3286017158605619,-0.6547759337607292,0.5409293803814273,-1.7140672889540483,-0.838762524216867,2.052568027382253,1.2479484516423567,-0.5050471421968736,1.3906132917773977,0.9304278500231088,-0.5005788549389664,1.0139570932698092,1.4099756691177323,-0.7284825751458816,0.47323279459070394,-0.8126917762346638,0.6377954621777114,-0.3174047711249694,-1.7756135983404886,-0.2363797892406345,-0.7970716486495877,-0.3332925771997845,0.3137937224354294,-0.612749019434206,-0.07558111642014288,-0.9898859959734786,-0.45302566262413996,-0.542805561663329,-1.2844203082105614,-0.11354301196306125,-2.546874494300865,0.9872274735141424,-2.4060412325529983,0.7406303040060868,1.3494134213350881,-0.08353953585239972,-0.8649105520646212,0.5482770228978523,0.3018624903593867,-1.2696542402185156,-0.503774941664004,-0.4457561076351454,0.34242334816657516,-0.11692153010067262,-0.7692072862521319,-0.3210876224228783,-1.3428735501149156,0.08140321965759581,1.4726724276119887,-1.6872778504307941,0.7379616404172885,0.7541415956944442,0.6119192924558464,-0.6805248104558588,-0.011614579413123783,-0.9751368919345605,0.1766886661379514,-0.4773258381639982,-1.7259606922075275,-0.09290092035809304,-0.34934252493462165,-0.5455826577301464,1.223290635135926,-1.332442683803005,-0.4849294268598528],\"type\":\"box\"},{\"boxpoints\":false,\"line\":{\"width\":1.3},\"marker\":{\"color\":\"rgba(50, 171, 96, 1.0)\"},\"name\":\"C\",\"orientation\":\"v\",\"y\":[-0.26802567468283556,0.4072064013410601,0.6461005840226851,-0.585094742432191,0.3573995808954022,0.32157802210804975,-0.16919911676177468,-0.6706351029537011,1.0804040578855634,0.28189287438921745,-0.36165626203156503,0.40971416164952523,1.4437380666462036,-0.005032774531809589,0.43212530479678285,-0.10952316599517305,0.38262622234589144,0.6467377811036394,0.8685111970322607,-0.7510330180894015,-1.3548579307174067,0.8498325036801762,0.8060292524603478,-0.05838667707323915,0.4463018940239507,-0.8859584831710968,-0.7689079747608597,-0.33101433492673465,-0.16646933127108451,-2.2234210272232295,0.09320745950272975,0.09399434578019715,1.1755308625746566,0.04959081536101905,-0.12548887832494862,0.553291027320834,-0.006846847112921158,-1.0940902480963026,1.6992610567702078,-1.2201513753331235,-1.016998263095646,1.2410220960272613,0.5650521741319647,0.3948693228115939,-0.34898058136686005,0.041142085742882646,-0.40728021294539435,-0.3383063368079199,-0.3064599522234884,-1.5547550522193543,0.8990539365717387,-1.0357492276649602,-1.7055721268397044,-0.9353285485181945,0.40881727840120746,1.0457842403635524,1.16072135846228,0.7733499372932843,0.06912451400348932,1.7668257964874858,-0.07370408678810107,-0.5992648954960853,0.0031839077604649863,-0.15511925879835184,1.2553790745400344,0.9800336531789141,-0.5852912967995566,2.6036916226598654,-0.9272942988762053,0.6237809786781634,1.0568500925681823,-1.09659045862584,-0.17215484003221654,0.43585654614856795,-0.9267392510841177,0.08561210853793365,-0.3289460799806062,0.36408037266220034,-0.6158920904266694,1.8758077683489707,-0.2488697686696133,0.08909926398044783,-0.019913649723522293,-1.5108509182391463,0.10809714907300454,0.8552468524058905,-0.12208852143184143,0.2991215257437905,-1.1485090797225774,-0.5535953264037937,-1.662812170312761,-0.1404449423341458,1.2988339639252369,1.16562945649828,-0.2227008673477981,-0.5308299782064171,2.509031912866535,-0.6009943623260816,1.1700763481812035,0.35973613592097686],\"type\":\"box\"},{\"boxpoints\":false,\"line\":{\"width\":1.3},\"marker\":{\"color\":\"rgba(128, 0, 128, 1.0)\"},\"name\":\"D\",\"orientation\":\"v\",\"y\":[0.7068382862261344,-1.1354893661264782,-1.7781266223186643,-0.9993895145453797,0.7042164203531522,0.9560405384881885,0.6661290584108193,-0.17098627336289118,-0.47884943263231966,-2.364822463910428,-0.0008059323625490484,0.6236349146203897,0.5037184545770702,1.1317450982256376,0.5119154714049131,0.35932707096735206,-0.3663534598741199,1.1365877533477184,0.25417329023146695,-0.44218525948407367,-0.20119332766821338,1.608501409910512,-0.2712631460420925,-1.6439170779887486,0.17876806439418744,-1.288364838351231,1.2805278667353834,-1.0964905172034007,0.30062751958857203,-0.6195883464015917,1.3953980794196124,-1.208577640700005,0.960288245147989,-0.10901010075566653,-2.3995701108243384,-0.36352542201312005,0.520071777572679,0.5870382951239345,-0.8908329994099303,-0.46467533439840847,0.44781348803887583,1.5502356297804298,-0.09040555203215514,-0.007487830982206106,0.06304393372088818,-0.6021066876958482,-1.0452906870455307,0.04280170582626668,-0.374925053066271,-0.4093096611172787,-0.6815199755518858,-1.3584991478390136,-0.21632291529302258,1.11653509881535,-0.5512004547220558,0.7478135005541695,-0.7490802983477098,-0.7604155260542467,0.6323449927814072,0.48741777333043423,0.6738819084446128,0.346537145554769,-1.3061140130711606,0.8523478278571408,-0.2674966200617749,1.4248199828370094,-1.361545126902172,-0.22969931647517633,0.5756343142379796,1.2419495328788337,0.2484676967568032,1.5108745019052454,0.1781643691802824,-0.7239239997563465,-0.5524484345105191,-0.4542635822135648,1.239574019326204,-1.5166528118645612,0.1747359681792644,1.634349529239444,1.003128860486491,1.2316416206606728,-0.17373482053450465,0.6162503121616846,-0.296214462536699,-0.5833585512581337,-0.4948835396241225,-0.8975781417605502,0.09909788460379772,0.6993703963369102,-0.8098029075127882,-0.26295061467659503,-0.8758753227702814,-2.1778422617440167,1.342235000783719,0.5991546221405155,-0.4741195581901758,-1.1317104802699056,1.4645657932255527,-0.5061935595988273],\"type\":\"box\"}],                        {\"legend\":{\"bgcolor\":\"#F5F6F9\",\"font\":{\"color\":\"#4D5663\"}},\"paper_bgcolor\":\"#F5F6F9\",\"plot_bgcolor\":\"#F5F6F9\",\"template\":{\"data\":{\"barpolar\":[{\"marker\":{\"line\":{\"color\":\"#E5ECF6\",\"width\":0.5},\"pattern\":{\"fillmode\":\"overlay\",\"size\":10,\"solidity\":0.2}},\"type\":\"barpolar\"}],\"bar\":[{\"error_x\":{\"color\":\"#2a3f5f\"},\"error_y\":{\"color\":\"#2a3f5f\"},\"marker\":{\"line\":{\"color\":\"#E5ECF6\",\"width\":0.5},\"pattern\":{\"fillmode\":\"overlay\",\"size\":10,\"solidity\":0.2}},\"type\":\"bar\"}],\"carpet\":[{\"aaxis\":{\"endlinecolor\":\"#2a3f5f\",\"gridcolor\":\"white\",\"linecolor\":\"white\",\"minorgridcolor\":\"white\",\"startlinecolor\":\"#2a3f5f\"},\"baxis\":{\"endlinecolor\":\"#2a3f5f\",\"gridcolor\":\"white\",\"linecolor\":\"white\",\"minorgridcolor\":\"white\",\"startlinecolor\":\"#2a3f5f\"},\"type\":\"carpet\"}],\"choropleth\":[{\"colorbar\":{\"outlinewidth\":0,\"ticks\":\"\"},\"type\":\"choropleth\"}],\"contourcarpet\":[{\"colorbar\":{\"outlinewidth\":0,\"ticks\":\"\"},\"type\":\"contourcarpet\"}],\"contour\":[{\"colorbar\":{\"outlinewidth\":0,\"ticks\":\"\"},\"colorscale\":[[0.0,\"#0d0887\"],[0.1111111111111111,\"#46039f\"],[0.2222222222222222,\"#7201a8\"],[0.3333333333333333,\"#9c179e\"],[0.4444444444444444,\"#bd3786\"],[0.5555555555555556,\"#d8576b\"],[0.6666666666666666,\"#ed7953\"],[0.7777777777777778,\"#fb9f3a\"],[0.8888888888888888,\"#fdca26\"],[1.0,\"#f0f921\"]],\"type\":\"contour\"}],\"heatmapgl\":[{\"colorbar\":{\"outlinewidth\":0,\"ticks\":\"\"},\"colorscale\":[[0.0,\"#0d0887\"],[0.1111111111111111,\"#46039f\"],[0.2222222222222222,\"#7201a8\"],[0.3333333333333333,\"#9c179e\"],[0.4444444444444444,\"#bd3786\"],[0.5555555555555556,\"#d8576b\"],[0.6666666666666666,\"#ed7953\"],[0.7777777777777778,\"#fb9f3a\"],[0.8888888888888888,\"#fdca26\"],[1.0,\"#f0f921\"]],\"type\":\"heatmapgl\"}],\"heatmap\":[{\"colorbar\":{\"outlinewidth\":0,\"ticks\":\"\"},\"colorscale\":[[0.0,\"#0d0887\"],[0.1111111111111111,\"#46039f\"],[0.2222222222222222,\"#7201a8\"],[0.3333333333333333,\"#9c179e\"],[0.4444444444444444,\"#bd3786\"],[0.5555555555555556,\"#d8576b\"],[0.6666666666666666,\"#ed7953\"],[0.7777777777777778,\"#fb9f3a\"],[0.8888888888888888,\"#fdca26\"],[1.0,\"#f0f921\"]],\"type\":\"heatmap\"}],\"histogram2dcontour\":[{\"colorbar\":{\"outlinewidth\":0,\"ticks\":\"\"},\"colorscale\":[[0.0,\"#0d0887\"],[0.1111111111111111,\"#46039f\"],[0.2222222222222222,\"#7201a8\"],[0.3333333333333333,\"#9c179e\"],[0.4444444444444444,\"#bd3786\"],[0.5555555555555556,\"#d8576b\"],[0.6666666666666666,\"#ed7953\"],[0.7777777777777778,\"#fb9f3a\"],[0.8888888888888888,\"#fdca26\"],[1.0,\"#f0f921\"]],\"type\":\"histogram2dcontour\"}],\"histogram2d\":[{\"colorbar\":{\"outlinewidth\":0,\"ticks\":\"\"},\"colorscale\":[[0.0,\"#0d0887\"],[0.1111111111111111,\"#46039f\"],[0.2222222222222222,\"#7201a8\"],[0.3333333333333333,\"#9c179e\"],[0.4444444444444444,\"#bd3786\"],[0.5555555555555556,\"#d8576b\"],[0.6666666666666666,\"#ed7953\"],[0.7777777777777778,\"#fb9f3a\"],[0.8888888888888888,\"#fdca26\"],[1.0,\"#f0f921\"]],\"type\":\"histogram2d\"}],\"histogram\":[{\"marker\":{\"pattern\":{\"fillmode\":\"overlay\",\"size\":10,\"solidity\":0.2}},\"type\":\"histogram\"}],\"mesh3d\":[{\"colorbar\":{\"outlinewidth\":0,\"ticks\":\"\"},\"type\":\"mesh3d\"}],\"parcoords\":[{\"line\":{\"colorbar\":{\"outlinewidth\":0,\"ticks\":\"\"}},\"type\":\"parcoords\"}],\"pie\":[{\"automargin\":true,\"type\":\"pie\"}],\"scatter3d\":[{\"line\":{\"colorbar\":{\"outlinewidth\":0,\"ticks\":\"\"}},\"marker\":{\"colorbar\":{\"outlinewidth\":0,\"ticks\":\"\"}},\"type\":\"scatter3d\"}],\"scattercarpet\":[{\"marker\":{\"colorbar\":{\"outlinewidth\":0,\"ticks\":\"\"}},\"type\":\"scattercarpet\"}],\"scattergeo\":[{\"marker\":{\"colorbar\":{\"outlinewidth\":0,\"ticks\":\"\"}},\"type\":\"scattergeo\"}],\"scattergl\":[{\"marker\":{\"colorbar\":{\"outlinewidth\":0,\"ticks\":\"\"}},\"type\":\"scattergl\"}],\"scattermapbox\":[{\"marker\":{\"colorbar\":{\"outlinewidth\":0,\"ticks\":\"\"}},\"type\":\"scattermapbox\"}],\"scatterpolargl\":[{\"marker\":{\"colorbar\":{\"outlinewidth\":0,\"ticks\":\"\"}},\"type\":\"scatterpolargl\"}],\"scatterpolar\":[{\"marker\":{\"colorbar\":{\"outlinewidth\":0,\"ticks\":\"\"}},\"type\":\"scatterpolar\"}],\"scatter\":[{\"fillpattern\":{\"fillmode\":\"overlay\",\"size\":10,\"solidity\":0.2},\"type\":\"scatter\"}],\"scatterternary\":[{\"marker\":{\"colorbar\":{\"outlinewidth\":0,\"ticks\":\"\"}},\"type\":\"scatterternary\"}],\"surface\":[{\"colorbar\":{\"outlinewidth\":0,\"ticks\":\"\"},\"colorscale\":[[0.0,\"#0d0887\"],[0.1111111111111111,\"#46039f\"],[0.2222222222222222,\"#7201a8\"],[0.3333333333333333,\"#9c179e\"],[0.4444444444444444,\"#bd3786\"],[0.5555555555555556,\"#d8576b\"],[0.6666666666666666,\"#ed7953\"],[0.7777777777777778,\"#fb9f3a\"],[0.8888888888888888,\"#fdca26\"],[1.0,\"#f0f921\"]],\"type\":\"surface\"}],\"table\":[{\"cells\":{\"fill\":{\"color\":\"#EBF0F8\"},\"line\":{\"color\":\"white\"}},\"header\":{\"fill\":{\"color\":\"#C8D4E3\"},\"line\":{\"color\":\"white\"}},\"type\":\"table\"}]},\"layout\":{\"annotationdefaults\":{\"arrowcolor\":\"#2a3f5f\",\"arrowhead\":0,\"arrowwidth\":1},\"autotypenumbers\":\"strict\",\"coloraxis\":{\"colorbar\":{\"outlinewidth\":0,\"ticks\":\"\"}},\"colorscale\":{\"diverging\":[[0,\"#8e0152\"],[0.1,\"#c51b7d\"],[0.2,\"#de77ae\"],[0.3,\"#f1b6da\"],[0.4,\"#fde0ef\"],[0.5,\"#f7f7f7\"],[0.6,\"#e6f5d0\"],[0.7,\"#b8e186\"],[0.8,\"#7fbc41\"],[0.9,\"#4d9221\"],[1,\"#276419\"]],\"sequential\":[[0.0,\"#0d0887\"],[0.1111111111111111,\"#46039f\"],[0.2222222222222222,\"#7201a8\"],[0.3333333333333333,\"#9c179e\"],[0.4444444444444444,\"#bd3786\"],[0.5555555555555556,\"#d8576b\"],[0.6666666666666666,\"#ed7953\"],[0.7777777777777778,\"#fb9f3a\"],[0.8888888888888888,\"#fdca26\"],[1.0,\"#f0f921\"]],\"sequentialminus\":[[0.0,\"#0d0887\"],[0.1111111111111111,\"#46039f\"],[0.2222222222222222,\"#7201a8\"],[0.3333333333333333,\"#9c179e\"],[0.4444444444444444,\"#bd3786\"],[0.5555555555555556,\"#d8576b\"],[0.6666666666666666,\"#ed7953\"],[0.7777777777777778,\"#fb9f3a\"],[0.8888888888888888,\"#fdca26\"],[1.0,\"#f0f921\"]]},\"colorway\":[\"#636efa\",\"#EF553B\",\"#00cc96\",\"#ab63fa\",\"#FFA15A\",\"#19d3f3\",\"#FF6692\",\"#B6E880\",\"#FF97FF\",\"#FECB52\"],\"font\":{\"color\":\"#2a3f5f\"},\"geo\":{\"bgcolor\":\"white\",\"lakecolor\":\"white\",\"landcolor\":\"#E5ECF6\",\"showlakes\":true,\"showland\":true,\"subunitcolor\":\"white\"},\"hoverlabel\":{\"align\":\"left\"},\"hovermode\":\"closest\",\"mapbox\":{\"style\":\"light\"},\"paper_bgcolor\":\"white\",\"plot_bgcolor\":\"#E5ECF6\",\"polar\":{\"angularaxis\":{\"gridcolor\":\"white\",\"linecolor\":\"white\",\"ticks\":\"\"},\"bgcolor\":\"#E5ECF6\",\"radialaxis\":{\"gridcolor\":\"white\",\"linecolor\":\"white\",\"ticks\":\"\"}},\"scene\":{\"xaxis\":{\"backgroundcolor\":\"#E5ECF6\",\"gridcolor\":\"white\",\"gridwidth\":2,\"linecolor\":\"white\",\"showbackground\":true,\"ticks\":\"\",\"zerolinecolor\":\"white\"},\"yaxis\":{\"backgroundcolor\":\"#E5ECF6\",\"gridcolor\":\"white\",\"gridwidth\":2,\"linecolor\":\"white\",\"showbackground\":true,\"ticks\":\"\",\"zerolinecolor\":\"white\"},\"zaxis\":{\"backgroundcolor\":\"#E5ECF6\",\"gridcolor\":\"white\",\"gridwidth\":2,\"linecolor\":\"white\",\"showbackground\":true,\"ticks\":\"\",\"zerolinecolor\":\"white\"}},\"shapedefaults\":{\"line\":{\"color\":\"#2a3f5f\"}},\"ternary\":{\"aaxis\":{\"gridcolor\":\"white\",\"linecolor\":\"white\",\"ticks\":\"\"},\"baxis\":{\"gridcolor\":\"white\",\"linecolor\":\"white\",\"ticks\":\"\"},\"bgcolor\":\"#E5ECF6\",\"caxis\":{\"gridcolor\":\"white\",\"linecolor\":\"white\",\"ticks\":\"\"}},\"title\":{\"x\":0.05},\"xaxis\":{\"automargin\":true,\"gridcolor\":\"white\",\"linecolor\":\"white\",\"ticks\":\"\",\"title\":{\"standoff\":15},\"zerolinecolor\":\"white\",\"zerolinewidth\":2},\"yaxis\":{\"automargin\":true,\"gridcolor\":\"white\",\"linecolor\":\"white\",\"ticks\":\"\",\"title\":{\"standoff\":15},\"zerolinecolor\":\"white\",\"zerolinewidth\":2}}},\"title\":{\"font\":{\"color\":\"#4D5663\"}},\"xaxis\":{\"gridcolor\":\"#E1E5ED\",\"showgrid\":true,\"tickfont\":{\"color\":\"#4D5663\"},\"title\":{\"font\":{\"color\":\"#4D5663\"},\"text\":\"\"},\"zerolinecolor\":\"#E1E5ED\"},\"yaxis\":{\"gridcolor\":\"#E1E5ED\",\"showgrid\":true,\"tickfont\":{\"color\":\"#4D5663\"},\"title\":{\"font\":{\"color\":\"#4D5663\"},\"text\":\"\"},\"zerolinecolor\":\"#E1E5ED\"}},                        {\"showLink\": true, \"linkText\": \"Export to plot.ly\", \"plotlyServerURL\": \"https://plot.ly\", \"responsive\": true}                    ).then(function(){\n",
       "                            \n",
       "var gd = document.getElementById('1424c7a4-cfa2-4c09-a4d2-8d3eeb298531');\n",
       "var x = new MutationObserver(function (mutations, observer) {{\n",
       "        var display = window.getComputedStyle(gd).display;\n",
       "        if (!display || display === 'none') {{\n",
       "            console.log([gd, 'removed!']);\n",
       "            Plotly.purge(gd);\n",
       "            observer.disconnect();\n",
       "        }}\n",
       "}});\n",
       "\n",
       "// Listen for the removal of the full notebook cells\n",
       "var notebookContainer = gd.closest('#notebook-container');\n",
       "if (notebookContainer) {{\n",
       "    x.observe(notebookContainer, {childList: true});\n",
       "}}\n",
       "\n",
       "// Listen for the clearing of the current output cell\n",
       "var outputEl = gd.closest('.output');\n",
       "if (outputEl) {{\n",
       "    x.observe(outputEl, {childList: true});\n",
       "}}\n",
       "\n",
       "                        })                };                });            </script>        </div>"
      ]
     },
     "metadata": {},
     "output_type": "display_data"
    }
   ],
   "source": [
    "df.iplot(kind=\"box\")"
   ]
  },
  {
   "cell_type": "code",
   "execution_count": 22,
   "id": "860660cb",
   "metadata": {},
   "outputs": [],
   "source": [
    "df3 = pd.DataFrame({\"x\":[1,2,3,4,5],\"y\":[10,20,30,20,10],\"z\":[500,400,300,200,100]})"
   ]
  },
  {
   "cell_type": "code",
   "execution_count": 23,
   "id": "37f14f16",
   "metadata": {},
   "outputs": [
    {
     "data": {
      "text/html": [
       "<div>\n",
       "<style scoped>\n",
       "    .dataframe tbody tr th:only-of-type {\n",
       "        vertical-align: middle;\n",
       "    }\n",
       "\n",
       "    .dataframe tbody tr th {\n",
       "        vertical-align: top;\n",
       "    }\n",
       "\n",
       "    .dataframe thead th {\n",
       "        text-align: right;\n",
       "    }\n",
       "</style>\n",
       "<table border=\"1\" class=\"dataframe\">\n",
       "  <thead>\n",
       "    <tr style=\"text-align: right;\">\n",
       "      <th></th>\n",
       "      <th>x</th>\n",
       "      <th>y</th>\n",
       "      <th>z</th>\n",
       "    </tr>\n",
       "  </thead>\n",
       "  <tbody>\n",
       "    <tr>\n",
       "      <th>0</th>\n",
       "      <td>1</td>\n",
       "      <td>10</td>\n",
       "      <td>500</td>\n",
       "    </tr>\n",
       "    <tr>\n",
       "      <th>1</th>\n",
       "      <td>2</td>\n",
       "      <td>20</td>\n",
       "      <td>400</td>\n",
       "    </tr>\n",
       "    <tr>\n",
       "      <th>2</th>\n",
       "      <td>3</td>\n",
       "      <td>30</td>\n",
       "      <td>300</td>\n",
       "    </tr>\n",
       "    <tr>\n",
       "      <th>3</th>\n",
       "      <td>4</td>\n",
       "      <td>20</td>\n",
       "      <td>200</td>\n",
       "    </tr>\n",
       "    <tr>\n",
       "      <th>4</th>\n",
       "      <td>5</td>\n",
       "      <td>10</td>\n",
       "      <td>100</td>\n",
       "    </tr>\n",
       "  </tbody>\n",
       "</table>\n",
       "</div>"
      ],
      "text/plain": [
       "   x   y    z\n",
       "0  1  10  500\n",
       "1  2  20  400\n",
       "2  3  30  300\n",
       "3  4  20  200\n",
       "4  5  10  100"
      ]
     },
     "execution_count": 23,
     "metadata": {},
     "output_type": "execute_result"
    }
   ],
   "source": [
    "df3"
   ]
  },
  {
   "cell_type": "code",
   "execution_count": 24,
   "id": "b2de2985",
   "metadata": {},
   "outputs": [
    {
     "data": {
      "application/vnd.plotly.v1+json": {
       "config": {
        "linkText": "Export to plot.ly",
        "plotlyServerURL": "https://plot.ly",
        "showLink": true
       },
       "data": [
        {
         "colorscale": [
          [
           0,
           "rgb(255, 153, 51)"
          ],
          [
           0.1111111111111111,
           "rgb(55, 128, 191)"
          ],
          [
           0.2222222222222222,
           "rgb(50, 171, 96)"
          ],
          [
           0.3333333333333333,
           "rgb(128, 0, 128)"
          ],
          [
           0.4444444444444444,
           "rgb(219, 64, 82)"
          ],
          [
           0.5555555555555556,
           "rgb(0, 128, 128)"
          ],
          [
           0.6666666666666666,
           "rgb(255, 255, 51)"
          ],
          [
           0.7777777777777778,
           "rgb(128, 128, 0)"
          ],
          [
           0.8888888888888888,
           "rgb(251, 128, 114)"
          ],
          [
           1,
           "rgb(128, 177, 211)"
          ]
         ],
         "type": "surface",
         "x": [
          0,
          1,
          2,
          3,
          4
         ],
         "y": [
          "x",
          "y",
          "z"
         ],
         "z": [
          [
           1,
           2,
           3,
           4,
           5
          ],
          [
           10,
           20,
           30,
           20,
           10
          ],
          [
           500,
           400,
           300,
           200,
           100
          ]
         ]
        }
       ],
       "layout": {
        "legend": {
         "bgcolor": "#F5F6F9",
         "font": {
          "color": "#4D5663"
         }
        },
        "paper_bgcolor": "#F5F6F9",
        "plot_bgcolor": "#F5F6F9",
        "template": {
         "data": {
          "bar": [
           {
            "error_x": {
             "color": "#2a3f5f"
            },
            "error_y": {
             "color": "#2a3f5f"
            },
            "marker": {
             "line": {
              "color": "#E5ECF6",
              "width": 0.5
             },
             "pattern": {
              "fillmode": "overlay",
              "size": 10,
              "solidity": 0.2
             }
            },
            "type": "bar"
           }
          ],
          "barpolar": [
           {
            "marker": {
             "line": {
              "color": "#E5ECF6",
              "width": 0.5
             },
             "pattern": {
              "fillmode": "overlay",
              "size": 10,
              "solidity": 0.2
             }
            },
            "type": "barpolar"
           }
          ],
          "carpet": [
           {
            "aaxis": {
             "endlinecolor": "#2a3f5f",
             "gridcolor": "white",
             "linecolor": "white",
             "minorgridcolor": "white",
             "startlinecolor": "#2a3f5f"
            },
            "baxis": {
             "endlinecolor": "#2a3f5f",
             "gridcolor": "white",
             "linecolor": "white",
             "minorgridcolor": "white",
             "startlinecolor": "#2a3f5f"
            },
            "type": "carpet"
           }
          ],
          "choropleth": [
           {
            "colorbar": {
             "outlinewidth": 0,
             "ticks": ""
            },
            "type": "choropleth"
           }
          ],
          "contour": [
           {
            "colorbar": {
             "outlinewidth": 0,
             "ticks": ""
            },
            "colorscale": [
             [
              0,
              "#0d0887"
             ],
             [
              0.1111111111111111,
              "#46039f"
             ],
             [
              0.2222222222222222,
              "#7201a8"
             ],
             [
              0.3333333333333333,
              "#9c179e"
             ],
             [
              0.4444444444444444,
              "#bd3786"
             ],
             [
              0.5555555555555556,
              "#d8576b"
             ],
             [
              0.6666666666666666,
              "#ed7953"
             ],
             [
              0.7777777777777778,
              "#fb9f3a"
             ],
             [
              0.8888888888888888,
              "#fdca26"
             ],
             [
              1,
              "#f0f921"
             ]
            ],
            "type": "contour"
           }
          ],
          "contourcarpet": [
           {
            "colorbar": {
             "outlinewidth": 0,
             "ticks": ""
            },
            "type": "contourcarpet"
           }
          ],
          "heatmap": [
           {
            "colorbar": {
             "outlinewidth": 0,
             "ticks": ""
            },
            "colorscale": [
             [
              0,
              "#0d0887"
             ],
             [
              0.1111111111111111,
              "#46039f"
             ],
             [
              0.2222222222222222,
              "#7201a8"
             ],
             [
              0.3333333333333333,
              "#9c179e"
             ],
             [
              0.4444444444444444,
              "#bd3786"
             ],
             [
              0.5555555555555556,
              "#d8576b"
             ],
             [
              0.6666666666666666,
              "#ed7953"
             ],
             [
              0.7777777777777778,
              "#fb9f3a"
             ],
             [
              0.8888888888888888,
              "#fdca26"
             ],
             [
              1,
              "#f0f921"
             ]
            ],
            "type": "heatmap"
           }
          ],
          "heatmapgl": [
           {
            "colorbar": {
             "outlinewidth": 0,
             "ticks": ""
            },
            "colorscale": [
             [
              0,
              "#0d0887"
             ],
             [
              0.1111111111111111,
              "#46039f"
             ],
             [
              0.2222222222222222,
              "#7201a8"
             ],
             [
              0.3333333333333333,
              "#9c179e"
             ],
             [
              0.4444444444444444,
              "#bd3786"
             ],
             [
              0.5555555555555556,
              "#d8576b"
             ],
             [
              0.6666666666666666,
              "#ed7953"
             ],
             [
              0.7777777777777778,
              "#fb9f3a"
             ],
             [
              0.8888888888888888,
              "#fdca26"
             ],
             [
              1,
              "#f0f921"
             ]
            ],
            "type": "heatmapgl"
           }
          ],
          "histogram": [
           {
            "marker": {
             "pattern": {
              "fillmode": "overlay",
              "size": 10,
              "solidity": 0.2
             }
            },
            "type": "histogram"
           }
          ],
          "histogram2d": [
           {
            "colorbar": {
             "outlinewidth": 0,
             "ticks": ""
            },
            "colorscale": [
             [
              0,
              "#0d0887"
             ],
             [
              0.1111111111111111,
              "#46039f"
             ],
             [
              0.2222222222222222,
              "#7201a8"
             ],
             [
              0.3333333333333333,
              "#9c179e"
             ],
             [
              0.4444444444444444,
              "#bd3786"
             ],
             [
              0.5555555555555556,
              "#d8576b"
             ],
             [
              0.6666666666666666,
              "#ed7953"
             ],
             [
              0.7777777777777778,
              "#fb9f3a"
             ],
             [
              0.8888888888888888,
              "#fdca26"
             ],
             [
              1,
              "#f0f921"
             ]
            ],
            "type": "histogram2d"
           }
          ],
          "histogram2dcontour": [
           {
            "colorbar": {
             "outlinewidth": 0,
             "ticks": ""
            },
            "colorscale": [
             [
              0,
              "#0d0887"
             ],
             [
              0.1111111111111111,
              "#46039f"
             ],
             [
              0.2222222222222222,
              "#7201a8"
             ],
             [
              0.3333333333333333,
              "#9c179e"
             ],
             [
              0.4444444444444444,
              "#bd3786"
             ],
             [
              0.5555555555555556,
              "#d8576b"
             ],
             [
              0.6666666666666666,
              "#ed7953"
             ],
             [
              0.7777777777777778,
              "#fb9f3a"
             ],
             [
              0.8888888888888888,
              "#fdca26"
             ],
             [
              1,
              "#f0f921"
             ]
            ],
            "type": "histogram2dcontour"
           }
          ],
          "mesh3d": [
           {
            "colorbar": {
             "outlinewidth": 0,
             "ticks": ""
            },
            "type": "mesh3d"
           }
          ],
          "parcoords": [
           {
            "line": {
             "colorbar": {
              "outlinewidth": 0,
              "ticks": ""
             }
            },
            "type": "parcoords"
           }
          ],
          "pie": [
           {
            "automargin": true,
            "type": "pie"
           }
          ],
          "scatter": [
           {
            "fillpattern": {
             "fillmode": "overlay",
             "size": 10,
             "solidity": 0.2
            },
            "type": "scatter"
           }
          ],
          "scatter3d": [
           {
            "line": {
             "colorbar": {
              "outlinewidth": 0,
              "ticks": ""
             }
            },
            "marker": {
             "colorbar": {
              "outlinewidth": 0,
              "ticks": ""
             }
            },
            "type": "scatter3d"
           }
          ],
          "scattercarpet": [
           {
            "marker": {
             "colorbar": {
              "outlinewidth": 0,
              "ticks": ""
             }
            },
            "type": "scattercarpet"
           }
          ],
          "scattergeo": [
           {
            "marker": {
             "colorbar": {
              "outlinewidth": 0,
              "ticks": ""
             }
            },
            "type": "scattergeo"
           }
          ],
          "scattergl": [
           {
            "marker": {
             "colorbar": {
              "outlinewidth": 0,
              "ticks": ""
             }
            },
            "type": "scattergl"
           }
          ],
          "scattermapbox": [
           {
            "marker": {
             "colorbar": {
              "outlinewidth": 0,
              "ticks": ""
             }
            },
            "type": "scattermapbox"
           }
          ],
          "scatterpolar": [
           {
            "marker": {
             "colorbar": {
              "outlinewidth": 0,
              "ticks": ""
             }
            },
            "type": "scatterpolar"
           }
          ],
          "scatterpolargl": [
           {
            "marker": {
             "colorbar": {
              "outlinewidth": 0,
              "ticks": ""
             }
            },
            "type": "scatterpolargl"
           }
          ],
          "scatterternary": [
           {
            "marker": {
             "colorbar": {
              "outlinewidth": 0,
              "ticks": ""
             }
            },
            "type": "scatterternary"
           }
          ],
          "surface": [
           {
            "colorbar": {
             "outlinewidth": 0,
             "ticks": ""
            },
            "colorscale": [
             [
              0,
              "#0d0887"
             ],
             [
              0.1111111111111111,
              "#46039f"
             ],
             [
              0.2222222222222222,
              "#7201a8"
             ],
             [
              0.3333333333333333,
              "#9c179e"
             ],
             [
              0.4444444444444444,
              "#bd3786"
             ],
             [
              0.5555555555555556,
              "#d8576b"
             ],
             [
              0.6666666666666666,
              "#ed7953"
             ],
             [
              0.7777777777777778,
              "#fb9f3a"
             ],
             [
              0.8888888888888888,
              "#fdca26"
             ],
             [
              1,
              "#f0f921"
             ]
            ],
            "type": "surface"
           }
          ],
          "table": [
           {
            "cells": {
             "fill": {
              "color": "#EBF0F8"
             },
             "line": {
              "color": "white"
             }
            },
            "header": {
             "fill": {
              "color": "#C8D4E3"
             },
             "line": {
              "color": "white"
             }
            },
            "type": "table"
           }
          ]
         },
         "layout": {
          "annotationdefaults": {
           "arrowcolor": "#2a3f5f",
           "arrowhead": 0,
           "arrowwidth": 1
          },
          "autotypenumbers": "strict",
          "coloraxis": {
           "colorbar": {
            "outlinewidth": 0,
            "ticks": ""
           }
          },
          "colorscale": {
           "diverging": [
            [
             0,
             "#8e0152"
            ],
            [
             0.1,
             "#c51b7d"
            ],
            [
             0.2,
             "#de77ae"
            ],
            [
             0.3,
             "#f1b6da"
            ],
            [
             0.4,
             "#fde0ef"
            ],
            [
             0.5,
             "#f7f7f7"
            ],
            [
             0.6,
             "#e6f5d0"
            ],
            [
             0.7,
             "#b8e186"
            ],
            [
             0.8,
             "#7fbc41"
            ],
            [
             0.9,
             "#4d9221"
            ],
            [
             1,
             "#276419"
            ]
           ],
           "sequential": [
            [
             0,
             "#0d0887"
            ],
            [
             0.1111111111111111,
             "#46039f"
            ],
            [
             0.2222222222222222,
             "#7201a8"
            ],
            [
             0.3333333333333333,
             "#9c179e"
            ],
            [
             0.4444444444444444,
             "#bd3786"
            ],
            [
             0.5555555555555556,
             "#d8576b"
            ],
            [
             0.6666666666666666,
             "#ed7953"
            ],
            [
             0.7777777777777778,
             "#fb9f3a"
            ],
            [
             0.8888888888888888,
             "#fdca26"
            ],
            [
             1,
             "#f0f921"
            ]
           ],
           "sequentialminus": [
            [
             0,
             "#0d0887"
            ],
            [
             0.1111111111111111,
             "#46039f"
            ],
            [
             0.2222222222222222,
             "#7201a8"
            ],
            [
             0.3333333333333333,
             "#9c179e"
            ],
            [
             0.4444444444444444,
             "#bd3786"
            ],
            [
             0.5555555555555556,
             "#d8576b"
            ],
            [
             0.6666666666666666,
             "#ed7953"
            ],
            [
             0.7777777777777778,
             "#fb9f3a"
            ],
            [
             0.8888888888888888,
             "#fdca26"
            ],
            [
             1,
             "#f0f921"
            ]
           ]
          },
          "colorway": [
           "#636efa",
           "#EF553B",
           "#00cc96",
           "#ab63fa",
           "#FFA15A",
           "#19d3f3",
           "#FF6692",
           "#B6E880",
           "#FF97FF",
           "#FECB52"
          ],
          "font": {
           "color": "#2a3f5f"
          },
          "geo": {
           "bgcolor": "white",
           "lakecolor": "white",
           "landcolor": "#E5ECF6",
           "showlakes": true,
           "showland": true,
           "subunitcolor": "white"
          },
          "hoverlabel": {
           "align": "left"
          },
          "hovermode": "closest",
          "mapbox": {
           "style": "light"
          },
          "paper_bgcolor": "white",
          "plot_bgcolor": "#E5ECF6",
          "polar": {
           "angularaxis": {
            "gridcolor": "white",
            "linecolor": "white",
            "ticks": ""
           },
           "bgcolor": "#E5ECF6",
           "radialaxis": {
            "gridcolor": "white",
            "linecolor": "white",
            "ticks": ""
           }
          },
          "scene": {
           "xaxis": {
            "backgroundcolor": "#E5ECF6",
            "gridcolor": "white",
            "gridwidth": 2,
            "linecolor": "white",
            "showbackground": true,
            "ticks": "",
            "zerolinecolor": "white"
           },
           "yaxis": {
            "backgroundcolor": "#E5ECF6",
            "gridcolor": "white",
            "gridwidth": 2,
            "linecolor": "white",
            "showbackground": true,
            "ticks": "",
            "zerolinecolor": "white"
           },
           "zaxis": {
            "backgroundcolor": "#E5ECF6",
            "gridcolor": "white",
            "gridwidth": 2,
            "linecolor": "white",
            "showbackground": true,
            "ticks": "",
            "zerolinecolor": "white"
           }
          },
          "shapedefaults": {
           "line": {
            "color": "#2a3f5f"
           }
          },
          "ternary": {
           "aaxis": {
            "gridcolor": "white",
            "linecolor": "white",
            "ticks": ""
           },
           "baxis": {
            "gridcolor": "white",
            "linecolor": "white",
            "ticks": ""
           },
           "bgcolor": "#E5ECF6",
           "caxis": {
            "gridcolor": "white",
            "linecolor": "white",
            "ticks": ""
           }
          },
          "title": {
           "x": 0.05
          },
          "xaxis": {
           "automargin": true,
           "gridcolor": "white",
           "linecolor": "white",
           "ticks": "",
           "title": {
            "standoff": 15
           },
           "zerolinecolor": "white",
           "zerolinewidth": 2
          },
          "yaxis": {
           "automargin": true,
           "gridcolor": "white",
           "linecolor": "white",
           "ticks": "",
           "title": {
            "standoff": 15
           },
           "zerolinecolor": "white",
           "zerolinewidth": 2
          }
         }
        },
        "title": {
         "font": {
          "color": "#4D5663"
         }
        },
        "xaxis": {
         "gridcolor": "#E1E5ED",
         "showgrid": true,
         "tickfont": {
          "color": "#4D5663"
         },
         "title": {
          "font": {
           "color": "#4D5663"
          },
          "text": ""
         },
         "zerolinecolor": "#E1E5ED"
        },
        "yaxis": {
         "gridcolor": "#E1E5ED",
         "showgrid": true,
         "tickfont": {
          "color": "#4D5663"
         },
         "title": {
          "font": {
           "color": "#4D5663"
          },
          "text": ""
         },
         "zerolinecolor": "#E1E5ED"
        }
       }
      },
      "text/html": [
       "<div>                            <div id=\"7d191d4f-086a-403a-92f2-2da34a7011c0\" class=\"plotly-graph-div\" style=\"height:525px; width:100%;\"></div>            <script type=\"text/javascript\">                require([\"plotly\"], function(Plotly) {                    window.PLOTLYENV=window.PLOTLYENV || {};\n",
       "                    window.PLOTLYENV.BASE_URL='https://plot.ly';                                    if (document.getElementById(\"7d191d4f-086a-403a-92f2-2da34a7011c0\")) {                    Plotly.newPlot(                        \"7d191d4f-086a-403a-92f2-2da34a7011c0\",                        [{\"colorscale\":[[0.0,\"rgb(255, 153, 51)\"],[0.1111111111111111,\"rgb(55, 128, 191)\"],[0.2222222222222222,\"rgb(50, 171, 96)\"],[0.3333333333333333,\"rgb(128, 0, 128)\"],[0.4444444444444444,\"rgb(219, 64, 82)\"],[0.5555555555555556,\"rgb(0, 128, 128)\"],[0.6666666666666666,\"rgb(255, 255, 51)\"],[0.7777777777777778,\"rgb(128, 128, 0)\"],[0.8888888888888888,\"rgb(251, 128, 114)\"],[1.0,\"rgb(128, 177, 211)\"]],\"x\":[0,1,2,3,4],\"y\":[\"x\",\"y\",\"z\"],\"z\":[[1,2,3,4,5],[10,20,30,20,10],[500,400,300,200,100]],\"type\":\"surface\"}],                        {\"legend\":{\"bgcolor\":\"#F5F6F9\",\"font\":{\"color\":\"#4D5663\"}},\"paper_bgcolor\":\"#F5F6F9\",\"plot_bgcolor\":\"#F5F6F9\",\"template\":{\"data\":{\"barpolar\":[{\"marker\":{\"line\":{\"color\":\"#E5ECF6\",\"width\":0.5},\"pattern\":{\"fillmode\":\"overlay\",\"size\":10,\"solidity\":0.2}},\"type\":\"barpolar\"}],\"bar\":[{\"error_x\":{\"color\":\"#2a3f5f\"},\"error_y\":{\"color\":\"#2a3f5f\"},\"marker\":{\"line\":{\"color\":\"#E5ECF6\",\"width\":0.5},\"pattern\":{\"fillmode\":\"overlay\",\"size\":10,\"solidity\":0.2}},\"type\":\"bar\"}],\"carpet\":[{\"aaxis\":{\"endlinecolor\":\"#2a3f5f\",\"gridcolor\":\"white\",\"linecolor\":\"white\",\"minorgridcolor\":\"white\",\"startlinecolor\":\"#2a3f5f\"},\"baxis\":{\"endlinecolor\":\"#2a3f5f\",\"gridcolor\":\"white\",\"linecolor\":\"white\",\"minorgridcolor\":\"white\",\"startlinecolor\":\"#2a3f5f\"},\"type\":\"carpet\"}],\"choropleth\":[{\"colorbar\":{\"outlinewidth\":0,\"ticks\":\"\"},\"type\":\"choropleth\"}],\"contourcarpet\":[{\"colorbar\":{\"outlinewidth\":0,\"ticks\":\"\"},\"type\":\"contourcarpet\"}],\"contour\":[{\"colorbar\":{\"outlinewidth\":0,\"ticks\":\"\"},\"colorscale\":[[0.0,\"#0d0887\"],[0.1111111111111111,\"#46039f\"],[0.2222222222222222,\"#7201a8\"],[0.3333333333333333,\"#9c179e\"],[0.4444444444444444,\"#bd3786\"],[0.5555555555555556,\"#d8576b\"],[0.6666666666666666,\"#ed7953\"],[0.7777777777777778,\"#fb9f3a\"],[0.8888888888888888,\"#fdca26\"],[1.0,\"#f0f921\"]],\"type\":\"contour\"}],\"heatmapgl\":[{\"colorbar\":{\"outlinewidth\":0,\"ticks\":\"\"},\"colorscale\":[[0.0,\"#0d0887\"],[0.1111111111111111,\"#46039f\"],[0.2222222222222222,\"#7201a8\"],[0.3333333333333333,\"#9c179e\"],[0.4444444444444444,\"#bd3786\"],[0.5555555555555556,\"#d8576b\"],[0.6666666666666666,\"#ed7953\"],[0.7777777777777778,\"#fb9f3a\"],[0.8888888888888888,\"#fdca26\"],[1.0,\"#f0f921\"]],\"type\":\"heatmapgl\"}],\"heatmap\":[{\"colorbar\":{\"outlinewidth\":0,\"ticks\":\"\"},\"colorscale\":[[0.0,\"#0d0887\"],[0.1111111111111111,\"#46039f\"],[0.2222222222222222,\"#7201a8\"],[0.3333333333333333,\"#9c179e\"],[0.4444444444444444,\"#bd3786\"],[0.5555555555555556,\"#d8576b\"],[0.6666666666666666,\"#ed7953\"],[0.7777777777777778,\"#fb9f3a\"],[0.8888888888888888,\"#fdca26\"],[1.0,\"#f0f921\"]],\"type\":\"heatmap\"}],\"histogram2dcontour\":[{\"colorbar\":{\"outlinewidth\":0,\"ticks\":\"\"},\"colorscale\":[[0.0,\"#0d0887\"],[0.1111111111111111,\"#46039f\"],[0.2222222222222222,\"#7201a8\"],[0.3333333333333333,\"#9c179e\"],[0.4444444444444444,\"#bd3786\"],[0.5555555555555556,\"#d8576b\"],[0.6666666666666666,\"#ed7953\"],[0.7777777777777778,\"#fb9f3a\"],[0.8888888888888888,\"#fdca26\"],[1.0,\"#f0f921\"]],\"type\":\"histogram2dcontour\"}],\"histogram2d\":[{\"colorbar\":{\"outlinewidth\":0,\"ticks\":\"\"},\"colorscale\":[[0.0,\"#0d0887\"],[0.1111111111111111,\"#46039f\"],[0.2222222222222222,\"#7201a8\"],[0.3333333333333333,\"#9c179e\"],[0.4444444444444444,\"#bd3786\"],[0.5555555555555556,\"#d8576b\"],[0.6666666666666666,\"#ed7953\"],[0.7777777777777778,\"#fb9f3a\"],[0.8888888888888888,\"#fdca26\"],[1.0,\"#f0f921\"]],\"type\":\"histogram2d\"}],\"histogram\":[{\"marker\":{\"pattern\":{\"fillmode\":\"overlay\",\"size\":10,\"solidity\":0.2}},\"type\":\"histogram\"}],\"mesh3d\":[{\"colorbar\":{\"outlinewidth\":0,\"ticks\":\"\"},\"type\":\"mesh3d\"}],\"parcoords\":[{\"line\":{\"colorbar\":{\"outlinewidth\":0,\"ticks\":\"\"}},\"type\":\"parcoords\"}],\"pie\":[{\"automargin\":true,\"type\":\"pie\"}],\"scatter3d\":[{\"line\":{\"colorbar\":{\"outlinewidth\":0,\"ticks\":\"\"}},\"marker\":{\"colorbar\":{\"outlinewidth\":0,\"ticks\":\"\"}},\"type\":\"scatter3d\"}],\"scattercarpet\":[{\"marker\":{\"colorbar\":{\"outlinewidth\":0,\"ticks\":\"\"}},\"type\":\"scattercarpet\"}],\"scattergeo\":[{\"marker\":{\"colorbar\":{\"outlinewidth\":0,\"ticks\":\"\"}},\"type\":\"scattergeo\"}],\"scattergl\":[{\"marker\":{\"colorbar\":{\"outlinewidth\":0,\"ticks\":\"\"}},\"type\":\"scattergl\"}],\"scattermapbox\":[{\"marker\":{\"colorbar\":{\"outlinewidth\":0,\"ticks\":\"\"}},\"type\":\"scattermapbox\"}],\"scatterpolargl\":[{\"marker\":{\"colorbar\":{\"outlinewidth\":0,\"ticks\":\"\"}},\"type\":\"scatterpolargl\"}],\"scatterpolar\":[{\"marker\":{\"colorbar\":{\"outlinewidth\":0,\"ticks\":\"\"}},\"type\":\"scatterpolar\"}],\"scatter\":[{\"fillpattern\":{\"fillmode\":\"overlay\",\"size\":10,\"solidity\":0.2},\"type\":\"scatter\"}],\"scatterternary\":[{\"marker\":{\"colorbar\":{\"outlinewidth\":0,\"ticks\":\"\"}},\"type\":\"scatterternary\"}],\"surface\":[{\"colorbar\":{\"outlinewidth\":0,\"ticks\":\"\"},\"colorscale\":[[0.0,\"#0d0887\"],[0.1111111111111111,\"#46039f\"],[0.2222222222222222,\"#7201a8\"],[0.3333333333333333,\"#9c179e\"],[0.4444444444444444,\"#bd3786\"],[0.5555555555555556,\"#d8576b\"],[0.6666666666666666,\"#ed7953\"],[0.7777777777777778,\"#fb9f3a\"],[0.8888888888888888,\"#fdca26\"],[1.0,\"#f0f921\"]],\"type\":\"surface\"}],\"table\":[{\"cells\":{\"fill\":{\"color\":\"#EBF0F8\"},\"line\":{\"color\":\"white\"}},\"header\":{\"fill\":{\"color\":\"#C8D4E3\"},\"line\":{\"color\":\"white\"}},\"type\":\"table\"}]},\"layout\":{\"annotationdefaults\":{\"arrowcolor\":\"#2a3f5f\",\"arrowhead\":0,\"arrowwidth\":1},\"autotypenumbers\":\"strict\",\"coloraxis\":{\"colorbar\":{\"outlinewidth\":0,\"ticks\":\"\"}},\"colorscale\":{\"diverging\":[[0,\"#8e0152\"],[0.1,\"#c51b7d\"],[0.2,\"#de77ae\"],[0.3,\"#f1b6da\"],[0.4,\"#fde0ef\"],[0.5,\"#f7f7f7\"],[0.6,\"#e6f5d0\"],[0.7,\"#b8e186\"],[0.8,\"#7fbc41\"],[0.9,\"#4d9221\"],[1,\"#276419\"]],\"sequential\":[[0.0,\"#0d0887\"],[0.1111111111111111,\"#46039f\"],[0.2222222222222222,\"#7201a8\"],[0.3333333333333333,\"#9c179e\"],[0.4444444444444444,\"#bd3786\"],[0.5555555555555556,\"#d8576b\"],[0.6666666666666666,\"#ed7953\"],[0.7777777777777778,\"#fb9f3a\"],[0.8888888888888888,\"#fdca26\"],[1.0,\"#f0f921\"]],\"sequentialminus\":[[0.0,\"#0d0887\"],[0.1111111111111111,\"#46039f\"],[0.2222222222222222,\"#7201a8\"],[0.3333333333333333,\"#9c179e\"],[0.4444444444444444,\"#bd3786\"],[0.5555555555555556,\"#d8576b\"],[0.6666666666666666,\"#ed7953\"],[0.7777777777777778,\"#fb9f3a\"],[0.8888888888888888,\"#fdca26\"],[1.0,\"#f0f921\"]]},\"colorway\":[\"#636efa\",\"#EF553B\",\"#00cc96\",\"#ab63fa\",\"#FFA15A\",\"#19d3f3\",\"#FF6692\",\"#B6E880\",\"#FF97FF\",\"#FECB52\"],\"font\":{\"color\":\"#2a3f5f\"},\"geo\":{\"bgcolor\":\"white\",\"lakecolor\":\"white\",\"landcolor\":\"#E5ECF6\",\"showlakes\":true,\"showland\":true,\"subunitcolor\":\"white\"},\"hoverlabel\":{\"align\":\"left\"},\"hovermode\":\"closest\",\"mapbox\":{\"style\":\"light\"},\"paper_bgcolor\":\"white\",\"plot_bgcolor\":\"#E5ECF6\",\"polar\":{\"angularaxis\":{\"gridcolor\":\"white\",\"linecolor\":\"white\",\"ticks\":\"\"},\"bgcolor\":\"#E5ECF6\",\"radialaxis\":{\"gridcolor\":\"white\",\"linecolor\":\"white\",\"ticks\":\"\"}},\"scene\":{\"xaxis\":{\"backgroundcolor\":\"#E5ECF6\",\"gridcolor\":\"white\",\"gridwidth\":2,\"linecolor\":\"white\",\"showbackground\":true,\"ticks\":\"\",\"zerolinecolor\":\"white\"},\"yaxis\":{\"backgroundcolor\":\"#E5ECF6\",\"gridcolor\":\"white\",\"gridwidth\":2,\"linecolor\":\"white\",\"showbackground\":true,\"ticks\":\"\",\"zerolinecolor\":\"white\"},\"zaxis\":{\"backgroundcolor\":\"#E5ECF6\",\"gridcolor\":\"white\",\"gridwidth\":2,\"linecolor\":\"white\",\"showbackground\":true,\"ticks\":\"\",\"zerolinecolor\":\"white\"}},\"shapedefaults\":{\"line\":{\"color\":\"#2a3f5f\"}},\"ternary\":{\"aaxis\":{\"gridcolor\":\"white\",\"linecolor\":\"white\",\"ticks\":\"\"},\"baxis\":{\"gridcolor\":\"white\",\"linecolor\":\"white\",\"ticks\":\"\"},\"bgcolor\":\"#E5ECF6\",\"caxis\":{\"gridcolor\":\"white\",\"linecolor\":\"white\",\"ticks\":\"\"}},\"title\":{\"x\":0.05},\"xaxis\":{\"automargin\":true,\"gridcolor\":\"white\",\"linecolor\":\"white\",\"ticks\":\"\",\"title\":{\"standoff\":15},\"zerolinecolor\":\"white\",\"zerolinewidth\":2},\"yaxis\":{\"automargin\":true,\"gridcolor\":\"white\",\"linecolor\":\"white\",\"ticks\":\"\",\"title\":{\"standoff\":15},\"zerolinecolor\":\"white\",\"zerolinewidth\":2}}},\"title\":{\"font\":{\"color\":\"#4D5663\"}},\"xaxis\":{\"gridcolor\":\"#E1E5ED\",\"showgrid\":true,\"tickfont\":{\"color\":\"#4D5663\"},\"title\":{\"font\":{\"color\":\"#4D5663\"},\"text\":\"\"},\"zerolinecolor\":\"#E1E5ED\"},\"yaxis\":{\"gridcolor\":\"#E1E5ED\",\"showgrid\":true,\"tickfont\":{\"color\":\"#4D5663\"},\"title\":{\"font\":{\"color\":\"#4D5663\"},\"text\":\"\"},\"zerolinecolor\":\"#E1E5ED\"}},                        {\"showLink\": true, \"linkText\": \"Export to plot.ly\", \"plotlyServerURL\": \"https://plot.ly\", \"responsive\": true}                    ).then(function(){\n",
       "                            \n",
       "var gd = document.getElementById('7d191d4f-086a-403a-92f2-2da34a7011c0');\n",
       "var x = new MutationObserver(function (mutations, observer) {{\n",
       "        var display = window.getComputedStyle(gd).display;\n",
       "        if (!display || display === 'none') {{\n",
       "            console.log([gd, 'removed!']);\n",
       "            Plotly.purge(gd);\n",
       "            observer.disconnect();\n",
       "        }}\n",
       "}});\n",
       "\n",
       "// Listen for the removal of the full notebook cells\n",
       "var notebookContainer = gd.closest('#notebook-container');\n",
       "if (notebookContainer) {{\n",
       "    x.observe(notebookContainer, {childList: true});\n",
       "}}\n",
       "\n",
       "// Listen for the clearing of the current output cell\n",
       "var outputEl = gd.closest('.output');\n",
       "if (outputEl) {{\n",
       "    x.observe(outputEl, {childList: true});\n",
       "}}\n",
       "\n",
       "                        })                };                });            </script>        </div>"
      ]
     },
     "metadata": {},
     "output_type": "display_data"
    }
   ],
   "source": [
    "df3.iplot(kind=\"surface\")"
   ]
  },
  {
   "cell_type": "code",
   "execution_count": 25,
   "id": "324db8b0",
   "metadata": {},
   "outputs": [],
   "source": [
    "df4 = df3 = pd.DataFrame({\"x\":[1,2,3,4,5],\"y\":[10,20,30,20,10],\"z\":[5,4,3,2,1]})"
   ]
  },
  {
   "cell_type": "code",
   "execution_count": 26,
   "id": "150c7304",
   "metadata": {},
   "outputs": [
    {
     "data": {
      "application/vnd.plotly.v1+json": {
       "config": {
        "linkText": "Export to plot.ly",
        "plotlyServerURL": "https://plot.ly",
        "showLink": true
       },
       "data": [
        {
         "colorscale": [
          [
           0,
           "rgb(165,0,38)"
          ],
          [
           0.1,
           "rgb(215,48,39)"
          ],
          [
           0.2,
           "rgb(244,109,67)"
          ],
          [
           0.3,
           "rgb(253,174,97)"
          ],
          [
           0.4,
           "rgb(254,224,144)"
          ],
          [
           0.5,
           "rgb(255,255,191)"
          ],
          [
           0.6,
           "rgb(224,243,248)"
          ],
          [
           0.7,
           "rgb(171,217,233)"
          ],
          [
           0.8,
           "rgb(116,173,209)"
          ],
          [
           0.9,
           "rgb(69,117,180)"
          ],
          [
           1,
           "rgb(49,54,149)"
          ]
         ],
         "type": "surface",
         "x": [
          0,
          1,
          2,
          3,
          4
         ],
         "y": [
          "x",
          "y",
          "z"
         ],
         "z": [
          [
           1,
           2,
           3,
           4,
           5
          ],
          [
           10,
           20,
           30,
           20,
           10
          ],
          [
           5,
           4,
           3,
           2,
           1
          ]
         ]
        }
       ],
       "layout": {
        "legend": {
         "bgcolor": "#F5F6F9",
         "font": {
          "color": "#4D5663"
         }
        },
        "paper_bgcolor": "#F5F6F9",
        "plot_bgcolor": "#F5F6F9",
        "template": {
         "data": {
          "bar": [
           {
            "error_x": {
             "color": "#2a3f5f"
            },
            "error_y": {
             "color": "#2a3f5f"
            },
            "marker": {
             "line": {
              "color": "#E5ECF6",
              "width": 0.5
             },
             "pattern": {
              "fillmode": "overlay",
              "size": 10,
              "solidity": 0.2
             }
            },
            "type": "bar"
           }
          ],
          "barpolar": [
           {
            "marker": {
             "line": {
              "color": "#E5ECF6",
              "width": 0.5
             },
             "pattern": {
              "fillmode": "overlay",
              "size": 10,
              "solidity": 0.2
             }
            },
            "type": "barpolar"
           }
          ],
          "carpet": [
           {
            "aaxis": {
             "endlinecolor": "#2a3f5f",
             "gridcolor": "white",
             "linecolor": "white",
             "minorgridcolor": "white",
             "startlinecolor": "#2a3f5f"
            },
            "baxis": {
             "endlinecolor": "#2a3f5f",
             "gridcolor": "white",
             "linecolor": "white",
             "minorgridcolor": "white",
             "startlinecolor": "#2a3f5f"
            },
            "type": "carpet"
           }
          ],
          "choropleth": [
           {
            "colorbar": {
             "outlinewidth": 0,
             "ticks": ""
            },
            "type": "choropleth"
           }
          ],
          "contour": [
           {
            "colorbar": {
             "outlinewidth": 0,
             "ticks": ""
            },
            "colorscale": [
             [
              0,
              "#0d0887"
             ],
             [
              0.1111111111111111,
              "#46039f"
             ],
             [
              0.2222222222222222,
              "#7201a8"
             ],
             [
              0.3333333333333333,
              "#9c179e"
             ],
             [
              0.4444444444444444,
              "#bd3786"
             ],
             [
              0.5555555555555556,
              "#d8576b"
             ],
             [
              0.6666666666666666,
              "#ed7953"
             ],
             [
              0.7777777777777778,
              "#fb9f3a"
             ],
             [
              0.8888888888888888,
              "#fdca26"
             ],
             [
              1,
              "#f0f921"
             ]
            ],
            "type": "contour"
           }
          ],
          "contourcarpet": [
           {
            "colorbar": {
             "outlinewidth": 0,
             "ticks": ""
            },
            "type": "contourcarpet"
           }
          ],
          "heatmap": [
           {
            "colorbar": {
             "outlinewidth": 0,
             "ticks": ""
            },
            "colorscale": [
             [
              0,
              "#0d0887"
             ],
             [
              0.1111111111111111,
              "#46039f"
             ],
             [
              0.2222222222222222,
              "#7201a8"
             ],
             [
              0.3333333333333333,
              "#9c179e"
             ],
             [
              0.4444444444444444,
              "#bd3786"
             ],
             [
              0.5555555555555556,
              "#d8576b"
             ],
             [
              0.6666666666666666,
              "#ed7953"
             ],
             [
              0.7777777777777778,
              "#fb9f3a"
             ],
             [
              0.8888888888888888,
              "#fdca26"
             ],
             [
              1,
              "#f0f921"
             ]
            ],
            "type": "heatmap"
           }
          ],
          "heatmapgl": [
           {
            "colorbar": {
             "outlinewidth": 0,
             "ticks": ""
            },
            "colorscale": [
             [
              0,
              "#0d0887"
             ],
             [
              0.1111111111111111,
              "#46039f"
             ],
             [
              0.2222222222222222,
              "#7201a8"
             ],
             [
              0.3333333333333333,
              "#9c179e"
             ],
             [
              0.4444444444444444,
              "#bd3786"
             ],
             [
              0.5555555555555556,
              "#d8576b"
             ],
             [
              0.6666666666666666,
              "#ed7953"
             ],
             [
              0.7777777777777778,
              "#fb9f3a"
             ],
             [
              0.8888888888888888,
              "#fdca26"
             ],
             [
              1,
              "#f0f921"
             ]
            ],
            "type": "heatmapgl"
           }
          ],
          "histogram": [
           {
            "marker": {
             "pattern": {
              "fillmode": "overlay",
              "size": 10,
              "solidity": 0.2
             }
            },
            "type": "histogram"
           }
          ],
          "histogram2d": [
           {
            "colorbar": {
             "outlinewidth": 0,
             "ticks": ""
            },
            "colorscale": [
             [
              0,
              "#0d0887"
             ],
             [
              0.1111111111111111,
              "#46039f"
             ],
             [
              0.2222222222222222,
              "#7201a8"
             ],
             [
              0.3333333333333333,
              "#9c179e"
             ],
             [
              0.4444444444444444,
              "#bd3786"
             ],
             [
              0.5555555555555556,
              "#d8576b"
             ],
             [
              0.6666666666666666,
              "#ed7953"
             ],
             [
              0.7777777777777778,
              "#fb9f3a"
             ],
             [
              0.8888888888888888,
              "#fdca26"
             ],
             [
              1,
              "#f0f921"
             ]
            ],
            "type": "histogram2d"
           }
          ],
          "histogram2dcontour": [
           {
            "colorbar": {
             "outlinewidth": 0,
             "ticks": ""
            },
            "colorscale": [
             [
              0,
              "#0d0887"
             ],
             [
              0.1111111111111111,
              "#46039f"
             ],
             [
              0.2222222222222222,
              "#7201a8"
             ],
             [
              0.3333333333333333,
              "#9c179e"
             ],
             [
              0.4444444444444444,
              "#bd3786"
             ],
             [
              0.5555555555555556,
              "#d8576b"
             ],
             [
              0.6666666666666666,
              "#ed7953"
             ],
             [
              0.7777777777777778,
              "#fb9f3a"
             ],
             [
              0.8888888888888888,
              "#fdca26"
             ],
             [
              1,
              "#f0f921"
             ]
            ],
            "type": "histogram2dcontour"
           }
          ],
          "mesh3d": [
           {
            "colorbar": {
             "outlinewidth": 0,
             "ticks": ""
            },
            "type": "mesh3d"
           }
          ],
          "parcoords": [
           {
            "line": {
             "colorbar": {
              "outlinewidth": 0,
              "ticks": ""
             }
            },
            "type": "parcoords"
           }
          ],
          "pie": [
           {
            "automargin": true,
            "type": "pie"
           }
          ],
          "scatter": [
           {
            "fillpattern": {
             "fillmode": "overlay",
             "size": 10,
             "solidity": 0.2
            },
            "type": "scatter"
           }
          ],
          "scatter3d": [
           {
            "line": {
             "colorbar": {
              "outlinewidth": 0,
              "ticks": ""
             }
            },
            "marker": {
             "colorbar": {
              "outlinewidth": 0,
              "ticks": ""
             }
            },
            "type": "scatter3d"
           }
          ],
          "scattercarpet": [
           {
            "marker": {
             "colorbar": {
              "outlinewidth": 0,
              "ticks": ""
             }
            },
            "type": "scattercarpet"
           }
          ],
          "scattergeo": [
           {
            "marker": {
             "colorbar": {
              "outlinewidth": 0,
              "ticks": ""
             }
            },
            "type": "scattergeo"
           }
          ],
          "scattergl": [
           {
            "marker": {
             "colorbar": {
              "outlinewidth": 0,
              "ticks": ""
             }
            },
            "type": "scattergl"
           }
          ],
          "scattermapbox": [
           {
            "marker": {
             "colorbar": {
              "outlinewidth": 0,
              "ticks": ""
             }
            },
            "type": "scattermapbox"
           }
          ],
          "scatterpolar": [
           {
            "marker": {
             "colorbar": {
              "outlinewidth": 0,
              "ticks": ""
             }
            },
            "type": "scatterpolar"
           }
          ],
          "scatterpolargl": [
           {
            "marker": {
             "colorbar": {
              "outlinewidth": 0,
              "ticks": ""
             }
            },
            "type": "scatterpolargl"
           }
          ],
          "scatterternary": [
           {
            "marker": {
             "colorbar": {
              "outlinewidth": 0,
              "ticks": ""
             }
            },
            "type": "scatterternary"
           }
          ],
          "surface": [
           {
            "colorbar": {
             "outlinewidth": 0,
             "ticks": ""
            },
            "colorscale": [
             [
              0,
              "#0d0887"
             ],
             [
              0.1111111111111111,
              "#46039f"
             ],
             [
              0.2222222222222222,
              "#7201a8"
             ],
             [
              0.3333333333333333,
              "#9c179e"
             ],
             [
              0.4444444444444444,
              "#bd3786"
             ],
             [
              0.5555555555555556,
              "#d8576b"
             ],
             [
              0.6666666666666666,
              "#ed7953"
             ],
             [
              0.7777777777777778,
              "#fb9f3a"
             ],
             [
              0.8888888888888888,
              "#fdca26"
             ],
             [
              1,
              "#f0f921"
             ]
            ],
            "type": "surface"
           }
          ],
          "table": [
           {
            "cells": {
             "fill": {
              "color": "#EBF0F8"
             },
             "line": {
              "color": "white"
             }
            },
            "header": {
             "fill": {
              "color": "#C8D4E3"
             },
             "line": {
              "color": "white"
             }
            },
            "type": "table"
           }
          ]
         },
         "layout": {
          "annotationdefaults": {
           "arrowcolor": "#2a3f5f",
           "arrowhead": 0,
           "arrowwidth": 1
          },
          "autotypenumbers": "strict",
          "coloraxis": {
           "colorbar": {
            "outlinewidth": 0,
            "ticks": ""
           }
          },
          "colorscale": {
           "diverging": [
            [
             0,
             "#8e0152"
            ],
            [
             0.1,
             "#c51b7d"
            ],
            [
             0.2,
             "#de77ae"
            ],
            [
             0.3,
             "#f1b6da"
            ],
            [
             0.4,
             "#fde0ef"
            ],
            [
             0.5,
             "#f7f7f7"
            ],
            [
             0.6,
             "#e6f5d0"
            ],
            [
             0.7,
             "#b8e186"
            ],
            [
             0.8,
             "#7fbc41"
            ],
            [
             0.9,
             "#4d9221"
            ],
            [
             1,
             "#276419"
            ]
           ],
           "sequential": [
            [
             0,
             "#0d0887"
            ],
            [
             0.1111111111111111,
             "#46039f"
            ],
            [
             0.2222222222222222,
             "#7201a8"
            ],
            [
             0.3333333333333333,
             "#9c179e"
            ],
            [
             0.4444444444444444,
             "#bd3786"
            ],
            [
             0.5555555555555556,
             "#d8576b"
            ],
            [
             0.6666666666666666,
             "#ed7953"
            ],
            [
             0.7777777777777778,
             "#fb9f3a"
            ],
            [
             0.8888888888888888,
             "#fdca26"
            ],
            [
             1,
             "#f0f921"
            ]
           ],
           "sequentialminus": [
            [
             0,
             "#0d0887"
            ],
            [
             0.1111111111111111,
             "#46039f"
            ],
            [
             0.2222222222222222,
             "#7201a8"
            ],
            [
             0.3333333333333333,
             "#9c179e"
            ],
            [
             0.4444444444444444,
             "#bd3786"
            ],
            [
             0.5555555555555556,
             "#d8576b"
            ],
            [
             0.6666666666666666,
             "#ed7953"
            ],
            [
             0.7777777777777778,
             "#fb9f3a"
            ],
            [
             0.8888888888888888,
             "#fdca26"
            ],
            [
             1,
             "#f0f921"
            ]
           ]
          },
          "colorway": [
           "#636efa",
           "#EF553B",
           "#00cc96",
           "#ab63fa",
           "#FFA15A",
           "#19d3f3",
           "#FF6692",
           "#B6E880",
           "#FF97FF",
           "#FECB52"
          ],
          "font": {
           "color": "#2a3f5f"
          },
          "geo": {
           "bgcolor": "white",
           "lakecolor": "white",
           "landcolor": "#E5ECF6",
           "showlakes": true,
           "showland": true,
           "subunitcolor": "white"
          },
          "hoverlabel": {
           "align": "left"
          },
          "hovermode": "closest",
          "mapbox": {
           "style": "light"
          },
          "paper_bgcolor": "white",
          "plot_bgcolor": "#E5ECF6",
          "polar": {
           "angularaxis": {
            "gridcolor": "white",
            "linecolor": "white",
            "ticks": ""
           },
           "bgcolor": "#E5ECF6",
           "radialaxis": {
            "gridcolor": "white",
            "linecolor": "white",
            "ticks": ""
           }
          },
          "scene": {
           "xaxis": {
            "backgroundcolor": "#E5ECF6",
            "gridcolor": "white",
            "gridwidth": 2,
            "linecolor": "white",
            "showbackground": true,
            "ticks": "",
            "zerolinecolor": "white"
           },
           "yaxis": {
            "backgroundcolor": "#E5ECF6",
            "gridcolor": "white",
            "gridwidth": 2,
            "linecolor": "white",
            "showbackground": true,
            "ticks": "",
            "zerolinecolor": "white"
           },
           "zaxis": {
            "backgroundcolor": "#E5ECF6",
            "gridcolor": "white",
            "gridwidth": 2,
            "linecolor": "white",
            "showbackground": true,
            "ticks": "",
            "zerolinecolor": "white"
           }
          },
          "shapedefaults": {
           "line": {
            "color": "#2a3f5f"
           }
          },
          "ternary": {
           "aaxis": {
            "gridcolor": "white",
            "linecolor": "white",
            "ticks": ""
           },
           "baxis": {
            "gridcolor": "white",
            "linecolor": "white",
            "ticks": ""
           },
           "bgcolor": "#E5ECF6",
           "caxis": {
            "gridcolor": "white",
            "linecolor": "white",
            "ticks": ""
           }
          },
          "title": {
           "x": 0.05
          },
          "xaxis": {
           "automargin": true,
           "gridcolor": "white",
           "linecolor": "white",
           "ticks": "",
           "title": {
            "standoff": 15
           },
           "zerolinecolor": "white",
           "zerolinewidth": 2
          },
          "yaxis": {
           "automargin": true,
           "gridcolor": "white",
           "linecolor": "white",
           "ticks": "",
           "title": {
            "standoff": 15
           },
           "zerolinecolor": "white",
           "zerolinewidth": 2
          }
         }
        },
        "title": {
         "font": {
          "color": "#4D5663"
         }
        },
        "xaxis": {
         "gridcolor": "#E1E5ED",
         "showgrid": true,
         "tickfont": {
          "color": "#4D5663"
         },
         "title": {
          "font": {
           "color": "#4D5663"
          },
          "text": ""
         },
         "zerolinecolor": "#E1E5ED"
        },
        "yaxis": {
         "gridcolor": "#E1E5ED",
         "showgrid": true,
         "tickfont": {
          "color": "#4D5663"
         },
         "title": {
          "font": {
           "color": "#4D5663"
          },
          "text": ""
         },
         "zerolinecolor": "#E1E5ED"
        }
       }
      },
      "text/html": [
       "<div>                            <div id=\"67fc9c5a-87d1-45fa-9bab-e45ee97344dc\" class=\"plotly-graph-div\" style=\"height:525px; width:100%;\"></div>            <script type=\"text/javascript\">                require([\"plotly\"], function(Plotly) {                    window.PLOTLYENV=window.PLOTLYENV || {};\n",
       "                    window.PLOTLYENV.BASE_URL='https://plot.ly';                                    if (document.getElementById(\"67fc9c5a-87d1-45fa-9bab-e45ee97344dc\")) {                    Plotly.newPlot(                        \"67fc9c5a-87d1-45fa-9bab-e45ee97344dc\",                        [{\"colorscale\":[[0.0,\"rgb(165,0,38)\"],[0.1,\"rgb(215,48,39)\"],[0.2,\"rgb(244,109,67)\"],[0.3,\"rgb(253,174,97)\"],[0.4,\"rgb(254,224,144)\"],[0.5,\"rgb(255,255,191)\"],[0.6,\"rgb(224,243,248)\"],[0.7,\"rgb(171,217,233)\"],[0.8,\"rgb(116,173,209)\"],[0.9,\"rgb(69,117,180)\"],[1.0,\"rgb(49,54,149)\"]],\"x\":[0,1,2,3,4],\"y\":[\"x\",\"y\",\"z\"],\"z\":[[1,2,3,4,5],[10,20,30,20,10],[5,4,3,2,1]],\"type\":\"surface\"}],                        {\"legend\":{\"bgcolor\":\"#F5F6F9\",\"font\":{\"color\":\"#4D5663\"}},\"paper_bgcolor\":\"#F5F6F9\",\"plot_bgcolor\":\"#F5F6F9\",\"template\":{\"data\":{\"barpolar\":[{\"marker\":{\"line\":{\"color\":\"#E5ECF6\",\"width\":0.5},\"pattern\":{\"fillmode\":\"overlay\",\"size\":10,\"solidity\":0.2}},\"type\":\"barpolar\"}],\"bar\":[{\"error_x\":{\"color\":\"#2a3f5f\"},\"error_y\":{\"color\":\"#2a3f5f\"},\"marker\":{\"line\":{\"color\":\"#E5ECF6\",\"width\":0.5},\"pattern\":{\"fillmode\":\"overlay\",\"size\":10,\"solidity\":0.2}},\"type\":\"bar\"}],\"carpet\":[{\"aaxis\":{\"endlinecolor\":\"#2a3f5f\",\"gridcolor\":\"white\",\"linecolor\":\"white\",\"minorgridcolor\":\"white\",\"startlinecolor\":\"#2a3f5f\"},\"baxis\":{\"endlinecolor\":\"#2a3f5f\",\"gridcolor\":\"white\",\"linecolor\":\"white\",\"minorgridcolor\":\"white\",\"startlinecolor\":\"#2a3f5f\"},\"type\":\"carpet\"}],\"choropleth\":[{\"colorbar\":{\"outlinewidth\":0,\"ticks\":\"\"},\"type\":\"choropleth\"}],\"contourcarpet\":[{\"colorbar\":{\"outlinewidth\":0,\"ticks\":\"\"},\"type\":\"contourcarpet\"}],\"contour\":[{\"colorbar\":{\"outlinewidth\":0,\"ticks\":\"\"},\"colorscale\":[[0.0,\"#0d0887\"],[0.1111111111111111,\"#46039f\"],[0.2222222222222222,\"#7201a8\"],[0.3333333333333333,\"#9c179e\"],[0.4444444444444444,\"#bd3786\"],[0.5555555555555556,\"#d8576b\"],[0.6666666666666666,\"#ed7953\"],[0.7777777777777778,\"#fb9f3a\"],[0.8888888888888888,\"#fdca26\"],[1.0,\"#f0f921\"]],\"type\":\"contour\"}],\"heatmapgl\":[{\"colorbar\":{\"outlinewidth\":0,\"ticks\":\"\"},\"colorscale\":[[0.0,\"#0d0887\"],[0.1111111111111111,\"#46039f\"],[0.2222222222222222,\"#7201a8\"],[0.3333333333333333,\"#9c179e\"],[0.4444444444444444,\"#bd3786\"],[0.5555555555555556,\"#d8576b\"],[0.6666666666666666,\"#ed7953\"],[0.7777777777777778,\"#fb9f3a\"],[0.8888888888888888,\"#fdca26\"],[1.0,\"#f0f921\"]],\"type\":\"heatmapgl\"}],\"heatmap\":[{\"colorbar\":{\"outlinewidth\":0,\"ticks\":\"\"},\"colorscale\":[[0.0,\"#0d0887\"],[0.1111111111111111,\"#46039f\"],[0.2222222222222222,\"#7201a8\"],[0.3333333333333333,\"#9c179e\"],[0.4444444444444444,\"#bd3786\"],[0.5555555555555556,\"#d8576b\"],[0.6666666666666666,\"#ed7953\"],[0.7777777777777778,\"#fb9f3a\"],[0.8888888888888888,\"#fdca26\"],[1.0,\"#f0f921\"]],\"type\":\"heatmap\"}],\"histogram2dcontour\":[{\"colorbar\":{\"outlinewidth\":0,\"ticks\":\"\"},\"colorscale\":[[0.0,\"#0d0887\"],[0.1111111111111111,\"#46039f\"],[0.2222222222222222,\"#7201a8\"],[0.3333333333333333,\"#9c179e\"],[0.4444444444444444,\"#bd3786\"],[0.5555555555555556,\"#d8576b\"],[0.6666666666666666,\"#ed7953\"],[0.7777777777777778,\"#fb9f3a\"],[0.8888888888888888,\"#fdca26\"],[1.0,\"#f0f921\"]],\"type\":\"histogram2dcontour\"}],\"histogram2d\":[{\"colorbar\":{\"outlinewidth\":0,\"ticks\":\"\"},\"colorscale\":[[0.0,\"#0d0887\"],[0.1111111111111111,\"#46039f\"],[0.2222222222222222,\"#7201a8\"],[0.3333333333333333,\"#9c179e\"],[0.4444444444444444,\"#bd3786\"],[0.5555555555555556,\"#d8576b\"],[0.6666666666666666,\"#ed7953\"],[0.7777777777777778,\"#fb9f3a\"],[0.8888888888888888,\"#fdca26\"],[1.0,\"#f0f921\"]],\"type\":\"histogram2d\"}],\"histogram\":[{\"marker\":{\"pattern\":{\"fillmode\":\"overlay\",\"size\":10,\"solidity\":0.2}},\"type\":\"histogram\"}],\"mesh3d\":[{\"colorbar\":{\"outlinewidth\":0,\"ticks\":\"\"},\"type\":\"mesh3d\"}],\"parcoords\":[{\"line\":{\"colorbar\":{\"outlinewidth\":0,\"ticks\":\"\"}},\"type\":\"parcoords\"}],\"pie\":[{\"automargin\":true,\"type\":\"pie\"}],\"scatter3d\":[{\"line\":{\"colorbar\":{\"outlinewidth\":0,\"ticks\":\"\"}},\"marker\":{\"colorbar\":{\"outlinewidth\":0,\"ticks\":\"\"}},\"type\":\"scatter3d\"}],\"scattercarpet\":[{\"marker\":{\"colorbar\":{\"outlinewidth\":0,\"ticks\":\"\"}},\"type\":\"scattercarpet\"}],\"scattergeo\":[{\"marker\":{\"colorbar\":{\"outlinewidth\":0,\"ticks\":\"\"}},\"type\":\"scattergeo\"}],\"scattergl\":[{\"marker\":{\"colorbar\":{\"outlinewidth\":0,\"ticks\":\"\"}},\"type\":\"scattergl\"}],\"scattermapbox\":[{\"marker\":{\"colorbar\":{\"outlinewidth\":0,\"ticks\":\"\"}},\"type\":\"scattermapbox\"}],\"scatterpolargl\":[{\"marker\":{\"colorbar\":{\"outlinewidth\":0,\"ticks\":\"\"}},\"type\":\"scatterpolargl\"}],\"scatterpolar\":[{\"marker\":{\"colorbar\":{\"outlinewidth\":0,\"ticks\":\"\"}},\"type\":\"scatterpolar\"}],\"scatter\":[{\"fillpattern\":{\"fillmode\":\"overlay\",\"size\":10,\"solidity\":0.2},\"type\":\"scatter\"}],\"scatterternary\":[{\"marker\":{\"colorbar\":{\"outlinewidth\":0,\"ticks\":\"\"}},\"type\":\"scatterternary\"}],\"surface\":[{\"colorbar\":{\"outlinewidth\":0,\"ticks\":\"\"},\"colorscale\":[[0.0,\"#0d0887\"],[0.1111111111111111,\"#46039f\"],[0.2222222222222222,\"#7201a8\"],[0.3333333333333333,\"#9c179e\"],[0.4444444444444444,\"#bd3786\"],[0.5555555555555556,\"#d8576b\"],[0.6666666666666666,\"#ed7953\"],[0.7777777777777778,\"#fb9f3a\"],[0.8888888888888888,\"#fdca26\"],[1.0,\"#f0f921\"]],\"type\":\"surface\"}],\"table\":[{\"cells\":{\"fill\":{\"color\":\"#EBF0F8\"},\"line\":{\"color\":\"white\"}},\"header\":{\"fill\":{\"color\":\"#C8D4E3\"},\"line\":{\"color\":\"white\"}},\"type\":\"table\"}]},\"layout\":{\"annotationdefaults\":{\"arrowcolor\":\"#2a3f5f\",\"arrowhead\":0,\"arrowwidth\":1},\"autotypenumbers\":\"strict\",\"coloraxis\":{\"colorbar\":{\"outlinewidth\":0,\"ticks\":\"\"}},\"colorscale\":{\"diverging\":[[0,\"#8e0152\"],[0.1,\"#c51b7d\"],[0.2,\"#de77ae\"],[0.3,\"#f1b6da\"],[0.4,\"#fde0ef\"],[0.5,\"#f7f7f7\"],[0.6,\"#e6f5d0\"],[0.7,\"#b8e186\"],[0.8,\"#7fbc41\"],[0.9,\"#4d9221\"],[1,\"#276419\"]],\"sequential\":[[0.0,\"#0d0887\"],[0.1111111111111111,\"#46039f\"],[0.2222222222222222,\"#7201a8\"],[0.3333333333333333,\"#9c179e\"],[0.4444444444444444,\"#bd3786\"],[0.5555555555555556,\"#d8576b\"],[0.6666666666666666,\"#ed7953\"],[0.7777777777777778,\"#fb9f3a\"],[0.8888888888888888,\"#fdca26\"],[1.0,\"#f0f921\"]],\"sequentialminus\":[[0.0,\"#0d0887\"],[0.1111111111111111,\"#46039f\"],[0.2222222222222222,\"#7201a8\"],[0.3333333333333333,\"#9c179e\"],[0.4444444444444444,\"#bd3786\"],[0.5555555555555556,\"#d8576b\"],[0.6666666666666666,\"#ed7953\"],[0.7777777777777778,\"#fb9f3a\"],[0.8888888888888888,\"#fdca26\"],[1.0,\"#f0f921\"]]},\"colorway\":[\"#636efa\",\"#EF553B\",\"#00cc96\",\"#ab63fa\",\"#FFA15A\",\"#19d3f3\",\"#FF6692\",\"#B6E880\",\"#FF97FF\",\"#FECB52\"],\"font\":{\"color\":\"#2a3f5f\"},\"geo\":{\"bgcolor\":\"white\",\"lakecolor\":\"white\",\"landcolor\":\"#E5ECF6\",\"showlakes\":true,\"showland\":true,\"subunitcolor\":\"white\"},\"hoverlabel\":{\"align\":\"left\"},\"hovermode\":\"closest\",\"mapbox\":{\"style\":\"light\"},\"paper_bgcolor\":\"white\",\"plot_bgcolor\":\"#E5ECF6\",\"polar\":{\"angularaxis\":{\"gridcolor\":\"white\",\"linecolor\":\"white\",\"ticks\":\"\"},\"bgcolor\":\"#E5ECF6\",\"radialaxis\":{\"gridcolor\":\"white\",\"linecolor\":\"white\",\"ticks\":\"\"}},\"scene\":{\"xaxis\":{\"backgroundcolor\":\"#E5ECF6\",\"gridcolor\":\"white\",\"gridwidth\":2,\"linecolor\":\"white\",\"showbackground\":true,\"ticks\":\"\",\"zerolinecolor\":\"white\"},\"yaxis\":{\"backgroundcolor\":\"#E5ECF6\",\"gridcolor\":\"white\",\"gridwidth\":2,\"linecolor\":\"white\",\"showbackground\":true,\"ticks\":\"\",\"zerolinecolor\":\"white\"},\"zaxis\":{\"backgroundcolor\":\"#E5ECF6\",\"gridcolor\":\"white\",\"gridwidth\":2,\"linecolor\":\"white\",\"showbackground\":true,\"ticks\":\"\",\"zerolinecolor\":\"white\"}},\"shapedefaults\":{\"line\":{\"color\":\"#2a3f5f\"}},\"ternary\":{\"aaxis\":{\"gridcolor\":\"white\",\"linecolor\":\"white\",\"ticks\":\"\"},\"baxis\":{\"gridcolor\":\"white\",\"linecolor\":\"white\",\"ticks\":\"\"},\"bgcolor\":\"#E5ECF6\",\"caxis\":{\"gridcolor\":\"white\",\"linecolor\":\"white\",\"ticks\":\"\"}},\"title\":{\"x\":0.05},\"xaxis\":{\"automargin\":true,\"gridcolor\":\"white\",\"linecolor\":\"white\",\"ticks\":\"\",\"title\":{\"standoff\":15},\"zerolinecolor\":\"white\",\"zerolinewidth\":2},\"yaxis\":{\"automargin\":true,\"gridcolor\":\"white\",\"linecolor\":\"white\",\"ticks\":\"\",\"title\":{\"standoff\":15},\"zerolinecolor\":\"white\",\"zerolinewidth\":2}}},\"title\":{\"font\":{\"color\":\"#4D5663\"}},\"xaxis\":{\"gridcolor\":\"#E1E5ED\",\"showgrid\":true,\"tickfont\":{\"color\":\"#4D5663\"},\"title\":{\"font\":{\"color\":\"#4D5663\"},\"text\":\"\"},\"zerolinecolor\":\"#E1E5ED\"},\"yaxis\":{\"gridcolor\":\"#E1E5ED\",\"showgrid\":true,\"tickfont\":{\"color\":\"#4D5663\"},\"title\":{\"font\":{\"color\":\"#4D5663\"},\"text\":\"\"},\"zerolinecolor\":\"#E1E5ED\"}},                        {\"showLink\": true, \"linkText\": \"Export to plot.ly\", \"plotlyServerURL\": \"https://plot.ly\", \"responsive\": true}                    ).then(function(){\n",
       "                            \n",
       "var gd = document.getElementById('67fc9c5a-87d1-45fa-9bab-e45ee97344dc');\n",
       "var x = new MutationObserver(function (mutations, observer) {{\n",
       "        var display = window.getComputedStyle(gd).display;\n",
       "        if (!display || display === 'none') {{\n",
       "            console.log([gd, 'removed!']);\n",
       "            Plotly.purge(gd);\n",
       "            observer.disconnect();\n",
       "        }}\n",
       "}});\n",
       "\n",
       "// Listen for the removal of the full notebook cells\n",
       "var notebookContainer = gd.closest('#notebook-container');\n",
       "if (notebookContainer) {{\n",
       "    x.observe(notebookContainer, {childList: true});\n",
       "}}\n",
       "\n",
       "// Listen for the clearing of the current output cell\n",
       "var outputEl = gd.closest('.output');\n",
       "if (outputEl) {{\n",
       "    x.observe(outputEl, {childList: true});\n",
       "}}\n",
       "\n",
       "                        })                };                });            </script>        </div>"
      ]
     },
     "metadata": {},
     "output_type": "display_data"
    }
   ],
   "source": [
    "df4.iplot(kind=\"surface\",colorscale = \"rdylbu\")"
   ]
  },
  {
   "cell_type": "code",
   "execution_count": 27,
   "id": "5baff02b",
   "metadata": {},
   "outputs": [
    {
     "data": {
      "application/vnd.plotly.v1+json": {
       "config": {
        "linkText": "Export to plot.ly",
        "plotlyServerURL": "https://plot.ly",
        "showLink": true
       },
       "data": [
        {
         "histfunc": "count",
         "histnorm": "",
         "marker": {
          "color": "rgba(255, 153, 51, 1.0)",
          "line": {
           "color": "#4D5663",
           "width": 1.3
          }
         },
         "name": "A",
         "nbinsx": 50,
         "opacity": 0.8,
         "orientation": "v",
         "type": "histogram",
         "x": [
          -0.9295482987691611,
          0.4996509360917784,
          -0.31178784381970565,
          -0.2591828995133058,
          -0.2403254599818755,
          0.30007424500314445,
          -1.9519399516746074,
          0.36101710108782775,
          1.1405599367929218,
          -1.0796063330029473,
          0.5190388920390553,
          1.5295361900831612,
          2.2008109795602016,
          0.8296048530293078,
          -0.21937304858767648,
          -0.9074792394033,
          -0.2871592266959784,
          -0.05545890921396091,
          -0.4966932594692695,
          -0.2128516157570282,
          1.124592371454574,
          0.6228995695801925,
          0.9256230617994263,
          -1.768887800317044,
          -0.2874149202115096,
          -0.7825545526319378,
          -2.64432200458736,
          0.7457461109123886,
          -1.1428281744977538,
          1.2210663863390592,
          -0.9131644958788138,
          0.13217834318366903,
          0.6381113620115724,
          1.4342735786591516,
          -0.5436898268763243,
          0.7137862193664714,
          0.5120364676493256,
          -2.0607142312389986,
          0.07250257019407771,
          -0.6579877485369979,
          -1.1492108033028867,
          -2.2536437617141516,
          1.0563020796557212,
          -1.0720178624058692,
          -1.1189016921464603,
          -0.29284164619717207,
          -0.20830520279926823,
          1.0822730128583236,
          1.0213249027809796,
          1.2876384897836826,
          1.8125915692022887,
          -0.3517345744446924,
          0.45361035245361936,
          -0.7548380530713608,
          0.4509916465215894,
          0.010825510343471153,
          1.1954626376691377,
          1.7044799601908844,
          -0.2512587274155817,
          -0.007463326957457436,
          1.5214107591436405,
          0.34186384567971756,
          -0.34838956178384545,
          -0.02149537492129532,
          -0.2557559357224352,
          1.8115002849071817,
          0.8989054113028747,
          -0.8478793667167331,
          -0.4388345973955879,
          0.5897765192462224,
          0.9169989960247112,
          -0.29584764364758287,
          0.40964963403229865,
          -0.2765551854394092,
          0.7309271904230744,
          -0.05169151931672703,
          -0.6487263477835327,
          -0.15937602857333696,
          -0.669650111705374,
          1.6529366895888808,
          0.2725091941094338,
          -0.84418871539521,
          -1.0214046898022509,
          -0.5985785583610419,
          0.9281497551503964,
          -1.4386926646965128,
          1.6413444776995776,
          -2.2123830364218984,
          0.7903787489224429,
          -1.0744732634516792,
          0.745393189760668,
          0.4996178124858752,
          -0.46560119110781123,
          0.15969763101542492,
          0.142503896532929,
          1.3709466265440287,
          0.9711336472637876,
          -0.38754055633141615,
          -1.1752089873333424,
          0.27340068072325535
         ]
        }
       ],
       "layout": {
        "barmode": "overlay",
        "legend": {
         "bgcolor": "#F5F6F9",
         "font": {
          "color": "#4D5663"
         }
        },
        "paper_bgcolor": "#F5F6F9",
        "plot_bgcolor": "#F5F6F9",
        "template": {
         "data": {
          "bar": [
           {
            "error_x": {
             "color": "#2a3f5f"
            },
            "error_y": {
             "color": "#2a3f5f"
            },
            "marker": {
             "line": {
              "color": "#E5ECF6",
              "width": 0.5
             },
             "pattern": {
              "fillmode": "overlay",
              "size": 10,
              "solidity": 0.2
             }
            },
            "type": "bar"
           }
          ],
          "barpolar": [
           {
            "marker": {
             "line": {
              "color": "#E5ECF6",
              "width": 0.5
             },
             "pattern": {
              "fillmode": "overlay",
              "size": 10,
              "solidity": 0.2
             }
            },
            "type": "barpolar"
           }
          ],
          "carpet": [
           {
            "aaxis": {
             "endlinecolor": "#2a3f5f",
             "gridcolor": "white",
             "linecolor": "white",
             "minorgridcolor": "white",
             "startlinecolor": "#2a3f5f"
            },
            "baxis": {
             "endlinecolor": "#2a3f5f",
             "gridcolor": "white",
             "linecolor": "white",
             "minorgridcolor": "white",
             "startlinecolor": "#2a3f5f"
            },
            "type": "carpet"
           }
          ],
          "choropleth": [
           {
            "colorbar": {
             "outlinewidth": 0,
             "ticks": ""
            },
            "type": "choropleth"
           }
          ],
          "contour": [
           {
            "colorbar": {
             "outlinewidth": 0,
             "ticks": ""
            },
            "colorscale": [
             [
              0,
              "#0d0887"
             ],
             [
              0.1111111111111111,
              "#46039f"
             ],
             [
              0.2222222222222222,
              "#7201a8"
             ],
             [
              0.3333333333333333,
              "#9c179e"
             ],
             [
              0.4444444444444444,
              "#bd3786"
             ],
             [
              0.5555555555555556,
              "#d8576b"
             ],
             [
              0.6666666666666666,
              "#ed7953"
             ],
             [
              0.7777777777777778,
              "#fb9f3a"
             ],
             [
              0.8888888888888888,
              "#fdca26"
             ],
             [
              1,
              "#f0f921"
             ]
            ],
            "type": "contour"
           }
          ],
          "contourcarpet": [
           {
            "colorbar": {
             "outlinewidth": 0,
             "ticks": ""
            },
            "type": "contourcarpet"
           }
          ],
          "heatmap": [
           {
            "colorbar": {
             "outlinewidth": 0,
             "ticks": ""
            },
            "colorscale": [
             [
              0,
              "#0d0887"
             ],
             [
              0.1111111111111111,
              "#46039f"
             ],
             [
              0.2222222222222222,
              "#7201a8"
             ],
             [
              0.3333333333333333,
              "#9c179e"
             ],
             [
              0.4444444444444444,
              "#bd3786"
             ],
             [
              0.5555555555555556,
              "#d8576b"
             ],
             [
              0.6666666666666666,
              "#ed7953"
             ],
             [
              0.7777777777777778,
              "#fb9f3a"
             ],
             [
              0.8888888888888888,
              "#fdca26"
             ],
             [
              1,
              "#f0f921"
             ]
            ],
            "type": "heatmap"
           }
          ],
          "heatmapgl": [
           {
            "colorbar": {
             "outlinewidth": 0,
             "ticks": ""
            },
            "colorscale": [
             [
              0,
              "#0d0887"
             ],
             [
              0.1111111111111111,
              "#46039f"
             ],
             [
              0.2222222222222222,
              "#7201a8"
             ],
             [
              0.3333333333333333,
              "#9c179e"
             ],
             [
              0.4444444444444444,
              "#bd3786"
             ],
             [
              0.5555555555555556,
              "#d8576b"
             ],
             [
              0.6666666666666666,
              "#ed7953"
             ],
             [
              0.7777777777777778,
              "#fb9f3a"
             ],
             [
              0.8888888888888888,
              "#fdca26"
             ],
             [
              1,
              "#f0f921"
             ]
            ],
            "type": "heatmapgl"
           }
          ],
          "histogram": [
           {
            "marker": {
             "pattern": {
              "fillmode": "overlay",
              "size": 10,
              "solidity": 0.2
             }
            },
            "type": "histogram"
           }
          ],
          "histogram2d": [
           {
            "colorbar": {
             "outlinewidth": 0,
             "ticks": ""
            },
            "colorscale": [
             [
              0,
              "#0d0887"
             ],
             [
              0.1111111111111111,
              "#46039f"
             ],
             [
              0.2222222222222222,
              "#7201a8"
             ],
             [
              0.3333333333333333,
              "#9c179e"
             ],
             [
              0.4444444444444444,
              "#bd3786"
             ],
             [
              0.5555555555555556,
              "#d8576b"
             ],
             [
              0.6666666666666666,
              "#ed7953"
             ],
             [
              0.7777777777777778,
              "#fb9f3a"
             ],
             [
              0.8888888888888888,
              "#fdca26"
             ],
             [
              1,
              "#f0f921"
             ]
            ],
            "type": "histogram2d"
           }
          ],
          "histogram2dcontour": [
           {
            "colorbar": {
             "outlinewidth": 0,
             "ticks": ""
            },
            "colorscale": [
             [
              0,
              "#0d0887"
             ],
             [
              0.1111111111111111,
              "#46039f"
             ],
             [
              0.2222222222222222,
              "#7201a8"
             ],
             [
              0.3333333333333333,
              "#9c179e"
             ],
             [
              0.4444444444444444,
              "#bd3786"
             ],
             [
              0.5555555555555556,
              "#d8576b"
             ],
             [
              0.6666666666666666,
              "#ed7953"
             ],
             [
              0.7777777777777778,
              "#fb9f3a"
             ],
             [
              0.8888888888888888,
              "#fdca26"
             ],
             [
              1,
              "#f0f921"
             ]
            ],
            "type": "histogram2dcontour"
           }
          ],
          "mesh3d": [
           {
            "colorbar": {
             "outlinewidth": 0,
             "ticks": ""
            },
            "type": "mesh3d"
           }
          ],
          "parcoords": [
           {
            "line": {
             "colorbar": {
              "outlinewidth": 0,
              "ticks": ""
             }
            },
            "type": "parcoords"
           }
          ],
          "pie": [
           {
            "automargin": true,
            "type": "pie"
           }
          ],
          "scatter": [
           {
            "fillpattern": {
             "fillmode": "overlay",
             "size": 10,
             "solidity": 0.2
            },
            "type": "scatter"
           }
          ],
          "scatter3d": [
           {
            "line": {
             "colorbar": {
              "outlinewidth": 0,
              "ticks": ""
             }
            },
            "marker": {
             "colorbar": {
              "outlinewidth": 0,
              "ticks": ""
             }
            },
            "type": "scatter3d"
           }
          ],
          "scattercarpet": [
           {
            "marker": {
             "colorbar": {
              "outlinewidth": 0,
              "ticks": ""
             }
            },
            "type": "scattercarpet"
           }
          ],
          "scattergeo": [
           {
            "marker": {
             "colorbar": {
              "outlinewidth": 0,
              "ticks": ""
             }
            },
            "type": "scattergeo"
           }
          ],
          "scattergl": [
           {
            "marker": {
             "colorbar": {
              "outlinewidth": 0,
              "ticks": ""
             }
            },
            "type": "scattergl"
           }
          ],
          "scattermapbox": [
           {
            "marker": {
             "colorbar": {
              "outlinewidth": 0,
              "ticks": ""
             }
            },
            "type": "scattermapbox"
           }
          ],
          "scatterpolar": [
           {
            "marker": {
             "colorbar": {
              "outlinewidth": 0,
              "ticks": ""
             }
            },
            "type": "scatterpolar"
           }
          ],
          "scatterpolargl": [
           {
            "marker": {
             "colorbar": {
              "outlinewidth": 0,
              "ticks": ""
             }
            },
            "type": "scatterpolargl"
           }
          ],
          "scatterternary": [
           {
            "marker": {
             "colorbar": {
              "outlinewidth": 0,
              "ticks": ""
             }
            },
            "type": "scatterternary"
           }
          ],
          "surface": [
           {
            "colorbar": {
             "outlinewidth": 0,
             "ticks": ""
            },
            "colorscale": [
             [
              0,
              "#0d0887"
             ],
             [
              0.1111111111111111,
              "#46039f"
             ],
             [
              0.2222222222222222,
              "#7201a8"
             ],
             [
              0.3333333333333333,
              "#9c179e"
             ],
             [
              0.4444444444444444,
              "#bd3786"
             ],
             [
              0.5555555555555556,
              "#d8576b"
             ],
             [
              0.6666666666666666,
              "#ed7953"
             ],
             [
              0.7777777777777778,
              "#fb9f3a"
             ],
             [
              0.8888888888888888,
              "#fdca26"
             ],
             [
              1,
              "#f0f921"
             ]
            ],
            "type": "surface"
           }
          ],
          "table": [
           {
            "cells": {
             "fill": {
              "color": "#EBF0F8"
             },
             "line": {
              "color": "white"
             }
            },
            "header": {
             "fill": {
              "color": "#C8D4E3"
             },
             "line": {
              "color": "white"
             }
            },
            "type": "table"
           }
          ]
         },
         "layout": {
          "annotationdefaults": {
           "arrowcolor": "#2a3f5f",
           "arrowhead": 0,
           "arrowwidth": 1
          },
          "autotypenumbers": "strict",
          "coloraxis": {
           "colorbar": {
            "outlinewidth": 0,
            "ticks": ""
           }
          },
          "colorscale": {
           "diverging": [
            [
             0,
             "#8e0152"
            ],
            [
             0.1,
             "#c51b7d"
            ],
            [
             0.2,
             "#de77ae"
            ],
            [
             0.3,
             "#f1b6da"
            ],
            [
             0.4,
             "#fde0ef"
            ],
            [
             0.5,
             "#f7f7f7"
            ],
            [
             0.6,
             "#e6f5d0"
            ],
            [
             0.7,
             "#b8e186"
            ],
            [
             0.8,
             "#7fbc41"
            ],
            [
             0.9,
             "#4d9221"
            ],
            [
             1,
             "#276419"
            ]
           ],
           "sequential": [
            [
             0,
             "#0d0887"
            ],
            [
             0.1111111111111111,
             "#46039f"
            ],
            [
             0.2222222222222222,
             "#7201a8"
            ],
            [
             0.3333333333333333,
             "#9c179e"
            ],
            [
             0.4444444444444444,
             "#bd3786"
            ],
            [
             0.5555555555555556,
             "#d8576b"
            ],
            [
             0.6666666666666666,
             "#ed7953"
            ],
            [
             0.7777777777777778,
             "#fb9f3a"
            ],
            [
             0.8888888888888888,
             "#fdca26"
            ],
            [
             1,
             "#f0f921"
            ]
           ],
           "sequentialminus": [
            [
             0,
             "#0d0887"
            ],
            [
             0.1111111111111111,
             "#46039f"
            ],
            [
             0.2222222222222222,
             "#7201a8"
            ],
            [
             0.3333333333333333,
             "#9c179e"
            ],
            [
             0.4444444444444444,
             "#bd3786"
            ],
            [
             0.5555555555555556,
             "#d8576b"
            ],
            [
             0.6666666666666666,
             "#ed7953"
            ],
            [
             0.7777777777777778,
             "#fb9f3a"
            ],
            [
             0.8888888888888888,
             "#fdca26"
            ],
            [
             1,
             "#f0f921"
            ]
           ]
          },
          "colorway": [
           "#636efa",
           "#EF553B",
           "#00cc96",
           "#ab63fa",
           "#FFA15A",
           "#19d3f3",
           "#FF6692",
           "#B6E880",
           "#FF97FF",
           "#FECB52"
          ],
          "font": {
           "color": "#2a3f5f"
          },
          "geo": {
           "bgcolor": "white",
           "lakecolor": "white",
           "landcolor": "#E5ECF6",
           "showlakes": true,
           "showland": true,
           "subunitcolor": "white"
          },
          "hoverlabel": {
           "align": "left"
          },
          "hovermode": "closest",
          "mapbox": {
           "style": "light"
          },
          "paper_bgcolor": "white",
          "plot_bgcolor": "#E5ECF6",
          "polar": {
           "angularaxis": {
            "gridcolor": "white",
            "linecolor": "white",
            "ticks": ""
           },
           "bgcolor": "#E5ECF6",
           "radialaxis": {
            "gridcolor": "white",
            "linecolor": "white",
            "ticks": ""
           }
          },
          "scene": {
           "xaxis": {
            "backgroundcolor": "#E5ECF6",
            "gridcolor": "white",
            "gridwidth": 2,
            "linecolor": "white",
            "showbackground": true,
            "ticks": "",
            "zerolinecolor": "white"
           },
           "yaxis": {
            "backgroundcolor": "#E5ECF6",
            "gridcolor": "white",
            "gridwidth": 2,
            "linecolor": "white",
            "showbackground": true,
            "ticks": "",
            "zerolinecolor": "white"
           },
           "zaxis": {
            "backgroundcolor": "#E5ECF6",
            "gridcolor": "white",
            "gridwidth": 2,
            "linecolor": "white",
            "showbackground": true,
            "ticks": "",
            "zerolinecolor": "white"
           }
          },
          "shapedefaults": {
           "line": {
            "color": "#2a3f5f"
           }
          },
          "ternary": {
           "aaxis": {
            "gridcolor": "white",
            "linecolor": "white",
            "ticks": ""
           },
           "baxis": {
            "gridcolor": "white",
            "linecolor": "white",
            "ticks": ""
           },
           "bgcolor": "#E5ECF6",
           "caxis": {
            "gridcolor": "white",
            "linecolor": "white",
            "ticks": ""
           }
          },
          "title": {
           "x": 0.05
          },
          "xaxis": {
           "automargin": true,
           "gridcolor": "white",
           "linecolor": "white",
           "ticks": "",
           "title": {
            "standoff": 15
           },
           "zerolinecolor": "white",
           "zerolinewidth": 2
          },
          "yaxis": {
           "automargin": true,
           "gridcolor": "white",
           "linecolor": "white",
           "ticks": "",
           "title": {
            "standoff": 15
           },
           "zerolinecolor": "white",
           "zerolinewidth": 2
          }
         }
        },
        "title": {
         "font": {
          "color": "#4D5663"
         }
        },
        "xaxis": {
         "gridcolor": "#E1E5ED",
         "showgrid": true,
         "tickfont": {
          "color": "#4D5663"
         },
         "title": {
          "font": {
           "color": "#4D5663"
          },
          "text": ""
         },
         "zerolinecolor": "#E1E5ED"
        },
        "yaxis": {
         "gridcolor": "#E1E5ED",
         "showgrid": true,
         "tickfont": {
          "color": "#4D5663"
         },
         "title": {
          "font": {
           "color": "#4D5663"
          },
          "text": ""
         },
         "zerolinecolor": "#E1E5ED"
        }
       }
      },
      "text/html": [
       "<div>                            <div id=\"604e3d99-1ac0-44cb-a338-6e3735ab40b8\" class=\"plotly-graph-div\" style=\"height:525px; width:100%;\"></div>            <script type=\"text/javascript\">                require([\"plotly\"], function(Plotly) {                    window.PLOTLYENV=window.PLOTLYENV || {};\n",
       "                    window.PLOTLYENV.BASE_URL='https://plot.ly';                                    if (document.getElementById(\"604e3d99-1ac0-44cb-a338-6e3735ab40b8\")) {                    Plotly.newPlot(                        \"604e3d99-1ac0-44cb-a338-6e3735ab40b8\",                        [{\"histfunc\":\"count\",\"histnorm\":\"\",\"marker\":{\"color\":\"rgba(255, 153, 51, 1.0)\",\"line\":{\"color\":\"#4D5663\",\"width\":1.3}},\"name\":\"A\",\"nbinsx\":50,\"opacity\":0.8,\"orientation\":\"v\",\"x\":[-0.9295482987691611,0.4996509360917784,-0.31178784381970565,-0.2591828995133058,-0.2403254599818755,0.30007424500314445,-1.9519399516746074,0.36101710108782775,1.1405599367929218,-1.0796063330029473,0.5190388920390553,1.5295361900831612,2.2008109795602016,0.8296048530293078,-0.21937304858767648,-0.9074792394033,-0.2871592266959784,-0.05545890921396091,-0.4966932594692695,-0.2128516157570282,1.124592371454574,0.6228995695801925,0.9256230617994263,-1.768887800317044,-0.2874149202115096,-0.7825545526319378,-2.64432200458736,0.7457461109123886,-1.1428281744977538,1.2210663863390592,-0.9131644958788138,0.13217834318366903,0.6381113620115724,1.4342735786591516,-0.5436898268763243,0.7137862193664714,0.5120364676493256,-2.0607142312389986,0.07250257019407771,-0.6579877485369979,-1.1492108033028867,-2.2536437617141516,1.0563020796557212,-1.0720178624058692,-1.1189016921464603,-0.29284164619717207,-0.20830520279926823,1.0822730128583236,1.0213249027809796,1.2876384897836826,1.8125915692022887,-0.3517345744446924,0.45361035245361936,-0.7548380530713608,0.4509916465215894,0.010825510343471153,1.1954626376691377,1.7044799601908844,-0.2512587274155817,-0.007463326957457436,1.5214107591436405,0.34186384567971756,-0.34838956178384545,-0.02149537492129532,-0.2557559357224352,1.8115002849071817,0.8989054113028747,-0.8478793667167331,-0.4388345973955879,0.5897765192462224,0.9169989960247112,-0.29584764364758287,0.40964963403229865,-0.2765551854394092,0.7309271904230744,-0.05169151931672703,-0.6487263477835327,-0.15937602857333696,-0.669650111705374,1.6529366895888808,0.2725091941094338,-0.84418871539521,-1.0214046898022509,-0.5985785583610419,0.9281497551503964,-1.4386926646965128,1.6413444776995776,-2.2123830364218984,0.7903787489224429,-1.0744732634516792,0.745393189760668,0.4996178124858752,-0.46560119110781123,0.15969763101542492,0.142503896532929,1.3709466265440287,0.9711336472637876,-0.38754055633141615,-1.1752089873333424,0.27340068072325535],\"type\":\"histogram\"}],                        {\"barmode\":\"overlay\",\"legend\":{\"bgcolor\":\"#F5F6F9\",\"font\":{\"color\":\"#4D5663\"}},\"paper_bgcolor\":\"#F5F6F9\",\"plot_bgcolor\":\"#F5F6F9\",\"template\":{\"data\":{\"barpolar\":[{\"marker\":{\"line\":{\"color\":\"#E5ECF6\",\"width\":0.5},\"pattern\":{\"fillmode\":\"overlay\",\"size\":10,\"solidity\":0.2}},\"type\":\"barpolar\"}],\"bar\":[{\"error_x\":{\"color\":\"#2a3f5f\"},\"error_y\":{\"color\":\"#2a3f5f\"},\"marker\":{\"line\":{\"color\":\"#E5ECF6\",\"width\":0.5},\"pattern\":{\"fillmode\":\"overlay\",\"size\":10,\"solidity\":0.2}},\"type\":\"bar\"}],\"carpet\":[{\"aaxis\":{\"endlinecolor\":\"#2a3f5f\",\"gridcolor\":\"white\",\"linecolor\":\"white\",\"minorgridcolor\":\"white\",\"startlinecolor\":\"#2a3f5f\"},\"baxis\":{\"endlinecolor\":\"#2a3f5f\",\"gridcolor\":\"white\",\"linecolor\":\"white\",\"minorgridcolor\":\"white\",\"startlinecolor\":\"#2a3f5f\"},\"type\":\"carpet\"}],\"choropleth\":[{\"colorbar\":{\"outlinewidth\":0,\"ticks\":\"\"},\"type\":\"choropleth\"}],\"contourcarpet\":[{\"colorbar\":{\"outlinewidth\":0,\"ticks\":\"\"},\"type\":\"contourcarpet\"}],\"contour\":[{\"colorbar\":{\"outlinewidth\":0,\"ticks\":\"\"},\"colorscale\":[[0.0,\"#0d0887\"],[0.1111111111111111,\"#46039f\"],[0.2222222222222222,\"#7201a8\"],[0.3333333333333333,\"#9c179e\"],[0.4444444444444444,\"#bd3786\"],[0.5555555555555556,\"#d8576b\"],[0.6666666666666666,\"#ed7953\"],[0.7777777777777778,\"#fb9f3a\"],[0.8888888888888888,\"#fdca26\"],[1.0,\"#f0f921\"]],\"type\":\"contour\"}],\"heatmapgl\":[{\"colorbar\":{\"outlinewidth\":0,\"ticks\":\"\"},\"colorscale\":[[0.0,\"#0d0887\"],[0.1111111111111111,\"#46039f\"],[0.2222222222222222,\"#7201a8\"],[0.3333333333333333,\"#9c179e\"],[0.4444444444444444,\"#bd3786\"],[0.5555555555555556,\"#d8576b\"],[0.6666666666666666,\"#ed7953\"],[0.7777777777777778,\"#fb9f3a\"],[0.8888888888888888,\"#fdca26\"],[1.0,\"#f0f921\"]],\"type\":\"heatmapgl\"}],\"heatmap\":[{\"colorbar\":{\"outlinewidth\":0,\"ticks\":\"\"},\"colorscale\":[[0.0,\"#0d0887\"],[0.1111111111111111,\"#46039f\"],[0.2222222222222222,\"#7201a8\"],[0.3333333333333333,\"#9c179e\"],[0.4444444444444444,\"#bd3786\"],[0.5555555555555556,\"#d8576b\"],[0.6666666666666666,\"#ed7953\"],[0.7777777777777778,\"#fb9f3a\"],[0.8888888888888888,\"#fdca26\"],[1.0,\"#f0f921\"]],\"type\":\"heatmap\"}],\"histogram2dcontour\":[{\"colorbar\":{\"outlinewidth\":0,\"ticks\":\"\"},\"colorscale\":[[0.0,\"#0d0887\"],[0.1111111111111111,\"#46039f\"],[0.2222222222222222,\"#7201a8\"],[0.3333333333333333,\"#9c179e\"],[0.4444444444444444,\"#bd3786\"],[0.5555555555555556,\"#d8576b\"],[0.6666666666666666,\"#ed7953\"],[0.7777777777777778,\"#fb9f3a\"],[0.8888888888888888,\"#fdca26\"],[1.0,\"#f0f921\"]],\"type\":\"histogram2dcontour\"}],\"histogram2d\":[{\"colorbar\":{\"outlinewidth\":0,\"ticks\":\"\"},\"colorscale\":[[0.0,\"#0d0887\"],[0.1111111111111111,\"#46039f\"],[0.2222222222222222,\"#7201a8\"],[0.3333333333333333,\"#9c179e\"],[0.4444444444444444,\"#bd3786\"],[0.5555555555555556,\"#d8576b\"],[0.6666666666666666,\"#ed7953\"],[0.7777777777777778,\"#fb9f3a\"],[0.8888888888888888,\"#fdca26\"],[1.0,\"#f0f921\"]],\"type\":\"histogram2d\"}],\"histogram\":[{\"marker\":{\"pattern\":{\"fillmode\":\"overlay\",\"size\":10,\"solidity\":0.2}},\"type\":\"histogram\"}],\"mesh3d\":[{\"colorbar\":{\"outlinewidth\":0,\"ticks\":\"\"},\"type\":\"mesh3d\"}],\"parcoords\":[{\"line\":{\"colorbar\":{\"outlinewidth\":0,\"ticks\":\"\"}},\"type\":\"parcoords\"}],\"pie\":[{\"automargin\":true,\"type\":\"pie\"}],\"scatter3d\":[{\"line\":{\"colorbar\":{\"outlinewidth\":0,\"ticks\":\"\"}},\"marker\":{\"colorbar\":{\"outlinewidth\":0,\"ticks\":\"\"}},\"type\":\"scatter3d\"}],\"scattercarpet\":[{\"marker\":{\"colorbar\":{\"outlinewidth\":0,\"ticks\":\"\"}},\"type\":\"scattercarpet\"}],\"scattergeo\":[{\"marker\":{\"colorbar\":{\"outlinewidth\":0,\"ticks\":\"\"}},\"type\":\"scattergeo\"}],\"scattergl\":[{\"marker\":{\"colorbar\":{\"outlinewidth\":0,\"ticks\":\"\"}},\"type\":\"scattergl\"}],\"scattermapbox\":[{\"marker\":{\"colorbar\":{\"outlinewidth\":0,\"ticks\":\"\"}},\"type\":\"scattermapbox\"}],\"scatterpolargl\":[{\"marker\":{\"colorbar\":{\"outlinewidth\":0,\"ticks\":\"\"}},\"type\":\"scatterpolargl\"}],\"scatterpolar\":[{\"marker\":{\"colorbar\":{\"outlinewidth\":0,\"ticks\":\"\"}},\"type\":\"scatterpolar\"}],\"scatter\":[{\"fillpattern\":{\"fillmode\":\"overlay\",\"size\":10,\"solidity\":0.2},\"type\":\"scatter\"}],\"scatterternary\":[{\"marker\":{\"colorbar\":{\"outlinewidth\":0,\"ticks\":\"\"}},\"type\":\"scatterternary\"}],\"surface\":[{\"colorbar\":{\"outlinewidth\":0,\"ticks\":\"\"},\"colorscale\":[[0.0,\"#0d0887\"],[0.1111111111111111,\"#46039f\"],[0.2222222222222222,\"#7201a8\"],[0.3333333333333333,\"#9c179e\"],[0.4444444444444444,\"#bd3786\"],[0.5555555555555556,\"#d8576b\"],[0.6666666666666666,\"#ed7953\"],[0.7777777777777778,\"#fb9f3a\"],[0.8888888888888888,\"#fdca26\"],[1.0,\"#f0f921\"]],\"type\":\"surface\"}],\"table\":[{\"cells\":{\"fill\":{\"color\":\"#EBF0F8\"},\"line\":{\"color\":\"white\"}},\"header\":{\"fill\":{\"color\":\"#C8D4E3\"},\"line\":{\"color\":\"white\"}},\"type\":\"table\"}]},\"layout\":{\"annotationdefaults\":{\"arrowcolor\":\"#2a3f5f\",\"arrowhead\":0,\"arrowwidth\":1},\"autotypenumbers\":\"strict\",\"coloraxis\":{\"colorbar\":{\"outlinewidth\":0,\"ticks\":\"\"}},\"colorscale\":{\"diverging\":[[0,\"#8e0152\"],[0.1,\"#c51b7d\"],[0.2,\"#de77ae\"],[0.3,\"#f1b6da\"],[0.4,\"#fde0ef\"],[0.5,\"#f7f7f7\"],[0.6,\"#e6f5d0\"],[0.7,\"#b8e186\"],[0.8,\"#7fbc41\"],[0.9,\"#4d9221\"],[1,\"#276419\"]],\"sequential\":[[0.0,\"#0d0887\"],[0.1111111111111111,\"#46039f\"],[0.2222222222222222,\"#7201a8\"],[0.3333333333333333,\"#9c179e\"],[0.4444444444444444,\"#bd3786\"],[0.5555555555555556,\"#d8576b\"],[0.6666666666666666,\"#ed7953\"],[0.7777777777777778,\"#fb9f3a\"],[0.8888888888888888,\"#fdca26\"],[1.0,\"#f0f921\"]],\"sequentialminus\":[[0.0,\"#0d0887\"],[0.1111111111111111,\"#46039f\"],[0.2222222222222222,\"#7201a8\"],[0.3333333333333333,\"#9c179e\"],[0.4444444444444444,\"#bd3786\"],[0.5555555555555556,\"#d8576b\"],[0.6666666666666666,\"#ed7953\"],[0.7777777777777778,\"#fb9f3a\"],[0.8888888888888888,\"#fdca26\"],[1.0,\"#f0f921\"]]},\"colorway\":[\"#636efa\",\"#EF553B\",\"#00cc96\",\"#ab63fa\",\"#FFA15A\",\"#19d3f3\",\"#FF6692\",\"#B6E880\",\"#FF97FF\",\"#FECB52\"],\"font\":{\"color\":\"#2a3f5f\"},\"geo\":{\"bgcolor\":\"white\",\"lakecolor\":\"white\",\"landcolor\":\"#E5ECF6\",\"showlakes\":true,\"showland\":true,\"subunitcolor\":\"white\"},\"hoverlabel\":{\"align\":\"left\"},\"hovermode\":\"closest\",\"mapbox\":{\"style\":\"light\"},\"paper_bgcolor\":\"white\",\"plot_bgcolor\":\"#E5ECF6\",\"polar\":{\"angularaxis\":{\"gridcolor\":\"white\",\"linecolor\":\"white\",\"ticks\":\"\"},\"bgcolor\":\"#E5ECF6\",\"radialaxis\":{\"gridcolor\":\"white\",\"linecolor\":\"white\",\"ticks\":\"\"}},\"scene\":{\"xaxis\":{\"backgroundcolor\":\"#E5ECF6\",\"gridcolor\":\"white\",\"gridwidth\":2,\"linecolor\":\"white\",\"showbackground\":true,\"ticks\":\"\",\"zerolinecolor\":\"white\"},\"yaxis\":{\"backgroundcolor\":\"#E5ECF6\",\"gridcolor\":\"white\",\"gridwidth\":2,\"linecolor\":\"white\",\"showbackground\":true,\"ticks\":\"\",\"zerolinecolor\":\"white\"},\"zaxis\":{\"backgroundcolor\":\"#E5ECF6\",\"gridcolor\":\"white\",\"gridwidth\":2,\"linecolor\":\"white\",\"showbackground\":true,\"ticks\":\"\",\"zerolinecolor\":\"white\"}},\"shapedefaults\":{\"line\":{\"color\":\"#2a3f5f\"}},\"ternary\":{\"aaxis\":{\"gridcolor\":\"white\",\"linecolor\":\"white\",\"ticks\":\"\"},\"baxis\":{\"gridcolor\":\"white\",\"linecolor\":\"white\",\"ticks\":\"\"},\"bgcolor\":\"#E5ECF6\",\"caxis\":{\"gridcolor\":\"white\",\"linecolor\":\"white\",\"ticks\":\"\"}},\"title\":{\"x\":0.05},\"xaxis\":{\"automargin\":true,\"gridcolor\":\"white\",\"linecolor\":\"white\",\"ticks\":\"\",\"title\":{\"standoff\":15},\"zerolinecolor\":\"white\",\"zerolinewidth\":2},\"yaxis\":{\"automargin\":true,\"gridcolor\":\"white\",\"linecolor\":\"white\",\"ticks\":\"\",\"title\":{\"standoff\":15},\"zerolinecolor\":\"white\",\"zerolinewidth\":2}}},\"title\":{\"font\":{\"color\":\"#4D5663\"}},\"xaxis\":{\"gridcolor\":\"#E1E5ED\",\"showgrid\":true,\"tickfont\":{\"color\":\"#4D5663\"},\"title\":{\"font\":{\"color\":\"#4D5663\"},\"text\":\"\"},\"zerolinecolor\":\"#E1E5ED\"},\"yaxis\":{\"gridcolor\":\"#E1E5ED\",\"showgrid\":true,\"tickfont\":{\"color\":\"#4D5663\"},\"title\":{\"font\":{\"color\":\"#4D5663\"},\"text\":\"\"},\"zerolinecolor\":\"#E1E5ED\"}},                        {\"showLink\": true, \"linkText\": \"Export to plot.ly\", \"plotlyServerURL\": \"https://plot.ly\", \"responsive\": true}                    ).then(function(){\n",
       "                            \n",
       "var gd = document.getElementById('604e3d99-1ac0-44cb-a338-6e3735ab40b8');\n",
       "var x = new MutationObserver(function (mutations, observer) {{\n",
       "        var display = window.getComputedStyle(gd).display;\n",
       "        if (!display || display === 'none') {{\n",
       "            console.log([gd, 'removed!']);\n",
       "            Plotly.purge(gd);\n",
       "            observer.disconnect();\n",
       "        }}\n",
       "}});\n",
       "\n",
       "// Listen for the removal of the full notebook cells\n",
       "var notebookContainer = gd.closest('#notebook-container');\n",
       "if (notebookContainer) {{\n",
       "    x.observe(notebookContainer, {childList: true});\n",
       "}}\n",
       "\n",
       "// Listen for the clearing of the current output cell\n",
       "var outputEl = gd.closest('.output');\n",
       "if (outputEl) {{\n",
       "    x.observe(outputEl, {childList: true});\n",
       "}}\n",
       "\n",
       "                        })                };                });            </script>        </div>"
      ]
     },
     "metadata": {},
     "output_type": "display_data"
    }
   ],
   "source": [
    "df[\"A\"].iplot(kind=\"hist\",bins=50)"
   ]
  },
  {
   "cell_type": "code",
   "execution_count": 28,
   "id": "9d19bdb4",
   "metadata": {},
   "outputs": [
    {
     "data": {
      "application/vnd.plotly.v1+json": {
       "config": {
        "linkText": "Export to plot.ly",
        "plotlyServerURL": "https://plot.ly",
        "showLink": true
       },
       "data": [
        {
         "histfunc": "count",
         "histnorm": "",
         "marker": {
          "color": "rgba(255, 153, 51, 1.0)",
          "line": {
           "color": "#4D5663",
           "width": 1.3
          }
         },
         "name": "A",
         "opacity": 0.8,
         "orientation": "v",
         "type": "histogram",
         "x": [
          -0.9295482987691611,
          0.4996509360917784,
          -0.31178784381970565,
          -0.2591828995133058,
          -0.2403254599818755,
          0.30007424500314445,
          -1.9519399516746074,
          0.36101710108782775,
          1.1405599367929218,
          -1.0796063330029473,
          0.5190388920390553,
          1.5295361900831612,
          2.2008109795602016,
          0.8296048530293078,
          -0.21937304858767648,
          -0.9074792394033,
          -0.2871592266959784,
          -0.05545890921396091,
          -0.4966932594692695,
          -0.2128516157570282,
          1.124592371454574,
          0.6228995695801925,
          0.9256230617994263,
          -1.768887800317044,
          -0.2874149202115096,
          -0.7825545526319378,
          -2.64432200458736,
          0.7457461109123886,
          -1.1428281744977538,
          1.2210663863390592,
          -0.9131644958788138,
          0.13217834318366903,
          0.6381113620115724,
          1.4342735786591516,
          -0.5436898268763243,
          0.7137862193664714,
          0.5120364676493256,
          -2.0607142312389986,
          0.07250257019407771,
          -0.6579877485369979,
          -1.1492108033028867,
          -2.2536437617141516,
          1.0563020796557212,
          -1.0720178624058692,
          -1.1189016921464603,
          -0.29284164619717207,
          -0.20830520279926823,
          1.0822730128583236,
          1.0213249027809796,
          1.2876384897836826,
          1.8125915692022887,
          -0.3517345744446924,
          0.45361035245361936,
          -0.7548380530713608,
          0.4509916465215894,
          0.010825510343471153,
          1.1954626376691377,
          1.7044799601908844,
          -0.2512587274155817,
          -0.007463326957457436,
          1.5214107591436405,
          0.34186384567971756,
          -0.34838956178384545,
          -0.02149537492129532,
          -0.2557559357224352,
          1.8115002849071817,
          0.8989054113028747,
          -0.8478793667167331,
          -0.4388345973955879,
          0.5897765192462224,
          0.9169989960247112,
          -0.29584764364758287,
          0.40964963403229865,
          -0.2765551854394092,
          0.7309271904230744,
          -0.05169151931672703,
          -0.6487263477835327,
          -0.15937602857333696,
          -0.669650111705374,
          1.6529366895888808,
          0.2725091941094338,
          -0.84418871539521,
          -1.0214046898022509,
          -0.5985785583610419,
          0.9281497551503964,
          -1.4386926646965128,
          1.6413444776995776,
          -2.2123830364218984,
          0.7903787489224429,
          -1.0744732634516792,
          0.745393189760668,
          0.4996178124858752,
          -0.46560119110781123,
          0.15969763101542492,
          0.142503896532929,
          1.3709466265440287,
          0.9711336472637876,
          -0.38754055633141615,
          -1.1752089873333424,
          0.27340068072325535
         ]
        },
        {
         "histfunc": "count",
         "histnorm": "",
         "marker": {
          "color": "rgba(55, 128, 191, 1.0)",
          "line": {
           "color": "#4D5663",
           "width": 1.3
          }
         },
         "name": "B",
         "opacity": 0.8,
         "orientation": "v",
         "type": "histogram",
         "x": [
          0.10595209962862051,
          0.3368667122382836,
          -0.32861230975248373,
          -0.11664858440555267,
          -0.10862895251019854,
          0.14676101096132724,
          1.6550509248816598,
          0.3116991407512059,
          -1.5333273766171769,
          0.67351956523506,
          -0.23293658066056874,
          0.5298539546678004,
          1.2706339922049268,
          1.4485075051766172,
          0.6779059423904159,
          -0.7164141937146591,
          0.8245757552822287,
          2.4213154151349485,
          -0.6875266309878802,
          -0.19741347908494278,
          0.6573721821252815,
          0.2773927166267599,
          0.18443657890013604,
          0.20841105872778784,
          1.014443830916647,
          -0.6614530154293072,
          0.7795405780388421,
          1.1763647687901904,
          -1.426400518831791,
          -0.8862199762393453,
          -0.5432851756689908,
          0.5612441198207622,
          0.14759371236534652,
          -1.569694238419562,
          2.2741377167085077,
          -1.3286017158605619,
          -0.6547759337607292,
          0.5409293803814273,
          -1.7140672889540483,
          -0.838762524216867,
          2.052568027382253,
          1.2479484516423567,
          -0.5050471421968736,
          1.3906132917773977,
          0.9304278500231088,
          -0.5005788549389664,
          1.0139570932698092,
          1.4099756691177323,
          -0.7284825751458816,
          0.47323279459070394,
          -0.8126917762346638,
          0.6377954621777114,
          -0.3174047711249694,
          -1.7756135983404886,
          -0.2363797892406345,
          -0.7970716486495877,
          -0.3332925771997845,
          0.3137937224354294,
          -0.612749019434206,
          -0.07558111642014288,
          -0.9898859959734786,
          -0.45302566262413996,
          -0.542805561663329,
          -1.2844203082105614,
          -0.11354301196306125,
          -2.546874494300865,
          0.9872274735141424,
          -2.4060412325529983,
          0.7406303040060868,
          1.3494134213350881,
          -0.08353953585239972,
          -0.8649105520646212,
          0.5482770228978523,
          0.3018624903593867,
          -1.2696542402185156,
          -0.503774941664004,
          -0.4457561076351454,
          0.34242334816657516,
          -0.11692153010067262,
          -0.7692072862521319,
          -0.3210876224228783,
          -1.3428735501149156,
          0.08140321965759581,
          1.4726724276119887,
          -1.6872778504307941,
          0.7379616404172885,
          0.7541415956944442,
          0.6119192924558464,
          -0.6805248104558588,
          -0.011614579413123783,
          -0.9751368919345605,
          0.1766886661379514,
          -0.4773258381639982,
          -1.7259606922075275,
          -0.09290092035809304,
          -0.34934252493462165,
          -0.5455826577301464,
          1.223290635135926,
          -1.332442683803005,
          -0.4849294268598528
         ]
        },
        {
         "histfunc": "count",
         "histnorm": "",
         "marker": {
          "color": "rgba(50, 171, 96, 1.0)",
          "line": {
           "color": "#4D5663",
           "width": 1.3
          }
         },
         "name": "C",
         "opacity": 0.8,
         "orientation": "v",
         "type": "histogram",
         "x": [
          -0.26802567468283556,
          0.4072064013410601,
          0.6461005840226851,
          -0.585094742432191,
          0.3573995808954022,
          0.32157802210804975,
          -0.16919911676177468,
          -0.6706351029537011,
          1.0804040578855634,
          0.28189287438921745,
          -0.36165626203156503,
          0.40971416164952523,
          1.4437380666462036,
          -0.005032774531809589,
          0.43212530479678285,
          -0.10952316599517305,
          0.38262622234589144,
          0.6467377811036394,
          0.8685111970322607,
          -0.7510330180894015,
          -1.3548579307174067,
          0.8498325036801762,
          0.8060292524603478,
          -0.05838667707323915,
          0.4463018940239507,
          -0.8859584831710968,
          -0.7689079747608597,
          -0.33101433492673465,
          -0.16646933127108451,
          -2.2234210272232295,
          0.09320745950272975,
          0.09399434578019715,
          1.1755308625746566,
          0.04959081536101905,
          -0.12548887832494862,
          0.553291027320834,
          -0.006846847112921158,
          -1.0940902480963026,
          1.6992610567702078,
          -1.2201513753331235,
          -1.016998263095646,
          1.2410220960272613,
          0.5650521741319647,
          0.3948693228115939,
          -0.34898058136686005,
          0.041142085742882646,
          -0.40728021294539435,
          -0.3383063368079199,
          -0.3064599522234884,
          -1.5547550522193543,
          0.8990539365717387,
          -1.0357492276649602,
          -1.7055721268397044,
          -0.9353285485181945,
          0.40881727840120746,
          1.0457842403635524,
          1.16072135846228,
          0.7733499372932843,
          0.06912451400348932,
          1.7668257964874858,
          -0.07370408678810107,
          -0.5992648954960853,
          0.0031839077604649863,
          -0.15511925879835184,
          1.2553790745400344,
          0.9800336531789141,
          -0.5852912967995566,
          2.6036916226598654,
          -0.9272942988762053,
          0.6237809786781634,
          1.0568500925681823,
          -1.09659045862584,
          -0.17215484003221654,
          0.43585654614856795,
          -0.9267392510841177,
          0.08561210853793365,
          -0.3289460799806062,
          0.36408037266220034,
          -0.6158920904266694,
          1.8758077683489707,
          -0.2488697686696133,
          0.08909926398044783,
          -0.019913649723522293,
          -1.5108509182391463,
          0.10809714907300454,
          0.8552468524058905,
          -0.12208852143184143,
          0.2991215257437905,
          -1.1485090797225774,
          -0.5535953264037937,
          -1.662812170312761,
          -0.1404449423341458,
          1.2988339639252369,
          1.16562945649828,
          -0.2227008673477981,
          -0.5308299782064171,
          2.509031912866535,
          -0.6009943623260816,
          1.1700763481812035,
          0.35973613592097686
         ]
        },
        {
         "histfunc": "count",
         "histnorm": "",
         "marker": {
          "color": "rgba(128, 0, 128, 1.0)",
          "line": {
           "color": "#4D5663",
           "width": 1.3
          }
         },
         "name": "D",
         "opacity": 0.8,
         "orientation": "v",
         "type": "histogram",
         "x": [
          0.7068382862261344,
          -1.1354893661264782,
          -1.7781266223186643,
          -0.9993895145453797,
          0.7042164203531522,
          0.9560405384881885,
          0.6661290584108193,
          -0.17098627336289118,
          -0.47884943263231966,
          -2.364822463910428,
          -0.0008059323625490484,
          0.6236349146203897,
          0.5037184545770702,
          1.1317450982256376,
          0.5119154714049131,
          0.35932707096735206,
          -0.3663534598741199,
          1.1365877533477184,
          0.25417329023146695,
          -0.44218525948407367,
          -0.20119332766821338,
          1.608501409910512,
          -0.2712631460420925,
          -1.6439170779887486,
          0.17876806439418744,
          -1.288364838351231,
          1.2805278667353834,
          -1.0964905172034007,
          0.30062751958857203,
          -0.6195883464015917,
          1.3953980794196124,
          -1.208577640700005,
          0.960288245147989,
          -0.10901010075566653,
          -2.3995701108243384,
          -0.36352542201312005,
          0.520071777572679,
          0.5870382951239345,
          -0.8908329994099303,
          -0.46467533439840847,
          0.44781348803887583,
          1.5502356297804298,
          -0.09040555203215514,
          -0.007487830982206106,
          0.06304393372088818,
          -0.6021066876958482,
          -1.0452906870455307,
          0.04280170582626668,
          -0.374925053066271,
          -0.4093096611172787,
          -0.6815199755518858,
          -1.3584991478390136,
          -0.21632291529302258,
          1.11653509881535,
          -0.5512004547220558,
          0.7478135005541695,
          -0.7490802983477098,
          -0.7604155260542467,
          0.6323449927814072,
          0.48741777333043423,
          0.6738819084446128,
          0.346537145554769,
          -1.3061140130711606,
          0.8523478278571408,
          -0.2674966200617749,
          1.4248199828370094,
          -1.361545126902172,
          -0.22969931647517633,
          0.5756343142379796,
          1.2419495328788337,
          0.2484676967568032,
          1.5108745019052454,
          0.1781643691802824,
          -0.7239239997563465,
          -0.5524484345105191,
          -0.4542635822135648,
          1.239574019326204,
          -1.5166528118645612,
          0.1747359681792644,
          1.634349529239444,
          1.003128860486491,
          1.2316416206606728,
          -0.17373482053450465,
          0.6162503121616846,
          -0.296214462536699,
          -0.5833585512581337,
          -0.4948835396241225,
          -0.8975781417605502,
          0.09909788460379772,
          0.6993703963369102,
          -0.8098029075127882,
          -0.26295061467659503,
          -0.8758753227702814,
          -2.1778422617440167,
          1.342235000783719,
          0.5991546221405155,
          -0.4741195581901758,
          -1.1317104802699056,
          1.4645657932255527,
          -0.5061935595988273
         ]
        }
       ],
       "layout": {
        "barmode": "overlay",
        "legend": {
         "bgcolor": "#F5F6F9",
         "font": {
          "color": "#4D5663"
         }
        },
        "paper_bgcolor": "#F5F6F9",
        "plot_bgcolor": "#F5F6F9",
        "template": {
         "data": {
          "bar": [
           {
            "error_x": {
             "color": "#2a3f5f"
            },
            "error_y": {
             "color": "#2a3f5f"
            },
            "marker": {
             "line": {
              "color": "#E5ECF6",
              "width": 0.5
             },
             "pattern": {
              "fillmode": "overlay",
              "size": 10,
              "solidity": 0.2
             }
            },
            "type": "bar"
           }
          ],
          "barpolar": [
           {
            "marker": {
             "line": {
              "color": "#E5ECF6",
              "width": 0.5
             },
             "pattern": {
              "fillmode": "overlay",
              "size": 10,
              "solidity": 0.2
             }
            },
            "type": "barpolar"
           }
          ],
          "carpet": [
           {
            "aaxis": {
             "endlinecolor": "#2a3f5f",
             "gridcolor": "white",
             "linecolor": "white",
             "minorgridcolor": "white",
             "startlinecolor": "#2a3f5f"
            },
            "baxis": {
             "endlinecolor": "#2a3f5f",
             "gridcolor": "white",
             "linecolor": "white",
             "minorgridcolor": "white",
             "startlinecolor": "#2a3f5f"
            },
            "type": "carpet"
           }
          ],
          "choropleth": [
           {
            "colorbar": {
             "outlinewidth": 0,
             "ticks": ""
            },
            "type": "choropleth"
           }
          ],
          "contour": [
           {
            "colorbar": {
             "outlinewidth": 0,
             "ticks": ""
            },
            "colorscale": [
             [
              0,
              "#0d0887"
             ],
             [
              0.1111111111111111,
              "#46039f"
             ],
             [
              0.2222222222222222,
              "#7201a8"
             ],
             [
              0.3333333333333333,
              "#9c179e"
             ],
             [
              0.4444444444444444,
              "#bd3786"
             ],
             [
              0.5555555555555556,
              "#d8576b"
             ],
             [
              0.6666666666666666,
              "#ed7953"
             ],
             [
              0.7777777777777778,
              "#fb9f3a"
             ],
             [
              0.8888888888888888,
              "#fdca26"
             ],
             [
              1,
              "#f0f921"
             ]
            ],
            "type": "contour"
           }
          ],
          "contourcarpet": [
           {
            "colorbar": {
             "outlinewidth": 0,
             "ticks": ""
            },
            "type": "contourcarpet"
           }
          ],
          "heatmap": [
           {
            "colorbar": {
             "outlinewidth": 0,
             "ticks": ""
            },
            "colorscale": [
             [
              0,
              "#0d0887"
             ],
             [
              0.1111111111111111,
              "#46039f"
             ],
             [
              0.2222222222222222,
              "#7201a8"
             ],
             [
              0.3333333333333333,
              "#9c179e"
             ],
             [
              0.4444444444444444,
              "#bd3786"
             ],
             [
              0.5555555555555556,
              "#d8576b"
             ],
             [
              0.6666666666666666,
              "#ed7953"
             ],
             [
              0.7777777777777778,
              "#fb9f3a"
             ],
             [
              0.8888888888888888,
              "#fdca26"
             ],
             [
              1,
              "#f0f921"
             ]
            ],
            "type": "heatmap"
           }
          ],
          "heatmapgl": [
           {
            "colorbar": {
             "outlinewidth": 0,
             "ticks": ""
            },
            "colorscale": [
             [
              0,
              "#0d0887"
             ],
             [
              0.1111111111111111,
              "#46039f"
             ],
             [
              0.2222222222222222,
              "#7201a8"
             ],
             [
              0.3333333333333333,
              "#9c179e"
             ],
             [
              0.4444444444444444,
              "#bd3786"
             ],
             [
              0.5555555555555556,
              "#d8576b"
             ],
             [
              0.6666666666666666,
              "#ed7953"
             ],
             [
              0.7777777777777778,
              "#fb9f3a"
             ],
             [
              0.8888888888888888,
              "#fdca26"
             ],
             [
              1,
              "#f0f921"
             ]
            ],
            "type": "heatmapgl"
           }
          ],
          "histogram": [
           {
            "marker": {
             "pattern": {
              "fillmode": "overlay",
              "size": 10,
              "solidity": 0.2
             }
            },
            "type": "histogram"
           }
          ],
          "histogram2d": [
           {
            "colorbar": {
             "outlinewidth": 0,
             "ticks": ""
            },
            "colorscale": [
             [
              0,
              "#0d0887"
             ],
             [
              0.1111111111111111,
              "#46039f"
             ],
             [
              0.2222222222222222,
              "#7201a8"
             ],
             [
              0.3333333333333333,
              "#9c179e"
             ],
             [
              0.4444444444444444,
              "#bd3786"
             ],
             [
              0.5555555555555556,
              "#d8576b"
             ],
             [
              0.6666666666666666,
              "#ed7953"
             ],
             [
              0.7777777777777778,
              "#fb9f3a"
             ],
             [
              0.8888888888888888,
              "#fdca26"
             ],
             [
              1,
              "#f0f921"
             ]
            ],
            "type": "histogram2d"
           }
          ],
          "histogram2dcontour": [
           {
            "colorbar": {
             "outlinewidth": 0,
             "ticks": ""
            },
            "colorscale": [
             [
              0,
              "#0d0887"
             ],
             [
              0.1111111111111111,
              "#46039f"
             ],
             [
              0.2222222222222222,
              "#7201a8"
             ],
             [
              0.3333333333333333,
              "#9c179e"
             ],
             [
              0.4444444444444444,
              "#bd3786"
             ],
             [
              0.5555555555555556,
              "#d8576b"
             ],
             [
              0.6666666666666666,
              "#ed7953"
             ],
             [
              0.7777777777777778,
              "#fb9f3a"
             ],
             [
              0.8888888888888888,
              "#fdca26"
             ],
             [
              1,
              "#f0f921"
             ]
            ],
            "type": "histogram2dcontour"
           }
          ],
          "mesh3d": [
           {
            "colorbar": {
             "outlinewidth": 0,
             "ticks": ""
            },
            "type": "mesh3d"
           }
          ],
          "parcoords": [
           {
            "line": {
             "colorbar": {
              "outlinewidth": 0,
              "ticks": ""
             }
            },
            "type": "parcoords"
           }
          ],
          "pie": [
           {
            "automargin": true,
            "type": "pie"
           }
          ],
          "scatter": [
           {
            "fillpattern": {
             "fillmode": "overlay",
             "size": 10,
             "solidity": 0.2
            },
            "type": "scatter"
           }
          ],
          "scatter3d": [
           {
            "line": {
             "colorbar": {
              "outlinewidth": 0,
              "ticks": ""
             }
            },
            "marker": {
             "colorbar": {
              "outlinewidth": 0,
              "ticks": ""
             }
            },
            "type": "scatter3d"
           }
          ],
          "scattercarpet": [
           {
            "marker": {
             "colorbar": {
              "outlinewidth": 0,
              "ticks": ""
             }
            },
            "type": "scattercarpet"
           }
          ],
          "scattergeo": [
           {
            "marker": {
             "colorbar": {
              "outlinewidth": 0,
              "ticks": ""
             }
            },
            "type": "scattergeo"
           }
          ],
          "scattergl": [
           {
            "marker": {
             "colorbar": {
              "outlinewidth": 0,
              "ticks": ""
             }
            },
            "type": "scattergl"
           }
          ],
          "scattermapbox": [
           {
            "marker": {
             "colorbar": {
              "outlinewidth": 0,
              "ticks": ""
             }
            },
            "type": "scattermapbox"
           }
          ],
          "scatterpolar": [
           {
            "marker": {
             "colorbar": {
              "outlinewidth": 0,
              "ticks": ""
             }
            },
            "type": "scatterpolar"
           }
          ],
          "scatterpolargl": [
           {
            "marker": {
             "colorbar": {
              "outlinewidth": 0,
              "ticks": ""
             }
            },
            "type": "scatterpolargl"
           }
          ],
          "scatterternary": [
           {
            "marker": {
             "colorbar": {
              "outlinewidth": 0,
              "ticks": ""
             }
            },
            "type": "scatterternary"
           }
          ],
          "surface": [
           {
            "colorbar": {
             "outlinewidth": 0,
             "ticks": ""
            },
            "colorscale": [
             [
              0,
              "#0d0887"
             ],
             [
              0.1111111111111111,
              "#46039f"
             ],
             [
              0.2222222222222222,
              "#7201a8"
             ],
             [
              0.3333333333333333,
              "#9c179e"
             ],
             [
              0.4444444444444444,
              "#bd3786"
             ],
             [
              0.5555555555555556,
              "#d8576b"
             ],
             [
              0.6666666666666666,
              "#ed7953"
             ],
             [
              0.7777777777777778,
              "#fb9f3a"
             ],
             [
              0.8888888888888888,
              "#fdca26"
             ],
             [
              1,
              "#f0f921"
             ]
            ],
            "type": "surface"
           }
          ],
          "table": [
           {
            "cells": {
             "fill": {
              "color": "#EBF0F8"
             },
             "line": {
              "color": "white"
             }
            },
            "header": {
             "fill": {
              "color": "#C8D4E3"
             },
             "line": {
              "color": "white"
             }
            },
            "type": "table"
           }
          ]
         },
         "layout": {
          "annotationdefaults": {
           "arrowcolor": "#2a3f5f",
           "arrowhead": 0,
           "arrowwidth": 1
          },
          "autotypenumbers": "strict",
          "coloraxis": {
           "colorbar": {
            "outlinewidth": 0,
            "ticks": ""
           }
          },
          "colorscale": {
           "diverging": [
            [
             0,
             "#8e0152"
            ],
            [
             0.1,
             "#c51b7d"
            ],
            [
             0.2,
             "#de77ae"
            ],
            [
             0.3,
             "#f1b6da"
            ],
            [
             0.4,
             "#fde0ef"
            ],
            [
             0.5,
             "#f7f7f7"
            ],
            [
             0.6,
             "#e6f5d0"
            ],
            [
             0.7,
             "#b8e186"
            ],
            [
             0.8,
             "#7fbc41"
            ],
            [
             0.9,
             "#4d9221"
            ],
            [
             1,
             "#276419"
            ]
           ],
           "sequential": [
            [
             0,
             "#0d0887"
            ],
            [
             0.1111111111111111,
             "#46039f"
            ],
            [
             0.2222222222222222,
             "#7201a8"
            ],
            [
             0.3333333333333333,
             "#9c179e"
            ],
            [
             0.4444444444444444,
             "#bd3786"
            ],
            [
             0.5555555555555556,
             "#d8576b"
            ],
            [
             0.6666666666666666,
             "#ed7953"
            ],
            [
             0.7777777777777778,
             "#fb9f3a"
            ],
            [
             0.8888888888888888,
             "#fdca26"
            ],
            [
             1,
             "#f0f921"
            ]
           ],
           "sequentialminus": [
            [
             0,
             "#0d0887"
            ],
            [
             0.1111111111111111,
             "#46039f"
            ],
            [
             0.2222222222222222,
             "#7201a8"
            ],
            [
             0.3333333333333333,
             "#9c179e"
            ],
            [
             0.4444444444444444,
             "#bd3786"
            ],
            [
             0.5555555555555556,
             "#d8576b"
            ],
            [
             0.6666666666666666,
             "#ed7953"
            ],
            [
             0.7777777777777778,
             "#fb9f3a"
            ],
            [
             0.8888888888888888,
             "#fdca26"
            ],
            [
             1,
             "#f0f921"
            ]
           ]
          },
          "colorway": [
           "#636efa",
           "#EF553B",
           "#00cc96",
           "#ab63fa",
           "#FFA15A",
           "#19d3f3",
           "#FF6692",
           "#B6E880",
           "#FF97FF",
           "#FECB52"
          ],
          "font": {
           "color": "#2a3f5f"
          },
          "geo": {
           "bgcolor": "white",
           "lakecolor": "white",
           "landcolor": "#E5ECF6",
           "showlakes": true,
           "showland": true,
           "subunitcolor": "white"
          },
          "hoverlabel": {
           "align": "left"
          },
          "hovermode": "closest",
          "mapbox": {
           "style": "light"
          },
          "paper_bgcolor": "white",
          "plot_bgcolor": "#E5ECF6",
          "polar": {
           "angularaxis": {
            "gridcolor": "white",
            "linecolor": "white",
            "ticks": ""
           },
           "bgcolor": "#E5ECF6",
           "radialaxis": {
            "gridcolor": "white",
            "linecolor": "white",
            "ticks": ""
           }
          },
          "scene": {
           "xaxis": {
            "backgroundcolor": "#E5ECF6",
            "gridcolor": "white",
            "gridwidth": 2,
            "linecolor": "white",
            "showbackground": true,
            "ticks": "",
            "zerolinecolor": "white"
           },
           "yaxis": {
            "backgroundcolor": "#E5ECF6",
            "gridcolor": "white",
            "gridwidth": 2,
            "linecolor": "white",
            "showbackground": true,
            "ticks": "",
            "zerolinecolor": "white"
           },
           "zaxis": {
            "backgroundcolor": "#E5ECF6",
            "gridcolor": "white",
            "gridwidth": 2,
            "linecolor": "white",
            "showbackground": true,
            "ticks": "",
            "zerolinecolor": "white"
           }
          },
          "shapedefaults": {
           "line": {
            "color": "#2a3f5f"
           }
          },
          "ternary": {
           "aaxis": {
            "gridcolor": "white",
            "linecolor": "white",
            "ticks": ""
           },
           "baxis": {
            "gridcolor": "white",
            "linecolor": "white",
            "ticks": ""
           },
           "bgcolor": "#E5ECF6",
           "caxis": {
            "gridcolor": "white",
            "linecolor": "white",
            "ticks": ""
           }
          },
          "title": {
           "x": 0.05
          },
          "xaxis": {
           "automargin": true,
           "gridcolor": "white",
           "linecolor": "white",
           "ticks": "",
           "title": {
            "standoff": 15
           },
           "zerolinecolor": "white",
           "zerolinewidth": 2
          },
          "yaxis": {
           "automargin": true,
           "gridcolor": "white",
           "linecolor": "white",
           "ticks": "",
           "title": {
            "standoff": 15
           },
           "zerolinecolor": "white",
           "zerolinewidth": 2
          }
         }
        },
        "title": {
         "font": {
          "color": "#4D5663"
         }
        },
        "xaxis": {
         "gridcolor": "#E1E5ED",
         "showgrid": true,
         "tickfont": {
          "color": "#4D5663"
         },
         "title": {
          "font": {
           "color": "#4D5663"
          },
          "text": ""
         },
         "zerolinecolor": "#E1E5ED"
        },
        "yaxis": {
         "gridcolor": "#E1E5ED",
         "showgrid": true,
         "tickfont": {
          "color": "#4D5663"
         },
         "title": {
          "font": {
           "color": "#4D5663"
          },
          "text": ""
         },
         "zerolinecolor": "#E1E5ED"
        }
       }
      },
      "text/html": [
       "<div>                            <div id=\"97e9c04b-6c9c-4f2c-8da5-aa5f6576e732\" class=\"plotly-graph-div\" style=\"height:525px; width:100%;\"></div>            <script type=\"text/javascript\">                require([\"plotly\"], function(Plotly) {                    window.PLOTLYENV=window.PLOTLYENV || {};\n",
       "                    window.PLOTLYENV.BASE_URL='https://plot.ly';                                    if (document.getElementById(\"97e9c04b-6c9c-4f2c-8da5-aa5f6576e732\")) {                    Plotly.newPlot(                        \"97e9c04b-6c9c-4f2c-8da5-aa5f6576e732\",                        [{\"histfunc\":\"count\",\"histnorm\":\"\",\"marker\":{\"color\":\"rgba(255, 153, 51, 1.0)\",\"line\":{\"color\":\"#4D5663\",\"width\":1.3}},\"name\":\"A\",\"opacity\":0.8,\"orientation\":\"v\",\"x\":[-0.9295482987691611,0.4996509360917784,-0.31178784381970565,-0.2591828995133058,-0.2403254599818755,0.30007424500314445,-1.9519399516746074,0.36101710108782775,1.1405599367929218,-1.0796063330029473,0.5190388920390553,1.5295361900831612,2.2008109795602016,0.8296048530293078,-0.21937304858767648,-0.9074792394033,-0.2871592266959784,-0.05545890921396091,-0.4966932594692695,-0.2128516157570282,1.124592371454574,0.6228995695801925,0.9256230617994263,-1.768887800317044,-0.2874149202115096,-0.7825545526319378,-2.64432200458736,0.7457461109123886,-1.1428281744977538,1.2210663863390592,-0.9131644958788138,0.13217834318366903,0.6381113620115724,1.4342735786591516,-0.5436898268763243,0.7137862193664714,0.5120364676493256,-2.0607142312389986,0.07250257019407771,-0.6579877485369979,-1.1492108033028867,-2.2536437617141516,1.0563020796557212,-1.0720178624058692,-1.1189016921464603,-0.29284164619717207,-0.20830520279926823,1.0822730128583236,1.0213249027809796,1.2876384897836826,1.8125915692022887,-0.3517345744446924,0.45361035245361936,-0.7548380530713608,0.4509916465215894,0.010825510343471153,1.1954626376691377,1.7044799601908844,-0.2512587274155817,-0.007463326957457436,1.5214107591436405,0.34186384567971756,-0.34838956178384545,-0.02149537492129532,-0.2557559357224352,1.8115002849071817,0.8989054113028747,-0.8478793667167331,-0.4388345973955879,0.5897765192462224,0.9169989960247112,-0.29584764364758287,0.40964963403229865,-0.2765551854394092,0.7309271904230744,-0.05169151931672703,-0.6487263477835327,-0.15937602857333696,-0.669650111705374,1.6529366895888808,0.2725091941094338,-0.84418871539521,-1.0214046898022509,-0.5985785583610419,0.9281497551503964,-1.4386926646965128,1.6413444776995776,-2.2123830364218984,0.7903787489224429,-1.0744732634516792,0.745393189760668,0.4996178124858752,-0.46560119110781123,0.15969763101542492,0.142503896532929,1.3709466265440287,0.9711336472637876,-0.38754055633141615,-1.1752089873333424,0.27340068072325535],\"type\":\"histogram\"},{\"histfunc\":\"count\",\"histnorm\":\"\",\"marker\":{\"color\":\"rgba(55, 128, 191, 1.0)\",\"line\":{\"color\":\"#4D5663\",\"width\":1.3}},\"name\":\"B\",\"opacity\":0.8,\"orientation\":\"v\",\"x\":[0.10595209962862051,0.3368667122382836,-0.32861230975248373,-0.11664858440555267,-0.10862895251019854,0.14676101096132724,1.6550509248816598,0.3116991407512059,-1.5333273766171769,0.67351956523506,-0.23293658066056874,0.5298539546678004,1.2706339922049268,1.4485075051766172,0.6779059423904159,-0.7164141937146591,0.8245757552822287,2.4213154151349485,-0.6875266309878802,-0.19741347908494278,0.6573721821252815,0.2773927166267599,0.18443657890013604,0.20841105872778784,1.014443830916647,-0.6614530154293072,0.7795405780388421,1.1763647687901904,-1.426400518831791,-0.8862199762393453,-0.5432851756689908,0.5612441198207622,0.14759371236534652,-1.569694238419562,2.2741377167085077,-1.3286017158605619,-0.6547759337607292,0.5409293803814273,-1.7140672889540483,-0.838762524216867,2.052568027382253,1.2479484516423567,-0.5050471421968736,1.3906132917773977,0.9304278500231088,-0.5005788549389664,1.0139570932698092,1.4099756691177323,-0.7284825751458816,0.47323279459070394,-0.8126917762346638,0.6377954621777114,-0.3174047711249694,-1.7756135983404886,-0.2363797892406345,-0.7970716486495877,-0.3332925771997845,0.3137937224354294,-0.612749019434206,-0.07558111642014288,-0.9898859959734786,-0.45302566262413996,-0.542805561663329,-1.2844203082105614,-0.11354301196306125,-2.546874494300865,0.9872274735141424,-2.4060412325529983,0.7406303040060868,1.3494134213350881,-0.08353953585239972,-0.8649105520646212,0.5482770228978523,0.3018624903593867,-1.2696542402185156,-0.503774941664004,-0.4457561076351454,0.34242334816657516,-0.11692153010067262,-0.7692072862521319,-0.3210876224228783,-1.3428735501149156,0.08140321965759581,1.4726724276119887,-1.6872778504307941,0.7379616404172885,0.7541415956944442,0.6119192924558464,-0.6805248104558588,-0.011614579413123783,-0.9751368919345605,0.1766886661379514,-0.4773258381639982,-1.7259606922075275,-0.09290092035809304,-0.34934252493462165,-0.5455826577301464,1.223290635135926,-1.332442683803005,-0.4849294268598528],\"type\":\"histogram\"},{\"histfunc\":\"count\",\"histnorm\":\"\",\"marker\":{\"color\":\"rgba(50, 171, 96, 1.0)\",\"line\":{\"color\":\"#4D5663\",\"width\":1.3}},\"name\":\"C\",\"opacity\":0.8,\"orientation\":\"v\",\"x\":[-0.26802567468283556,0.4072064013410601,0.6461005840226851,-0.585094742432191,0.3573995808954022,0.32157802210804975,-0.16919911676177468,-0.6706351029537011,1.0804040578855634,0.28189287438921745,-0.36165626203156503,0.40971416164952523,1.4437380666462036,-0.005032774531809589,0.43212530479678285,-0.10952316599517305,0.38262622234589144,0.6467377811036394,0.8685111970322607,-0.7510330180894015,-1.3548579307174067,0.8498325036801762,0.8060292524603478,-0.05838667707323915,0.4463018940239507,-0.8859584831710968,-0.7689079747608597,-0.33101433492673465,-0.16646933127108451,-2.2234210272232295,0.09320745950272975,0.09399434578019715,1.1755308625746566,0.04959081536101905,-0.12548887832494862,0.553291027320834,-0.006846847112921158,-1.0940902480963026,1.6992610567702078,-1.2201513753331235,-1.016998263095646,1.2410220960272613,0.5650521741319647,0.3948693228115939,-0.34898058136686005,0.041142085742882646,-0.40728021294539435,-0.3383063368079199,-0.3064599522234884,-1.5547550522193543,0.8990539365717387,-1.0357492276649602,-1.7055721268397044,-0.9353285485181945,0.40881727840120746,1.0457842403635524,1.16072135846228,0.7733499372932843,0.06912451400348932,1.7668257964874858,-0.07370408678810107,-0.5992648954960853,0.0031839077604649863,-0.15511925879835184,1.2553790745400344,0.9800336531789141,-0.5852912967995566,2.6036916226598654,-0.9272942988762053,0.6237809786781634,1.0568500925681823,-1.09659045862584,-0.17215484003221654,0.43585654614856795,-0.9267392510841177,0.08561210853793365,-0.3289460799806062,0.36408037266220034,-0.6158920904266694,1.8758077683489707,-0.2488697686696133,0.08909926398044783,-0.019913649723522293,-1.5108509182391463,0.10809714907300454,0.8552468524058905,-0.12208852143184143,0.2991215257437905,-1.1485090797225774,-0.5535953264037937,-1.662812170312761,-0.1404449423341458,1.2988339639252369,1.16562945649828,-0.2227008673477981,-0.5308299782064171,2.509031912866535,-0.6009943623260816,1.1700763481812035,0.35973613592097686],\"type\":\"histogram\"},{\"histfunc\":\"count\",\"histnorm\":\"\",\"marker\":{\"color\":\"rgba(128, 0, 128, 1.0)\",\"line\":{\"color\":\"#4D5663\",\"width\":1.3}},\"name\":\"D\",\"opacity\":0.8,\"orientation\":\"v\",\"x\":[0.7068382862261344,-1.1354893661264782,-1.7781266223186643,-0.9993895145453797,0.7042164203531522,0.9560405384881885,0.6661290584108193,-0.17098627336289118,-0.47884943263231966,-2.364822463910428,-0.0008059323625490484,0.6236349146203897,0.5037184545770702,1.1317450982256376,0.5119154714049131,0.35932707096735206,-0.3663534598741199,1.1365877533477184,0.25417329023146695,-0.44218525948407367,-0.20119332766821338,1.608501409910512,-0.2712631460420925,-1.6439170779887486,0.17876806439418744,-1.288364838351231,1.2805278667353834,-1.0964905172034007,0.30062751958857203,-0.6195883464015917,1.3953980794196124,-1.208577640700005,0.960288245147989,-0.10901010075566653,-2.3995701108243384,-0.36352542201312005,0.520071777572679,0.5870382951239345,-0.8908329994099303,-0.46467533439840847,0.44781348803887583,1.5502356297804298,-0.09040555203215514,-0.007487830982206106,0.06304393372088818,-0.6021066876958482,-1.0452906870455307,0.04280170582626668,-0.374925053066271,-0.4093096611172787,-0.6815199755518858,-1.3584991478390136,-0.21632291529302258,1.11653509881535,-0.5512004547220558,0.7478135005541695,-0.7490802983477098,-0.7604155260542467,0.6323449927814072,0.48741777333043423,0.6738819084446128,0.346537145554769,-1.3061140130711606,0.8523478278571408,-0.2674966200617749,1.4248199828370094,-1.361545126902172,-0.22969931647517633,0.5756343142379796,1.2419495328788337,0.2484676967568032,1.5108745019052454,0.1781643691802824,-0.7239239997563465,-0.5524484345105191,-0.4542635822135648,1.239574019326204,-1.5166528118645612,0.1747359681792644,1.634349529239444,1.003128860486491,1.2316416206606728,-0.17373482053450465,0.6162503121616846,-0.296214462536699,-0.5833585512581337,-0.4948835396241225,-0.8975781417605502,0.09909788460379772,0.6993703963369102,-0.8098029075127882,-0.26295061467659503,-0.8758753227702814,-2.1778422617440167,1.342235000783719,0.5991546221405155,-0.4741195581901758,-1.1317104802699056,1.4645657932255527,-0.5061935595988273],\"type\":\"histogram\"}],                        {\"barmode\":\"overlay\",\"legend\":{\"bgcolor\":\"#F5F6F9\",\"font\":{\"color\":\"#4D5663\"}},\"paper_bgcolor\":\"#F5F6F9\",\"plot_bgcolor\":\"#F5F6F9\",\"template\":{\"data\":{\"barpolar\":[{\"marker\":{\"line\":{\"color\":\"#E5ECF6\",\"width\":0.5},\"pattern\":{\"fillmode\":\"overlay\",\"size\":10,\"solidity\":0.2}},\"type\":\"barpolar\"}],\"bar\":[{\"error_x\":{\"color\":\"#2a3f5f\"},\"error_y\":{\"color\":\"#2a3f5f\"},\"marker\":{\"line\":{\"color\":\"#E5ECF6\",\"width\":0.5},\"pattern\":{\"fillmode\":\"overlay\",\"size\":10,\"solidity\":0.2}},\"type\":\"bar\"}],\"carpet\":[{\"aaxis\":{\"endlinecolor\":\"#2a3f5f\",\"gridcolor\":\"white\",\"linecolor\":\"white\",\"minorgridcolor\":\"white\",\"startlinecolor\":\"#2a3f5f\"},\"baxis\":{\"endlinecolor\":\"#2a3f5f\",\"gridcolor\":\"white\",\"linecolor\":\"white\",\"minorgridcolor\":\"white\",\"startlinecolor\":\"#2a3f5f\"},\"type\":\"carpet\"}],\"choropleth\":[{\"colorbar\":{\"outlinewidth\":0,\"ticks\":\"\"},\"type\":\"choropleth\"}],\"contourcarpet\":[{\"colorbar\":{\"outlinewidth\":0,\"ticks\":\"\"},\"type\":\"contourcarpet\"}],\"contour\":[{\"colorbar\":{\"outlinewidth\":0,\"ticks\":\"\"},\"colorscale\":[[0.0,\"#0d0887\"],[0.1111111111111111,\"#46039f\"],[0.2222222222222222,\"#7201a8\"],[0.3333333333333333,\"#9c179e\"],[0.4444444444444444,\"#bd3786\"],[0.5555555555555556,\"#d8576b\"],[0.6666666666666666,\"#ed7953\"],[0.7777777777777778,\"#fb9f3a\"],[0.8888888888888888,\"#fdca26\"],[1.0,\"#f0f921\"]],\"type\":\"contour\"}],\"heatmapgl\":[{\"colorbar\":{\"outlinewidth\":0,\"ticks\":\"\"},\"colorscale\":[[0.0,\"#0d0887\"],[0.1111111111111111,\"#46039f\"],[0.2222222222222222,\"#7201a8\"],[0.3333333333333333,\"#9c179e\"],[0.4444444444444444,\"#bd3786\"],[0.5555555555555556,\"#d8576b\"],[0.6666666666666666,\"#ed7953\"],[0.7777777777777778,\"#fb9f3a\"],[0.8888888888888888,\"#fdca26\"],[1.0,\"#f0f921\"]],\"type\":\"heatmapgl\"}],\"heatmap\":[{\"colorbar\":{\"outlinewidth\":0,\"ticks\":\"\"},\"colorscale\":[[0.0,\"#0d0887\"],[0.1111111111111111,\"#46039f\"],[0.2222222222222222,\"#7201a8\"],[0.3333333333333333,\"#9c179e\"],[0.4444444444444444,\"#bd3786\"],[0.5555555555555556,\"#d8576b\"],[0.6666666666666666,\"#ed7953\"],[0.7777777777777778,\"#fb9f3a\"],[0.8888888888888888,\"#fdca26\"],[1.0,\"#f0f921\"]],\"type\":\"heatmap\"}],\"histogram2dcontour\":[{\"colorbar\":{\"outlinewidth\":0,\"ticks\":\"\"},\"colorscale\":[[0.0,\"#0d0887\"],[0.1111111111111111,\"#46039f\"],[0.2222222222222222,\"#7201a8\"],[0.3333333333333333,\"#9c179e\"],[0.4444444444444444,\"#bd3786\"],[0.5555555555555556,\"#d8576b\"],[0.6666666666666666,\"#ed7953\"],[0.7777777777777778,\"#fb9f3a\"],[0.8888888888888888,\"#fdca26\"],[1.0,\"#f0f921\"]],\"type\":\"histogram2dcontour\"}],\"histogram2d\":[{\"colorbar\":{\"outlinewidth\":0,\"ticks\":\"\"},\"colorscale\":[[0.0,\"#0d0887\"],[0.1111111111111111,\"#46039f\"],[0.2222222222222222,\"#7201a8\"],[0.3333333333333333,\"#9c179e\"],[0.4444444444444444,\"#bd3786\"],[0.5555555555555556,\"#d8576b\"],[0.6666666666666666,\"#ed7953\"],[0.7777777777777778,\"#fb9f3a\"],[0.8888888888888888,\"#fdca26\"],[1.0,\"#f0f921\"]],\"type\":\"histogram2d\"}],\"histogram\":[{\"marker\":{\"pattern\":{\"fillmode\":\"overlay\",\"size\":10,\"solidity\":0.2}},\"type\":\"histogram\"}],\"mesh3d\":[{\"colorbar\":{\"outlinewidth\":0,\"ticks\":\"\"},\"type\":\"mesh3d\"}],\"parcoords\":[{\"line\":{\"colorbar\":{\"outlinewidth\":0,\"ticks\":\"\"}},\"type\":\"parcoords\"}],\"pie\":[{\"automargin\":true,\"type\":\"pie\"}],\"scatter3d\":[{\"line\":{\"colorbar\":{\"outlinewidth\":0,\"ticks\":\"\"}},\"marker\":{\"colorbar\":{\"outlinewidth\":0,\"ticks\":\"\"}},\"type\":\"scatter3d\"}],\"scattercarpet\":[{\"marker\":{\"colorbar\":{\"outlinewidth\":0,\"ticks\":\"\"}},\"type\":\"scattercarpet\"}],\"scattergeo\":[{\"marker\":{\"colorbar\":{\"outlinewidth\":0,\"ticks\":\"\"}},\"type\":\"scattergeo\"}],\"scattergl\":[{\"marker\":{\"colorbar\":{\"outlinewidth\":0,\"ticks\":\"\"}},\"type\":\"scattergl\"}],\"scattermapbox\":[{\"marker\":{\"colorbar\":{\"outlinewidth\":0,\"ticks\":\"\"}},\"type\":\"scattermapbox\"}],\"scatterpolargl\":[{\"marker\":{\"colorbar\":{\"outlinewidth\":0,\"ticks\":\"\"}},\"type\":\"scatterpolargl\"}],\"scatterpolar\":[{\"marker\":{\"colorbar\":{\"outlinewidth\":0,\"ticks\":\"\"}},\"type\":\"scatterpolar\"}],\"scatter\":[{\"fillpattern\":{\"fillmode\":\"overlay\",\"size\":10,\"solidity\":0.2},\"type\":\"scatter\"}],\"scatterternary\":[{\"marker\":{\"colorbar\":{\"outlinewidth\":0,\"ticks\":\"\"}},\"type\":\"scatterternary\"}],\"surface\":[{\"colorbar\":{\"outlinewidth\":0,\"ticks\":\"\"},\"colorscale\":[[0.0,\"#0d0887\"],[0.1111111111111111,\"#46039f\"],[0.2222222222222222,\"#7201a8\"],[0.3333333333333333,\"#9c179e\"],[0.4444444444444444,\"#bd3786\"],[0.5555555555555556,\"#d8576b\"],[0.6666666666666666,\"#ed7953\"],[0.7777777777777778,\"#fb9f3a\"],[0.8888888888888888,\"#fdca26\"],[1.0,\"#f0f921\"]],\"type\":\"surface\"}],\"table\":[{\"cells\":{\"fill\":{\"color\":\"#EBF0F8\"},\"line\":{\"color\":\"white\"}},\"header\":{\"fill\":{\"color\":\"#C8D4E3\"},\"line\":{\"color\":\"white\"}},\"type\":\"table\"}]},\"layout\":{\"annotationdefaults\":{\"arrowcolor\":\"#2a3f5f\",\"arrowhead\":0,\"arrowwidth\":1},\"autotypenumbers\":\"strict\",\"coloraxis\":{\"colorbar\":{\"outlinewidth\":0,\"ticks\":\"\"}},\"colorscale\":{\"diverging\":[[0,\"#8e0152\"],[0.1,\"#c51b7d\"],[0.2,\"#de77ae\"],[0.3,\"#f1b6da\"],[0.4,\"#fde0ef\"],[0.5,\"#f7f7f7\"],[0.6,\"#e6f5d0\"],[0.7,\"#b8e186\"],[0.8,\"#7fbc41\"],[0.9,\"#4d9221\"],[1,\"#276419\"]],\"sequential\":[[0.0,\"#0d0887\"],[0.1111111111111111,\"#46039f\"],[0.2222222222222222,\"#7201a8\"],[0.3333333333333333,\"#9c179e\"],[0.4444444444444444,\"#bd3786\"],[0.5555555555555556,\"#d8576b\"],[0.6666666666666666,\"#ed7953\"],[0.7777777777777778,\"#fb9f3a\"],[0.8888888888888888,\"#fdca26\"],[1.0,\"#f0f921\"]],\"sequentialminus\":[[0.0,\"#0d0887\"],[0.1111111111111111,\"#46039f\"],[0.2222222222222222,\"#7201a8\"],[0.3333333333333333,\"#9c179e\"],[0.4444444444444444,\"#bd3786\"],[0.5555555555555556,\"#d8576b\"],[0.6666666666666666,\"#ed7953\"],[0.7777777777777778,\"#fb9f3a\"],[0.8888888888888888,\"#fdca26\"],[1.0,\"#f0f921\"]]},\"colorway\":[\"#636efa\",\"#EF553B\",\"#00cc96\",\"#ab63fa\",\"#FFA15A\",\"#19d3f3\",\"#FF6692\",\"#B6E880\",\"#FF97FF\",\"#FECB52\"],\"font\":{\"color\":\"#2a3f5f\"},\"geo\":{\"bgcolor\":\"white\",\"lakecolor\":\"white\",\"landcolor\":\"#E5ECF6\",\"showlakes\":true,\"showland\":true,\"subunitcolor\":\"white\"},\"hoverlabel\":{\"align\":\"left\"},\"hovermode\":\"closest\",\"mapbox\":{\"style\":\"light\"},\"paper_bgcolor\":\"white\",\"plot_bgcolor\":\"#E5ECF6\",\"polar\":{\"angularaxis\":{\"gridcolor\":\"white\",\"linecolor\":\"white\",\"ticks\":\"\"},\"bgcolor\":\"#E5ECF6\",\"radialaxis\":{\"gridcolor\":\"white\",\"linecolor\":\"white\",\"ticks\":\"\"}},\"scene\":{\"xaxis\":{\"backgroundcolor\":\"#E5ECF6\",\"gridcolor\":\"white\",\"gridwidth\":2,\"linecolor\":\"white\",\"showbackground\":true,\"ticks\":\"\",\"zerolinecolor\":\"white\"},\"yaxis\":{\"backgroundcolor\":\"#E5ECF6\",\"gridcolor\":\"white\",\"gridwidth\":2,\"linecolor\":\"white\",\"showbackground\":true,\"ticks\":\"\",\"zerolinecolor\":\"white\"},\"zaxis\":{\"backgroundcolor\":\"#E5ECF6\",\"gridcolor\":\"white\",\"gridwidth\":2,\"linecolor\":\"white\",\"showbackground\":true,\"ticks\":\"\",\"zerolinecolor\":\"white\"}},\"shapedefaults\":{\"line\":{\"color\":\"#2a3f5f\"}},\"ternary\":{\"aaxis\":{\"gridcolor\":\"white\",\"linecolor\":\"white\",\"ticks\":\"\"},\"baxis\":{\"gridcolor\":\"white\",\"linecolor\":\"white\",\"ticks\":\"\"},\"bgcolor\":\"#E5ECF6\",\"caxis\":{\"gridcolor\":\"white\",\"linecolor\":\"white\",\"ticks\":\"\"}},\"title\":{\"x\":0.05},\"xaxis\":{\"automargin\":true,\"gridcolor\":\"white\",\"linecolor\":\"white\",\"ticks\":\"\",\"title\":{\"standoff\":15},\"zerolinecolor\":\"white\",\"zerolinewidth\":2},\"yaxis\":{\"automargin\":true,\"gridcolor\":\"white\",\"linecolor\":\"white\",\"ticks\":\"\",\"title\":{\"standoff\":15},\"zerolinecolor\":\"white\",\"zerolinewidth\":2}}},\"title\":{\"font\":{\"color\":\"#4D5663\"}},\"xaxis\":{\"gridcolor\":\"#E1E5ED\",\"showgrid\":true,\"tickfont\":{\"color\":\"#4D5663\"},\"title\":{\"font\":{\"color\":\"#4D5663\"},\"text\":\"\"},\"zerolinecolor\":\"#E1E5ED\"},\"yaxis\":{\"gridcolor\":\"#E1E5ED\",\"showgrid\":true,\"tickfont\":{\"color\":\"#4D5663\"},\"title\":{\"font\":{\"color\":\"#4D5663\"},\"text\":\"\"},\"zerolinecolor\":\"#E1E5ED\"}},                        {\"showLink\": true, \"linkText\": \"Export to plot.ly\", \"plotlyServerURL\": \"https://plot.ly\", \"responsive\": true}                    ).then(function(){\n",
       "                            \n",
       "var gd = document.getElementById('97e9c04b-6c9c-4f2c-8da5-aa5f6576e732');\n",
       "var x = new MutationObserver(function (mutations, observer) {{\n",
       "        var display = window.getComputedStyle(gd).display;\n",
       "        if (!display || display === 'none') {{\n",
       "            console.log([gd, 'removed!']);\n",
       "            Plotly.purge(gd);\n",
       "            observer.disconnect();\n",
       "        }}\n",
       "}});\n",
       "\n",
       "// Listen for the removal of the full notebook cells\n",
       "var notebookContainer = gd.closest('#notebook-container');\n",
       "if (notebookContainer) {{\n",
       "    x.observe(notebookContainer, {childList: true});\n",
       "}}\n",
       "\n",
       "// Listen for the clearing of the current output cell\n",
       "var outputEl = gd.closest('.output');\n",
       "if (outputEl) {{\n",
       "    x.observe(outputEl, {childList: true});\n",
       "}}\n",
       "\n",
       "                        })                };                });            </script>        </div>"
      ]
     },
     "metadata": {},
     "output_type": "display_data"
    }
   ],
   "source": [
    "df.iplot(kind=\"hist\")"
   ]
  },
  {
   "cell_type": "code",
   "execution_count": 29,
   "id": "c43f672e",
   "metadata": {},
   "outputs": [
    {
     "name": "stderr",
     "output_type": "stream",
     "text": [
      "C:\\ProgramData\\Anaconda3\\lib\\site-packages\\cufflinks\\plotlytools.py:849: FutureWarning:\n",
      "\n",
      "The pandas.np module is deprecated and will be removed from pandas in a future version. Import numpy directly instead\n",
      "\n",
      "C:\\ProgramData\\Anaconda3\\lib\\site-packages\\cufflinks\\plotlytools.py:850: FutureWarning:\n",
      "\n",
      "The pandas.np module is deprecated and will be removed from pandas in a future version. Import numpy directly instead\n",
      "\n"
     ]
    },
    {
     "data": {
      "application/vnd.plotly.v1+json": {
       "config": {
        "linkText": "Export to plot.ly",
        "plotlyServerURL": "https://plot.ly",
        "showLink": true
       },
       "data": [
        {
         "line": {
          "color": "rgba(255, 153, 51, 1.0)",
          "dash": "solid",
          "shape": "linear",
          "width": 1.3
         },
         "mode": "lines",
         "name": "A",
         "text": "",
         "type": "scatter",
         "x": [
          0,
          1,
          2,
          3,
          4,
          5,
          6,
          7,
          8,
          9,
          10,
          11,
          12,
          13,
          14,
          15,
          16,
          17,
          18,
          19,
          20,
          21,
          22,
          23,
          24,
          25,
          26,
          27,
          28,
          29,
          30,
          31,
          32,
          33,
          34,
          35,
          36,
          37,
          38,
          39,
          40,
          41,
          42,
          43,
          44,
          45,
          46,
          47,
          48,
          49,
          50,
          51,
          52,
          53,
          54,
          55,
          56,
          57,
          58,
          59,
          60,
          61,
          62,
          63,
          64,
          65,
          66,
          67,
          68,
          69,
          70,
          71,
          72,
          73,
          74,
          75,
          76,
          77,
          78,
          79,
          80,
          81,
          82,
          83,
          84,
          85,
          86,
          87,
          88,
          89,
          90,
          91,
          92,
          93,
          94,
          95,
          96,
          97,
          98,
          99
         ],
         "y": [
          -0.9295482987691611,
          0.4996509360917784,
          -0.31178784381970565,
          -0.2591828995133058,
          -0.2403254599818755,
          0.30007424500314445,
          -1.9519399516746074,
          0.36101710108782775,
          1.1405599367929218,
          -1.0796063330029473,
          0.5190388920390553,
          1.5295361900831612,
          2.2008109795602016,
          0.8296048530293078,
          -0.21937304858767648,
          -0.9074792394033,
          -0.2871592266959784,
          -0.05545890921396091,
          -0.4966932594692695,
          -0.2128516157570282,
          1.124592371454574,
          0.6228995695801925,
          0.9256230617994263,
          -1.768887800317044,
          -0.2874149202115096,
          -0.7825545526319378,
          -2.64432200458736,
          0.7457461109123886,
          -1.1428281744977538,
          1.2210663863390592,
          -0.9131644958788138,
          0.13217834318366903,
          0.6381113620115724,
          1.4342735786591516,
          -0.5436898268763243,
          0.7137862193664714,
          0.5120364676493256,
          -2.0607142312389986,
          0.07250257019407771,
          -0.6579877485369979,
          -1.1492108033028867,
          -2.2536437617141516,
          1.0563020796557212,
          -1.0720178624058692,
          -1.1189016921464603,
          -0.29284164619717207,
          -0.20830520279926823,
          1.0822730128583236,
          1.0213249027809796,
          1.2876384897836826,
          1.8125915692022887,
          -0.3517345744446924,
          0.45361035245361936,
          -0.7548380530713608,
          0.4509916465215894,
          0.010825510343471153,
          1.1954626376691377,
          1.7044799601908844,
          -0.2512587274155817,
          -0.007463326957457436,
          1.5214107591436405,
          0.34186384567971756,
          -0.34838956178384545,
          -0.02149537492129532,
          -0.2557559357224352,
          1.8115002849071817,
          0.8989054113028747,
          -0.8478793667167331,
          -0.4388345973955879,
          0.5897765192462224,
          0.9169989960247112,
          -0.29584764364758287,
          0.40964963403229865,
          -0.2765551854394092,
          0.7309271904230744,
          -0.05169151931672703,
          -0.6487263477835327,
          -0.15937602857333696,
          -0.669650111705374,
          1.6529366895888808,
          0.2725091941094338,
          -0.84418871539521,
          -1.0214046898022509,
          -0.5985785583610419,
          0.9281497551503964,
          -1.4386926646965128,
          1.6413444776995776,
          -2.2123830364218984,
          0.7903787489224429,
          -1.0744732634516792,
          0.745393189760668,
          0.4996178124858752,
          -0.46560119110781123,
          0.15969763101542492,
          0.142503896532929,
          1.3709466265440287,
          0.9711336472637876,
          -0.38754055633141615,
          -1.1752089873333424,
          0.27340068072325535
         ]
        },
        {
         "line": {
          "color": "rgba(55, 128, 191, 1.0)",
          "dash": "solid",
          "shape": "linear",
          "width": 1.3
         },
         "mode": "lines",
         "name": "B",
         "text": "",
         "type": "scatter",
         "x": [
          0,
          1,
          2,
          3,
          4,
          5,
          6,
          7,
          8,
          9,
          10,
          11,
          12,
          13,
          14,
          15,
          16,
          17,
          18,
          19,
          20,
          21,
          22,
          23,
          24,
          25,
          26,
          27,
          28,
          29,
          30,
          31,
          32,
          33,
          34,
          35,
          36,
          37,
          38,
          39,
          40,
          41,
          42,
          43,
          44,
          45,
          46,
          47,
          48,
          49,
          50,
          51,
          52,
          53,
          54,
          55,
          56,
          57,
          58,
          59,
          60,
          61,
          62,
          63,
          64,
          65,
          66,
          67,
          68,
          69,
          70,
          71,
          72,
          73,
          74,
          75,
          76,
          77,
          78,
          79,
          80,
          81,
          82,
          83,
          84,
          85,
          86,
          87,
          88,
          89,
          90,
          91,
          92,
          93,
          94,
          95,
          96,
          97,
          98,
          99
         ],
         "y": [
          0.10595209962862051,
          0.3368667122382836,
          -0.32861230975248373,
          -0.11664858440555267,
          -0.10862895251019854,
          0.14676101096132724,
          1.6550509248816598,
          0.3116991407512059,
          -1.5333273766171769,
          0.67351956523506,
          -0.23293658066056874,
          0.5298539546678004,
          1.2706339922049268,
          1.4485075051766172,
          0.6779059423904159,
          -0.7164141937146591,
          0.8245757552822287,
          2.4213154151349485,
          -0.6875266309878802,
          -0.19741347908494278,
          0.6573721821252815,
          0.2773927166267599,
          0.18443657890013604,
          0.20841105872778784,
          1.014443830916647,
          -0.6614530154293072,
          0.7795405780388421,
          1.1763647687901904,
          -1.426400518831791,
          -0.8862199762393453,
          -0.5432851756689908,
          0.5612441198207622,
          0.14759371236534652,
          -1.569694238419562,
          2.2741377167085077,
          -1.3286017158605619,
          -0.6547759337607292,
          0.5409293803814273,
          -1.7140672889540483,
          -0.838762524216867,
          2.052568027382253,
          1.2479484516423567,
          -0.5050471421968736,
          1.3906132917773977,
          0.9304278500231088,
          -0.5005788549389664,
          1.0139570932698092,
          1.4099756691177323,
          -0.7284825751458816,
          0.47323279459070394,
          -0.8126917762346638,
          0.6377954621777114,
          -0.3174047711249694,
          -1.7756135983404886,
          -0.2363797892406345,
          -0.7970716486495877,
          -0.3332925771997845,
          0.3137937224354294,
          -0.612749019434206,
          -0.07558111642014288,
          -0.9898859959734786,
          -0.45302566262413996,
          -0.542805561663329,
          -1.2844203082105614,
          -0.11354301196306125,
          -2.546874494300865,
          0.9872274735141424,
          -2.4060412325529983,
          0.7406303040060868,
          1.3494134213350881,
          -0.08353953585239972,
          -0.8649105520646212,
          0.5482770228978523,
          0.3018624903593867,
          -1.2696542402185156,
          -0.503774941664004,
          -0.4457561076351454,
          0.34242334816657516,
          -0.11692153010067262,
          -0.7692072862521319,
          -0.3210876224228783,
          -1.3428735501149156,
          0.08140321965759581,
          1.4726724276119887,
          -1.6872778504307941,
          0.7379616404172885,
          0.7541415956944442,
          0.6119192924558464,
          -0.6805248104558588,
          -0.011614579413123783,
          -0.9751368919345605,
          0.1766886661379514,
          -0.4773258381639982,
          -1.7259606922075275,
          -0.09290092035809304,
          -0.34934252493462165,
          -0.5455826577301464,
          1.223290635135926,
          -1.332442683803005,
          -0.4849294268598528
         ]
        },
        {
         "connectgaps": false,
         "fill": "tozeroy",
         "line": {
          "color": "green",
          "dash": "solid",
          "shape": "linear",
          "width": 0.5
         },
         "mode": "lines",
         "name": "Spread",
         "showlegend": false,
         "type": "scatter",
         "x": [
          0,
          1,
          2,
          3,
          4,
          5,
          6,
          7,
          8,
          9,
          10,
          11,
          12,
          13,
          14,
          15,
          16,
          17,
          18,
          19,
          20,
          21,
          22,
          23,
          24,
          25,
          26,
          27,
          28,
          29,
          30,
          31,
          32,
          33,
          34,
          35,
          36,
          37,
          38,
          39,
          40,
          41,
          42,
          43,
          44,
          45,
          46,
          47,
          48,
          49,
          50,
          51,
          52,
          53,
          54,
          55,
          56,
          57,
          58,
          59,
          60,
          61,
          62,
          63,
          64,
          65,
          66,
          67,
          68,
          69,
          70,
          71,
          72,
          73,
          74,
          75,
          76,
          77,
          78,
          79,
          80,
          81,
          82,
          83,
          84,
          85,
          86,
          87,
          88,
          89,
          90,
          91,
          92,
          93,
          94,
          95,
          96,
          97,
          98,
          99
         ],
         "xaxis": "x2",
         "y": [
          "",
          0.16278422385349478,
          0.016824465932778088,
          "",
          "",
          0.1533132340418172,
          "",
          0.049317960336621836,
          2.6738873134100984,
          "",
          0.7519754726996241,
          0.9996822354153608,
          0.9301769873552748,
          "",
          "",
          "",
          "",
          "",
          0.19083337151861074,
          "",
          0.46722018932929255,
          0.34550685295343264,
          0.7411864828992902,
          "",
          "",
          "",
          "",
          "",
          0.2835723443340372,
          2.1072863625784044,
          "",
          "",
          0.49051764964622585,
          3.0039678170787134,
          "",
          2.0423879352270333,
          1.1668124014100547,
          "",
          1.786569859148126,
          0.1807747756798691,
          "",
          "",
          1.5613492218525948,
          "",
          "",
          0.2077372087417943,
          "",
          "",
          1.7498074779268613,
          0.8144056951929786,
          2.6252833454369524,
          "",
          0.7710151235785887,
          1.0207755452691278,
          0.6873714357622239,
          0.8078971589930588,
          1.5287552148689223,
          1.390686237755455,
          0.3614902920186243,
          0.06811778946268544,
          2.5112967551171193,
          0.7948895083038575,
          0.1944159998794836,
          1.262924933289266,
          "",
          4.358374779208047,
          "",
          1.558161865836265,
          "",
          "",
          1.000538531877111,
          0.5690629084170383,
          "",
          "",
          2.00058143064159,
          0.452083422347277,
          "",
          "",
          "",
          2.4221439758410126,
          0.5935968165323121,
          0.4986848347197056,
          "",
          "",
          2.6154276055811905,
          "",
          0.8872028820051334,
          "",
          1.4709035593783018,
          "",
          1.7205300816952285,
          0.3229291463479238,
          0.011724647056186976,
          1.8856583232229525,
          0.23540481689102205,
          1.7202891514786502,
          1.5167163049939338,
          "",
          0.15723369646966256,
          0.7583301075831081
         ],
         "yaxis": "y2"
        },
        {
         "connectgaps": false,
         "fill": "tozeroy",
         "line": {
          "color": "red",
          "dash": "solid",
          "shape": "linear",
          "width": 0.5
         },
         "mode": "lines",
         "name": "Spread",
         "showlegend": false,
         "type": "scatter",
         "x": [
          0,
          1,
          2,
          3,
          4,
          5,
          6,
          7,
          8,
          9,
          10,
          11,
          12,
          13,
          14,
          15,
          16,
          17,
          18,
          19,
          20,
          21,
          22,
          23,
          24,
          25,
          26,
          27,
          28,
          29,
          30,
          31,
          32,
          33,
          34,
          35,
          36,
          37,
          38,
          39,
          40,
          41,
          42,
          43,
          44,
          45,
          46,
          47,
          48,
          49,
          50,
          51,
          52,
          53,
          54,
          55,
          56,
          57,
          58,
          59,
          60,
          61,
          62,
          63,
          64,
          65,
          66,
          67,
          68,
          69,
          70,
          71,
          72,
          73,
          74,
          75,
          76,
          77,
          78,
          79,
          80,
          81,
          82,
          83,
          84,
          85,
          86,
          87,
          88,
          89,
          90,
          91,
          92,
          93,
          94,
          95,
          96,
          97,
          98,
          99
         ],
         "xaxis": "x2",
         "y": [
          -1.0355003983977817,
          "",
          "",
          -0.14253431510775313,
          -0.13169650747167694,
          "",
          -3.6069908765562673,
          "",
          "",
          -1.7531258982380074,
          "",
          "",
          "",
          -0.6189026521473094,
          -0.8972789909780924,
          -0.1910650456886409,
          -1.111734981978207,
          -2.4767743243489093,
          "",
          -0.015438136672085434,
          "",
          "",
          "",
          -1.977298859044832,
          -1.3018587511281567,
          -0.12110153720263062,
          -3.423862582626202,
          -0.43061865787780174,
          "",
          "",
          -0.36987932020982295,
          -0.4290657766370931,
          "",
          "",
          -2.817827543584832,
          "",
          "",
          -2.601643611620426,
          "",
          "",
          -3.2017788306851394,
          -3.501592213356508,
          "",
          -2.462631154183267,
          -2.049329542169569,
          "",
          -1.2222622960690774,
          -0.32770265625940875,
          "",
          "",
          "",
          -0.9895300366224038,
          "",
          "",
          "",
          "",
          "",
          "",
          "",
          "",
          "",
          "",
          "",
          "",
          -0.14221292375937394,
          "",
          -0.0883220622112677,
          "",
          -1.1794649014016747,
          -0.7596369020888657,
          "",
          "",
          -0.13862738886555365,
          -0.578417675798796,
          "",
          "",
          -0.20297024014838727,
          -0.5017993767399122,
          -0.5527285816047014,
          "",
          "",
          "",
          -1.1028079094598466,
          -2.0712509859730304,
          "",
          -2.1766543051138014,
          "",
          -2.824302328877745,
          "",
          -1.0628586840385554,
          "",
          "",
          "",
          "",
          "",
          "",
          "",
          -1.610831191467342,
          "",
          ""
         ],
         "yaxis": "y2"
        }
       ],
       "layout": {
        "hovermode": "x",
        "legend": {
         "bgcolor": "#F5F6F9",
         "font": {
          "color": "#4D5663"
         }
        },
        "paper_bgcolor": "#F5F6F9",
        "plot_bgcolor": "#F5F6F9",
        "template": {
         "data": {
          "bar": [
           {
            "error_x": {
             "color": "#2a3f5f"
            },
            "error_y": {
             "color": "#2a3f5f"
            },
            "marker": {
             "line": {
              "color": "#E5ECF6",
              "width": 0.5
             },
             "pattern": {
              "fillmode": "overlay",
              "size": 10,
              "solidity": 0.2
             }
            },
            "type": "bar"
           }
          ],
          "barpolar": [
           {
            "marker": {
             "line": {
              "color": "#E5ECF6",
              "width": 0.5
             },
             "pattern": {
              "fillmode": "overlay",
              "size": 10,
              "solidity": 0.2
             }
            },
            "type": "barpolar"
           }
          ],
          "carpet": [
           {
            "aaxis": {
             "endlinecolor": "#2a3f5f",
             "gridcolor": "white",
             "linecolor": "white",
             "minorgridcolor": "white",
             "startlinecolor": "#2a3f5f"
            },
            "baxis": {
             "endlinecolor": "#2a3f5f",
             "gridcolor": "white",
             "linecolor": "white",
             "minorgridcolor": "white",
             "startlinecolor": "#2a3f5f"
            },
            "type": "carpet"
           }
          ],
          "choropleth": [
           {
            "colorbar": {
             "outlinewidth": 0,
             "ticks": ""
            },
            "type": "choropleth"
           }
          ],
          "contour": [
           {
            "colorbar": {
             "outlinewidth": 0,
             "ticks": ""
            },
            "colorscale": [
             [
              0,
              "#0d0887"
             ],
             [
              0.1111111111111111,
              "#46039f"
             ],
             [
              0.2222222222222222,
              "#7201a8"
             ],
             [
              0.3333333333333333,
              "#9c179e"
             ],
             [
              0.4444444444444444,
              "#bd3786"
             ],
             [
              0.5555555555555556,
              "#d8576b"
             ],
             [
              0.6666666666666666,
              "#ed7953"
             ],
             [
              0.7777777777777778,
              "#fb9f3a"
             ],
             [
              0.8888888888888888,
              "#fdca26"
             ],
             [
              1,
              "#f0f921"
             ]
            ],
            "type": "contour"
           }
          ],
          "contourcarpet": [
           {
            "colorbar": {
             "outlinewidth": 0,
             "ticks": ""
            },
            "type": "contourcarpet"
           }
          ],
          "heatmap": [
           {
            "colorbar": {
             "outlinewidth": 0,
             "ticks": ""
            },
            "colorscale": [
             [
              0,
              "#0d0887"
             ],
             [
              0.1111111111111111,
              "#46039f"
             ],
             [
              0.2222222222222222,
              "#7201a8"
             ],
             [
              0.3333333333333333,
              "#9c179e"
             ],
             [
              0.4444444444444444,
              "#bd3786"
             ],
             [
              0.5555555555555556,
              "#d8576b"
             ],
             [
              0.6666666666666666,
              "#ed7953"
             ],
             [
              0.7777777777777778,
              "#fb9f3a"
             ],
             [
              0.8888888888888888,
              "#fdca26"
             ],
             [
              1,
              "#f0f921"
             ]
            ],
            "type": "heatmap"
           }
          ],
          "heatmapgl": [
           {
            "colorbar": {
             "outlinewidth": 0,
             "ticks": ""
            },
            "colorscale": [
             [
              0,
              "#0d0887"
             ],
             [
              0.1111111111111111,
              "#46039f"
             ],
             [
              0.2222222222222222,
              "#7201a8"
             ],
             [
              0.3333333333333333,
              "#9c179e"
             ],
             [
              0.4444444444444444,
              "#bd3786"
             ],
             [
              0.5555555555555556,
              "#d8576b"
             ],
             [
              0.6666666666666666,
              "#ed7953"
             ],
             [
              0.7777777777777778,
              "#fb9f3a"
             ],
             [
              0.8888888888888888,
              "#fdca26"
             ],
             [
              1,
              "#f0f921"
             ]
            ],
            "type": "heatmapgl"
           }
          ],
          "histogram": [
           {
            "marker": {
             "pattern": {
              "fillmode": "overlay",
              "size": 10,
              "solidity": 0.2
             }
            },
            "type": "histogram"
           }
          ],
          "histogram2d": [
           {
            "colorbar": {
             "outlinewidth": 0,
             "ticks": ""
            },
            "colorscale": [
             [
              0,
              "#0d0887"
             ],
             [
              0.1111111111111111,
              "#46039f"
             ],
             [
              0.2222222222222222,
              "#7201a8"
             ],
             [
              0.3333333333333333,
              "#9c179e"
             ],
             [
              0.4444444444444444,
              "#bd3786"
             ],
             [
              0.5555555555555556,
              "#d8576b"
             ],
             [
              0.6666666666666666,
              "#ed7953"
             ],
             [
              0.7777777777777778,
              "#fb9f3a"
             ],
             [
              0.8888888888888888,
              "#fdca26"
             ],
             [
              1,
              "#f0f921"
             ]
            ],
            "type": "histogram2d"
           }
          ],
          "histogram2dcontour": [
           {
            "colorbar": {
             "outlinewidth": 0,
             "ticks": ""
            },
            "colorscale": [
             [
              0,
              "#0d0887"
             ],
             [
              0.1111111111111111,
              "#46039f"
             ],
             [
              0.2222222222222222,
              "#7201a8"
             ],
             [
              0.3333333333333333,
              "#9c179e"
             ],
             [
              0.4444444444444444,
              "#bd3786"
             ],
             [
              0.5555555555555556,
              "#d8576b"
             ],
             [
              0.6666666666666666,
              "#ed7953"
             ],
             [
              0.7777777777777778,
              "#fb9f3a"
             ],
             [
              0.8888888888888888,
              "#fdca26"
             ],
             [
              1,
              "#f0f921"
             ]
            ],
            "type": "histogram2dcontour"
           }
          ],
          "mesh3d": [
           {
            "colorbar": {
             "outlinewidth": 0,
             "ticks": ""
            },
            "type": "mesh3d"
           }
          ],
          "parcoords": [
           {
            "line": {
             "colorbar": {
              "outlinewidth": 0,
              "ticks": ""
             }
            },
            "type": "parcoords"
           }
          ],
          "pie": [
           {
            "automargin": true,
            "type": "pie"
           }
          ],
          "scatter": [
           {
            "fillpattern": {
             "fillmode": "overlay",
             "size": 10,
             "solidity": 0.2
            },
            "type": "scatter"
           }
          ],
          "scatter3d": [
           {
            "line": {
             "colorbar": {
              "outlinewidth": 0,
              "ticks": ""
             }
            },
            "marker": {
             "colorbar": {
              "outlinewidth": 0,
              "ticks": ""
             }
            },
            "type": "scatter3d"
           }
          ],
          "scattercarpet": [
           {
            "marker": {
             "colorbar": {
              "outlinewidth": 0,
              "ticks": ""
             }
            },
            "type": "scattercarpet"
           }
          ],
          "scattergeo": [
           {
            "marker": {
             "colorbar": {
              "outlinewidth": 0,
              "ticks": ""
             }
            },
            "type": "scattergeo"
           }
          ],
          "scattergl": [
           {
            "marker": {
             "colorbar": {
              "outlinewidth": 0,
              "ticks": ""
             }
            },
            "type": "scattergl"
           }
          ],
          "scattermapbox": [
           {
            "marker": {
             "colorbar": {
              "outlinewidth": 0,
              "ticks": ""
             }
            },
            "type": "scattermapbox"
           }
          ],
          "scatterpolar": [
           {
            "marker": {
             "colorbar": {
              "outlinewidth": 0,
              "ticks": ""
             }
            },
            "type": "scatterpolar"
           }
          ],
          "scatterpolargl": [
           {
            "marker": {
             "colorbar": {
              "outlinewidth": 0,
              "ticks": ""
             }
            },
            "type": "scatterpolargl"
           }
          ],
          "scatterternary": [
           {
            "marker": {
             "colorbar": {
              "outlinewidth": 0,
              "ticks": ""
             }
            },
            "type": "scatterternary"
           }
          ],
          "surface": [
           {
            "colorbar": {
             "outlinewidth": 0,
             "ticks": ""
            },
            "colorscale": [
             [
              0,
              "#0d0887"
             ],
             [
              0.1111111111111111,
              "#46039f"
             ],
             [
              0.2222222222222222,
              "#7201a8"
             ],
             [
              0.3333333333333333,
              "#9c179e"
             ],
             [
              0.4444444444444444,
              "#bd3786"
             ],
             [
              0.5555555555555556,
              "#d8576b"
             ],
             [
              0.6666666666666666,
              "#ed7953"
             ],
             [
              0.7777777777777778,
              "#fb9f3a"
             ],
             [
              0.8888888888888888,
              "#fdca26"
             ],
             [
              1,
              "#f0f921"
             ]
            ],
            "type": "surface"
           }
          ],
          "table": [
           {
            "cells": {
             "fill": {
              "color": "#EBF0F8"
             },
             "line": {
              "color": "white"
             }
            },
            "header": {
             "fill": {
              "color": "#C8D4E3"
             },
             "line": {
              "color": "white"
             }
            },
            "type": "table"
           }
          ]
         },
         "layout": {
          "annotationdefaults": {
           "arrowcolor": "#2a3f5f",
           "arrowhead": 0,
           "arrowwidth": 1
          },
          "autotypenumbers": "strict",
          "coloraxis": {
           "colorbar": {
            "outlinewidth": 0,
            "ticks": ""
           }
          },
          "colorscale": {
           "diverging": [
            [
             0,
             "#8e0152"
            ],
            [
             0.1,
             "#c51b7d"
            ],
            [
             0.2,
             "#de77ae"
            ],
            [
             0.3,
             "#f1b6da"
            ],
            [
             0.4,
             "#fde0ef"
            ],
            [
             0.5,
             "#f7f7f7"
            ],
            [
             0.6,
             "#e6f5d0"
            ],
            [
             0.7,
             "#b8e186"
            ],
            [
             0.8,
             "#7fbc41"
            ],
            [
             0.9,
             "#4d9221"
            ],
            [
             1,
             "#276419"
            ]
           ],
           "sequential": [
            [
             0,
             "#0d0887"
            ],
            [
             0.1111111111111111,
             "#46039f"
            ],
            [
             0.2222222222222222,
             "#7201a8"
            ],
            [
             0.3333333333333333,
             "#9c179e"
            ],
            [
             0.4444444444444444,
             "#bd3786"
            ],
            [
             0.5555555555555556,
             "#d8576b"
            ],
            [
             0.6666666666666666,
             "#ed7953"
            ],
            [
             0.7777777777777778,
             "#fb9f3a"
            ],
            [
             0.8888888888888888,
             "#fdca26"
            ],
            [
             1,
             "#f0f921"
            ]
           ],
           "sequentialminus": [
            [
             0,
             "#0d0887"
            ],
            [
             0.1111111111111111,
             "#46039f"
            ],
            [
             0.2222222222222222,
             "#7201a8"
            ],
            [
             0.3333333333333333,
             "#9c179e"
            ],
            [
             0.4444444444444444,
             "#bd3786"
            ],
            [
             0.5555555555555556,
             "#d8576b"
            ],
            [
             0.6666666666666666,
             "#ed7953"
            ],
            [
             0.7777777777777778,
             "#fb9f3a"
            ],
            [
             0.8888888888888888,
             "#fdca26"
            ],
            [
             1,
             "#f0f921"
            ]
           ]
          },
          "colorway": [
           "#636efa",
           "#EF553B",
           "#00cc96",
           "#ab63fa",
           "#FFA15A",
           "#19d3f3",
           "#FF6692",
           "#B6E880",
           "#FF97FF",
           "#FECB52"
          ],
          "font": {
           "color": "#2a3f5f"
          },
          "geo": {
           "bgcolor": "white",
           "lakecolor": "white",
           "landcolor": "#E5ECF6",
           "showlakes": true,
           "showland": true,
           "subunitcolor": "white"
          },
          "hoverlabel": {
           "align": "left"
          },
          "hovermode": "closest",
          "mapbox": {
           "style": "light"
          },
          "paper_bgcolor": "white",
          "plot_bgcolor": "#E5ECF6",
          "polar": {
           "angularaxis": {
            "gridcolor": "white",
            "linecolor": "white",
            "ticks": ""
           },
           "bgcolor": "#E5ECF6",
           "radialaxis": {
            "gridcolor": "white",
            "linecolor": "white",
            "ticks": ""
           }
          },
          "scene": {
           "xaxis": {
            "backgroundcolor": "#E5ECF6",
            "gridcolor": "white",
            "gridwidth": 2,
            "linecolor": "white",
            "showbackground": true,
            "ticks": "",
            "zerolinecolor": "white"
           },
           "yaxis": {
            "backgroundcolor": "#E5ECF6",
            "gridcolor": "white",
            "gridwidth": 2,
            "linecolor": "white",
            "showbackground": true,
            "ticks": "",
            "zerolinecolor": "white"
           },
           "zaxis": {
            "backgroundcolor": "#E5ECF6",
            "gridcolor": "white",
            "gridwidth": 2,
            "linecolor": "white",
            "showbackground": true,
            "ticks": "",
            "zerolinecolor": "white"
           }
          },
          "shapedefaults": {
           "line": {
            "color": "#2a3f5f"
           }
          },
          "ternary": {
           "aaxis": {
            "gridcolor": "white",
            "linecolor": "white",
            "ticks": ""
           },
           "baxis": {
            "gridcolor": "white",
            "linecolor": "white",
            "ticks": ""
           },
           "bgcolor": "#E5ECF6",
           "caxis": {
            "gridcolor": "white",
            "linecolor": "white",
            "ticks": ""
           }
          },
          "title": {
           "x": 0.05
          },
          "xaxis": {
           "automargin": true,
           "gridcolor": "white",
           "linecolor": "white",
           "ticks": "",
           "title": {
            "standoff": 15
           },
           "zerolinecolor": "white",
           "zerolinewidth": 2
          },
          "yaxis": {
           "automargin": true,
           "gridcolor": "white",
           "linecolor": "white",
           "ticks": "",
           "title": {
            "standoff": 15
           },
           "zerolinecolor": "white",
           "zerolinewidth": 2
          }
         }
        },
        "title": {
         "font": {
          "color": "#4D5663"
         }
        },
        "xaxis": {
         "gridcolor": "#E1E5ED",
         "showgrid": true,
         "tickfont": {
          "color": "#4D5663"
         },
         "title": {
          "font": {
           "color": "#4D5663"
          },
          "text": ""
         },
         "zerolinecolor": "#E1E5ED"
        },
        "xaxis2": {
         "anchor": "y2",
         "gridcolor": "#E1E5ED",
         "showgrid": true,
         "showticklabels": false,
         "tickfont": {
          "color": "#4D5663"
         },
         "title": {
          "font": {
           "color": "#4D5663"
          },
          "text": ""
         },
         "zerolinecolor": "#E1E5ED"
        },
        "yaxis": {
         "domain": [
          0.3,
          1
         ],
         "gridcolor": "#E1E5ED",
         "showgrid": true,
         "tickfont": {
          "color": "#4D5663"
         },
         "title": {
          "font": {
           "color": "#4D5663"
          },
          "text": ""
         },
         "zerolinecolor": "#E1E5ED"
        },
        "yaxis2": {
         "domain": [
          0,
          0.25
         ],
         "gridcolor": "#E1E5ED",
         "showgrid": true,
         "tickfont": {
          "color": "#4D5663"
         },
         "title": {
          "font": {
           "color": "#4D5663"
          },
          "text": "Spread"
         },
         "zerolinecolor": "#E1E5ED"
        }
       }
      },
      "text/html": [
       "<div>                            <div id=\"c6a51469-f246-45cb-8885-0033cb3cb7b6\" class=\"plotly-graph-div\" style=\"height:525px; width:100%;\"></div>            <script type=\"text/javascript\">                require([\"plotly\"], function(Plotly) {                    window.PLOTLYENV=window.PLOTLYENV || {};\n",
       "                    window.PLOTLYENV.BASE_URL='https://plot.ly';                                    if (document.getElementById(\"c6a51469-f246-45cb-8885-0033cb3cb7b6\")) {                    Plotly.newPlot(                        \"c6a51469-f246-45cb-8885-0033cb3cb7b6\",                        [{\"line\":{\"color\":\"rgba(255, 153, 51, 1.0)\",\"dash\":\"solid\",\"shape\":\"linear\",\"width\":1.3},\"mode\":\"lines\",\"name\":\"A\",\"text\":\"\",\"x\":[0,1,2,3,4,5,6,7,8,9,10,11,12,13,14,15,16,17,18,19,20,21,22,23,24,25,26,27,28,29,30,31,32,33,34,35,36,37,38,39,40,41,42,43,44,45,46,47,48,49,50,51,52,53,54,55,56,57,58,59,60,61,62,63,64,65,66,67,68,69,70,71,72,73,74,75,76,77,78,79,80,81,82,83,84,85,86,87,88,89,90,91,92,93,94,95,96,97,98,99],\"y\":[-0.9295482987691611,0.4996509360917784,-0.31178784381970565,-0.2591828995133058,-0.2403254599818755,0.30007424500314445,-1.9519399516746074,0.36101710108782775,1.1405599367929218,-1.0796063330029473,0.5190388920390553,1.5295361900831612,2.2008109795602016,0.8296048530293078,-0.21937304858767648,-0.9074792394033,-0.2871592266959784,-0.05545890921396091,-0.4966932594692695,-0.2128516157570282,1.124592371454574,0.6228995695801925,0.9256230617994263,-1.768887800317044,-0.2874149202115096,-0.7825545526319378,-2.64432200458736,0.7457461109123886,-1.1428281744977538,1.2210663863390592,-0.9131644958788138,0.13217834318366903,0.6381113620115724,1.4342735786591516,-0.5436898268763243,0.7137862193664714,0.5120364676493256,-2.0607142312389986,0.07250257019407771,-0.6579877485369979,-1.1492108033028867,-2.2536437617141516,1.0563020796557212,-1.0720178624058692,-1.1189016921464603,-0.29284164619717207,-0.20830520279926823,1.0822730128583236,1.0213249027809796,1.2876384897836826,1.8125915692022887,-0.3517345744446924,0.45361035245361936,-0.7548380530713608,0.4509916465215894,0.010825510343471153,1.1954626376691377,1.7044799601908844,-0.2512587274155817,-0.007463326957457436,1.5214107591436405,0.34186384567971756,-0.34838956178384545,-0.02149537492129532,-0.2557559357224352,1.8115002849071817,0.8989054113028747,-0.8478793667167331,-0.4388345973955879,0.5897765192462224,0.9169989960247112,-0.29584764364758287,0.40964963403229865,-0.2765551854394092,0.7309271904230744,-0.05169151931672703,-0.6487263477835327,-0.15937602857333696,-0.669650111705374,1.6529366895888808,0.2725091941094338,-0.84418871539521,-1.0214046898022509,-0.5985785583610419,0.9281497551503964,-1.4386926646965128,1.6413444776995776,-2.2123830364218984,0.7903787489224429,-1.0744732634516792,0.745393189760668,0.4996178124858752,-0.46560119110781123,0.15969763101542492,0.142503896532929,1.3709466265440287,0.9711336472637876,-0.38754055633141615,-1.1752089873333424,0.27340068072325535],\"type\":\"scatter\"},{\"line\":{\"color\":\"rgba(55, 128, 191, 1.0)\",\"dash\":\"solid\",\"shape\":\"linear\",\"width\":1.3},\"mode\":\"lines\",\"name\":\"B\",\"text\":\"\",\"x\":[0,1,2,3,4,5,6,7,8,9,10,11,12,13,14,15,16,17,18,19,20,21,22,23,24,25,26,27,28,29,30,31,32,33,34,35,36,37,38,39,40,41,42,43,44,45,46,47,48,49,50,51,52,53,54,55,56,57,58,59,60,61,62,63,64,65,66,67,68,69,70,71,72,73,74,75,76,77,78,79,80,81,82,83,84,85,86,87,88,89,90,91,92,93,94,95,96,97,98,99],\"y\":[0.10595209962862051,0.3368667122382836,-0.32861230975248373,-0.11664858440555267,-0.10862895251019854,0.14676101096132724,1.6550509248816598,0.3116991407512059,-1.5333273766171769,0.67351956523506,-0.23293658066056874,0.5298539546678004,1.2706339922049268,1.4485075051766172,0.6779059423904159,-0.7164141937146591,0.8245757552822287,2.4213154151349485,-0.6875266309878802,-0.19741347908494278,0.6573721821252815,0.2773927166267599,0.18443657890013604,0.20841105872778784,1.014443830916647,-0.6614530154293072,0.7795405780388421,1.1763647687901904,-1.426400518831791,-0.8862199762393453,-0.5432851756689908,0.5612441198207622,0.14759371236534652,-1.569694238419562,2.2741377167085077,-1.3286017158605619,-0.6547759337607292,0.5409293803814273,-1.7140672889540483,-0.838762524216867,2.052568027382253,1.2479484516423567,-0.5050471421968736,1.3906132917773977,0.9304278500231088,-0.5005788549389664,1.0139570932698092,1.4099756691177323,-0.7284825751458816,0.47323279459070394,-0.8126917762346638,0.6377954621777114,-0.3174047711249694,-1.7756135983404886,-0.2363797892406345,-0.7970716486495877,-0.3332925771997845,0.3137937224354294,-0.612749019434206,-0.07558111642014288,-0.9898859959734786,-0.45302566262413996,-0.542805561663329,-1.2844203082105614,-0.11354301196306125,-2.546874494300865,0.9872274735141424,-2.4060412325529983,0.7406303040060868,1.3494134213350881,-0.08353953585239972,-0.8649105520646212,0.5482770228978523,0.3018624903593867,-1.2696542402185156,-0.503774941664004,-0.4457561076351454,0.34242334816657516,-0.11692153010067262,-0.7692072862521319,-0.3210876224228783,-1.3428735501149156,0.08140321965759581,1.4726724276119887,-1.6872778504307941,0.7379616404172885,0.7541415956944442,0.6119192924558464,-0.6805248104558588,-0.011614579413123783,-0.9751368919345605,0.1766886661379514,-0.4773258381639982,-1.7259606922075275,-0.09290092035809304,-0.34934252493462165,-0.5455826577301464,1.223290635135926,-1.332442683803005,-0.4849294268598528],\"type\":\"scatter\"},{\"connectgaps\":false,\"fill\":\"tozeroy\",\"line\":{\"color\":\"green\",\"dash\":\"solid\",\"shape\":\"linear\",\"width\":0.5},\"mode\":\"lines\",\"name\":\"Spread\",\"showlegend\":false,\"x\":[0,1,2,3,4,5,6,7,8,9,10,11,12,13,14,15,16,17,18,19,20,21,22,23,24,25,26,27,28,29,30,31,32,33,34,35,36,37,38,39,40,41,42,43,44,45,46,47,48,49,50,51,52,53,54,55,56,57,58,59,60,61,62,63,64,65,66,67,68,69,70,71,72,73,74,75,76,77,78,79,80,81,82,83,84,85,86,87,88,89,90,91,92,93,94,95,96,97,98,99],\"xaxis\":\"x2\",\"y\":[\"\",0.16278422385349478,0.016824465932778088,\"\",\"\",0.1533132340418172,\"\",0.049317960336621836,2.6738873134100984,\"\",0.7519754726996241,0.9996822354153608,0.9301769873552748,\"\",\"\",\"\",\"\",\"\",0.19083337151861074,\"\",0.46722018932929255,0.34550685295343264,0.7411864828992902,\"\",\"\",\"\",\"\",\"\",0.2835723443340372,2.1072863625784044,\"\",\"\",0.49051764964622585,3.0039678170787134,\"\",2.0423879352270333,1.1668124014100547,\"\",1.786569859148126,0.1807747756798691,\"\",\"\",1.5613492218525948,\"\",\"\",0.2077372087417943,\"\",\"\",1.7498074779268613,0.8144056951929786,2.6252833454369524,\"\",0.7710151235785887,1.0207755452691278,0.6873714357622239,0.8078971589930588,1.5287552148689223,1.390686237755455,0.3614902920186243,0.06811778946268544,2.5112967551171193,0.7948895083038575,0.1944159998794836,1.262924933289266,\"\",4.358374779208047,\"\",1.558161865836265,\"\",\"\",1.000538531877111,0.5690629084170383,\"\",\"\",2.00058143064159,0.452083422347277,\"\",\"\",\"\",2.4221439758410126,0.5935968165323121,0.4986848347197056,\"\",\"\",2.6154276055811905,\"\",0.8872028820051334,\"\",1.4709035593783018,\"\",1.7205300816952285,0.3229291463479238,0.011724647056186976,1.8856583232229525,0.23540481689102205,1.7202891514786502,1.5167163049939338,\"\",0.15723369646966256,0.7583301075831081],\"yaxis\":\"y2\",\"type\":\"scatter\"},{\"connectgaps\":false,\"fill\":\"tozeroy\",\"line\":{\"color\":\"red\",\"dash\":\"solid\",\"shape\":\"linear\",\"width\":0.5},\"mode\":\"lines\",\"name\":\"Spread\",\"showlegend\":false,\"x\":[0,1,2,3,4,5,6,7,8,9,10,11,12,13,14,15,16,17,18,19,20,21,22,23,24,25,26,27,28,29,30,31,32,33,34,35,36,37,38,39,40,41,42,43,44,45,46,47,48,49,50,51,52,53,54,55,56,57,58,59,60,61,62,63,64,65,66,67,68,69,70,71,72,73,74,75,76,77,78,79,80,81,82,83,84,85,86,87,88,89,90,91,92,93,94,95,96,97,98,99],\"xaxis\":\"x2\",\"y\":[-1.0355003983977817,\"\",\"\",-0.14253431510775313,-0.13169650747167694,\"\",-3.6069908765562673,\"\",\"\",-1.7531258982380074,\"\",\"\",\"\",-0.6189026521473094,-0.8972789909780924,-0.1910650456886409,-1.111734981978207,-2.4767743243489093,\"\",-0.015438136672085434,\"\",\"\",\"\",-1.977298859044832,-1.3018587511281567,-0.12110153720263062,-3.423862582626202,-0.43061865787780174,\"\",\"\",-0.36987932020982295,-0.4290657766370931,\"\",\"\",-2.817827543584832,\"\",\"\",-2.601643611620426,\"\",\"\",-3.2017788306851394,-3.501592213356508,\"\",-2.462631154183267,-2.049329542169569,\"\",-1.2222622960690774,-0.32770265625940875,\"\",\"\",\"\",-0.9895300366224038,\"\",\"\",\"\",\"\",\"\",\"\",\"\",\"\",\"\",\"\",\"\",\"\",-0.14221292375937394,\"\",-0.0883220622112677,\"\",-1.1794649014016747,-0.7596369020888657,\"\",\"\",-0.13862738886555365,-0.578417675798796,\"\",\"\",-0.20297024014838727,-0.5017993767399122,-0.5527285816047014,\"\",\"\",\"\",-1.1028079094598466,-2.0712509859730304,\"\",-2.1766543051138014,\"\",-2.824302328877745,\"\",-1.0628586840385554,\"\",\"\",\"\",\"\",\"\",\"\",\"\",-1.610831191467342,\"\",\"\"],\"yaxis\":\"y2\",\"type\":\"scatter\"}],                        {\"hovermode\":\"x\",\"legend\":{\"bgcolor\":\"#F5F6F9\",\"font\":{\"color\":\"#4D5663\"}},\"paper_bgcolor\":\"#F5F6F9\",\"plot_bgcolor\":\"#F5F6F9\",\"template\":{\"data\":{\"barpolar\":[{\"marker\":{\"line\":{\"color\":\"#E5ECF6\",\"width\":0.5},\"pattern\":{\"fillmode\":\"overlay\",\"size\":10,\"solidity\":0.2}},\"type\":\"barpolar\"}],\"bar\":[{\"error_x\":{\"color\":\"#2a3f5f\"},\"error_y\":{\"color\":\"#2a3f5f\"},\"marker\":{\"line\":{\"color\":\"#E5ECF6\",\"width\":0.5},\"pattern\":{\"fillmode\":\"overlay\",\"size\":10,\"solidity\":0.2}},\"type\":\"bar\"}],\"carpet\":[{\"aaxis\":{\"endlinecolor\":\"#2a3f5f\",\"gridcolor\":\"white\",\"linecolor\":\"white\",\"minorgridcolor\":\"white\",\"startlinecolor\":\"#2a3f5f\"},\"baxis\":{\"endlinecolor\":\"#2a3f5f\",\"gridcolor\":\"white\",\"linecolor\":\"white\",\"minorgridcolor\":\"white\",\"startlinecolor\":\"#2a3f5f\"},\"type\":\"carpet\"}],\"choropleth\":[{\"colorbar\":{\"outlinewidth\":0,\"ticks\":\"\"},\"type\":\"choropleth\"}],\"contourcarpet\":[{\"colorbar\":{\"outlinewidth\":0,\"ticks\":\"\"},\"type\":\"contourcarpet\"}],\"contour\":[{\"colorbar\":{\"outlinewidth\":0,\"ticks\":\"\"},\"colorscale\":[[0.0,\"#0d0887\"],[0.1111111111111111,\"#46039f\"],[0.2222222222222222,\"#7201a8\"],[0.3333333333333333,\"#9c179e\"],[0.4444444444444444,\"#bd3786\"],[0.5555555555555556,\"#d8576b\"],[0.6666666666666666,\"#ed7953\"],[0.7777777777777778,\"#fb9f3a\"],[0.8888888888888888,\"#fdca26\"],[1.0,\"#f0f921\"]],\"type\":\"contour\"}],\"heatmapgl\":[{\"colorbar\":{\"outlinewidth\":0,\"ticks\":\"\"},\"colorscale\":[[0.0,\"#0d0887\"],[0.1111111111111111,\"#46039f\"],[0.2222222222222222,\"#7201a8\"],[0.3333333333333333,\"#9c179e\"],[0.4444444444444444,\"#bd3786\"],[0.5555555555555556,\"#d8576b\"],[0.6666666666666666,\"#ed7953\"],[0.7777777777777778,\"#fb9f3a\"],[0.8888888888888888,\"#fdca26\"],[1.0,\"#f0f921\"]],\"type\":\"heatmapgl\"}],\"heatmap\":[{\"colorbar\":{\"outlinewidth\":0,\"ticks\":\"\"},\"colorscale\":[[0.0,\"#0d0887\"],[0.1111111111111111,\"#46039f\"],[0.2222222222222222,\"#7201a8\"],[0.3333333333333333,\"#9c179e\"],[0.4444444444444444,\"#bd3786\"],[0.5555555555555556,\"#d8576b\"],[0.6666666666666666,\"#ed7953\"],[0.7777777777777778,\"#fb9f3a\"],[0.8888888888888888,\"#fdca26\"],[1.0,\"#f0f921\"]],\"type\":\"heatmap\"}],\"histogram2dcontour\":[{\"colorbar\":{\"outlinewidth\":0,\"ticks\":\"\"},\"colorscale\":[[0.0,\"#0d0887\"],[0.1111111111111111,\"#46039f\"],[0.2222222222222222,\"#7201a8\"],[0.3333333333333333,\"#9c179e\"],[0.4444444444444444,\"#bd3786\"],[0.5555555555555556,\"#d8576b\"],[0.6666666666666666,\"#ed7953\"],[0.7777777777777778,\"#fb9f3a\"],[0.8888888888888888,\"#fdca26\"],[1.0,\"#f0f921\"]],\"type\":\"histogram2dcontour\"}],\"histogram2d\":[{\"colorbar\":{\"outlinewidth\":0,\"ticks\":\"\"},\"colorscale\":[[0.0,\"#0d0887\"],[0.1111111111111111,\"#46039f\"],[0.2222222222222222,\"#7201a8\"],[0.3333333333333333,\"#9c179e\"],[0.4444444444444444,\"#bd3786\"],[0.5555555555555556,\"#d8576b\"],[0.6666666666666666,\"#ed7953\"],[0.7777777777777778,\"#fb9f3a\"],[0.8888888888888888,\"#fdca26\"],[1.0,\"#f0f921\"]],\"type\":\"histogram2d\"}],\"histogram\":[{\"marker\":{\"pattern\":{\"fillmode\":\"overlay\",\"size\":10,\"solidity\":0.2}},\"type\":\"histogram\"}],\"mesh3d\":[{\"colorbar\":{\"outlinewidth\":0,\"ticks\":\"\"},\"type\":\"mesh3d\"}],\"parcoords\":[{\"line\":{\"colorbar\":{\"outlinewidth\":0,\"ticks\":\"\"}},\"type\":\"parcoords\"}],\"pie\":[{\"automargin\":true,\"type\":\"pie\"}],\"scatter3d\":[{\"line\":{\"colorbar\":{\"outlinewidth\":0,\"ticks\":\"\"}},\"marker\":{\"colorbar\":{\"outlinewidth\":0,\"ticks\":\"\"}},\"type\":\"scatter3d\"}],\"scattercarpet\":[{\"marker\":{\"colorbar\":{\"outlinewidth\":0,\"ticks\":\"\"}},\"type\":\"scattercarpet\"}],\"scattergeo\":[{\"marker\":{\"colorbar\":{\"outlinewidth\":0,\"ticks\":\"\"}},\"type\":\"scattergeo\"}],\"scattergl\":[{\"marker\":{\"colorbar\":{\"outlinewidth\":0,\"ticks\":\"\"}},\"type\":\"scattergl\"}],\"scattermapbox\":[{\"marker\":{\"colorbar\":{\"outlinewidth\":0,\"ticks\":\"\"}},\"type\":\"scattermapbox\"}],\"scatterpolargl\":[{\"marker\":{\"colorbar\":{\"outlinewidth\":0,\"ticks\":\"\"}},\"type\":\"scatterpolargl\"}],\"scatterpolar\":[{\"marker\":{\"colorbar\":{\"outlinewidth\":0,\"ticks\":\"\"}},\"type\":\"scatterpolar\"}],\"scatter\":[{\"fillpattern\":{\"fillmode\":\"overlay\",\"size\":10,\"solidity\":0.2},\"type\":\"scatter\"}],\"scatterternary\":[{\"marker\":{\"colorbar\":{\"outlinewidth\":0,\"ticks\":\"\"}},\"type\":\"scatterternary\"}],\"surface\":[{\"colorbar\":{\"outlinewidth\":0,\"ticks\":\"\"},\"colorscale\":[[0.0,\"#0d0887\"],[0.1111111111111111,\"#46039f\"],[0.2222222222222222,\"#7201a8\"],[0.3333333333333333,\"#9c179e\"],[0.4444444444444444,\"#bd3786\"],[0.5555555555555556,\"#d8576b\"],[0.6666666666666666,\"#ed7953\"],[0.7777777777777778,\"#fb9f3a\"],[0.8888888888888888,\"#fdca26\"],[1.0,\"#f0f921\"]],\"type\":\"surface\"}],\"table\":[{\"cells\":{\"fill\":{\"color\":\"#EBF0F8\"},\"line\":{\"color\":\"white\"}},\"header\":{\"fill\":{\"color\":\"#C8D4E3\"},\"line\":{\"color\":\"white\"}},\"type\":\"table\"}]},\"layout\":{\"annotationdefaults\":{\"arrowcolor\":\"#2a3f5f\",\"arrowhead\":0,\"arrowwidth\":1},\"autotypenumbers\":\"strict\",\"coloraxis\":{\"colorbar\":{\"outlinewidth\":0,\"ticks\":\"\"}},\"colorscale\":{\"diverging\":[[0,\"#8e0152\"],[0.1,\"#c51b7d\"],[0.2,\"#de77ae\"],[0.3,\"#f1b6da\"],[0.4,\"#fde0ef\"],[0.5,\"#f7f7f7\"],[0.6,\"#e6f5d0\"],[0.7,\"#b8e186\"],[0.8,\"#7fbc41\"],[0.9,\"#4d9221\"],[1,\"#276419\"]],\"sequential\":[[0.0,\"#0d0887\"],[0.1111111111111111,\"#46039f\"],[0.2222222222222222,\"#7201a8\"],[0.3333333333333333,\"#9c179e\"],[0.4444444444444444,\"#bd3786\"],[0.5555555555555556,\"#d8576b\"],[0.6666666666666666,\"#ed7953\"],[0.7777777777777778,\"#fb9f3a\"],[0.8888888888888888,\"#fdca26\"],[1.0,\"#f0f921\"]],\"sequentialminus\":[[0.0,\"#0d0887\"],[0.1111111111111111,\"#46039f\"],[0.2222222222222222,\"#7201a8\"],[0.3333333333333333,\"#9c179e\"],[0.4444444444444444,\"#bd3786\"],[0.5555555555555556,\"#d8576b\"],[0.6666666666666666,\"#ed7953\"],[0.7777777777777778,\"#fb9f3a\"],[0.8888888888888888,\"#fdca26\"],[1.0,\"#f0f921\"]]},\"colorway\":[\"#636efa\",\"#EF553B\",\"#00cc96\",\"#ab63fa\",\"#FFA15A\",\"#19d3f3\",\"#FF6692\",\"#B6E880\",\"#FF97FF\",\"#FECB52\"],\"font\":{\"color\":\"#2a3f5f\"},\"geo\":{\"bgcolor\":\"white\",\"lakecolor\":\"white\",\"landcolor\":\"#E5ECF6\",\"showlakes\":true,\"showland\":true,\"subunitcolor\":\"white\"},\"hoverlabel\":{\"align\":\"left\"},\"hovermode\":\"closest\",\"mapbox\":{\"style\":\"light\"},\"paper_bgcolor\":\"white\",\"plot_bgcolor\":\"#E5ECF6\",\"polar\":{\"angularaxis\":{\"gridcolor\":\"white\",\"linecolor\":\"white\",\"ticks\":\"\"},\"bgcolor\":\"#E5ECF6\",\"radialaxis\":{\"gridcolor\":\"white\",\"linecolor\":\"white\",\"ticks\":\"\"}},\"scene\":{\"xaxis\":{\"backgroundcolor\":\"#E5ECF6\",\"gridcolor\":\"white\",\"gridwidth\":2,\"linecolor\":\"white\",\"showbackground\":true,\"ticks\":\"\",\"zerolinecolor\":\"white\"},\"yaxis\":{\"backgroundcolor\":\"#E5ECF6\",\"gridcolor\":\"white\",\"gridwidth\":2,\"linecolor\":\"white\",\"showbackground\":true,\"ticks\":\"\",\"zerolinecolor\":\"white\"},\"zaxis\":{\"backgroundcolor\":\"#E5ECF6\",\"gridcolor\":\"white\",\"gridwidth\":2,\"linecolor\":\"white\",\"showbackground\":true,\"ticks\":\"\",\"zerolinecolor\":\"white\"}},\"shapedefaults\":{\"line\":{\"color\":\"#2a3f5f\"}},\"ternary\":{\"aaxis\":{\"gridcolor\":\"white\",\"linecolor\":\"white\",\"ticks\":\"\"},\"baxis\":{\"gridcolor\":\"white\",\"linecolor\":\"white\",\"ticks\":\"\"},\"bgcolor\":\"#E5ECF6\",\"caxis\":{\"gridcolor\":\"white\",\"linecolor\":\"white\",\"ticks\":\"\"}},\"title\":{\"x\":0.05},\"xaxis\":{\"automargin\":true,\"gridcolor\":\"white\",\"linecolor\":\"white\",\"ticks\":\"\",\"title\":{\"standoff\":15},\"zerolinecolor\":\"white\",\"zerolinewidth\":2},\"yaxis\":{\"automargin\":true,\"gridcolor\":\"white\",\"linecolor\":\"white\",\"ticks\":\"\",\"title\":{\"standoff\":15},\"zerolinecolor\":\"white\",\"zerolinewidth\":2}}},\"title\":{\"font\":{\"color\":\"#4D5663\"}},\"xaxis\":{\"gridcolor\":\"#E1E5ED\",\"showgrid\":true,\"tickfont\":{\"color\":\"#4D5663\"},\"title\":{\"font\":{\"color\":\"#4D5663\"},\"text\":\"\"},\"zerolinecolor\":\"#E1E5ED\"},\"yaxis\":{\"domain\":[0.3,1],\"gridcolor\":\"#E1E5ED\",\"showgrid\":true,\"tickfont\":{\"color\":\"#4D5663\"},\"title\":{\"font\":{\"color\":\"#4D5663\"},\"text\":\"\"},\"zerolinecolor\":\"#E1E5ED\"},\"yaxis2\":{\"domain\":[0,0.25],\"gridcolor\":\"#E1E5ED\",\"showgrid\":true,\"tickfont\":{\"color\":\"#4D5663\"},\"title\":{\"font\":{\"color\":\"#4D5663\"},\"text\":\"Spread\"},\"zerolinecolor\":\"#E1E5ED\"},\"xaxis2\":{\"anchor\":\"y2\",\"gridcolor\":\"#E1E5ED\",\"showgrid\":true,\"showticklabels\":false,\"tickfont\":{\"color\":\"#4D5663\"},\"title\":{\"font\":{\"color\":\"#4D5663\"},\"text\":\"\"},\"zerolinecolor\":\"#E1E5ED\"}},                        {\"showLink\": true, \"linkText\": \"Export to plot.ly\", \"plotlyServerURL\": \"https://plot.ly\", \"responsive\": true}                    ).then(function(){\n",
       "                            \n",
       "var gd = document.getElementById('c6a51469-f246-45cb-8885-0033cb3cb7b6');\n",
       "var x = new MutationObserver(function (mutations, observer) {{\n",
       "        var display = window.getComputedStyle(gd).display;\n",
       "        if (!display || display === 'none') {{\n",
       "            console.log([gd, 'removed!']);\n",
       "            Plotly.purge(gd);\n",
       "            observer.disconnect();\n",
       "        }}\n",
       "}});\n",
       "\n",
       "// Listen for the removal of the full notebook cells\n",
       "var notebookContainer = gd.closest('#notebook-container');\n",
       "if (notebookContainer) {{\n",
       "    x.observe(notebookContainer, {childList: true});\n",
       "}}\n",
       "\n",
       "// Listen for the clearing of the current output cell\n",
       "var outputEl = gd.closest('.output');\n",
       "if (outputEl) {{\n",
       "    x.observe(outputEl, {childList: true});\n",
       "}}\n",
       "\n",
       "                        })                };                });            </script>        </div>"
      ]
     },
     "metadata": {},
     "output_type": "display_data"
    }
   ],
   "source": [
    "df[[\"A\",\"B\"]].iplot(kind = \"spread\")"
   ]
  },
  {
   "cell_type": "code",
   "execution_count": 30,
   "id": "87735d53",
   "metadata": {},
   "outputs": [
    {
     "data": {
      "application/vnd.plotly.v1+json": {
       "config": {
        "linkText": "Export to plot.ly",
        "plotlyServerURL": "https://plot.ly",
        "showLink": true
       },
       "data": [
        {
         "marker": {
          "color": [
           "rgb(255, 153, 51)",
           "rgb(55, 128, 191)",
           "rgb(50, 171, 96)",
           "rgb(128, 0, 128)",
           "rgb(219, 64, 82)",
           "rgb(0, 128, 128)",
           "rgb(255, 255, 51)",
           "rgb(128, 128, 0)",
           "rgb(251, 128, 114)",
           "rgb(128, 177, 211)"
          ],
          "line": {
           "width": 1.3
          },
          "size": [
           52,
           66,
           71,
           45,
           65,
           64,
           54,
           44,
           80,
           63,
           50,
           66,
           87,
           57,
           67,
           55,
           65,
           71,
           76,
           42,
           29,
           75,
           74,
           56,
           67,
           39,
           42,
           51,
           54,
           12,
           59,
           60,
           82,
           59,
           55,
           69,
           57,
           35,
           93,
           32,
           36,
           83,
           69,
           66,
           50,
           58,
           49,
           51,
           51,
           25,
           76,
           36,
           22,
           38,
           66,
           79,
           82,
           74,
           59,
           94,
           56,
           45,
           58,
           54,
           84,
           78,
           45,
           112,
           38,
           70,
           79,
           35,
           54,
           67,
           38,
           59,
           51,
           65,
           45,
           96,
           52,
           59,
           57,
           26,
           60,
           75,
           55,
           64,
           34,
           46,
           23,
           55,
           84,
           82,
           53,
           47,
           110,
           45,
           82,
           65
          ],
          "symbol": "circle"
         },
         "mode": "markers",
         "text": "",
         "type": "scatter",
         "x": [
          -0.9295482987691611,
          0.4996509360917784,
          -0.31178784381970565,
          -0.2591828995133058,
          -0.2403254599818755,
          0.30007424500314445,
          -1.9519399516746074,
          0.36101710108782775,
          1.1405599367929218,
          -1.0796063330029473,
          0.5190388920390553,
          1.5295361900831612,
          2.2008109795602016,
          0.8296048530293078,
          -0.21937304858767648,
          -0.9074792394033,
          -0.2871592266959784,
          -0.05545890921396091,
          -0.4966932594692695,
          -0.2128516157570282,
          1.124592371454574,
          0.6228995695801925,
          0.9256230617994263,
          -1.768887800317044,
          -0.2874149202115096,
          -0.7825545526319378,
          -2.64432200458736,
          0.7457461109123886,
          -1.1428281744977538,
          1.2210663863390592,
          -0.9131644958788138,
          0.13217834318366903,
          0.6381113620115724,
          1.4342735786591516,
          -0.5436898268763243,
          0.7137862193664714,
          0.5120364676493256,
          -2.0607142312389986,
          0.07250257019407771,
          -0.6579877485369979,
          -1.1492108033028867,
          -2.2536437617141516,
          1.0563020796557212,
          -1.0720178624058692,
          -1.1189016921464603,
          -0.29284164619717207,
          -0.20830520279926823,
          1.0822730128583236,
          1.0213249027809796,
          1.2876384897836826,
          1.8125915692022887,
          -0.3517345744446924,
          0.45361035245361936,
          -0.7548380530713608,
          0.4509916465215894,
          0.010825510343471153,
          1.1954626376691377,
          1.7044799601908844,
          -0.2512587274155817,
          -0.007463326957457436,
          1.5214107591436405,
          0.34186384567971756,
          -0.34838956178384545,
          -0.02149537492129532,
          -0.2557559357224352,
          1.8115002849071817,
          0.8989054113028747,
          -0.8478793667167331,
          -0.4388345973955879,
          0.5897765192462224,
          0.9169989960247112,
          -0.29584764364758287,
          0.40964963403229865,
          -0.2765551854394092,
          0.7309271904230744,
          -0.05169151931672703,
          -0.6487263477835327,
          -0.15937602857333696,
          -0.669650111705374,
          1.6529366895888808,
          0.2725091941094338,
          -0.84418871539521,
          -1.0214046898022509,
          -0.5985785583610419,
          0.9281497551503964,
          -1.4386926646965128,
          1.6413444776995776,
          -2.2123830364218984,
          0.7903787489224429,
          -1.0744732634516792,
          0.745393189760668,
          0.4996178124858752,
          -0.46560119110781123,
          0.15969763101542492,
          0.142503896532929,
          1.3709466265440287,
          0.9711336472637876,
          -0.38754055633141615,
          -1.1752089873333424,
          0.27340068072325535
         ],
         "y": [
          0.10595209962862051,
          0.3368667122382836,
          -0.32861230975248373,
          -0.11664858440555267,
          -0.10862895251019854,
          0.14676101096132724,
          1.6550509248816598,
          0.3116991407512059,
          -1.5333273766171769,
          0.67351956523506,
          -0.23293658066056874,
          0.5298539546678004,
          1.2706339922049268,
          1.4485075051766172,
          0.6779059423904159,
          -0.7164141937146591,
          0.8245757552822287,
          2.4213154151349485,
          -0.6875266309878802,
          -0.19741347908494278,
          0.6573721821252815,
          0.2773927166267599,
          0.18443657890013604,
          0.20841105872778784,
          1.014443830916647,
          -0.6614530154293072,
          0.7795405780388421,
          1.1763647687901904,
          -1.426400518831791,
          -0.8862199762393453,
          -0.5432851756689908,
          0.5612441198207622,
          0.14759371236534652,
          -1.569694238419562,
          2.2741377167085077,
          -1.3286017158605619,
          -0.6547759337607292,
          0.5409293803814273,
          -1.7140672889540483,
          -0.838762524216867,
          2.052568027382253,
          1.2479484516423567,
          -0.5050471421968736,
          1.3906132917773977,
          0.9304278500231088,
          -0.5005788549389664,
          1.0139570932698092,
          1.4099756691177323,
          -0.7284825751458816,
          0.47323279459070394,
          -0.8126917762346638,
          0.6377954621777114,
          -0.3174047711249694,
          -1.7756135983404886,
          -0.2363797892406345,
          -0.7970716486495877,
          -0.3332925771997845,
          0.3137937224354294,
          -0.612749019434206,
          -0.07558111642014288,
          -0.9898859959734786,
          -0.45302566262413996,
          -0.542805561663329,
          -1.2844203082105614,
          -0.11354301196306125,
          -2.546874494300865,
          0.9872274735141424,
          -2.4060412325529983,
          0.7406303040060868,
          1.3494134213350881,
          -0.08353953585239972,
          -0.8649105520646212,
          0.5482770228978523,
          0.3018624903593867,
          -1.2696542402185156,
          -0.503774941664004,
          -0.4457561076351454,
          0.34242334816657516,
          -0.11692153010067262,
          -0.7692072862521319,
          -0.3210876224228783,
          -1.3428735501149156,
          0.08140321965759581,
          1.4726724276119887,
          -1.6872778504307941,
          0.7379616404172885,
          0.7541415956944442,
          0.6119192924558464,
          -0.6805248104558588,
          -0.011614579413123783,
          -0.9751368919345605,
          0.1766886661379514,
          -0.4773258381639982,
          -1.7259606922075275,
          -0.09290092035809304,
          -0.34934252493462165,
          -0.5455826577301464,
          1.223290635135926,
          -1.332442683803005,
          -0.4849294268598528
         ]
        }
       ],
       "layout": {
        "legend": {
         "bgcolor": "#F5F6F9",
         "font": {
          "color": "#4D5663"
         }
        },
        "paper_bgcolor": "#F5F6F9",
        "plot_bgcolor": "#F5F6F9",
        "template": {
         "data": {
          "bar": [
           {
            "error_x": {
             "color": "#2a3f5f"
            },
            "error_y": {
             "color": "#2a3f5f"
            },
            "marker": {
             "line": {
              "color": "#E5ECF6",
              "width": 0.5
             },
             "pattern": {
              "fillmode": "overlay",
              "size": 10,
              "solidity": 0.2
             }
            },
            "type": "bar"
           }
          ],
          "barpolar": [
           {
            "marker": {
             "line": {
              "color": "#E5ECF6",
              "width": 0.5
             },
             "pattern": {
              "fillmode": "overlay",
              "size": 10,
              "solidity": 0.2
             }
            },
            "type": "barpolar"
           }
          ],
          "carpet": [
           {
            "aaxis": {
             "endlinecolor": "#2a3f5f",
             "gridcolor": "white",
             "linecolor": "white",
             "minorgridcolor": "white",
             "startlinecolor": "#2a3f5f"
            },
            "baxis": {
             "endlinecolor": "#2a3f5f",
             "gridcolor": "white",
             "linecolor": "white",
             "minorgridcolor": "white",
             "startlinecolor": "#2a3f5f"
            },
            "type": "carpet"
           }
          ],
          "choropleth": [
           {
            "colorbar": {
             "outlinewidth": 0,
             "ticks": ""
            },
            "type": "choropleth"
           }
          ],
          "contour": [
           {
            "colorbar": {
             "outlinewidth": 0,
             "ticks": ""
            },
            "colorscale": [
             [
              0,
              "#0d0887"
             ],
             [
              0.1111111111111111,
              "#46039f"
             ],
             [
              0.2222222222222222,
              "#7201a8"
             ],
             [
              0.3333333333333333,
              "#9c179e"
             ],
             [
              0.4444444444444444,
              "#bd3786"
             ],
             [
              0.5555555555555556,
              "#d8576b"
             ],
             [
              0.6666666666666666,
              "#ed7953"
             ],
             [
              0.7777777777777778,
              "#fb9f3a"
             ],
             [
              0.8888888888888888,
              "#fdca26"
             ],
             [
              1,
              "#f0f921"
             ]
            ],
            "type": "contour"
           }
          ],
          "contourcarpet": [
           {
            "colorbar": {
             "outlinewidth": 0,
             "ticks": ""
            },
            "type": "contourcarpet"
           }
          ],
          "heatmap": [
           {
            "colorbar": {
             "outlinewidth": 0,
             "ticks": ""
            },
            "colorscale": [
             [
              0,
              "#0d0887"
             ],
             [
              0.1111111111111111,
              "#46039f"
             ],
             [
              0.2222222222222222,
              "#7201a8"
             ],
             [
              0.3333333333333333,
              "#9c179e"
             ],
             [
              0.4444444444444444,
              "#bd3786"
             ],
             [
              0.5555555555555556,
              "#d8576b"
             ],
             [
              0.6666666666666666,
              "#ed7953"
             ],
             [
              0.7777777777777778,
              "#fb9f3a"
             ],
             [
              0.8888888888888888,
              "#fdca26"
             ],
             [
              1,
              "#f0f921"
             ]
            ],
            "type": "heatmap"
           }
          ],
          "heatmapgl": [
           {
            "colorbar": {
             "outlinewidth": 0,
             "ticks": ""
            },
            "colorscale": [
             [
              0,
              "#0d0887"
             ],
             [
              0.1111111111111111,
              "#46039f"
             ],
             [
              0.2222222222222222,
              "#7201a8"
             ],
             [
              0.3333333333333333,
              "#9c179e"
             ],
             [
              0.4444444444444444,
              "#bd3786"
             ],
             [
              0.5555555555555556,
              "#d8576b"
             ],
             [
              0.6666666666666666,
              "#ed7953"
             ],
             [
              0.7777777777777778,
              "#fb9f3a"
             ],
             [
              0.8888888888888888,
              "#fdca26"
             ],
             [
              1,
              "#f0f921"
             ]
            ],
            "type": "heatmapgl"
           }
          ],
          "histogram": [
           {
            "marker": {
             "pattern": {
              "fillmode": "overlay",
              "size": 10,
              "solidity": 0.2
             }
            },
            "type": "histogram"
           }
          ],
          "histogram2d": [
           {
            "colorbar": {
             "outlinewidth": 0,
             "ticks": ""
            },
            "colorscale": [
             [
              0,
              "#0d0887"
             ],
             [
              0.1111111111111111,
              "#46039f"
             ],
             [
              0.2222222222222222,
              "#7201a8"
             ],
             [
              0.3333333333333333,
              "#9c179e"
             ],
             [
              0.4444444444444444,
              "#bd3786"
             ],
             [
              0.5555555555555556,
              "#d8576b"
             ],
             [
              0.6666666666666666,
              "#ed7953"
             ],
             [
              0.7777777777777778,
              "#fb9f3a"
             ],
             [
              0.8888888888888888,
              "#fdca26"
             ],
             [
              1,
              "#f0f921"
             ]
            ],
            "type": "histogram2d"
           }
          ],
          "histogram2dcontour": [
           {
            "colorbar": {
             "outlinewidth": 0,
             "ticks": ""
            },
            "colorscale": [
             [
              0,
              "#0d0887"
             ],
             [
              0.1111111111111111,
              "#46039f"
             ],
             [
              0.2222222222222222,
              "#7201a8"
             ],
             [
              0.3333333333333333,
              "#9c179e"
             ],
             [
              0.4444444444444444,
              "#bd3786"
             ],
             [
              0.5555555555555556,
              "#d8576b"
             ],
             [
              0.6666666666666666,
              "#ed7953"
             ],
             [
              0.7777777777777778,
              "#fb9f3a"
             ],
             [
              0.8888888888888888,
              "#fdca26"
             ],
             [
              1,
              "#f0f921"
             ]
            ],
            "type": "histogram2dcontour"
           }
          ],
          "mesh3d": [
           {
            "colorbar": {
             "outlinewidth": 0,
             "ticks": ""
            },
            "type": "mesh3d"
           }
          ],
          "parcoords": [
           {
            "line": {
             "colorbar": {
              "outlinewidth": 0,
              "ticks": ""
             }
            },
            "type": "parcoords"
           }
          ],
          "pie": [
           {
            "automargin": true,
            "type": "pie"
           }
          ],
          "scatter": [
           {
            "fillpattern": {
             "fillmode": "overlay",
             "size": 10,
             "solidity": 0.2
            },
            "type": "scatter"
           }
          ],
          "scatter3d": [
           {
            "line": {
             "colorbar": {
              "outlinewidth": 0,
              "ticks": ""
             }
            },
            "marker": {
             "colorbar": {
              "outlinewidth": 0,
              "ticks": ""
             }
            },
            "type": "scatter3d"
           }
          ],
          "scattercarpet": [
           {
            "marker": {
             "colorbar": {
              "outlinewidth": 0,
              "ticks": ""
             }
            },
            "type": "scattercarpet"
           }
          ],
          "scattergeo": [
           {
            "marker": {
             "colorbar": {
              "outlinewidth": 0,
              "ticks": ""
             }
            },
            "type": "scattergeo"
           }
          ],
          "scattergl": [
           {
            "marker": {
             "colorbar": {
              "outlinewidth": 0,
              "ticks": ""
             }
            },
            "type": "scattergl"
           }
          ],
          "scattermapbox": [
           {
            "marker": {
             "colorbar": {
              "outlinewidth": 0,
              "ticks": ""
             }
            },
            "type": "scattermapbox"
           }
          ],
          "scatterpolar": [
           {
            "marker": {
             "colorbar": {
              "outlinewidth": 0,
              "ticks": ""
             }
            },
            "type": "scatterpolar"
           }
          ],
          "scatterpolargl": [
           {
            "marker": {
             "colorbar": {
              "outlinewidth": 0,
              "ticks": ""
             }
            },
            "type": "scatterpolargl"
           }
          ],
          "scatterternary": [
           {
            "marker": {
             "colorbar": {
              "outlinewidth": 0,
              "ticks": ""
             }
            },
            "type": "scatterternary"
           }
          ],
          "surface": [
           {
            "colorbar": {
             "outlinewidth": 0,
             "ticks": ""
            },
            "colorscale": [
             [
              0,
              "#0d0887"
             ],
             [
              0.1111111111111111,
              "#46039f"
             ],
             [
              0.2222222222222222,
              "#7201a8"
             ],
             [
              0.3333333333333333,
              "#9c179e"
             ],
             [
              0.4444444444444444,
              "#bd3786"
             ],
             [
              0.5555555555555556,
              "#d8576b"
             ],
             [
              0.6666666666666666,
              "#ed7953"
             ],
             [
              0.7777777777777778,
              "#fb9f3a"
             ],
             [
              0.8888888888888888,
              "#fdca26"
             ],
             [
              1,
              "#f0f921"
             ]
            ],
            "type": "surface"
           }
          ],
          "table": [
           {
            "cells": {
             "fill": {
              "color": "#EBF0F8"
             },
             "line": {
              "color": "white"
             }
            },
            "header": {
             "fill": {
              "color": "#C8D4E3"
             },
             "line": {
              "color": "white"
             }
            },
            "type": "table"
           }
          ]
         },
         "layout": {
          "annotationdefaults": {
           "arrowcolor": "#2a3f5f",
           "arrowhead": 0,
           "arrowwidth": 1
          },
          "autotypenumbers": "strict",
          "coloraxis": {
           "colorbar": {
            "outlinewidth": 0,
            "ticks": ""
           }
          },
          "colorscale": {
           "diverging": [
            [
             0,
             "#8e0152"
            ],
            [
             0.1,
             "#c51b7d"
            ],
            [
             0.2,
             "#de77ae"
            ],
            [
             0.3,
             "#f1b6da"
            ],
            [
             0.4,
             "#fde0ef"
            ],
            [
             0.5,
             "#f7f7f7"
            ],
            [
             0.6,
             "#e6f5d0"
            ],
            [
             0.7,
             "#b8e186"
            ],
            [
             0.8,
             "#7fbc41"
            ],
            [
             0.9,
             "#4d9221"
            ],
            [
             1,
             "#276419"
            ]
           ],
           "sequential": [
            [
             0,
             "#0d0887"
            ],
            [
             0.1111111111111111,
             "#46039f"
            ],
            [
             0.2222222222222222,
             "#7201a8"
            ],
            [
             0.3333333333333333,
             "#9c179e"
            ],
            [
             0.4444444444444444,
             "#bd3786"
            ],
            [
             0.5555555555555556,
             "#d8576b"
            ],
            [
             0.6666666666666666,
             "#ed7953"
            ],
            [
             0.7777777777777778,
             "#fb9f3a"
            ],
            [
             0.8888888888888888,
             "#fdca26"
            ],
            [
             1,
             "#f0f921"
            ]
           ],
           "sequentialminus": [
            [
             0,
             "#0d0887"
            ],
            [
             0.1111111111111111,
             "#46039f"
            ],
            [
             0.2222222222222222,
             "#7201a8"
            ],
            [
             0.3333333333333333,
             "#9c179e"
            ],
            [
             0.4444444444444444,
             "#bd3786"
            ],
            [
             0.5555555555555556,
             "#d8576b"
            ],
            [
             0.6666666666666666,
             "#ed7953"
            ],
            [
             0.7777777777777778,
             "#fb9f3a"
            ],
            [
             0.8888888888888888,
             "#fdca26"
            ],
            [
             1,
             "#f0f921"
            ]
           ]
          },
          "colorway": [
           "#636efa",
           "#EF553B",
           "#00cc96",
           "#ab63fa",
           "#FFA15A",
           "#19d3f3",
           "#FF6692",
           "#B6E880",
           "#FF97FF",
           "#FECB52"
          ],
          "font": {
           "color": "#2a3f5f"
          },
          "geo": {
           "bgcolor": "white",
           "lakecolor": "white",
           "landcolor": "#E5ECF6",
           "showlakes": true,
           "showland": true,
           "subunitcolor": "white"
          },
          "hoverlabel": {
           "align": "left"
          },
          "hovermode": "closest",
          "mapbox": {
           "style": "light"
          },
          "paper_bgcolor": "white",
          "plot_bgcolor": "#E5ECF6",
          "polar": {
           "angularaxis": {
            "gridcolor": "white",
            "linecolor": "white",
            "ticks": ""
           },
           "bgcolor": "#E5ECF6",
           "radialaxis": {
            "gridcolor": "white",
            "linecolor": "white",
            "ticks": ""
           }
          },
          "scene": {
           "xaxis": {
            "backgroundcolor": "#E5ECF6",
            "gridcolor": "white",
            "gridwidth": 2,
            "linecolor": "white",
            "showbackground": true,
            "ticks": "",
            "zerolinecolor": "white"
           },
           "yaxis": {
            "backgroundcolor": "#E5ECF6",
            "gridcolor": "white",
            "gridwidth": 2,
            "linecolor": "white",
            "showbackground": true,
            "ticks": "",
            "zerolinecolor": "white"
           },
           "zaxis": {
            "backgroundcolor": "#E5ECF6",
            "gridcolor": "white",
            "gridwidth": 2,
            "linecolor": "white",
            "showbackground": true,
            "ticks": "",
            "zerolinecolor": "white"
           }
          },
          "shapedefaults": {
           "line": {
            "color": "#2a3f5f"
           }
          },
          "ternary": {
           "aaxis": {
            "gridcolor": "white",
            "linecolor": "white",
            "ticks": ""
           },
           "baxis": {
            "gridcolor": "white",
            "linecolor": "white",
            "ticks": ""
           },
           "bgcolor": "#E5ECF6",
           "caxis": {
            "gridcolor": "white",
            "linecolor": "white",
            "ticks": ""
           }
          },
          "title": {
           "x": 0.05
          },
          "xaxis": {
           "automargin": true,
           "gridcolor": "white",
           "linecolor": "white",
           "ticks": "",
           "title": {
            "standoff": 15
           },
           "zerolinecolor": "white",
           "zerolinewidth": 2
          },
          "yaxis": {
           "automargin": true,
           "gridcolor": "white",
           "linecolor": "white",
           "ticks": "",
           "title": {
            "standoff": 15
           },
           "zerolinecolor": "white",
           "zerolinewidth": 2
          }
         }
        },
        "title": {
         "font": {
          "color": "#4D5663"
         }
        },
        "xaxis": {
         "gridcolor": "#E1E5ED",
         "showgrid": true,
         "tickfont": {
          "color": "#4D5663"
         },
         "title": {
          "font": {
           "color": "#4D5663"
          },
          "text": ""
         },
         "zerolinecolor": "#E1E5ED"
        },
        "yaxis": {
         "gridcolor": "#E1E5ED",
         "showgrid": true,
         "tickfont": {
          "color": "#4D5663"
         },
         "title": {
          "font": {
           "color": "#4D5663"
          },
          "text": ""
         },
         "zerolinecolor": "#E1E5ED"
        }
       }
      },
      "text/html": [
       "<div>                            <div id=\"2494c6fe-a1f9-4abf-b29c-8b72c3d63597\" class=\"plotly-graph-div\" style=\"height:525px; width:100%;\"></div>            <script type=\"text/javascript\">                require([\"plotly\"], function(Plotly) {                    window.PLOTLYENV=window.PLOTLYENV || {};\n",
       "                    window.PLOTLYENV.BASE_URL='https://plot.ly';                                    if (document.getElementById(\"2494c6fe-a1f9-4abf-b29c-8b72c3d63597\")) {                    Plotly.newPlot(                        \"2494c6fe-a1f9-4abf-b29c-8b72c3d63597\",                        [{\"marker\":{\"color\":[\"rgb(255, 153, 51)\",\"rgb(55, 128, 191)\",\"rgb(50, 171, 96)\",\"rgb(128, 0, 128)\",\"rgb(219, 64, 82)\",\"rgb(0, 128, 128)\",\"rgb(255, 255, 51)\",\"rgb(128, 128, 0)\",\"rgb(251, 128, 114)\",\"rgb(128, 177, 211)\"],\"line\":{\"width\":1.3},\"size\":[52,66,71,45,65,64,54,44,80,63,50,66,87,57,67,55,65,71,76,42,29,75,74,56,67,39,42,51,54,12,59,60,82,59,55,69,57,35,93,32,36,83,69,66,50,58,49,51,51,25,76,36,22,38,66,79,82,74,59,94,56,45,58,54,84,78,45,112,38,70,79,35,54,67,38,59,51,65,45,96,52,59,57,26,60,75,55,64,34,46,23,55,84,82,53,47,110,45,82,65],\"symbol\":\"circle\"},\"mode\":\"markers\",\"text\":\"\",\"x\":[-0.9295482987691611,0.4996509360917784,-0.31178784381970565,-0.2591828995133058,-0.2403254599818755,0.30007424500314445,-1.9519399516746074,0.36101710108782775,1.1405599367929218,-1.0796063330029473,0.5190388920390553,1.5295361900831612,2.2008109795602016,0.8296048530293078,-0.21937304858767648,-0.9074792394033,-0.2871592266959784,-0.05545890921396091,-0.4966932594692695,-0.2128516157570282,1.124592371454574,0.6228995695801925,0.9256230617994263,-1.768887800317044,-0.2874149202115096,-0.7825545526319378,-2.64432200458736,0.7457461109123886,-1.1428281744977538,1.2210663863390592,-0.9131644958788138,0.13217834318366903,0.6381113620115724,1.4342735786591516,-0.5436898268763243,0.7137862193664714,0.5120364676493256,-2.0607142312389986,0.07250257019407771,-0.6579877485369979,-1.1492108033028867,-2.2536437617141516,1.0563020796557212,-1.0720178624058692,-1.1189016921464603,-0.29284164619717207,-0.20830520279926823,1.0822730128583236,1.0213249027809796,1.2876384897836826,1.8125915692022887,-0.3517345744446924,0.45361035245361936,-0.7548380530713608,0.4509916465215894,0.010825510343471153,1.1954626376691377,1.7044799601908844,-0.2512587274155817,-0.007463326957457436,1.5214107591436405,0.34186384567971756,-0.34838956178384545,-0.02149537492129532,-0.2557559357224352,1.8115002849071817,0.8989054113028747,-0.8478793667167331,-0.4388345973955879,0.5897765192462224,0.9169989960247112,-0.29584764364758287,0.40964963403229865,-0.2765551854394092,0.7309271904230744,-0.05169151931672703,-0.6487263477835327,-0.15937602857333696,-0.669650111705374,1.6529366895888808,0.2725091941094338,-0.84418871539521,-1.0214046898022509,-0.5985785583610419,0.9281497551503964,-1.4386926646965128,1.6413444776995776,-2.2123830364218984,0.7903787489224429,-1.0744732634516792,0.745393189760668,0.4996178124858752,-0.46560119110781123,0.15969763101542492,0.142503896532929,1.3709466265440287,0.9711336472637876,-0.38754055633141615,-1.1752089873333424,0.27340068072325535],\"y\":[0.10595209962862051,0.3368667122382836,-0.32861230975248373,-0.11664858440555267,-0.10862895251019854,0.14676101096132724,1.6550509248816598,0.3116991407512059,-1.5333273766171769,0.67351956523506,-0.23293658066056874,0.5298539546678004,1.2706339922049268,1.4485075051766172,0.6779059423904159,-0.7164141937146591,0.8245757552822287,2.4213154151349485,-0.6875266309878802,-0.19741347908494278,0.6573721821252815,0.2773927166267599,0.18443657890013604,0.20841105872778784,1.014443830916647,-0.6614530154293072,0.7795405780388421,1.1763647687901904,-1.426400518831791,-0.8862199762393453,-0.5432851756689908,0.5612441198207622,0.14759371236534652,-1.569694238419562,2.2741377167085077,-1.3286017158605619,-0.6547759337607292,0.5409293803814273,-1.7140672889540483,-0.838762524216867,2.052568027382253,1.2479484516423567,-0.5050471421968736,1.3906132917773977,0.9304278500231088,-0.5005788549389664,1.0139570932698092,1.4099756691177323,-0.7284825751458816,0.47323279459070394,-0.8126917762346638,0.6377954621777114,-0.3174047711249694,-1.7756135983404886,-0.2363797892406345,-0.7970716486495877,-0.3332925771997845,0.3137937224354294,-0.612749019434206,-0.07558111642014288,-0.9898859959734786,-0.45302566262413996,-0.542805561663329,-1.2844203082105614,-0.11354301196306125,-2.546874494300865,0.9872274735141424,-2.4060412325529983,0.7406303040060868,1.3494134213350881,-0.08353953585239972,-0.8649105520646212,0.5482770228978523,0.3018624903593867,-1.2696542402185156,-0.503774941664004,-0.4457561076351454,0.34242334816657516,-0.11692153010067262,-0.7692072862521319,-0.3210876224228783,-1.3428735501149156,0.08140321965759581,1.4726724276119887,-1.6872778504307941,0.7379616404172885,0.7541415956944442,0.6119192924558464,-0.6805248104558588,-0.011614579413123783,-0.9751368919345605,0.1766886661379514,-0.4773258381639982,-1.7259606922075275,-0.09290092035809304,-0.34934252493462165,-0.5455826577301464,1.223290635135926,-1.332442683803005,-0.4849294268598528],\"type\":\"scatter\"}],                        {\"legend\":{\"bgcolor\":\"#F5F6F9\",\"font\":{\"color\":\"#4D5663\"}},\"paper_bgcolor\":\"#F5F6F9\",\"plot_bgcolor\":\"#F5F6F9\",\"template\":{\"data\":{\"barpolar\":[{\"marker\":{\"line\":{\"color\":\"#E5ECF6\",\"width\":0.5},\"pattern\":{\"fillmode\":\"overlay\",\"size\":10,\"solidity\":0.2}},\"type\":\"barpolar\"}],\"bar\":[{\"error_x\":{\"color\":\"#2a3f5f\"},\"error_y\":{\"color\":\"#2a3f5f\"},\"marker\":{\"line\":{\"color\":\"#E5ECF6\",\"width\":0.5},\"pattern\":{\"fillmode\":\"overlay\",\"size\":10,\"solidity\":0.2}},\"type\":\"bar\"}],\"carpet\":[{\"aaxis\":{\"endlinecolor\":\"#2a3f5f\",\"gridcolor\":\"white\",\"linecolor\":\"white\",\"minorgridcolor\":\"white\",\"startlinecolor\":\"#2a3f5f\"},\"baxis\":{\"endlinecolor\":\"#2a3f5f\",\"gridcolor\":\"white\",\"linecolor\":\"white\",\"minorgridcolor\":\"white\",\"startlinecolor\":\"#2a3f5f\"},\"type\":\"carpet\"}],\"choropleth\":[{\"colorbar\":{\"outlinewidth\":0,\"ticks\":\"\"},\"type\":\"choropleth\"}],\"contourcarpet\":[{\"colorbar\":{\"outlinewidth\":0,\"ticks\":\"\"},\"type\":\"contourcarpet\"}],\"contour\":[{\"colorbar\":{\"outlinewidth\":0,\"ticks\":\"\"},\"colorscale\":[[0.0,\"#0d0887\"],[0.1111111111111111,\"#46039f\"],[0.2222222222222222,\"#7201a8\"],[0.3333333333333333,\"#9c179e\"],[0.4444444444444444,\"#bd3786\"],[0.5555555555555556,\"#d8576b\"],[0.6666666666666666,\"#ed7953\"],[0.7777777777777778,\"#fb9f3a\"],[0.8888888888888888,\"#fdca26\"],[1.0,\"#f0f921\"]],\"type\":\"contour\"}],\"heatmapgl\":[{\"colorbar\":{\"outlinewidth\":0,\"ticks\":\"\"},\"colorscale\":[[0.0,\"#0d0887\"],[0.1111111111111111,\"#46039f\"],[0.2222222222222222,\"#7201a8\"],[0.3333333333333333,\"#9c179e\"],[0.4444444444444444,\"#bd3786\"],[0.5555555555555556,\"#d8576b\"],[0.6666666666666666,\"#ed7953\"],[0.7777777777777778,\"#fb9f3a\"],[0.8888888888888888,\"#fdca26\"],[1.0,\"#f0f921\"]],\"type\":\"heatmapgl\"}],\"heatmap\":[{\"colorbar\":{\"outlinewidth\":0,\"ticks\":\"\"},\"colorscale\":[[0.0,\"#0d0887\"],[0.1111111111111111,\"#46039f\"],[0.2222222222222222,\"#7201a8\"],[0.3333333333333333,\"#9c179e\"],[0.4444444444444444,\"#bd3786\"],[0.5555555555555556,\"#d8576b\"],[0.6666666666666666,\"#ed7953\"],[0.7777777777777778,\"#fb9f3a\"],[0.8888888888888888,\"#fdca26\"],[1.0,\"#f0f921\"]],\"type\":\"heatmap\"}],\"histogram2dcontour\":[{\"colorbar\":{\"outlinewidth\":0,\"ticks\":\"\"},\"colorscale\":[[0.0,\"#0d0887\"],[0.1111111111111111,\"#46039f\"],[0.2222222222222222,\"#7201a8\"],[0.3333333333333333,\"#9c179e\"],[0.4444444444444444,\"#bd3786\"],[0.5555555555555556,\"#d8576b\"],[0.6666666666666666,\"#ed7953\"],[0.7777777777777778,\"#fb9f3a\"],[0.8888888888888888,\"#fdca26\"],[1.0,\"#f0f921\"]],\"type\":\"histogram2dcontour\"}],\"histogram2d\":[{\"colorbar\":{\"outlinewidth\":0,\"ticks\":\"\"},\"colorscale\":[[0.0,\"#0d0887\"],[0.1111111111111111,\"#46039f\"],[0.2222222222222222,\"#7201a8\"],[0.3333333333333333,\"#9c179e\"],[0.4444444444444444,\"#bd3786\"],[0.5555555555555556,\"#d8576b\"],[0.6666666666666666,\"#ed7953\"],[0.7777777777777778,\"#fb9f3a\"],[0.8888888888888888,\"#fdca26\"],[1.0,\"#f0f921\"]],\"type\":\"histogram2d\"}],\"histogram\":[{\"marker\":{\"pattern\":{\"fillmode\":\"overlay\",\"size\":10,\"solidity\":0.2}},\"type\":\"histogram\"}],\"mesh3d\":[{\"colorbar\":{\"outlinewidth\":0,\"ticks\":\"\"},\"type\":\"mesh3d\"}],\"parcoords\":[{\"line\":{\"colorbar\":{\"outlinewidth\":0,\"ticks\":\"\"}},\"type\":\"parcoords\"}],\"pie\":[{\"automargin\":true,\"type\":\"pie\"}],\"scatter3d\":[{\"line\":{\"colorbar\":{\"outlinewidth\":0,\"ticks\":\"\"}},\"marker\":{\"colorbar\":{\"outlinewidth\":0,\"ticks\":\"\"}},\"type\":\"scatter3d\"}],\"scattercarpet\":[{\"marker\":{\"colorbar\":{\"outlinewidth\":0,\"ticks\":\"\"}},\"type\":\"scattercarpet\"}],\"scattergeo\":[{\"marker\":{\"colorbar\":{\"outlinewidth\":0,\"ticks\":\"\"}},\"type\":\"scattergeo\"}],\"scattergl\":[{\"marker\":{\"colorbar\":{\"outlinewidth\":0,\"ticks\":\"\"}},\"type\":\"scattergl\"}],\"scattermapbox\":[{\"marker\":{\"colorbar\":{\"outlinewidth\":0,\"ticks\":\"\"}},\"type\":\"scattermapbox\"}],\"scatterpolargl\":[{\"marker\":{\"colorbar\":{\"outlinewidth\":0,\"ticks\":\"\"}},\"type\":\"scatterpolargl\"}],\"scatterpolar\":[{\"marker\":{\"colorbar\":{\"outlinewidth\":0,\"ticks\":\"\"}},\"type\":\"scatterpolar\"}],\"scatter\":[{\"fillpattern\":{\"fillmode\":\"overlay\",\"size\":10,\"solidity\":0.2},\"type\":\"scatter\"}],\"scatterternary\":[{\"marker\":{\"colorbar\":{\"outlinewidth\":0,\"ticks\":\"\"}},\"type\":\"scatterternary\"}],\"surface\":[{\"colorbar\":{\"outlinewidth\":0,\"ticks\":\"\"},\"colorscale\":[[0.0,\"#0d0887\"],[0.1111111111111111,\"#46039f\"],[0.2222222222222222,\"#7201a8\"],[0.3333333333333333,\"#9c179e\"],[0.4444444444444444,\"#bd3786\"],[0.5555555555555556,\"#d8576b\"],[0.6666666666666666,\"#ed7953\"],[0.7777777777777778,\"#fb9f3a\"],[0.8888888888888888,\"#fdca26\"],[1.0,\"#f0f921\"]],\"type\":\"surface\"}],\"table\":[{\"cells\":{\"fill\":{\"color\":\"#EBF0F8\"},\"line\":{\"color\":\"white\"}},\"header\":{\"fill\":{\"color\":\"#C8D4E3\"},\"line\":{\"color\":\"white\"}},\"type\":\"table\"}]},\"layout\":{\"annotationdefaults\":{\"arrowcolor\":\"#2a3f5f\",\"arrowhead\":0,\"arrowwidth\":1},\"autotypenumbers\":\"strict\",\"coloraxis\":{\"colorbar\":{\"outlinewidth\":0,\"ticks\":\"\"}},\"colorscale\":{\"diverging\":[[0,\"#8e0152\"],[0.1,\"#c51b7d\"],[0.2,\"#de77ae\"],[0.3,\"#f1b6da\"],[0.4,\"#fde0ef\"],[0.5,\"#f7f7f7\"],[0.6,\"#e6f5d0\"],[0.7,\"#b8e186\"],[0.8,\"#7fbc41\"],[0.9,\"#4d9221\"],[1,\"#276419\"]],\"sequential\":[[0.0,\"#0d0887\"],[0.1111111111111111,\"#46039f\"],[0.2222222222222222,\"#7201a8\"],[0.3333333333333333,\"#9c179e\"],[0.4444444444444444,\"#bd3786\"],[0.5555555555555556,\"#d8576b\"],[0.6666666666666666,\"#ed7953\"],[0.7777777777777778,\"#fb9f3a\"],[0.8888888888888888,\"#fdca26\"],[1.0,\"#f0f921\"]],\"sequentialminus\":[[0.0,\"#0d0887\"],[0.1111111111111111,\"#46039f\"],[0.2222222222222222,\"#7201a8\"],[0.3333333333333333,\"#9c179e\"],[0.4444444444444444,\"#bd3786\"],[0.5555555555555556,\"#d8576b\"],[0.6666666666666666,\"#ed7953\"],[0.7777777777777778,\"#fb9f3a\"],[0.8888888888888888,\"#fdca26\"],[1.0,\"#f0f921\"]]},\"colorway\":[\"#636efa\",\"#EF553B\",\"#00cc96\",\"#ab63fa\",\"#FFA15A\",\"#19d3f3\",\"#FF6692\",\"#B6E880\",\"#FF97FF\",\"#FECB52\"],\"font\":{\"color\":\"#2a3f5f\"},\"geo\":{\"bgcolor\":\"white\",\"lakecolor\":\"white\",\"landcolor\":\"#E5ECF6\",\"showlakes\":true,\"showland\":true,\"subunitcolor\":\"white\"},\"hoverlabel\":{\"align\":\"left\"},\"hovermode\":\"closest\",\"mapbox\":{\"style\":\"light\"},\"paper_bgcolor\":\"white\",\"plot_bgcolor\":\"#E5ECF6\",\"polar\":{\"angularaxis\":{\"gridcolor\":\"white\",\"linecolor\":\"white\",\"ticks\":\"\"},\"bgcolor\":\"#E5ECF6\",\"radialaxis\":{\"gridcolor\":\"white\",\"linecolor\":\"white\",\"ticks\":\"\"}},\"scene\":{\"xaxis\":{\"backgroundcolor\":\"#E5ECF6\",\"gridcolor\":\"white\",\"gridwidth\":2,\"linecolor\":\"white\",\"showbackground\":true,\"ticks\":\"\",\"zerolinecolor\":\"white\"},\"yaxis\":{\"backgroundcolor\":\"#E5ECF6\",\"gridcolor\":\"white\",\"gridwidth\":2,\"linecolor\":\"white\",\"showbackground\":true,\"ticks\":\"\",\"zerolinecolor\":\"white\"},\"zaxis\":{\"backgroundcolor\":\"#E5ECF6\",\"gridcolor\":\"white\",\"gridwidth\":2,\"linecolor\":\"white\",\"showbackground\":true,\"ticks\":\"\",\"zerolinecolor\":\"white\"}},\"shapedefaults\":{\"line\":{\"color\":\"#2a3f5f\"}},\"ternary\":{\"aaxis\":{\"gridcolor\":\"white\",\"linecolor\":\"white\",\"ticks\":\"\"},\"baxis\":{\"gridcolor\":\"white\",\"linecolor\":\"white\",\"ticks\":\"\"},\"bgcolor\":\"#E5ECF6\",\"caxis\":{\"gridcolor\":\"white\",\"linecolor\":\"white\",\"ticks\":\"\"}},\"title\":{\"x\":0.05},\"xaxis\":{\"automargin\":true,\"gridcolor\":\"white\",\"linecolor\":\"white\",\"ticks\":\"\",\"title\":{\"standoff\":15},\"zerolinecolor\":\"white\",\"zerolinewidth\":2},\"yaxis\":{\"automargin\":true,\"gridcolor\":\"white\",\"linecolor\":\"white\",\"ticks\":\"\",\"title\":{\"standoff\":15},\"zerolinecolor\":\"white\",\"zerolinewidth\":2}}},\"title\":{\"font\":{\"color\":\"#4D5663\"}},\"xaxis\":{\"gridcolor\":\"#E1E5ED\",\"showgrid\":true,\"tickfont\":{\"color\":\"#4D5663\"},\"title\":{\"font\":{\"color\":\"#4D5663\"},\"text\":\"\"},\"zerolinecolor\":\"#E1E5ED\"},\"yaxis\":{\"gridcolor\":\"#E1E5ED\",\"showgrid\":true,\"tickfont\":{\"color\":\"#4D5663\"},\"title\":{\"font\":{\"color\":\"#4D5663\"},\"text\":\"\"},\"zerolinecolor\":\"#E1E5ED\"}},                        {\"showLink\": true, \"linkText\": \"Export to plot.ly\", \"plotlyServerURL\": \"https://plot.ly\", \"responsive\": true}                    ).then(function(){\n",
       "                            \n",
       "var gd = document.getElementById('2494c6fe-a1f9-4abf-b29c-8b72c3d63597');\n",
       "var x = new MutationObserver(function (mutations, observer) {{\n",
       "        var display = window.getComputedStyle(gd).display;\n",
       "        if (!display || display === 'none') {{\n",
       "            console.log([gd, 'removed!']);\n",
       "            Plotly.purge(gd);\n",
       "            observer.disconnect();\n",
       "        }}\n",
       "}});\n",
       "\n",
       "// Listen for the removal of the full notebook cells\n",
       "var notebookContainer = gd.closest('#notebook-container');\n",
       "if (notebookContainer) {{\n",
       "    x.observe(notebookContainer, {childList: true});\n",
       "}}\n",
       "\n",
       "// Listen for the clearing of the current output cell\n",
       "var outputEl = gd.closest('.output');\n",
       "if (outputEl) {{\n",
       "    x.observe(outputEl, {childList: true});\n",
       "}}\n",
       "\n",
       "                        })                };                });            </script>        </div>"
      ]
     },
     "metadata": {},
     "output_type": "display_data"
    }
   ],
   "source": [
    "df.iplot(kind=\"bubble\",x= \"A\",y=\"B\",size=\"C\")"
   ]
  },
  {
   "cell_type": "code",
   "execution_count": 31,
   "id": "0d4a68cd",
   "metadata": {},
   "outputs": [
    {
     "data": {
      "application/vnd.plotly.v1+json": {
       "config": {
        "linkText": "Export to plot.ly",
        "plotlyServerURL": "https://plot.ly",
        "showLink": true
       },
       "data": [
        {
         "histfunc": "count",
         "histnorm": "",
         "marker": {
          "color": "rgba(255, 153, 51, 1.0)",
          "line": {
           "color": "#4D5663",
           "width": 1.3
          }
         },
         "name": "A",
         "nbinsx": 10,
         "opacity": 0.8,
         "orientation": "v",
         "type": "histogram",
         "x": [
          -0.9295482987691611,
          0.4996509360917784,
          -0.31178784381970565,
          -0.2591828995133058,
          -0.2403254599818755,
          0.30007424500314445,
          -1.9519399516746074,
          0.36101710108782775,
          1.1405599367929218,
          -1.0796063330029473,
          0.5190388920390553,
          1.5295361900831612,
          2.2008109795602016,
          0.8296048530293078,
          -0.21937304858767648,
          -0.9074792394033,
          -0.2871592266959784,
          -0.05545890921396091,
          -0.4966932594692695,
          -0.2128516157570282,
          1.124592371454574,
          0.6228995695801925,
          0.9256230617994263,
          -1.768887800317044,
          -0.2874149202115096,
          -0.7825545526319378,
          -2.64432200458736,
          0.7457461109123886,
          -1.1428281744977538,
          1.2210663863390592,
          -0.9131644958788138,
          0.13217834318366903,
          0.6381113620115724,
          1.4342735786591516,
          -0.5436898268763243,
          0.7137862193664714,
          0.5120364676493256,
          -2.0607142312389986,
          0.07250257019407771,
          -0.6579877485369979,
          -1.1492108033028867,
          -2.2536437617141516,
          1.0563020796557212,
          -1.0720178624058692,
          -1.1189016921464603,
          -0.29284164619717207,
          -0.20830520279926823,
          1.0822730128583236,
          1.0213249027809796,
          1.2876384897836826,
          1.8125915692022887,
          -0.3517345744446924,
          0.45361035245361936,
          -0.7548380530713608,
          0.4509916465215894,
          0.010825510343471153,
          1.1954626376691377,
          1.7044799601908844,
          -0.2512587274155817,
          -0.007463326957457436,
          1.5214107591436405,
          0.34186384567971756,
          -0.34838956178384545,
          -0.02149537492129532,
          -0.2557559357224352,
          1.8115002849071817,
          0.8989054113028747,
          -0.8478793667167331,
          -0.4388345973955879,
          0.5897765192462224,
          0.9169989960247112,
          -0.29584764364758287,
          0.40964963403229865,
          -0.2765551854394092,
          0.7309271904230744,
          -0.05169151931672703,
          -0.6487263477835327,
          -0.15937602857333696,
          -0.669650111705374,
          1.6529366895888808,
          0.2725091941094338,
          -0.84418871539521,
          -1.0214046898022509,
          -0.5985785583610419,
          0.9281497551503964,
          -1.4386926646965128,
          1.6413444776995776,
          -2.2123830364218984,
          0.7903787489224429,
          -1.0744732634516792,
          0.745393189760668,
          0.4996178124858752,
          -0.46560119110781123,
          0.15969763101542492,
          0.142503896532929,
          1.3709466265440287,
          0.9711336472637876,
          -0.38754055633141615,
          -1.1752089873333424,
          0.27340068072325535
         ],
         "xaxis": "x",
         "yaxis": "y"
        },
        {
         "line": {
          "color": "rgba(128, 128, 128, 1.0)",
          "dash": "solid",
          "shape": "linear",
          "width": 1.3
         },
         "marker": {
          "size": 2,
          "symbol": "circle"
         },
         "mode": "markers",
         "name": "A",
         "text": "",
         "type": "scatter",
         "x": [
          0.10595209962862051,
          0.3368667122382836,
          -0.32861230975248373,
          -0.11664858440555267,
          -0.10862895251019854,
          0.14676101096132724,
          1.6550509248816598,
          0.3116991407512059,
          -1.5333273766171769,
          0.67351956523506,
          -0.23293658066056874,
          0.5298539546678004,
          1.2706339922049268,
          1.4485075051766172,
          0.6779059423904159,
          -0.7164141937146591,
          0.8245757552822287,
          2.4213154151349485,
          -0.6875266309878802,
          -0.19741347908494278,
          0.6573721821252815,
          0.2773927166267599,
          0.18443657890013604,
          0.20841105872778784,
          1.014443830916647,
          -0.6614530154293072,
          0.7795405780388421,
          1.1763647687901904,
          -1.426400518831791,
          -0.8862199762393453,
          -0.5432851756689908,
          0.5612441198207622,
          0.14759371236534652,
          -1.569694238419562,
          2.2741377167085077,
          -1.3286017158605619,
          -0.6547759337607292,
          0.5409293803814273,
          -1.7140672889540483,
          -0.838762524216867,
          2.052568027382253,
          1.2479484516423567,
          -0.5050471421968736,
          1.3906132917773977,
          0.9304278500231088,
          -0.5005788549389664,
          1.0139570932698092,
          1.4099756691177323,
          -0.7284825751458816,
          0.47323279459070394,
          -0.8126917762346638,
          0.6377954621777114,
          -0.3174047711249694,
          -1.7756135983404886,
          -0.2363797892406345,
          -0.7970716486495877,
          -0.3332925771997845,
          0.3137937224354294,
          -0.612749019434206,
          -0.07558111642014288,
          -0.9898859959734786,
          -0.45302566262413996,
          -0.542805561663329,
          -1.2844203082105614,
          -0.11354301196306125,
          -2.546874494300865,
          0.9872274735141424,
          -2.4060412325529983,
          0.7406303040060868,
          1.3494134213350881,
          -0.08353953585239972,
          -0.8649105520646212,
          0.5482770228978523,
          0.3018624903593867,
          -1.2696542402185156,
          -0.503774941664004,
          -0.4457561076351454,
          0.34242334816657516,
          -0.11692153010067262,
          -0.7692072862521319,
          -0.3210876224228783,
          -1.3428735501149156,
          0.08140321965759581,
          1.4726724276119887,
          -1.6872778504307941,
          0.7379616404172885,
          0.7541415956944442,
          0.6119192924558464,
          -0.6805248104558588,
          -0.011614579413123783,
          -0.9751368919345605,
          0.1766886661379514,
          -0.4773258381639982,
          -1.7259606922075275,
          -0.09290092035809304,
          -0.34934252493462165,
          -0.5455826577301464,
          1.223290635135926,
          -1.332442683803005,
          -0.4849294268598528
         ],
         "xaxis": "x2",
         "y": [
          -0.9295482987691611,
          0.4996509360917784,
          -0.31178784381970565,
          -0.2591828995133058,
          -0.2403254599818755,
          0.30007424500314445,
          -1.9519399516746074,
          0.36101710108782775,
          1.1405599367929218,
          -1.0796063330029473,
          0.5190388920390553,
          1.5295361900831612,
          2.2008109795602016,
          0.8296048530293078,
          -0.21937304858767648,
          -0.9074792394033,
          -0.2871592266959784,
          -0.05545890921396091,
          -0.4966932594692695,
          -0.2128516157570282,
          1.124592371454574,
          0.6228995695801925,
          0.9256230617994263,
          -1.768887800317044,
          -0.2874149202115096,
          -0.7825545526319378,
          -2.64432200458736,
          0.7457461109123886,
          -1.1428281744977538,
          1.2210663863390592,
          -0.9131644958788138,
          0.13217834318366903,
          0.6381113620115724,
          1.4342735786591516,
          -0.5436898268763243,
          0.7137862193664714,
          0.5120364676493256,
          -2.0607142312389986,
          0.07250257019407771,
          -0.6579877485369979,
          -1.1492108033028867,
          -2.2536437617141516,
          1.0563020796557212,
          -1.0720178624058692,
          -1.1189016921464603,
          -0.29284164619717207,
          -0.20830520279926823,
          1.0822730128583236,
          1.0213249027809796,
          1.2876384897836826,
          1.8125915692022887,
          -0.3517345744446924,
          0.45361035245361936,
          -0.7548380530713608,
          0.4509916465215894,
          0.010825510343471153,
          1.1954626376691377,
          1.7044799601908844,
          -0.2512587274155817,
          -0.007463326957457436,
          1.5214107591436405,
          0.34186384567971756,
          -0.34838956178384545,
          -0.02149537492129532,
          -0.2557559357224352,
          1.8115002849071817,
          0.8989054113028747,
          -0.8478793667167331,
          -0.4388345973955879,
          0.5897765192462224,
          0.9169989960247112,
          -0.29584764364758287,
          0.40964963403229865,
          -0.2765551854394092,
          0.7309271904230744,
          -0.05169151931672703,
          -0.6487263477835327,
          -0.15937602857333696,
          -0.669650111705374,
          1.6529366895888808,
          0.2725091941094338,
          -0.84418871539521,
          -1.0214046898022509,
          -0.5985785583610419,
          0.9281497551503964,
          -1.4386926646965128,
          1.6413444776995776,
          -2.2123830364218984,
          0.7903787489224429,
          -1.0744732634516792,
          0.745393189760668,
          0.4996178124858752,
          -0.46560119110781123,
          0.15969763101542492,
          0.142503896532929,
          1.3709466265440287,
          0.9711336472637876,
          -0.38754055633141615,
          -1.1752089873333424,
          0.27340068072325535
         ],
         "yaxis": "y2"
        },
        {
         "line": {
          "color": "rgba(128, 128, 128, 1.0)",
          "dash": "solid",
          "shape": "linear",
          "width": 1.3
         },
         "marker": {
          "size": 2,
          "symbol": "circle"
         },
         "mode": "markers",
         "name": "A",
         "text": "",
         "type": "scatter",
         "x": [
          -0.26802567468283556,
          0.4072064013410601,
          0.6461005840226851,
          -0.585094742432191,
          0.3573995808954022,
          0.32157802210804975,
          -0.16919911676177468,
          -0.6706351029537011,
          1.0804040578855634,
          0.28189287438921745,
          -0.36165626203156503,
          0.40971416164952523,
          1.4437380666462036,
          -0.005032774531809589,
          0.43212530479678285,
          -0.10952316599517305,
          0.38262622234589144,
          0.6467377811036394,
          0.8685111970322607,
          -0.7510330180894015,
          -1.3548579307174067,
          0.8498325036801762,
          0.8060292524603478,
          -0.05838667707323915,
          0.4463018940239507,
          -0.8859584831710968,
          -0.7689079747608597,
          -0.33101433492673465,
          -0.16646933127108451,
          -2.2234210272232295,
          0.09320745950272975,
          0.09399434578019715,
          1.1755308625746566,
          0.04959081536101905,
          -0.12548887832494862,
          0.553291027320834,
          -0.006846847112921158,
          -1.0940902480963026,
          1.6992610567702078,
          -1.2201513753331235,
          -1.016998263095646,
          1.2410220960272613,
          0.5650521741319647,
          0.3948693228115939,
          -0.34898058136686005,
          0.041142085742882646,
          -0.40728021294539435,
          -0.3383063368079199,
          -0.3064599522234884,
          -1.5547550522193543,
          0.8990539365717387,
          -1.0357492276649602,
          -1.7055721268397044,
          -0.9353285485181945,
          0.40881727840120746,
          1.0457842403635524,
          1.16072135846228,
          0.7733499372932843,
          0.06912451400348932,
          1.7668257964874858,
          -0.07370408678810107,
          -0.5992648954960853,
          0.0031839077604649863,
          -0.15511925879835184,
          1.2553790745400344,
          0.9800336531789141,
          -0.5852912967995566,
          2.6036916226598654,
          -0.9272942988762053,
          0.6237809786781634,
          1.0568500925681823,
          -1.09659045862584,
          -0.17215484003221654,
          0.43585654614856795,
          -0.9267392510841177,
          0.08561210853793365,
          -0.3289460799806062,
          0.36408037266220034,
          -0.6158920904266694,
          1.8758077683489707,
          -0.2488697686696133,
          0.08909926398044783,
          -0.019913649723522293,
          -1.5108509182391463,
          0.10809714907300454,
          0.8552468524058905,
          -0.12208852143184143,
          0.2991215257437905,
          -1.1485090797225774,
          -0.5535953264037937,
          -1.662812170312761,
          -0.1404449423341458,
          1.2988339639252369,
          1.16562945649828,
          -0.2227008673477981,
          -0.5308299782064171,
          2.509031912866535,
          -0.6009943623260816,
          1.1700763481812035,
          0.35973613592097686
         ],
         "xaxis": "x3",
         "y": [
          -0.9295482987691611,
          0.4996509360917784,
          -0.31178784381970565,
          -0.2591828995133058,
          -0.2403254599818755,
          0.30007424500314445,
          -1.9519399516746074,
          0.36101710108782775,
          1.1405599367929218,
          -1.0796063330029473,
          0.5190388920390553,
          1.5295361900831612,
          2.2008109795602016,
          0.8296048530293078,
          -0.21937304858767648,
          -0.9074792394033,
          -0.2871592266959784,
          -0.05545890921396091,
          -0.4966932594692695,
          -0.2128516157570282,
          1.124592371454574,
          0.6228995695801925,
          0.9256230617994263,
          -1.768887800317044,
          -0.2874149202115096,
          -0.7825545526319378,
          -2.64432200458736,
          0.7457461109123886,
          -1.1428281744977538,
          1.2210663863390592,
          -0.9131644958788138,
          0.13217834318366903,
          0.6381113620115724,
          1.4342735786591516,
          -0.5436898268763243,
          0.7137862193664714,
          0.5120364676493256,
          -2.0607142312389986,
          0.07250257019407771,
          -0.6579877485369979,
          -1.1492108033028867,
          -2.2536437617141516,
          1.0563020796557212,
          -1.0720178624058692,
          -1.1189016921464603,
          -0.29284164619717207,
          -0.20830520279926823,
          1.0822730128583236,
          1.0213249027809796,
          1.2876384897836826,
          1.8125915692022887,
          -0.3517345744446924,
          0.45361035245361936,
          -0.7548380530713608,
          0.4509916465215894,
          0.010825510343471153,
          1.1954626376691377,
          1.7044799601908844,
          -0.2512587274155817,
          -0.007463326957457436,
          1.5214107591436405,
          0.34186384567971756,
          -0.34838956178384545,
          -0.02149537492129532,
          -0.2557559357224352,
          1.8115002849071817,
          0.8989054113028747,
          -0.8478793667167331,
          -0.4388345973955879,
          0.5897765192462224,
          0.9169989960247112,
          -0.29584764364758287,
          0.40964963403229865,
          -0.2765551854394092,
          0.7309271904230744,
          -0.05169151931672703,
          -0.6487263477835327,
          -0.15937602857333696,
          -0.669650111705374,
          1.6529366895888808,
          0.2725091941094338,
          -0.84418871539521,
          -1.0214046898022509,
          -0.5985785583610419,
          0.9281497551503964,
          -1.4386926646965128,
          1.6413444776995776,
          -2.2123830364218984,
          0.7903787489224429,
          -1.0744732634516792,
          0.745393189760668,
          0.4996178124858752,
          -0.46560119110781123,
          0.15969763101542492,
          0.142503896532929,
          1.3709466265440287,
          0.9711336472637876,
          -0.38754055633141615,
          -1.1752089873333424,
          0.27340068072325535
         ],
         "yaxis": "y3"
        },
        {
         "line": {
          "color": "rgba(128, 128, 128, 1.0)",
          "dash": "solid",
          "shape": "linear",
          "width": 1.3
         },
         "marker": {
          "size": 2,
          "symbol": "circle"
         },
         "mode": "markers",
         "name": "A",
         "text": "",
         "type": "scatter",
         "x": [
          0.7068382862261344,
          -1.1354893661264782,
          -1.7781266223186643,
          -0.9993895145453797,
          0.7042164203531522,
          0.9560405384881885,
          0.6661290584108193,
          -0.17098627336289118,
          -0.47884943263231966,
          -2.364822463910428,
          -0.0008059323625490484,
          0.6236349146203897,
          0.5037184545770702,
          1.1317450982256376,
          0.5119154714049131,
          0.35932707096735206,
          -0.3663534598741199,
          1.1365877533477184,
          0.25417329023146695,
          -0.44218525948407367,
          -0.20119332766821338,
          1.608501409910512,
          -0.2712631460420925,
          -1.6439170779887486,
          0.17876806439418744,
          -1.288364838351231,
          1.2805278667353834,
          -1.0964905172034007,
          0.30062751958857203,
          -0.6195883464015917,
          1.3953980794196124,
          -1.208577640700005,
          0.960288245147989,
          -0.10901010075566653,
          -2.3995701108243384,
          -0.36352542201312005,
          0.520071777572679,
          0.5870382951239345,
          -0.8908329994099303,
          -0.46467533439840847,
          0.44781348803887583,
          1.5502356297804298,
          -0.09040555203215514,
          -0.007487830982206106,
          0.06304393372088818,
          -0.6021066876958482,
          -1.0452906870455307,
          0.04280170582626668,
          -0.374925053066271,
          -0.4093096611172787,
          -0.6815199755518858,
          -1.3584991478390136,
          -0.21632291529302258,
          1.11653509881535,
          -0.5512004547220558,
          0.7478135005541695,
          -0.7490802983477098,
          -0.7604155260542467,
          0.6323449927814072,
          0.48741777333043423,
          0.6738819084446128,
          0.346537145554769,
          -1.3061140130711606,
          0.8523478278571408,
          -0.2674966200617749,
          1.4248199828370094,
          -1.361545126902172,
          -0.22969931647517633,
          0.5756343142379796,
          1.2419495328788337,
          0.2484676967568032,
          1.5108745019052454,
          0.1781643691802824,
          -0.7239239997563465,
          -0.5524484345105191,
          -0.4542635822135648,
          1.239574019326204,
          -1.5166528118645612,
          0.1747359681792644,
          1.634349529239444,
          1.003128860486491,
          1.2316416206606728,
          -0.17373482053450465,
          0.6162503121616846,
          -0.296214462536699,
          -0.5833585512581337,
          -0.4948835396241225,
          -0.8975781417605502,
          0.09909788460379772,
          0.6993703963369102,
          -0.8098029075127882,
          -0.26295061467659503,
          -0.8758753227702814,
          -2.1778422617440167,
          1.342235000783719,
          0.5991546221405155,
          -0.4741195581901758,
          -1.1317104802699056,
          1.4645657932255527,
          -0.5061935595988273
         ],
         "xaxis": "x4",
         "y": [
          -0.9295482987691611,
          0.4996509360917784,
          -0.31178784381970565,
          -0.2591828995133058,
          -0.2403254599818755,
          0.30007424500314445,
          -1.9519399516746074,
          0.36101710108782775,
          1.1405599367929218,
          -1.0796063330029473,
          0.5190388920390553,
          1.5295361900831612,
          2.2008109795602016,
          0.8296048530293078,
          -0.21937304858767648,
          -0.9074792394033,
          -0.2871592266959784,
          -0.05545890921396091,
          -0.4966932594692695,
          -0.2128516157570282,
          1.124592371454574,
          0.6228995695801925,
          0.9256230617994263,
          -1.768887800317044,
          -0.2874149202115096,
          -0.7825545526319378,
          -2.64432200458736,
          0.7457461109123886,
          -1.1428281744977538,
          1.2210663863390592,
          -0.9131644958788138,
          0.13217834318366903,
          0.6381113620115724,
          1.4342735786591516,
          -0.5436898268763243,
          0.7137862193664714,
          0.5120364676493256,
          -2.0607142312389986,
          0.07250257019407771,
          -0.6579877485369979,
          -1.1492108033028867,
          -2.2536437617141516,
          1.0563020796557212,
          -1.0720178624058692,
          -1.1189016921464603,
          -0.29284164619717207,
          -0.20830520279926823,
          1.0822730128583236,
          1.0213249027809796,
          1.2876384897836826,
          1.8125915692022887,
          -0.3517345744446924,
          0.45361035245361936,
          -0.7548380530713608,
          0.4509916465215894,
          0.010825510343471153,
          1.1954626376691377,
          1.7044799601908844,
          -0.2512587274155817,
          -0.007463326957457436,
          1.5214107591436405,
          0.34186384567971756,
          -0.34838956178384545,
          -0.02149537492129532,
          -0.2557559357224352,
          1.8115002849071817,
          0.8989054113028747,
          -0.8478793667167331,
          -0.4388345973955879,
          0.5897765192462224,
          0.9169989960247112,
          -0.29584764364758287,
          0.40964963403229865,
          -0.2765551854394092,
          0.7309271904230744,
          -0.05169151931672703,
          -0.6487263477835327,
          -0.15937602857333696,
          -0.669650111705374,
          1.6529366895888808,
          0.2725091941094338,
          -0.84418871539521,
          -1.0214046898022509,
          -0.5985785583610419,
          0.9281497551503964,
          -1.4386926646965128,
          1.6413444776995776,
          -2.2123830364218984,
          0.7903787489224429,
          -1.0744732634516792,
          0.745393189760668,
          0.4996178124858752,
          -0.46560119110781123,
          0.15969763101542492,
          0.142503896532929,
          1.3709466265440287,
          0.9711336472637876,
          -0.38754055633141615,
          -1.1752089873333424,
          0.27340068072325535
         ],
         "yaxis": "y4"
        },
        {
         "line": {
          "color": "rgba(128, 128, 128, 1.0)",
          "dash": "solid",
          "shape": "linear",
          "width": 1.3
         },
         "marker": {
          "size": 2,
          "symbol": "circle"
         },
         "mode": "markers",
         "name": "B",
         "text": "",
         "type": "scatter",
         "x": [
          -0.9295482987691611,
          0.4996509360917784,
          -0.31178784381970565,
          -0.2591828995133058,
          -0.2403254599818755,
          0.30007424500314445,
          -1.9519399516746074,
          0.36101710108782775,
          1.1405599367929218,
          -1.0796063330029473,
          0.5190388920390553,
          1.5295361900831612,
          2.2008109795602016,
          0.8296048530293078,
          -0.21937304858767648,
          -0.9074792394033,
          -0.2871592266959784,
          -0.05545890921396091,
          -0.4966932594692695,
          -0.2128516157570282,
          1.124592371454574,
          0.6228995695801925,
          0.9256230617994263,
          -1.768887800317044,
          -0.2874149202115096,
          -0.7825545526319378,
          -2.64432200458736,
          0.7457461109123886,
          -1.1428281744977538,
          1.2210663863390592,
          -0.9131644958788138,
          0.13217834318366903,
          0.6381113620115724,
          1.4342735786591516,
          -0.5436898268763243,
          0.7137862193664714,
          0.5120364676493256,
          -2.0607142312389986,
          0.07250257019407771,
          -0.6579877485369979,
          -1.1492108033028867,
          -2.2536437617141516,
          1.0563020796557212,
          -1.0720178624058692,
          -1.1189016921464603,
          -0.29284164619717207,
          -0.20830520279926823,
          1.0822730128583236,
          1.0213249027809796,
          1.2876384897836826,
          1.8125915692022887,
          -0.3517345744446924,
          0.45361035245361936,
          -0.7548380530713608,
          0.4509916465215894,
          0.010825510343471153,
          1.1954626376691377,
          1.7044799601908844,
          -0.2512587274155817,
          -0.007463326957457436,
          1.5214107591436405,
          0.34186384567971756,
          -0.34838956178384545,
          -0.02149537492129532,
          -0.2557559357224352,
          1.8115002849071817,
          0.8989054113028747,
          -0.8478793667167331,
          -0.4388345973955879,
          0.5897765192462224,
          0.9169989960247112,
          -0.29584764364758287,
          0.40964963403229865,
          -0.2765551854394092,
          0.7309271904230744,
          -0.05169151931672703,
          -0.6487263477835327,
          -0.15937602857333696,
          -0.669650111705374,
          1.6529366895888808,
          0.2725091941094338,
          -0.84418871539521,
          -1.0214046898022509,
          -0.5985785583610419,
          0.9281497551503964,
          -1.4386926646965128,
          1.6413444776995776,
          -2.2123830364218984,
          0.7903787489224429,
          -1.0744732634516792,
          0.745393189760668,
          0.4996178124858752,
          -0.46560119110781123,
          0.15969763101542492,
          0.142503896532929,
          1.3709466265440287,
          0.9711336472637876,
          -0.38754055633141615,
          -1.1752089873333424,
          0.27340068072325535
         ],
         "xaxis": "x5",
         "y": [
          0.10595209962862051,
          0.3368667122382836,
          -0.32861230975248373,
          -0.11664858440555267,
          -0.10862895251019854,
          0.14676101096132724,
          1.6550509248816598,
          0.3116991407512059,
          -1.5333273766171769,
          0.67351956523506,
          -0.23293658066056874,
          0.5298539546678004,
          1.2706339922049268,
          1.4485075051766172,
          0.6779059423904159,
          -0.7164141937146591,
          0.8245757552822287,
          2.4213154151349485,
          -0.6875266309878802,
          -0.19741347908494278,
          0.6573721821252815,
          0.2773927166267599,
          0.18443657890013604,
          0.20841105872778784,
          1.014443830916647,
          -0.6614530154293072,
          0.7795405780388421,
          1.1763647687901904,
          -1.426400518831791,
          -0.8862199762393453,
          -0.5432851756689908,
          0.5612441198207622,
          0.14759371236534652,
          -1.569694238419562,
          2.2741377167085077,
          -1.3286017158605619,
          -0.6547759337607292,
          0.5409293803814273,
          -1.7140672889540483,
          -0.838762524216867,
          2.052568027382253,
          1.2479484516423567,
          -0.5050471421968736,
          1.3906132917773977,
          0.9304278500231088,
          -0.5005788549389664,
          1.0139570932698092,
          1.4099756691177323,
          -0.7284825751458816,
          0.47323279459070394,
          -0.8126917762346638,
          0.6377954621777114,
          -0.3174047711249694,
          -1.7756135983404886,
          -0.2363797892406345,
          -0.7970716486495877,
          -0.3332925771997845,
          0.3137937224354294,
          -0.612749019434206,
          -0.07558111642014288,
          -0.9898859959734786,
          -0.45302566262413996,
          -0.542805561663329,
          -1.2844203082105614,
          -0.11354301196306125,
          -2.546874494300865,
          0.9872274735141424,
          -2.4060412325529983,
          0.7406303040060868,
          1.3494134213350881,
          -0.08353953585239972,
          -0.8649105520646212,
          0.5482770228978523,
          0.3018624903593867,
          -1.2696542402185156,
          -0.503774941664004,
          -0.4457561076351454,
          0.34242334816657516,
          -0.11692153010067262,
          -0.7692072862521319,
          -0.3210876224228783,
          -1.3428735501149156,
          0.08140321965759581,
          1.4726724276119887,
          -1.6872778504307941,
          0.7379616404172885,
          0.7541415956944442,
          0.6119192924558464,
          -0.6805248104558588,
          -0.011614579413123783,
          -0.9751368919345605,
          0.1766886661379514,
          -0.4773258381639982,
          -1.7259606922075275,
          -0.09290092035809304,
          -0.34934252493462165,
          -0.5455826577301464,
          1.223290635135926,
          -1.332442683803005,
          -0.4849294268598528
         ],
         "yaxis": "y5"
        },
        {
         "histfunc": "count",
         "histnorm": "",
         "marker": {
          "color": "rgba(55, 128, 191, 1.0)",
          "line": {
           "color": "#4D5663",
           "width": 1.3
          }
         },
         "name": "B",
         "nbinsx": 10,
         "opacity": 0.8,
         "orientation": "v",
         "type": "histogram",
         "x": [
          0.10595209962862051,
          0.3368667122382836,
          -0.32861230975248373,
          -0.11664858440555267,
          -0.10862895251019854,
          0.14676101096132724,
          1.6550509248816598,
          0.3116991407512059,
          -1.5333273766171769,
          0.67351956523506,
          -0.23293658066056874,
          0.5298539546678004,
          1.2706339922049268,
          1.4485075051766172,
          0.6779059423904159,
          -0.7164141937146591,
          0.8245757552822287,
          2.4213154151349485,
          -0.6875266309878802,
          -0.19741347908494278,
          0.6573721821252815,
          0.2773927166267599,
          0.18443657890013604,
          0.20841105872778784,
          1.014443830916647,
          -0.6614530154293072,
          0.7795405780388421,
          1.1763647687901904,
          -1.426400518831791,
          -0.8862199762393453,
          -0.5432851756689908,
          0.5612441198207622,
          0.14759371236534652,
          -1.569694238419562,
          2.2741377167085077,
          -1.3286017158605619,
          -0.6547759337607292,
          0.5409293803814273,
          -1.7140672889540483,
          -0.838762524216867,
          2.052568027382253,
          1.2479484516423567,
          -0.5050471421968736,
          1.3906132917773977,
          0.9304278500231088,
          -0.5005788549389664,
          1.0139570932698092,
          1.4099756691177323,
          -0.7284825751458816,
          0.47323279459070394,
          -0.8126917762346638,
          0.6377954621777114,
          -0.3174047711249694,
          -1.7756135983404886,
          -0.2363797892406345,
          -0.7970716486495877,
          -0.3332925771997845,
          0.3137937224354294,
          -0.612749019434206,
          -0.07558111642014288,
          -0.9898859959734786,
          -0.45302566262413996,
          -0.542805561663329,
          -1.2844203082105614,
          -0.11354301196306125,
          -2.546874494300865,
          0.9872274735141424,
          -2.4060412325529983,
          0.7406303040060868,
          1.3494134213350881,
          -0.08353953585239972,
          -0.8649105520646212,
          0.5482770228978523,
          0.3018624903593867,
          -1.2696542402185156,
          -0.503774941664004,
          -0.4457561076351454,
          0.34242334816657516,
          -0.11692153010067262,
          -0.7692072862521319,
          -0.3210876224228783,
          -1.3428735501149156,
          0.08140321965759581,
          1.4726724276119887,
          -1.6872778504307941,
          0.7379616404172885,
          0.7541415956944442,
          0.6119192924558464,
          -0.6805248104558588,
          -0.011614579413123783,
          -0.9751368919345605,
          0.1766886661379514,
          -0.4773258381639982,
          -1.7259606922075275,
          -0.09290092035809304,
          -0.34934252493462165,
          -0.5455826577301464,
          1.223290635135926,
          -1.332442683803005,
          -0.4849294268598528
         ],
         "xaxis": "x6",
         "yaxis": "y6"
        },
        {
         "line": {
          "color": "rgba(128, 128, 128, 1.0)",
          "dash": "solid",
          "shape": "linear",
          "width": 1.3
         },
         "marker": {
          "size": 2,
          "symbol": "circle"
         },
         "mode": "markers",
         "name": "B",
         "text": "",
         "type": "scatter",
         "x": [
          -0.26802567468283556,
          0.4072064013410601,
          0.6461005840226851,
          -0.585094742432191,
          0.3573995808954022,
          0.32157802210804975,
          -0.16919911676177468,
          -0.6706351029537011,
          1.0804040578855634,
          0.28189287438921745,
          -0.36165626203156503,
          0.40971416164952523,
          1.4437380666462036,
          -0.005032774531809589,
          0.43212530479678285,
          -0.10952316599517305,
          0.38262622234589144,
          0.6467377811036394,
          0.8685111970322607,
          -0.7510330180894015,
          -1.3548579307174067,
          0.8498325036801762,
          0.8060292524603478,
          -0.05838667707323915,
          0.4463018940239507,
          -0.8859584831710968,
          -0.7689079747608597,
          -0.33101433492673465,
          -0.16646933127108451,
          -2.2234210272232295,
          0.09320745950272975,
          0.09399434578019715,
          1.1755308625746566,
          0.04959081536101905,
          -0.12548887832494862,
          0.553291027320834,
          -0.006846847112921158,
          -1.0940902480963026,
          1.6992610567702078,
          -1.2201513753331235,
          -1.016998263095646,
          1.2410220960272613,
          0.5650521741319647,
          0.3948693228115939,
          -0.34898058136686005,
          0.041142085742882646,
          -0.40728021294539435,
          -0.3383063368079199,
          -0.3064599522234884,
          -1.5547550522193543,
          0.8990539365717387,
          -1.0357492276649602,
          -1.7055721268397044,
          -0.9353285485181945,
          0.40881727840120746,
          1.0457842403635524,
          1.16072135846228,
          0.7733499372932843,
          0.06912451400348932,
          1.7668257964874858,
          -0.07370408678810107,
          -0.5992648954960853,
          0.0031839077604649863,
          -0.15511925879835184,
          1.2553790745400344,
          0.9800336531789141,
          -0.5852912967995566,
          2.6036916226598654,
          -0.9272942988762053,
          0.6237809786781634,
          1.0568500925681823,
          -1.09659045862584,
          -0.17215484003221654,
          0.43585654614856795,
          -0.9267392510841177,
          0.08561210853793365,
          -0.3289460799806062,
          0.36408037266220034,
          -0.6158920904266694,
          1.8758077683489707,
          -0.2488697686696133,
          0.08909926398044783,
          -0.019913649723522293,
          -1.5108509182391463,
          0.10809714907300454,
          0.8552468524058905,
          -0.12208852143184143,
          0.2991215257437905,
          -1.1485090797225774,
          -0.5535953264037937,
          -1.662812170312761,
          -0.1404449423341458,
          1.2988339639252369,
          1.16562945649828,
          -0.2227008673477981,
          -0.5308299782064171,
          2.509031912866535,
          -0.6009943623260816,
          1.1700763481812035,
          0.35973613592097686
         ],
         "xaxis": "x7",
         "y": [
          0.10595209962862051,
          0.3368667122382836,
          -0.32861230975248373,
          -0.11664858440555267,
          -0.10862895251019854,
          0.14676101096132724,
          1.6550509248816598,
          0.3116991407512059,
          -1.5333273766171769,
          0.67351956523506,
          -0.23293658066056874,
          0.5298539546678004,
          1.2706339922049268,
          1.4485075051766172,
          0.6779059423904159,
          -0.7164141937146591,
          0.8245757552822287,
          2.4213154151349485,
          -0.6875266309878802,
          -0.19741347908494278,
          0.6573721821252815,
          0.2773927166267599,
          0.18443657890013604,
          0.20841105872778784,
          1.014443830916647,
          -0.6614530154293072,
          0.7795405780388421,
          1.1763647687901904,
          -1.426400518831791,
          -0.8862199762393453,
          -0.5432851756689908,
          0.5612441198207622,
          0.14759371236534652,
          -1.569694238419562,
          2.2741377167085077,
          -1.3286017158605619,
          -0.6547759337607292,
          0.5409293803814273,
          -1.7140672889540483,
          -0.838762524216867,
          2.052568027382253,
          1.2479484516423567,
          -0.5050471421968736,
          1.3906132917773977,
          0.9304278500231088,
          -0.5005788549389664,
          1.0139570932698092,
          1.4099756691177323,
          -0.7284825751458816,
          0.47323279459070394,
          -0.8126917762346638,
          0.6377954621777114,
          -0.3174047711249694,
          -1.7756135983404886,
          -0.2363797892406345,
          -0.7970716486495877,
          -0.3332925771997845,
          0.3137937224354294,
          -0.612749019434206,
          -0.07558111642014288,
          -0.9898859959734786,
          -0.45302566262413996,
          -0.542805561663329,
          -1.2844203082105614,
          -0.11354301196306125,
          -2.546874494300865,
          0.9872274735141424,
          -2.4060412325529983,
          0.7406303040060868,
          1.3494134213350881,
          -0.08353953585239972,
          -0.8649105520646212,
          0.5482770228978523,
          0.3018624903593867,
          -1.2696542402185156,
          -0.503774941664004,
          -0.4457561076351454,
          0.34242334816657516,
          -0.11692153010067262,
          -0.7692072862521319,
          -0.3210876224228783,
          -1.3428735501149156,
          0.08140321965759581,
          1.4726724276119887,
          -1.6872778504307941,
          0.7379616404172885,
          0.7541415956944442,
          0.6119192924558464,
          -0.6805248104558588,
          -0.011614579413123783,
          -0.9751368919345605,
          0.1766886661379514,
          -0.4773258381639982,
          -1.7259606922075275,
          -0.09290092035809304,
          -0.34934252493462165,
          -0.5455826577301464,
          1.223290635135926,
          -1.332442683803005,
          -0.4849294268598528
         ],
         "yaxis": "y7"
        },
        {
         "line": {
          "color": "rgba(128, 128, 128, 1.0)",
          "dash": "solid",
          "shape": "linear",
          "width": 1.3
         },
         "marker": {
          "size": 2,
          "symbol": "circle"
         },
         "mode": "markers",
         "name": "B",
         "text": "",
         "type": "scatter",
         "x": [
          0.7068382862261344,
          -1.1354893661264782,
          -1.7781266223186643,
          -0.9993895145453797,
          0.7042164203531522,
          0.9560405384881885,
          0.6661290584108193,
          -0.17098627336289118,
          -0.47884943263231966,
          -2.364822463910428,
          -0.0008059323625490484,
          0.6236349146203897,
          0.5037184545770702,
          1.1317450982256376,
          0.5119154714049131,
          0.35932707096735206,
          -0.3663534598741199,
          1.1365877533477184,
          0.25417329023146695,
          -0.44218525948407367,
          -0.20119332766821338,
          1.608501409910512,
          -0.2712631460420925,
          -1.6439170779887486,
          0.17876806439418744,
          -1.288364838351231,
          1.2805278667353834,
          -1.0964905172034007,
          0.30062751958857203,
          -0.6195883464015917,
          1.3953980794196124,
          -1.208577640700005,
          0.960288245147989,
          -0.10901010075566653,
          -2.3995701108243384,
          -0.36352542201312005,
          0.520071777572679,
          0.5870382951239345,
          -0.8908329994099303,
          -0.46467533439840847,
          0.44781348803887583,
          1.5502356297804298,
          -0.09040555203215514,
          -0.007487830982206106,
          0.06304393372088818,
          -0.6021066876958482,
          -1.0452906870455307,
          0.04280170582626668,
          -0.374925053066271,
          -0.4093096611172787,
          -0.6815199755518858,
          -1.3584991478390136,
          -0.21632291529302258,
          1.11653509881535,
          -0.5512004547220558,
          0.7478135005541695,
          -0.7490802983477098,
          -0.7604155260542467,
          0.6323449927814072,
          0.48741777333043423,
          0.6738819084446128,
          0.346537145554769,
          -1.3061140130711606,
          0.8523478278571408,
          -0.2674966200617749,
          1.4248199828370094,
          -1.361545126902172,
          -0.22969931647517633,
          0.5756343142379796,
          1.2419495328788337,
          0.2484676967568032,
          1.5108745019052454,
          0.1781643691802824,
          -0.7239239997563465,
          -0.5524484345105191,
          -0.4542635822135648,
          1.239574019326204,
          -1.5166528118645612,
          0.1747359681792644,
          1.634349529239444,
          1.003128860486491,
          1.2316416206606728,
          -0.17373482053450465,
          0.6162503121616846,
          -0.296214462536699,
          -0.5833585512581337,
          -0.4948835396241225,
          -0.8975781417605502,
          0.09909788460379772,
          0.6993703963369102,
          -0.8098029075127882,
          -0.26295061467659503,
          -0.8758753227702814,
          -2.1778422617440167,
          1.342235000783719,
          0.5991546221405155,
          -0.4741195581901758,
          -1.1317104802699056,
          1.4645657932255527,
          -0.5061935595988273
         ],
         "xaxis": "x8",
         "y": [
          0.10595209962862051,
          0.3368667122382836,
          -0.32861230975248373,
          -0.11664858440555267,
          -0.10862895251019854,
          0.14676101096132724,
          1.6550509248816598,
          0.3116991407512059,
          -1.5333273766171769,
          0.67351956523506,
          -0.23293658066056874,
          0.5298539546678004,
          1.2706339922049268,
          1.4485075051766172,
          0.6779059423904159,
          -0.7164141937146591,
          0.8245757552822287,
          2.4213154151349485,
          -0.6875266309878802,
          -0.19741347908494278,
          0.6573721821252815,
          0.2773927166267599,
          0.18443657890013604,
          0.20841105872778784,
          1.014443830916647,
          -0.6614530154293072,
          0.7795405780388421,
          1.1763647687901904,
          -1.426400518831791,
          -0.8862199762393453,
          -0.5432851756689908,
          0.5612441198207622,
          0.14759371236534652,
          -1.569694238419562,
          2.2741377167085077,
          -1.3286017158605619,
          -0.6547759337607292,
          0.5409293803814273,
          -1.7140672889540483,
          -0.838762524216867,
          2.052568027382253,
          1.2479484516423567,
          -0.5050471421968736,
          1.3906132917773977,
          0.9304278500231088,
          -0.5005788549389664,
          1.0139570932698092,
          1.4099756691177323,
          -0.7284825751458816,
          0.47323279459070394,
          -0.8126917762346638,
          0.6377954621777114,
          -0.3174047711249694,
          -1.7756135983404886,
          -0.2363797892406345,
          -0.7970716486495877,
          -0.3332925771997845,
          0.3137937224354294,
          -0.612749019434206,
          -0.07558111642014288,
          -0.9898859959734786,
          -0.45302566262413996,
          -0.542805561663329,
          -1.2844203082105614,
          -0.11354301196306125,
          -2.546874494300865,
          0.9872274735141424,
          -2.4060412325529983,
          0.7406303040060868,
          1.3494134213350881,
          -0.08353953585239972,
          -0.8649105520646212,
          0.5482770228978523,
          0.3018624903593867,
          -1.2696542402185156,
          -0.503774941664004,
          -0.4457561076351454,
          0.34242334816657516,
          -0.11692153010067262,
          -0.7692072862521319,
          -0.3210876224228783,
          -1.3428735501149156,
          0.08140321965759581,
          1.4726724276119887,
          -1.6872778504307941,
          0.7379616404172885,
          0.7541415956944442,
          0.6119192924558464,
          -0.6805248104558588,
          -0.011614579413123783,
          -0.9751368919345605,
          0.1766886661379514,
          -0.4773258381639982,
          -1.7259606922075275,
          -0.09290092035809304,
          -0.34934252493462165,
          -0.5455826577301464,
          1.223290635135926,
          -1.332442683803005,
          -0.4849294268598528
         ],
         "yaxis": "y8"
        },
        {
         "line": {
          "color": "rgba(128, 128, 128, 1.0)",
          "dash": "solid",
          "shape": "linear",
          "width": 1.3
         },
         "marker": {
          "size": 2,
          "symbol": "circle"
         },
         "mode": "markers",
         "name": "C",
         "text": "",
         "type": "scatter",
         "x": [
          -0.9295482987691611,
          0.4996509360917784,
          -0.31178784381970565,
          -0.2591828995133058,
          -0.2403254599818755,
          0.30007424500314445,
          -1.9519399516746074,
          0.36101710108782775,
          1.1405599367929218,
          -1.0796063330029473,
          0.5190388920390553,
          1.5295361900831612,
          2.2008109795602016,
          0.8296048530293078,
          -0.21937304858767648,
          -0.9074792394033,
          -0.2871592266959784,
          -0.05545890921396091,
          -0.4966932594692695,
          -0.2128516157570282,
          1.124592371454574,
          0.6228995695801925,
          0.9256230617994263,
          -1.768887800317044,
          -0.2874149202115096,
          -0.7825545526319378,
          -2.64432200458736,
          0.7457461109123886,
          -1.1428281744977538,
          1.2210663863390592,
          -0.9131644958788138,
          0.13217834318366903,
          0.6381113620115724,
          1.4342735786591516,
          -0.5436898268763243,
          0.7137862193664714,
          0.5120364676493256,
          -2.0607142312389986,
          0.07250257019407771,
          -0.6579877485369979,
          -1.1492108033028867,
          -2.2536437617141516,
          1.0563020796557212,
          -1.0720178624058692,
          -1.1189016921464603,
          -0.29284164619717207,
          -0.20830520279926823,
          1.0822730128583236,
          1.0213249027809796,
          1.2876384897836826,
          1.8125915692022887,
          -0.3517345744446924,
          0.45361035245361936,
          -0.7548380530713608,
          0.4509916465215894,
          0.010825510343471153,
          1.1954626376691377,
          1.7044799601908844,
          -0.2512587274155817,
          -0.007463326957457436,
          1.5214107591436405,
          0.34186384567971756,
          -0.34838956178384545,
          -0.02149537492129532,
          -0.2557559357224352,
          1.8115002849071817,
          0.8989054113028747,
          -0.8478793667167331,
          -0.4388345973955879,
          0.5897765192462224,
          0.9169989960247112,
          -0.29584764364758287,
          0.40964963403229865,
          -0.2765551854394092,
          0.7309271904230744,
          -0.05169151931672703,
          -0.6487263477835327,
          -0.15937602857333696,
          -0.669650111705374,
          1.6529366895888808,
          0.2725091941094338,
          -0.84418871539521,
          -1.0214046898022509,
          -0.5985785583610419,
          0.9281497551503964,
          -1.4386926646965128,
          1.6413444776995776,
          -2.2123830364218984,
          0.7903787489224429,
          -1.0744732634516792,
          0.745393189760668,
          0.4996178124858752,
          -0.46560119110781123,
          0.15969763101542492,
          0.142503896532929,
          1.3709466265440287,
          0.9711336472637876,
          -0.38754055633141615,
          -1.1752089873333424,
          0.27340068072325535
         ],
         "xaxis": "x9",
         "y": [
          -0.26802567468283556,
          0.4072064013410601,
          0.6461005840226851,
          -0.585094742432191,
          0.3573995808954022,
          0.32157802210804975,
          -0.16919911676177468,
          -0.6706351029537011,
          1.0804040578855634,
          0.28189287438921745,
          -0.36165626203156503,
          0.40971416164952523,
          1.4437380666462036,
          -0.005032774531809589,
          0.43212530479678285,
          -0.10952316599517305,
          0.38262622234589144,
          0.6467377811036394,
          0.8685111970322607,
          -0.7510330180894015,
          -1.3548579307174067,
          0.8498325036801762,
          0.8060292524603478,
          -0.05838667707323915,
          0.4463018940239507,
          -0.8859584831710968,
          -0.7689079747608597,
          -0.33101433492673465,
          -0.16646933127108451,
          -2.2234210272232295,
          0.09320745950272975,
          0.09399434578019715,
          1.1755308625746566,
          0.04959081536101905,
          -0.12548887832494862,
          0.553291027320834,
          -0.006846847112921158,
          -1.0940902480963026,
          1.6992610567702078,
          -1.2201513753331235,
          -1.016998263095646,
          1.2410220960272613,
          0.5650521741319647,
          0.3948693228115939,
          -0.34898058136686005,
          0.041142085742882646,
          -0.40728021294539435,
          -0.3383063368079199,
          -0.3064599522234884,
          -1.5547550522193543,
          0.8990539365717387,
          -1.0357492276649602,
          -1.7055721268397044,
          -0.9353285485181945,
          0.40881727840120746,
          1.0457842403635524,
          1.16072135846228,
          0.7733499372932843,
          0.06912451400348932,
          1.7668257964874858,
          -0.07370408678810107,
          -0.5992648954960853,
          0.0031839077604649863,
          -0.15511925879835184,
          1.2553790745400344,
          0.9800336531789141,
          -0.5852912967995566,
          2.6036916226598654,
          -0.9272942988762053,
          0.6237809786781634,
          1.0568500925681823,
          -1.09659045862584,
          -0.17215484003221654,
          0.43585654614856795,
          -0.9267392510841177,
          0.08561210853793365,
          -0.3289460799806062,
          0.36408037266220034,
          -0.6158920904266694,
          1.8758077683489707,
          -0.2488697686696133,
          0.08909926398044783,
          -0.019913649723522293,
          -1.5108509182391463,
          0.10809714907300454,
          0.8552468524058905,
          -0.12208852143184143,
          0.2991215257437905,
          -1.1485090797225774,
          -0.5535953264037937,
          -1.662812170312761,
          -0.1404449423341458,
          1.2988339639252369,
          1.16562945649828,
          -0.2227008673477981,
          -0.5308299782064171,
          2.509031912866535,
          -0.6009943623260816,
          1.1700763481812035,
          0.35973613592097686
         ],
         "yaxis": "y9"
        },
        {
         "line": {
          "color": "rgba(128, 128, 128, 1.0)",
          "dash": "solid",
          "shape": "linear",
          "width": 1.3
         },
         "marker": {
          "size": 2,
          "symbol": "circle"
         },
         "mode": "markers",
         "name": "C",
         "text": "",
         "type": "scatter",
         "x": [
          0.10595209962862051,
          0.3368667122382836,
          -0.32861230975248373,
          -0.11664858440555267,
          -0.10862895251019854,
          0.14676101096132724,
          1.6550509248816598,
          0.3116991407512059,
          -1.5333273766171769,
          0.67351956523506,
          -0.23293658066056874,
          0.5298539546678004,
          1.2706339922049268,
          1.4485075051766172,
          0.6779059423904159,
          -0.7164141937146591,
          0.8245757552822287,
          2.4213154151349485,
          -0.6875266309878802,
          -0.19741347908494278,
          0.6573721821252815,
          0.2773927166267599,
          0.18443657890013604,
          0.20841105872778784,
          1.014443830916647,
          -0.6614530154293072,
          0.7795405780388421,
          1.1763647687901904,
          -1.426400518831791,
          -0.8862199762393453,
          -0.5432851756689908,
          0.5612441198207622,
          0.14759371236534652,
          -1.569694238419562,
          2.2741377167085077,
          -1.3286017158605619,
          -0.6547759337607292,
          0.5409293803814273,
          -1.7140672889540483,
          -0.838762524216867,
          2.052568027382253,
          1.2479484516423567,
          -0.5050471421968736,
          1.3906132917773977,
          0.9304278500231088,
          -0.5005788549389664,
          1.0139570932698092,
          1.4099756691177323,
          -0.7284825751458816,
          0.47323279459070394,
          -0.8126917762346638,
          0.6377954621777114,
          -0.3174047711249694,
          -1.7756135983404886,
          -0.2363797892406345,
          -0.7970716486495877,
          -0.3332925771997845,
          0.3137937224354294,
          -0.612749019434206,
          -0.07558111642014288,
          -0.9898859959734786,
          -0.45302566262413996,
          -0.542805561663329,
          -1.2844203082105614,
          -0.11354301196306125,
          -2.546874494300865,
          0.9872274735141424,
          -2.4060412325529983,
          0.7406303040060868,
          1.3494134213350881,
          -0.08353953585239972,
          -0.8649105520646212,
          0.5482770228978523,
          0.3018624903593867,
          -1.2696542402185156,
          -0.503774941664004,
          -0.4457561076351454,
          0.34242334816657516,
          -0.11692153010067262,
          -0.7692072862521319,
          -0.3210876224228783,
          -1.3428735501149156,
          0.08140321965759581,
          1.4726724276119887,
          -1.6872778504307941,
          0.7379616404172885,
          0.7541415956944442,
          0.6119192924558464,
          -0.6805248104558588,
          -0.011614579413123783,
          -0.9751368919345605,
          0.1766886661379514,
          -0.4773258381639982,
          -1.7259606922075275,
          -0.09290092035809304,
          -0.34934252493462165,
          -0.5455826577301464,
          1.223290635135926,
          -1.332442683803005,
          -0.4849294268598528
         ],
         "xaxis": "x10",
         "y": [
          -0.26802567468283556,
          0.4072064013410601,
          0.6461005840226851,
          -0.585094742432191,
          0.3573995808954022,
          0.32157802210804975,
          -0.16919911676177468,
          -0.6706351029537011,
          1.0804040578855634,
          0.28189287438921745,
          -0.36165626203156503,
          0.40971416164952523,
          1.4437380666462036,
          -0.005032774531809589,
          0.43212530479678285,
          -0.10952316599517305,
          0.38262622234589144,
          0.6467377811036394,
          0.8685111970322607,
          -0.7510330180894015,
          -1.3548579307174067,
          0.8498325036801762,
          0.8060292524603478,
          -0.05838667707323915,
          0.4463018940239507,
          -0.8859584831710968,
          -0.7689079747608597,
          -0.33101433492673465,
          -0.16646933127108451,
          -2.2234210272232295,
          0.09320745950272975,
          0.09399434578019715,
          1.1755308625746566,
          0.04959081536101905,
          -0.12548887832494862,
          0.553291027320834,
          -0.006846847112921158,
          -1.0940902480963026,
          1.6992610567702078,
          -1.2201513753331235,
          -1.016998263095646,
          1.2410220960272613,
          0.5650521741319647,
          0.3948693228115939,
          -0.34898058136686005,
          0.041142085742882646,
          -0.40728021294539435,
          -0.3383063368079199,
          -0.3064599522234884,
          -1.5547550522193543,
          0.8990539365717387,
          -1.0357492276649602,
          -1.7055721268397044,
          -0.9353285485181945,
          0.40881727840120746,
          1.0457842403635524,
          1.16072135846228,
          0.7733499372932843,
          0.06912451400348932,
          1.7668257964874858,
          -0.07370408678810107,
          -0.5992648954960853,
          0.0031839077604649863,
          -0.15511925879835184,
          1.2553790745400344,
          0.9800336531789141,
          -0.5852912967995566,
          2.6036916226598654,
          -0.9272942988762053,
          0.6237809786781634,
          1.0568500925681823,
          -1.09659045862584,
          -0.17215484003221654,
          0.43585654614856795,
          -0.9267392510841177,
          0.08561210853793365,
          -0.3289460799806062,
          0.36408037266220034,
          -0.6158920904266694,
          1.8758077683489707,
          -0.2488697686696133,
          0.08909926398044783,
          -0.019913649723522293,
          -1.5108509182391463,
          0.10809714907300454,
          0.8552468524058905,
          -0.12208852143184143,
          0.2991215257437905,
          -1.1485090797225774,
          -0.5535953264037937,
          -1.662812170312761,
          -0.1404449423341458,
          1.2988339639252369,
          1.16562945649828,
          -0.2227008673477981,
          -0.5308299782064171,
          2.509031912866535,
          -0.6009943623260816,
          1.1700763481812035,
          0.35973613592097686
         ],
         "yaxis": "y10"
        },
        {
         "histfunc": "count",
         "histnorm": "",
         "marker": {
          "color": "rgba(50, 171, 96, 1.0)",
          "line": {
           "color": "#4D5663",
           "width": 1.3
          }
         },
         "name": "C",
         "nbinsx": 10,
         "opacity": 0.8,
         "orientation": "v",
         "type": "histogram",
         "x": [
          -0.26802567468283556,
          0.4072064013410601,
          0.6461005840226851,
          -0.585094742432191,
          0.3573995808954022,
          0.32157802210804975,
          -0.16919911676177468,
          -0.6706351029537011,
          1.0804040578855634,
          0.28189287438921745,
          -0.36165626203156503,
          0.40971416164952523,
          1.4437380666462036,
          -0.005032774531809589,
          0.43212530479678285,
          -0.10952316599517305,
          0.38262622234589144,
          0.6467377811036394,
          0.8685111970322607,
          -0.7510330180894015,
          -1.3548579307174067,
          0.8498325036801762,
          0.8060292524603478,
          -0.05838667707323915,
          0.4463018940239507,
          -0.8859584831710968,
          -0.7689079747608597,
          -0.33101433492673465,
          -0.16646933127108451,
          -2.2234210272232295,
          0.09320745950272975,
          0.09399434578019715,
          1.1755308625746566,
          0.04959081536101905,
          -0.12548887832494862,
          0.553291027320834,
          -0.006846847112921158,
          -1.0940902480963026,
          1.6992610567702078,
          -1.2201513753331235,
          -1.016998263095646,
          1.2410220960272613,
          0.5650521741319647,
          0.3948693228115939,
          -0.34898058136686005,
          0.041142085742882646,
          -0.40728021294539435,
          -0.3383063368079199,
          -0.3064599522234884,
          -1.5547550522193543,
          0.8990539365717387,
          -1.0357492276649602,
          -1.7055721268397044,
          -0.9353285485181945,
          0.40881727840120746,
          1.0457842403635524,
          1.16072135846228,
          0.7733499372932843,
          0.06912451400348932,
          1.7668257964874858,
          -0.07370408678810107,
          -0.5992648954960853,
          0.0031839077604649863,
          -0.15511925879835184,
          1.2553790745400344,
          0.9800336531789141,
          -0.5852912967995566,
          2.6036916226598654,
          -0.9272942988762053,
          0.6237809786781634,
          1.0568500925681823,
          -1.09659045862584,
          -0.17215484003221654,
          0.43585654614856795,
          -0.9267392510841177,
          0.08561210853793365,
          -0.3289460799806062,
          0.36408037266220034,
          -0.6158920904266694,
          1.8758077683489707,
          -0.2488697686696133,
          0.08909926398044783,
          -0.019913649723522293,
          -1.5108509182391463,
          0.10809714907300454,
          0.8552468524058905,
          -0.12208852143184143,
          0.2991215257437905,
          -1.1485090797225774,
          -0.5535953264037937,
          -1.662812170312761,
          -0.1404449423341458,
          1.2988339639252369,
          1.16562945649828,
          -0.2227008673477981,
          -0.5308299782064171,
          2.509031912866535,
          -0.6009943623260816,
          1.1700763481812035,
          0.35973613592097686
         ],
         "xaxis": "x11",
         "yaxis": "y11"
        },
        {
         "line": {
          "color": "rgba(128, 128, 128, 1.0)",
          "dash": "solid",
          "shape": "linear",
          "width": 1.3
         },
         "marker": {
          "size": 2,
          "symbol": "circle"
         },
         "mode": "markers",
         "name": "C",
         "text": "",
         "type": "scatter",
         "x": [
          0.7068382862261344,
          -1.1354893661264782,
          -1.7781266223186643,
          -0.9993895145453797,
          0.7042164203531522,
          0.9560405384881885,
          0.6661290584108193,
          -0.17098627336289118,
          -0.47884943263231966,
          -2.364822463910428,
          -0.0008059323625490484,
          0.6236349146203897,
          0.5037184545770702,
          1.1317450982256376,
          0.5119154714049131,
          0.35932707096735206,
          -0.3663534598741199,
          1.1365877533477184,
          0.25417329023146695,
          -0.44218525948407367,
          -0.20119332766821338,
          1.608501409910512,
          -0.2712631460420925,
          -1.6439170779887486,
          0.17876806439418744,
          -1.288364838351231,
          1.2805278667353834,
          -1.0964905172034007,
          0.30062751958857203,
          -0.6195883464015917,
          1.3953980794196124,
          -1.208577640700005,
          0.960288245147989,
          -0.10901010075566653,
          -2.3995701108243384,
          -0.36352542201312005,
          0.520071777572679,
          0.5870382951239345,
          -0.8908329994099303,
          -0.46467533439840847,
          0.44781348803887583,
          1.5502356297804298,
          -0.09040555203215514,
          -0.007487830982206106,
          0.06304393372088818,
          -0.6021066876958482,
          -1.0452906870455307,
          0.04280170582626668,
          -0.374925053066271,
          -0.4093096611172787,
          -0.6815199755518858,
          -1.3584991478390136,
          -0.21632291529302258,
          1.11653509881535,
          -0.5512004547220558,
          0.7478135005541695,
          -0.7490802983477098,
          -0.7604155260542467,
          0.6323449927814072,
          0.48741777333043423,
          0.6738819084446128,
          0.346537145554769,
          -1.3061140130711606,
          0.8523478278571408,
          -0.2674966200617749,
          1.4248199828370094,
          -1.361545126902172,
          -0.22969931647517633,
          0.5756343142379796,
          1.2419495328788337,
          0.2484676967568032,
          1.5108745019052454,
          0.1781643691802824,
          -0.7239239997563465,
          -0.5524484345105191,
          -0.4542635822135648,
          1.239574019326204,
          -1.5166528118645612,
          0.1747359681792644,
          1.634349529239444,
          1.003128860486491,
          1.2316416206606728,
          -0.17373482053450465,
          0.6162503121616846,
          -0.296214462536699,
          -0.5833585512581337,
          -0.4948835396241225,
          -0.8975781417605502,
          0.09909788460379772,
          0.6993703963369102,
          -0.8098029075127882,
          -0.26295061467659503,
          -0.8758753227702814,
          -2.1778422617440167,
          1.342235000783719,
          0.5991546221405155,
          -0.4741195581901758,
          -1.1317104802699056,
          1.4645657932255527,
          -0.5061935595988273
         ],
         "xaxis": "x12",
         "y": [
          -0.26802567468283556,
          0.4072064013410601,
          0.6461005840226851,
          -0.585094742432191,
          0.3573995808954022,
          0.32157802210804975,
          -0.16919911676177468,
          -0.6706351029537011,
          1.0804040578855634,
          0.28189287438921745,
          -0.36165626203156503,
          0.40971416164952523,
          1.4437380666462036,
          -0.005032774531809589,
          0.43212530479678285,
          -0.10952316599517305,
          0.38262622234589144,
          0.6467377811036394,
          0.8685111970322607,
          -0.7510330180894015,
          -1.3548579307174067,
          0.8498325036801762,
          0.8060292524603478,
          -0.05838667707323915,
          0.4463018940239507,
          -0.8859584831710968,
          -0.7689079747608597,
          -0.33101433492673465,
          -0.16646933127108451,
          -2.2234210272232295,
          0.09320745950272975,
          0.09399434578019715,
          1.1755308625746566,
          0.04959081536101905,
          -0.12548887832494862,
          0.553291027320834,
          -0.006846847112921158,
          -1.0940902480963026,
          1.6992610567702078,
          -1.2201513753331235,
          -1.016998263095646,
          1.2410220960272613,
          0.5650521741319647,
          0.3948693228115939,
          -0.34898058136686005,
          0.041142085742882646,
          -0.40728021294539435,
          -0.3383063368079199,
          -0.3064599522234884,
          -1.5547550522193543,
          0.8990539365717387,
          -1.0357492276649602,
          -1.7055721268397044,
          -0.9353285485181945,
          0.40881727840120746,
          1.0457842403635524,
          1.16072135846228,
          0.7733499372932843,
          0.06912451400348932,
          1.7668257964874858,
          -0.07370408678810107,
          -0.5992648954960853,
          0.0031839077604649863,
          -0.15511925879835184,
          1.2553790745400344,
          0.9800336531789141,
          -0.5852912967995566,
          2.6036916226598654,
          -0.9272942988762053,
          0.6237809786781634,
          1.0568500925681823,
          -1.09659045862584,
          -0.17215484003221654,
          0.43585654614856795,
          -0.9267392510841177,
          0.08561210853793365,
          -0.3289460799806062,
          0.36408037266220034,
          -0.6158920904266694,
          1.8758077683489707,
          -0.2488697686696133,
          0.08909926398044783,
          -0.019913649723522293,
          -1.5108509182391463,
          0.10809714907300454,
          0.8552468524058905,
          -0.12208852143184143,
          0.2991215257437905,
          -1.1485090797225774,
          -0.5535953264037937,
          -1.662812170312761,
          -0.1404449423341458,
          1.2988339639252369,
          1.16562945649828,
          -0.2227008673477981,
          -0.5308299782064171,
          2.509031912866535,
          -0.6009943623260816,
          1.1700763481812035,
          0.35973613592097686
         ],
         "yaxis": "y12"
        },
        {
         "line": {
          "color": "rgba(128, 128, 128, 1.0)",
          "dash": "solid",
          "shape": "linear",
          "width": 1.3
         },
         "marker": {
          "size": 2,
          "symbol": "circle"
         },
         "mode": "markers",
         "name": "D",
         "text": "",
         "type": "scatter",
         "x": [
          -0.9295482987691611,
          0.4996509360917784,
          -0.31178784381970565,
          -0.2591828995133058,
          -0.2403254599818755,
          0.30007424500314445,
          -1.9519399516746074,
          0.36101710108782775,
          1.1405599367929218,
          -1.0796063330029473,
          0.5190388920390553,
          1.5295361900831612,
          2.2008109795602016,
          0.8296048530293078,
          -0.21937304858767648,
          -0.9074792394033,
          -0.2871592266959784,
          -0.05545890921396091,
          -0.4966932594692695,
          -0.2128516157570282,
          1.124592371454574,
          0.6228995695801925,
          0.9256230617994263,
          -1.768887800317044,
          -0.2874149202115096,
          -0.7825545526319378,
          -2.64432200458736,
          0.7457461109123886,
          -1.1428281744977538,
          1.2210663863390592,
          -0.9131644958788138,
          0.13217834318366903,
          0.6381113620115724,
          1.4342735786591516,
          -0.5436898268763243,
          0.7137862193664714,
          0.5120364676493256,
          -2.0607142312389986,
          0.07250257019407771,
          -0.6579877485369979,
          -1.1492108033028867,
          -2.2536437617141516,
          1.0563020796557212,
          -1.0720178624058692,
          -1.1189016921464603,
          -0.29284164619717207,
          -0.20830520279926823,
          1.0822730128583236,
          1.0213249027809796,
          1.2876384897836826,
          1.8125915692022887,
          -0.3517345744446924,
          0.45361035245361936,
          -0.7548380530713608,
          0.4509916465215894,
          0.010825510343471153,
          1.1954626376691377,
          1.7044799601908844,
          -0.2512587274155817,
          -0.007463326957457436,
          1.5214107591436405,
          0.34186384567971756,
          -0.34838956178384545,
          -0.02149537492129532,
          -0.2557559357224352,
          1.8115002849071817,
          0.8989054113028747,
          -0.8478793667167331,
          -0.4388345973955879,
          0.5897765192462224,
          0.9169989960247112,
          -0.29584764364758287,
          0.40964963403229865,
          -0.2765551854394092,
          0.7309271904230744,
          -0.05169151931672703,
          -0.6487263477835327,
          -0.15937602857333696,
          -0.669650111705374,
          1.6529366895888808,
          0.2725091941094338,
          -0.84418871539521,
          -1.0214046898022509,
          -0.5985785583610419,
          0.9281497551503964,
          -1.4386926646965128,
          1.6413444776995776,
          -2.2123830364218984,
          0.7903787489224429,
          -1.0744732634516792,
          0.745393189760668,
          0.4996178124858752,
          -0.46560119110781123,
          0.15969763101542492,
          0.142503896532929,
          1.3709466265440287,
          0.9711336472637876,
          -0.38754055633141615,
          -1.1752089873333424,
          0.27340068072325535
         ],
         "xaxis": "x13",
         "y": [
          0.7068382862261344,
          -1.1354893661264782,
          -1.7781266223186643,
          -0.9993895145453797,
          0.7042164203531522,
          0.9560405384881885,
          0.6661290584108193,
          -0.17098627336289118,
          -0.47884943263231966,
          -2.364822463910428,
          -0.0008059323625490484,
          0.6236349146203897,
          0.5037184545770702,
          1.1317450982256376,
          0.5119154714049131,
          0.35932707096735206,
          -0.3663534598741199,
          1.1365877533477184,
          0.25417329023146695,
          -0.44218525948407367,
          -0.20119332766821338,
          1.608501409910512,
          -0.2712631460420925,
          -1.6439170779887486,
          0.17876806439418744,
          -1.288364838351231,
          1.2805278667353834,
          -1.0964905172034007,
          0.30062751958857203,
          -0.6195883464015917,
          1.3953980794196124,
          -1.208577640700005,
          0.960288245147989,
          -0.10901010075566653,
          -2.3995701108243384,
          -0.36352542201312005,
          0.520071777572679,
          0.5870382951239345,
          -0.8908329994099303,
          -0.46467533439840847,
          0.44781348803887583,
          1.5502356297804298,
          -0.09040555203215514,
          -0.007487830982206106,
          0.06304393372088818,
          -0.6021066876958482,
          -1.0452906870455307,
          0.04280170582626668,
          -0.374925053066271,
          -0.4093096611172787,
          -0.6815199755518858,
          -1.3584991478390136,
          -0.21632291529302258,
          1.11653509881535,
          -0.5512004547220558,
          0.7478135005541695,
          -0.7490802983477098,
          -0.7604155260542467,
          0.6323449927814072,
          0.48741777333043423,
          0.6738819084446128,
          0.346537145554769,
          -1.3061140130711606,
          0.8523478278571408,
          -0.2674966200617749,
          1.4248199828370094,
          -1.361545126902172,
          -0.22969931647517633,
          0.5756343142379796,
          1.2419495328788337,
          0.2484676967568032,
          1.5108745019052454,
          0.1781643691802824,
          -0.7239239997563465,
          -0.5524484345105191,
          -0.4542635822135648,
          1.239574019326204,
          -1.5166528118645612,
          0.1747359681792644,
          1.634349529239444,
          1.003128860486491,
          1.2316416206606728,
          -0.17373482053450465,
          0.6162503121616846,
          -0.296214462536699,
          -0.5833585512581337,
          -0.4948835396241225,
          -0.8975781417605502,
          0.09909788460379772,
          0.6993703963369102,
          -0.8098029075127882,
          -0.26295061467659503,
          -0.8758753227702814,
          -2.1778422617440167,
          1.342235000783719,
          0.5991546221405155,
          -0.4741195581901758,
          -1.1317104802699056,
          1.4645657932255527,
          -0.5061935595988273
         ],
         "yaxis": "y13"
        },
        {
         "line": {
          "color": "rgba(128, 128, 128, 1.0)",
          "dash": "solid",
          "shape": "linear",
          "width": 1.3
         },
         "marker": {
          "size": 2,
          "symbol": "circle"
         },
         "mode": "markers",
         "name": "D",
         "text": "",
         "type": "scatter",
         "x": [
          0.10595209962862051,
          0.3368667122382836,
          -0.32861230975248373,
          -0.11664858440555267,
          -0.10862895251019854,
          0.14676101096132724,
          1.6550509248816598,
          0.3116991407512059,
          -1.5333273766171769,
          0.67351956523506,
          -0.23293658066056874,
          0.5298539546678004,
          1.2706339922049268,
          1.4485075051766172,
          0.6779059423904159,
          -0.7164141937146591,
          0.8245757552822287,
          2.4213154151349485,
          -0.6875266309878802,
          -0.19741347908494278,
          0.6573721821252815,
          0.2773927166267599,
          0.18443657890013604,
          0.20841105872778784,
          1.014443830916647,
          -0.6614530154293072,
          0.7795405780388421,
          1.1763647687901904,
          -1.426400518831791,
          -0.8862199762393453,
          -0.5432851756689908,
          0.5612441198207622,
          0.14759371236534652,
          -1.569694238419562,
          2.2741377167085077,
          -1.3286017158605619,
          -0.6547759337607292,
          0.5409293803814273,
          -1.7140672889540483,
          -0.838762524216867,
          2.052568027382253,
          1.2479484516423567,
          -0.5050471421968736,
          1.3906132917773977,
          0.9304278500231088,
          -0.5005788549389664,
          1.0139570932698092,
          1.4099756691177323,
          -0.7284825751458816,
          0.47323279459070394,
          -0.8126917762346638,
          0.6377954621777114,
          -0.3174047711249694,
          -1.7756135983404886,
          -0.2363797892406345,
          -0.7970716486495877,
          -0.3332925771997845,
          0.3137937224354294,
          -0.612749019434206,
          -0.07558111642014288,
          -0.9898859959734786,
          -0.45302566262413996,
          -0.542805561663329,
          -1.2844203082105614,
          -0.11354301196306125,
          -2.546874494300865,
          0.9872274735141424,
          -2.4060412325529983,
          0.7406303040060868,
          1.3494134213350881,
          -0.08353953585239972,
          -0.8649105520646212,
          0.5482770228978523,
          0.3018624903593867,
          -1.2696542402185156,
          -0.503774941664004,
          -0.4457561076351454,
          0.34242334816657516,
          -0.11692153010067262,
          -0.7692072862521319,
          -0.3210876224228783,
          -1.3428735501149156,
          0.08140321965759581,
          1.4726724276119887,
          -1.6872778504307941,
          0.7379616404172885,
          0.7541415956944442,
          0.6119192924558464,
          -0.6805248104558588,
          -0.011614579413123783,
          -0.9751368919345605,
          0.1766886661379514,
          -0.4773258381639982,
          -1.7259606922075275,
          -0.09290092035809304,
          -0.34934252493462165,
          -0.5455826577301464,
          1.223290635135926,
          -1.332442683803005,
          -0.4849294268598528
         ],
         "xaxis": "x14",
         "y": [
          0.7068382862261344,
          -1.1354893661264782,
          -1.7781266223186643,
          -0.9993895145453797,
          0.7042164203531522,
          0.9560405384881885,
          0.6661290584108193,
          -0.17098627336289118,
          -0.47884943263231966,
          -2.364822463910428,
          -0.0008059323625490484,
          0.6236349146203897,
          0.5037184545770702,
          1.1317450982256376,
          0.5119154714049131,
          0.35932707096735206,
          -0.3663534598741199,
          1.1365877533477184,
          0.25417329023146695,
          -0.44218525948407367,
          -0.20119332766821338,
          1.608501409910512,
          -0.2712631460420925,
          -1.6439170779887486,
          0.17876806439418744,
          -1.288364838351231,
          1.2805278667353834,
          -1.0964905172034007,
          0.30062751958857203,
          -0.6195883464015917,
          1.3953980794196124,
          -1.208577640700005,
          0.960288245147989,
          -0.10901010075566653,
          -2.3995701108243384,
          -0.36352542201312005,
          0.520071777572679,
          0.5870382951239345,
          -0.8908329994099303,
          -0.46467533439840847,
          0.44781348803887583,
          1.5502356297804298,
          -0.09040555203215514,
          -0.007487830982206106,
          0.06304393372088818,
          -0.6021066876958482,
          -1.0452906870455307,
          0.04280170582626668,
          -0.374925053066271,
          -0.4093096611172787,
          -0.6815199755518858,
          -1.3584991478390136,
          -0.21632291529302258,
          1.11653509881535,
          -0.5512004547220558,
          0.7478135005541695,
          -0.7490802983477098,
          -0.7604155260542467,
          0.6323449927814072,
          0.48741777333043423,
          0.6738819084446128,
          0.346537145554769,
          -1.3061140130711606,
          0.8523478278571408,
          -0.2674966200617749,
          1.4248199828370094,
          -1.361545126902172,
          -0.22969931647517633,
          0.5756343142379796,
          1.2419495328788337,
          0.2484676967568032,
          1.5108745019052454,
          0.1781643691802824,
          -0.7239239997563465,
          -0.5524484345105191,
          -0.4542635822135648,
          1.239574019326204,
          -1.5166528118645612,
          0.1747359681792644,
          1.634349529239444,
          1.003128860486491,
          1.2316416206606728,
          -0.17373482053450465,
          0.6162503121616846,
          -0.296214462536699,
          -0.5833585512581337,
          -0.4948835396241225,
          -0.8975781417605502,
          0.09909788460379772,
          0.6993703963369102,
          -0.8098029075127882,
          -0.26295061467659503,
          -0.8758753227702814,
          -2.1778422617440167,
          1.342235000783719,
          0.5991546221405155,
          -0.4741195581901758,
          -1.1317104802699056,
          1.4645657932255527,
          -0.5061935595988273
         ],
         "yaxis": "y14"
        },
        {
         "line": {
          "color": "rgba(128, 128, 128, 1.0)",
          "dash": "solid",
          "shape": "linear",
          "width": 1.3
         },
         "marker": {
          "size": 2,
          "symbol": "circle"
         },
         "mode": "markers",
         "name": "D",
         "text": "",
         "type": "scatter",
         "x": [
          -0.26802567468283556,
          0.4072064013410601,
          0.6461005840226851,
          -0.585094742432191,
          0.3573995808954022,
          0.32157802210804975,
          -0.16919911676177468,
          -0.6706351029537011,
          1.0804040578855634,
          0.28189287438921745,
          -0.36165626203156503,
          0.40971416164952523,
          1.4437380666462036,
          -0.005032774531809589,
          0.43212530479678285,
          -0.10952316599517305,
          0.38262622234589144,
          0.6467377811036394,
          0.8685111970322607,
          -0.7510330180894015,
          -1.3548579307174067,
          0.8498325036801762,
          0.8060292524603478,
          -0.05838667707323915,
          0.4463018940239507,
          -0.8859584831710968,
          -0.7689079747608597,
          -0.33101433492673465,
          -0.16646933127108451,
          -2.2234210272232295,
          0.09320745950272975,
          0.09399434578019715,
          1.1755308625746566,
          0.04959081536101905,
          -0.12548887832494862,
          0.553291027320834,
          -0.006846847112921158,
          -1.0940902480963026,
          1.6992610567702078,
          -1.2201513753331235,
          -1.016998263095646,
          1.2410220960272613,
          0.5650521741319647,
          0.3948693228115939,
          -0.34898058136686005,
          0.041142085742882646,
          -0.40728021294539435,
          -0.3383063368079199,
          -0.3064599522234884,
          -1.5547550522193543,
          0.8990539365717387,
          -1.0357492276649602,
          -1.7055721268397044,
          -0.9353285485181945,
          0.40881727840120746,
          1.0457842403635524,
          1.16072135846228,
          0.7733499372932843,
          0.06912451400348932,
          1.7668257964874858,
          -0.07370408678810107,
          -0.5992648954960853,
          0.0031839077604649863,
          -0.15511925879835184,
          1.2553790745400344,
          0.9800336531789141,
          -0.5852912967995566,
          2.6036916226598654,
          -0.9272942988762053,
          0.6237809786781634,
          1.0568500925681823,
          -1.09659045862584,
          -0.17215484003221654,
          0.43585654614856795,
          -0.9267392510841177,
          0.08561210853793365,
          -0.3289460799806062,
          0.36408037266220034,
          -0.6158920904266694,
          1.8758077683489707,
          -0.2488697686696133,
          0.08909926398044783,
          -0.019913649723522293,
          -1.5108509182391463,
          0.10809714907300454,
          0.8552468524058905,
          -0.12208852143184143,
          0.2991215257437905,
          -1.1485090797225774,
          -0.5535953264037937,
          -1.662812170312761,
          -0.1404449423341458,
          1.2988339639252369,
          1.16562945649828,
          -0.2227008673477981,
          -0.5308299782064171,
          2.509031912866535,
          -0.6009943623260816,
          1.1700763481812035,
          0.35973613592097686
         ],
         "xaxis": "x15",
         "y": [
          0.7068382862261344,
          -1.1354893661264782,
          -1.7781266223186643,
          -0.9993895145453797,
          0.7042164203531522,
          0.9560405384881885,
          0.6661290584108193,
          -0.17098627336289118,
          -0.47884943263231966,
          -2.364822463910428,
          -0.0008059323625490484,
          0.6236349146203897,
          0.5037184545770702,
          1.1317450982256376,
          0.5119154714049131,
          0.35932707096735206,
          -0.3663534598741199,
          1.1365877533477184,
          0.25417329023146695,
          -0.44218525948407367,
          -0.20119332766821338,
          1.608501409910512,
          -0.2712631460420925,
          -1.6439170779887486,
          0.17876806439418744,
          -1.288364838351231,
          1.2805278667353834,
          -1.0964905172034007,
          0.30062751958857203,
          -0.6195883464015917,
          1.3953980794196124,
          -1.208577640700005,
          0.960288245147989,
          -0.10901010075566653,
          -2.3995701108243384,
          -0.36352542201312005,
          0.520071777572679,
          0.5870382951239345,
          -0.8908329994099303,
          -0.46467533439840847,
          0.44781348803887583,
          1.5502356297804298,
          -0.09040555203215514,
          -0.007487830982206106,
          0.06304393372088818,
          -0.6021066876958482,
          -1.0452906870455307,
          0.04280170582626668,
          -0.374925053066271,
          -0.4093096611172787,
          -0.6815199755518858,
          -1.3584991478390136,
          -0.21632291529302258,
          1.11653509881535,
          -0.5512004547220558,
          0.7478135005541695,
          -0.7490802983477098,
          -0.7604155260542467,
          0.6323449927814072,
          0.48741777333043423,
          0.6738819084446128,
          0.346537145554769,
          -1.3061140130711606,
          0.8523478278571408,
          -0.2674966200617749,
          1.4248199828370094,
          -1.361545126902172,
          -0.22969931647517633,
          0.5756343142379796,
          1.2419495328788337,
          0.2484676967568032,
          1.5108745019052454,
          0.1781643691802824,
          -0.7239239997563465,
          -0.5524484345105191,
          -0.4542635822135648,
          1.239574019326204,
          -1.5166528118645612,
          0.1747359681792644,
          1.634349529239444,
          1.003128860486491,
          1.2316416206606728,
          -0.17373482053450465,
          0.6162503121616846,
          -0.296214462536699,
          -0.5833585512581337,
          -0.4948835396241225,
          -0.8975781417605502,
          0.09909788460379772,
          0.6993703963369102,
          -0.8098029075127882,
          -0.26295061467659503,
          -0.8758753227702814,
          -2.1778422617440167,
          1.342235000783719,
          0.5991546221405155,
          -0.4741195581901758,
          -1.1317104802699056,
          1.4645657932255527,
          -0.5061935595988273
         ],
         "yaxis": "y15"
        },
        {
         "histfunc": "count",
         "histnorm": "",
         "marker": {
          "color": "rgba(128, 0, 128, 1.0)",
          "line": {
           "color": "#4D5663",
           "width": 1.3
          }
         },
         "name": "D",
         "nbinsx": 10,
         "opacity": 0.8,
         "orientation": "v",
         "type": "histogram",
         "x": [
          0.7068382862261344,
          -1.1354893661264782,
          -1.7781266223186643,
          -0.9993895145453797,
          0.7042164203531522,
          0.9560405384881885,
          0.6661290584108193,
          -0.17098627336289118,
          -0.47884943263231966,
          -2.364822463910428,
          -0.0008059323625490484,
          0.6236349146203897,
          0.5037184545770702,
          1.1317450982256376,
          0.5119154714049131,
          0.35932707096735206,
          -0.3663534598741199,
          1.1365877533477184,
          0.25417329023146695,
          -0.44218525948407367,
          -0.20119332766821338,
          1.608501409910512,
          -0.2712631460420925,
          -1.6439170779887486,
          0.17876806439418744,
          -1.288364838351231,
          1.2805278667353834,
          -1.0964905172034007,
          0.30062751958857203,
          -0.6195883464015917,
          1.3953980794196124,
          -1.208577640700005,
          0.960288245147989,
          -0.10901010075566653,
          -2.3995701108243384,
          -0.36352542201312005,
          0.520071777572679,
          0.5870382951239345,
          -0.8908329994099303,
          -0.46467533439840847,
          0.44781348803887583,
          1.5502356297804298,
          -0.09040555203215514,
          -0.007487830982206106,
          0.06304393372088818,
          -0.6021066876958482,
          -1.0452906870455307,
          0.04280170582626668,
          -0.374925053066271,
          -0.4093096611172787,
          -0.6815199755518858,
          -1.3584991478390136,
          -0.21632291529302258,
          1.11653509881535,
          -0.5512004547220558,
          0.7478135005541695,
          -0.7490802983477098,
          -0.7604155260542467,
          0.6323449927814072,
          0.48741777333043423,
          0.6738819084446128,
          0.346537145554769,
          -1.3061140130711606,
          0.8523478278571408,
          -0.2674966200617749,
          1.4248199828370094,
          -1.361545126902172,
          -0.22969931647517633,
          0.5756343142379796,
          1.2419495328788337,
          0.2484676967568032,
          1.5108745019052454,
          0.1781643691802824,
          -0.7239239997563465,
          -0.5524484345105191,
          -0.4542635822135648,
          1.239574019326204,
          -1.5166528118645612,
          0.1747359681792644,
          1.634349529239444,
          1.003128860486491,
          1.2316416206606728,
          -0.17373482053450465,
          0.6162503121616846,
          -0.296214462536699,
          -0.5833585512581337,
          -0.4948835396241225,
          -0.8975781417605502,
          0.09909788460379772,
          0.6993703963369102,
          -0.8098029075127882,
          -0.26295061467659503,
          -0.8758753227702814,
          -2.1778422617440167,
          1.342235000783719,
          0.5991546221405155,
          -0.4741195581901758,
          -1.1317104802699056,
          1.4645657932255527,
          -0.5061935595988273
         ],
         "xaxis": "x16",
         "yaxis": "y16"
        }
       ],
       "layout": {
        "bargap": 0.02,
        "legend": {
         "bgcolor": "#F5F6F9",
         "font": {
          "color": "#4D5663"
         }
        },
        "paper_bgcolor": "#F5F6F9",
        "plot_bgcolor": "#F5F6F9",
        "showlegend": false,
        "template": {
         "data": {
          "bar": [
           {
            "error_x": {
             "color": "#2a3f5f"
            },
            "error_y": {
             "color": "#2a3f5f"
            },
            "marker": {
             "line": {
              "color": "#E5ECF6",
              "width": 0.5
             },
             "pattern": {
              "fillmode": "overlay",
              "size": 10,
              "solidity": 0.2
             }
            },
            "type": "bar"
           }
          ],
          "barpolar": [
           {
            "marker": {
             "line": {
              "color": "#E5ECF6",
              "width": 0.5
             },
             "pattern": {
              "fillmode": "overlay",
              "size": 10,
              "solidity": 0.2
             }
            },
            "type": "barpolar"
           }
          ],
          "carpet": [
           {
            "aaxis": {
             "endlinecolor": "#2a3f5f",
             "gridcolor": "white",
             "linecolor": "white",
             "minorgridcolor": "white",
             "startlinecolor": "#2a3f5f"
            },
            "baxis": {
             "endlinecolor": "#2a3f5f",
             "gridcolor": "white",
             "linecolor": "white",
             "minorgridcolor": "white",
             "startlinecolor": "#2a3f5f"
            },
            "type": "carpet"
           }
          ],
          "choropleth": [
           {
            "colorbar": {
             "outlinewidth": 0,
             "ticks": ""
            },
            "type": "choropleth"
           }
          ],
          "contour": [
           {
            "colorbar": {
             "outlinewidth": 0,
             "ticks": ""
            },
            "colorscale": [
             [
              0,
              "#0d0887"
             ],
             [
              0.1111111111111111,
              "#46039f"
             ],
             [
              0.2222222222222222,
              "#7201a8"
             ],
             [
              0.3333333333333333,
              "#9c179e"
             ],
             [
              0.4444444444444444,
              "#bd3786"
             ],
             [
              0.5555555555555556,
              "#d8576b"
             ],
             [
              0.6666666666666666,
              "#ed7953"
             ],
             [
              0.7777777777777778,
              "#fb9f3a"
             ],
             [
              0.8888888888888888,
              "#fdca26"
             ],
             [
              1,
              "#f0f921"
             ]
            ],
            "type": "contour"
           }
          ],
          "contourcarpet": [
           {
            "colorbar": {
             "outlinewidth": 0,
             "ticks": ""
            },
            "type": "contourcarpet"
           }
          ],
          "heatmap": [
           {
            "colorbar": {
             "outlinewidth": 0,
             "ticks": ""
            },
            "colorscale": [
             [
              0,
              "#0d0887"
             ],
             [
              0.1111111111111111,
              "#46039f"
             ],
             [
              0.2222222222222222,
              "#7201a8"
             ],
             [
              0.3333333333333333,
              "#9c179e"
             ],
             [
              0.4444444444444444,
              "#bd3786"
             ],
             [
              0.5555555555555556,
              "#d8576b"
             ],
             [
              0.6666666666666666,
              "#ed7953"
             ],
             [
              0.7777777777777778,
              "#fb9f3a"
             ],
             [
              0.8888888888888888,
              "#fdca26"
             ],
             [
              1,
              "#f0f921"
             ]
            ],
            "type": "heatmap"
           }
          ],
          "heatmapgl": [
           {
            "colorbar": {
             "outlinewidth": 0,
             "ticks": ""
            },
            "colorscale": [
             [
              0,
              "#0d0887"
             ],
             [
              0.1111111111111111,
              "#46039f"
             ],
             [
              0.2222222222222222,
              "#7201a8"
             ],
             [
              0.3333333333333333,
              "#9c179e"
             ],
             [
              0.4444444444444444,
              "#bd3786"
             ],
             [
              0.5555555555555556,
              "#d8576b"
             ],
             [
              0.6666666666666666,
              "#ed7953"
             ],
             [
              0.7777777777777778,
              "#fb9f3a"
             ],
             [
              0.8888888888888888,
              "#fdca26"
             ],
             [
              1,
              "#f0f921"
             ]
            ],
            "type": "heatmapgl"
           }
          ],
          "histogram": [
           {
            "marker": {
             "pattern": {
              "fillmode": "overlay",
              "size": 10,
              "solidity": 0.2
             }
            },
            "type": "histogram"
           }
          ],
          "histogram2d": [
           {
            "colorbar": {
             "outlinewidth": 0,
             "ticks": ""
            },
            "colorscale": [
             [
              0,
              "#0d0887"
             ],
             [
              0.1111111111111111,
              "#46039f"
             ],
             [
              0.2222222222222222,
              "#7201a8"
             ],
             [
              0.3333333333333333,
              "#9c179e"
             ],
             [
              0.4444444444444444,
              "#bd3786"
             ],
             [
              0.5555555555555556,
              "#d8576b"
             ],
             [
              0.6666666666666666,
              "#ed7953"
             ],
             [
              0.7777777777777778,
              "#fb9f3a"
             ],
             [
              0.8888888888888888,
              "#fdca26"
             ],
             [
              1,
              "#f0f921"
             ]
            ],
            "type": "histogram2d"
           }
          ],
          "histogram2dcontour": [
           {
            "colorbar": {
             "outlinewidth": 0,
             "ticks": ""
            },
            "colorscale": [
             [
              0,
              "#0d0887"
             ],
             [
              0.1111111111111111,
              "#46039f"
             ],
             [
              0.2222222222222222,
              "#7201a8"
             ],
             [
              0.3333333333333333,
              "#9c179e"
             ],
             [
              0.4444444444444444,
              "#bd3786"
             ],
             [
              0.5555555555555556,
              "#d8576b"
             ],
             [
              0.6666666666666666,
              "#ed7953"
             ],
             [
              0.7777777777777778,
              "#fb9f3a"
             ],
             [
              0.8888888888888888,
              "#fdca26"
             ],
             [
              1,
              "#f0f921"
             ]
            ],
            "type": "histogram2dcontour"
           }
          ],
          "mesh3d": [
           {
            "colorbar": {
             "outlinewidth": 0,
             "ticks": ""
            },
            "type": "mesh3d"
           }
          ],
          "parcoords": [
           {
            "line": {
             "colorbar": {
              "outlinewidth": 0,
              "ticks": ""
             }
            },
            "type": "parcoords"
           }
          ],
          "pie": [
           {
            "automargin": true,
            "type": "pie"
           }
          ],
          "scatter": [
           {
            "fillpattern": {
             "fillmode": "overlay",
             "size": 10,
             "solidity": 0.2
            },
            "type": "scatter"
           }
          ],
          "scatter3d": [
           {
            "line": {
             "colorbar": {
              "outlinewidth": 0,
              "ticks": ""
             }
            },
            "marker": {
             "colorbar": {
              "outlinewidth": 0,
              "ticks": ""
             }
            },
            "type": "scatter3d"
           }
          ],
          "scattercarpet": [
           {
            "marker": {
             "colorbar": {
              "outlinewidth": 0,
              "ticks": ""
             }
            },
            "type": "scattercarpet"
           }
          ],
          "scattergeo": [
           {
            "marker": {
             "colorbar": {
              "outlinewidth": 0,
              "ticks": ""
             }
            },
            "type": "scattergeo"
           }
          ],
          "scattergl": [
           {
            "marker": {
             "colorbar": {
              "outlinewidth": 0,
              "ticks": ""
             }
            },
            "type": "scattergl"
           }
          ],
          "scattermapbox": [
           {
            "marker": {
             "colorbar": {
              "outlinewidth": 0,
              "ticks": ""
             }
            },
            "type": "scattermapbox"
           }
          ],
          "scatterpolar": [
           {
            "marker": {
             "colorbar": {
              "outlinewidth": 0,
              "ticks": ""
             }
            },
            "type": "scatterpolar"
           }
          ],
          "scatterpolargl": [
           {
            "marker": {
             "colorbar": {
              "outlinewidth": 0,
              "ticks": ""
             }
            },
            "type": "scatterpolargl"
           }
          ],
          "scatterternary": [
           {
            "marker": {
             "colorbar": {
              "outlinewidth": 0,
              "ticks": ""
             }
            },
            "type": "scatterternary"
           }
          ],
          "surface": [
           {
            "colorbar": {
             "outlinewidth": 0,
             "ticks": ""
            },
            "colorscale": [
             [
              0,
              "#0d0887"
             ],
             [
              0.1111111111111111,
              "#46039f"
             ],
             [
              0.2222222222222222,
              "#7201a8"
             ],
             [
              0.3333333333333333,
              "#9c179e"
             ],
             [
              0.4444444444444444,
              "#bd3786"
             ],
             [
              0.5555555555555556,
              "#d8576b"
             ],
             [
              0.6666666666666666,
              "#ed7953"
             ],
             [
              0.7777777777777778,
              "#fb9f3a"
             ],
             [
              0.8888888888888888,
              "#fdca26"
             ],
             [
              1,
              "#f0f921"
             ]
            ],
            "type": "surface"
           }
          ],
          "table": [
           {
            "cells": {
             "fill": {
              "color": "#EBF0F8"
             },
             "line": {
              "color": "white"
             }
            },
            "header": {
             "fill": {
              "color": "#C8D4E3"
             },
             "line": {
              "color": "white"
             }
            },
            "type": "table"
           }
          ]
         },
         "layout": {
          "annotationdefaults": {
           "arrowcolor": "#2a3f5f",
           "arrowhead": 0,
           "arrowwidth": 1
          },
          "autotypenumbers": "strict",
          "coloraxis": {
           "colorbar": {
            "outlinewidth": 0,
            "ticks": ""
           }
          },
          "colorscale": {
           "diverging": [
            [
             0,
             "#8e0152"
            ],
            [
             0.1,
             "#c51b7d"
            ],
            [
             0.2,
             "#de77ae"
            ],
            [
             0.3,
             "#f1b6da"
            ],
            [
             0.4,
             "#fde0ef"
            ],
            [
             0.5,
             "#f7f7f7"
            ],
            [
             0.6,
             "#e6f5d0"
            ],
            [
             0.7,
             "#b8e186"
            ],
            [
             0.8,
             "#7fbc41"
            ],
            [
             0.9,
             "#4d9221"
            ],
            [
             1,
             "#276419"
            ]
           ],
           "sequential": [
            [
             0,
             "#0d0887"
            ],
            [
             0.1111111111111111,
             "#46039f"
            ],
            [
             0.2222222222222222,
             "#7201a8"
            ],
            [
             0.3333333333333333,
             "#9c179e"
            ],
            [
             0.4444444444444444,
             "#bd3786"
            ],
            [
             0.5555555555555556,
             "#d8576b"
            ],
            [
             0.6666666666666666,
             "#ed7953"
            ],
            [
             0.7777777777777778,
             "#fb9f3a"
            ],
            [
             0.8888888888888888,
             "#fdca26"
            ],
            [
             1,
             "#f0f921"
            ]
           ],
           "sequentialminus": [
            [
             0,
             "#0d0887"
            ],
            [
             0.1111111111111111,
             "#46039f"
            ],
            [
             0.2222222222222222,
             "#7201a8"
            ],
            [
             0.3333333333333333,
             "#9c179e"
            ],
            [
             0.4444444444444444,
             "#bd3786"
            ],
            [
             0.5555555555555556,
             "#d8576b"
            ],
            [
             0.6666666666666666,
             "#ed7953"
            ],
            [
             0.7777777777777778,
             "#fb9f3a"
            ],
            [
             0.8888888888888888,
             "#fdca26"
            ],
            [
             1,
             "#f0f921"
            ]
           ]
          },
          "colorway": [
           "#636efa",
           "#EF553B",
           "#00cc96",
           "#ab63fa",
           "#FFA15A",
           "#19d3f3",
           "#FF6692",
           "#B6E880",
           "#FF97FF",
           "#FECB52"
          ],
          "font": {
           "color": "#2a3f5f"
          },
          "geo": {
           "bgcolor": "white",
           "lakecolor": "white",
           "landcolor": "#E5ECF6",
           "showlakes": true,
           "showland": true,
           "subunitcolor": "white"
          },
          "hoverlabel": {
           "align": "left"
          },
          "hovermode": "closest",
          "mapbox": {
           "style": "light"
          },
          "paper_bgcolor": "white",
          "plot_bgcolor": "#E5ECF6",
          "polar": {
           "angularaxis": {
            "gridcolor": "white",
            "linecolor": "white",
            "ticks": ""
           },
           "bgcolor": "#E5ECF6",
           "radialaxis": {
            "gridcolor": "white",
            "linecolor": "white",
            "ticks": ""
           }
          },
          "scene": {
           "xaxis": {
            "backgroundcolor": "#E5ECF6",
            "gridcolor": "white",
            "gridwidth": 2,
            "linecolor": "white",
            "showbackground": true,
            "ticks": "",
            "zerolinecolor": "white"
           },
           "yaxis": {
            "backgroundcolor": "#E5ECF6",
            "gridcolor": "white",
            "gridwidth": 2,
            "linecolor": "white",
            "showbackground": true,
            "ticks": "",
            "zerolinecolor": "white"
           },
           "zaxis": {
            "backgroundcolor": "#E5ECF6",
            "gridcolor": "white",
            "gridwidth": 2,
            "linecolor": "white",
            "showbackground": true,
            "ticks": "",
            "zerolinecolor": "white"
           }
          },
          "shapedefaults": {
           "line": {
            "color": "#2a3f5f"
           }
          },
          "ternary": {
           "aaxis": {
            "gridcolor": "white",
            "linecolor": "white",
            "ticks": ""
           },
           "baxis": {
            "gridcolor": "white",
            "linecolor": "white",
            "ticks": ""
           },
           "bgcolor": "#E5ECF6",
           "caxis": {
            "gridcolor": "white",
            "linecolor": "white",
            "ticks": ""
           }
          },
          "title": {
           "x": 0.05
          },
          "xaxis": {
           "automargin": true,
           "gridcolor": "white",
           "linecolor": "white",
           "ticks": "",
           "title": {
            "standoff": 15
           },
           "zerolinecolor": "white",
           "zerolinewidth": 2
          },
          "yaxis": {
           "automargin": true,
           "gridcolor": "white",
           "linecolor": "white",
           "ticks": "",
           "title": {
            "standoff": 15
           },
           "zerolinecolor": "white",
           "zerolinewidth": 2
          }
         }
        },
        "title": {
         "font": {
          "color": "#4D5663"
         }
        },
        "xaxis": {
         "anchor": "y",
         "domain": [
          0,
          0.2125
         ],
         "gridcolor": "#E1E5ED",
         "showgrid": false,
         "tickfont": {
          "color": "#4D5663"
         },
         "title": {
          "font": {
           "color": "#4D5663"
          },
          "text": ""
         },
         "zerolinecolor": "#E1E5ED"
        },
        "xaxis10": {
         "anchor": "y10",
         "domain": [
          0.2625,
          0.475
         ],
         "gridcolor": "#E1E5ED",
         "showgrid": false,
         "tickfont": {
          "color": "#4D5663"
         },
         "title": {
          "font": {
           "color": "#4D5663"
          },
          "text": ""
         },
         "zerolinecolor": "#E1E5ED"
        },
        "xaxis11": {
         "anchor": "y11",
         "domain": [
          0.525,
          0.7375
         ],
         "gridcolor": "#E1E5ED",
         "showgrid": false,
         "tickfont": {
          "color": "#4D5663"
         },
         "title": {
          "font": {
           "color": "#4D5663"
          },
          "text": ""
         },
         "zerolinecolor": "#E1E5ED"
        },
        "xaxis12": {
         "anchor": "y12",
         "domain": [
          0.7875,
          1
         ],
         "gridcolor": "#E1E5ED",
         "showgrid": false,
         "tickfont": {
          "color": "#4D5663"
         },
         "title": {
          "font": {
           "color": "#4D5663"
          },
          "text": ""
         },
         "zerolinecolor": "#E1E5ED"
        },
        "xaxis13": {
         "anchor": "y13",
         "domain": [
          0,
          0.2125
         ],
         "gridcolor": "#E1E5ED",
         "showgrid": false,
         "tickfont": {
          "color": "#4D5663"
         },
         "title": {
          "font": {
           "color": "#4D5663"
          },
          "text": ""
         },
         "zerolinecolor": "#E1E5ED"
        },
        "xaxis14": {
         "anchor": "y14",
         "domain": [
          0.2625,
          0.475
         ],
         "gridcolor": "#E1E5ED",
         "showgrid": false,
         "tickfont": {
          "color": "#4D5663"
         },
         "title": {
          "font": {
           "color": "#4D5663"
          },
          "text": ""
         },
         "zerolinecolor": "#E1E5ED"
        },
        "xaxis15": {
         "anchor": "y15",
         "domain": [
          0.525,
          0.7375
         ],
         "gridcolor": "#E1E5ED",
         "showgrid": false,
         "tickfont": {
          "color": "#4D5663"
         },
         "title": {
          "font": {
           "color": "#4D5663"
          },
          "text": ""
         },
         "zerolinecolor": "#E1E5ED"
        },
        "xaxis16": {
         "anchor": "y16",
         "domain": [
          0.7875,
          1
         ],
         "gridcolor": "#E1E5ED",
         "showgrid": false,
         "tickfont": {
          "color": "#4D5663"
         },
         "title": {
          "font": {
           "color": "#4D5663"
          },
          "text": ""
         },
         "zerolinecolor": "#E1E5ED"
        },
        "xaxis2": {
         "anchor": "y2",
         "domain": [
          0.2625,
          0.475
         ],
         "gridcolor": "#E1E5ED",
         "showgrid": false,
         "tickfont": {
          "color": "#4D5663"
         },
         "title": {
          "font": {
           "color": "#4D5663"
          },
          "text": ""
         },
         "zerolinecolor": "#E1E5ED"
        },
        "xaxis3": {
         "anchor": "y3",
         "domain": [
          0.525,
          0.7375
         ],
         "gridcolor": "#E1E5ED",
         "showgrid": false,
         "tickfont": {
          "color": "#4D5663"
         },
         "title": {
          "font": {
           "color": "#4D5663"
          },
          "text": ""
         },
         "zerolinecolor": "#E1E5ED"
        },
        "xaxis4": {
         "anchor": "y4",
         "domain": [
          0.7875,
          1
         ],
         "gridcolor": "#E1E5ED",
         "showgrid": false,
         "tickfont": {
          "color": "#4D5663"
         },
         "title": {
          "font": {
           "color": "#4D5663"
          },
          "text": ""
         },
         "zerolinecolor": "#E1E5ED"
        },
        "xaxis5": {
         "anchor": "y5",
         "domain": [
          0,
          0.2125
         ],
         "gridcolor": "#E1E5ED",
         "showgrid": false,
         "tickfont": {
          "color": "#4D5663"
         },
         "title": {
          "font": {
           "color": "#4D5663"
          },
          "text": ""
         },
         "zerolinecolor": "#E1E5ED"
        },
        "xaxis6": {
         "anchor": "y6",
         "domain": [
          0.2625,
          0.475
         ],
         "gridcolor": "#E1E5ED",
         "showgrid": false,
         "tickfont": {
          "color": "#4D5663"
         },
         "title": {
          "font": {
           "color": "#4D5663"
          },
          "text": ""
         },
         "zerolinecolor": "#E1E5ED"
        },
        "xaxis7": {
         "anchor": "y7",
         "domain": [
          0.525,
          0.7375
         ],
         "gridcolor": "#E1E5ED",
         "showgrid": false,
         "tickfont": {
          "color": "#4D5663"
         },
         "title": {
          "font": {
           "color": "#4D5663"
          },
          "text": ""
         },
         "zerolinecolor": "#E1E5ED"
        },
        "xaxis8": {
         "anchor": "y8",
         "domain": [
          0.7875,
          1
         ],
         "gridcolor": "#E1E5ED",
         "showgrid": false,
         "tickfont": {
          "color": "#4D5663"
         },
         "title": {
          "font": {
           "color": "#4D5663"
          },
          "text": ""
         },
         "zerolinecolor": "#E1E5ED"
        },
        "xaxis9": {
         "anchor": "y9",
         "domain": [
          0,
          0.2125
         ],
         "gridcolor": "#E1E5ED",
         "showgrid": false,
         "tickfont": {
          "color": "#4D5663"
         },
         "title": {
          "font": {
           "color": "#4D5663"
          },
          "text": ""
         },
         "zerolinecolor": "#E1E5ED"
        },
        "yaxis": {
         "anchor": "x",
         "domain": [
          0.8025,
          1
         ],
         "gridcolor": "#E1E5ED",
         "showgrid": false,
         "tickfont": {
          "color": "#4D5663"
         },
         "title": {
          "font": {
           "color": "#4D5663"
          },
          "text": ""
         },
         "zerolinecolor": "#E1E5ED"
        },
        "yaxis10": {
         "anchor": "x10",
         "domain": [
          0.2675,
          0.465
         ],
         "gridcolor": "#E1E5ED",
         "showgrid": false,
         "tickfont": {
          "color": "#4D5663"
         },
         "title": {
          "font": {
           "color": "#4D5663"
          },
          "text": ""
         },
         "zerolinecolor": "#E1E5ED"
        },
        "yaxis11": {
         "anchor": "x11",
         "domain": [
          0.2675,
          0.465
         ],
         "gridcolor": "#E1E5ED",
         "showgrid": false,
         "tickfont": {
          "color": "#4D5663"
         },
         "title": {
          "font": {
           "color": "#4D5663"
          },
          "text": ""
         },
         "zerolinecolor": "#E1E5ED"
        },
        "yaxis12": {
         "anchor": "x12",
         "domain": [
          0.2675,
          0.465
         ],
         "gridcolor": "#E1E5ED",
         "showgrid": false,
         "tickfont": {
          "color": "#4D5663"
         },
         "title": {
          "font": {
           "color": "#4D5663"
          },
          "text": ""
         },
         "zerolinecolor": "#E1E5ED"
        },
        "yaxis13": {
         "anchor": "x13",
         "domain": [
          0,
          0.1975
         ],
         "gridcolor": "#E1E5ED",
         "showgrid": false,
         "tickfont": {
          "color": "#4D5663"
         },
         "title": {
          "font": {
           "color": "#4D5663"
          },
          "text": ""
         },
         "zerolinecolor": "#E1E5ED"
        },
        "yaxis14": {
         "anchor": "x14",
         "domain": [
          0,
          0.1975
         ],
         "gridcolor": "#E1E5ED",
         "showgrid": false,
         "tickfont": {
          "color": "#4D5663"
         },
         "title": {
          "font": {
           "color": "#4D5663"
          },
          "text": ""
         },
         "zerolinecolor": "#E1E5ED"
        },
        "yaxis15": {
         "anchor": "x15",
         "domain": [
          0,
          0.1975
         ],
         "gridcolor": "#E1E5ED",
         "showgrid": false,
         "tickfont": {
          "color": "#4D5663"
         },
         "title": {
          "font": {
           "color": "#4D5663"
          },
          "text": ""
         },
         "zerolinecolor": "#E1E5ED"
        },
        "yaxis16": {
         "anchor": "x16",
         "domain": [
          0,
          0.1975
         ],
         "gridcolor": "#E1E5ED",
         "showgrid": false,
         "tickfont": {
          "color": "#4D5663"
         },
         "title": {
          "font": {
           "color": "#4D5663"
          },
          "text": ""
         },
         "zerolinecolor": "#E1E5ED"
        },
        "yaxis2": {
         "anchor": "x2",
         "domain": [
          0.8025,
          1
         ],
         "gridcolor": "#E1E5ED",
         "showgrid": false,
         "tickfont": {
          "color": "#4D5663"
         },
         "title": {
          "font": {
           "color": "#4D5663"
          },
          "text": ""
         },
         "zerolinecolor": "#E1E5ED"
        },
        "yaxis3": {
         "anchor": "x3",
         "domain": [
          0.8025,
          1
         ],
         "gridcolor": "#E1E5ED",
         "showgrid": false,
         "tickfont": {
          "color": "#4D5663"
         },
         "title": {
          "font": {
           "color": "#4D5663"
          },
          "text": ""
         },
         "zerolinecolor": "#E1E5ED"
        },
        "yaxis4": {
         "anchor": "x4",
         "domain": [
          0.8025,
          1
         ],
         "gridcolor": "#E1E5ED",
         "showgrid": false,
         "tickfont": {
          "color": "#4D5663"
         },
         "title": {
          "font": {
           "color": "#4D5663"
          },
          "text": ""
         },
         "zerolinecolor": "#E1E5ED"
        },
        "yaxis5": {
         "anchor": "x5",
         "domain": [
          0.535,
          0.7325
         ],
         "gridcolor": "#E1E5ED",
         "showgrid": false,
         "tickfont": {
          "color": "#4D5663"
         },
         "title": {
          "font": {
           "color": "#4D5663"
          },
          "text": ""
         },
         "zerolinecolor": "#E1E5ED"
        },
        "yaxis6": {
         "anchor": "x6",
         "domain": [
          0.535,
          0.7325
         ],
         "gridcolor": "#E1E5ED",
         "showgrid": false,
         "tickfont": {
          "color": "#4D5663"
         },
         "title": {
          "font": {
           "color": "#4D5663"
          },
          "text": ""
         },
         "zerolinecolor": "#E1E5ED"
        },
        "yaxis7": {
         "anchor": "x7",
         "domain": [
          0.535,
          0.7325
         ],
         "gridcolor": "#E1E5ED",
         "showgrid": false,
         "tickfont": {
          "color": "#4D5663"
         },
         "title": {
          "font": {
           "color": "#4D5663"
          },
          "text": ""
         },
         "zerolinecolor": "#E1E5ED"
        },
        "yaxis8": {
         "anchor": "x8",
         "domain": [
          0.535,
          0.7325
         ],
         "gridcolor": "#E1E5ED",
         "showgrid": false,
         "tickfont": {
          "color": "#4D5663"
         },
         "title": {
          "font": {
           "color": "#4D5663"
          },
          "text": ""
         },
         "zerolinecolor": "#E1E5ED"
        },
        "yaxis9": {
         "anchor": "x9",
         "domain": [
          0.2675,
          0.465
         ],
         "gridcolor": "#E1E5ED",
         "showgrid": false,
         "tickfont": {
          "color": "#4D5663"
         },
         "title": {
          "font": {
           "color": "#4D5663"
          },
          "text": ""
         },
         "zerolinecolor": "#E1E5ED"
        }
       }
      },
      "text/html": [
       "<div>                            <div id=\"c26224bf-5459-4dac-b9bd-185dd71d0146\" class=\"plotly-graph-div\" style=\"height:525px; width:100%;\"></div>            <script type=\"text/javascript\">                require([\"plotly\"], function(Plotly) {                    window.PLOTLYENV=window.PLOTLYENV || {};\n",
       "                    window.PLOTLYENV.BASE_URL='https://plot.ly';                                    if (document.getElementById(\"c26224bf-5459-4dac-b9bd-185dd71d0146\")) {                    Plotly.newPlot(                        \"c26224bf-5459-4dac-b9bd-185dd71d0146\",                        [{\"histfunc\":\"count\",\"histnorm\":\"\",\"marker\":{\"color\":\"rgba(255, 153, 51, 1.0)\",\"line\":{\"color\":\"#4D5663\",\"width\":1.3}},\"name\":\"A\",\"nbinsx\":10,\"opacity\":0.8,\"orientation\":\"v\",\"x\":[-0.9295482987691611,0.4996509360917784,-0.31178784381970565,-0.2591828995133058,-0.2403254599818755,0.30007424500314445,-1.9519399516746074,0.36101710108782775,1.1405599367929218,-1.0796063330029473,0.5190388920390553,1.5295361900831612,2.2008109795602016,0.8296048530293078,-0.21937304858767648,-0.9074792394033,-0.2871592266959784,-0.05545890921396091,-0.4966932594692695,-0.2128516157570282,1.124592371454574,0.6228995695801925,0.9256230617994263,-1.768887800317044,-0.2874149202115096,-0.7825545526319378,-2.64432200458736,0.7457461109123886,-1.1428281744977538,1.2210663863390592,-0.9131644958788138,0.13217834318366903,0.6381113620115724,1.4342735786591516,-0.5436898268763243,0.7137862193664714,0.5120364676493256,-2.0607142312389986,0.07250257019407771,-0.6579877485369979,-1.1492108033028867,-2.2536437617141516,1.0563020796557212,-1.0720178624058692,-1.1189016921464603,-0.29284164619717207,-0.20830520279926823,1.0822730128583236,1.0213249027809796,1.2876384897836826,1.8125915692022887,-0.3517345744446924,0.45361035245361936,-0.7548380530713608,0.4509916465215894,0.010825510343471153,1.1954626376691377,1.7044799601908844,-0.2512587274155817,-0.007463326957457436,1.5214107591436405,0.34186384567971756,-0.34838956178384545,-0.02149537492129532,-0.2557559357224352,1.8115002849071817,0.8989054113028747,-0.8478793667167331,-0.4388345973955879,0.5897765192462224,0.9169989960247112,-0.29584764364758287,0.40964963403229865,-0.2765551854394092,0.7309271904230744,-0.05169151931672703,-0.6487263477835327,-0.15937602857333696,-0.669650111705374,1.6529366895888808,0.2725091941094338,-0.84418871539521,-1.0214046898022509,-0.5985785583610419,0.9281497551503964,-1.4386926646965128,1.6413444776995776,-2.2123830364218984,0.7903787489224429,-1.0744732634516792,0.745393189760668,0.4996178124858752,-0.46560119110781123,0.15969763101542492,0.142503896532929,1.3709466265440287,0.9711336472637876,-0.38754055633141615,-1.1752089873333424,0.27340068072325535],\"xaxis\":\"x\",\"yaxis\":\"y\",\"type\":\"histogram\"},{\"line\":{\"color\":\"rgba(128, 128, 128, 1.0)\",\"dash\":\"solid\",\"shape\":\"linear\",\"width\":1.3},\"marker\":{\"size\":2,\"symbol\":\"circle\"},\"mode\":\"markers\",\"name\":\"A\",\"text\":\"\",\"x\":[0.10595209962862051,0.3368667122382836,-0.32861230975248373,-0.11664858440555267,-0.10862895251019854,0.14676101096132724,1.6550509248816598,0.3116991407512059,-1.5333273766171769,0.67351956523506,-0.23293658066056874,0.5298539546678004,1.2706339922049268,1.4485075051766172,0.6779059423904159,-0.7164141937146591,0.8245757552822287,2.4213154151349485,-0.6875266309878802,-0.19741347908494278,0.6573721821252815,0.2773927166267599,0.18443657890013604,0.20841105872778784,1.014443830916647,-0.6614530154293072,0.7795405780388421,1.1763647687901904,-1.426400518831791,-0.8862199762393453,-0.5432851756689908,0.5612441198207622,0.14759371236534652,-1.569694238419562,2.2741377167085077,-1.3286017158605619,-0.6547759337607292,0.5409293803814273,-1.7140672889540483,-0.838762524216867,2.052568027382253,1.2479484516423567,-0.5050471421968736,1.3906132917773977,0.9304278500231088,-0.5005788549389664,1.0139570932698092,1.4099756691177323,-0.7284825751458816,0.47323279459070394,-0.8126917762346638,0.6377954621777114,-0.3174047711249694,-1.7756135983404886,-0.2363797892406345,-0.7970716486495877,-0.3332925771997845,0.3137937224354294,-0.612749019434206,-0.07558111642014288,-0.9898859959734786,-0.45302566262413996,-0.542805561663329,-1.2844203082105614,-0.11354301196306125,-2.546874494300865,0.9872274735141424,-2.4060412325529983,0.7406303040060868,1.3494134213350881,-0.08353953585239972,-0.8649105520646212,0.5482770228978523,0.3018624903593867,-1.2696542402185156,-0.503774941664004,-0.4457561076351454,0.34242334816657516,-0.11692153010067262,-0.7692072862521319,-0.3210876224228783,-1.3428735501149156,0.08140321965759581,1.4726724276119887,-1.6872778504307941,0.7379616404172885,0.7541415956944442,0.6119192924558464,-0.6805248104558588,-0.011614579413123783,-0.9751368919345605,0.1766886661379514,-0.4773258381639982,-1.7259606922075275,-0.09290092035809304,-0.34934252493462165,-0.5455826577301464,1.223290635135926,-1.332442683803005,-0.4849294268598528],\"xaxis\":\"x2\",\"y\":[-0.9295482987691611,0.4996509360917784,-0.31178784381970565,-0.2591828995133058,-0.2403254599818755,0.30007424500314445,-1.9519399516746074,0.36101710108782775,1.1405599367929218,-1.0796063330029473,0.5190388920390553,1.5295361900831612,2.2008109795602016,0.8296048530293078,-0.21937304858767648,-0.9074792394033,-0.2871592266959784,-0.05545890921396091,-0.4966932594692695,-0.2128516157570282,1.124592371454574,0.6228995695801925,0.9256230617994263,-1.768887800317044,-0.2874149202115096,-0.7825545526319378,-2.64432200458736,0.7457461109123886,-1.1428281744977538,1.2210663863390592,-0.9131644958788138,0.13217834318366903,0.6381113620115724,1.4342735786591516,-0.5436898268763243,0.7137862193664714,0.5120364676493256,-2.0607142312389986,0.07250257019407771,-0.6579877485369979,-1.1492108033028867,-2.2536437617141516,1.0563020796557212,-1.0720178624058692,-1.1189016921464603,-0.29284164619717207,-0.20830520279926823,1.0822730128583236,1.0213249027809796,1.2876384897836826,1.8125915692022887,-0.3517345744446924,0.45361035245361936,-0.7548380530713608,0.4509916465215894,0.010825510343471153,1.1954626376691377,1.7044799601908844,-0.2512587274155817,-0.007463326957457436,1.5214107591436405,0.34186384567971756,-0.34838956178384545,-0.02149537492129532,-0.2557559357224352,1.8115002849071817,0.8989054113028747,-0.8478793667167331,-0.4388345973955879,0.5897765192462224,0.9169989960247112,-0.29584764364758287,0.40964963403229865,-0.2765551854394092,0.7309271904230744,-0.05169151931672703,-0.6487263477835327,-0.15937602857333696,-0.669650111705374,1.6529366895888808,0.2725091941094338,-0.84418871539521,-1.0214046898022509,-0.5985785583610419,0.9281497551503964,-1.4386926646965128,1.6413444776995776,-2.2123830364218984,0.7903787489224429,-1.0744732634516792,0.745393189760668,0.4996178124858752,-0.46560119110781123,0.15969763101542492,0.142503896532929,1.3709466265440287,0.9711336472637876,-0.38754055633141615,-1.1752089873333424,0.27340068072325535],\"yaxis\":\"y2\",\"type\":\"scatter\"},{\"line\":{\"color\":\"rgba(128, 128, 128, 1.0)\",\"dash\":\"solid\",\"shape\":\"linear\",\"width\":1.3},\"marker\":{\"size\":2,\"symbol\":\"circle\"},\"mode\":\"markers\",\"name\":\"A\",\"text\":\"\",\"x\":[-0.26802567468283556,0.4072064013410601,0.6461005840226851,-0.585094742432191,0.3573995808954022,0.32157802210804975,-0.16919911676177468,-0.6706351029537011,1.0804040578855634,0.28189287438921745,-0.36165626203156503,0.40971416164952523,1.4437380666462036,-0.005032774531809589,0.43212530479678285,-0.10952316599517305,0.38262622234589144,0.6467377811036394,0.8685111970322607,-0.7510330180894015,-1.3548579307174067,0.8498325036801762,0.8060292524603478,-0.05838667707323915,0.4463018940239507,-0.8859584831710968,-0.7689079747608597,-0.33101433492673465,-0.16646933127108451,-2.2234210272232295,0.09320745950272975,0.09399434578019715,1.1755308625746566,0.04959081536101905,-0.12548887832494862,0.553291027320834,-0.006846847112921158,-1.0940902480963026,1.6992610567702078,-1.2201513753331235,-1.016998263095646,1.2410220960272613,0.5650521741319647,0.3948693228115939,-0.34898058136686005,0.041142085742882646,-0.40728021294539435,-0.3383063368079199,-0.3064599522234884,-1.5547550522193543,0.8990539365717387,-1.0357492276649602,-1.7055721268397044,-0.9353285485181945,0.40881727840120746,1.0457842403635524,1.16072135846228,0.7733499372932843,0.06912451400348932,1.7668257964874858,-0.07370408678810107,-0.5992648954960853,0.0031839077604649863,-0.15511925879835184,1.2553790745400344,0.9800336531789141,-0.5852912967995566,2.6036916226598654,-0.9272942988762053,0.6237809786781634,1.0568500925681823,-1.09659045862584,-0.17215484003221654,0.43585654614856795,-0.9267392510841177,0.08561210853793365,-0.3289460799806062,0.36408037266220034,-0.6158920904266694,1.8758077683489707,-0.2488697686696133,0.08909926398044783,-0.019913649723522293,-1.5108509182391463,0.10809714907300454,0.8552468524058905,-0.12208852143184143,0.2991215257437905,-1.1485090797225774,-0.5535953264037937,-1.662812170312761,-0.1404449423341458,1.2988339639252369,1.16562945649828,-0.2227008673477981,-0.5308299782064171,2.509031912866535,-0.6009943623260816,1.1700763481812035,0.35973613592097686],\"xaxis\":\"x3\",\"y\":[-0.9295482987691611,0.4996509360917784,-0.31178784381970565,-0.2591828995133058,-0.2403254599818755,0.30007424500314445,-1.9519399516746074,0.36101710108782775,1.1405599367929218,-1.0796063330029473,0.5190388920390553,1.5295361900831612,2.2008109795602016,0.8296048530293078,-0.21937304858767648,-0.9074792394033,-0.2871592266959784,-0.05545890921396091,-0.4966932594692695,-0.2128516157570282,1.124592371454574,0.6228995695801925,0.9256230617994263,-1.768887800317044,-0.2874149202115096,-0.7825545526319378,-2.64432200458736,0.7457461109123886,-1.1428281744977538,1.2210663863390592,-0.9131644958788138,0.13217834318366903,0.6381113620115724,1.4342735786591516,-0.5436898268763243,0.7137862193664714,0.5120364676493256,-2.0607142312389986,0.07250257019407771,-0.6579877485369979,-1.1492108033028867,-2.2536437617141516,1.0563020796557212,-1.0720178624058692,-1.1189016921464603,-0.29284164619717207,-0.20830520279926823,1.0822730128583236,1.0213249027809796,1.2876384897836826,1.8125915692022887,-0.3517345744446924,0.45361035245361936,-0.7548380530713608,0.4509916465215894,0.010825510343471153,1.1954626376691377,1.7044799601908844,-0.2512587274155817,-0.007463326957457436,1.5214107591436405,0.34186384567971756,-0.34838956178384545,-0.02149537492129532,-0.2557559357224352,1.8115002849071817,0.8989054113028747,-0.8478793667167331,-0.4388345973955879,0.5897765192462224,0.9169989960247112,-0.29584764364758287,0.40964963403229865,-0.2765551854394092,0.7309271904230744,-0.05169151931672703,-0.6487263477835327,-0.15937602857333696,-0.669650111705374,1.6529366895888808,0.2725091941094338,-0.84418871539521,-1.0214046898022509,-0.5985785583610419,0.9281497551503964,-1.4386926646965128,1.6413444776995776,-2.2123830364218984,0.7903787489224429,-1.0744732634516792,0.745393189760668,0.4996178124858752,-0.46560119110781123,0.15969763101542492,0.142503896532929,1.3709466265440287,0.9711336472637876,-0.38754055633141615,-1.1752089873333424,0.27340068072325535],\"yaxis\":\"y3\",\"type\":\"scatter\"},{\"line\":{\"color\":\"rgba(128, 128, 128, 1.0)\",\"dash\":\"solid\",\"shape\":\"linear\",\"width\":1.3},\"marker\":{\"size\":2,\"symbol\":\"circle\"},\"mode\":\"markers\",\"name\":\"A\",\"text\":\"\",\"x\":[0.7068382862261344,-1.1354893661264782,-1.7781266223186643,-0.9993895145453797,0.7042164203531522,0.9560405384881885,0.6661290584108193,-0.17098627336289118,-0.47884943263231966,-2.364822463910428,-0.0008059323625490484,0.6236349146203897,0.5037184545770702,1.1317450982256376,0.5119154714049131,0.35932707096735206,-0.3663534598741199,1.1365877533477184,0.25417329023146695,-0.44218525948407367,-0.20119332766821338,1.608501409910512,-0.2712631460420925,-1.6439170779887486,0.17876806439418744,-1.288364838351231,1.2805278667353834,-1.0964905172034007,0.30062751958857203,-0.6195883464015917,1.3953980794196124,-1.208577640700005,0.960288245147989,-0.10901010075566653,-2.3995701108243384,-0.36352542201312005,0.520071777572679,0.5870382951239345,-0.8908329994099303,-0.46467533439840847,0.44781348803887583,1.5502356297804298,-0.09040555203215514,-0.007487830982206106,0.06304393372088818,-0.6021066876958482,-1.0452906870455307,0.04280170582626668,-0.374925053066271,-0.4093096611172787,-0.6815199755518858,-1.3584991478390136,-0.21632291529302258,1.11653509881535,-0.5512004547220558,0.7478135005541695,-0.7490802983477098,-0.7604155260542467,0.6323449927814072,0.48741777333043423,0.6738819084446128,0.346537145554769,-1.3061140130711606,0.8523478278571408,-0.2674966200617749,1.4248199828370094,-1.361545126902172,-0.22969931647517633,0.5756343142379796,1.2419495328788337,0.2484676967568032,1.5108745019052454,0.1781643691802824,-0.7239239997563465,-0.5524484345105191,-0.4542635822135648,1.239574019326204,-1.5166528118645612,0.1747359681792644,1.634349529239444,1.003128860486491,1.2316416206606728,-0.17373482053450465,0.6162503121616846,-0.296214462536699,-0.5833585512581337,-0.4948835396241225,-0.8975781417605502,0.09909788460379772,0.6993703963369102,-0.8098029075127882,-0.26295061467659503,-0.8758753227702814,-2.1778422617440167,1.342235000783719,0.5991546221405155,-0.4741195581901758,-1.1317104802699056,1.4645657932255527,-0.5061935595988273],\"xaxis\":\"x4\",\"y\":[-0.9295482987691611,0.4996509360917784,-0.31178784381970565,-0.2591828995133058,-0.2403254599818755,0.30007424500314445,-1.9519399516746074,0.36101710108782775,1.1405599367929218,-1.0796063330029473,0.5190388920390553,1.5295361900831612,2.2008109795602016,0.8296048530293078,-0.21937304858767648,-0.9074792394033,-0.2871592266959784,-0.05545890921396091,-0.4966932594692695,-0.2128516157570282,1.124592371454574,0.6228995695801925,0.9256230617994263,-1.768887800317044,-0.2874149202115096,-0.7825545526319378,-2.64432200458736,0.7457461109123886,-1.1428281744977538,1.2210663863390592,-0.9131644958788138,0.13217834318366903,0.6381113620115724,1.4342735786591516,-0.5436898268763243,0.7137862193664714,0.5120364676493256,-2.0607142312389986,0.07250257019407771,-0.6579877485369979,-1.1492108033028867,-2.2536437617141516,1.0563020796557212,-1.0720178624058692,-1.1189016921464603,-0.29284164619717207,-0.20830520279926823,1.0822730128583236,1.0213249027809796,1.2876384897836826,1.8125915692022887,-0.3517345744446924,0.45361035245361936,-0.7548380530713608,0.4509916465215894,0.010825510343471153,1.1954626376691377,1.7044799601908844,-0.2512587274155817,-0.007463326957457436,1.5214107591436405,0.34186384567971756,-0.34838956178384545,-0.02149537492129532,-0.2557559357224352,1.8115002849071817,0.8989054113028747,-0.8478793667167331,-0.4388345973955879,0.5897765192462224,0.9169989960247112,-0.29584764364758287,0.40964963403229865,-0.2765551854394092,0.7309271904230744,-0.05169151931672703,-0.6487263477835327,-0.15937602857333696,-0.669650111705374,1.6529366895888808,0.2725091941094338,-0.84418871539521,-1.0214046898022509,-0.5985785583610419,0.9281497551503964,-1.4386926646965128,1.6413444776995776,-2.2123830364218984,0.7903787489224429,-1.0744732634516792,0.745393189760668,0.4996178124858752,-0.46560119110781123,0.15969763101542492,0.142503896532929,1.3709466265440287,0.9711336472637876,-0.38754055633141615,-1.1752089873333424,0.27340068072325535],\"yaxis\":\"y4\",\"type\":\"scatter\"},{\"line\":{\"color\":\"rgba(128, 128, 128, 1.0)\",\"dash\":\"solid\",\"shape\":\"linear\",\"width\":1.3},\"marker\":{\"size\":2,\"symbol\":\"circle\"},\"mode\":\"markers\",\"name\":\"B\",\"text\":\"\",\"x\":[-0.9295482987691611,0.4996509360917784,-0.31178784381970565,-0.2591828995133058,-0.2403254599818755,0.30007424500314445,-1.9519399516746074,0.36101710108782775,1.1405599367929218,-1.0796063330029473,0.5190388920390553,1.5295361900831612,2.2008109795602016,0.8296048530293078,-0.21937304858767648,-0.9074792394033,-0.2871592266959784,-0.05545890921396091,-0.4966932594692695,-0.2128516157570282,1.124592371454574,0.6228995695801925,0.9256230617994263,-1.768887800317044,-0.2874149202115096,-0.7825545526319378,-2.64432200458736,0.7457461109123886,-1.1428281744977538,1.2210663863390592,-0.9131644958788138,0.13217834318366903,0.6381113620115724,1.4342735786591516,-0.5436898268763243,0.7137862193664714,0.5120364676493256,-2.0607142312389986,0.07250257019407771,-0.6579877485369979,-1.1492108033028867,-2.2536437617141516,1.0563020796557212,-1.0720178624058692,-1.1189016921464603,-0.29284164619717207,-0.20830520279926823,1.0822730128583236,1.0213249027809796,1.2876384897836826,1.8125915692022887,-0.3517345744446924,0.45361035245361936,-0.7548380530713608,0.4509916465215894,0.010825510343471153,1.1954626376691377,1.7044799601908844,-0.2512587274155817,-0.007463326957457436,1.5214107591436405,0.34186384567971756,-0.34838956178384545,-0.02149537492129532,-0.2557559357224352,1.8115002849071817,0.8989054113028747,-0.8478793667167331,-0.4388345973955879,0.5897765192462224,0.9169989960247112,-0.29584764364758287,0.40964963403229865,-0.2765551854394092,0.7309271904230744,-0.05169151931672703,-0.6487263477835327,-0.15937602857333696,-0.669650111705374,1.6529366895888808,0.2725091941094338,-0.84418871539521,-1.0214046898022509,-0.5985785583610419,0.9281497551503964,-1.4386926646965128,1.6413444776995776,-2.2123830364218984,0.7903787489224429,-1.0744732634516792,0.745393189760668,0.4996178124858752,-0.46560119110781123,0.15969763101542492,0.142503896532929,1.3709466265440287,0.9711336472637876,-0.38754055633141615,-1.1752089873333424,0.27340068072325535],\"xaxis\":\"x5\",\"y\":[0.10595209962862051,0.3368667122382836,-0.32861230975248373,-0.11664858440555267,-0.10862895251019854,0.14676101096132724,1.6550509248816598,0.3116991407512059,-1.5333273766171769,0.67351956523506,-0.23293658066056874,0.5298539546678004,1.2706339922049268,1.4485075051766172,0.6779059423904159,-0.7164141937146591,0.8245757552822287,2.4213154151349485,-0.6875266309878802,-0.19741347908494278,0.6573721821252815,0.2773927166267599,0.18443657890013604,0.20841105872778784,1.014443830916647,-0.6614530154293072,0.7795405780388421,1.1763647687901904,-1.426400518831791,-0.8862199762393453,-0.5432851756689908,0.5612441198207622,0.14759371236534652,-1.569694238419562,2.2741377167085077,-1.3286017158605619,-0.6547759337607292,0.5409293803814273,-1.7140672889540483,-0.838762524216867,2.052568027382253,1.2479484516423567,-0.5050471421968736,1.3906132917773977,0.9304278500231088,-0.5005788549389664,1.0139570932698092,1.4099756691177323,-0.7284825751458816,0.47323279459070394,-0.8126917762346638,0.6377954621777114,-0.3174047711249694,-1.7756135983404886,-0.2363797892406345,-0.7970716486495877,-0.3332925771997845,0.3137937224354294,-0.612749019434206,-0.07558111642014288,-0.9898859959734786,-0.45302566262413996,-0.542805561663329,-1.2844203082105614,-0.11354301196306125,-2.546874494300865,0.9872274735141424,-2.4060412325529983,0.7406303040060868,1.3494134213350881,-0.08353953585239972,-0.8649105520646212,0.5482770228978523,0.3018624903593867,-1.2696542402185156,-0.503774941664004,-0.4457561076351454,0.34242334816657516,-0.11692153010067262,-0.7692072862521319,-0.3210876224228783,-1.3428735501149156,0.08140321965759581,1.4726724276119887,-1.6872778504307941,0.7379616404172885,0.7541415956944442,0.6119192924558464,-0.6805248104558588,-0.011614579413123783,-0.9751368919345605,0.1766886661379514,-0.4773258381639982,-1.7259606922075275,-0.09290092035809304,-0.34934252493462165,-0.5455826577301464,1.223290635135926,-1.332442683803005,-0.4849294268598528],\"yaxis\":\"y5\",\"type\":\"scatter\"},{\"histfunc\":\"count\",\"histnorm\":\"\",\"marker\":{\"color\":\"rgba(55, 128, 191, 1.0)\",\"line\":{\"color\":\"#4D5663\",\"width\":1.3}},\"name\":\"B\",\"nbinsx\":10,\"opacity\":0.8,\"orientation\":\"v\",\"x\":[0.10595209962862051,0.3368667122382836,-0.32861230975248373,-0.11664858440555267,-0.10862895251019854,0.14676101096132724,1.6550509248816598,0.3116991407512059,-1.5333273766171769,0.67351956523506,-0.23293658066056874,0.5298539546678004,1.2706339922049268,1.4485075051766172,0.6779059423904159,-0.7164141937146591,0.8245757552822287,2.4213154151349485,-0.6875266309878802,-0.19741347908494278,0.6573721821252815,0.2773927166267599,0.18443657890013604,0.20841105872778784,1.014443830916647,-0.6614530154293072,0.7795405780388421,1.1763647687901904,-1.426400518831791,-0.8862199762393453,-0.5432851756689908,0.5612441198207622,0.14759371236534652,-1.569694238419562,2.2741377167085077,-1.3286017158605619,-0.6547759337607292,0.5409293803814273,-1.7140672889540483,-0.838762524216867,2.052568027382253,1.2479484516423567,-0.5050471421968736,1.3906132917773977,0.9304278500231088,-0.5005788549389664,1.0139570932698092,1.4099756691177323,-0.7284825751458816,0.47323279459070394,-0.8126917762346638,0.6377954621777114,-0.3174047711249694,-1.7756135983404886,-0.2363797892406345,-0.7970716486495877,-0.3332925771997845,0.3137937224354294,-0.612749019434206,-0.07558111642014288,-0.9898859959734786,-0.45302566262413996,-0.542805561663329,-1.2844203082105614,-0.11354301196306125,-2.546874494300865,0.9872274735141424,-2.4060412325529983,0.7406303040060868,1.3494134213350881,-0.08353953585239972,-0.8649105520646212,0.5482770228978523,0.3018624903593867,-1.2696542402185156,-0.503774941664004,-0.4457561076351454,0.34242334816657516,-0.11692153010067262,-0.7692072862521319,-0.3210876224228783,-1.3428735501149156,0.08140321965759581,1.4726724276119887,-1.6872778504307941,0.7379616404172885,0.7541415956944442,0.6119192924558464,-0.6805248104558588,-0.011614579413123783,-0.9751368919345605,0.1766886661379514,-0.4773258381639982,-1.7259606922075275,-0.09290092035809304,-0.34934252493462165,-0.5455826577301464,1.223290635135926,-1.332442683803005,-0.4849294268598528],\"xaxis\":\"x6\",\"yaxis\":\"y6\",\"type\":\"histogram\"},{\"line\":{\"color\":\"rgba(128, 128, 128, 1.0)\",\"dash\":\"solid\",\"shape\":\"linear\",\"width\":1.3},\"marker\":{\"size\":2,\"symbol\":\"circle\"},\"mode\":\"markers\",\"name\":\"B\",\"text\":\"\",\"x\":[-0.26802567468283556,0.4072064013410601,0.6461005840226851,-0.585094742432191,0.3573995808954022,0.32157802210804975,-0.16919911676177468,-0.6706351029537011,1.0804040578855634,0.28189287438921745,-0.36165626203156503,0.40971416164952523,1.4437380666462036,-0.005032774531809589,0.43212530479678285,-0.10952316599517305,0.38262622234589144,0.6467377811036394,0.8685111970322607,-0.7510330180894015,-1.3548579307174067,0.8498325036801762,0.8060292524603478,-0.05838667707323915,0.4463018940239507,-0.8859584831710968,-0.7689079747608597,-0.33101433492673465,-0.16646933127108451,-2.2234210272232295,0.09320745950272975,0.09399434578019715,1.1755308625746566,0.04959081536101905,-0.12548887832494862,0.553291027320834,-0.006846847112921158,-1.0940902480963026,1.6992610567702078,-1.2201513753331235,-1.016998263095646,1.2410220960272613,0.5650521741319647,0.3948693228115939,-0.34898058136686005,0.041142085742882646,-0.40728021294539435,-0.3383063368079199,-0.3064599522234884,-1.5547550522193543,0.8990539365717387,-1.0357492276649602,-1.7055721268397044,-0.9353285485181945,0.40881727840120746,1.0457842403635524,1.16072135846228,0.7733499372932843,0.06912451400348932,1.7668257964874858,-0.07370408678810107,-0.5992648954960853,0.0031839077604649863,-0.15511925879835184,1.2553790745400344,0.9800336531789141,-0.5852912967995566,2.6036916226598654,-0.9272942988762053,0.6237809786781634,1.0568500925681823,-1.09659045862584,-0.17215484003221654,0.43585654614856795,-0.9267392510841177,0.08561210853793365,-0.3289460799806062,0.36408037266220034,-0.6158920904266694,1.8758077683489707,-0.2488697686696133,0.08909926398044783,-0.019913649723522293,-1.5108509182391463,0.10809714907300454,0.8552468524058905,-0.12208852143184143,0.2991215257437905,-1.1485090797225774,-0.5535953264037937,-1.662812170312761,-0.1404449423341458,1.2988339639252369,1.16562945649828,-0.2227008673477981,-0.5308299782064171,2.509031912866535,-0.6009943623260816,1.1700763481812035,0.35973613592097686],\"xaxis\":\"x7\",\"y\":[0.10595209962862051,0.3368667122382836,-0.32861230975248373,-0.11664858440555267,-0.10862895251019854,0.14676101096132724,1.6550509248816598,0.3116991407512059,-1.5333273766171769,0.67351956523506,-0.23293658066056874,0.5298539546678004,1.2706339922049268,1.4485075051766172,0.6779059423904159,-0.7164141937146591,0.8245757552822287,2.4213154151349485,-0.6875266309878802,-0.19741347908494278,0.6573721821252815,0.2773927166267599,0.18443657890013604,0.20841105872778784,1.014443830916647,-0.6614530154293072,0.7795405780388421,1.1763647687901904,-1.426400518831791,-0.8862199762393453,-0.5432851756689908,0.5612441198207622,0.14759371236534652,-1.569694238419562,2.2741377167085077,-1.3286017158605619,-0.6547759337607292,0.5409293803814273,-1.7140672889540483,-0.838762524216867,2.052568027382253,1.2479484516423567,-0.5050471421968736,1.3906132917773977,0.9304278500231088,-0.5005788549389664,1.0139570932698092,1.4099756691177323,-0.7284825751458816,0.47323279459070394,-0.8126917762346638,0.6377954621777114,-0.3174047711249694,-1.7756135983404886,-0.2363797892406345,-0.7970716486495877,-0.3332925771997845,0.3137937224354294,-0.612749019434206,-0.07558111642014288,-0.9898859959734786,-0.45302566262413996,-0.542805561663329,-1.2844203082105614,-0.11354301196306125,-2.546874494300865,0.9872274735141424,-2.4060412325529983,0.7406303040060868,1.3494134213350881,-0.08353953585239972,-0.8649105520646212,0.5482770228978523,0.3018624903593867,-1.2696542402185156,-0.503774941664004,-0.4457561076351454,0.34242334816657516,-0.11692153010067262,-0.7692072862521319,-0.3210876224228783,-1.3428735501149156,0.08140321965759581,1.4726724276119887,-1.6872778504307941,0.7379616404172885,0.7541415956944442,0.6119192924558464,-0.6805248104558588,-0.011614579413123783,-0.9751368919345605,0.1766886661379514,-0.4773258381639982,-1.7259606922075275,-0.09290092035809304,-0.34934252493462165,-0.5455826577301464,1.223290635135926,-1.332442683803005,-0.4849294268598528],\"yaxis\":\"y7\",\"type\":\"scatter\"},{\"line\":{\"color\":\"rgba(128, 128, 128, 1.0)\",\"dash\":\"solid\",\"shape\":\"linear\",\"width\":1.3},\"marker\":{\"size\":2,\"symbol\":\"circle\"},\"mode\":\"markers\",\"name\":\"B\",\"text\":\"\",\"x\":[0.7068382862261344,-1.1354893661264782,-1.7781266223186643,-0.9993895145453797,0.7042164203531522,0.9560405384881885,0.6661290584108193,-0.17098627336289118,-0.47884943263231966,-2.364822463910428,-0.0008059323625490484,0.6236349146203897,0.5037184545770702,1.1317450982256376,0.5119154714049131,0.35932707096735206,-0.3663534598741199,1.1365877533477184,0.25417329023146695,-0.44218525948407367,-0.20119332766821338,1.608501409910512,-0.2712631460420925,-1.6439170779887486,0.17876806439418744,-1.288364838351231,1.2805278667353834,-1.0964905172034007,0.30062751958857203,-0.6195883464015917,1.3953980794196124,-1.208577640700005,0.960288245147989,-0.10901010075566653,-2.3995701108243384,-0.36352542201312005,0.520071777572679,0.5870382951239345,-0.8908329994099303,-0.46467533439840847,0.44781348803887583,1.5502356297804298,-0.09040555203215514,-0.007487830982206106,0.06304393372088818,-0.6021066876958482,-1.0452906870455307,0.04280170582626668,-0.374925053066271,-0.4093096611172787,-0.6815199755518858,-1.3584991478390136,-0.21632291529302258,1.11653509881535,-0.5512004547220558,0.7478135005541695,-0.7490802983477098,-0.7604155260542467,0.6323449927814072,0.48741777333043423,0.6738819084446128,0.346537145554769,-1.3061140130711606,0.8523478278571408,-0.2674966200617749,1.4248199828370094,-1.361545126902172,-0.22969931647517633,0.5756343142379796,1.2419495328788337,0.2484676967568032,1.5108745019052454,0.1781643691802824,-0.7239239997563465,-0.5524484345105191,-0.4542635822135648,1.239574019326204,-1.5166528118645612,0.1747359681792644,1.634349529239444,1.003128860486491,1.2316416206606728,-0.17373482053450465,0.6162503121616846,-0.296214462536699,-0.5833585512581337,-0.4948835396241225,-0.8975781417605502,0.09909788460379772,0.6993703963369102,-0.8098029075127882,-0.26295061467659503,-0.8758753227702814,-2.1778422617440167,1.342235000783719,0.5991546221405155,-0.4741195581901758,-1.1317104802699056,1.4645657932255527,-0.5061935595988273],\"xaxis\":\"x8\",\"y\":[0.10595209962862051,0.3368667122382836,-0.32861230975248373,-0.11664858440555267,-0.10862895251019854,0.14676101096132724,1.6550509248816598,0.3116991407512059,-1.5333273766171769,0.67351956523506,-0.23293658066056874,0.5298539546678004,1.2706339922049268,1.4485075051766172,0.6779059423904159,-0.7164141937146591,0.8245757552822287,2.4213154151349485,-0.6875266309878802,-0.19741347908494278,0.6573721821252815,0.2773927166267599,0.18443657890013604,0.20841105872778784,1.014443830916647,-0.6614530154293072,0.7795405780388421,1.1763647687901904,-1.426400518831791,-0.8862199762393453,-0.5432851756689908,0.5612441198207622,0.14759371236534652,-1.569694238419562,2.2741377167085077,-1.3286017158605619,-0.6547759337607292,0.5409293803814273,-1.7140672889540483,-0.838762524216867,2.052568027382253,1.2479484516423567,-0.5050471421968736,1.3906132917773977,0.9304278500231088,-0.5005788549389664,1.0139570932698092,1.4099756691177323,-0.7284825751458816,0.47323279459070394,-0.8126917762346638,0.6377954621777114,-0.3174047711249694,-1.7756135983404886,-0.2363797892406345,-0.7970716486495877,-0.3332925771997845,0.3137937224354294,-0.612749019434206,-0.07558111642014288,-0.9898859959734786,-0.45302566262413996,-0.542805561663329,-1.2844203082105614,-0.11354301196306125,-2.546874494300865,0.9872274735141424,-2.4060412325529983,0.7406303040060868,1.3494134213350881,-0.08353953585239972,-0.8649105520646212,0.5482770228978523,0.3018624903593867,-1.2696542402185156,-0.503774941664004,-0.4457561076351454,0.34242334816657516,-0.11692153010067262,-0.7692072862521319,-0.3210876224228783,-1.3428735501149156,0.08140321965759581,1.4726724276119887,-1.6872778504307941,0.7379616404172885,0.7541415956944442,0.6119192924558464,-0.6805248104558588,-0.011614579413123783,-0.9751368919345605,0.1766886661379514,-0.4773258381639982,-1.7259606922075275,-0.09290092035809304,-0.34934252493462165,-0.5455826577301464,1.223290635135926,-1.332442683803005,-0.4849294268598528],\"yaxis\":\"y8\",\"type\":\"scatter\"},{\"line\":{\"color\":\"rgba(128, 128, 128, 1.0)\",\"dash\":\"solid\",\"shape\":\"linear\",\"width\":1.3},\"marker\":{\"size\":2,\"symbol\":\"circle\"},\"mode\":\"markers\",\"name\":\"C\",\"text\":\"\",\"x\":[-0.9295482987691611,0.4996509360917784,-0.31178784381970565,-0.2591828995133058,-0.2403254599818755,0.30007424500314445,-1.9519399516746074,0.36101710108782775,1.1405599367929218,-1.0796063330029473,0.5190388920390553,1.5295361900831612,2.2008109795602016,0.8296048530293078,-0.21937304858767648,-0.9074792394033,-0.2871592266959784,-0.05545890921396091,-0.4966932594692695,-0.2128516157570282,1.124592371454574,0.6228995695801925,0.9256230617994263,-1.768887800317044,-0.2874149202115096,-0.7825545526319378,-2.64432200458736,0.7457461109123886,-1.1428281744977538,1.2210663863390592,-0.9131644958788138,0.13217834318366903,0.6381113620115724,1.4342735786591516,-0.5436898268763243,0.7137862193664714,0.5120364676493256,-2.0607142312389986,0.07250257019407771,-0.6579877485369979,-1.1492108033028867,-2.2536437617141516,1.0563020796557212,-1.0720178624058692,-1.1189016921464603,-0.29284164619717207,-0.20830520279926823,1.0822730128583236,1.0213249027809796,1.2876384897836826,1.8125915692022887,-0.3517345744446924,0.45361035245361936,-0.7548380530713608,0.4509916465215894,0.010825510343471153,1.1954626376691377,1.7044799601908844,-0.2512587274155817,-0.007463326957457436,1.5214107591436405,0.34186384567971756,-0.34838956178384545,-0.02149537492129532,-0.2557559357224352,1.8115002849071817,0.8989054113028747,-0.8478793667167331,-0.4388345973955879,0.5897765192462224,0.9169989960247112,-0.29584764364758287,0.40964963403229865,-0.2765551854394092,0.7309271904230744,-0.05169151931672703,-0.6487263477835327,-0.15937602857333696,-0.669650111705374,1.6529366895888808,0.2725091941094338,-0.84418871539521,-1.0214046898022509,-0.5985785583610419,0.9281497551503964,-1.4386926646965128,1.6413444776995776,-2.2123830364218984,0.7903787489224429,-1.0744732634516792,0.745393189760668,0.4996178124858752,-0.46560119110781123,0.15969763101542492,0.142503896532929,1.3709466265440287,0.9711336472637876,-0.38754055633141615,-1.1752089873333424,0.27340068072325535],\"xaxis\":\"x9\",\"y\":[-0.26802567468283556,0.4072064013410601,0.6461005840226851,-0.585094742432191,0.3573995808954022,0.32157802210804975,-0.16919911676177468,-0.6706351029537011,1.0804040578855634,0.28189287438921745,-0.36165626203156503,0.40971416164952523,1.4437380666462036,-0.005032774531809589,0.43212530479678285,-0.10952316599517305,0.38262622234589144,0.6467377811036394,0.8685111970322607,-0.7510330180894015,-1.3548579307174067,0.8498325036801762,0.8060292524603478,-0.05838667707323915,0.4463018940239507,-0.8859584831710968,-0.7689079747608597,-0.33101433492673465,-0.16646933127108451,-2.2234210272232295,0.09320745950272975,0.09399434578019715,1.1755308625746566,0.04959081536101905,-0.12548887832494862,0.553291027320834,-0.006846847112921158,-1.0940902480963026,1.6992610567702078,-1.2201513753331235,-1.016998263095646,1.2410220960272613,0.5650521741319647,0.3948693228115939,-0.34898058136686005,0.041142085742882646,-0.40728021294539435,-0.3383063368079199,-0.3064599522234884,-1.5547550522193543,0.8990539365717387,-1.0357492276649602,-1.7055721268397044,-0.9353285485181945,0.40881727840120746,1.0457842403635524,1.16072135846228,0.7733499372932843,0.06912451400348932,1.7668257964874858,-0.07370408678810107,-0.5992648954960853,0.0031839077604649863,-0.15511925879835184,1.2553790745400344,0.9800336531789141,-0.5852912967995566,2.6036916226598654,-0.9272942988762053,0.6237809786781634,1.0568500925681823,-1.09659045862584,-0.17215484003221654,0.43585654614856795,-0.9267392510841177,0.08561210853793365,-0.3289460799806062,0.36408037266220034,-0.6158920904266694,1.8758077683489707,-0.2488697686696133,0.08909926398044783,-0.019913649723522293,-1.5108509182391463,0.10809714907300454,0.8552468524058905,-0.12208852143184143,0.2991215257437905,-1.1485090797225774,-0.5535953264037937,-1.662812170312761,-0.1404449423341458,1.2988339639252369,1.16562945649828,-0.2227008673477981,-0.5308299782064171,2.509031912866535,-0.6009943623260816,1.1700763481812035,0.35973613592097686],\"yaxis\":\"y9\",\"type\":\"scatter\"},{\"line\":{\"color\":\"rgba(128, 128, 128, 1.0)\",\"dash\":\"solid\",\"shape\":\"linear\",\"width\":1.3},\"marker\":{\"size\":2,\"symbol\":\"circle\"},\"mode\":\"markers\",\"name\":\"C\",\"text\":\"\",\"x\":[0.10595209962862051,0.3368667122382836,-0.32861230975248373,-0.11664858440555267,-0.10862895251019854,0.14676101096132724,1.6550509248816598,0.3116991407512059,-1.5333273766171769,0.67351956523506,-0.23293658066056874,0.5298539546678004,1.2706339922049268,1.4485075051766172,0.6779059423904159,-0.7164141937146591,0.8245757552822287,2.4213154151349485,-0.6875266309878802,-0.19741347908494278,0.6573721821252815,0.2773927166267599,0.18443657890013604,0.20841105872778784,1.014443830916647,-0.6614530154293072,0.7795405780388421,1.1763647687901904,-1.426400518831791,-0.8862199762393453,-0.5432851756689908,0.5612441198207622,0.14759371236534652,-1.569694238419562,2.2741377167085077,-1.3286017158605619,-0.6547759337607292,0.5409293803814273,-1.7140672889540483,-0.838762524216867,2.052568027382253,1.2479484516423567,-0.5050471421968736,1.3906132917773977,0.9304278500231088,-0.5005788549389664,1.0139570932698092,1.4099756691177323,-0.7284825751458816,0.47323279459070394,-0.8126917762346638,0.6377954621777114,-0.3174047711249694,-1.7756135983404886,-0.2363797892406345,-0.7970716486495877,-0.3332925771997845,0.3137937224354294,-0.612749019434206,-0.07558111642014288,-0.9898859959734786,-0.45302566262413996,-0.542805561663329,-1.2844203082105614,-0.11354301196306125,-2.546874494300865,0.9872274735141424,-2.4060412325529983,0.7406303040060868,1.3494134213350881,-0.08353953585239972,-0.8649105520646212,0.5482770228978523,0.3018624903593867,-1.2696542402185156,-0.503774941664004,-0.4457561076351454,0.34242334816657516,-0.11692153010067262,-0.7692072862521319,-0.3210876224228783,-1.3428735501149156,0.08140321965759581,1.4726724276119887,-1.6872778504307941,0.7379616404172885,0.7541415956944442,0.6119192924558464,-0.6805248104558588,-0.011614579413123783,-0.9751368919345605,0.1766886661379514,-0.4773258381639982,-1.7259606922075275,-0.09290092035809304,-0.34934252493462165,-0.5455826577301464,1.223290635135926,-1.332442683803005,-0.4849294268598528],\"xaxis\":\"x10\",\"y\":[-0.26802567468283556,0.4072064013410601,0.6461005840226851,-0.585094742432191,0.3573995808954022,0.32157802210804975,-0.16919911676177468,-0.6706351029537011,1.0804040578855634,0.28189287438921745,-0.36165626203156503,0.40971416164952523,1.4437380666462036,-0.005032774531809589,0.43212530479678285,-0.10952316599517305,0.38262622234589144,0.6467377811036394,0.8685111970322607,-0.7510330180894015,-1.3548579307174067,0.8498325036801762,0.8060292524603478,-0.05838667707323915,0.4463018940239507,-0.8859584831710968,-0.7689079747608597,-0.33101433492673465,-0.16646933127108451,-2.2234210272232295,0.09320745950272975,0.09399434578019715,1.1755308625746566,0.04959081536101905,-0.12548887832494862,0.553291027320834,-0.006846847112921158,-1.0940902480963026,1.6992610567702078,-1.2201513753331235,-1.016998263095646,1.2410220960272613,0.5650521741319647,0.3948693228115939,-0.34898058136686005,0.041142085742882646,-0.40728021294539435,-0.3383063368079199,-0.3064599522234884,-1.5547550522193543,0.8990539365717387,-1.0357492276649602,-1.7055721268397044,-0.9353285485181945,0.40881727840120746,1.0457842403635524,1.16072135846228,0.7733499372932843,0.06912451400348932,1.7668257964874858,-0.07370408678810107,-0.5992648954960853,0.0031839077604649863,-0.15511925879835184,1.2553790745400344,0.9800336531789141,-0.5852912967995566,2.6036916226598654,-0.9272942988762053,0.6237809786781634,1.0568500925681823,-1.09659045862584,-0.17215484003221654,0.43585654614856795,-0.9267392510841177,0.08561210853793365,-0.3289460799806062,0.36408037266220034,-0.6158920904266694,1.8758077683489707,-0.2488697686696133,0.08909926398044783,-0.019913649723522293,-1.5108509182391463,0.10809714907300454,0.8552468524058905,-0.12208852143184143,0.2991215257437905,-1.1485090797225774,-0.5535953264037937,-1.662812170312761,-0.1404449423341458,1.2988339639252369,1.16562945649828,-0.2227008673477981,-0.5308299782064171,2.509031912866535,-0.6009943623260816,1.1700763481812035,0.35973613592097686],\"yaxis\":\"y10\",\"type\":\"scatter\"},{\"histfunc\":\"count\",\"histnorm\":\"\",\"marker\":{\"color\":\"rgba(50, 171, 96, 1.0)\",\"line\":{\"color\":\"#4D5663\",\"width\":1.3}},\"name\":\"C\",\"nbinsx\":10,\"opacity\":0.8,\"orientation\":\"v\",\"x\":[-0.26802567468283556,0.4072064013410601,0.6461005840226851,-0.585094742432191,0.3573995808954022,0.32157802210804975,-0.16919911676177468,-0.6706351029537011,1.0804040578855634,0.28189287438921745,-0.36165626203156503,0.40971416164952523,1.4437380666462036,-0.005032774531809589,0.43212530479678285,-0.10952316599517305,0.38262622234589144,0.6467377811036394,0.8685111970322607,-0.7510330180894015,-1.3548579307174067,0.8498325036801762,0.8060292524603478,-0.05838667707323915,0.4463018940239507,-0.8859584831710968,-0.7689079747608597,-0.33101433492673465,-0.16646933127108451,-2.2234210272232295,0.09320745950272975,0.09399434578019715,1.1755308625746566,0.04959081536101905,-0.12548887832494862,0.553291027320834,-0.006846847112921158,-1.0940902480963026,1.6992610567702078,-1.2201513753331235,-1.016998263095646,1.2410220960272613,0.5650521741319647,0.3948693228115939,-0.34898058136686005,0.041142085742882646,-0.40728021294539435,-0.3383063368079199,-0.3064599522234884,-1.5547550522193543,0.8990539365717387,-1.0357492276649602,-1.7055721268397044,-0.9353285485181945,0.40881727840120746,1.0457842403635524,1.16072135846228,0.7733499372932843,0.06912451400348932,1.7668257964874858,-0.07370408678810107,-0.5992648954960853,0.0031839077604649863,-0.15511925879835184,1.2553790745400344,0.9800336531789141,-0.5852912967995566,2.6036916226598654,-0.9272942988762053,0.6237809786781634,1.0568500925681823,-1.09659045862584,-0.17215484003221654,0.43585654614856795,-0.9267392510841177,0.08561210853793365,-0.3289460799806062,0.36408037266220034,-0.6158920904266694,1.8758077683489707,-0.2488697686696133,0.08909926398044783,-0.019913649723522293,-1.5108509182391463,0.10809714907300454,0.8552468524058905,-0.12208852143184143,0.2991215257437905,-1.1485090797225774,-0.5535953264037937,-1.662812170312761,-0.1404449423341458,1.2988339639252369,1.16562945649828,-0.2227008673477981,-0.5308299782064171,2.509031912866535,-0.6009943623260816,1.1700763481812035,0.35973613592097686],\"xaxis\":\"x11\",\"yaxis\":\"y11\",\"type\":\"histogram\"},{\"line\":{\"color\":\"rgba(128, 128, 128, 1.0)\",\"dash\":\"solid\",\"shape\":\"linear\",\"width\":1.3},\"marker\":{\"size\":2,\"symbol\":\"circle\"},\"mode\":\"markers\",\"name\":\"C\",\"text\":\"\",\"x\":[0.7068382862261344,-1.1354893661264782,-1.7781266223186643,-0.9993895145453797,0.7042164203531522,0.9560405384881885,0.6661290584108193,-0.17098627336289118,-0.47884943263231966,-2.364822463910428,-0.0008059323625490484,0.6236349146203897,0.5037184545770702,1.1317450982256376,0.5119154714049131,0.35932707096735206,-0.3663534598741199,1.1365877533477184,0.25417329023146695,-0.44218525948407367,-0.20119332766821338,1.608501409910512,-0.2712631460420925,-1.6439170779887486,0.17876806439418744,-1.288364838351231,1.2805278667353834,-1.0964905172034007,0.30062751958857203,-0.6195883464015917,1.3953980794196124,-1.208577640700005,0.960288245147989,-0.10901010075566653,-2.3995701108243384,-0.36352542201312005,0.520071777572679,0.5870382951239345,-0.8908329994099303,-0.46467533439840847,0.44781348803887583,1.5502356297804298,-0.09040555203215514,-0.007487830982206106,0.06304393372088818,-0.6021066876958482,-1.0452906870455307,0.04280170582626668,-0.374925053066271,-0.4093096611172787,-0.6815199755518858,-1.3584991478390136,-0.21632291529302258,1.11653509881535,-0.5512004547220558,0.7478135005541695,-0.7490802983477098,-0.7604155260542467,0.6323449927814072,0.48741777333043423,0.6738819084446128,0.346537145554769,-1.3061140130711606,0.8523478278571408,-0.2674966200617749,1.4248199828370094,-1.361545126902172,-0.22969931647517633,0.5756343142379796,1.2419495328788337,0.2484676967568032,1.5108745019052454,0.1781643691802824,-0.7239239997563465,-0.5524484345105191,-0.4542635822135648,1.239574019326204,-1.5166528118645612,0.1747359681792644,1.634349529239444,1.003128860486491,1.2316416206606728,-0.17373482053450465,0.6162503121616846,-0.296214462536699,-0.5833585512581337,-0.4948835396241225,-0.8975781417605502,0.09909788460379772,0.6993703963369102,-0.8098029075127882,-0.26295061467659503,-0.8758753227702814,-2.1778422617440167,1.342235000783719,0.5991546221405155,-0.4741195581901758,-1.1317104802699056,1.4645657932255527,-0.5061935595988273],\"xaxis\":\"x12\",\"y\":[-0.26802567468283556,0.4072064013410601,0.6461005840226851,-0.585094742432191,0.3573995808954022,0.32157802210804975,-0.16919911676177468,-0.6706351029537011,1.0804040578855634,0.28189287438921745,-0.36165626203156503,0.40971416164952523,1.4437380666462036,-0.005032774531809589,0.43212530479678285,-0.10952316599517305,0.38262622234589144,0.6467377811036394,0.8685111970322607,-0.7510330180894015,-1.3548579307174067,0.8498325036801762,0.8060292524603478,-0.05838667707323915,0.4463018940239507,-0.8859584831710968,-0.7689079747608597,-0.33101433492673465,-0.16646933127108451,-2.2234210272232295,0.09320745950272975,0.09399434578019715,1.1755308625746566,0.04959081536101905,-0.12548887832494862,0.553291027320834,-0.006846847112921158,-1.0940902480963026,1.6992610567702078,-1.2201513753331235,-1.016998263095646,1.2410220960272613,0.5650521741319647,0.3948693228115939,-0.34898058136686005,0.041142085742882646,-0.40728021294539435,-0.3383063368079199,-0.3064599522234884,-1.5547550522193543,0.8990539365717387,-1.0357492276649602,-1.7055721268397044,-0.9353285485181945,0.40881727840120746,1.0457842403635524,1.16072135846228,0.7733499372932843,0.06912451400348932,1.7668257964874858,-0.07370408678810107,-0.5992648954960853,0.0031839077604649863,-0.15511925879835184,1.2553790745400344,0.9800336531789141,-0.5852912967995566,2.6036916226598654,-0.9272942988762053,0.6237809786781634,1.0568500925681823,-1.09659045862584,-0.17215484003221654,0.43585654614856795,-0.9267392510841177,0.08561210853793365,-0.3289460799806062,0.36408037266220034,-0.6158920904266694,1.8758077683489707,-0.2488697686696133,0.08909926398044783,-0.019913649723522293,-1.5108509182391463,0.10809714907300454,0.8552468524058905,-0.12208852143184143,0.2991215257437905,-1.1485090797225774,-0.5535953264037937,-1.662812170312761,-0.1404449423341458,1.2988339639252369,1.16562945649828,-0.2227008673477981,-0.5308299782064171,2.509031912866535,-0.6009943623260816,1.1700763481812035,0.35973613592097686],\"yaxis\":\"y12\",\"type\":\"scatter\"},{\"line\":{\"color\":\"rgba(128, 128, 128, 1.0)\",\"dash\":\"solid\",\"shape\":\"linear\",\"width\":1.3},\"marker\":{\"size\":2,\"symbol\":\"circle\"},\"mode\":\"markers\",\"name\":\"D\",\"text\":\"\",\"x\":[-0.9295482987691611,0.4996509360917784,-0.31178784381970565,-0.2591828995133058,-0.2403254599818755,0.30007424500314445,-1.9519399516746074,0.36101710108782775,1.1405599367929218,-1.0796063330029473,0.5190388920390553,1.5295361900831612,2.2008109795602016,0.8296048530293078,-0.21937304858767648,-0.9074792394033,-0.2871592266959784,-0.05545890921396091,-0.4966932594692695,-0.2128516157570282,1.124592371454574,0.6228995695801925,0.9256230617994263,-1.768887800317044,-0.2874149202115096,-0.7825545526319378,-2.64432200458736,0.7457461109123886,-1.1428281744977538,1.2210663863390592,-0.9131644958788138,0.13217834318366903,0.6381113620115724,1.4342735786591516,-0.5436898268763243,0.7137862193664714,0.5120364676493256,-2.0607142312389986,0.07250257019407771,-0.6579877485369979,-1.1492108033028867,-2.2536437617141516,1.0563020796557212,-1.0720178624058692,-1.1189016921464603,-0.29284164619717207,-0.20830520279926823,1.0822730128583236,1.0213249027809796,1.2876384897836826,1.8125915692022887,-0.3517345744446924,0.45361035245361936,-0.7548380530713608,0.4509916465215894,0.010825510343471153,1.1954626376691377,1.7044799601908844,-0.2512587274155817,-0.007463326957457436,1.5214107591436405,0.34186384567971756,-0.34838956178384545,-0.02149537492129532,-0.2557559357224352,1.8115002849071817,0.8989054113028747,-0.8478793667167331,-0.4388345973955879,0.5897765192462224,0.9169989960247112,-0.29584764364758287,0.40964963403229865,-0.2765551854394092,0.7309271904230744,-0.05169151931672703,-0.6487263477835327,-0.15937602857333696,-0.669650111705374,1.6529366895888808,0.2725091941094338,-0.84418871539521,-1.0214046898022509,-0.5985785583610419,0.9281497551503964,-1.4386926646965128,1.6413444776995776,-2.2123830364218984,0.7903787489224429,-1.0744732634516792,0.745393189760668,0.4996178124858752,-0.46560119110781123,0.15969763101542492,0.142503896532929,1.3709466265440287,0.9711336472637876,-0.38754055633141615,-1.1752089873333424,0.27340068072325535],\"xaxis\":\"x13\",\"y\":[0.7068382862261344,-1.1354893661264782,-1.7781266223186643,-0.9993895145453797,0.7042164203531522,0.9560405384881885,0.6661290584108193,-0.17098627336289118,-0.47884943263231966,-2.364822463910428,-0.0008059323625490484,0.6236349146203897,0.5037184545770702,1.1317450982256376,0.5119154714049131,0.35932707096735206,-0.3663534598741199,1.1365877533477184,0.25417329023146695,-0.44218525948407367,-0.20119332766821338,1.608501409910512,-0.2712631460420925,-1.6439170779887486,0.17876806439418744,-1.288364838351231,1.2805278667353834,-1.0964905172034007,0.30062751958857203,-0.6195883464015917,1.3953980794196124,-1.208577640700005,0.960288245147989,-0.10901010075566653,-2.3995701108243384,-0.36352542201312005,0.520071777572679,0.5870382951239345,-0.8908329994099303,-0.46467533439840847,0.44781348803887583,1.5502356297804298,-0.09040555203215514,-0.007487830982206106,0.06304393372088818,-0.6021066876958482,-1.0452906870455307,0.04280170582626668,-0.374925053066271,-0.4093096611172787,-0.6815199755518858,-1.3584991478390136,-0.21632291529302258,1.11653509881535,-0.5512004547220558,0.7478135005541695,-0.7490802983477098,-0.7604155260542467,0.6323449927814072,0.48741777333043423,0.6738819084446128,0.346537145554769,-1.3061140130711606,0.8523478278571408,-0.2674966200617749,1.4248199828370094,-1.361545126902172,-0.22969931647517633,0.5756343142379796,1.2419495328788337,0.2484676967568032,1.5108745019052454,0.1781643691802824,-0.7239239997563465,-0.5524484345105191,-0.4542635822135648,1.239574019326204,-1.5166528118645612,0.1747359681792644,1.634349529239444,1.003128860486491,1.2316416206606728,-0.17373482053450465,0.6162503121616846,-0.296214462536699,-0.5833585512581337,-0.4948835396241225,-0.8975781417605502,0.09909788460379772,0.6993703963369102,-0.8098029075127882,-0.26295061467659503,-0.8758753227702814,-2.1778422617440167,1.342235000783719,0.5991546221405155,-0.4741195581901758,-1.1317104802699056,1.4645657932255527,-0.5061935595988273],\"yaxis\":\"y13\",\"type\":\"scatter\"},{\"line\":{\"color\":\"rgba(128, 128, 128, 1.0)\",\"dash\":\"solid\",\"shape\":\"linear\",\"width\":1.3},\"marker\":{\"size\":2,\"symbol\":\"circle\"},\"mode\":\"markers\",\"name\":\"D\",\"text\":\"\",\"x\":[0.10595209962862051,0.3368667122382836,-0.32861230975248373,-0.11664858440555267,-0.10862895251019854,0.14676101096132724,1.6550509248816598,0.3116991407512059,-1.5333273766171769,0.67351956523506,-0.23293658066056874,0.5298539546678004,1.2706339922049268,1.4485075051766172,0.6779059423904159,-0.7164141937146591,0.8245757552822287,2.4213154151349485,-0.6875266309878802,-0.19741347908494278,0.6573721821252815,0.2773927166267599,0.18443657890013604,0.20841105872778784,1.014443830916647,-0.6614530154293072,0.7795405780388421,1.1763647687901904,-1.426400518831791,-0.8862199762393453,-0.5432851756689908,0.5612441198207622,0.14759371236534652,-1.569694238419562,2.2741377167085077,-1.3286017158605619,-0.6547759337607292,0.5409293803814273,-1.7140672889540483,-0.838762524216867,2.052568027382253,1.2479484516423567,-0.5050471421968736,1.3906132917773977,0.9304278500231088,-0.5005788549389664,1.0139570932698092,1.4099756691177323,-0.7284825751458816,0.47323279459070394,-0.8126917762346638,0.6377954621777114,-0.3174047711249694,-1.7756135983404886,-0.2363797892406345,-0.7970716486495877,-0.3332925771997845,0.3137937224354294,-0.612749019434206,-0.07558111642014288,-0.9898859959734786,-0.45302566262413996,-0.542805561663329,-1.2844203082105614,-0.11354301196306125,-2.546874494300865,0.9872274735141424,-2.4060412325529983,0.7406303040060868,1.3494134213350881,-0.08353953585239972,-0.8649105520646212,0.5482770228978523,0.3018624903593867,-1.2696542402185156,-0.503774941664004,-0.4457561076351454,0.34242334816657516,-0.11692153010067262,-0.7692072862521319,-0.3210876224228783,-1.3428735501149156,0.08140321965759581,1.4726724276119887,-1.6872778504307941,0.7379616404172885,0.7541415956944442,0.6119192924558464,-0.6805248104558588,-0.011614579413123783,-0.9751368919345605,0.1766886661379514,-0.4773258381639982,-1.7259606922075275,-0.09290092035809304,-0.34934252493462165,-0.5455826577301464,1.223290635135926,-1.332442683803005,-0.4849294268598528],\"xaxis\":\"x14\",\"y\":[0.7068382862261344,-1.1354893661264782,-1.7781266223186643,-0.9993895145453797,0.7042164203531522,0.9560405384881885,0.6661290584108193,-0.17098627336289118,-0.47884943263231966,-2.364822463910428,-0.0008059323625490484,0.6236349146203897,0.5037184545770702,1.1317450982256376,0.5119154714049131,0.35932707096735206,-0.3663534598741199,1.1365877533477184,0.25417329023146695,-0.44218525948407367,-0.20119332766821338,1.608501409910512,-0.2712631460420925,-1.6439170779887486,0.17876806439418744,-1.288364838351231,1.2805278667353834,-1.0964905172034007,0.30062751958857203,-0.6195883464015917,1.3953980794196124,-1.208577640700005,0.960288245147989,-0.10901010075566653,-2.3995701108243384,-0.36352542201312005,0.520071777572679,0.5870382951239345,-0.8908329994099303,-0.46467533439840847,0.44781348803887583,1.5502356297804298,-0.09040555203215514,-0.007487830982206106,0.06304393372088818,-0.6021066876958482,-1.0452906870455307,0.04280170582626668,-0.374925053066271,-0.4093096611172787,-0.6815199755518858,-1.3584991478390136,-0.21632291529302258,1.11653509881535,-0.5512004547220558,0.7478135005541695,-0.7490802983477098,-0.7604155260542467,0.6323449927814072,0.48741777333043423,0.6738819084446128,0.346537145554769,-1.3061140130711606,0.8523478278571408,-0.2674966200617749,1.4248199828370094,-1.361545126902172,-0.22969931647517633,0.5756343142379796,1.2419495328788337,0.2484676967568032,1.5108745019052454,0.1781643691802824,-0.7239239997563465,-0.5524484345105191,-0.4542635822135648,1.239574019326204,-1.5166528118645612,0.1747359681792644,1.634349529239444,1.003128860486491,1.2316416206606728,-0.17373482053450465,0.6162503121616846,-0.296214462536699,-0.5833585512581337,-0.4948835396241225,-0.8975781417605502,0.09909788460379772,0.6993703963369102,-0.8098029075127882,-0.26295061467659503,-0.8758753227702814,-2.1778422617440167,1.342235000783719,0.5991546221405155,-0.4741195581901758,-1.1317104802699056,1.4645657932255527,-0.5061935595988273],\"yaxis\":\"y14\",\"type\":\"scatter\"},{\"line\":{\"color\":\"rgba(128, 128, 128, 1.0)\",\"dash\":\"solid\",\"shape\":\"linear\",\"width\":1.3},\"marker\":{\"size\":2,\"symbol\":\"circle\"},\"mode\":\"markers\",\"name\":\"D\",\"text\":\"\",\"x\":[-0.26802567468283556,0.4072064013410601,0.6461005840226851,-0.585094742432191,0.3573995808954022,0.32157802210804975,-0.16919911676177468,-0.6706351029537011,1.0804040578855634,0.28189287438921745,-0.36165626203156503,0.40971416164952523,1.4437380666462036,-0.005032774531809589,0.43212530479678285,-0.10952316599517305,0.38262622234589144,0.6467377811036394,0.8685111970322607,-0.7510330180894015,-1.3548579307174067,0.8498325036801762,0.8060292524603478,-0.05838667707323915,0.4463018940239507,-0.8859584831710968,-0.7689079747608597,-0.33101433492673465,-0.16646933127108451,-2.2234210272232295,0.09320745950272975,0.09399434578019715,1.1755308625746566,0.04959081536101905,-0.12548887832494862,0.553291027320834,-0.006846847112921158,-1.0940902480963026,1.6992610567702078,-1.2201513753331235,-1.016998263095646,1.2410220960272613,0.5650521741319647,0.3948693228115939,-0.34898058136686005,0.041142085742882646,-0.40728021294539435,-0.3383063368079199,-0.3064599522234884,-1.5547550522193543,0.8990539365717387,-1.0357492276649602,-1.7055721268397044,-0.9353285485181945,0.40881727840120746,1.0457842403635524,1.16072135846228,0.7733499372932843,0.06912451400348932,1.7668257964874858,-0.07370408678810107,-0.5992648954960853,0.0031839077604649863,-0.15511925879835184,1.2553790745400344,0.9800336531789141,-0.5852912967995566,2.6036916226598654,-0.9272942988762053,0.6237809786781634,1.0568500925681823,-1.09659045862584,-0.17215484003221654,0.43585654614856795,-0.9267392510841177,0.08561210853793365,-0.3289460799806062,0.36408037266220034,-0.6158920904266694,1.8758077683489707,-0.2488697686696133,0.08909926398044783,-0.019913649723522293,-1.5108509182391463,0.10809714907300454,0.8552468524058905,-0.12208852143184143,0.2991215257437905,-1.1485090797225774,-0.5535953264037937,-1.662812170312761,-0.1404449423341458,1.2988339639252369,1.16562945649828,-0.2227008673477981,-0.5308299782064171,2.509031912866535,-0.6009943623260816,1.1700763481812035,0.35973613592097686],\"xaxis\":\"x15\",\"y\":[0.7068382862261344,-1.1354893661264782,-1.7781266223186643,-0.9993895145453797,0.7042164203531522,0.9560405384881885,0.6661290584108193,-0.17098627336289118,-0.47884943263231966,-2.364822463910428,-0.0008059323625490484,0.6236349146203897,0.5037184545770702,1.1317450982256376,0.5119154714049131,0.35932707096735206,-0.3663534598741199,1.1365877533477184,0.25417329023146695,-0.44218525948407367,-0.20119332766821338,1.608501409910512,-0.2712631460420925,-1.6439170779887486,0.17876806439418744,-1.288364838351231,1.2805278667353834,-1.0964905172034007,0.30062751958857203,-0.6195883464015917,1.3953980794196124,-1.208577640700005,0.960288245147989,-0.10901010075566653,-2.3995701108243384,-0.36352542201312005,0.520071777572679,0.5870382951239345,-0.8908329994099303,-0.46467533439840847,0.44781348803887583,1.5502356297804298,-0.09040555203215514,-0.007487830982206106,0.06304393372088818,-0.6021066876958482,-1.0452906870455307,0.04280170582626668,-0.374925053066271,-0.4093096611172787,-0.6815199755518858,-1.3584991478390136,-0.21632291529302258,1.11653509881535,-0.5512004547220558,0.7478135005541695,-0.7490802983477098,-0.7604155260542467,0.6323449927814072,0.48741777333043423,0.6738819084446128,0.346537145554769,-1.3061140130711606,0.8523478278571408,-0.2674966200617749,1.4248199828370094,-1.361545126902172,-0.22969931647517633,0.5756343142379796,1.2419495328788337,0.2484676967568032,1.5108745019052454,0.1781643691802824,-0.7239239997563465,-0.5524484345105191,-0.4542635822135648,1.239574019326204,-1.5166528118645612,0.1747359681792644,1.634349529239444,1.003128860486491,1.2316416206606728,-0.17373482053450465,0.6162503121616846,-0.296214462536699,-0.5833585512581337,-0.4948835396241225,-0.8975781417605502,0.09909788460379772,0.6993703963369102,-0.8098029075127882,-0.26295061467659503,-0.8758753227702814,-2.1778422617440167,1.342235000783719,0.5991546221405155,-0.4741195581901758,-1.1317104802699056,1.4645657932255527,-0.5061935595988273],\"yaxis\":\"y15\",\"type\":\"scatter\"},{\"histfunc\":\"count\",\"histnorm\":\"\",\"marker\":{\"color\":\"rgba(128, 0, 128, 1.0)\",\"line\":{\"color\":\"#4D5663\",\"width\":1.3}},\"name\":\"D\",\"nbinsx\":10,\"opacity\":0.8,\"orientation\":\"v\",\"x\":[0.7068382862261344,-1.1354893661264782,-1.7781266223186643,-0.9993895145453797,0.7042164203531522,0.9560405384881885,0.6661290584108193,-0.17098627336289118,-0.47884943263231966,-2.364822463910428,-0.0008059323625490484,0.6236349146203897,0.5037184545770702,1.1317450982256376,0.5119154714049131,0.35932707096735206,-0.3663534598741199,1.1365877533477184,0.25417329023146695,-0.44218525948407367,-0.20119332766821338,1.608501409910512,-0.2712631460420925,-1.6439170779887486,0.17876806439418744,-1.288364838351231,1.2805278667353834,-1.0964905172034007,0.30062751958857203,-0.6195883464015917,1.3953980794196124,-1.208577640700005,0.960288245147989,-0.10901010075566653,-2.3995701108243384,-0.36352542201312005,0.520071777572679,0.5870382951239345,-0.8908329994099303,-0.46467533439840847,0.44781348803887583,1.5502356297804298,-0.09040555203215514,-0.007487830982206106,0.06304393372088818,-0.6021066876958482,-1.0452906870455307,0.04280170582626668,-0.374925053066271,-0.4093096611172787,-0.6815199755518858,-1.3584991478390136,-0.21632291529302258,1.11653509881535,-0.5512004547220558,0.7478135005541695,-0.7490802983477098,-0.7604155260542467,0.6323449927814072,0.48741777333043423,0.6738819084446128,0.346537145554769,-1.3061140130711606,0.8523478278571408,-0.2674966200617749,1.4248199828370094,-1.361545126902172,-0.22969931647517633,0.5756343142379796,1.2419495328788337,0.2484676967568032,1.5108745019052454,0.1781643691802824,-0.7239239997563465,-0.5524484345105191,-0.4542635822135648,1.239574019326204,-1.5166528118645612,0.1747359681792644,1.634349529239444,1.003128860486491,1.2316416206606728,-0.17373482053450465,0.6162503121616846,-0.296214462536699,-0.5833585512581337,-0.4948835396241225,-0.8975781417605502,0.09909788460379772,0.6993703963369102,-0.8098029075127882,-0.26295061467659503,-0.8758753227702814,-2.1778422617440167,1.342235000783719,0.5991546221405155,-0.4741195581901758,-1.1317104802699056,1.4645657932255527,-0.5061935595988273],\"xaxis\":\"x16\",\"yaxis\":\"y16\",\"type\":\"histogram\"}],                        {\"bargap\":0.02,\"legend\":{\"bgcolor\":\"#F5F6F9\",\"font\":{\"color\":\"#4D5663\"}},\"paper_bgcolor\":\"#F5F6F9\",\"plot_bgcolor\":\"#F5F6F9\",\"showlegend\":false,\"template\":{\"data\":{\"barpolar\":[{\"marker\":{\"line\":{\"color\":\"#E5ECF6\",\"width\":0.5},\"pattern\":{\"fillmode\":\"overlay\",\"size\":10,\"solidity\":0.2}},\"type\":\"barpolar\"}],\"bar\":[{\"error_x\":{\"color\":\"#2a3f5f\"},\"error_y\":{\"color\":\"#2a3f5f\"},\"marker\":{\"line\":{\"color\":\"#E5ECF6\",\"width\":0.5},\"pattern\":{\"fillmode\":\"overlay\",\"size\":10,\"solidity\":0.2}},\"type\":\"bar\"}],\"carpet\":[{\"aaxis\":{\"endlinecolor\":\"#2a3f5f\",\"gridcolor\":\"white\",\"linecolor\":\"white\",\"minorgridcolor\":\"white\",\"startlinecolor\":\"#2a3f5f\"},\"baxis\":{\"endlinecolor\":\"#2a3f5f\",\"gridcolor\":\"white\",\"linecolor\":\"white\",\"minorgridcolor\":\"white\",\"startlinecolor\":\"#2a3f5f\"},\"type\":\"carpet\"}],\"choropleth\":[{\"colorbar\":{\"outlinewidth\":0,\"ticks\":\"\"},\"type\":\"choropleth\"}],\"contourcarpet\":[{\"colorbar\":{\"outlinewidth\":0,\"ticks\":\"\"},\"type\":\"contourcarpet\"}],\"contour\":[{\"colorbar\":{\"outlinewidth\":0,\"ticks\":\"\"},\"colorscale\":[[0.0,\"#0d0887\"],[0.1111111111111111,\"#46039f\"],[0.2222222222222222,\"#7201a8\"],[0.3333333333333333,\"#9c179e\"],[0.4444444444444444,\"#bd3786\"],[0.5555555555555556,\"#d8576b\"],[0.6666666666666666,\"#ed7953\"],[0.7777777777777778,\"#fb9f3a\"],[0.8888888888888888,\"#fdca26\"],[1.0,\"#f0f921\"]],\"type\":\"contour\"}],\"heatmapgl\":[{\"colorbar\":{\"outlinewidth\":0,\"ticks\":\"\"},\"colorscale\":[[0.0,\"#0d0887\"],[0.1111111111111111,\"#46039f\"],[0.2222222222222222,\"#7201a8\"],[0.3333333333333333,\"#9c179e\"],[0.4444444444444444,\"#bd3786\"],[0.5555555555555556,\"#d8576b\"],[0.6666666666666666,\"#ed7953\"],[0.7777777777777778,\"#fb9f3a\"],[0.8888888888888888,\"#fdca26\"],[1.0,\"#f0f921\"]],\"type\":\"heatmapgl\"}],\"heatmap\":[{\"colorbar\":{\"outlinewidth\":0,\"ticks\":\"\"},\"colorscale\":[[0.0,\"#0d0887\"],[0.1111111111111111,\"#46039f\"],[0.2222222222222222,\"#7201a8\"],[0.3333333333333333,\"#9c179e\"],[0.4444444444444444,\"#bd3786\"],[0.5555555555555556,\"#d8576b\"],[0.6666666666666666,\"#ed7953\"],[0.7777777777777778,\"#fb9f3a\"],[0.8888888888888888,\"#fdca26\"],[1.0,\"#f0f921\"]],\"type\":\"heatmap\"}],\"histogram2dcontour\":[{\"colorbar\":{\"outlinewidth\":0,\"ticks\":\"\"},\"colorscale\":[[0.0,\"#0d0887\"],[0.1111111111111111,\"#46039f\"],[0.2222222222222222,\"#7201a8\"],[0.3333333333333333,\"#9c179e\"],[0.4444444444444444,\"#bd3786\"],[0.5555555555555556,\"#d8576b\"],[0.6666666666666666,\"#ed7953\"],[0.7777777777777778,\"#fb9f3a\"],[0.8888888888888888,\"#fdca26\"],[1.0,\"#f0f921\"]],\"type\":\"histogram2dcontour\"}],\"histogram2d\":[{\"colorbar\":{\"outlinewidth\":0,\"ticks\":\"\"},\"colorscale\":[[0.0,\"#0d0887\"],[0.1111111111111111,\"#46039f\"],[0.2222222222222222,\"#7201a8\"],[0.3333333333333333,\"#9c179e\"],[0.4444444444444444,\"#bd3786\"],[0.5555555555555556,\"#d8576b\"],[0.6666666666666666,\"#ed7953\"],[0.7777777777777778,\"#fb9f3a\"],[0.8888888888888888,\"#fdca26\"],[1.0,\"#f0f921\"]],\"type\":\"histogram2d\"}],\"histogram\":[{\"marker\":{\"pattern\":{\"fillmode\":\"overlay\",\"size\":10,\"solidity\":0.2}},\"type\":\"histogram\"}],\"mesh3d\":[{\"colorbar\":{\"outlinewidth\":0,\"ticks\":\"\"},\"type\":\"mesh3d\"}],\"parcoords\":[{\"line\":{\"colorbar\":{\"outlinewidth\":0,\"ticks\":\"\"}},\"type\":\"parcoords\"}],\"pie\":[{\"automargin\":true,\"type\":\"pie\"}],\"scatter3d\":[{\"line\":{\"colorbar\":{\"outlinewidth\":0,\"ticks\":\"\"}},\"marker\":{\"colorbar\":{\"outlinewidth\":0,\"ticks\":\"\"}},\"type\":\"scatter3d\"}],\"scattercarpet\":[{\"marker\":{\"colorbar\":{\"outlinewidth\":0,\"ticks\":\"\"}},\"type\":\"scattercarpet\"}],\"scattergeo\":[{\"marker\":{\"colorbar\":{\"outlinewidth\":0,\"ticks\":\"\"}},\"type\":\"scattergeo\"}],\"scattergl\":[{\"marker\":{\"colorbar\":{\"outlinewidth\":0,\"ticks\":\"\"}},\"type\":\"scattergl\"}],\"scattermapbox\":[{\"marker\":{\"colorbar\":{\"outlinewidth\":0,\"ticks\":\"\"}},\"type\":\"scattermapbox\"}],\"scatterpolargl\":[{\"marker\":{\"colorbar\":{\"outlinewidth\":0,\"ticks\":\"\"}},\"type\":\"scatterpolargl\"}],\"scatterpolar\":[{\"marker\":{\"colorbar\":{\"outlinewidth\":0,\"ticks\":\"\"}},\"type\":\"scatterpolar\"}],\"scatter\":[{\"fillpattern\":{\"fillmode\":\"overlay\",\"size\":10,\"solidity\":0.2},\"type\":\"scatter\"}],\"scatterternary\":[{\"marker\":{\"colorbar\":{\"outlinewidth\":0,\"ticks\":\"\"}},\"type\":\"scatterternary\"}],\"surface\":[{\"colorbar\":{\"outlinewidth\":0,\"ticks\":\"\"},\"colorscale\":[[0.0,\"#0d0887\"],[0.1111111111111111,\"#46039f\"],[0.2222222222222222,\"#7201a8\"],[0.3333333333333333,\"#9c179e\"],[0.4444444444444444,\"#bd3786\"],[0.5555555555555556,\"#d8576b\"],[0.6666666666666666,\"#ed7953\"],[0.7777777777777778,\"#fb9f3a\"],[0.8888888888888888,\"#fdca26\"],[1.0,\"#f0f921\"]],\"type\":\"surface\"}],\"table\":[{\"cells\":{\"fill\":{\"color\":\"#EBF0F8\"},\"line\":{\"color\":\"white\"}},\"header\":{\"fill\":{\"color\":\"#C8D4E3\"},\"line\":{\"color\":\"white\"}},\"type\":\"table\"}]},\"layout\":{\"annotationdefaults\":{\"arrowcolor\":\"#2a3f5f\",\"arrowhead\":0,\"arrowwidth\":1},\"autotypenumbers\":\"strict\",\"coloraxis\":{\"colorbar\":{\"outlinewidth\":0,\"ticks\":\"\"}},\"colorscale\":{\"diverging\":[[0,\"#8e0152\"],[0.1,\"#c51b7d\"],[0.2,\"#de77ae\"],[0.3,\"#f1b6da\"],[0.4,\"#fde0ef\"],[0.5,\"#f7f7f7\"],[0.6,\"#e6f5d0\"],[0.7,\"#b8e186\"],[0.8,\"#7fbc41\"],[0.9,\"#4d9221\"],[1,\"#276419\"]],\"sequential\":[[0.0,\"#0d0887\"],[0.1111111111111111,\"#46039f\"],[0.2222222222222222,\"#7201a8\"],[0.3333333333333333,\"#9c179e\"],[0.4444444444444444,\"#bd3786\"],[0.5555555555555556,\"#d8576b\"],[0.6666666666666666,\"#ed7953\"],[0.7777777777777778,\"#fb9f3a\"],[0.8888888888888888,\"#fdca26\"],[1.0,\"#f0f921\"]],\"sequentialminus\":[[0.0,\"#0d0887\"],[0.1111111111111111,\"#46039f\"],[0.2222222222222222,\"#7201a8\"],[0.3333333333333333,\"#9c179e\"],[0.4444444444444444,\"#bd3786\"],[0.5555555555555556,\"#d8576b\"],[0.6666666666666666,\"#ed7953\"],[0.7777777777777778,\"#fb9f3a\"],[0.8888888888888888,\"#fdca26\"],[1.0,\"#f0f921\"]]},\"colorway\":[\"#636efa\",\"#EF553B\",\"#00cc96\",\"#ab63fa\",\"#FFA15A\",\"#19d3f3\",\"#FF6692\",\"#B6E880\",\"#FF97FF\",\"#FECB52\"],\"font\":{\"color\":\"#2a3f5f\"},\"geo\":{\"bgcolor\":\"white\",\"lakecolor\":\"white\",\"landcolor\":\"#E5ECF6\",\"showlakes\":true,\"showland\":true,\"subunitcolor\":\"white\"},\"hoverlabel\":{\"align\":\"left\"},\"hovermode\":\"closest\",\"mapbox\":{\"style\":\"light\"},\"paper_bgcolor\":\"white\",\"plot_bgcolor\":\"#E5ECF6\",\"polar\":{\"angularaxis\":{\"gridcolor\":\"white\",\"linecolor\":\"white\",\"ticks\":\"\"},\"bgcolor\":\"#E5ECF6\",\"radialaxis\":{\"gridcolor\":\"white\",\"linecolor\":\"white\",\"ticks\":\"\"}},\"scene\":{\"xaxis\":{\"backgroundcolor\":\"#E5ECF6\",\"gridcolor\":\"white\",\"gridwidth\":2,\"linecolor\":\"white\",\"showbackground\":true,\"ticks\":\"\",\"zerolinecolor\":\"white\"},\"yaxis\":{\"backgroundcolor\":\"#E5ECF6\",\"gridcolor\":\"white\",\"gridwidth\":2,\"linecolor\":\"white\",\"showbackground\":true,\"ticks\":\"\",\"zerolinecolor\":\"white\"},\"zaxis\":{\"backgroundcolor\":\"#E5ECF6\",\"gridcolor\":\"white\",\"gridwidth\":2,\"linecolor\":\"white\",\"showbackground\":true,\"ticks\":\"\",\"zerolinecolor\":\"white\"}},\"shapedefaults\":{\"line\":{\"color\":\"#2a3f5f\"}},\"ternary\":{\"aaxis\":{\"gridcolor\":\"white\",\"linecolor\":\"white\",\"ticks\":\"\"},\"baxis\":{\"gridcolor\":\"white\",\"linecolor\":\"white\",\"ticks\":\"\"},\"bgcolor\":\"#E5ECF6\",\"caxis\":{\"gridcolor\":\"white\",\"linecolor\":\"white\",\"ticks\":\"\"}},\"title\":{\"x\":0.05},\"xaxis\":{\"automargin\":true,\"gridcolor\":\"white\",\"linecolor\":\"white\",\"ticks\":\"\",\"title\":{\"standoff\":15},\"zerolinecolor\":\"white\",\"zerolinewidth\":2},\"yaxis\":{\"automargin\":true,\"gridcolor\":\"white\",\"linecolor\":\"white\",\"ticks\":\"\",\"title\":{\"standoff\":15},\"zerolinecolor\":\"white\",\"zerolinewidth\":2}}},\"title\":{\"font\":{\"color\":\"#4D5663\"}},\"xaxis\":{\"anchor\":\"y\",\"domain\":[0.0,0.2125],\"gridcolor\":\"#E1E5ED\",\"showgrid\":false,\"tickfont\":{\"color\":\"#4D5663\"},\"title\":{\"font\":{\"color\":\"#4D5663\"},\"text\":\"\"},\"zerolinecolor\":\"#E1E5ED\"},\"yaxis\":{\"anchor\":\"x\",\"domain\":[0.8025,1.0],\"gridcolor\":\"#E1E5ED\",\"showgrid\":false,\"tickfont\":{\"color\":\"#4D5663\"},\"title\":{\"font\":{\"color\":\"#4D5663\"},\"text\":\"\"},\"zerolinecolor\":\"#E1E5ED\"},\"xaxis2\":{\"anchor\":\"y2\",\"domain\":[0.2625,0.475],\"gridcolor\":\"#E1E5ED\",\"showgrid\":false,\"tickfont\":{\"color\":\"#4D5663\"},\"title\":{\"font\":{\"color\":\"#4D5663\"},\"text\":\"\"},\"zerolinecolor\":\"#E1E5ED\"},\"yaxis2\":{\"anchor\":\"x2\",\"domain\":[0.8025,1.0],\"gridcolor\":\"#E1E5ED\",\"showgrid\":false,\"tickfont\":{\"color\":\"#4D5663\"},\"title\":{\"font\":{\"color\":\"#4D5663\"},\"text\":\"\"},\"zerolinecolor\":\"#E1E5ED\"},\"xaxis3\":{\"anchor\":\"y3\",\"domain\":[0.525,0.7375],\"gridcolor\":\"#E1E5ED\",\"showgrid\":false,\"tickfont\":{\"color\":\"#4D5663\"},\"title\":{\"font\":{\"color\":\"#4D5663\"},\"text\":\"\"},\"zerolinecolor\":\"#E1E5ED\"},\"yaxis3\":{\"anchor\":\"x3\",\"domain\":[0.8025,1.0],\"gridcolor\":\"#E1E5ED\",\"showgrid\":false,\"tickfont\":{\"color\":\"#4D5663\"},\"title\":{\"font\":{\"color\":\"#4D5663\"},\"text\":\"\"},\"zerolinecolor\":\"#E1E5ED\"},\"xaxis4\":{\"anchor\":\"y4\",\"domain\":[0.7875,1.0],\"gridcolor\":\"#E1E5ED\",\"showgrid\":false,\"tickfont\":{\"color\":\"#4D5663\"},\"title\":{\"font\":{\"color\":\"#4D5663\"},\"text\":\"\"},\"zerolinecolor\":\"#E1E5ED\"},\"yaxis4\":{\"anchor\":\"x4\",\"domain\":[0.8025,1.0],\"gridcolor\":\"#E1E5ED\",\"showgrid\":false,\"tickfont\":{\"color\":\"#4D5663\"},\"title\":{\"font\":{\"color\":\"#4D5663\"},\"text\":\"\"},\"zerolinecolor\":\"#E1E5ED\"},\"xaxis5\":{\"anchor\":\"y5\",\"domain\":[0.0,0.2125],\"gridcolor\":\"#E1E5ED\",\"showgrid\":false,\"tickfont\":{\"color\":\"#4D5663\"},\"title\":{\"font\":{\"color\":\"#4D5663\"},\"text\":\"\"},\"zerolinecolor\":\"#E1E5ED\"},\"yaxis5\":{\"anchor\":\"x5\",\"domain\":[0.535,0.7325],\"gridcolor\":\"#E1E5ED\",\"showgrid\":false,\"tickfont\":{\"color\":\"#4D5663\"},\"title\":{\"font\":{\"color\":\"#4D5663\"},\"text\":\"\"},\"zerolinecolor\":\"#E1E5ED\"},\"xaxis6\":{\"anchor\":\"y6\",\"domain\":[0.2625,0.475],\"gridcolor\":\"#E1E5ED\",\"showgrid\":false,\"tickfont\":{\"color\":\"#4D5663\"},\"title\":{\"font\":{\"color\":\"#4D5663\"},\"text\":\"\"},\"zerolinecolor\":\"#E1E5ED\"},\"yaxis6\":{\"anchor\":\"x6\",\"domain\":[0.535,0.7325],\"gridcolor\":\"#E1E5ED\",\"showgrid\":false,\"tickfont\":{\"color\":\"#4D5663\"},\"title\":{\"font\":{\"color\":\"#4D5663\"},\"text\":\"\"},\"zerolinecolor\":\"#E1E5ED\"},\"xaxis7\":{\"anchor\":\"y7\",\"domain\":[0.525,0.7375],\"gridcolor\":\"#E1E5ED\",\"showgrid\":false,\"tickfont\":{\"color\":\"#4D5663\"},\"title\":{\"font\":{\"color\":\"#4D5663\"},\"text\":\"\"},\"zerolinecolor\":\"#E1E5ED\"},\"yaxis7\":{\"anchor\":\"x7\",\"domain\":[0.535,0.7325],\"gridcolor\":\"#E1E5ED\",\"showgrid\":false,\"tickfont\":{\"color\":\"#4D5663\"},\"title\":{\"font\":{\"color\":\"#4D5663\"},\"text\":\"\"},\"zerolinecolor\":\"#E1E5ED\"},\"xaxis8\":{\"anchor\":\"y8\",\"domain\":[0.7875,1.0],\"gridcolor\":\"#E1E5ED\",\"showgrid\":false,\"tickfont\":{\"color\":\"#4D5663\"},\"title\":{\"font\":{\"color\":\"#4D5663\"},\"text\":\"\"},\"zerolinecolor\":\"#E1E5ED\"},\"yaxis8\":{\"anchor\":\"x8\",\"domain\":[0.535,0.7325],\"gridcolor\":\"#E1E5ED\",\"showgrid\":false,\"tickfont\":{\"color\":\"#4D5663\"},\"title\":{\"font\":{\"color\":\"#4D5663\"},\"text\":\"\"},\"zerolinecolor\":\"#E1E5ED\"},\"xaxis9\":{\"anchor\":\"y9\",\"domain\":[0.0,0.2125],\"gridcolor\":\"#E1E5ED\",\"showgrid\":false,\"tickfont\":{\"color\":\"#4D5663\"},\"title\":{\"font\":{\"color\":\"#4D5663\"},\"text\":\"\"},\"zerolinecolor\":\"#E1E5ED\"},\"yaxis9\":{\"anchor\":\"x9\",\"domain\":[0.2675,0.465],\"gridcolor\":\"#E1E5ED\",\"showgrid\":false,\"tickfont\":{\"color\":\"#4D5663\"},\"title\":{\"font\":{\"color\":\"#4D5663\"},\"text\":\"\"},\"zerolinecolor\":\"#E1E5ED\"},\"xaxis10\":{\"anchor\":\"y10\",\"domain\":[0.2625,0.475],\"gridcolor\":\"#E1E5ED\",\"showgrid\":false,\"tickfont\":{\"color\":\"#4D5663\"},\"title\":{\"font\":{\"color\":\"#4D5663\"},\"text\":\"\"},\"zerolinecolor\":\"#E1E5ED\"},\"yaxis10\":{\"anchor\":\"x10\",\"domain\":[0.2675,0.465],\"gridcolor\":\"#E1E5ED\",\"showgrid\":false,\"tickfont\":{\"color\":\"#4D5663\"},\"title\":{\"font\":{\"color\":\"#4D5663\"},\"text\":\"\"},\"zerolinecolor\":\"#E1E5ED\"},\"xaxis11\":{\"anchor\":\"y11\",\"domain\":[0.525,0.7375],\"gridcolor\":\"#E1E5ED\",\"showgrid\":false,\"tickfont\":{\"color\":\"#4D5663\"},\"title\":{\"font\":{\"color\":\"#4D5663\"},\"text\":\"\"},\"zerolinecolor\":\"#E1E5ED\"},\"yaxis11\":{\"anchor\":\"x11\",\"domain\":[0.2675,0.465],\"gridcolor\":\"#E1E5ED\",\"showgrid\":false,\"tickfont\":{\"color\":\"#4D5663\"},\"title\":{\"font\":{\"color\":\"#4D5663\"},\"text\":\"\"},\"zerolinecolor\":\"#E1E5ED\"},\"xaxis12\":{\"anchor\":\"y12\",\"domain\":[0.7875,1.0],\"gridcolor\":\"#E1E5ED\",\"showgrid\":false,\"tickfont\":{\"color\":\"#4D5663\"},\"title\":{\"font\":{\"color\":\"#4D5663\"},\"text\":\"\"},\"zerolinecolor\":\"#E1E5ED\"},\"yaxis12\":{\"anchor\":\"x12\",\"domain\":[0.2675,0.465],\"gridcolor\":\"#E1E5ED\",\"showgrid\":false,\"tickfont\":{\"color\":\"#4D5663\"},\"title\":{\"font\":{\"color\":\"#4D5663\"},\"text\":\"\"},\"zerolinecolor\":\"#E1E5ED\"},\"xaxis13\":{\"anchor\":\"y13\",\"domain\":[0.0,0.2125],\"gridcolor\":\"#E1E5ED\",\"showgrid\":false,\"tickfont\":{\"color\":\"#4D5663\"},\"title\":{\"font\":{\"color\":\"#4D5663\"},\"text\":\"\"},\"zerolinecolor\":\"#E1E5ED\"},\"yaxis13\":{\"anchor\":\"x13\",\"domain\":[0.0,0.1975],\"gridcolor\":\"#E1E5ED\",\"showgrid\":false,\"tickfont\":{\"color\":\"#4D5663\"},\"title\":{\"font\":{\"color\":\"#4D5663\"},\"text\":\"\"},\"zerolinecolor\":\"#E1E5ED\"},\"xaxis14\":{\"anchor\":\"y14\",\"domain\":[0.2625,0.475],\"gridcolor\":\"#E1E5ED\",\"showgrid\":false,\"tickfont\":{\"color\":\"#4D5663\"},\"title\":{\"font\":{\"color\":\"#4D5663\"},\"text\":\"\"},\"zerolinecolor\":\"#E1E5ED\"},\"yaxis14\":{\"anchor\":\"x14\",\"domain\":[0.0,0.1975],\"gridcolor\":\"#E1E5ED\",\"showgrid\":false,\"tickfont\":{\"color\":\"#4D5663\"},\"title\":{\"font\":{\"color\":\"#4D5663\"},\"text\":\"\"},\"zerolinecolor\":\"#E1E5ED\"},\"xaxis15\":{\"anchor\":\"y15\",\"domain\":[0.525,0.7375],\"gridcolor\":\"#E1E5ED\",\"showgrid\":false,\"tickfont\":{\"color\":\"#4D5663\"},\"title\":{\"font\":{\"color\":\"#4D5663\"},\"text\":\"\"},\"zerolinecolor\":\"#E1E5ED\"},\"yaxis15\":{\"anchor\":\"x15\",\"domain\":[0.0,0.1975],\"gridcolor\":\"#E1E5ED\",\"showgrid\":false,\"tickfont\":{\"color\":\"#4D5663\"},\"title\":{\"font\":{\"color\":\"#4D5663\"},\"text\":\"\"},\"zerolinecolor\":\"#E1E5ED\"},\"xaxis16\":{\"anchor\":\"y16\",\"domain\":[0.7875,1.0],\"gridcolor\":\"#E1E5ED\",\"showgrid\":false,\"tickfont\":{\"color\":\"#4D5663\"},\"title\":{\"font\":{\"color\":\"#4D5663\"},\"text\":\"\"},\"zerolinecolor\":\"#E1E5ED\"},\"yaxis16\":{\"anchor\":\"x16\",\"domain\":[0.0,0.1975],\"gridcolor\":\"#E1E5ED\",\"showgrid\":false,\"tickfont\":{\"color\":\"#4D5663\"},\"title\":{\"font\":{\"color\":\"#4D5663\"},\"text\":\"\"},\"zerolinecolor\":\"#E1E5ED\"}},                        {\"showLink\": true, \"linkText\": \"Export to plot.ly\", \"plotlyServerURL\": \"https://plot.ly\", \"responsive\": true}                    ).then(function(){\n",
       "                            \n",
       "var gd = document.getElementById('c26224bf-5459-4dac-b9bd-185dd71d0146');\n",
       "var x = new MutationObserver(function (mutations, observer) {{\n",
       "        var display = window.getComputedStyle(gd).display;\n",
       "        if (!display || display === 'none') {{\n",
       "            console.log([gd, 'removed!']);\n",
       "            Plotly.purge(gd);\n",
       "            observer.disconnect();\n",
       "        }}\n",
       "}});\n",
       "\n",
       "// Listen for the removal of the full notebook cells\n",
       "var notebookContainer = gd.closest('#notebook-container');\n",
       "if (notebookContainer) {{\n",
       "    x.observe(notebookContainer, {childList: true});\n",
       "}}\n",
       "\n",
       "// Listen for the clearing of the current output cell\n",
       "var outputEl = gd.closest('.output');\n",
       "if (outputEl) {{\n",
       "    x.observe(outputEl, {childList: true});\n",
       "}}\n",
       "\n",
       "                        })                };                });            </script>        </div>"
      ]
     },
     "metadata": {},
     "output_type": "display_data"
    }
   ],
   "source": [
    "df.scatter_matrix()\n",
    "# make sure all your columns are numerical for this to work...."
   ]
  },
  {
   "cell_type": "code",
   "execution_count": null,
   "id": "8d1fed53",
   "metadata": {},
   "outputs": [],
   "source": []
  },
  {
   "cell_type": "code",
   "execution_count": null,
   "id": "784160dc",
   "metadata": {},
   "outputs": [],
   "source": []
  }
 ],
 "metadata": {
  "kernelspec": {
   "display_name": "Python 3 (ipykernel)",
   "language": "python",
   "name": "python3"
  },
  "language_info": {
   "codemirror_mode": {
    "name": "ipython",
    "version": 3
   },
   "file_extension": ".py",
   "mimetype": "text/x-python",
   "name": "python",
   "nbconvert_exporter": "python",
   "pygments_lexer": "ipython3",
   "version": "3.9.13"
  }
 },
 "nbformat": 4,
 "nbformat_minor": 5
}
