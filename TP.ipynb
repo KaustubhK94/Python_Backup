{
 "cells": [
  {
   "cell_type": "code",
   "execution_count": 4,
   "id": "bbea1218",
   "metadata": {},
   "outputs": [],
   "source": [
    "# def random_pipe():\n",
    "#     pipe = []\n",
    "#     pipe.append(\"a\")\n",
    "#     pipe.append(\"b\")\n",
    "#     print(pipe)"
   ]
  },
  {
   "cell_type": "code",
   "execution_count": 5,
   "id": "e2e81fce",
   "metadata": {},
   "outputs": [
    {
     "name": "stdout",
     "output_type": "stream",
     "text": [
      "['a', 'b']\n"
     ]
    }
   ],
   "source": [
    "# random_pipe()"
   ]
  },
  {
   "cell_type": "code",
   "execution_count": null,
   "id": "983b296b",
   "metadata": {},
   "outputs": [],
   "source": [
    "def prime_num(num):\n",
    "    if num <2:\n",
    "        return 0\n",
    "    my_list = [2]\n",
    "    x = 3\n",
    "    for y in range(3,num,2):\n",
    "        while y <= x and x <= num:\n",
    "            if x%y != 0:\n",
    "                my_list.append(x)\n",
    "                x+=2\n",
    "    print(my_list)"
   ]
  },
  {
   "cell_type": "code",
   "execution_count": null,
   "id": "3ca18cd5",
   "metadata": {},
   "outputs": [],
   "source": []
  },
  {
   "cell_type": "code",
   "execution_count": null,
   "id": "27180fbc",
   "metadata": {},
   "outputs": [],
   "source": []
  },
  {
   "cell_type": "code",
   "execution_count": null,
   "id": "bf499997",
   "metadata": {},
   "outputs": [],
   "source": []
  },
  {
   "cell_type": "code",
   "execution_count": 130,
   "id": "44da436d",
   "metadata": {},
   "outputs": [],
   "source": [
    "# List = []\n",
    "# a = (20,30)\n",
    "# b = (50,60)\n",
    "# List.append(list(a))\n",
    "# List.append(list(b))"
   ]
  },
  {
   "cell_type": "code",
   "execution_count": 131,
   "id": "70bc014e",
   "metadata": {},
   "outputs": [
    {
     "name": "stdout",
     "output_type": "stream",
     "text": [
      "[[20, 30], [50, 60]]\n"
     ]
    }
   ],
   "source": [
    "# print(List)"
   ]
  },
  {
   "cell_type": "code",
   "execution_count": 133,
   "id": "2d64944e",
   "metadata": {},
   "outputs": [
    {
     "data": {
      "text/plain": [
       "20"
      ]
     },
     "execution_count": 133,
     "metadata": {},
     "output_type": "execute_result"
    }
   ],
   "source": [
    "# List[0][0]"
   ]
  },
  {
   "cell_type": "code",
   "execution_count": 108,
   "id": "46afcce3",
   "metadata": {},
   "outputs": [],
   "source": [
    "#  print(index(tuple(k))"
   ]
  },
  {
   "cell_type": "code",
   "execution_count": 113,
   "id": "25da0484",
   "metadata": {},
   "outputs": [],
   "source": [
    "# def move(tup):\n",
    "#     for x in tup:\n",
    "#         pass"
   ]
  },
  {
   "cell_type": "code",
   "execution_count": 114,
   "id": "1270293f",
   "metadata": {},
   "outputs": [],
   "source": [
    "# ans = map(move,result)"
   ]
  },
  {
   "cell_type": "code",
   "execution_count": 115,
   "id": "8166232c",
   "metadata": {},
   "outputs": [
    {
     "name": "stdout",
     "output_type": "stream",
     "text": [
      "<map object at 0x000002C1C8AA8E50>\n"
     ]
    }
   ],
   "source": [
    "# print(ans)"
   ]
  },
  {
   "cell_type": "code",
   "execution_count": 117,
   "id": "6092d4ea",
   "metadata": {},
   "outputs": [],
   "source": [
    "# a = [[[23,10],[22,40]]]"
   ]
  },
  {
   "cell_type": "code",
   "execution_count": 120,
   "id": "8d7c4fbf",
   "metadata": {},
   "outputs": [],
   "source": [
    "# a[0][0][0]"
   ]
  },
  {
   "cell_type": "code",
   "execution_count": null,
   "id": "50fc6458",
   "metadata": {},
   "outputs": [],
   "source": []
  },
  {
   "cell_type": "code",
   "execution_count": 53,
   "id": "c9ad8c99",
   "metadata": {},
   "outputs": [],
   "source": [
    "List = [0,1,2,3]"
   ]
  },
  {
   "cell_type": "code",
   "execution_count": 54,
   "id": "ba64ef7b",
   "metadata": {},
   "outputs": [
    {
     "name": "stdout",
     "output_type": "stream",
     "text": [
      "[0, 1, 0, 3]\n",
      "0\n",
      "[0, 1, 1, 3]\n",
      "1\n",
      "[0, 1, 1, 3]\n",
      "1\n",
      "[0, 1, 3, 3]\n",
      "3\n"
     ]
    }
   ],
   "source": [
    "for List[-2] in List:\n",
    "    print(List)\n",
    "    print(List[-2])"
   ]
  },
  {
   "cell_type": "code",
   "execution_count": 55,
   "id": "90adfbc4",
   "metadata": {},
   "outputs": [],
   "source": [
    "birds = {1,2,3,4}\n",
    "birds.update(\"5\")"
   ]
  },
  {
   "cell_type": "code",
   "execution_count": 56,
   "id": "111ef9a3",
   "metadata": {},
   "outputs": [
    {
     "data": {
      "text/plain": [
       "{1, 2, 3, 4, '5'}"
      ]
     },
     "execution_count": 56,
     "metadata": {},
     "output_type": "execute_result"
    }
   ],
   "source": [
    "birds"
   ]
  },
  {
   "cell_type": "code",
   "execution_count": 57,
   "id": "3543bf68",
   "metadata": {},
   "outputs": [],
   "source": [
    "birds.add(\"6\")"
   ]
  },
  {
   "cell_type": "code",
   "execution_count": 60,
   "id": "0d643497",
   "metadata": {},
   "outputs": [
    {
     "data": {
      "text/plain": [
       "{1, 2, 3, 4, '5', '6'}"
      ]
     },
     "execution_count": 60,
     "metadata": {},
     "output_type": "execute_result"
    }
   ],
   "source": [
    "birds"
   ]
  },
  {
   "cell_type": "code",
   "execution_count": 62,
   "id": "525f09c7",
   "metadata": {},
   "outputs": [],
   "source": [
    "import pandas as pd"
   ]
  },
  {
   "cell_type": "code",
   "execution_count": 63,
   "id": "26fa2c8b",
   "metadata": {},
   "outputs": [],
   "source": [
    "mydict = [{'a': 1, 'b': 2, 'c': 3, 'd': 4},\n",
    "          {'a': 100, 'b': 200, 'c': 300, 'd': 400},\n",
    "          {'a': 1000, 'b': 2000, 'c': 3000, 'd': 4000 }]"
   ]
  },
  {
   "cell_type": "code",
   "execution_count": 64,
   "id": "d7f1b0a6",
   "metadata": {},
   "outputs": [],
   "source": [
    "# df = pd.read_csv(\"Somefilenamewithlocation.csv\")\n",
    "# dataset = pd.Dataframe(df.data)\n",
    "# dataset.columns = df.feature_names\n",
    "# print(dataset.head)\n",
    "# dataset.head()"
   ]
  },
  {
   "cell_type": "code",
   "execution_count": 65,
   "id": "bfebea7e",
   "metadata": {},
   "outputs": [],
   "source": [
    "# X = dataset.iloc[:,:-1]\n",
    "# y = dataset.iloc[:,-1]"
   ]
  },
  {
   "cell_type": "code",
   "execution_count": 67,
   "id": "16e0e836",
   "metadata": {},
   "outputs": [],
   "source": [
    "df = pd.DataFrame(mydict)"
   ]
  },
  {
   "cell_type": "code",
   "execution_count": 68,
   "id": "9a5f96ec",
   "metadata": {},
   "outputs": [
    {
     "data": {
      "text/html": [
       "<div>\n",
       "<style scoped>\n",
       "    .dataframe tbody tr th:only-of-type {\n",
       "        vertical-align: middle;\n",
       "    }\n",
       "\n",
       "    .dataframe tbody tr th {\n",
       "        vertical-align: top;\n",
       "    }\n",
       "\n",
       "    .dataframe thead th {\n",
       "        text-align: right;\n",
       "    }\n",
       "</style>\n",
       "<table border=\"1\" class=\"dataframe\">\n",
       "  <thead>\n",
       "    <tr style=\"text-align: right;\">\n",
       "      <th></th>\n",
       "      <th>a</th>\n",
       "      <th>b</th>\n",
       "      <th>c</th>\n",
       "      <th>d</th>\n",
       "    </tr>\n",
       "  </thead>\n",
       "  <tbody>\n",
       "    <tr>\n",
       "      <th>0</th>\n",
       "      <td>1</td>\n",
       "      <td>2</td>\n",
       "      <td>3</td>\n",
       "      <td>4</td>\n",
       "    </tr>\n",
       "    <tr>\n",
       "      <th>1</th>\n",
       "      <td>100</td>\n",
       "      <td>200</td>\n",
       "      <td>300</td>\n",
       "      <td>400</td>\n",
       "    </tr>\n",
       "    <tr>\n",
       "      <th>2</th>\n",
       "      <td>1000</td>\n",
       "      <td>2000</td>\n",
       "      <td>3000</td>\n",
       "      <td>4000</td>\n",
       "    </tr>\n",
       "  </tbody>\n",
       "</table>\n",
       "</div>"
      ],
      "text/plain": [
       "      a     b     c     d\n",
       "0     1     2     3     4\n",
       "1   100   200   300   400\n",
       "2  1000  2000  3000  4000"
      ]
     },
     "execution_count": 68,
     "metadata": {},
     "output_type": "execute_result"
    }
   ],
   "source": [
    "df"
   ]
  },
  {
   "cell_type": "code",
   "execution_count": 84,
   "id": "d33443d3",
   "metadata": {},
   "outputs": [
    {
     "data": {
      "text/html": [
       "<div>\n",
       "<style scoped>\n",
       "    .dataframe tbody tr th:only-of-type {\n",
       "        vertical-align: middle;\n",
       "    }\n",
       "\n",
       "    .dataframe tbody tr th {\n",
       "        vertical-align: top;\n",
       "    }\n",
       "\n",
       "    .dataframe thead th {\n",
       "        text-align: right;\n",
       "    }\n",
       "</style>\n",
       "<table border=\"1\" class=\"dataframe\">\n",
       "  <thead>\n",
       "    <tr style=\"text-align: right;\">\n",
       "      <th></th>\n",
       "      <th>a</th>\n",
       "      <th>b</th>\n",
       "      <th>c</th>\n",
       "      <th>d</th>\n",
       "    </tr>\n",
       "  </thead>\n",
       "  <tbody>\n",
       "    <tr>\n",
       "      <th>0</th>\n",
       "      <td>1</td>\n",
       "      <td>2</td>\n",
       "      <td>3</td>\n",
       "      <td>4</td>\n",
       "    </tr>\n",
       "    <tr>\n",
       "      <th>1</th>\n",
       "      <td>100</td>\n",
       "      <td>200</td>\n",
       "      <td>300</td>\n",
       "      <td>400</td>\n",
       "    </tr>\n",
       "  </tbody>\n",
       "</table>\n",
       "</div>"
      ],
      "text/plain": [
       "     a    b    c    d\n",
       "0    1    2    3    4\n",
       "1  100  200  300  400"
      ]
     },
     "execution_count": 84,
     "metadata": {},
     "output_type": "execute_result"
    }
   ],
   "source": [
    "df.iloc[:-1]"
   ]
  },
  {
   "cell_type": "code",
   "execution_count": null,
   "id": "c7785ef3",
   "metadata": {},
   "outputs": [],
   "source": []
  },
  {
   "cell_type": "code",
   "execution_count": 43,
   "id": "2c10a21d",
   "metadata": {},
   "outputs": [],
   "source": [
    "from sklearn.linear_model import LinearRegression"
   ]
  },
  {
   "cell_type": "code",
   "execution_count": 44,
   "id": "b4cfd42e",
   "metadata": {},
   "outputs": [],
   "source": [
    "import numpy as np\n",
    "from sklearn.model_selection import train_test_split\n",
    "x,y = np.arange(10).reshape((5,2)),range(5)"
   ]
  },
  {
   "cell_type": "code",
   "execution_count": 55,
   "id": "ab8778d0",
   "metadata": {},
   "outputs": [
    {
     "data": {
      "text/plain": [
       "(array([[0, 1],\n",
       "        [2, 3],\n",
       "        [4, 5],\n",
       "        [6, 7],\n",
       "        [8, 9]]),\n",
       " range(0, 5))"
      ]
     },
     "execution_count": 55,
     "metadata": {},
     "output_type": "execute_result"
    }
   ],
   "source": [
    "x,y"
   ]
  },
  {
   "cell_type": "code",
   "execution_count": 45,
   "id": "9bfe3257",
   "metadata": {},
   "outputs": [
    {
     "data": {
      "text/plain": [
       "array([[0, 1],\n",
       "       [2, 3],\n",
       "       [4, 5],\n",
       "       [6, 7],\n",
       "       [8, 9]])"
      ]
     },
     "execution_count": 45,
     "metadata": {},
     "output_type": "execute_result"
    }
   ],
   "source": [
    "x"
   ]
  },
  {
   "cell_type": "code",
   "execution_count": 46,
   "id": "db7f41db",
   "metadata": {},
   "outputs": [
    {
     "data": {
      "text/plain": [
       "[0, 1, 2, 3, 4]"
      ]
     },
     "execution_count": 46,
     "metadata": {},
     "output_type": "execute_result"
    }
   ],
   "source": [
    "list(y)"
   ]
  },
  {
   "cell_type": "code",
   "execution_count": 47,
   "id": "885de45f",
   "metadata": {},
   "outputs": [],
   "source": [
    "x_train ,x_test, y_train, y_test = train_test_split(x,y,test_size=0.3)"
   ]
  },
  {
   "cell_type": "code",
   "execution_count": 48,
   "id": "b11fdfc0",
   "metadata": {},
   "outputs": [
    {
     "data": {
      "text/plain": [
       "array([[2, 3],\n",
       "       [4, 5],\n",
       "       [0, 1]])"
      ]
     },
     "execution_count": 48,
     "metadata": {},
     "output_type": "execute_result"
    }
   ],
   "source": [
    "x_train"
   ]
  },
  {
   "cell_type": "code",
   "execution_count": 49,
   "id": "f67311ac",
   "metadata": {},
   "outputs": [
    {
     "data": {
      "text/plain": [
       "array([[6, 7],\n",
       "       [8, 9]])"
      ]
     },
     "execution_count": 49,
     "metadata": {},
     "output_type": "execute_result"
    }
   ],
   "source": [
    "x_test"
   ]
  },
  {
   "cell_type": "code",
   "execution_count": 50,
   "id": "4241bc64",
   "metadata": {},
   "outputs": [
    {
     "data": {
      "text/plain": [
       "[3, 4]"
      ]
     },
     "execution_count": 50,
     "metadata": {},
     "output_type": "execute_result"
    }
   ],
   "source": [
    "y_test"
   ]
  },
  {
   "cell_type": "code",
   "execution_count": 51,
   "id": "b262e128",
   "metadata": {},
   "outputs": [
    {
     "data": {
      "text/plain": [
       "LinearRegression()"
      ]
     },
     "execution_count": 51,
     "metadata": {},
     "output_type": "execute_result"
    }
   ],
   "source": [
    "lin_reg = LinearRegression()\n",
    "lin_reg.fit(x_train,y_train)\n",
    "# model.fit(x_train,y_train)"
   ]
  },
  {
   "cell_type": "code",
   "execution_count": 52,
   "id": "99b11f85",
   "metadata": {},
   "outputs": [],
   "source": [
    "prediction = lin_reg.predict(x_test)"
   ]
  },
  {
   "cell_type": "code",
   "execution_count": 53,
   "id": "53fb1221",
   "metadata": {},
   "outputs": [
    {
     "data": {
      "text/plain": [
       "array([3., 4.])"
      ]
     },
     "execution_count": 53,
     "metadata": {},
     "output_type": "execute_result"
    }
   ],
   "source": [
    "prediction"
   ]
  },
  {
   "cell_type": "code",
   "execution_count": 54,
   "id": "a70752b8",
   "metadata": {},
   "outputs": [
    {
     "data": {
      "text/plain": [
       "1.0"
      ]
     },
     "execution_count": 54,
     "metadata": {},
     "output_type": "execute_result"
    }
   ],
   "source": [
    "lin_reg.score(x_test,y_test)"
   ]
  },
  {
   "cell_type": "code",
   "execution_count": null,
   "id": "b90bdf62",
   "metadata": {},
   "outputs": [],
   "source": []
  },
  {
   "cell_type": "code",
   "execution_count": null,
   "id": "3e6ee996",
   "metadata": {},
   "outputs": [],
   "source": []
  },
  {
   "cell_type": "code",
   "execution_count": null,
   "id": "f185929e",
   "metadata": {},
   "outputs": [],
   "source": []
  },
  {
   "cell_type": "code",
   "execution_count": null,
   "id": "2b68289d",
   "metadata": {},
   "outputs": [],
   "source": []
  },
  {
   "cell_type": "code",
   "execution_count": 3,
   "id": "495367d8",
   "metadata": {},
   "outputs": [],
   "source": [
    "# def romanToInt():\n",
    "#     romn = str(input(\"Enter roman number \"))\n",
    "#     num = 0\n",
    "#     for i in romn:\n",
    "#         if i == \"I\":\n",
    "#             num+=1\n",
    "#         elif i == \"V\":\n",
    "#             num += 5\n",
    "#         elif i == \"X\":\n",
    "#             num += 10\n",
    "#         elif i ==\"L\":\n",
    "#             num += 50\n",
    "#         elif i ==\"C\":\n",
    "#             num += 100\n",
    "#         elif i == \"D\":\n",
    "#             num += 500\n",
    "#         elif i == \"M\":\n",
    "#             num+=1000\n",
    "#         if i < i+1:\n",
    "#             k = (i+1) - (i)\n",
    "#             return k\n",
    "#         return num    \n"
   ]
  },
  {
   "cell_type": "code",
   "execution_count": 1,
   "id": "782e4a0e",
   "metadata": {},
   "outputs": [],
   "source": [
    "# dict = {\"I\":1,\"V\":5,\"X\":10,\"L\":50,\"C\":100,\"D\":500,\"M\":1000}\n",
    "# for i in romn:\n",
    "#     if i < i+1:\n",
    "#         k = (i+1) - i\n",
    "#     return k\n",
    "#     else:\n",
    "\n",
    "\n",
    "# print(i)\n",
    "#         num+=mydict[i]\n",
    "#         while romn.index(i) in range(len(romn)):\n",
    "#             if mydict[i] < mydict[romn[romn.index(i)+1]]:\n",
    "#                 k = mydict[romn[romn.index(i)+1]] - mydict[i]\n",
    "#                 num += k\n",
    "#                 break"
   ]
  },
  {
   "cell_type": "code",
   "execution_count": 1,
   "id": "38d85ec8",
   "metadata": {},
   "outputs": [],
   "source": [
    "# def romanToInt():\n",
    "#     dict = {\"I\":1,\"V\":5,\"X\":10,\"L\":50,\"C\":100,\"D\":500,\"M\":1000}\n",
    "#     romn = input(\"Enter roman number \")\n",
    "#     num = 0\n",
    "#     for i in romn:\n",
    "#         while romn.index(i) <= len(romn):\n",
    "#             if dict[i] < dict[romn[romn.index(i)+1]]:   #.index(dict[i]):\n",
    "#                 k = dict[romn[romn.index(i)+1]] - dict[i]\n",
    "#                 num+=k\n",
    "#         else:\n",
    "#             num+=dict[i]\n",
    "#         return num        "
   ]
  },
  {
   "cell_type": "code",
   "execution_count": null,
   "id": "c66c890a",
   "metadata": {},
   "outputs": [
    {
     "name": "stdout",
     "output_type": "stream",
     "text": [
      "Enter roman number IV\n"
     ]
    }
   ],
   "source": [
    "romanToInt()"
   ]
  },
  {
   "cell_type": "code",
   "execution_count": null,
   "id": "c3cf153d",
   "metadata": {},
   "outputs": [],
   "source": []
  },
  {
   "cell_type": "code",
   "execution_count": null,
   "id": "1bcaf259",
   "metadata": {},
   "outputs": [],
   "source": []
  },
  {
   "cell_type": "code",
   "execution_count": null,
   "id": "c711bb67",
   "metadata": {},
   "outputs": [],
   "source": []
  },
  {
   "cell_type": "code",
   "execution_count": 2,
   "id": "33693f3a",
   "metadata": {},
   "outputs": [
    {
     "name": "stdout",
     "output_type": "stream",
     "text": [
      "2\n"
     ]
    },
    {
     "data": {
      "text/plain": [
       "'V'"
      ]
     },
     "execution_count": 2,
     "metadata": {},
     "output_type": "execute_result"
    }
   ],
   "source": [
    "mydict = {\"I\":1,\"V\":5,\"X\":10,\"L\":50,\"C\":100,\"D\":500,\"M\":1000}\n",
    "\n",
    "jail = \"IV\"\n",
    "team =jail[jail.index(\"I\")+1]\n",
    "print(len(jail))\n",
    "team"
   ]
  },
  {
   "cell_type": "code",
   "execution_count": null,
   "id": "fc651c8e",
   "metadata": {},
   "outputs": [],
   "source": []
  },
  {
   "cell_type": "code",
   "execution_count": 10,
   "id": "aa897c6a",
   "metadata": {},
   "outputs": [],
   "source": [
    "def romanToInt():\n",
    "    mydict = {\"I\":1,\"V\":5,\"X\":10,\"L\":50,\"C\":100,\"D\":500,\"M\":1000}\n",
    "    roman = input(\"Enter roman number \")\n",
    "    num = 0\n",
    "    for i in roman:\n",
    "#         num += mydict[i]\n",
    "        num += mydict[i]\n",
    "        while roman.index(i) < len(roman)-1:\n",
    "            if mydict[i] < mydict[roman[roman.index(i)+1]]:\n",
    "                k = mydict[roman[roman.index(i)+1]] - mydict[i]\n",
    "                num += k\n",
    "#             if mydict[i] >= mydict[roman[roman.index(i)+1]]:\n",
    "                \n",
    "                break5\n",
    "#         while roman.index(i) < (len(roman)-1):\n",
    "#             print(roman.index(i)) \n",
    "#             if mydict[i] < mydict[roman[roman.index(i)+1]]:\n",
    "#                 k = mydict[roman[roman.index(i)+1]] - mydict[i]\n",
    "#                 num += k\n",
    "#                 if num not in list(mydict.values()):\n",
    "#                     break\n",
    "#                 return \"Wrong Input\"\n",
    "            \n",
    "    return (f\"The integer is {num}\")"
   ]
  },
  {
   "cell_type": "code",
   "execution_count": 11,
   "id": "8d32b989",
   "metadata": {},
   "outputs": [],
   "source": [
    "# MCMXCIV"
   ]
  },
  {
   "cell_type": "code",
   "execution_count": 12,
   "id": "2552187f",
   "metadata": {},
   "outputs": [
    {
     "name": "stdout",
     "output_type": "stream",
     "text": [
      "Enter roman number XI\n"
     ]
    },
    {
     "ename": "KeyboardInterrupt",
     "evalue": "",
     "output_type": "error",
     "traceback": [
      "\u001b[1;31m---------------------------------------------------------------------------\u001b[0m",
      "\u001b[1;31mKeyboardInterrupt\u001b[0m                         Traceback (most recent call last)",
      "\u001b[1;32mC:\\Users\\KAUSTU~1\\AppData\\Local\\Temp/ipykernel_24468/3609644681.py\u001b[0m in \u001b[0;36m<module>\u001b[1;34m\u001b[0m\n\u001b[1;32m----> 1\u001b[1;33m \u001b[0mromanToInt\u001b[0m\u001b[1;33m(\u001b[0m\u001b[1;33m)\u001b[0m\u001b[1;33m\u001b[0m\u001b[1;33m\u001b[0m\u001b[0m\n\u001b[0m",
      "\u001b[1;32mC:\\Users\\KAUSTU~1\\AppData\\Local\\Temp/ipykernel_24468/473272670.py\u001b[0m in \u001b[0;36mromanToInt\u001b[1;34m()\u001b[0m\n\u001b[0;32m      8\u001b[0m         \u001b[0mnum\u001b[0m \u001b[1;33m+=\u001b[0m \u001b[0mmydict\u001b[0m\u001b[1;33m[\u001b[0m\u001b[0mi\u001b[0m\u001b[1;33m]\u001b[0m\u001b[1;33m\u001b[0m\u001b[1;33m\u001b[0m\u001b[0m\n\u001b[0;32m      9\u001b[0m         \u001b[1;32mwhile\u001b[0m \u001b[0mroman\u001b[0m\u001b[1;33m.\u001b[0m\u001b[0mindex\u001b[0m\u001b[1;33m(\u001b[0m\u001b[0mi\u001b[0m\u001b[1;33m)\u001b[0m \u001b[1;33m<\u001b[0m \u001b[0mlen\u001b[0m\u001b[1;33m(\u001b[0m\u001b[0mroman\u001b[0m\u001b[1;33m)\u001b[0m\u001b[1;33m-\u001b[0m\u001b[1;36m1\u001b[0m\u001b[1;33m:\u001b[0m\u001b[1;33m\u001b[0m\u001b[1;33m\u001b[0m\u001b[0m\n\u001b[1;32m---> 10\u001b[1;33m             \u001b[1;32mif\u001b[0m \u001b[0mmydict\u001b[0m\u001b[1;33m[\u001b[0m\u001b[0mi\u001b[0m\u001b[1;33m]\u001b[0m \u001b[1;33m<\u001b[0m \u001b[0mmydict\u001b[0m\u001b[1;33m[\u001b[0m\u001b[0mroman\u001b[0m\u001b[1;33m[\u001b[0m\u001b[0mroman\u001b[0m\u001b[1;33m.\u001b[0m\u001b[0mindex\u001b[0m\u001b[1;33m(\u001b[0m\u001b[0mi\u001b[0m\u001b[1;33m)\u001b[0m\u001b[1;33m+\u001b[0m\u001b[1;36m1\u001b[0m\u001b[1;33m]\u001b[0m\u001b[1;33m]\u001b[0m\u001b[1;33m:\u001b[0m\u001b[1;33m\u001b[0m\u001b[1;33m\u001b[0m\u001b[0m\n\u001b[0m\u001b[0;32m     11\u001b[0m                 \u001b[0mk\u001b[0m \u001b[1;33m=\u001b[0m \u001b[0mmydict\u001b[0m\u001b[1;33m[\u001b[0m\u001b[0mroman\u001b[0m\u001b[1;33m[\u001b[0m\u001b[0mroman\u001b[0m\u001b[1;33m.\u001b[0m\u001b[0mindex\u001b[0m\u001b[1;33m(\u001b[0m\u001b[0mi\u001b[0m\u001b[1;33m)\u001b[0m\u001b[1;33m+\u001b[0m\u001b[1;36m1\u001b[0m\u001b[1;33m]\u001b[0m\u001b[1;33m]\u001b[0m \u001b[1;33m-\u001b[0m \u001b[0mmydict\u001b[0m\u001b[1;33m[\u001b[0m\u001b[0mi\u001b[0m\u001b[1;33m]\u001b[0m\u001b[1;33m\u001b[0m\u001b[1;33m\u001b[0m\u001b[0m\n\u001b[0;32m     12\u001b[0m                 \u001b[0mnum\u001b[0m \u001b[1;33m+=\u001b[0m \u001b[0mk\u001b[0m\u001b[1;33m\u001b[0m\u001b[1;33m\u001b[0m\u001b[0m\n",
      "\u001b[1;31mKeyboardInterrupt\u001b[0m: "
     ]
    }
   ],
   "source": [
    "romanToInt()"
   ]
  },
  {
   "cell_type": "code",
   "execution_count": 137,
   "id": "01e51cf9",
   "metadata": {},
   "outputs": [],
   "source": [
    "# romanToInt()"
   ]
  },
  {
   "cell_type": "code",
   "execution_count": 18,
   "id": "b5b7c492",
   "metadata": {},
   "outputs": [],
   "source": [
    "# romanToInt()"
   ]
  },
  {
   "cell_type": "code",
   "execution_count": 19,
   "id": "d9152320",
   "metadata": {},
   "outputs": [],
   "source": [
    "# romanToInt()"
   ]
  },
  {
   "cell_type": "code",
   "execution_count": 33,
   "id": "c43ff3bc",
   "metadata": {},
   "outputs": [],
   "source": [
    "# romanToInt()"
   ]
  },
  {
   "cell_type": "code",
   "execution_count": 34,
   "id": "4bb07562",
   "metadata": {},
   "outputs": [],
   "source": [
    "# def romanToInt():\n",
    "#     dict = {\"I\":1,\"V\":5,\"X\":10,\"L\":50,\"C\":100,\"D\":500,\"M\":1000}\n",
    "#     romn = input(\"Enter roman number \")\n",
    "#     num = 0\n",
    "#     x = [i for i in romn]\n",
    "#     for n in x:\n",
    "#         while x.index(n)<=len(x):\n",
    "#             if dict[x[x.index(n)]] < dict[x[x.index(n)+1]]:\n",
    "#                 k = dict[x[x.index(n)+1]] - dict[x[x.index(n)]]\n",
    "#                 num+=k\n",
    "#                 continue\n",
    "#                 num+=dict[n]\n",
    "#         return num"
   ]
  },
  {
   "cell_type": "code",
   "execution_count": 35,
   "id": "18a8630c",
   "metadata": {},
   "outputs": [],
   "source": [
    "# romanToInt()"
   ]
  },
  {
   "cell_type": "code",
   "execution_count": 7,
   "id": "dea6de40",
   "metadata": {},
   "outputs": [],
   "source": [
    "mystr = \"MCMXCIV\""
   ]
  },
  {
   "cell_type": "code",
   "execution_count": 8,
   "id": "a8aff4ce",
   "metadata": {},
   "outputs": [],
   "source": [
    "y = [j for j in mystr]"
   ]
  },
  {
   "cell_type": "code",
   "execution_count": 9,
   "id": "8a42036c",
   "metadata": {},
   "outputs": [
    {
     "data": {
      "text/plain": [
       "['M', 'C', 'M', 'X', 'C', 'I', 'V']"
      ]
     },
     "execution_count": 9,
     "metadata": {},
     "output_type": "execute_result"
    }
   ],
   "source": [
    "y"
   ]
  },
  {
   "cell_type": "code",
   "execution_count": 11,
   "id": "446cf0b9",
   "metadata": {},
   "outputs": [
    {
     "data": {
      "text/plain": [
       "0"
      ]
     },
     "execution_count": 11,
     "metadata": {},
     "output_type": "execute_result"
    }
   ],
   "source": [
    "y.index(\"M\")"
   ]
  },
  {
   "cell_type": "code",
   "execution_count": 38,
   "id": "1feb658e",
   "metadata": {},
   "outputs": [
    {
     "name": "stdout",
     "output_type": "stream",
     "text": [
      "7\n",
      "MCMXCIV\n",
      "MCMXCIV\n",
      "MCMXCIV\n",
      "MCMXCIV\n",
      "MCMXCIV\n",
      "MCMXCIV\n",
      "MCMXCIV\n"
     ]
    }
   ],
   "source": [
    "mystr = \"MCMXCIV\"\n",
    "print(len(mystr))\n",
    "for i in mystr:\n",
    "    print(mystr)"
   ]
  },
  {
   "cell_type": "code",
   "execution_count": 17,
   "id": "847e2838",
   "metadata": {},
   "outputs": [
    {
     "name": "stdout",
     "output_type": "stream",
     "text": [
      "1994\n"
     ]
    }
   ],
   "source": [
    "values ={\n",
    "  \"I\": 1,\n",
    "  \"V\": 5,\n",
    "  \"X\": 10,\n",
    "  \"L\": 50,\n",
    "  \"C\": 100,\n",
    "  \"D\": 500,\n",
    "  \"M\": 1000,\n",
    "}\n",
    "\n",
    "def romanToInt(str): \n",
    "  total = 0\n",
    "  i = 0\n",
    "\n",
    "  while (i < len(str)): \n",
    "    s1 = values[str[i]]\n",
    "    if (i+1 < len(str)): \n",
    "        s2 = values[str[i+1]]\n",
    "        if (s1 >= s2): \n",
    "          total = total + s1 \n",
    "          i = i + 1\n",
    "        else:   \n",
    "          total = total - s1 \n",
    "          i = i + 1\n",
    "    else: \n",
    "      total = total + s1 \n",
    "      i = i + 1\n",
    "  return total\n",
    "  \n",
    "# Driver code \n",
    "print(romanToInt(\"MCMXCIV\")) \n"
   ]
  },
  {
   "cell_type": "code",
   "execution_count": null,
   "id": "4435b9ec",
   "metadata": {},
   "outputs": [],
   "source": []
  },
  {
   "cell_type": "code",
   "execution_count": null,
   "id": "6fd3802c",
   "metadata": {},
   "outputs": [],
   "source": []
  },
  {
   "cell_type": "code",
   "execution_count": null,
   "id": "a1b447ea",
   "metadata": {},
   "outputs": [],
   "source": []
  },
  {
   "cell_type": "code",
   "execution_count": null,
   "id": "2cb52af2",
   "metadata": {},
   "outputs": [],
   "source": []
  }
 ],
 "metadata": {
  "kernelspec": {
   "display_name": "Python 3 (ipykernel)",
   "language": "python",
   "name": "python3"
  },
  "language_info": {
   "codemirror_mode": {
    "name": "ipython",
    "version": 3
   },
   "file_extension": ".py",
   "mimetype": "text/x-python",
   "name": "python",
   "nbconvert_exporter": "python",
   "pygments_lexer": "ipython3",
   "version": "3.9.7"
  }
 },
 "nbformat": 4,
 "nbformat_minor": 5
}
