{
 "cells": [
  {
   "cell_type": "code",
   "execution_count": 1,
   "id": "692421d2",
   "metadata": {},
   "outputs": [],
   "source": [
    "x =  25\n",
    "# x = 50\n",
    "\n",
    "def printer():\n",
    "    x = 50\n",
    "    return x"
   ]
  },
  {
   "cell_type": "code",
   "execution_count": 2,
   "id": "d77393fb",
   "metadata": {},
   "outputs": [
    {
     "data": {
      "text/plain": [
       "50"
      ]
     },
     "execution_count": 2,
     "metadata": {},
     "output_type": "execute_result"
    }
   ],
   "source": [
    "printer()"
   ]
  },
  {
   "cell_type": "code",
   "execution_count": 10,
   "id": "f6c9dcc4",
   "metadata": {},
   "outputs": [
    {
     "name": "stdout",
     "output_type": "stream",
     "text": [
      "25\n"
     ]
    }
   ],
   "source": [
    "print(x)"
   ]
  },
  {
   "cell_type": "code",
   "execution_count": 4,
   "id": "41443cd9",
   "metadata": {},
   "outputs": [
    {
     "name": "stdout",
     "output_type": "stream",
     "text": [
      "50\n"
     ]
    }
   ],
   "source": [
    "print(printer())"
   ]
  },
  {
   "cell_type": "code",
   "execution_count": 5,
   "id": "17408537",
   "metadata": {},
   "outputs": [],
   "source": [
    "# LEGB : - Local Enclosing func Global and Built in.....\n",
    "# this is a sequence"
   ]
  },
  {
   "cell_type": "code",
   "execution_count": 6,
   "id": "090fbbc2",
   "metadata": {},
   "outputs": [],
   "source": [
    "# lambda num:num**2\n",
    "\n",
    "\n",
    "# Local names assigned in any way  within a function, and are not declared\n",
    "# global in that function.\n"
   ]
  },
  {
   "cell_type": "code",
   "execution_count": 7,
   "id": "19a5db37",
   "metadata": {},
   "outputs": [],
   "source": [
    "# GLobal \n",
    "name = 'This is a Global string'\n",
    "def greet():\n",
    "#  Enclosing   \n",
    "    name= 'Sammy'\n",
    "#  Local\n",
    "    def Hello():\n",
    "        name = 'I am Local'\n",
    "        print('Hello '+ name)  \n",
    "    Hello()"
   ]
  },
  {
   "cell_type": "code",
   "execution_count": 8,
   "id": "f22b3fe9",
   "metadata": {},
   "outputs": [
    {
     "name": "stdout",
     "output_type": "stream",
     "text": [
      "Hello I am Local\n"
     ]
    }
   ],
   "source": [
    "greet()"
   ]
  },
  {
   "cell_type": "code",
   "execution_count": 9,
   "id": "a83880de",
   "metadata": {},
   "outputs": [],
   "source": [
    "# it is heirarchy of declaring a variable...Local ones get picked up first"
   ]
  },
  {
   "cell_type": "code",
   "execution_count": 11,
   "id": "e8911492",
   "metadata": {},
   "outputs": [
    {
     "name": "stdout",
     "output_type": "stream",
     "text": [
      "This is a Global string\n"
     ]
    }
   ],
   "source": [
    "print(name)"
   ]
  },
  {
   "cell_type": "code",
   "execution_count": 8,
   "id": "a16835d5",
   "metadata": {},
   "outputs": [],
   "source": [
    "x = 50 \n",
    "def func(x):\n",
    "    print(f'X is {x}')\n",
    "#     local reasssignment     \n",
    "    x = 200    \n",
    "    print(f'i just locally changed X to {x}')"
   ]
  },
  {
   "cell_type": "code",
   "execution_count": 9,
   "id": "acbb5a24",
   "metadata": {},
   "outputs": [
    {
     "name": "stdout",
     "output_type": "stream",
     "text": [
      "X is 50\n",
      "i just locally changed X to 200\n"
     ]
    }
   ],
   "source": [
    "func(x)"
   ]
  },
  {
   "cell_type": "code",
   "execution_count": 10,
   "id": "2d9ece19",
   "metadata": {},
   "outputs": [
    {
     "name": "stdout",
     "output_type": "stream",
     "text": [
      "50\n"
     ]
    }
   ],
   "source": [
    "print(x)"
   ]
  },
  {
   "cell_type": "code",
   "execution_count": 11,
   "id": "8bd3491b",
   "metadata": {},
   "outputs": [],
   "source": [
    "# the scope of local varible is confined to the function and it doesn't change\n",
    "# global varible declared earlier "
   ]
  },
  {
   "cell_type": "code",
   "execution_count": 12,
   "id": "b50eee93",
   "metadata": {},
   "outputs": [],
   "source": [
    "x = 50 \n",
    "def func():\n",
    "    global x\n",
    "    print(f'X is {x}')\n",
    "#     local reasssignment     \n",
    "    x = \"New Value\"    \n",
    "    print(f'i just locally changed X to {x}')"
   ]
  },
  {
   "cell_type": "code",
   "execution_count": 13,
   "id": "86141c57",
   "metadata": {},
   "outputs": [
    {
     "name": "stdout",
     "output_type": "stream",
     "text": [
      "50\n"
     ]
    }
   ],
   "source": [
    "print(x)"
   ]
  },
  {
   "cell_type": "code",
   "execution_count": 14,
   "id": "428d9662",
   "metadata": {},
   "outputs": [
    {
     "name": "stdout",
     "output_type": "stream",
     "text": [
      "X is 50\n",
      "i just locally changed X to New Value\n"
     ]
    }
   ],
   "source": [
    "func()"
   ]
  },
  {
   "cell_type": "code",
   "execution_count": 16,
   "id": "d2c8e47d",
   "metadata": {},
   "outputs": [
    {
     "name": "stdout",
     "output_type": "stream",
     "text": [
      "New Value\n"
     ]
    }
   ],
   "source": [
    "print(x)"
   ]
  },
  {
   "cell_type": "code",
   "execution_count": null,
   "id": "4d650fdc",
   "metadata": {},
   "outputs": [],
   "source": []
  }
 ],
 "metadata": {
  "kernelspec": {
   "display_name": "Python 3 (ipykernel)",
   "language": "python",
   "name": "python3"
  },
  "language_info": {
   "codemirror_mode": {
    "name": "ipython",
    "version": 3
   },
   "file_extension": ".py",
   "mimetype": "text/x-python",
   "name": "python",
   "nbconvert_exporter": "python",
   "pygments_lexer": "ipython3",
   "version": "3.8.12"
  }
 },
 "nbformat": 4,
 "nbformat_minor": 5
}
