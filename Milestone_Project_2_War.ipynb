{
 "cells": [
  {
   "cell_type": "code",
   "execution_count": 9,
   "id": "f4b794f0",
   "metadata": {},
   "outputs": [],
   "source": [
    "# card\n",
    "# suit, rank, value\n",
    "# Deck\n",
    "# Player\n",
    "import random\n",
    "suits = ('Hearts' , 'Diamonds', 'Spades', 'Clubs')\n",
    "ranks = ('Two', 'Three', 'Four', 'Five', 'Six', \"Seven\", 'Eight', 'Nine', 'Ten' ,\n",
    "           'Jack', 'Queen', 'King' , \"Ace\")\n",
    "value = {\"Two\": 2 ,\"Three\": 3 ,\"Four\": 4 ,\"Five\": 5 ,\"Six\": 6, \"Seven\": 7 , \n",
    "            \"Eight\" : 8, \"Nine\" : 9, \"Ten\" : 10 , \"Jack\" : 11, \"Queen\" : 12, \n",
    "            \"King\" : 13, \"Ace\" : 14}\n"
   ]
  },
  {
   "cell_type": "code",
   "execution_count": 10,
   "id": "80654487",
   "metadata": {},
   "outputs": [],
   "source": [
    "class Card:\n",
    "    def __init__(self,suit,rank):\n",
    "        self.suit = suit\n",
    "        self.rank = rank\n",
    "        self.value = value[rank]\n",
    "    def __iter__(self):\n",
    "        self.num = 1\n",
    "        return self\n",
    "    def __next__(self):\n",
    "        num = self.num\n",
    "        self.num += 1\n",
    "        return\n",
    "\n",
    "    def __str__(self):\n",
    "        return self.rank + \" of \" + self.suit"
   ]
  },
  {
   "cell_type": "code",
   "execution_count": 11,
   "id": "a86e5211",
   "metadata": {},
   "outputs": [],
   "source": [
    "two_hearts = Card(\"Harts\" , \"Two\")"
   ]
  },
  {
   "cell_type": "code",
   "execution_count": 12,
   "id": "d9f86848",
   "metadata": {},
   "outputs": [
    {
     "data": {
      "text/plain": [
       "<__main__.Card at 0x1460bbe7fd0>"
      ]
     },
     "execution_count": 12,
     "metadata": {},
     "output_type": "execute_result"
    }
   ],
   "source": [
    "two_hearts"
   ]
  },
  {
   "cell_type": "code",
   "execution_count": 13,
   "id": "04e3d3dc",
   "metadata": {},
   "outputs": [
    {
     "name": "stdout",
     "output_type": "stream",
     "text": [
      "Queen of Spades\n",
      "<class '__main__.Card'>\n"
     ]
    }
   ],
   "source": [
    "class Deck:\n",
    "    def __init__(self):\n",
    "        self.all_cards = []\n",
    "# maintianing an empty list as a deck of card in which each card object will get appended.\n",
    "        for suit in suits:\n",
    "            for rank in ranks:\n",
    "                # two fo loops to iterate through two objects..\n",
    "                card_created = Card(suit,rank)\n",
    "                self.all_cards.append(card_created)   \n",
    "    def shuffle(self):\n",
    "        random.shuffle(self.all_cards)\n",
    "    \n",
    "    def deal_one(self):\n",
    "        return self.all_cards.pop() \n",
    "\n",
    "new_deck = Deck()\n",
    "new_deck.shuffle()\n",
    "mycard = new_deck.deal_one()\n",
    "print(mycard)\n",
    "print(type(mycard))"
   ]
  },
  {
   "cell_type": "code",
   "execution_count": 15,
   "id": "2b7a0b31",
   "metadata": {},
   "outputs": [
    {
     "name": "stdout",
     "output_type": "stream",
     "text": [
      "Player Jose has 0 cards\n",
      "Queen of Spades\n"
     ]
    },
    {
     "ename": "MemoryError",
     "evalue": "",
     "output_type": "error",
     "traceback": [
      "\u001b[1;31m---------------------------------------------------------------------------\u001b[0m",
      "\u001b[1;31mMemoryError\u001b[0m                               Traceback (most recent call last)",
      "\u001b[1;32mC:\\Users\\KAUSTU~1\\AppData\\Local\\Temp/ipykernel_38232/4011632287.py\u001b[0m in \u001b[0;36m<module>\u001b[1;34m\u001b[0m\n\u001b[0;32m     18\u001b[0m \u001b[0mprint\u001b[0m\u001b[1;33m(\u001b[0m\u001b[0mnew_player\u001b[0m\u001b[1;33m)\u001b[0m\u001b[1;33m\u001b[0m\u001b[1;33m\u001b[0m\u001b[0m\n\u001b[0;32m     19\u001b[0m \u001b[0mprint\u001b[0m\u001b[1;33m(\u001b[0m\u001b[0mmycard\u001b[0m\u001b[1;33m)\u001b[0m\u001b[1;33m\u001b[0m\u001b[1;33m\u001b[0m\u001b[0m\n\u001b[1;32m---> 20\u001b[1;33m \u001b[0mnew_player\u001b[0m\u001b[1;33m.\u001b[0m\u001b[0madd_cards\u001b[0m\u001b[1;33m(\u001b[0m\u001b[0mmycard\u001b[0m\u001b[1;33m)\u001b[0m\u001b[1;33m\u001b[0m\u001b[1;33m\u001b[0m\u001b[0m\n\u001b[0m\u001b[0;32m     21\u001b[0m \u001b[0mprint\u001b[0m\u001b[1;33m(\u001b[0m\u001b[0mnew_player\u001b[0m\u001b[1;33m)\u001b[0m\u001b[1;33m\u001b[0m\u001b[1;33m\u001b[0m\u001b[0m\n\u001b[0;32m     22\u001b[0m \u001b[1;33m\u001b[0m\u001b[0m\n",
      "\u001b[1;32mC:\\Users\\KAUSTU~1\\AppData\\Local\\Temp/ipykernel_38232/4011632287.py\u001b[0m in \u001b[0;36madd_cards\u001b[1;34m(self, new_card)\u001b[0m\n\u001b[0;32m      8\u001b[0m         \u001b[1;32mif\u001b[0m \u001b[0mtype\u001b[0m\u001b[1;33m(\u001b[0m\u001b[0mself\u001b[0m\u001b[1;33m.\u001b[0m\u001b[0mall_cards\u001b[0m\u001b[1;33m)\u001b[0m \u001b[1;33m==\u001b[0m \u001b[0mtype\u001b[0m\u001b[1;33m(\u001b[0m\u001b[1;33m(\u001b[0m\u001b[1;33m[\u001b[0m\u001b[1;33m]\u001b[0m\u001b[1;33m)\u001b[0m\u001b[1;33m)\u001b[0m\u001b[1;33m:\u001b[0m\u001b[1;33m\u001b[0m\u001b[1;33m\u001b[0m\u001b[0m\n\u001b[0;32m      9\u001b[0m             \u001b[1;31m#list of multiple cards if the cards that player won are more than one\u001b[0m\u001b[1;33m\u001b[0m\u001b[1;33m\u001b[0m\u001b[1;33m\u001b[0m\u001b[0m\n\u001b[1;32m---> 10\u001b[1;33m             \u001b[0mself\u001b[0m\u001b[1;33m.\u001b[0m\u001b[0mall_cards\u001b[0m\u001b[1;33m.\u001b[0m\u001b[0mextend\u001b[0m\u001b[1;33m(\u001b[0m\u001b[0mnew_card\u001b[0m\u001b[1;33m)\u001b[0m\u001b[1;33m\u001b[0m\u001b[1;33m\u001b[0m\u001b[0m\n\u001b[0m\u001b[0;32m     11\u001b[0m         \u001b[1;32melse\u001b[0m\u001b[1;33m:\u001b[0m\u001b[1;33m\u001b[0m\u001b[1;33m\u001b[0m\u001b[0m\n\u001b[0;32m     12\u001b[0m             \u001b[1;31m#for a single card object\u001b[0m\u001b[1;33m\u001b[0m\u001b[1;33m\u001b[0m\u001b[1;33m\u001b[0m\u001b[0m\n",
      "\u001b[1;31mMemoryError\u001b[0m: "
     ]
    }
   ],
   "source": [
    "class Player():\n",
    "    def __init__(self,name):\n",
    "        self.name = name\n",
    "        self.all_cards = []\n",
    "    def remove_one(self):\n",
    "        return self.all_cards.pop(0)\n",
    "    def add_cards(self,new_card):\n",
    "        if type(self.all_cards) == type([]):\n",
    "            #list of multiple cards if the cards that player won are more than one\n",
    "            self.all_cards.extend(new_card)\n",
    "        else:\n",
    "            #for a single card object\n",
    "            self.all_cards.append(new_card)\n",
    "    def __str__(self):\n",
    "        return f'Player {self.name} has {len(self.all_cards)} cards' \n",
    "\n",
    "new_player = Player(\"Jose\")\n",
    "print(new_player)\n",
    "print(mycard)\n",
    "new_player.add_cards(mycard)\n",
    "print(new_player)\n",
    "\n",
    "     "
   ]
  },
  {
   "cell_type": "code",
   "execution_count": null,
   "id": "9d01cefb",
   "metadata": {},
   "outputs": [],
   "source": []
  }
 ],
 "metadata": {
  "kernelspec": {
   "display_name": "Python 3 (ipykernel)",
   "language": "python",
   "name": "python3"
  },
  "language_info": {
   "codemirror_mode": {
    "name": "ipython",
    "version": 3
   },
   "file_extension": ".py",
   "mimetype": "text/x-python",
   "name": "python",
   "nbconvert_exporter": "python",
   "pygments_lexer": "ipython3",
   "version": "3.8.12"
  }
 },
 "nbformat": 4,
 "nbformat_minor": 5
}
