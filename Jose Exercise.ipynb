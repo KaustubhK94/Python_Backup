{
 "cells": [
  {
   "cell_type": "code",
   "execution_count": 1,
   "id": "f6ca7a01",
   "metadata": {},
   "outputs": [],
   "source": [
    "def fizzBuzz(n):\n",
    "    for i in range(n+1):\n",
    "        if i%3 == 0 and i%5 == 0:\n",
    "            print(\"Fizzbuzz\")\n",
    "        elif i%3 == 0:\n",
    "            print(\"Fizz\")\n",
    "        elif i%5 == 0:\n",
    "            print(\"Buzz\")\n",
    "        else:\n",
    "            print(i)"
   ]
  },
  {
   "cell_type": "code",
   "execution_count": 2,
   "id": "1d93a80a",
   "metadata": {},
   "outputs": [
    {
     "name": "stdout",
     "output_type": "stream",
     "text": [
      "Fizzbuzz\n",
      "1\n",
      "2\n",
      "Fizz\n",
      "4\n",
      "Buzz\n",
      "Fizz\n",
      "7\n",
      "8\n",
      "Fizz\n",
      "Buzz\n"
     ]
    }
   ],
   "source": [
    "fizzBuzz(10)"
   ]
  },
  {
   "cell_type": "code",
   "execution_count": 26,
   "id": "dad4c5fd",
   "metadata": {},
   "outputs": [],
   "source": [
    "def wierd():\n",
    "    n = int(input(\"Enter your number here \"))\n",
    "    if n%2 != 0:\n",
    "        print(\"Wierd\")\n",
    "    elif n in range(2,6) and n%2==0:\n",
    "        print(\"Not Weird\")\n",
    "    elif n in range(6,21) and n%2==0:\n",
    "        print(\"Wierd\")\n",
    "    elif n%2 == 0 and n>20:\n",
    "        print(\"Not Wierd\")"
   ]
  },
  {
   "cell_type": "code",
   "execution_count": 30,
   "id": "85e94c23",
   "metadata": {},
   "outputs": [
    {
     "name": "stdout",
     "output_type": "stream",
     "text": [
      "Enter your number here 3\n",
      "Wierd\n"
     ]
    }
   ],
   "source": [
    "wierd()"
   ]
  },
  {
   "cell_type": "code",
   "execution_count": 34,
   "id": "365390e8",
   "metadata": {},
   "outputs": [],
   "source": [
    "def wierd():\n",
    "    n = int(input(\"Enter your number here \"))\n",
    "    if n%2 != 0:\n",
    "        print(\"Wierd\")\n",
    "    elif n in range(2,6) and n%2==0:\n",
    "        print(\"Not Weird\")\n",
    "    elif n in range(6,21) and n%2==0:\n",
    "        print(\"Wierd\")\n",
    "    else:\n",
    "        print(\"Not Wierd\")"
   ]
  },
  {
   "cell_type": "code",
   "execution_count": 35,
   "id": "8e67adc0",
   "metadata": {},
   "outputs": [
    {
     "name": "stdout",
     "output_type": "stream",
     "text": [
      "Enter your number here 26\n",
      "Not Wierd\n"
     ]
    }
   ],
   "source": [
    "wierd()"
   ]
  },
  {
   "cell_type": "code",
   "execution_count": null,
   "id": "c5a0a638",
   "metadata": {},
   "outputs": [],
   "source": []
  }
 ],
 "metadata": {
  "kernelspec": {
   "display_name": "Python 3 (ipykernel)",
   "language": "python",
   "name": "python3"
  },
  "language_info": {
   "codemirror_mode": {
    "name": "ipython",
    "version": 3
   },
   "file_extension": ".py",
   "mimetype": "text/x-python",
   "name": "python",
   "nbconvert_exporter": "python",
   "pygments_lexer": "ipython3",
   "version": "3.9.7"
  }
 },
 "nbformat": 4,
 "nbformat_minor": 5
}
