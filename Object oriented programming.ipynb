{
 "cells": [
  {
   "cell_type": "code",
   "execution_count": 1,
   "id": "3cecb714",
   "metadata": {},
   "outputs": [],
   "source": [
    "my_list = [1,2,3]"
   ]
  },
  {
   "cell_type": "code",
   "execution_count": 2,
   "id": "c0939459",
   "metadata": {},
   "outputs": [],
   "source": [
    "myset = set()"
   ]
  },
  {
   "cell_type": "code",
   "execution_count": 3,
   "id": "a6a2d954",
   "metadata": {},
   "outputs": [
    {
     "data": {
      "text/plain": [
       "set"
      ]
     },
     "execution_count": 3,
     "metadata": {},
     "output_type": "execute_result"
    }
   ],
   "source": [
    "type(myset)"
   ]
  },
  {
   "cell_type": "code",
   "execution_count": 4,
   "id": "80516dfa",
   "metadata": {},
   "outputs": [
    {
     "data": {
      "text/plain": [
       "list"
      ]
     },
     "execution_count": 4,
     "metadata": {},
     "output_type": "execute_result"
    }
   ],
   "source": [
    "type(my_list)"
   ]
  },
  {
   "cell_type": "code",
   "execution_count": 5,
   "id": "ab1714c4",
   "metadata": {},
   "outputs": [],
   "source": [
    "# class is a keyword for user defined object\n",
    "# name of the class will always be in camel casing\n",
    "class Sample():\n",
    "    pass\n",
    "# class is a blueprint that defines the nature of the future object"
   ]
  },
  {
   "cell_type": "code",
   "execution_count": 6,
   "id": "b8963b7d",
   "metadata": {},
   "outputs": [],
   "source": [
    "# Created an instance of the class\n",
    "my_sample = Sample()"
   ]
  },
  {
   "cell_type": "code",
   "execution_count": 7,
   "id": "77e85818",
   "metadata": {},
   "outputs": [
    {
     "data": {
      "text/plain": [
       "__main__.Sample"
      ]
     },
     "execution_count": 7,
     "metadata": {},
     "output_type": "execute_result"
    }
   ],
   "source": [
    "type(my_sample)"
   ]
  },
  {
   "cell_type": "code",
   "execution_count": 8,
   "id": "f7e28da2",
   "metadata": {},
   "outputs": [],
   "source": [
    "# def is to define a function except when it is inside a class call it's a method.\n",
    "#  init is a method and it's called upon when you create instance of a class.\n",
    "# it can be thought of as a constructor of a class. and it calls automatically when you create an\n",
    "# instance of the class\n",
    "# self keyword represents the instance of the object itself\n",
    "# every class has attributes and attributes are charecteristics of an object\n",
    "# to define and are passed after self\n",
    "class Dog():\n",
    "    def __init__(self,breed):\n",
    "        self.breed = breed\n",
    "#         /      |        \\\n",
    "#          attribute  parameter\n",
    "#    by convention parameter name and attribute name are the same....     "
   ]
  },
  {
   "cell_type": "code",
   "execution_count": null,
   "id": "7238308e",
   "metadata": {},
   "outputs": [],
   "source": []
  },
  {
   "cell_type": "code",
   "execution_count": 9,
   "id": "2bc1f4f6",
   "metadata": {},
   "outputs": [],
   "source": [
    "# creating instance of the class....\n",
    "# have to pass attributes since the attribute have been mentioned\n",
    "# if attribute/parameter/\n",
    "my_dog = Dog(breed = \"Lab\")"
   ]
  },
  {
   "cell_type": "code",
   "execution_count": 10,
   "id": "3d2f0a7a",
   "metadata": {},
   "outputs": [
    {
     "data": {
      "text/plain": [
       "__main__.Dog"
      ]
     },
     "execution_count": 10,
     "metadata": {},
     "output_type": "execute_result"
    }
   ],
   "source": [
    "type(my_dog)"
   ]
  },
  {
   "cell_type": "code",
   "execution_count": 11,
   "id": "c7bca175",
   "metadata": {},
   "outputs": [
    {
     "data": {
      "text/plain": [
       "'Lab'"
      ]
     },
     "execution_count": 11,
     "metadata": {},
     "output_type": "execute_result"
    }
   ],
   "source": [
    "my_dog.breed"
   ]
  },
  {
   "cell_type": "code",
   "execution_count": 12,
   "id": "dff42cfd",
   "metadata": {},
   "outputs": [],
   "source": [
    "class Dog():\n",
    "#     class object level attribute that remains same for all instances of the class hence self \n",
    "#     keyword is not used.\n",
    "    species = \"Mammals\"\n",
    "    def __init__(self,mybreed,name,spots):\n",
    "        # attributes\n",
    "        # we take in the argument\n",
    "        # Assign it using self.attribute_name\n",
    "        self.my_attribute = mybreed\n",
    "        self.name = name\n",
    "     # expects boolean True/False\n",
    "        self.spots = spots\n",
    "        "
   ]
  },
  {
   "cell_type": "code",
   "execution_count": 13,
   "id": "1db538c8",
   "metadata": {},
   "outputs": [],
   "source": [
    "my_dog = Dog(mybreed=\"Huskie\",name = \"Sammy\", spots = False)"
   ]
  },
  {
   "cell_type": "code",
   "execution_count": 14,
   "id": "ee91d7f3",
   "metadata": {},
   "outputs": [
    {
     "data": {
      "text/plain": [
       "__main__.Dog"
      ]
     },
     "execution_count": 14,
     "metadata": {},
     "output_type": "execute_result"
    }
   ],
   "source": [
    "type(my_dog)"
   ]
  },
  {
   "cell_type": "code",
   "execution_count": 15,
   "id": "b1a0825f",
   "metadata": {},
   "outputs": [
    {
     "data": {
      "text/plain": [
       "'Huskie'"
      ]
     },
     "execution_count": 15,
     "metadata": {},
     "output_type": "execute_result"
    }
   ],
   "source": [
    "my_dog.my_attribute"
   ]
  },
  {
   "cell_type": "code",
   "execution_count": 16,
   "id": "517175aa",
   "metadata": {},
   "outputs": [],
   "source": [
    "class Dog():\n",
    "    species = \"Mammals\"\n",
    "    def __init__(self,breed,name):\n",
    "        self.breed = breed\n",
    "        self.name = name\n",
    "# Operations/actions ---->>> methods\n",
    "# methods can take outside arguments..number in this casee...\n",
    "# that's why you have to pass number argument during method call\n",
    "    def bark(self,number):\n",
    "        print(f\"Woof!, My name is {self.name} and the number is {number}\")"
   ]
  },
  {
   "cell_type": "code",
   "execution_count": 17,
   "id": "108f747b",
   "metadata": {},
   "outputs": [],
   "source": [
    "mydog = Dog(\"Lab\",\"Frankie\")"
   ]
  },
  {
   "cell_type": "code",
   "execution_count": 18,
   "id": "5621a93b",
   "metadata": {},
   "outputs": [
    {
     "data": {
      "text/plain": [
       "__main__.Dog"
      ]
     },
     "execution_count": 18,
     "metadata": {},
     "output_type": "execute_result"
    }
   ],
   "source": [
    "type(mydog)"
   ]
  },
  {
   "cell_type": "code",
   "execution_count": 19,
   "id": "40fb284b",
   "metadata": {},
   "outputs": [
    {
     "data": {
      "text/plain": [
       "'Mammals'"
      ]
     },
     "execution_count": 19,
     "metadata": {},
     "output_type": "execute_result"
    }
   ],
   "source": [
    "mydog.species"
   ]
  },
  {
   "cell_type": "code",
   "execution_count": 20,
   "id": "143defb5",
   "metadata": {},
   "outputs": [
    {
     "data": {
      "text/plain": [
       "'Lab'"
      ]
     },
     "execution_count": 20,
     "metadata": {},
     "output_type": "execute_result"
    }
   ],
   "source": [
    "mydog.breed"
   ]
  },
  {
   "cell_type": "code",
   "execution_count": 21,
   "id": "281f862f",
   "metadata": {},
   "outputs": [
    {
     "name": "stdout",
     "output_type": "stream",
     "text": [
      "Woof!, My name is Frankie and the number is 10\n"
     ]
    }
   ],
   "source": [
    "mydog.bark(10)"
   ]
  },
  {
   "cell_type": "code",
   "execution_count": 22,
   "id": "77b31fa6",
   "metadata": {},
   "outputs": [
    {
     "name": "stdout",
     "output_type": "stream",
     "text": [
      "Salary for this employee working in Google is 100000\n",
      "Good Morning, Sir\n"
     ]
    }
   ],
   "source": [
    "# self refers to the instance of class\n",
    "class Employee:\n",
    "    company = \"Google\"\n",
    "    def getSalary(self):\n",
    "        print(f\"Salary for this employee working in {self.company} is {self.salary}\")\n",
    "# jo bhi object pe fun run kar rahe uska salary attribute yeh print karega..!!!\n",
    "# Somethimes we need a function that doesn't use self parameter. we can define a static method\n",
    "    @staticmethod     #decorator to mark greet as a static method\n",
    "    def greet():\n",
    "        print(\"Good Morning, Sir\")\n",
    "harry = Employee()\n",
    "harry.salary = 100000\n",
    "harry.getSalary() # = Employee.getSalary(harry)\n",
    "harry.greet()"
   ]
  },
  {
   "cell_type": "code",
   "execution_count": null,
   "id": "6b4da386",
   "metadata": {},
   "outputs": [],
   "source": []
  },
  {
   "cell_type": "code",
   "execution_count": null,
   "id": "3ded4721",
   "metadata": {},
   "outputs": [],
   "source": []
  },
  {
   "cell_type": "code",
   "execution_count": null,
   "id": "7210e393",
   "metadata": {},
   "outputs": [],
   "source": []
  },
  {
   "cell_type": "code",
   "execution_count": 23,
   "id": "40587aaf",
   "metadata": {},
   "outputs": [],
   "source": [
    "class Circle():\n",
    "#     class object attribute\n",
    "    pi = 3.14    \n",
    "    def __init__(self,radius=1):\n",
    "        self.radius = radius\n",
    "# if you have an attribute it doesn't neccessarily have to be defined from a parameter..!!!\n",
    "        self.area = radius**2*Circle.pi#(also be written as Circle.pi as it' s a class object attribute)\n",
    "    def get_circumference(self):\n",
    "        return Circle.pi*self.radius*2"
   ]
  },
  {
   "cell_type": "code",
   "execution_count": 24,
   "id": "d42b4048",
   "metadata": {},
   "outputs": [],
   "source": [
    "# You can always default value for an attribute which can always be overwritten\n",
    "my_circle = Circle(300)"
   ]
  },
  {
   "cell_type": "code",
   "execution_count": 25,
   "id": "66b4f150",
   "metadata": {},
   "outputs": [
    {
     "data": {
      "text/plain": [
       "300"
      ]
     },
     "execution_count": 25,
     "metadata": {},
     "output_type": "execute_result"
    }
   ],
   "source": [
    "my_circle.radius"
   ]
  },
  {
   "cell_type": "code",
   "execution_count": 26,
   "id": "5665b483",
   "metadata": {},
   "outputs": [
    {
     "data": {
      "text/plain": [
       "3.14"
      ]
     },
     "execution_count": 26,
     "metadata": {},
     "output_type": "execute_result"
    }
   ],
   "source": [
    "my_circle.pi"
   ]
  },
  {
   "cell_type": "code",
   "execution_count": 27,
   "id": "1be44a73",
   "metadata": {},
   "outputs": [
    {
     "data": {
      "text/plain": [
       "1884.0"
      ]
     },
     "execution_count": 27,
     "metadata": {},
     "output_type": "execute_result"
    }
   ],
   "source": [
    "my_circle.get_circumference()"
   ]
  },
  {
   "cell_type": "code",
   "execution_count": 28,
   "id": "d579274b",
   "metadata": {},
   "outputs": [
    {
     "data": {
      "text/plain": [
       "282600.0"
      ]
     },
     "execution_count": 28,
     "metadata": {},
     "output_type": "execute_result"
    }
   ],
   "source": [
    "my_circle.area"
   ]
  },
  {
   "cell_type": "code",
   "execution_count": null,
   "id": "80270302",
   "metadata": {},
   "outputs": [],
   "source": []
  },
  {
   "cell_type": "code",
   "execution_count": 29,
   "id": "ad1e27e3",
   "metadata": {},
   "outputs": [],
   "source": [
    "a = 2+2j"
   ]
  },
  {
   "cell_type": "code",
   "execution_count": 30,
   "id": "2d506cdb",
   "metadata": {},
   "outputs": [],
   "source": [
    "b= 3j"
   ]
  },
  {
   "cell_type": "code",
   "execution_count": 31,
   "id": "d1896601",
   "metadata": {},
   "outputs": [
    {
     "name": "stdout",
     "output_type": "stream",
     "text": [
      "(2+5j)\n"
     ]
    }
   ],
   "source": [
    "print(a+b)"
   ]
  },
  {
   "cell_type": "code",
   "execution_count": null,
   "id": "c23eb402",
   "metadata": {},
   "outputs": [],
   "source": []
  },
  {
   "cell_type": "code",
   "execution_count": 32,
   "id": "dfe98bb7",
   "metadata": {},
   "outputs": [],
   "source": [
    "seats = list(range(1,11))"
   ]
  },
  {
   "cell_type": "code",
   "execution_count": 33,
   "id": "499a106b",
   "metadata": {},
   "outputs": [
    {
     "data": {
      "text/plain": [
       "10"
      ]
     },
     "execution_count": 33,
     "metadata": {},
     "output_type": "execute_result"
    }
   ],
   "source": [
    "seats[-1]"
   ]
  },
  {
   "cell_type": "code",
   "execution_count": 34,
   "id": "f647d4cc",
   "metadata": {},
   "outputs": [],
   "source": [
    "# Inheritance and Polymorphism"
   ]
  },
  {
   "cell_type": "code",
   "execution_count": 35,
   "id": "9bb296c6",
   "metadata": {},
   "outputs": [],
   "source": [
    "class Animal():\n",
    "    def __init__(self):\n",
    "        print(\"Animal Created\")\n",
    "    def who_am_i(self):\n",
    "        print(\"I'm an animal\")\n",
    "    def eat(self):\n",
    "        print(\"I am eating\")"
   ]
  },
  {
   "cell_type": "code",
   "execution_count": 36,
   "id": "0d32406c",
   "metadata": {},
   "outputs": [
    {
     "name": "stdout",
     "output_type": "stream",
     "text": [
      "Animal Created\n"
     ]
    }
   ],
   "source": [
    "my_animal = Animal()"
   ]
  },
  {
   "cell_type": "code",
   "execution_count": 37,
   "id": "64c9fac2",
   "metadata": {},
   "outputs": [
    {
     "name": "stdout",
     "output_type": "stream",
     "text": [
      "I am eating\n"
     ]
    }
   ],
   "source": [
    "my_animal.eat()"
   ]
  },
  {
   "cell_type": "code",
   "execution_count": 38,
   "id": "b328a6f5",
   "metadata": {},
   "outputs": [
    {
     "name": "stdout",
     "output_type": "stream",
     "text": [
      "I'm an animal\n"
     ]
    }
   ],
   "source": [
    "my_animal.who_am_i()"
   ]
  },
  {
   "cell_type": "code",
   "execution_count": 39,
   "id": "f3d05376",
   "metadata": {},
   "outputs": [],
   "source": [
    "# the class dog inherits all the methods and attributes \n",
    "class Dog(Animal):\n",
    "    def __init__(self):\n",
    "        Animal.__init__(self)\n",
    "        print(\"Dog created..!!\")\n",
    "#     Overwrite a new method...\n",
    "    def who_am_i(self):\n",
    "        print(\"I'm a Dog !\")\n",
    "#     Add few more methods..\n",
    "    def bark(self):\n",
    "        print(\"WOOF..!!!\")"
   ]
  },
  {
   "cell_type": "code",
   "execution_count": 40,
   "id": "bd3ea0ed",
   "metadata": {},
   "outputs": [
    {
     "name": "stdout",
     "output_type": "stream",
     "text": [
      "Animal Created\n",
      "Dog created..!!\n"
     ]
    }
   ],
   "source": [
    "mydog = Dog()"
   ]
  },
  {
   "cell_type": "code",
   "execution_count": 41,
   "id": "74542264",
   "metadata": {},
   "outputs": [
    {
     "name": "stdout",
     "output_type": "stream",
     "text": [
      "I am eating\n"
     ]
    }
   ],
   "source": [
    "mydog.eat()"
   ]
  },
  {
   "cell_type": "code",
   "execution_count": 42,
   "id": "c97b094f",
   "metadata": {},
   "outputs": [
    {
     "name": "stdout",
     "output_type": "stream",
     "text": [
      "I'm a Dog !\n"
     ]
    }
   ],
   "source": [
    "mydog.who_am_i()"
   ]
  },
  {
   "cell_type": "code",
   "execution_count": 43,
   "id": "574c4f88",
   "metadata": {},
   "outputs": [],
   "source": [
    "# Polymorphism"
   ]
  },
  {
   "cell_type": "code",
   "execution_count": 44,
   "id": "ce6114ac",
   "metadata": {},
   "outputs": [],
   "source": [
    "class Dog():\n",
    "    def __init__(self,name):\n",
    "        self.name = name\n",
    "        \n",
    "    def speak(self):\n",
    "        return self.name +\" Say Woof!\""
   ]
  },
  {
   "cell_type": "code",
   "execution_count": 45,
   "id": "dd0546c9",
   "metadata": {},
   "outputs": [],
   "source": [
    "class Cat():\n",
    "    def __init__(self,name):\n",
    "        self.name = name\n",
    "        \n",
    "    def speak(self):\n",
    "        return self.name +\" Say Meow!\""
   ]
  },
  {
   "cell_type": "code",
   "execution_count": 46,
   "id": "8e41cb4c",
   "metadata": {},
   "outputs": [],
   "source": [
    "niko = Dog(\"niko\")\n",
    "felix = Cat(\"Felix\")"
   ]
  },
  {
   "cell_type": "code",
   "execution_count": 47,
   "id": "ea5961f1",
   "metadata": {},
   "outputs": [
    {
     "name": "stdout",
     "output_type": "stream",
     "text": [
      "niko Say Woof!\n"
     ]
    }
   ],
   "source": [
    "print(niko.speak())"
   ]
  },
  {
   "cell_type": "code",
   "execution_count": 48,
   "id": "4664bfc4",
   "metadata": {},
   "outputs": [
    {
     "name": "stdout",
     "output_type": "stream",
     "text": [
      "Felix Say Meow!\n"
     ]
    }
   ],
   "source": [
    "print(felix.speak())"
   ]
  },
  {
   "cell_type": "code",
   "execution_count": 49,
   "id": "6088b71a",
   "metadata": {},
   "outputs": [
    {
     "name": "stdout",
     "output_type": "stream",
     "text": [
      "<class '__main__.Dog'>\n",
      "<class 'str'>\n",
      "<class '__main__.Cat'>\n",
      "<class 'str'>\n"
     ]
    }
   ],
   "source": [
    "for pet in [niko,felix]:\n",
    "    print(type(pet))\n",
    "    print(type(pet.speak()))"
   ]
  },
  {
   "cell_type": "code",
   "execution_count": 50,
   "id": "644ff41e",
   "metadata": {},
   "outputs": [
    {
     "name": "stdout",
     "output_type": "stream",
     "text": [
      "<class '__main__.Dog'>\n",
      "niko Say Woof!\n",
      "<class '__main__.Cat'>\n",
      "Felix Say Meow!\n"
     ]
    }
   ],
   "source": [
    "for pet in [niko,felix]:\n",
    "    print(type(pet))\n",
    "    print(pet.speak())"
   ]
  },
  {
   "cell_type": "code",
   "execution_count": 51,
   "id": "d6afeaeb",
   "metadata": {},
   "outputs": [],
   "source": [
    "def pet_speak(pet):\n",
    "    print(pet.speak())"
   ]
  },
  {
   "cell_type": "code",
   "execution_count": 52,
   "id": "e1bb00d7",
   "metadata": {},
   "outputs": [
    {
     "name": "stdout",
     "output_type": "stream",
     "text": [
      "niko Say Woof!\n"
     ]
    }
   ],
   "source": [
    "pet_speak(niko)"
   ]
  },
  {
   "cell_type": "code",
   "execution_count": 53,
   "id": "45d59a02",
   "metadata": {},
   "outputs": [],
   "source": [
    "class Animal():\n",
    "    def __init__(self,name):\n",
    "        self.name = name\n",
    "        \n",
    "    def speak(self):\n",
    "        raise NotImplementedError(\"Subclass must implement this abstract method\")"
   ]
  },
  {
   "cell_type": "code",
   "execution_count": 54,
   "id": "830297e8",
   "metadata": {},
   "outputs": [],
   "source": [
    "my_animal = Animal('Fred')"
   ]
  },
  {
   "cell_type": "code",
   "execution_count": null,
   "id": "c1acd40b",
   "metadata": {},
   "outputs": [],
   "source": []
  },
  {
   "cell_type": "code",
   "execution_count": null,
   "id": "08f5bf5f",
   "metadata": {},
   "outputs": [],
   "source": []
  },
  {
   "cell_type": "code",
   "execution_count": null,
   "id": "8cefe913",
   "metadata": {},
   "outputs": [],
   "source": []
  },
  {
   "cell_type": "code",
   "execution_count": null,
   "id": "ce817fce",
   "metadata": {},
   "outputs": [],
   "source": []
  },
  {
   "cell_type": "code",
   "execution_count": 55,
   "id": "9cd57453",
   "metadata": {},
   "outputs": [],
   "source": [
    "x = {'a':5,'b':10}"
   ]
  },
  {
   "cell_type": "code",
   "execution_count": 56,
   "id": "d7d76dca",
   "metadata": {},
   "outputs": [
    {
     "name": "stdout",
     "output_type": "stream",
     "text": [
      "{5: 'a', 10: 'b'}\n"
     ]
    }
   ],
   "source": [
    "y = dict(zip(x.values(),x.keys()))\n",
    "print(y)"
   ]
  },
  {
   "cell_type": "code",
   "execution_count": 57,
   "id": "7c2efc1b",
   "metadata": {},
   "outputs": [
    {
     "name": "stdout",
     "output_type": "stream",
     "text": [
      "pqrs\n"
     ]
    }
   ],
   "source": [
    "# just because a method is applied doesn't mean it's going to change the original string....\n",
    "# we have to assign a new varibale to to print string in the upper case \n",
    "# also print fun is out of the loop.\n",
    "x = \"pqrs\"\n",
    "for i in range(len(x)):\n",
    "    x[i].upper()\n",
    "print(x)"
   ]
  },
  {
   "cell_type": "code",
   "execution_count": 58,
   "id": "b85d3ff8",
   "metadata": {},
   "outputs": [
    {
     "name": "stdout",
     "output_type": "stream",
     "text": [
      "6\n"
     ]
    }
   ],
   "source": [
    "def length(a,b):\n",
    "    return a(b)\n",
    "print(length(len,'python'))"
   ]
  },
  {
   "cell_type": "code",
   "execution_count": 59,
   "id": "a680d11e",
   "metadata": {},
   "outputs": [
    {
     "data": {
      "text/plain": [
       "6"
      ]
     },
     "execution_count": 59,
     "metadata": {},
     "output_type": "execute_result"
    }
   ],
   "source": [
    "len('python')"
   ]
  },
  {
   "cell_type": "code",
   "execution_count": 60,
   "id": "2fc2a751",
   "metadata": {},
   "outputs": [
    {
     "name": "stdout",
     "output_type": "stream",
     "text": [
      "76\n"
     ]
    }
   ],
   "source": [
    "# Harry's Example... Easy one\n",
    "class Number:\n",
    "    def sum(self):\n",
    "        return self.a + self.b  #self means on the object itself \n",
    "    \n",
    "num = Number()\n",
    "num.a = 12\n",
    "num.b = 64\n",
    "s = num.sum() #execute the method on the defined object\n",
    "print(s)"
   ]
  },
  {
   "cell_type": "code",
   "execution_count": 61,
   "id": "e1ccb89c",
   "metadata": {},
   "outputs": [
    {
     "name": "stdout",
     "output_type": "stream",
     "text": [
      "Name is Harry\n",
      "Name is Rajdhani Express\n"
     ]
    }
   ],
   "source": [
    "# pehle class banaya object banaya phir function define kiya aur usse execute easy....\n",
    "# attributes define kiye..\n",
    "class RailwayForm:\n",
    "    formType = \"RailwayForm \"    #\n",
    "    def printData(self):\n",
    "        print(f\"Name is {self.name}\")\n",
    "        print(f\"Name is {self.train}\")\n",
    "        \n",
    "harryApplication = RailwayForm()\n",
    "harryApplication.name = \"Harry\"\n",
    "harryApplication.train = \"Rajdhani Express\"\n",
    "harryApplication.printData()"
   ]
  },
  {
   "cell_type": "code",
   "execution_count": 62,
   "id": "eb10753f",
   "metadata": {},
   "outputs": [
    {
     "name": "stdout",
     "output_type": "stream",
     "text": [
      "Google\n",
      "Google\n",
      "youtube\n",
      "youtube\n",
      "300\n",
      "400\n"
     ]
    }
   ],
   "source": [
    "\n",
    "# class attribute\n",
    "class Employee:\n",
    "    company = \"Google\"\n",
    "    salary = 100\n",
    "    \n",
    "harry = Employee()\n",
    "rajni = Employee()\n",
    "harry.salary = 300\n",
    "rajni.salary = 400\n",
    "print(harry.company)\n",
    "print(rajni.company)\n",
    "Employee.company = \"youtube\"\n",
    "print(harry.company)\n",
    "print(rajni.company)\n",
    "print(harry.salary)\n",
    "print(rajni.salary)\n",
    "# Name & salary of the employee is an instance attribute"
   ]
  },
  {
   "cell_type": "code",
   "execution_count": null,
   "id": "1bd10e50",
   "metadata": {},
   "outputs": [],
   "source": [
    " "
   ]
  },
  {
   "cell_type": "code",
   "execution_count": null,
   "id": "85a73b3b",
   "metadata": {},
   "outputs": [],
   "source": []
  },
  {
   "cell_type": "code",
   "execution_count": null,
   "id": "19878cad",
   "metadata": {},
   "outputs": [],
   "source": []
  },
  {
   "cell_type": "code",
   "execution_count": null,
   "id": "e3be93f9",
   "metadata": {},
   "outputs": [],
   "source": []
  },
  {
   "cell_type": "code",
   "execution_count": null,
   "id": "a33de736",
   "metadata": {},
   "outputs": [],
   "source": []
  },
  {
   "cell_type": "code",
   "execution_count": null,
   "id": "aebfb7d8",
   "metadata": {},
   "outputs": [],
   "source": []
  },
  {
   "cell_type": "code",
   "execution_count": 63,
   "id": "f178f3eb",
   "metadata": {},
   "outputs": [
    {
     "name": "stdout",
     "output_type": "stream",
     "text": [
      "9.433981132056603\n",
      "1.6\n"
     ]
    }
   ],
   "source": [
    "# Udemy Homework\n",
    "class Line:\n",
    "    \n",
    "    def __init__(self,coor1,coor2):\n",
    "        self.coor1 = coor1\n",
    "        self.coor2 = coor2\n",
    "    \n",
    "    def distance(self):\n",
    "        x1 , y1 = self.coor1\n",
    "        x2 , y2 = self.coor2   \n",
    "        return ((x2 - x1)**2 + (y2 - y1)**2)**0.5\n",
    "    \n",
    "    def slope(self):\n",
    "        x1 , y1 = self.coor1\n",
    "        x2 , y2 = self.coor2 \n",
    "        return ((y2 - y1)/(x2 - x1))\n",
    "    \n",
    "coor1 = (3,2)\n",
    "coor2 = (8,10)\n",
    "my_line = Line(coor1,coor2)\n",
    "\n",
    "z = my_line.distance()\n",
    "w = my_line.slope()\n",
    "print(z)\n",
    "print(w)"
   ]
  },
  {
   "cell_type": "code",
   "execution_count": 64,
   "id": "18fbf881",
   "metadata": {},
   "outputs": [
    {
     "name": "stdout",
     "output_type": "stream",
     "text": [
      "56.52\n",
      "94.2\n"
     ]
    }
   ],
   "source": [
    "# Udemy Homework\n",
    "class Cylinder:\n",
    "    \n",
    "    def __init__(self,height=1,radius=1):\n",
    "        self.height = height\n",
    "        self.radius = radius\n",
    "        \n",
    "    def volume(self):\n",
    "        r = self.radius\n",
    "        h = self.height\n",
    "        return (3.14*(r)**2*(h))\n",
    "    \n",
    "    def surface_area(self):\n",
    "        r = self.radius\n",
    "        h = self.height\n",
    "        return (2*(3.14)*r*h + 2*(3.14)*(r)**2)\n",
    "  \n",
    "mycylinder = Cylinder(2,3)\n",
    "x = mycylinder.volume()\n",
    "y = mycylinder.surface_area()\n",
    "print(x)\n",
    "print(y)"
   ]
  },
  {
   "cell_type": "code",
   "execution_count": 65,
   "id": "4e422b9d",
   "metadata": {},
   "outputs": [
    {
     "name": "stdout",
     "output_type": "stream",
     "text": [
      "Owner: Kaustubh \n",
      "Balance:100\n",
      "The Amount $50 has been credited from your bank account. your current balance is 50\n",
      "The Amount $400 has been deposited to your bank account. your current balance is 450\n",
      "Your account does not have sufficient Funds.\n"
     ]
    },
    {
     "data": {
      "text/plain": [
       "450"
      ]
     },
     "execution_count": 65,
     "metadata": {},
     "output_type": "execute_result"
    }
   ],
   "source": [
    "# Udemy challenge Homework\n",
    "class Account:\n",
    "    def __init__(self,name,balance):\n",
    "        self.name = name\n",
    "        self.balance = balance\n",
    "        \n",
    "    def deposit(self,dep_amount):\n",
    "        self.balance += dep_amount\n",
    "        print(f\"The Amount ${dep_amount} has been deposited to your bank account. your current balance is {self.balance}\")\n",
    "        \n",
    "    def withdraw(self,with_amount):\n",
    "        if with_amount <= self.balance:\n",
    "            self.balance -= with_amount\n",
    "            print(f\"The Amount ${with_amount} has been credited from your bank account. your current balance is {self.balance}\")\n",
    "        else:\n",
    "            print(\"Your account does not have sufficient Funds.\")\n",
    "    def __str__(self):\n",
    "        return f\"Owner: {self.name} \\nBalance:{self.balance}\"\n",
    "    \n",
    "            \n",
    "account1 = Account(\"Kaustubh\",100)\n",
    "print(account1)\n",
    "account1.withdraw(50)\n",
    "account1.deposit(400)\n",
    "account1.withdraw(500)\n",
    "account1.balance\n"
   ]
  },
  {
   "cell_type": "code",
   "execution_count": 66,
   "id": "c91607fd",
   "metadata": {},
   "outputs": [
    {
     "name": "stdout",
     "output_type": "stream",
     "text": [
      "[6, 7, 8, 9]\n"
     ]
    }
   ],
   "source": [
    "m_list = [i for i in range(10) if i>5]\n",
    "print(m_list)"
   ]
  },
  {
   "cell_type": "code",
   "execution_count": 67,
   "id": "638982f9",
   "metadata": {},
   "outputs": [
    {
     "name": "stdout",
     "output_type": "stream",
     "text": [
      "[False, False, True]\n"
     ]
    }
   ],
   "source": [
    "a,b = 1>2,2>3 \n",
    "my_li = [a,b,a==b];print(my_li)"
   ]
  },
  {
   "cell_type": "code",
   "execution_count": 1,
   "id": "527169b2",
   "metadata": {},
   "outputs": [
    {
     "ename": "NameError",
     "evalue": "name 'i' is not defined",
     "output_type": "error",
     "traceback": [
      "\u001b[1;31m---------------------------------------------------------------------------\u001b[0m",
      "\u001b[1;31mNameError\u001b[0m                                 Traceback (most recent call last)",
      "\u001b[1;32mC:\\Users\\KAUSTU~1\\AppData\\Local\\Temp/ipykernel_19036/1667747400.py\u001b[0m in \u001b[0;36m<module>\u001b[1;34m\u001b[0m\n\u001b[0;32m      1\u001b[0m \u001b[0mx\u001b[0m \u001b[1;33m=\u001b[0m \u001b[1;36m2\u001b[0m\u001b[1;33m\u001b[0m\u001b[1;33m\u001b[0m\u001b[0m\n\u001b[1;32m----> 2\u001b[1;33m \u001b[1;32mfor\u001b[0m \u001b[0mi\u001b[0m \u001b[1;32min\u001b[0m \u001b[0mrange\u001b[0m\u001b[1;33m(\u001b[0m\u001b[0mi\u001b[0m\u001b[1;33m<\u001b[0m\u001b[1;36m2\u001b[0m\u001b[1;33m)\u001b[0m\u001b[1;33m:\u001b[0m\u001b[1;33m\u001b[0m\u001b[1;33m\u001b[0m\u001b[0m\n\u001b[0m\u001b[0;32m      3\u001b[0m     \u001b[0mi\u001b[0m \u001b[1;33m=\u001b[0m \u001b[0mi\u001b[0m\u001b[1;33m+\u001b[0m\u001b[1;36m3\u001b[0m\u001b[1;33m\u001b[0m\u001b[1;33m\u001b[0m\u001b[0m\n\u001b[0;32m      4\u001b[0m \u001b[0mprint\u001b[0m\u001b[1;33m(\u001b[0m\u001b[0mi\u001b[0m\u001b[1;33m)\u001b[0m\u001b[1;33m\u001b[0m\u001b[1;33m\u001b[0m\u001b[0m\n",
      "\u001b[1;31mNameError\u001b[0m: name 'i' is not defined"
     ]
    }
   ],
   "source": [
    "x = 2\n",
    "for i in range(i<2):\n",
    "    i = i+3\n",
    "print(i)"
   ]
  },
  {
   "cell_type": "code",
   "execution_count": 16,
   "id": "e65e692f",
   "metadata": {},
   "outputs": [
    {
     "name": "stdout",
     "output_type": "stream",
     "text": [
      "7\n"
     ]
    }
   ],
   "source": [
    "def unpack(p,q,r,s):\n",
    "    print(p + s)\n",
    "a = [2,3,1,5]\n",
    "unpack(*a)"
   ]
  },
  {
   "cell_type": "code",
   "execution_count": 18,
   "id": "1afb472b",
   "metadata": {},
   "outputs": [
    {
     "name": "stdout",
     "output_type": "stream",
     "text": [
      "1\n",
      "Item are: \n",
      "1\n",
      "2\n",
      "3\n",
      "2\n",
      "Item are: \n",
      "1\n",
      "2\n",
      "3\n",
      "3\n",
      "Item are: \n",
      "1\n",
      "2\n",
      "3\n"
     ]
    }
   ],
   "source": [
    "items = [1,2,3]\n",
    "for item in items:\n",
    "    print(item)\n",
    "    # can be written in this way\n",
    "    print(\"Item are: \",*items,sep='\\n')"
   ]
  },
  {
   "cell_type": "code",
   "execution_count": null,
   "id": "97547a2f",
   "metadata": {},
   "outputs": [],
   "source": []
  }
 ],
 "metadata": {
  "kernelspec": {
   "display_name": "Python 3 (ipykernel)",
   "language": "python",
   "name": "python3"
  },
  "language_info": {
   "codemirror_mode": {
    "name": "ipython",
    "version": 3
   },
   "file_extension": ".py",
   "mimetype": "text/x-python",
   "name": "python",
   "nbconvert_exporter": "python",
   "pygments_lexer": "ipython3",
   "version": "3.8.12"
  }
 },
 "nbformat": 4,
 "nbformat_minor": 5
}
